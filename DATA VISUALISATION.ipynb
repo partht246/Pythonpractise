{
 "cells": [
  {
   "cell_type": "code",
   "execution_count": null,
   "id": "cf2601a1",
   "metadata": {},
   "outputs": [],
   "source": [
    "import pandas as pd\n",
    "import numpy as np"
   ]
  },
  {
   "cell_type": "code",
   "execution_count": null,
   "id": "56df5132",
   "metadata": {},
   "outputs": [],
   "source": [
    "import matplotlib.pyplot as plt\n",
    "import seaborn as sns\n",
    "%matplotlib inline"
   ]
  },
  {
   "cell_type": "code",
   "execution_count": null,
   "id": "e8c8ad83",
   "metadata": {},
   "outputs": [],
   "source": [
    "import cufflinks as cf\n",
    "cf.go_offline()\n",
    "import chart_studio.plotly as py\n",
    "import plotly.graph_objs as go\n",
    "from plotly.offline import download_plotlyjs,init_notebook_mode,iplot,plot\n",
    "init_notebook_mode(True)"
   ]
  },
  {
   "cell_type": "code",
   "execution_count": null,
   "id": "dcb4c487",
   "metadata": {},
   "outputs": [],
   "source": [
    "d = dict(type = 'choropleth',\n",
    "        locations = ['INDIA','PAKISTAN','CHINA'],\n",
    "        locationmode = 'country names',\n",
    "        colorscale='Reds',\n",
    "        z = [input('Enter Indias value' ),input('Enter laikas values'),input('Enter haamars cheen value')],\n",
    "        text = ['FATHER', 'LAIKA', 'HAMARCHEEN'],\n",
    "        colorbar = dict(title = 'Colorbar Title'))"
   ]
  },
  {
   "cell_type": "code",
   "execution_count": null,
   "id": "78b3e3f4",
   "metadata": {},
   "outputs": [],
   "source": [
    "layout = dict(geo = {'scope':'asia',\n",
    "                    'showrivers':True,\n",
    "                    'showocean':True,\n",
    "                    'showlakes':True,\n",
    "                    'showcountries':True})"
   ]
  },
  {
   "cell_type": "code",
   "execution_count": null,
   "id": "5e77dd52",
   "metadata": {},
   "outputs": [],
   "source": [
    "Cmap = go.Figure(data = d,layout = layout)"
   ]
  },
  {
   "cell_type": "code",
   "execution_count": null,
   "id": "c5a91767",
   "metadata": {},
   "outputs": [],
   "source": [
    "Cmap.iplot()"
   ]
  },
  {
   "cell_type": "code",
   "execution_count": null,
   "id": "437484f2",
   "metadata": {},
   "outputs": [],
   "source": []
  },
  {
   "cell_type": "code",
   "execution_count": null,
   "id": "3be7a84b",
   "metadata": {},
   "outputs": [],
   "source": []
  }
 ],
 "metadata": {
  "kernelspec": {
   "display_name": "Python 3 (ipykernel)",
   "language": "python",
   "name": "python3"
  },
  "language_info": {
   "codemirror_mode": {
    "name": "ipython",
    "version": 3
   },
   "file_extension": ".py",
   "mimetype": "text/x-python",
   "name": "python",
   "nbconvert_exporter": "python",
   "pygments_lexer": "ipython3",
   "version": "3.10.1"
  }
 },
 "nbformat": 4,
 "nbformat_minor": 5
}
