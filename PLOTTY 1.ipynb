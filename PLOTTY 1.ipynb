{
 "cells": [
  {
   "cell_type": "code",
   "execution_count": 2,
   "id": "b2888667",
   "metadata": {},
   "outputs": [],
   "source": [
    "import pandas as pd\n",
    "import numpy as np"
   ]
  },
  {
   "cell_type": "code",
   "execution_count": null,
   "id": "22de5567",
   "metadata": {},
   "outputs": [],
   "source": [
    "%matplotlib inline"
   ]
  },
  {
   "cell_type": "code",
   "execution_count": 3,
   "id": "2ccbcfb8",
   "metadata": {},
   "outputs": [],
   "source": [
    "from plotly import __version__"
   ]
  },
  {
   "cell_type": "code",
   "execution_count": 4,
   "id": "3ee62c92",
   "metadata": {},
   "outputs": [
    {
     "name": "stdout",
     "output_type": "stream",
     "text": [
      "5.5.0\n"
     ]
    }
   ],
   "source": [
    "print(__version__)"
   ]
  },
  {
   "cell_type": "code",
   "execution_count": 5,
   "id": "2dd177d7",
   "metadata": {},
   "outputs": [],
   "source": [
    "import cufflinks as cf"
   ]
  },
  {
   "cell_type": "code",
   "execution_count": 6,
   "id": "31b2bb49",
   "metadata": {},
   "outputs": [],
   "source": [
    "from plotly.offline import download_plotlyjs,init_notebook_mode,plot,iplot"
   ]
  },
  {
   "cell_type": "code",
   "execution_count": 7,
   "id": "62e57e6a",
   "metadata": {},
   "outputs": [
    {
     "data": {
      "text/html": [
       "        <script type=\"text/javascript\">\n",
       "        window.PlotlyConfig = {MathJaxConfig: 'local'};\n",
       "        if (window.MathJax) {MathJax.Hub.Config({SVG: {font: \"STIX-Web\"}});}\n",
       "        if (typeof require !== 'undefined') {\n",
       "        require.undef(\"plotly\");\n",
       "        requirejs.config({\n",
       "            paths: {\n",
       "                'plotly': ['https://cdn.plot.ly/plotly-2.8.3.min']\n",
       "            }\n",
       "        });\n",
       "        require(['plotly'], function(Plotly) {\n",
       "            window._Plotly = Plotly;\n",
       "        });\n",
       "        }\n",
       "        </script>\n",
       "        "
      ]
     },
     "metadata": {},
     "output_type": "display_data"
    }
   ],
   "source": [
    "init_notebook_mode(connected=True)"
   ]
  },
  {
   "cell_type": "code",
   "execution_count": 8,
   "id": "a9809982",
   "metadata": {},
   "outputs": [
    {
     "data": {
      "text/html": [
       "        <script type=\"text/javascript\">\n",
       "        window.PlotlyConfig = {MathJaxConfig: 'local'};\n",
       "        if (window.MathJax) {MathJax.Hub.Config({SVG: {font: \"STIX-Web\"}});}\n",
       "        if (typeof require !== 'undefined') {\n",
       "        require.undef(\"plotly\");\n",
       "        requirejs.config({\n",
       "            paths: {\n",
       "                'plotly': ['https://cdn.plot.ly/plotly-2.8.3.min']\n",
       "            }\n",
       "        });\n",
       "        require(['plotly'], function(Plotly) {\n",
       "            window._Plotly = Plotly;\n",
       "        });\n",
       "        }\n",
       "        </script>\n",
       "        "
      ]
     },
     "metadata": {},
     "output_type": "display_data"
    }
   ],
   "source": [
    "cf.go_offline()"
   ]
  },
  {
   "cell_type": "code",
   "execution_count": 10,
   "id": "526a7c8d",
   "metadata": {},
   "outputs": [],
   "source": [
    "df = pd.DataFrame(np.random.randn(100,4),columns = ['A','B','C','D'])"
   ]
  },
  {
   "cell_type": "code",
   "execution_count": 11,
   "id": "a87fb942",
   "metadata": {},
   "outputs": [],
   "source": [
    "df2 = pd.DataFrame({'Category':['A','B','C'],'Values':[32,43,50]})"
   ]
  },
  {
   "cell_type": "code",
   "execution_count": 12,
   "id": "95dbf85a",
   "metadata": {},
   "outputs": [
    {
     "data": {
      "text/html": [
       "<div>\n",
       "<style scoped>\n",
       "    .dataframe tbody tr th:only-of-type {\n",
       "        vertical-align: middle;\n",
       "    }\n",
       "\n",
       "    .dataframe tbody tr th {\n",
       "        vertical-align: top;\n",
       "    }\n",
       "\n",
       "    .dataframe thead th {\n",
       "        text-align: right;\n",
       "    }\n",
       "</style>\n",
       "<table border=\"1\" class=\"dataframe\">\n",
       "  <thead>\n",
       "    <tr style=\"text-align: right;\">\n",
       "      <th></th>\n",
       "      <th>Category</th>\n",
       "      <th>Values</th>\n",
       "    </tr>\n",
       "  </thead>\n",
       "  <tbody>\n",
       "    <tr>\n",
       "      <th>0</th>\n",
       "      <td>A</td>\n",
       "      <td>32</td>\n",
       "    </tr>\n",
       "    <tr>\n",
       "      <th>1</th>\n",
       "      <td>B</td>\n",
       "      <td>43</td>\n",
       "    </tr>\n",
       "    <tr>\n",
       "      <th>2</th>\n",
       "      <td>C</td>\n",
       "      <td>50</td>\n",
       "    </tr>\n",
       "  </tbody>\n",
       "</table>\n",
       "</div>"
      ],
      "text/plain": [
       "  Category  Values\n",
       "0        A      32\n",
       "1        B      43\n",
       "2        C      50"
      ]
     },
     "execution_count": 12,
     "metadata": {},
     "output_type": "execute_result"
    }
   ],
   "source": [
    "df2"
   ]
  },
  {
   "cell_type": "code",
   "execution_count": 13,
   "id": "6dc60edb",
   "metadata": {},
   "outputs": [
    {
     "data": {
      "text/html": [
       "<div>\n",
       "<style scoped>\n",
       "    .dataframe tbody tr th:only-of-type {\n",
       "        vertical-align: middle;\n",
       "    }\n",
       "\n",
       "    .dataframe tbody tr th {\n",
       "        vertical-align: top;\n",
       "    }\n",
       "\n",
       "    .dataframe thead th {\n",
       "        text-align: right;\n",
       "    }\n",
       "</style>\n",
       "<table border=\"1\" class=\"dataframe\">\n",
       "  <thead>\n",
       "    <tr style=\"text-align: right;\">\n",
       "      <th></th>\n",
       "      <th>A</th>\n",
       "      <th>B</th>\n",
       "      <th>C</th>\n",
       "      <th>D</th>\n",
       "    </tr>\n",
       "  </thead>\n",
       "  <tbody>\n",
       "    <tr>\n",
       "      <th>0</th>\n",
       "      <td>0.720602</td>\n",
       "      <td>0.479000</td>\n",
       "      <td>-0.171054</td>\n",
       "      <td>-0.774586</td>\n",
       "    </tr>\n",
       "    <tr>\n",
       "      <th>1</th>\n",
       "      <td>0.600148</td>\n",
       "      <td>-0.533913</td>\n",
       "      <td>0.676112</td>\n",
       "      <td>0.504204</td>\n",
       "    </tr>\n",
       "    <tr>\n",
       "      <th>2</th>\n",
       "      <td>0.410436</td>\n",
       "      <td>-0.255123</td>\n",
       "      <td>-0.636490</td>\n",
       "      <td>0.116532</td>\n",
       "    </tr>\n",
       "    <tr>\n",
       "      <th>3</th>\n",
       "      <td>1.597076</td>\n",
       "      <td>0.750062</td>\n",
       "      <td>0.506838</td>\n",
       "      <td>-1.195923</td>\n",
       "    </tr>\n",
       "    <tr>\n",
       "      <th>4</th>\n",
       "      <td>-1.293662</td>\n",
       "      <td>1.063923</td>\n",
       "      <td>0.858756</td>\n",
       "      <td>-0.272927</td>\n",
       "    </tr>\n",
       "    <tr>\n",
       "      <th>...</th>\n",
       "      <td>...</td>\n",
       "      <td>...</td>\n",
       "      <td>...</td>\n",
       "      <td>...</td>\n",
       "    </tr>\n",
       "    <tr>\n",
       "      <th>95</th>\n",
       "      <td>0.242011</td>\n",
       "      <td>-1.418363</td>\n",
       "      <td>-0.142345</td>\n",
       "      <td>-0.927447</td>\n",
       "    </tr>\n",
       "    <tr>\n",
       "      <th>96</th>\n",
       "      <td>-1.714483</td>\n",
       "      <td>1.045032</td>\n",
       "      <td>1.334366</td>\n",
       "      <td>0.842865</td>\n",
       "    </tr>\n",
       "    <tr>\n",
       "      <th>97</th>\n",
       "      <td>0.423836</td>\n",
       "      <td>0.155286</td>\n",
       "      <td>1.158057</td>\n",
       "      <td>0.002146</td>\n",
       "    </tr>\n",
       "    <tr>\n",
       "      <th>98</th>\n",
       "      <td>0.601772</td>\n",
       "      <td>0.451126</td>\n",
       "      <td>-0.658885</td>\n",
       "      <td>-0.767721</td>\n",
       "    </tr>\n",
       "    <tr>\n",
       "      <th>99</th>\n",
       "      <td>-0.650898</td>\n",
       "      <td>-0.184860</td>\n",
       "      <td>0.727864</td>\n",
       "      <td>1.151708</td>\n",
       "    </tr>\n",
       "  </tbody>\n",
       "</table>\n",
       "<p>100 rows × 4 columns</p>\n",
       "</div>"
      ],
      "text/plain": [
       "           A         B         C         D\n",
       "0   0.720602  0.479000 -0.171054 -0.774586\n",
       "1   0.600148 -0.533913  0.676112  0.504204\n",
       "2   0.410436 -0.255123 -0.636490  0.116532\n",
       "3   1.597076  0.750062  0.506838 -1.195923\n",
       "4  -1.293662  1.063923  0.858756 -0.272927\n",
       "..       ...       ...       ...       ...\n",
       "95  0.242011 -1.418363 -0.142345 -0.927447\n",
       "96 -1.714483  1.045032  1.334366  0.842865\n",
       "97  0.423836  0.155286  1.158057  0.002146\n",
       "98  0.601772  0.451126 -0.658885 -0.767721\n",
       "99 -0.650898 -0.184860  0.727864  1.151708\n",
       "\n",
       "[100 rows x 4 columns]"
      ]
     },
     "execution_count": 13,
     "metadata": {},
     "output_type": "execute_result"
    }
   ],
   "source": [
    "df"
   ]
  },
  {
   "cell_type": "code",
   "execution_count": 14,
   "id": "d42a3495",
   "metadata": {},
   "outputs": [
    {
     "data": {
      "text/plain": [
       "<AxesSubplot:>"
      ]
     },
     "execution_count": 14,
     "metadata": {},
     "output_type": "execute_result"
    },
    {
     "data": {
      "image/png": "[encoded data removed]",
      "text/plain": [
       "<Figure size 432x288 with 1 Axes>"
      ]
     },
     "metadata": {
      "needs_background": "light"
     },
     "output_type": "display_data"
    }
   ],
   "source": [
    "df.plot()"
   ]
  },
  {
   "cell_type": "code",
   "execution_count": 16,
   "id": "60502daf",
   "metadata": {},
   "outputs": [
    {
     "data": {
      "application/vnd.plotly.v1+json": {
       "config": {
        "linkText": "Export to plot.ly",
        "plotlyServerURL": "https://plot.ly",
        "showLink": true
       },
       "data": [
        {
         "line": {
          "color": "rgba(255, 153, 51, 1.0)",
          "dash": "solid",
          "shape": "linear",
          "width": 1.3
         },
         "mode": "lines",
         "name": "A",
         "text": "",
         "type": "scatter",
         "x": [
          0,
          1,
          2,
          3,
          4,
          5,
          6,
          7,
          8,
          9,
          10,
          11,
          12,
          13,
          14,
          15,
          16,
          17,
          18,
          19,
          20,
          21,
          22,
          23,
          24,
          25,
          26,
          27,
          28,
          29,
          30,
          31,
          32,
          33,
          34,
          35,
          36,
          37,
          38,
          39,
          40,
          41,
          42,
          43,
          44,
          45,
          46,
          47,
          48,
          49,
          50,
          51,
          52,
          53,
          54,
          55,
          56,
          57,
          58,
          59,
          60,
          61,
          62,
          63,
          64,
          65,
          66,
          67,
          68,
          69,
          70,
          71,
          72,
          73,
          74,
          75,
          76,
          77,
          78,
          79,
          80,
          81,
          82,
          83,
          84,
          85,
          86,
          87,
          88,
          89,
          90,
          91,
          92,
          93,
          94,
          95,
          96,
          97,
          98,
          99
         ],
         "y": [
          0.7206021595231069,
          0.600148426769176,
          0.4104359743616993,
          1.5970755667006848,
          -1.2936619515577568,
          -0.8247653726117883,
          0.8635716441218286,
          0.9641754730341981,
          -0.023983744104136718,
          0.8936011658880695,
          -0.3997818395932563,
          -0.6968882043136051,
          -1.163879408522421,
          0.24301016267096173,
          1.5061934436070503,
          2.2293327935101708,
          -1.2735706894259167,
          0.07670212200171866,
          0.42749763295537124,
          -0.8362156804531724,
          0.23760756881529357,
          0.6125021013936939,
          0.9474786308756106,
          0.5792285211320449,
          -0.022141338115392657,
          0.1780786293235384,
          -0.4378983347210052,
          -1.9641912957964793,
          0.5884103102817879,
          1.2261746210124682,
          0.36692568501522266,
          0.5338772876220805,
          -1.0129881243922954,
          -0.05828206366226157,
          -0.4542632899292565,
          -0.9545712927080492,
          -0.4462063781298266,
          1.7850698534429827,
          -1.5714742286027275,
          -1.700569442248487,
          -0.7669013707864606,
          -3.131367504486959,
          -1.059983984922948,
          1.4162638414930868,
          1.6704485316623467,
          -0.939130190447798,
          0.8100608368265246,
          1.4254927278950735,
          0.28241386798408846,
          -0.20653442472757128,
          -1.745147679318256,
          -1.6430798662212416,
          1.3845799049888303,
          -1.378963965645226,
          -0.519571255210273,
          1.4442675469554762,
          -0.5705819989697787,
          -0.5135575214998415,
          -0.7725119707973551,
          0.4520162047149358,
          -0.7274765115358929,
          -1.3402720744289112,
          0.9327244040593339,
          -0.8271541013442341,
          -1.2064204344555705,
          0.3696430003742275,
          0.23974555131411265,
          -1.68529161912587,
          0.5231163706104487,
          0.6402595816400246,
          -0.043905994702309624,
          0.4468550288425965,
          0.37837924503019776,
          -0.033244845954011386,
          -1.1977701838216634,
          0.39756580016298637,
          -0.7081412455264934,
          0.5402103482032428,
          -1.8552901543432505,
          1.0089939294346084,
          1.587105528275671,
          -0.5601097082171755,
          0.11665409539915697,
          -0.5745241401224672,
          -2.558207307961996,
          -0.5339083790451622,
          -1.4864995681419446,
          -0.2949479595475197,
          0.6295343657985574,
          0.42971820599591787,
          1.5498386531740298,
          0.5916490519789844,
          -0.3998257461066869,
          1.9127966678340154,
          0.30283673972582165,
          0.24201125897767198,
          -1.7144830491064178,
          0.4238364675698964,
          0.60177217016106,
          -0.6508979705447588
         ]
        },
        {
         "line": {
          "color": "rgba(55, 128, 191, 1.0)",
          "dash": "solid",
          "shape": "linear",
          "width": 1.3
         },
         "mode": "lines",
         "name": "B",
         "text": "",
         "type": "scatter",
         "x": [
          0,
          1,
          2,
          3,
          4,
          5,
          6,
          7,
          8,
          9,
          10,
          11,
          12,
          13,
          14,
          15,
          16,
          17,
          18,
          19,
          20,
          21,
          22,
          23,
          24,
          25,
          26,
          27,
          28,
          29,
          30,
          31,
          32,
          33,
          34,
          35,
          36,
          37,
          38,
          39,
          40,
          41,
          42,
          43,
          44,
          45,
          46,
          47,
          48,
          49,
          50,
          51,
          52,
          53,
          54,
          55,
          56,
          57,
          58,
          59,
          60,
          61,
          62,
          63,
          64,
          65,
          66,
          67,
          68,
          69,
          70,
          71,
          72,
          73,
          74,
          75,
          76,
          77,
          78,
          79,
          80,
          81,
          82,
          83,
          84,
          85,
          86,
          87,
          88,
          89,
          90,
          91,
          92,
          93,
          94,
          95,
          96,
          97,
          98,
          99
         ],
         "y": [
          0.4790002364284842,
          -0.5339133712050166,
          -0.2551232292121737,
          0.7500620133948723,
          1.0639226831377517,
          0.3028647755916625,
          0.0977690423356316,
          -0.3951140303210251,
          -0.9550331925745601,
          -0.7764745770247691,
          -1.4300120636784552,
          0.722590320396416,
          0.06063841933463821,
          0.03610652845611828,
          -0.537856030516011,
          -0.078808592696729,
          -0.3114260012747389,
          -0.8941588607600373,
          -0.5808384159219051,
          0.3834337532738288,
          0.483711206092414,
          1.6829763180132218,
          -0.8919742536174792,
          0.950467512521074,
          -0.08625549152922969,
          1.2167158329958416,
          -0.033911930360870084,
          -1.9700550067826965,
          -0.02574803290346344,
          0.3794547728684391,
          -1.4103559279651778,
          1.0208301284403738,
          -1.6901429429533048,
          1.5697762867784217,
          -1.1365048100216353,
          -0.16786990398521856,
          -1.3683080519549378,
          0.6732207688411338,
          -0.724524608367036,
          -1.6556190684717973,
          1.405498473751612,
          -1.585448471793164,
          0.39518907167519784,
          0.15531514996168058,
          -0.4328193574850774,
          -0.8375570848807239,
          2.0230704348373942,
          -0.17582755292970423,
          1.9225970664687468,
          -1.5139377738915847,
          -0.4490913077935091,
          1.2021633853196803,
          -1.1047775425974564,
          0.7485099120378153,
          -0.8506817463527888,
          -0.1508540110465642,
          -0.4806223905826818,
          -0.009409878169259062,
          -0.13773066448041185,
          0.9187758383578031,
          0.24586887682641126,
          -0.4105378015561218,
          0.7002100378602496,
          1.0152904608914048,
          -0.05662237441840279,
          -1.1519555057371014,
          0.47741060260304125,
          -0.9356334286067687,
          -0.2816607396441667,
          1.2079854210569332,
          -0.9374091758648114,
          0.33622495387200485,
          0.017240232316663457,
          0.6281700912130026,
          -1.001311001407909,
          -0.01697870692670627,
          -1.6009597764633763,
          0.12951776927639422,
          -0.4318016346568667,
          0.6446717409546772,
          -1.765416896232608,
          -0.6206312391014545,
          -0.5616885246922951,
          1.5158834462222572,
          0.40289717199054675,
          0.7031019990192451,
          -0.7247400440690024,
          -2.2789079087356514,
          0.9516348236040112,
          0.5500106106728779,
          -0.6256799087748532,
          -1.2447989248999347,
          -1.5713689300682712,
          1.6189765467065518,
          -0.352213379315518,
          -1.418362779696527,
          1.0450315791300482,
          0.15528639631566069,
          0.4511257837375593,
          -0.18485970986316355
         ]
        },
        {
         "line": {
          "color": "rgba(50, 171, 96, 1.0)",
          "dash": "solid",
          "shape": "linear",
          "width": 1.3
         },
         "mode": "lines",
         "name": "C",
         "text": "",
         "type": "scatter",
         "x": [
          0,
          1,
          2,
          3,
          4,
          5,
          6,
          7,
          8,
          9,
          10,
          11,
          12,
          13,
          14,
          15,
          16,
          17,
          18,
          19,
          20,
          21,
          22,
          23,
          24,
          25,
          26,
          27,
          28,
          29,
          30,
          31,
          32,
          33,
          34,
          35,
          36,
          37,
          38,
          39,
          40,
          41,
          42,
          43,
          44,
          45,
          46,
          47,
          48,
          49,
          50,
          51,
          52,
          53,
          54,
          55,
          56,
          57,
          58,
          59,
          60,
          61,
          62,
          63,
          64,
          65,
          66,
          67,
          68,
          69,
          70,
          71,
          72,
          73,
          74,
          75,
          76,
          77,
          78,
          79,
          80,
          81,
          82,
          83,
          84,
          85,
          86,
          87,
          88,
          89,
          90,
          91,
          92,
          93,
          94,
          95,
          96,
          97,
          98,
          99
         ],
         "y": [
          -0.1710539717238674,
          0.6761120036186342,
          -0.6364901882466849,
          0.5068375166337368,
          0.8587563554081904,
          0.8815777839520635,
          1.7981957622905946,
          0.23629650342768097,
          -1.2654142235465151,
          0.9985852638112375,
          1.0140967677490105,
          1.9213050225984043,
          1.147118897460104,
          -0.5571080126333299,
          -1.5966228700302354,
          0.7799340936002608,
          -0.9773101083967402,
          1.197839159404519,
          -1.5107967182448119,
          -0.13519320205885943,
          -0.11407554694339425,
          0.0416244963029414,
          -0.11694785669789755,
          0.32555050158578663,
          -0.581746887771692,
          0.7537911994443084,
          -0.5051520940880653,
          -3.1224181613669932,
          0.25322090179614604,
          -1.709347508989651,
          -0.574636669754101,
          0.0307936632530043,
          -1.2285030245784847,
          0.2656927014665348,
          -0.3068950514033596,
          0.13240715579408738,
          0.8374575862869191,
          -1.3021623768791744,
          -1.819165996897542,
          -0.7589988455347925,
          -0.37555023383268366,
          0.17703412808151636,
          0.9212274812957582,
          2.235090436534782,
          0.22806047835346205,
          -0.15965213524816327,
          -1.8462801463145255,
          -0.5847352598471942,
          0.33665541167019086,
          0.7156454581545579,
          0.4518459352615333,
          0.3768602525240975,
          -1.0481059079241228,
          0.9391230146671161,
          -0.81760338429349,
          -1.8081487207564184,
          0.17743167887350544,
          1.039677816301545,
          -0.49954238815551105,
          -1.42924711355474,
          1.3219961035554446,
          -0.9393760389550331,
          0.3283685130185671,
          -0.23167200407406047,
          1.709823808775834,
          0.43803745965810165,
          0.8056695588712278,
          -0.8815625206777283,
          0.8010039094881437,
          0.7753082267979359,
          -0.6605696943285191,
          -0.40442949350905255,
          2.20673145237434,
          2.2480674660485405,
          2.60938032100713,
          0.543699479190823,
          0.1969871874266927,
          -0.15677733024887777,
          0.6339198380731179,
          1.4695236211918865,
          -0.46258878245316276,
          -1.417929581243472,
          -0.6428942336220342,
          -1.8015303901752648,
          -1.0836442298731181,
          0.7834492930937946,
          1.4690474511013203,
          -0.5667873756382681,
          -0.81138244564651,
          0.9312761917561393,
          0.8170173053211249,
          -0.2515329718182992,
          -0.7498444640254841,
          -1.051743373588905,
          0.004355898780761671,
          -0.14234496449937195,
          1.3343658157166423,
          1.1580565675560939,
          -0.6588853733842952,
          0.7278643918332525
         ]
        },
        {
         "line": {
          "color": "rgba(128, 0, 128, 1.0)",
          "dash": "solid",
          "shape": "linear",
          "width": 1.3
         },
         "mode": "lines",
         "name": "D",
         "text": "",
         "type": "scatter",
         "x": [
          0,
          1,
          2,
          3,
          4,
          5,
          6,
          7,
          8,
          9,
          10,
          11,
          12,
          13,
          14,
          15,
          16,
          17,
          18,
          19,
          20,
          21,
          22,
          23,
          24,
          25,
          26,
          27,
          28,
          29,
          30,
          31,
          32,
          33,
          34,
          35,
          36,
          37,
          38,
          39,
          40,
          41,
          42,
          43,
          44,
          45,
          46,
          47,
          48,
          49,
          50,
          51,
          52,
          53,
          54,
          55,
          56,
          57,
          58,
          59,
          60,
          61,
          62,
          63,
          64,
          65,
          66,
          67,
          68,
          69,
          70,
          71,
          72,
          73,
          74,
          75,
          76,
          77,
          78,
          79,
          80,
          81,
          82,
          83,
          84,
          85,
          86,
          87,
          88,
          89,
          90,
          91,
          92,
          93,
          94,
          95,
          96,
          97,
          98,
          99
         ],
         "y": [
          -0.7745862644908448,
          0.5042041435436856,
          0.11653223204023365,
          -1.1959229444741741,
          -0.27292696862939264,
          0.9223229138279102,
          -0.0846199316096227,
          0.01953093084833903,
          0.6355269183584646,
          0.6666909985417896,
          0.6043012254606308,
          0.27396348046715746,
          -2.629516675257851,
          0.2797430559701173,
          0.4514205345986516,
          -0.7914312739174943,
          0.19240316995779333,
          1.4023278833167279,
          0.9432499771843861,
          1.100283579418994,
          -2.6576910228587836,
          1.220608012005847,
          0.4463762203629547,
          1.0628130916520049,
          -0.08333665257748994,
          -0.8198554339209732,
          0.08681325176953446,
          0.002710946088567911,
          -0.9134745712232382,
          -1.3781752896942985,
          -0.49077781599685016,
          0.7299785382485134,
          -0.374019643846917,
          0.43339476120969894,
          2.1120018359857964,
          -0.07222056301967658,
          -1.118430611101756,
          0.4993823157143268,
          0.7955688060257385,
          -0.3882653775714211,
          0.8007652045697838,
          -1.643699036934892,
          -1.9886441019258725,
          1.4829454813526062,
          -0.9416601411402572,
          0.15063360347531604,
          0.14947421761858792,
          -0.060953335646296604,
          0.35351471505754173,
          -0.08085370059267592,
          -1.0652731210957525,
          -1.4754535838547946,
          0.6744817451168268,
          -1.8282248056546728,
          0.23187428799008547,
          -1.4106370686259977,
          -0.11648195669724136,
          -0.5618073610721529,
          0.2428333967215472,
          0.5161467385849521,
          0.948845713709916,
          0.07121176051622159,
          -0.2594612478430401,
          0.5682260787378328,
          0.6442418035769039,
          0.16342408166701317,
          0.6225775683828786,
          -1.5409881668264611,
          -0.3367059484787146,
          0.3606308288750878,
          0.24475939866764343,
          1.6498950074974856,
          -1.1609072949372032,
          -1.240376311437029,
          -1.3595294482528577,
          -0.4989867375652803,
          -0.994521889530649,
          0.5238788685754128,
          -0.5126883562085743,
          1.638572633652777,
          1.1704216773919038,
          -0.3892984266145127,
          -1.9701693154051056,
          0.9541009998491473,
          -0.38294091155112997,
          -0.37783741567692064,
          0.007545114995654143,
          1.0102458239343455,
          -0.08041770515079398,
          -0.4099862221534074,
          -0.839011880668791,
          -0.8332599606848795,
          -1.058238678493066,
          -0.8706724320299088,
          -0.5342859606428391,
          -0.9274468507913998,
          0.8428645004405348,
          0.0021456148799246432,
          -0.7677208360543195,
          1.1517078376841599
         ]
        }
       ],
       "layout": {
        "legend": {
         "bgcolor": "#F5F6F9",
         "font": {
          "color": "#4D5663"
         }
        },
        "paper_bgcolor": "#F5F6F9",
        "plot_bgcolor": "#F5F6F9",
        "template": {
         "data": {
          "bar": [
           {
            "error_x": {
             "color": "#2a3f5f"
            },
            "error_y": {
             "color": "#2a3f5f"
            },
            "marker": {
             "line": {
              "color": "#E5ECF6",
              "width": 0.5
             },
             "pattern": {
              "fillmode": "overlay",
              "size": 10,
              "solidity": 0.2
             }
            },
            "type": "bar"
           }
          ],
          "barpolar": [
           {
            "marker": {
             "line": {
              "color": "#E5ECF6",
              "width": 0.5
             },
             "pattern": {
              "fillmode": "overlay",
              "size": 10,
              "solidity": 0.2
             }
            },
            "type": "barpolar"
           }
          ],
          "carpet": [
           {
            "aaxis": {
             "endlinecolor": "#2a3f5f",
             "gridcolor": "white",
             "linecolor": "white",
             "minorgridcolor": "white",
             "startlinecolor": "#2a3f5f"
            },
            "baxis": {
             "endlinecolor": "#2a3f5f",
             "gridcolor": "white",
             "linecolor": "white",
             "minorgridcolor": "white",
             "startlinecolor": "#2a3f5f"
            },
            "type": "carpet"
           }
          ],
          "choropleth": [
           {
            "colorbar": {
             "outlinewidth": 0,
             "ticks": ""
            },
            "type": "choropleth"
           }
          ],
          "contour": [
           {
            "colorbar": {
             "outlinewidth": 0,
             "ticks": ""
            },
            "colorscale": [
             [
              0,
              "#0d0887"
             ],
             [
              0.1111111111111111,
              "#46039f"
             ],
             [
              0.2222222222222222,
              "#7201a8"
             ],
             [
              0.3333333333333333,
              "#9c179e"
             ],
             [
              0.4444444444444444,
              "#bd3786"
             ],
             [
              0.5555555555555556,
              "#d8576b"
             ],
             [
              0.6666666666666666,
              "#ed7953"
             ],
             [
              0.7777777777777778,
              "#fb9f3a"
             ],
             [
              0.8888888888888888,
              "#fdca26"
             ],
             [
              1,
              "#f0f921"
             ]
            ],
            "type": "contour"
           }
          ],
          "contourcarpet": [
           {
            "colorbar": {
             "outlinewidth": 0,
             "ticks": ""
            },
            "type": "contourcarpet"
           }
          ],
          "heatmap": [
           {
            "colorbar": {
             "outlinewidth": 0,
             "ticks": ""
            },
            "colorscale": [
             [
              0,
              "#0d0887"
             ],
             [
              0.1111111111111111,
              "#46039f"
             ],
             [
              0.2222222222222222,
              "#7201a8"
             ],
             [
              0.3333333333333333,
              "#9c179e"
             ],
             [
              0.4444444444444444,
              "#bd3786"
             ],
             [
              0.5555555555555556,
              "#d8576b"
             ],
             [
              0.6666666666666666,
              "#ed7953"
             ],
             [
              0.7777777777777778,
              "#fb9f3a"
             ],
             [
              0.8888888888888888,
              "#fdca26"
             ],
             [
              1,
              "#f0f921"
             ]
            ],
            "type": "heatmap"
           }
          ],
          "heatmapgl": [
           {
            "colorbar": {
             "outlinewidth": 0,
             "ticks": ""
            },
            "colorscale": [
             [
              0,
              "#0d0887"
             ],
             [
              0.1111111111111111,
              "#46039f"
             ],
             [
              0.2222222222222222,
              "#7201a8"
             ],
             [
              0.3333333333333333,
              "#9c179e"
             ],
             [
              0.4444444444444444,
              "#bd3786"
             ],
             [
              0.5555555555555556,
              "#d8576b"
             ],
             [
              0.6666666666666666,
              "#ed7953"
             ],
             [
              0.7777777777777778,
              "#fb9f3a"
             ],
             [
              0.8888888888888888,
              "#fdca26"
             ],
             [
              1,
              "#f0f921"
             ]
            ],
            "type": "heatmapgl"
           }
          ],
          "histogram": [
           {
            "marker": {
             "pattern": {
              "fillmode": "overlay",
              "size": 10,
              "solidity": 0.2
             }
            },
            "type": "histogram"
           }
          ],
          "histogram2d": [
           {
            "colorbar": {
             "outlinewidth": 0,
             "ticks": ""
            },
            "colorscale": [
             [
              0,
              "#0d0887"
             ],
             [
              0.1111111111111111,
              "#46039f"
             ],
             [
              0.2222222222222222,
              "#7201a8"
             ],
             [
              0.3333333333333333,
              "#9c179e"
             ],
             [
              0.4444444444444444,
              "#bd3786"
             ],
             [
              0.5555555555555556,
              "#d8576b"
             ],
             [
              0.6666666666666666,
              "#ed7953"
             ],
             [
              0.7777777777777778,
              "#fb9f3a"
             ],
             [
              0.8888888888888888,
              "#fdca26"
             ],
             [
              1,
              "#f0f921"
             ]
            ],
            "type": "histogram2d"
           }
          ],
          "histogram2dcontour": [
           {
            "colorbar": {
             "outlinewidth": 0,
             "ticks": ""
            },
            "colorscale": [
             [
              0,
              "#0d0887"
             ],
             [
              0.1111111111111111,
              "#46039f"
             ],
             [
              0.2222222222222222,
              "#7201a8"
             ],
             [
              0.3333333333333333,
              "#9c179e"
             ],
             [
              0.4444444444444444,
              "#bd3786"
             ],
             [
              0.5555555555555556,
              "#d8576b"
             ],
             [
              0.6666666666666666,
              "#ed7953"
             ],
             [
              0.7777777777777778,
              "#fb9f3a"
             ],
             [
              0.8888888888888888,
              "#fdca26"
             ],
             [
              1,
              "#f0f921"
             ]
            ],
            "type": "histogram2dcontour"
           }
          ],
          "mesh3d": [
           {
            "colorbar": {
             "outlinewidth": 0,
             "ticks": ""
            },
            "type": "mesh3d"
           }
          ],
          "parcoords": [
           {
            "line": {
             "colorbar": {
              "outlinewidth": 0,
              "ticks": ""
             }
            },
            "type": "parcoords"
           }
          ],
          "pie": [
           {
            "automargin": true,
            "type": "pie"
           }
          ],
          "scatter": [
           {
            "marker": {
             "colorbar": {
              "outlinewidth": 0,
              "ticks": ""
             }
            },
            "type": "scatter"
           }
          ],
          "scatter3d": [
           {
            "line": {
             "colorbar": {
              "outlinewidth": 0,
              "ticks": ""
             }
            },
            "marker": {
             "colorbar": {
              "outlinewidth": 0,
              "ticks": ""
             }
            },
            "type": "scatter3d"
           }
          ],
          "scattercarpet": [
           {
            "marker": {
             "colorbar": {
              "outlinewidth": 0,
              "ticks": ""
             }
            },
            "type": "scattercarpet"
           }
          ],
          "scattergeo": [
           {
            "marker": {
             "colorbar": {
              "outlinewidth": 0,
              "ticks": ""
             }
            },
            "type": "scattergeo"
           }
          ],
          "scattergl": [
           {
            "marker": {
             "colorbar": {
              "outlinewidth": 0,
              "ticks": ""
             }
            },
            "type": "scattergl"
           }
          ],
          "scattermapbox": [
           {
            "marker": {
             "colorbar": {
              "outlinewidth": 0,
              "ticks": ""
             }
            },
            "type": "scattermapbox"
           }
          ],
          "scatterpolar": [
           {
            "marker": {
             "colorbar": {
              "outlinewidth": 0,
              "ticks": ""
             }
            },
            "type": "scatterpolar"
           }
          ],
          "scatterpolargl": [
           {
            "marker": {
             "colorbar": {
              "outlinewidth": 0,
              "ticks": ""
             }
            },
            "type": "scatterpolargl"
           }
          ],
          "scatterternary": [
           {
            "marker": {
             "colorbar": {
              "outlinewidth": 0,
              "ticks": ""
             }
            },
            "type": "scatterternary"
           }
          ],
          "surface": [
           {
            "colorbar": {
             "outlinewidth": 0,
             "ticks": ""
            },
            "colorscale": [
             [
              0,
              "#0d0887"
             ],
             [
              0.1111111111111111,
              "#46039f"
             ],
             [
              0.2222222222222222,
              "#7201a8"
             ],
             [
              0.3333333333333333,
              "#9c179e"
             ],
             [
              0.4444444444444444,
              "#bd3786"
             ],
             [
              0.5555555555555556,
              "#d8576b"
             ],
             [
              0.6666666666666666,
              "#ed7953"
             ],
             [
              0.7777777777777778,
              "#fb9f3a"
             ],
             [
              0.8888888888888888,
              "#fdca26"
             ],
             [
              1,
              "#f0f921"
             ]
            ],
            "type": "surface"
           }
          ],
          "table": [
           {
            "cells": {
             "fill": {
              "color": "#EBF0F8"
             },
             "line": {
              "color": "white"
             }
            },
            "header": {
             "fill": {
              "color": "#C8D4E3"
             },
             "line": {
              "color": "white"
             }
            },
            "type": "table"
           }
          ]
         },
         "layout": {
          "annotationdefaults": {
           "arrowcolor": "#2a3f5f",
           "arrowhead": 0,
           "arrowwidth": 1
          },
          "autotypenumbers": "strict",
          "coloraxis": {
           "colorbar": {
            "outlinewidth": 0,
            "ticks": ""
           }
          },
          "colorscale": {
           "diverging": [
            [
             0,
             "#8e0152"
            ],
            [
             0.1,
             "#c51b7d"
            ],
            [
             0.2,
             "#de77ae"
            ],
            [
             0.3,
             "#f1b6da"
            ],
            [
             0.4,
             "#fde0ef"
            ],
            [
             0.5,
             "#f7f7f7"
            ],
            [
             0.6,
             "#e6f5d0"
            ],
            [
             0.7,
             "#b8e186"
            ],
            [
             0.8,
             "#7fbc41"
            ],
            [
             0.9,
             "#4d9221"
            ],
            [
             1,
             "#276419"
            ]
           ],
           "sequential": [
            [
             0,
             "#0d0887"
            ],
            [
             0.1111111111111111,
             "#46039f"
            ],
            [
             0.2222222222222222,
             "#7201a8"
            ],
            [
             0.3333333333333333,
             "#9c179e"
            ],
            [
             0.4444444444444444,
             "#bd3786"
            ],
            [
             0.5555555555555556,
             "#d8576b"
            ],
            [
             0.6666666666666666,
             "#ed7953"
            ],
            [
             0.7777777777777778,
             "#fb9f3a"
            ],
            [
             0.8888888888888888,
             "#fdca26"
            ],
            [
             1,
             "#f0f921"
            ]
           ],
           "sequentialminus": [
            [
             0,
             "#0d0887"
            ],
            [
             0.1111111111111111,
             "#46039f"
            ],
            [
             0.2222222222222222,
             "#7201a8"
            ],
            [
             0.3333333333333333,
             "#9c179e"
            ],
            [
             0.4444444444444444,
             "#bd3786"
            ],
            [
             0.5555555555555556,
             "#d8576b"
            ],
            [
             0.6666666666666666,
             "#ed7953"
            ],
            [
             0.7777777777777778,
             "#fb9f3a"
            ],
            [
             0.8888888888888888,
             "#fdca26"
            ],
            [
             1,
             "#f0f921"
            ]
           ]
          },
          "colorway": [
           "#636efa",
           "#EF553B",
           "#00cc96",
           "#ab63fa",
           "#FFA15A",
           "#19d3f3",
           "#FF6692",
           "#B6E880",
           "#FF97FF",
           "#FECB52"
          ],
          "font": {
           "color": "#2a3f5f"
          },
          "geo": {
           "bgcolor": "white",
           "lakecolor": "white",
           "landcolor": "#E5ECF6",
           "showlakes": true,
           "showland": true,
           "subunitcolor": "white"
          },
          "hoverlabel": {
           "align": "left"
          },
          "hovermode": "closest",
          "mapbox": {
           "style": "light"
          },
          "paper_bgcolor": "white",
          "plot_bgcolor": "#E5ECF6",
          "polar": {
           "angularaxis": {
            "gridcolor": "white",
            "linecolor": "white",
            "ticks": ""
           },
           "bgcolor": "#E5ECF6",
           "radialaxis": {
            "gridcolor": "white",
            "linecolor": "white",
            "ticks": ""
           }
          },
          "scene": {
           "xaxis": {
            "backgroundcolor": "#E5ECF6",
            "gridcolor": "white",
            "gridwidth": 2,
            "linecolor": "white",
            "showbackground": true,
            "ticks": "",
            "zerolinecolor": "white"
           },
           "yaxis": {
            "backgroundcolor": "#E5ECF6",
            "gridcolor": "white",
            "gridwidth": 2,
            "linecolor": "white",
            "showbackground": true,
            "ticks": "",
            "zerolinecolor": "white"
           },
           "zaxis": {
            "backgroundcolor": "#E5ECF6",
            "gridcolor": "white",
            "gridwidth": 2,
            "linecolor": "white",
            "showbackground": true,
            "ticks": "",
            "zerolinecolor": "white"
           }
          },
          "shapedefaults": {
           "line": {
            "color": "#2a3f5f"
           }
          },
          "ternary": {
           "aaxis": {
            "gridcolor": "white",
            "linecolor": "white",
            "ticks": ""
           },
           "baxis": {
            "gridcolor": "white",
            "linecolor": "white",
            "ticks": ""
           },
           "bgcolor": "#E5ECF6",
           "caxis": {
            "gridcolor": "white",
            "linecolor": "white",
            "ticks": ""
           }
          },
          "title": {
           "x": 0.05
          },
          "xaxis": {
           "automargin": true,
           "gridcolor": "white",
           "linecolor": "white",
           "ticks": "",
           "title": {
            "standoff": 15
           },
           "zerolinecolor": "white",
           "zerolinewidth": 2
          },
          "yaxis": {
           "automargin": true,
           "gridcolor": "white",
           "linecolor": "white",
           "ticks": "",
           "title": {
            "standoff": 15
           },
           "zerolinecolor": "white",
           "zerolinewidth": 2
          }
         }
        },
        "title": {
         "font": {
          "color": "#4D5663"
         }
        },
        "xaxis": {
         "gridcolor": "#E1E5ED",
         "showgrid": true,
         "tickfont": {
          "color": "#4D5663"
         },
         "title": {
          "font": {
           "color": "#4D5663"
          },
          "text": ""
         },
         "zerolinecolor": "#E1E5ED"
        },
        "yaxis": {
         "gridcolor": "#E1E5ED",
         "showgrid": true,
         "tickfont": {
          "color": "#4D5663"
         },
         "title": {
          "font": {
           "color": "#4D5663"
          },
          "text": ""
         },
         "zerolinecolor": "#E1E5ED"
        }
       }
      },
      "text/html": [
       "<div>                            <div id=\"0de60712-9557-4334-81b9-fd15e3665a07\" class=\"plotly-graph-div\" style=\"height:525px; width:100%;\"></div>            <script type=\"text/javascript\">                require([\"plotly\"], function(Plotly) {                    window.PLOTLYENV=window.PLOTLYENV || {};\n",
       "                    window.PLOTLYENV.BASE_URL='https://plot.ly';                                    if (document.getElementById(\"0de60712-9557-4334-81b9-fd15e3665a07\")) {                    Plotly.newPlot(                        \"0de60712-9557-4334-81b9-fd15e3665a07\",                        [{\"line\":{\"color\":\"rgba(255, 153, 51, 1.0)\",\"dash\":\"solid\",\"shape\":\"linear\",\"width\":1.3},\"mode\":\"lines\",\"name\":\"A\",\"text\":\"\",\"x\":[0,1,2,3,4,5,6,7,8,9,10,11,12,13,14,15,16,17,18,19,20,21,22,23,24,25,26,27,28,29,30,31,32,33,34,35,36,37,38,39,40,41,42,43,44,45,46,47,48,49,50,51,52,53,54,55,56,57,58,59,60,61,62,63,64,65,66,67,68,69,70,71,72,73,74,75,76,77,78,79,80,81,82,83,84,85,86,87,88,89,90,91,92,93,94,95,96,97,98,99],\"y\":[0.7206021595231069,0.600148426769176,0.4104359743616993,1.5970755667006848,-1.2936619515577568,-0.8247653726117883,0.8635716441218286,0.9641754730341981,-0.023983744104136718,0.8936011658880695,-0.3997818395932563,-0.6968882043136051,-1.163879408522421,0.24301016267096173,1.5061934436070503,2.2293327935101708,-1.2735706894259167,0.07670212200171866,0.42749763295537124,-0.8362156804531724,0.23760756881529357,0.6125021013936939,0.9474786308756106,0.5792285211320449,-0.022141338115392657,0.1780786293235384,-0.4378983347210052,-1.9641912957964793,0.5884103102817879,1.2261746210124682,0.36692568501522266,0.5338772876220805,-1.0129881243922954,-0.05828206366226157,-0.4542632899292565,-0.9545712927080492,-0.4462063781298266,1.7850698534429827,-1.5714742286027275,-1.700569442248487,-0.7669013707864606,-3.131367504486959,-1.059983984922948,1.4162638414930868,1.6704485316623467,-0.939130190447798,0.8100608368265246,1.4254927278950735,0.28241386798408846,-0.20653442472757128,-1.745147679318256,-1.6430798662212416,1.3845799049888303,-1.378963965645226,-0.519571255210273,1.4442675469554762,-0.5705819989697787,-0.5135575214998415,-0.7725119707973551,0.4520162047149358,-0.7274765115358929,-1.3402720744289112,0.9327244040593339,-0.8271541013442341,-1.2064204344555705,0.3696430003742275,0.23974555131411265,-1.68529161912587,0.5231163706104487,0.6402595816400246,-0.043905994702309624,0.4468550288425965,0.37837924503019776,-0.033244845954011386,-1.1977701838216634,0.39756580016298637,-0.7081412455264934,0.5402103482032428,-1.8552901543432505,1.0089939294346084,1.587105528275671,-0.5601097082171755,0.11665409539915697,-0.5745241401224672,-2.558207307961996,-0.5339083790451622,-1.4864995681419446,-0.2949479595475197,0.6295343657985574,0.42971820599591787,1.5498386531740298,0.5916490519789844,-0.3998257461066869,1.9127966678340154,0.30283673972582165,0.24201125897767198,-1.7144830491064178,0.4238364675698964,0.60177217016106,-0.6508979705447588],\"type\":\"scatter\"},{\"line\":{\"color\":\"rgba(55, 128, 191, 1.0)\",\"dash\":\"solid\",\"shape\":\"linear\",\"width\":1.3},\"mode\":\"lines\",\"name\":\"B\",\"text\":\"\",\"x\":[0,1,2,3,4,5,6,7,8,9,10,11,12,13,14,15,16,17,18,19,20,21,22,23,24,25,26,27,28,29,30,31,32,33,34,35,36,37,38,39,40,41,42,43,44,45,46,47,48,49,50,51,52,53,54,55,56,57,58,59,60,61,62,63,64,65,66,67,68,69,70,71,72,73,74,75,76,77,78,79,80,81,82,83,84,85,86,87,88,89,90,91,92,93,94,95,96,97,98,99],\"y\":[0.4790002364284842,-0.5339133712050166,-0.2551232292121737,0.7500620133948723,1.0639226831377517,0.3028647755916625,0.0977690423356316,-0.3951140303210251,-0.9550331925745601,-0.7764745770247691,-1.4300120636784552,0.722590320396416,0.06063841933463821,0.03610652845611828,-0.537856030516011,-0.078808592696729,-0.3114260012747389,-0.8941588607600373,-0.5808384159219051,0.3834337532738288,0.483711206092414,1.6829763180132218,-0.8919742536174792,0.950467512521074,-0.08625549152922969,1.2167158329958416,-0.033911930360870084,-1.9700550067826965,-0.02574803290346344,0.3794547728684391,-1.4103559279651778,1.0208301284403738,-1.6901429429533048,1.5697762867784217,-1.1365048100216353,-0.16786990398521856,-1.3683080519549378,0.6732207688411338,-0.724524608367036,-1.6556190684717973,1.405498473751612,-1.585448471793164,0.39518907167519784,0.15531514996168058,-0.4328193574850774,-0.8375570848807239,2.0230704348373942,-0.17582755292970423,1.9225970664687468,-1.5139377738915847,-0.4490913077935091,1.2021633853196803,-1.1047775425974564,0.7485099120378153,-0.8506817463527888,-0.1508540110465642,-0.4806223905826818,-0.009409878169259062,-0.13773066448041185,0.9187758383578031,0.24586887682641126,-0.4105378015561218,0.7002100378602496,1.0152904608914048,-0.05662237441840279,-1.1519555057371014,0.47741060260304125,-0.9356334286067687,-0.2816607396441667,1.2079854210569332,-0.9374091758648114,0.33622495387200485,0.017240232316663457,0.6281700912130026,-1.001311001407909,-0.01697870692670627,-1.6009597764633763,0.12951776927639422,-0.4318016346568667,0.6446717409546772,-1.765416896232608,-0.6206312391014545,-0.5616885246922951,1.5158834462222572,0.40289717199054675,0.7031019990192451,-0.7247400440690024,-2.2789079087356514,0.9516348236040112,0.5500106106728779,-0.6256799087748532,-1.2447989248999347,-1.5713689300682712,1.6189765467065518,-0.352213379315518,-1.418362779696527,1.0450315791300482,0.15528639631566069,0.4511257837375593,-0.18485970986316355],\"type\":\"scatter\"},{\"line\":{\"color\":\"rgba(50, 171, 96, 1.0)\",\"dash\":\"solid\",\"shape\":\"linear\",\"width\":1.3},\"mode\":\"lines\",\"name\":\"C\",\"text\":\"\",\"x\":[0,1,2,3,4,5,6,7,8,9,10,11,12,13,14,15,16,17,18,19,20,21,22,23,24,25,26,27,28,29,30,31,32,33,34,35,36,37,38,39,40,41,42,43,44,45,46,47,48,49,50,51,52,53,54,55,56,57,58,59,60,61,62,63,64,65,66,67,68,69,70,71,72,73,74,75,76,77,78,79,80,81,82,83,84,85,86,87,88,89,90,91,92,93,94,95,96,97,98,99],\"y\":[-0.1710539717238674,0.6761120036186342,-0.6364901882466849,0.5068375166337368,0.8587563554081904,0.8815777839520635,1.7981957622905946,0.23629650342768097,-1.2654142235465151,0.9985852638112375,1.0140967677490105,1.9213050225984043,1.147118897460104,-0.5571080126333299,-1.5966228700302354,0.7799340936002608,-0.9773101083967402,1.197839159404519,-1.5107967182448119,-0.13519320205885943,-0.11407554694339425,0.0416244963029414,-0.11694785669789755,0.32555050158578663,-0.581746887771692,0.7537911994443084,-0.5051520940880653,-3.1224181613669932,0.25322090179614604,-1.709347508989651,-0.574636669754101,0.0307936632530043,-1.2285030245784847,0.2656927014665348,-0.3068950514033596,0.13240715579408738,0.8374575862869191,-1.3021623768791744,-1.819165996897542,-0.7589988455347925,-0.37555023383268366,0.17703412808151636,0.9212274812957582,2.235090436534782,0.22806047835346205,-0.15965213524816327,-1.8462801463145255,-0.5847352598471942,0.33665541167019086,0.7156454581545579,0.4518459352615333,0.3768602525240975,-1.0481059079241228,0.9391230146671161,-0.81760338429349,-1.8081487207564184,0.17743167887350544,1.039677816301545,-0.49954238815551105,-1.42924711355474,1.3219961035554446,-0.9393760389550331,0.3283685130185671,-0.23167200407406047,1.709823808775834,0.43803745965810165,0.8056695588712278,-0.8815625206777283,0.8010039094881437,0.7753082267979359,-0.6605696943285191,-0.40442949350905255,2.20673145237434,2.2480674660485405,2.60938032100713,0.543699479190823,0.1969871874266927,-0.15677733024887777,0.6339198380731179,1.4695236211918865,-0.46258878245316276,-1.417929581243472,-0.6428942336220342,-1.8015303901752648,-1.0836442298731181,0.7834492930937946,1.4690474511013203,-0.5667873756382681,-0.81138244564651,0.9312761917561393,0.8170173053211249,-0.2515329718182992,-0.7498444640254841,-1.051743373588905,0.004355898780761671,-0.14234496449937195,1.3343658157166423,1.1580565675560939,-0.6588853733842952,0.7278643918332525],\"type\":\"scatter\"},{\"line\":{\"color\":\"rgba(128, 0, 128, 1.0)\",\"dash\":\"solid\",\"shape\":\"linear\",\"width\":1.3},\"mode\":\"lines\",\"name\":\"D\",\"text\":\"\",\"x\":[0,1,2,3,4,5,6,7,8,9,10,11,12,13,14,15,16,17,18,19,20,21,22,23,24,25,26,27,28,29,30,31,32,33,34,35,36,37,38,39,40,41,42,43,44,45,46,47,48,49,50,51,52,53,54,55,56,57,58,59,60,61,62,63,64,65,66,67,68,69,70,71,72,73,74,75,76,77,78,79,80,81,82,83,84,85,86,87,88,89,90,91,92,93,94,95,96,97,98,99],\"y\":[-0.7745862644908448,0.5042041435436856,0.11653223204023365,-1.1959229444741741,-0.27292696862939264,0.9223229138279102,-0.0846199316096227,0.01953093084833903,0.6355269183584646,0.6666909985417896,0.6043012254606308,0.27396348046715746,-2.629516675257851,0.2797430559701173,0.4514205345986516,-0.7914312739174943,0.19240316995779333,1.4023278833167279,0.9432499771843861,1.100283579418994,-2.6576910228587836,1.220608012005847,0.4463762203629547,1.0628130916520049,-0.08333665257748994,-0.8198554339209732,0.08681325176953446,0.002710946088567911,-0.9134745712232382,-1.3781752896942985,-0.49077781599685016,0.7299785382485134,-0.374019643846917,0.43339476120969894,2.1120018359857964,-0.07222056301967658,-1.118430611101756,0.4993823157143268,0.7955688060257385,-0.3882653775714211,0.8007652045697838,-1.643699036934892,-1.9886441019258725,1.4829454813526062,-0.9416601411402572,0.15063360347531604,0.14947421761858792,-0.060953335646296604,0.35351471505754173,-0.08085370059267592,-1.0652731210957525,-1.4754535838547946,0.6744817451168268,-1.8282248056546728,0.23187428799008547,-1.4106370686259977,-0.11648195669724136,-0.5618073610721529,0.2428333967215472,0.5161467385849521,0.948845713709916,0.07121176051622159,-0.2594612478430401,0.5682260787378328,0.6442418035769039,0.16342408166701317,0.6225775683828786,-1.5409881668264611,-0.3367059484787146,0.3606308288750878,0.24475939866764343,1.6498950074974856,-1.1609072949372032,-1.240376311437029,-1.3595294482528577,-0.4989867375652803,-0.994521889530649,0.5238788685754128,-0.5126883562085743,1.638572633652777,1.1704216773919038,-0.3892984266145127,-1.9701693154051056,0.9541009998491473,-0.38294091155112997,-0.37783741567692064,0.007545114995654143,1.0102458239343455,-0.08041770515079398,-0.4099862221534074,-0.839011880668791,-0.8332599606848795,-1.058238678493066,-0.8706724320299088,-0.5342859606428391,-0.9274468507913998,0.8428645004405348,0.0021456148799246432,-0.7677208360543195,1.1517078376841599],\"type\":\"scatter\"}],                        {\"legend\":{\"bgcolor\":\"#F5F6F9\",\"font\":{\"color\":\"#4D5663\"}},\"paper_bgcolor\":\"#F5F6F9\",\"plot_bgcolor\":\"#F5F6F9\",\"template\":{\"data\":{\"barpolar\":[{\"marker\":{\"line\":{\"color\":\"#E5ECF6\",\"width\":0.5},\"pattern\":{\"fillmode\":\"overlay\",\"size\":10,\"solidity\":0.2}},\"type\":\"barpolar\"}],\"bar\":[{\"error_x\":{\"color\":\"#2a3f5f\"},\"error_y\":{\"color\":\"#2a3f5f\"},\"marker\":{\"line\":{\"color\":\"#E5ECF6\",\"width\":0.5},\"pattern\":{\"fillmode\":\"overlay\",\"size\":10,\"solidity\":0.2}},\"type\":\"bar\"}],\"carpet\":[{\"aaxis\":{\"endlinecolor\":\"#2a3f5f\",\"gridcolor\":\"white\",\"linecolor\":\"white\",\"minorgridcolor\":\"white\",\"startlinecolor\":\"#2a3f5f\"},\"baxis\":{\"endlinecolor\":\"#2a3f5f\",\"gridcolor\":\"white\",\"linecolor\":\"white\",\"minorgridcolor\":\"white\",\"startlinecolor\":\"#2a3f5f\"},\"type\":\"carpet\"}],\"choropleth\":[{\"colorbar\":{\"outlinewidth\":0,\"ticks\":\"\"},\"type\":\"choropleth\"}],\"contourcarpet\":[{\"colorbar\":{\"outlinewidth\":0,\"ticks\":\"\"},\"type\":\"contourcarpet\"}],\"contour\":[{\"colorbar\":{\"outlinewidth\":0,\"ticks\":\"\"},\"colorscale\":[[0.0,\"#0d0887\"],[0.1111111111111111,\"#46039f\"],[0.2222222222222222,\"#7201a8\"],[0.3333333333333333,\"#9c179e\"],[0.4444444444444444,\"#bd3786\"],[0.5555555555555556,\"#d8576b\"],[0.6666666666666666,\"#ed7953\"],[0.7777777777777778,\"#fb9f3a\"],[0.8888888888888888,\"#fdca26\"],[1.0,\"#f0f921\"]],\"type\":\"contour\"}],\"heatmapgl\":[{\"colorbar\":{\"outlinewidth\":0,\"ticks\":\"\"},\"colorscale\":[[0.0,\"#0d0887\"],[0.1111111111111111,\"#46039f\"],[0.2222222222222222,\"#7201a8\"],[0.3333333333333333,\"#9c179e\"],[0.4444444444444444,\"#bd3786\"],[0.5555555555555556,\"#d8576b\"],[0.6666666666666666,\"#ed7953\"],[0.7777777777777778,\"#fb9f3a\"],[0.8888888888888888,\"#fdca26\"],[1.0,\"#f0f921\"]],\"type\":\"heatmapgl\"}],\"heatmap\":[{\"colorbar\":{\"outlinewidth\":0,\"ticks\":\"\"},\"colorscale\":[[0.0,\"#0d0887\"],[0.1111111111111111,\"#46039f\"],[0.2222222222222222,\"#7201a8\"],[0.3333333333333333,\"#9c179e\"],[0.4444444444444444,\"#bd3786\"],[0.5555555555555556,\"#d8576b\"],[0.6666666666666666,\"#ed7953\"],[0.7777777777777778,\"#fb9f3a\"],[0.8888888888888888,\"#fdca26\"],[1.0,\"#f0f921\"]],\"type\":\"heatmap\"}],\"histogram2dcontour\":[{\"colorbar\":{\"outlinewidth\":0,\"ticks\":\"\"},\"colorscale\":[[0.0,\"#0d0887\"],[0.1111111111111111,\"#46039f\"],[0.2222222222222222,\"#7201a8\"],[0.3333333333333333,\"#9c179e\"],[0.4444444444444444,\"#bd3786\"],[0.5555555555555556,\"#d8576b\"],[0.6666666666666666,\"#ed7953\"],[0.7777777777777778,\"#fb9f3a\"],[0.8888888888888888,\"#fdca26\"],[1.0,\"#f0f921\"]],\"type\":\"histogram2dcontour\"}],\"histogram2d\":[{\"colorbar\":{\"outlinewidth\":0,\"ticks\":\"\"},\"colorscale\":[[0.0,\"#0d0887\"],[0.1111111111111111,\"#46039f\"],[0.2222222222222222,\"#7201a8\"],[0.3333333333333333,\"#9c179e\"],[0.4444444444444444,\"#bd3786\"],[0.5555555555555556,\"#d8576b\"],[0.6666666666666666,\"#ed7953\"],[0.7777777777777778,\"#fb9f3a\"],[0.8888888888888888,\"#fdca26\"],[1.0,\"#f0f921\"]],\"type\":\"histogram2d\"}],\"histogram\":[{\"marker\":{\"pattern\":{\"fillmode\":\"overlay\",\"size\":10,\"solidity\":0.2}},\"type\":\"histogram\"}],\"mesh3d\":[{\"colorbar\":{\"outlinewidth\":0,\"ticks\":\"\"},\"type\":\"mesh3d\"}],\"parcoords\":[{\"line\":{\"colorbar\":{\"outlinewidth\":0,\"ticks\":\"\"}},\"type\":\"parcoords\"}],\"pie\":[{\"automargin\":true,\"type\":\"pie\"}],\"scatter3d\":[{\"line\":{\"colorbar\":{\"outlinewidth\":0,\"ticks\":\"\"}},\"marker\":{\"colorbar\":{\"outlinewidth\":0,\"ticks\":\"\"}},\"type\":\"scatter3d\"}],\"scattercarpet\":[{\"marker\":{\"colorbar\":{\"outlinewidth\":0,\"ticks\":\"\"}},\"type\":\"scattercarpet\"}],\"scattergeo\":[{\"marker\":{\"colorbar\":{\"outlinewidth\":0,\"ticks\":\"\"}},\"type\":\"scattergeo\"}],\"scattergl\":[{\"marker\":{\"colorbar\":{\"outlinewidth\":0,\"ticks\":\"\"}},\"type\":\"scattergl\"}],\"scattermapbox\":[{\"marker\":{\"colorbar\":{\"outlinewidth\":0,\"ticks\":\"\"}},\"type\":\"scattermapbox\"}],\"scatterpolargl\":[{\"marker\":{\"colorbar\":{\"outlinewidth\":0,\"ticks\":\"\"}},\"type\":\"scatterpolargl\"}],\"scatterpolar\":[{\"marker\":{\"colorbar\":{\"outlinewidth\":0,\"ticks\":\"\"}},\"type\":\"scatterpolar\"}],\"scatter\":[{\"marker\":{\"colorbar\":{\"outlinewidth\":0,\"ticks\":\"\"}},\"type\":\"scatter\"}],\"scatterternary\":[{\"marker\":{\"colorbar\":{\"outlinewidth\":0,\"ticks\":\"\"}},\"type\":\"scatterternary\"}],\"surface\":[{\"colorbar\":{\"outlinewidth\":0,\"ticks\":\"\"},\"colorscale\":[[0.0,\"#0d0887\"],[0.1111111111111111,\"#46039f\"],[0.2222222222222222,\"#7201a8\"],[0.3333333333333333,\"#9c179e\"],[0.4444444444444444,\"#bd3786\"],[0.5555555555555556,\"#d8576b\"],[0.6666666666666666,\"#ed7953\"],[0.7777777777777778,\"#fb9f3a\"],[0.8888888888888888,\"#fdca26\"],[1.0,\"#f0f921\"]],\"type\":\"surface\"}],\"table\":[{\"cells\":{\"fill\":{\"color\":\"#EBF0F8\"},\"line\":{\"color\":\"white\"}},\"header\":{\"fill\":{\"color\":\"#C8D4E3\"},\"line\":{\"color\":\"white\"}},\"type\":\"table\"}]},\"layout\":{\"annotationdefaults\":{\"arrowcolor\":\"#2a3f5f\",\"arrowhead\":0,\"arrowwidth\":1},\"autotypenumbers\":\"strict\",\"coloraxis\":{\"colorbar\":{\"outlinewidth\":0,\"ticks\":\"\"}},\"colorscale\":{\"diverging\":[[0,\"#8e0152\"],[0.1,\"#c51b7d\"],[0.2,\"#de77ae\"],[0.3,\"#f1b6da\"],[0.4,\"#fde0ef\"],[0.5,\"#f7f7f7\"],[0.6,\"#e6f5d0\"],[0.7,\"#b8e186\"],[0.8,\"#7fbc41\"],[0.9,\"#4d9221\"],[1,\"#276419\"]],\"sequential\":[[0.0,\"#0d0887\"],[0.1111111111111111,\"#46039f\"],[0.2222222222222222,\"#7201a8\"],[0.3333333333333333,\"#9c179e\"],[0.4444444444444444,\"#bd3786\"],[0.5555555555555556,\"#d8576b\"],[0.6666666666666666,\"#ed7953\"],[0.7777777777777778,\"#fb9f3a\"],[0.8888888888888888,\"#fdca26\"],[1.0,\"#f0f921\"]],\"sequentialminus\":[[0.0,\"#0d0887\"],[0.1111111111111111,\"#46039f\"],[0.2222222222222222,\"#7201a8\"],[0.3333333333333333,\"#9c179e\"],[0.4444444444444444,\"#bd3786\"],[0.5555555555555556,\"#d8576b\"],[0.6666666666666666,\"#ed7953\"],[0.7777777777777778,\"#fb9f3a\"],[0.8888888888888888,\"#fdca26\"],[1.0,\"#f0f921\"]]},\"colorway\":[\"#636efa\",\"#EF553B\",\"#00cc96\",\"#ab63fa\",\"#FFA15A\",\"#19d3f3\",\"#FF6692\",\"#B6E880\",\"#FF97FF\",\"#FECB52\"],\"font\":{\"color\":\"#2a3f5f\"},\"geo\":{\"bgcolor\":\"white\",\"lakecolor\":\"white\",\"landcolor\":\"#E5ECF6\",\"showlakes\":true,\"showland\":true,\"subunitcolor\":\"white\"},\"hoverlabel\":{\"align\":\"left\"},\"hovermode\":\"closest\",\"mapbox\":{\"style\":\"light\"},\"paper_bgcolor\":\"white\",\"plot_bgcolor\":\"#E5ECF6\",\"polar\":{\"angularaxis\":{\"gridcolor\":\"white\",\"linecolor\":\"white\",\"ticks\":\"\"},\"bgcolor\":\"#E5ECF6\",\"radialaxis\":{\"gridcolor\":\"white\",\"linecolor\":\"white\",\"ticks\":\"\"}},\"scene\":{\"xaxis\":{\"backgroundcolor\":\"#E5ECF6\",\"gridcolor\":\"white\",\"gridwidth\":2,\"linecolor\":\"white\",\"showbackground\":true,\"ticks\":\"\",\"zerolinecolor\":\"white\"},\"yaxis\":{\"backgroundcolor\":\"#E5ECF6\",\"gridcolor\":\"white\",\"gridwidth\":2,\"linecolor\":\"white\",\"showbackground\":true,\"ticks\":\"\",\"zerolinecolor\":\"white\"},\"zaxis\":{\"backgroundcolor\":\"#E5ECF6\",\"gridcolor\":\"white\",\"gridwidth\":2,\"linecolor\":\"white\",\"showbackground\":true,\"ticks\":\"\",\"zerolinecolor\":\"white\"}},\"shapedefaults\":{\"line\":{\"color\":\"#2a3f5f\"}},\"ternary\":{\"aaxis\":{\"gridcolor\":\"white\",\"linecolor\":\"white\",\"ticks\":\"\"},\"baxis\":{\"gridcolor\":\"white\",\"linecolor\":\"white\",\"ticks\":\"\"},\"bgcolor\":\"#E5ECF6\",\"caxis\":{\"gridcolor\":\"white\",\"linecolor\":\"white\",\"ticks\":\"\"}},\"title\":{\"x\":0.05},\"xaxis\":{\"automargin\":true,\"gridcolor\":\"white\",\"linecolor\":\"white\",\"ticks\":\"\",\"title\":{\"standoff\":15},\"zerolinecolor\":\"white\",\"zerolinewidth\":2},\"yaxis\":{\"automargin\":true,\"gridcolor\":\"white\",\"linecolor\":\"white\",\"ticks\":\"\",\"title\":{\"standoff\":15},\"zerolinecolor\":\"white\",\"zerolinewidth\":2}}},\"title\":{\"font\":{\"color\":\"#4D5663\"}},\"xaxis\":{\"gridcolor\":\"#E1E5ED\",\"showgrid\":true,\"tickfont\":{\"color\":\"#4D5663\"},\"title\":{\"font\":{\"color\":\"#4D5663\"},\"text\":\"\"},\"zerolinecolor\":\"#E1E5ED\"},\"yaxis\":{\"gridcolor\":\"#E1E5ED\",\"showgrid\":true,\"tickfont\":{\"color\":\"#4D5663\"},\"title\":{\"font\":{\"color\":\"#4D5663\"},\"text\":\"\"},\"zerolinecolor\":\"#E1E5ED\"}},                        {\"showLink\": true, \"linkText\": \"Export to plot.ly\", \"plotlyServerURL\": \"https://plot.ly\", \"responsive\": true}                    ).then(function(){\n",
       "                            \n",
       "var gd = document.getElementById('0de60712-9557-4334-81b9-fd15e3665a07');\n",
       "var x = new MutationObserver(function (mutations, observer) {{\n",
       "        var display = window.getComputedStyle(gd).display;\n",
       "        if (!display || display === 'none') {{\n",
       "            console.log([gd, 'removed!']);\n",
       "            Plotly.purge(gd);\n",
       "            observer.disconnect();\n",
       "        }}\n",
       "}});\n",
       "\n",
       "// Listen for the removal of the full notebook cells\n",
       "var notebookContainer = gd.closest('#notebook-container');\n",
       "if (notebookContainer) {{\n",
       "    x.observe(notebookContainer, {childList: true});\n",
       "}}\n",
       "\n",
       "// Listen for the clearing of the current output cell\n",
       "var outputEl = gd.closest('.output');\n",
       "if (outputEl) {{\n",
       "    x.observe(outputEl, {childList: true});\n",
       "}}\n",
       "\n",
       "                        })                };                });            </script>        </div>"
      ]
     },
     "metadata": {},
     "output_type": "display_data"
    }
   ],
   "source": [
    "df.iplot()"
   ]
  },
  {
   "cell_type": "code",
   "execution_count": 17,
   "id": "9218e619",
   "metadata": {},
   "outputs": [
    {
     "data": {
      "application/vnd.plotly.v1+json": {
       "config": {
        "linkText": "Export to plot.ly",
        "plotlyServerURL": "https://plot.ly",
        "showLink": true
       },
       "data": [
        {
         "line": {
          "color": "rgba(255, 153, 51, 1.0)",
          "dash": "solid",
          "shape": "linear",
          "width": 1.3
         },
         "mode": "lines",
         "name": "B",
         "text": "",
         "type": "scatter",
         "x": [
          0.7206021595231069,
          0.600148426769176,
          0.4104359743616993,
          1.5970755667006848,
          -1.2936619515577568,
          -0.8247653726117883,
          0.8635716441218286,
          0.9641754730341981,
          -0.023983744104136718,
          0.8936011658880695,
          -0.3997818395932563,
          -0.6968882043136051,
          -1.163879408522421,
          0.24301016267096173,
          1.5061934436070503,
          2.2293327935101708,
          -1.2735706894259167,
          0.07670212200171866,
          0.42749763295537124,
          -0.8362156804531724,
          0.23760756881529357,
          0.6125021013936939,
          0.9474786308756106,
          0.5792285211320449,
          -0.022141338115392657,
          0.1780786293235384,
          -0.4378983347210052,
          -1.9641912957964793,
          0.5884103102817879,
          1.2261746210124682,
          0.36692568501522266,
          0.5338772876220805,
          -1.0129881243922954,
          -0.05828206366226157,
          -0.4542632899292565,
          -0.9545712927080492,
          -0.4462063781298266,
          1.7850698534429827,
          -1.5714742286027275,
          -1.700569442248487,
          -0.7669013707864606,
          -3.131367504486959,
          -1.059983984922948,
          1.4162638414930868,
          1.6704485316623467,
          -0.939130190447798,
          0.8100608368265246,
          1.4254927278950735,
          0.28241386798408846,
          -0.20653442472757128,
          -1.745147679318256,
          -1.6430798662212416,
          1.3845799049888303,
          -1.378963965645226,
          -0.519571255210273,
          1.4442675469554762,
          -0.5705819989697787,
          -0.5135575214998415,
          -0.7725119707973551,
          0.4520162047149358,
          -0.7274765115358929,
          -1.3402720744289112,
          0.9327244040593339,
          -0.8271541013442341,
          -1.2064204344555705,
          0.3696430003742275,
          0.23974555131411265,
          -1.68529161912587,
          0.5231163706104487,
          0.6402595816400246,
          -0.043905994702309624,
          0.4468550288425965,
          0.37837924503019776,
          -0.033244845954011386,
          -1.1977701838216634,
          0.39756580016298637,
          -0.7081412455264934,
          0.5402103482032428,
          -1.8552901543432505,
          1.0089939294346084,
          1.587105528275671,
          -0.5601097082171755,
          0.11665409539915697,
          -0.5745241401224672,
          -2.558207307961996,
          -0.5339083790451622,
          -1.4864995681419446,
          -0.2949479595475197,
          0.6295343657985574,
          0.42971820599591787,
          1.5498386531740298,
          0.5916490519789844,
          -0.3998257461066869,
          1.9127966678340154,
          0.30283673972582165,
          0.24201125897767198,
          -1.7144830491064178,
          0.4238364675698964,
          0.60177217016106,
          -0.6508979705447588
         ],
         "y": [
          0.4790002364284842,
          -0.5339133712050166,
          -0.2551232292121737,
          0.7500620133948723,
          1.0639226831377517,
          0.3028647755916625,
          0.0977690423356316,
          -0.3951140303210251,
          -0.9550331925745601,
          -0.7764745770247691,
          -1.4300120636784552,
          0.722590320396416,
          0.06063841933463821,
          0.03610652845611828,
          -0.537856030516011,
          -0.078808592696729,
          -0.3114260012747389,
          -0.8941588607600373,
          -0.5808384159219051,
          0.3834337532738288,
          0.483711206092414,
          1.6829763180132218,
          -0.8919742536174792,
          0.950467512521074,
          -0.08625549152922969,
          1.2167158329958416,
          -0.033911930360870084,
          -1.9700550067826965,
          -0.02574803290346344,
          0.3794547728684391,
          -1.4103559279651778,
          1.0208301284403738,
          -1.6901429429533048,
          1.5697762867784217,
          -1.1365048100216353,
          -0.16786990398521856,
          -1.3683080519549378,
          0.6732207688411338,
          -0.724524608367036,
          -1.6556190684717973,
          1.405498473751612,
          -1.585448471793164,
          0.39518907167519784,
          0.15531514996168058,
          -0.4328193574850774,
          -0.8375570848807239,
          2.0230704348373942,
          -0.17582755292970423,
          1.9225970664687468,
          -1.5139377738915847,
          -0.4490913077935091,
          1.2021633853196803,
          -1.1047775425974564,
          0.7485099120378153,
          -0.8506817463527888,
          -0.1508540110465642,
          -0.4806223905826818,
          -0.009409878169259062,
          -0.13773066448041185,
          0.9187758383578031,
          0.24586887682641126,
          -0.4105378015561218,
          0.7002100378602496,
          1.0152904608914048,
          -0.05662237441840279,
          -1.1519555057371014,
          0.47741060260304125,
          -0.9356334286067687,
          -0.2816607396441667,
          1.2079854210569332,
          -0.9374091758648114,
          0.33622495387200485,
          0.017240232316663457,
          0.6281700912130026,
          -1.001311001407909,
          -0.01697870692670627,
          -1.6009597764633763,
          0.12951776927639422,
          -0.4318016346568667,
          0.6446717409546772,
          -1.765416896232608,
          -0.6206312391014545,
          -0.5616885246922951,
          1.5158834462222572,
          0.40289717199054675,
          0.7031019990192451,
          -0.7247400440690024,
          -2.2789079087356514,
          0.9516348236040112,
          0.5500106106728779,
          -0.6256799087748532,
          -1.2447989248999347,
          -1.5713689300682712,
          1.6189765467065518,
          -0.352213379315518,
          -1.418362779696527,
          1.0450315791300482,
          0.15528639631566069,
          0.4511257837375593,
          -0.18485970986316355
         ]
        }
       ],
       "layout": {
        "legend": {
         "bgcolor": "#F5F6F9",
         "font": {
          "color": "#4D5663"
         }
        },
        "paper_bgcolor": "#F5F6F9",
        "plot_bgcolor": "#F5F6F9",
        "template": {
         "data": {
          "bar": [
           {
            "error_x": {
             "color": "#2a3f5f"
            },
            "error_y": {
             "color": "#2a3f5f"
            },
            "marker": {
             "line": {
              "color": "#E5ECF6",
              "width": 0.5
             },
             "pattern": {
              "fillmode": "overlay",
              "size": 10,
              "solidity": 0.2
             }
            },
            "type": "bar"
           }
          ],
          "barpolar": [
           {
            "marker": {
             "line": {
              "color": "#E5ECF6",
              "width": 0.5
             },
             "pattern": {
              "fillmode": "overlay",
              "size": 10,
              "solidity": 0.2
             }
            },
            "type": "barpolar"
           }
          ],
          "carpet": [
           {
            "aaxis": {
             "endlinecolor": "#2a3f5f",
             "gridcolor": "white",
             "linecolor": "white",
             "minorgridcolor": "white",
             "startlinecolor": "#2a3f5f"
            },
            "baxis": {
             "endlinecolor": "#2a3f5f",
             "gridcolor": "white",
             "linecolor": "white",
             "minorgridcolor": "white",
             "startlinecolor": "#2a3f5f"
            },
            "type": "carpet"
           }
          ],
          "choropleth": [
           {
            "colorbar": {
             "outlinewidth": 0,
             "ticks": ""
            },
            "type": "choropleth"
           }
          ],
          "contour": [
           {
            "colorbar": {
             "outlinewidth": 0,
             "ticks": ""
            },
            "colorscale": [
             [
              0,
              "#0d0887"
             ],
             [
              0.1111111111111111,
              "#46039f"
             ],
             [
              0.2222222222222222,
              "#7201a8"
             ],
             [
              0.3333333333333333,
              "#9c179e"
             ],
             [
              0.4444444444444444,
              "#bd3786"
             ],
             [
              0.5555555555555556,
              "#d8576b"
             ],
             [
              0.6666666666666666,
              "#ed7953"
             ],
             [
              0.7777777777777778,
              "#fb9f3a"
             ],
             [
              0.8888888888888888,
              "#fdca26"
             ],
             [
              1,
              "#f0f921"
             ]
            ],
            "type": "contour"
           }
          ],
          "contourcarpet": [
           {
            "colorbar": {
             "outlinewidth": 0,
             "ticks": ""
            },
            "type": "contourcarpet"
           }
          ],
          "heatmap": [
           {
            "colorbar": {
             "outlinewidth": 0,
             "ticks": ""
            },
            "colorscale": [
             [
              0,
              "#0d0887"
             ],
             [
              0.1111111111111111,
              "#46039f"
             ],
             [
              0.2222222222222222,
              "#7201a8"
             ],
             [
              0.3333333333333333,
              "#9c179e"
             ],
             [
              0.4444444444444444,
              "#bd3786"
             ],
             [
              0.5555555555555556,
              "#d8576b"
             ],
             [
              0.6666666666666666,
              "#ed7953"
             ],
             [
              0.7777777777777778,
              "#fb9f3a"
             ],
             [
              0.8888888888888888,
              "#fdca26"
             ],
             [
              1,
              "#f0f921"
             ]
            ],
            "type": "heatmap"
           }
          ],
          "heatmapgl": [
           {
            "colorbar": {
             "outlinewidth": 0,
             "ticks": ""
            },
            "colorscale": [
             [
              0,
              "#0d0887"
             ],
             [
              0.1111111111111111,
              "#46039f"
             ],
             [
              0.2222222222222222,
              "#7201a8"
             ],
             [
              0.3333333333333333,
              "#9c179e"
             ],
             [
              0.4444444444444444,
              "#bd3786"
             ],
             [
              0.5555555555555556,
              "#d8576b"
             ],
             [
              0.6666666666666666,
              "#ed7953"
             ],
             [
              0.7777777777777778,
              "#fb9f3a"
             ],
             [
              0.8888888888888888,
              "#fdca26"
             ],
             [
              1,
              "#f0f921"
             ]
            ],
            "type": "heatmapgl"
           }
          ],
          "histogram": [
           {
            "marker": {
             "pattern": {
              "fillmode": "overlay",
              "size": 10,
              "solidity": 0.2
             }
            },
            "type": "histogram"
           }
          ],
          "histogram2d": [
           {
            "colorbar": {
             "outlinewidth": 0,
             "ticks": ""
            },
            "colorscale": [
             [
              0,
              "#0d0887"
             ],
             [
              0.1111111111111111,
              "#46039f"
             ],
             [
              0.2222222222222222,
              "#7201a8"
             ],
             [
              0.3333333333333333,
              "#9c179e"
             ],
             [
              0.4444444444444444,
              "#bd3786"
             ],
             [
              0.5555555555555556,
              "#d8576b"
             ],
             [
              0.6666666666666666,
              "#ed7953"
             ],
             [
              0.7777777777777778,
              "#fb9f3a"
             ],
             [
              0.8888888888888888,
              "#fdca26"
             ],
             [
              1,
              "#f0f921"
             ]
            ],
            "type": "histogram2d"
           }
          ],
          "histogram2dcontour": [
           {
            "colorbar": {
             "outlinewidth": 0,
             "ticks": ""
            },
            "colorscale": [
             [
              0,
              "#0d0887"
             ],
             [
              0.1111111111111111,
              "#46039f"
             ],
             [
              0.2222222222222222,
              "#7201a8"
             ],
             [
              0.3333333333333333,
              "#9c179e"
             ],
             [
              0.4444444444444444,
              "#bd3786"
             ],
             [
              0.5555555555555556,
              "#d8576b"
             ],
             [
              0.6666666666666666,
              "#ed7953"
             ],
             [
              0.7777777777777778,
              "#fb9f3a"
             ],
             [
              0.8888888888888888,
              "#fdca26"
             ],
             [
              1,
              "#f0f921"
             ]
            ],
            "type": "histogram2dcontour"
           }
          ],
          "mesh3d": [
           {
            "colorbar": {
             "outlinewidth": 0,
             "ticks": ""
            },
            "type": "mesh3d"
           }
          ],
          "parcoords": [
           {
            "line": {
             "colorbar": {
              "outlinewidth": 0,
              "ticks": ""
             }
            },
            "type": "parcoords"
           }
          ],
          "pie": [
           {
            "automargin": true,
            "type": "pie"
           }
          ],
          "scatter": [
           {
            "marker": {
             "colorbar": {
              "outlinewidth": 0,
              "ticks": ""
             }
            },
            "type": "scatter"
           }
          ],
          "scatter3d": [
           {
            "line": {
             "colorbar": {
              "outlinewidth": 0,
              "ticks": ""
             }
            },
            "marker": {
             "colorbar": {
              "outlinewidth": 0,
              "ticks": ""
             }
            },
            "type": "scatter3d"
           }
          ],
          "scattercarpet": [
           {
            "marker": {
             "colorbar": {
              "outlinewidth": 0,
              "ticks": ""
             }
            },
            "type": "scattercarpet"
           }
          ],
          "scattergeo": [
           {
            "marker": {
             "colorbar": {
              "outlinewidth": 0,
              "ticks": ""
             }
            },
            "type": "scattergeo"
           }
          ],
          "scattergl": [
           {
            "marker": {
             "colorbar": {
              "outlinewidth": 0,
              "ticks": ""
             }
            },
            "type": "scattergl"
           }
          ],
          "scattermapbox": [
           {
            "marker": {
             "colorbar": {
              "outlinewidth": 0,
              "ticks": ""
             }
            },
            "type": "scattermapbox"
           }
          ],
          "scatterpolar": [
           {
            "marker": {
             "colorbar": {
              "outlinewidth": 0,
              "ticks": ""
             }
            },
            "type": "scatterpolar"
           }
          ],
          "scatterpolargl": [
           {
            "marker": {
             "colorbar": {
              "outlinewidth": 0,
              "ticks": ""
             }
            },
            "type": "scatterpolargl"
           }
          ],
          "scatterternary": [
           {
            "marker": {
             "colorbar": {
              "outlinewidth": 0,
              "ticks": ""
             }
            },
            "type": "scatterternary"
           }
          ],
          "surface": [
           {
            "colorbar": {
             "outlinewidth": 0,
             "ticks": ""
            },
            "colorscale": [
             [
              0,
              "#0d0887"
             ],
             [
              0.1111111111111111,
              "#46039f"
             ],
             [
              0.2222222222222222,
              "#7201a8"
             ],
             [
              0.3333333333333333,
              "#9c179e"
             ],
             [
              0.4444444444444444,
              "#bd3786"
             ],
             [
              0.5555555555555556,
              "#d8576b"
             ],
             [
              0.6666666666666666,
              "#ed7953"
             ],
             [
              0.7777777777777778,
              "#fb9f3a"
             ],
             [
              0.8888888888888888,
              "#fdca26"
             ],
             [
              1,
              "#f0f921"
             ]
            ],
            "type": "surface"
           }
          ],
          "table": [
           {
            "cells": {
             "fill": {
              "color": "#EBF0F8"
             },
             "line": {
              "color": "white"
             }
            },
            "header": {
             "fill": {
              "color": "#C8D4E3"
             },
             "line": {
              "color": "white"
             }
            },
            "type": "table"
           }
          ]
         },
         "layout": {
          "annotationdefaults": {
           "arrowcolor": "#2a3f5f",
           "arrowhead": 0,
           "arrowwidth": 1
          },
          "autotypenumbers": "strict",
          "coloraxis": {
           "colorbar": {
            "outlinewidth": 0,
            "ticks": ""
           }
          },
          "colorscale": {
           "diverging": [
            [
             0,
             "#8e0152"
            ],
            [
             0.1,
             "#c51b7d"
            ],
            [
             0.2,
             "#de77ae"
            ],
            [
             0.3,
             "#f1b6da"
            ],
            [
             0.4,
             "#fde0ef"
            ],
            [
             0.5,
             "#f7f7f7"
            ],
            [
             0.6,
             "#e6f5d0"
            ],
            [
             0.7,
             "#b8e186"
            ],
            [
             0.8,
             "#7fbc41"
            ],
            [
             0.9,
             "#4d9221"
            ],
            [
             1,
             "#276419"
            ]
           ],
           "sequential": [
            [
             0,
             "#0d0887"
            ],
            [
             0.1111111111111111,
             "#46039f"
            ],
            [
             0.2222222222222222,
             "#7201a8"
            ],
            [
             0.3333333333333333,
             "#9c179e"
            ],
            [
             0.4444444444444444,
             "#bd3786"
            ],
            [
             0.5555555555555556,
             "#d8576b"
            ],
            [
             0.6666666666666666,
             "#ed7953"
            ],
            [
             0.7777777777777778,
             "#fb9f3a"
            ],
            [
             0.8888888888888888,
             "#fdca26"
            ],
            [
             1,
             "#f0f921"
            ]
           ],
           "sequentialminus": [
            [
             0,
             "#0d0887"
            ],
            [
             0.1111111111111111,
             "#46039f"
            ],
            [
             0.2222222222222222,
             "#7201a8"
            ],
            [
             0.3333333333333333,
             "#9c179e"
            ],
            [
             0.4444444444444444,
             "#bd3786"
            ],
            [
             0.5555555555555556,
             "#d8576b"
            ],
            [
             0.6666666666666666,
             "#ed7953"
            ],
            [
             0.7777777777777778,
             "#fb9f3a"
            ],
            [
             0.8888888888888888,
             "#fdca26"
            ],
            [
             1,
             "#f0f921"
            ]
           ]
          },
          "colorway": [
           "#636efa",
           "#EF553B",
           "#00cc96",
           "#ab63fa",
           "#FFA15A",
           "#19d3f3",
           "#FF6692",
           "#B6E880",
           "#FF97FF",
           "#FECB52"
          ],
          "font": {
           "color": "#2a3f5f"
          },
          "geo": {
           "bgcolor": "white",
           "lakecolor": "white",
           "landcolor": "#E5ECF6",
           "showlakes": true,
           "showland": true,
           "subunitcolor": "white"
          },
          "hoverlabel": {
           "align": "left"
          },
          "hovermode": "closest",
          "mapbox": {
           "style": "light"
          },
          "paper_bgcolor": "white",
          "plot_bgcolor": "#E5ECF6",
          "polar": {
           "angularaxis": {
            "gridcolor": "white",
            "linecolor": "white",
            "ticks": ""
           },
           "bgcolor": "#E5ECF6",
           "radialaxis": {
            "gridcolor": "white",
            "linecolor": "white",
            "ticks": ""
           }
          },
          "scene": {
           "xaxis": {
            "backgroundcolor": "#E5ECF6",
            "gridcolor": "white",
            "gridwidth": 2,
            "linecolor": "white",
            "showbackground": true,
            "ticks": "",
            "zerolinecolor": "white"
           },
           "yaxis": {
            "backgroundcolor": "#E5ECF6",
            "gridcolor": "white",
            "gridwidth": 2,
            "linecolor": "white",
            "showbackground": true,
            "ticks": "",
            "zerolinecolor": "white"
           },
           "zaxis": {
            "backgroundcolor": "#E5ECF6",
            "gridcolor": "white",
            "gridwidth": 2,
            "linecolor": "white",
            "showbackground": true,
            "ticks": "",
            "zerolinecolor": "white"
           }
          },
          "shapedefaults": {
           "line": {
            "color": "#2a3f5f"
           }
          },
          "ternary": {
           "aaxis": {
            "gridcolor": "white",
            "linecolor": "white",
            "ticks": ""
           },
           "baxis": {
            "gridcolor": "white",
            "linecolor": "white",
            "ticks": ""
           },
           "bgcolor": "#E5ECF6",
           "caxis": {
            "gridcolor": "white",
            "linecolor": "white",
            "ticks": ""
           }
          },
          "title": {
           "x": 0.05
          },
          "xaxis": {
           "automargin": true,
           "gridcolor": "white",
           "linecolor": "white",
           "ticks": "",
           "title": {
            "standoff": 15
           },
           "zerolinecolor": "white",
           "zerolinewidth": 2
          },
          "yaxis": {
           "automargin": true,
           "gridcolor": "white",
           "linecolor": "white",
           "ticks": "",
           "title": {
            "standoff": 15
           },
           "zerolinecolor": "white",
           "zerolinewidth": 2
          }
         }
        },
        "title": {
         "font": {
          "color": "#4D5663"
         }
        },
        "xaxis": {
         "gridcolor": "#E1E5ED",
         "showgrid": true,
         "tickfont": {
          "color": "#4D5663"
         },
         "title": {
          "font": {
           "color": "#4D5663"
          },
          "text": ""
         },
         "zerolinecolor": "#E1E5ED"
        },
        "yaxis": {
         "gridcolor": "#E1E5ED",
         "showgrid": true,
         "tickfont": {
          "color": "#4D5663"
         },
         "title": {
          "font": {
           "color": "#4D5663"
          },
          "text": ""
         },
         "zerolinecolor": "#E1E5ED"
        }
       }
      },
      "text/html": [
       "<div>                            <div id=\"7cd5b7a2-baf8-42f6-8805-88cf06257aa4\" class=\"plotly-graph-div\" style=\"height:525px; width:100%;\"></div>            <script type=\"text/javascript\">                require([\"plotly\"], function(Plotly) {                    window.PLOTLYENV=window.PLOTLYENV || {};\n",
       "                    window.PLOTLYENV.BASE_URL='https://plot.ly';                                    if (document.getElementById(\"7cd5b7a2-baf8-42f6-8805-88cf06257aa4\")) {                    Plotly.newPlot(                        \"7cd5b7a2-baf8-42f6-8805-88cf06257aa4\",                        [{\"line\":{\"color\":\"rgba(255, 153, 51, 1.0)\",\"dash\":\"solid\",\"shape\":\"linear\",\"width\":1.3},\"mode\":\"lines\",\"name\":\"B\",\"text\":\"\",\"x\":[0.7206021595231069,0.600148426769176,0.4104359743616993,1.5970755667006848,-1.2936619515577568,-0.8247653726117883,0.8635716441218286,0.9641754730341981,-0.023983744104136718,0.8936011658880695,-0.3997818395932563,-0.6968882043136051,-1.163879408522421,0.24301016267096173,1.5061934436070503,2.2293327935101708,-1.2735706894259167,0.07670212200171866,0.42749763295537124,-0.8362156804531724,0.23760756881529357,0.6125021013936939,0.9474786308756106,0.5792285211320449,-0.022141338115392657,0.1780786293235384,-0.4378983347210052,-1.9641912957964793,0.5884103102817879,1.2261746210124682,0.36692568501522266,0.5338772876220805,-1.0129881243922954,-0.05828206366226157,-0.4542632899292565,-0.9545712927080492,-0.4462063781298266,1.7850698534429827,-1.5714742286027275,-1.700569442248487,-0.7669013707864606,-3.131367504486959,-1.059983984922948,1.4162638414930868,1.6704485316623467,-0.939130190447798,0.8100608368265246,1.4254927278950735,0.28241386798408846,-0.20653442472757128,-1.745147679318256,-1.6430798662212416,1.3845799049888303,-1.378963965645226,-0.519571255210273,1.4442675469554762,-0.5705819989697787,-0.5135575214998415,-0.7725119707973551,0.4520162047149358,-0.7274765115358929,-1.3402720744289112,0.9327244040593339,-0.8271541013442341,-1.2064204344555705,0.3696430003742275,0.23974555131411265,-1.68529161912587,0.5231163706104487,0.6402595816400246,-0.043905994702309624,0.4468550288425965,0.37837924503019776,-0.033244845954011386,-1.1977701838216634,0.39756580016298637,-0.7081412455264934,0.5402103482032428,-1.8552901543432505,1.0089939294346084,1.587105528275671,-0.5601097082171755,0.11665409539915697,-0.5745241401224672,-2.558207307961996,-0.5339083790451622,-1.4864995681419446,-0.2949479595475197,0.6295343657985574,0.42971820599591787,1.5498386531740298,0.5916490519789844,-0.3998257461066869,1.9127966678340154,0.30283673972582165,0.24201125897767198,-1.7144830491064178,0.4238364675698964,0.60177217016106,-0.6508979705447588],\"y\":[0.4790002364284842,-0.5339133712050166,-0.2551232292121737,0.7500620133948723,1.0639226831377517,0.3028647755916625,0.0977690423356316,-0.3951140303210251,-0.9550331925745601,-0.7764745770247691,-1.4300120636784552,0.722590320396416,0.06063841933463821,0.03610652845611828,-0.537856030516011,-0.078808592696729,-0.3114260012747389,-0.8941588607600373,-0.5808384159219051,0.3834337532738288,0.483711206092414,1.6829763180132218,-0.8919742536174792,0.950467512521074,-0.08625549152922969,1.2167158329958416,-0.033911930360870084,-1.9700550067826965,-0.02574803290346344,0.3794547728684391,-1.4103559279651778,1.0208301284403738,-1.6901429429533048,1.5697762867784217,-1.1365048100216353,-0.16786990398521856,-1.3683080519549378,0.6732207688411338,-0.724524608367036,-1.6556190684717973,1.405498473751612,-1.585448471793164,0.39518907167519784,0.15531514996168058,-0.4328193574850774,-0.8375570848807239,2.0230704348373942,-0.17582755292970423,1.9225970664687468,-1.5139377738915847,-0.4490913077935091,1.2021633853196803,-1.1047775425974564,0.7485099120378153,-0.8506817463527888,-0.1508540110465642,-0.4806223905826818,-0.009409878169259062,-0.13773066448041185,0.9187758383578031,0.24586887682641126,-0.4105378015561218,0.7002100378602496,1.0152904608914048,-0.05662237441840279,-1.1519555057371014,0.47741060260304125,-0.9356334286067687,-0.2816607396441667,1.2079854210569332,-0.9374091758648114,0.33622495387200485,0.017240232316663457,0.6281700912130026,-1.001311001407909,-0.01697870692670627,-1.6009597764633763,0.12951776927639422,-0.4318016346568667,0.6446717409546772,-1.765416896232608,-0.6206312391014545,-0.5616885246922951,1.5158834462222572,0.40289717199054675,0.7031019990192451,-0.7247400440690024,-2.2789079087356514,0.9516348236040112,0.5500106106728779,-0.6256799087748532,-1.2447989248999347,-1.5713689300682712,1.6189765467065518,-0.352213379315518,-1.418362779696527,1.0450315791300482,0.15528639631566069,0.4511257837375593,-0.18485970986316355],\"type\":\"scatter\"}],                        {\"legend\":{\"bgcolor\":\"#F5F6F9\",\"font\":{\"color\":\"#4D5663\"}},\"paper_bgcolor\":\"#F5F6F9\",\"plot_bgcolor\":\"#F5F6F9\",\"template\":{\"data\":{\"barpolar\":[{\"marker\":{\"line\":{\"color\":\"#E5ECF6\",\"width\":0.5},\"pattern\":{\"fillmode\":\"overlay\",\"size\":10,\"solidity\":0.2}},\"type\":\"barpolar\"}],\"bar\":[{\"error_x\":{\"color\":\"#2a3f5f\"},\"error_y\":{\"color\":\"#2a3f5f\"},\"marker\":{\"line\":{\"color\":\"#E5ECF6\",\"width\":0.5},\"pattern\":{\"fillmode\":\"overlay\",\"size\":10,\"solidity\":0.2}},\"type\":\"bar\"}],\"carpet\":[{\"aaxis\":{\"endlinecolor\":\"#2a3f5f\",\"gridcolor\":\"white\",\"linecolor\":\"white\",\"minorgridcolor\":\"white\",\"startlinecolor\":\"#2a3f5f\"},\"baxis\":{\"endlinecolor\":\"#2a3f5f\",\"gridcolor\":\"white\",\"linecolor\":\"white\",\"minorgridcolor\":\"white\",\"startlinecolor\":\"#2a3f5f\"},\"type\":\"carpet\"}],\"choropleth\":[{\"colorbar\":{\"outlinewidth\":0,\"ticks\":\"\"},\"type\":\"choropleth\"}],\"contourcarpet\":[{\"colorbar\":{\"outlinewidth\":0,\"ticks\":\"\"},\"type\":\"contourcarpet\"}],\"contour\":[{\"colorbar\":{\"outlinewidth\":0,\"ticks\":\"\"},\"colorscale\":[[0.0,\"#0d0887\"],[0.1111111111111111,\"#46039f\"],[0.2222222222222222,\"#7201a8\"],[0.3333333333333333,\"#9c179e\"],[0.4444444444444444,\"#bd3786\"],[0.5555555555555556,\"#d8576b\"],[0.6666666666666666,\"#ed7953\"],[0.7777777777777778,\"#fb9f3a\"],[0.8888888888888888,\"#fdca26\"],[1.0,\"#f0f921\"]],\"type\":\"contour\"}],\"heatmapgl\":[{\"colorbar\":{\"outlinewidth\":0,\"ticks\":\"\"},\"colorscale\":[[0.0,\"#0d0887\"],[0.1111111111111111,\"#46039f\"],[0.2222222222222222,\"#7201a8\"],[0.3333333333333333,\"#9c179e\"],[0.4444444444444444,\"#bd3786\"],[0.5555555555555556,\"#d8576b\"],[0.6666666666666666,\"#ed7953\"],[0.7777777777777778,\"#fb9f3a\"],[0.8888888888888888,\"#fdca26\"],[1.0,\"#f0f921\"]],\"type\":\"heatmapgl\"}],\"heatmap\":[{\"colorbar\":{\"outlinewidth\":0,\"ticks\":\"\"},\"colorscale\":[[0.0,\"#0d0887\"],[0.1111111111111111,\"#46039f\"],[0.2222222222222222,\"#7201a8\"],[0.3333333333333333,\"#9c179e\"],[0.4444444444444444,\"#bd3786\"],[0.5555555555555556,\"#d8576b\"],[0.6666666666666666,\"#ed7953\"],[0.7777777777777778,\"#fb9f3a\"],[0.8888888888888888,\"#fdca26\"],[1.0,\"#f0f921\"]],\"type\":\"heatmap\"}],\"histogram2dcontour\":[{\"colorbar\":{\"outlinewidth\":0,\"ticks\":\"\"},\"colorscale\":[[0.0,\"#0d0887\"],[0.1111111111111111,\"#46039f\"],[0.2222222222222222,\"#7201a8\"],[0.3333333333333333,\"#9c179e\"],[0.4444444444444444,\"#bd3786\"],[0.5555555555555556,\"#d8576b\"],[0.6666666666666666,\"#ed7953\"],[0.7777777777777778,\"#fb9f3a\"],[0.8888888888888888,\"#fdca26\"],[1.0,\"#f0f921\"]],\"type\":\"histogram2dcontour\"}],\"histogram2d\":[{\"colorbar\":{\"outlinewidth\":0,\"ticks\":\"\"},\"colorscale\":[[0.0,\"#0d0887\"],[0.1111111111111111,\"#46039f\"],[0.2222222222222222,\"#7201a8\"],[0.3333333333333333,\"#9c179e\"],[0.4444444444444444,\"#bd3786\"],[0.5555555555555556,\"#d8576b\"],[0.6666666666666666,\"#ed7953\"],[0.7777777777777778,\"#fb9f3a\"],[0.8888888888888888,\"#fdca26\"],[1.0,\"#f0f921\"]],\"type\":\"histogram2d\"}],\"histogram\":[{\"marker\":{\"pattern\":{\"fillmode\":\"overlay\",\"size\":10,\"solidity\":0.2}},\"type\":\"histogram\"}],\"mesh3d\":[{\"colorbar\":{\"outlinewidth\":0,\"ticks\":\"\"},\"type\":\"mesh3d\"}],\"parcoords\":[{\"line\":{\"colorbar\":{\"outlinewidth\":0,\"ticks\":\"\"}},\"type\":\"parcoords\"}],\"pie\":[{\"automargin\":true,\"type\":\"pie\"}],\"scatter3d\":[{\"line\":{\"colorbar\":{\"outlinewidth\":0,\"ticks\":\"\"}},\"marker\":{\"colorbar\":{\"outlinewidth\":0,\"ticks\":\"\"}},\"type\":\"scatter3d\"}],\"scattercarpet\":[{\"marker\":{\"colorbar\":{\"outlinewidth\":0,\"ticks\":\"\"}},\"type\":\"scattercarpet\"}],\"scattergeo\":[{\"marker\":{\"colorbar\":{\"outlinewidth\":0,\"ticks\":\"\"}},\"type\":\"scattergeo\"}],\"scattergl\":[{\"marker\":{\"colorbar\":{\"outlinewidth\":0,\"ticks\":\"\"}},\"type\":\"scattergl\"}],\"scattermapbox\":[{\"marker\":{\"colorbar\":{\"outlinewidth\":0,\"ticks\":\"\"}},\"type\":\"scattermapbox\"}],\"scatterpolargl\":[{\"marker\":{\"colorbar\":{\"outlinewidth\":0,\"ticks\":\"\"}},\"type\":\"scatterpolargl\"}],\"scatterpolar\":[{\"marker\":{\"colorbar\":{\"outlinewidth\":0,\"ticks\":\"\"}},\"type\":\"scatterpolar\"}],\"scatter\":[{\"marker\":{\"colorbar\":{\"outlinewidth\":0,\"ticks\":\"\"}},\"type\":\"scatter\"}],\"scatterternary\":[{\"marker\":{\"colorbar\":{\"outlinewidth\":0,\"ticks\":\"\"}},\"type\":\"scatterternary\"}],\"surface\":[{\"colorbar\":{\"outlinewidth\":0,\"ticks\":\"\"},\"colorscale\":[[0.0,\"#0d0887\"],[0.1111111111111111,\"#46039f\"],[0.2222222222222222,\"#7201a8\"],[0.3333333333333333,\"#9c179e\"],[0.4444444444444444,\"#bd3786\"],[0.5555555555555556,\"#d8576b\"],[0.6666666666666666,\"#ed7953\"],[0.7777777777777778,\"#fb9f3a\"],[0.8888888888888888,\"#fdca26\"],[1.0,\"#f0f921\"]],\"type\":\"surface\"}],\"table\":[{\"cells\":{\"fill\":{\"color\":\"#EBF0F8\"},\"line\":{\"color\":\"white\"}},\"header\":{\"fill\":{\"color\":\"#C8D4E3\"},\"line\":{\"color\":\"white\"}},\"type\":\"table\"}]},\"layout\":{\"annotationdefaults\":{\"arrowcolor\":\"#2a3f5f\",\"arrowhead\":0,\"arrowwidth\":1},\"autotypenumbers\":\"strict\",\"coloraxis\":{\"colorbar\":{\"outlinewidth\":0,\"ticks\":\"\"}},\"colorscale\":{\"diverging\":[[0,\"#8e0152\"],[0.1,\"#c51b7d\"],[0.2,\"#de77ae\"],[0.3,\"#f1b6da\"],[0.4,\"#fde0ef\"],[0.5,\"#f7f7f7\"],[0.6,\"#e6f5d0\"],[0.7,\"#b8e186\"],[0.8,\"#7fbc41\"],[0.9,\"#4d9221\"],[1,\"#276419\"]],\"sequential\":[[0.0,\"#0d0887\"],[0.1111111111111111,\"#46039f\"],[0.2222222222222222,\"#7201a8\"],[0.3333333333333333,\"#9c179e\"],[0.4444444444444444,\"#bd3786\"],[0.5555555555555556,\"#d8576b\"],[0.6666666666666666,\"#ed7953\"],[0.7777777777777778,\"#fb9f3a\"],[0.8888888888888888,\"#fdca26\"],[1.0,\"#f0f921\"]],\"sequentialminus\":[[0.0,\"#0d0887\"],[0.1111111111111111,\"#46039f\"],[0.2222222222222222,\"#7201a8\"],[0.3333333333333333,\"#9c179e\"],[0.4444444444444444,\"#bd3786\"],[0.5555555555555556,\"#d8576b\"],[0.6666666666666666,\"#ed7953\"],[0.7777777777777778,\"#fb9f3a\"],[0.8888888888888888,\"#fdca26\"],[1.0,\"#f0f921\"]]},\"colorway\":[\"#636efa\",\"#EF553B\",\"#00cc96\",\"#ab63fa\",\"#FFA15A\",\"#19d3f3\",\"#FF6692\",\"#B6E880\",\"#FF97FF\",\"#FECB52\"],\"font\":{\"color\":\"#2a3f5f\"},\"geo\":{\"bgcolor\":\"white\",\"lakecolor\":\"white\",\"landcolor\":\"#E5ECF6\",\"showlakes\":true,\"showland\":true,\"subunitcolor\":\"white\"},\"hoverlabel\":{\"align\":\"left\"},\"hovermode\":\"closest\",\"mapbox\":{\"style\":\"light\"},\"paper_bgcolor\":\"white\",\"plot_bgcolor\":\"#E5ECF6\",\"polar\":{\"angularaxis\":{\"gridcolor\":\"white\",\"linecolor\":\"white\",\"ticks\":\"\"},\"bgcolor\":\"#E5ECF6\",\"radialaxis\":{\"gridcolor\":\"white\",\"linecolor\":\"white\",\"ticks\":\"\"}},\"scene\":{\"xaxis\":{\"backgroundcolor\":\"#E5ECF6\",\"gridcolor\":\"white\",\"gridwidth\":2,\"linecolor\":\"white\",\"showbackground\":true,\"ticks\":\"\",\"zerolinecolor\":\"white\"},\"yaxis\":{\"backgroundcolor\":\"#E5ECF6\",\"gridcolor\":\"white\",\"gridwidth\":2,\"linecolor\":\"white\",\"showbackground\":true,\"ticks\":\"\",\"zerolinecolor\":\"white\"},\"zaxis\":{\"backgroundcolor\":\"#E5ECF6\",\"gridcolor\":\"white\",\"gridwidth\":2,\"linecolor\":\"white\",\"showbackground\":true,\"ticks\":\"\",\"zerolinecolor\":\"white\"}},\"shapedefaults\":{\"line\":{\"color\":\"#2a3f5f\"}},\"ternary\":{\"aaxis\":{\"gridcolor\":\"white\",\"linecolor\":\"white\",\"ticks\":\"\"},\"baxis\":{\"gridcolor\":\"white\",\"linecolor\":\"white\",\"ticks\":\"\"},\"bgcolor\":\"#E5ECF6\",\"caxis\":{\"gridcolor\":\"white\",\"linecolor\":\"white\",\"ticks\":\"\"}},\"title\":{\"x\":0.05},\"xaxis\":{\"automargin\":true,\"gridcolor\":\"white\",\"linecolor\":\"white\",\"ticks\":\"\",\"title\":{\"standoff\":15},\"zerolinecolor\":\"white\",\"zerolinewidth\":2},\"yaxis\":{\"automargin\":true,\"gridcolor\":\"white\",\"linecolor\":\"white\",\"ticks\":\"\",\"title\":{\"standoff\":15},\"zerolinecolor\":\"white\",\"zerolinewidth\":2}}},\"title\":{\"font\":{\"color\":\"#4D5663\"}},\"xaxis\":{\"gridcolor\":\"#E1E5ED\",\"showgrid\":true,\"tickfont\":{\"color\":\"#4D5663\"},\"title\":{\"font\":{\"color\":\"#4D5663\"},\"text\":\"\"},\"zerolinecolor\":\"#E1E5ED\"},\"yaxis\":{\"gridcolor\":\"#E1E5ED\",\"showgrid\":true,\"tickfont\":{\"color\":\"#4D5663\"},\"title\":{\"font\":{\"color\":\"#4D5663\"},\"text\":\"\"},\"zerolinecolor\":\"#E1E5ED\"}},                        {\"showLink\": true, \"linkText\": \"Export to plot.ly\", \"plotlyServerURL\": \"https://plot.ly\", \"responsive\": true}                    ).then(function(){\n",
       "                            \n",
       "var gd = document.getElementById('7cd5b7a2-baf8-42f6-8805-88cf06257aa4');\n",
       "var x = new MutationObserver(function (mutations, observer) {{\n",
       "        var display = window.getComputedStyle(gd).display;\n",
       "        if (!display || display === 'none') {{\n",
       "            console.log([gd, 'removed!']);\n",
       "            Plotly.purge(gd);\n",
       "            observer.disconnect();\n",
       "        }}\n",
       "}});\n",
       "\n",
       "// Listen for the removal of the full notebook cells\n",
       "var notebookContainer = gd.closest('#notebook-container');\n",
       "if (notebookContainer) {{\n",
       "    x.observe(notebookContainer, {childList: true});\n",
       "}}\n",
       "\n",
       "// Listen for the clearing of the current output cell\n",
       "var outputEl = gd.closest('.output');\n",
       "if (outputEl) {{\n",
       "    x.observe(outputEl, {childList: true});\n",
       "}}\n",
       "\n",
       "                        })                };                });            </script>        </div>"
      ]
     },
     "metadata": {},
     "output_type": "display_data"
    }
   ],
   "source": [
    "df.iplot(kind='scatter',x='A',y='B')"
   ]
  },
  {
   "cell_type": "code",
   "execution_count": 20,
   "id": "15ba37ad",
   "metadata": {},
   "outputs": [
    {
     "data": {
      "application/vnd.plotly.v1+json": {
       "config": {
        "linkText": "Export to plot.ly",
        "plotlyServerURL": "https://plot.ly",
        "showLink": true
       },
       "data": [
        {
         "line": {
          "color": "rgba(255, 153, 51, 1.0)",
          "dash": "solid",
          "shape": "linear",
          "width": 1.3
         },
         "marker": {
          "size": 20,
          "symbol": "circle"
         },
         "mode": "markers",
         "name": "B",
         "text": "",
         "type": "scatter",
         "x": [
          0.7206021595231069,
          0.600148426769176,
          0.4104359743616993,
          1.5970755667006848,
          -1.2936619515577568,
          -0.8247653726117883,
          0.8635716441218286,
          0.9641754730341981,
          -0.023983744104136718,
          0.8936011658880695,
          -0.3997818395932563,
          -0.6968882043136051,
          -1.163879408522421,
          0.24301016267096173,
          1.5061934436070503,
          2.2293327935101708,
          -1.2735706894259167,
          0.07670212200171866,
          0.42749763295537124,
          -0.8362156804531724,
          0.23760756881529357,
          0.6125021013936939,
          0.9474786308756106,
          0.5792285211320449,
          -0.022141338115392657,
          0.1780786293235384,
          -0.4378983347210052,
          -1.9641912957964793,
          0.5884103102817879,
          1.2261746210124682,
          0.36692568501522266,
          0.5338772876220805,
          -1.0129881243922954,
          -0.05828206366226157,
          -0.4542632899292565,
          -0.9545712927080492,
          -0.4462063781298266,
          1.7850698534429827,
          -1.5714742286027275,
          -1.700569442248487,
          -0.7669013707864606,
          -3.131367504486959,
          -1.059983984922948,
          1.4162638414930868,
          1.6704485316623467,
          -0.939130190447798,
          0.8100608368265246,
          1.4254927278950735,
          0.28241386798408846,
          -0.20653442472757128,
          -1.745147679318256,
          -1.6430798662212416,
          1.3845799049888303,
          -1.378963965645226,
          -0.519571255210273,
          1.4442675469554762,
          -0.5705819989697787,
          -0.5135575214998415,
          -0.7725119707973551,
          0.4520162047149358,
          -0.7274765115358929,
          -1.3402720744289112,
          0.9327244040593339,
          -0.8271541013442341,
          -1.2064204344555705,
          0.3696430003742275,
          0.23974555131411265,
          -1.68529161912587,
          0.5231163706104487,
          0.6402595816400246,
          -0.043905994702309624,
          0.4468550288425965,
          0.37837924503019776,
          -0.033244845954011386,
          -1.1977701838216634,
          0.39756580016298637,
          -0.7081412455264934,
          0.5402103482032428,
          -1.8552901543432505,
          1.0089939294346084,
          1.587105528275671,
          -0.5601097082171755,
          0.11665409539915697,
          -0.5745241401224672,
          -2.558207307961996,
          -0.5339083790451622,
          -1.4864995681419446,
          -0.2949479595475197,
          0.6295343657985574,
          0.42971820599591787,
          1.5498386531740298,
          0.5916490519789844,
          -0.3998257461066869,
          1.9127966678340154,
          0.30283673972582165,
          0.24201125897767198,
          -1.7144830491064178,
          0.4238364675698964,
          0.60177217016106,
          -0.6508979705447588
         ],
         "y": [
          0.4790002364284842,
          -0.5339133712050166,
          -0.2551232292121737,
          0.7500620133948723,
          1.0639226831377517,
          0.3028647755916625,
          0.0977690423356316,
          -0.3951140303210251,
          -0.9550331925745601,
          -0.7764745770247691,
          -1.4300120636784552,
          0.722590320396416,
          0.06063841933463821,
          0.03610652845611828,
          -0.537856030516011,
          -0.078808592696729,
          -0.3114260012747389,
          -0.8941588607600373,
          -0.5808384159219051,
          0.3834337532738288,
          0.483711206092414,
          1.6829763180132218,
          -0.8919742536174792,
          0.950467512521074,
          -0.08625549152922969,
          1.2167158329958416,
          -0.033911930360870084,
          -1.9700550067826965,
          -0.02574803290346344,
          0.3794547728684391,
          -1.4103559279651778,
          1.0208301284403738,
          -1.6901429429533048,
          1.5697762867784217,
          -1.1365048100216353,
          -0.16786990398521856,
          -1.3683080519549378,
          0.6732207688411338,
          -0.724524608367036,
          -1.6556190684717973,
          1.405498473751612,
          -1.585448471793164,
          0.39518907167519784,
          0.15531514996168058,
          -0.4328193574850774,
          -0.8375570848807239,
          2.0230704348373942,
          -0.17582755292970423,
          1.9225970664687468,
          -1.5139377738915847,
          -0.4490913077935091,
          1.2021633853196803,
          -1.1047775425974564,
          0.7485099120378153,
          -0.8506817463527888,
          -0.1508540110465642,
          -0.4806223905826818,
          -0.009409878169259062,
          -0.13773066448041185,
          0.9187758383578031,
          0.24586887682641126,
          -0.4105378015561218,
          0.7002100378602496,
          1.0152904608914048,
          -0.05662237441840279,
          -1.1519555057371014,
          0.47741060260304125,
          -0.9356334286067687,
          -0.2816607396441667,
          1.2079854210569332,
          -0.9374091758648114,
          0.33622495387200485,
          0.017240232316663457,
          0.6281700912130026,
          -1.001311001407909,
          -0.01697870692670627,
          -1.6009597764633763,
          0.12951776927639422,
          -0.4318016346568667,
          0.6446717409546772,
          -1.765416896232608,
          -0.6206312391014545,
          -0.5616885246922951,
          1.5158834462222572,
          0.40289717199054675,
          0.7031019990192451,
          -0.7247400440690024,
          -2.2789079087356514,
          0.9516348236040112,
          0.5500106106728779,
          -0.6256799087748532,
          -1.2447989248999347,
          -1.5713689300682712,
          1.6189765467065518,
          -0.352213379315518,
          -1.418362779696527,
          1.0450315791300482,
          0.15528639631566069,
          0.4511257837375593,
          -0.18485970986316355
         ]
        }
       ],
       "layout": {
        "legend": {
         "bgcolor": "#F5F6F9",
         "font": {
          "color": "#4D5663"
         }
        },
        "paper_bgcolor": "#F5F6F9",
        "plot_bgcolor": "#F5F6F9",
        "template": {
         "data": {
          "bar": [
           {
            "error_x": {
             "color": "#2a3f5f"
            },
            "error_y": {
             "color": "#2a3f5f"
            },
            "marker": {
             "line": {
              "color": "#E5ECF6",
              "width": 0.5
             },
             "pattern": {
              "fillmode": "overlay",
              "size": 10,
              "solidity": 0.2
             }
            },
            "type": "bar"
           }
          ],
          "barpolar": [
           {
            "marker": {
             "line": {
              "color": "#E5ECF6",
              "width": 0.5
             },
             "pattern": {
              "fillmode": "overlay",
              "size": 10,
              "solidity": 0.2
             }
            },
            "type": "barpolar"
           }
          ],
          "carpet": [
           {
            "aaxis": {
             "endlinecolor": "#2a3f5f",
             "gridcolor": "white",
             "linecolor": "white",
             "minorgridcolor": "white",
             "startlinecolor": "#2a3f5f"
            },
            "baxis": {
             "endlinecolor": "#2a3f5f",
             "gridcolor": "white",
             "linecolor": "white",
             "minorgridcolor": "white",
             "startlinecolor": "#2a3f5f"
            },
            "type": "carpet"
           }
          ],
          "choropleth": [
           {
            "colorbar": {
             "outlinewidth": 0,
             "ticks": ""
            },
            "type": "choropleth"
           }
          ],
          "contour": [
           {
            "colorbar": {
             "outlinewidth": 0,
             "ticks": ""
            },
            "colorscale": [
             [
              0,
              "#0d0887"
             ],
             [
              0.1111111111111111,
              "#46039f"
             ],
             [
              0.2222222222222222,
              "#7201a8"
             ],
             [
              0.3333333333333333,
              "#9c179e"
             ],
             [
              0.4444444444444444,
              "#bd3786"
             ],
             [
              0.5555555555555556,
              "#d8576b"
             ],
             [
              0.6666666666666666,
              "#ed7953"
             ],
             [
              0.7777777777777778,
              "#fb9f3a"
             ],
             [
              0.8888888888888888,
              "#fdca26"
             ],
             [
              1,
              "#f0f921"
             ]
            ],
            "type": "contour"
           }
          ],
          "contourcarpet": [
           {
            "colorbar": {
             "outlinewidth": 0,
             "ticks": ""
            },
            "type": "contourcarpet"
           }
          ],
          "heatmap": [
           {
            "colorbar": {
             "outlinewidth": 0,
             "ticks": ""
            },
            "colorscale": [
             [
              0,
              "#0d0887"
             ],
             [
              0.1111111111111111,
              "#46039f"
             ],
             [
              0.2222222222222222,
              "#7201a8"
             ],
             [
              0.3333333333333333,
              "#9c179e"
             ],
             [
              0.4444444444444444,
              "#bd3786"
             ],
             [
              0.5555555555555556,
              "#d8576b"
             ],
             [
              0.6666666666666666,
              "#ed7953"
             ],
             [
              0.7777777777777778,
              "#fb9f3a"
             ],
             [
              0.8888888888888888,
              "#fdca26"
             ],
             [
              1,
              "#f0f921"
             ]
            ],
            "type": "heatmap"
           }
          ],
          "heatmapgl": [
           {
            "colorbar": {
             "outlinewidth": 0,
             "ticks": ""
            },
            "colorscale": [
             [
              0,
              "#0d0887"
             ],
             [
              0.1111111111111111,
              "#46039f"
             ],
             [
              0.2222222222222222,
              "#7201a8"
             ],
             [
              0.3333333333333333,
              "#9c179e"
             ],
             [
              0.4444444444444444,
              "#bd3786"
             ],
             [
              0.5555555555555556,
              "#d8576b"
             ],
             [
              0.6666666666666666,
              "#ed7953"
             ],
             [
              0.7777777777777778,
              "#fb9f3a"
             ],
             [
              0.8888888888888888,
              "#fdca26"
             ],
             [
              1,
              "#f0f921"
             ]
            ],
            "type": "heatmapgl"
           }
          ],
          "histogram": [
           {
            "marker": {
             "pattern": {
              "fillmode": "overlay",
              "size": 10,
              "solidity": 0.2
             }
            },
            "type": "histogram"
           }
          ],
          "histogram2d": [
           {
            "colorbar": {
             "outlinewidth": 0,
             "ticks": ""
            },
            "colorscale": [
             [
              0,
              "#0d0887"
             ],
             [
              0.1111111111111111,
              "#46039f"
             ],
             [
              0.2222222222222222,
              "#7201a8"
             ],
             [
              0.3333333333333333,
              "#9c179e"
             ],
             [
              0.4444444444444444,
              "#bd3786"
             ],
             [
              0.5555555555555556,
              "#d8576b"
             ],
             [
              0.6666666666666666,
              "#ed7953"
             ],
             [
              0.7777777777777778,
              "#fb9f3a"
             ],
             [
              0.8888888888888888,
              "#fdca26"
             ],
             [
              1,
              "#f0f921"
             ]
            ],
            "type": "histogram2d"
           }
          ],
          "histogram2dcontour": [
           {
            "colorbar": {
             "outlinewidth": 0,
             "ticks": ""
            },
            "colorscale": [
             [
              0,
              "#0d0887"
             ],
             [
              0.1111111111111111,
              "#46039f"
             ],
             [
              0.2222222222222222,
              "#7201a8"
             ],
             [
              0.3333333333333333,
              "#9c179e"
             ],
             [
              0.4444444444444444,
              "#bd3786"
             ],
             [
              0.5555555555555556,
              "#d8576b"
             ],
             [
              0.6666666666666666,
              "#ed7953"
             ],
             [
              0.7777777777777778,
              "#fb9f3a"
             ],
             [
              0.8888888888888888,
              "#fdca26"
             ],
             [
              1,
              "#f0f921"
             ]
            ],
            "type": "histogram2dcontour"
           }
          ],
          "mesh3d": [
           {
            "colorbar": {
             "outlinewidth": 0,
             "ticks": ""
            },
            "type": "mesh3d"
           }
          ],
          "parcoords": [
           {
            "line": {
             "colorbar": {
              "outlinewidth": 0,
              "ticks": ""
             }
            },
            "type": "parcoords"
           }
          ],
          "pie": [
           {
            "automargin": true,
            "type": "pie"
           }
          ],
          "scatter": [
           {
            "marker": {
             "colorbar": {
              "outlinewidth": 0,
              "ticks": ""
             }
            },
            "type": "scatter"
           }
          ],
          "scatter3d": [
           {
            "line": {
             "colorbar": {
              "outlinewidth": 0,
              "ticks": ""
             }
            },
            "marker": {
             "colorbar": {
              "outlinewidth": 0,
              "ticks": ""
             }
            },
            "type": "scatter3d"
           }
          ],
          "scattercarpet": [
           {
            "marker": {
             "colorbar": {
              "outlinewidth": 0,
              "ticks": ""
             }
            },
            "type": "scattercarpet"
           }
          ],
          "scattergeo": [
           {
            "marker": {
             "colorbar": {
              "outlinewidth": 0,
              "ticks": ""
             }
            },
            "type": "scattergeo"
           }
          ],
          "scattergl": [
           {
            "marker": {
             "colorbar": {
              "outlinewidth": 0,
              "ticks": ""
             }
            },
            "type": "scattergl"
           }
          ],
          "scattermapbox": [
           {
            "marker": {
             "colorbar": {
              "outlinewidth": 0,
              "ticks": ""
             }
            },
            "type": "scattermapbox"
           }
          ],
          "scatterpolar": [
           {
            "marker": {
             "colorbar": {
              "outlinewidth": 0,
              "ticks": ""
             }
            },
            "type": "scatterpolar"
           }
          ],
          "scatterpolargl": [
           {
            "marker": {
             "colorbar": {
              "outlinewidth": 0,
              "ticks": ""
             }
            },
            "type": "scatterpolargl"
           }
          ],
          "scatterternary": [
           {
            "marker": {
             "colorbar": {
              "outlinewidth": 0,
              "ticks": ""
             }
            },
            "type": "scatterternary"
           }
          ],
          "surface": [
           {
            "colorbar": {
             "outlinewidth": 0,
             "ticks": ""
            },
            "colorscale": [
             [
              0,
              "#0d0887"
             ],
             [
              0.1111111111111111,
              "#46039f"
             ],
             [
              0.2222222222222222,
              "#7201a8"
             ],
             [
              0.3333333333333333,
              "#9c179e"
             ],
             [
              0.4444444444444444,
              "#bd3786"
             ],
             [
              0.5555555555555556,
              "#d8576b"
             ],
             [
              0.6666666666666666,
              "#ed7953"
             ],
             [
              0.7777777777777778,
              "#fb9f3a"
             ],
             [
              0.8888888888888888,
              "#fdca26"
             ],
             [
              1,
              "#f0f921"
             ]
            ],
            "type": "surface"
           }
          ],
          "table": [
           {
            "cells": {
             "fill": {
              "color": "#EBF0F8"
             },
             "line": {
              "color": "white"
             }
            },
            "header": {
             "fill": {
              "color": "#C8D4E3"
             },
             "line": {
              "color": "white"
             }
            },
            "type": "table"
           }
          ]
         },
         "layout": {
          "annotationdefaults": {
           "arrowcolor": "#2a3f5f",
           "arrowhead": 0,
           "arrowwidth": 1
          },
          "autotypenumbers": "strict",
          "coloraxis": {
           "colorbar": {
            "outlinewidth": 0,
            "ticks": ""
           }
          },
          "colorscale": {
           "diverging": [
            [
             0,
             "#8e0152"
            ],
            [
             0.1,
             "#c51b7d"
            ],
            [
             0.2,
             "#de77ae"
            ],
            [
             0.3,
             "#f1b6da"
            ],
            [
             0.4,
             "#fde0ef"
            ],
            [
             0.5,
             "#f7f7f7"
            ],
            [
             0.6,
             "#e6f5d0"
            ],
            [
             0.7,
             "#b8e186"
            ],
            [
             0.8,
             "#7fbc41"
            ],
            [
             0.9,
             "#4d9221"
            ],
            [
             1,
             "#276419"
            ]
           ],
           "sequential": [
            [
             0,
             "#0d0887"
            ],
            [
             0.1111111111111111,
             "#46039f"
            ],
            [
             0.2222222222222222,
             "#7201a8"
            ],
            [
             0.3333333333333333,
             "#9c179e"
            ],
            [
             0.4444444444444444,
             "#bd3786"
            ],
            [
             0.5555555555555556,
             "#d8576b"
            ],
            [
             0.6666666666666666,
             "#ed7953"
            ],
            [
             0.7777777777777778,
             "#fb9f3a"
            ],
            [
             0.8888888888888888,
             "#fdca26"
            ],
            [
             1,
             "#f0f921"
            ]
           ],
           "sequentialminus": [
            [
             0,
             "#0d0887"
            ],
            [
             0.1111111111111111,
             "#46039f"
            ],
            [
             0.2222222222222222,
             "#7201a8"
            ],
            [
             0.3333333333333333,
             "#9c179e"
            ],
            [
             0.4444444444444444,
             "#bd3786"
            ],
            [
             0.5555555555555556,
             "#d8576b"
            ],
            [
             0.6666666666666666,
             "#ed7953"
            ],
            [
             0.7777777777777778,
             "#fb9f3a"
            ],
            [
             0.8888888888888888,
             "#fdca26"
            ],
            [
             1,
             "#f0f921"
            ]
           ]
          },
          "colorway": [
           "#636efa",
           "#EF553B",
           "#00cc96",
           "#ab63fa",
           "#FFA15A",
           "#19d3f3",
           "#FF6692",
           "#B6E880",
           "#FF97FF",
           "#FECB52"
          ],
          "font": {
           "color": "#2a3f5f"
          },
          "geo": {
           "bgcolor": "white",
           "lakecolor": "white",
           "landcolor": "#E5ECF6",
           "showlakes": true,
           "showland": true,
           "subunitcolor": "white"
          },
          "hoverlabel": {
           "align": "left"
          },
          "hovermode": "closest",
          "mapbox": {
           "style": "light"
          },
          "paper_bgcolor": "white",
          "plot_bgcolor": "#E5ECF6",
          "polar": {
           "angularaxis": {
            "gridcolor": "white",
            "linecolor": "white",
            "ticks": ""
           },
           "bgcolor": "#E5ECF6",
           "radialaxis": {
            "gridcolor": "white",
            "linecolor": "white",
            "ticks": ""
           }
          },
          "scene": {
           "xaxis": {
            "backgroundcolor": "#E5ECF6",
            "gridcolor": "white",
            "gridwidth": 2,
            "linecolor": "white",
            "showbackground": true,
            "ticks": "",
            "zerolinecolor": "white"
           },
           "yaxis": {
            "backgroundcolor": "#E5ECF6",
            "gridcolor": "white",
            "gridwidth": 2,
            "linecolor": "white",
            "showbackground": true,
            "ticks": "",
            "zerolinecolor": "white"
           },
           "zaxis": {
            "backgroundcolor": "#E5ECF6",
            "gridcolor": "white",
            "gridwidth": 2,
            "linecolor": "white",
            "showbackground": true,
            "ticks": "",
            "zerolinecolor": "white"
           }
          },
          "shapedefaults": {
           "line": {
            "color": "#2a3f5f"
           }
          },
          "ternary": {
           "aaxis": {
            "gridcolor": "white",
            "linecolor": "white",
            "ticks": ""
           },
           "baxis": {
            "gridcolor": "white",
            "linecolor": "white",
            "ticks": ""
           },
           "bgcolor": "#E5ECF6",
           "caxis": {
            "gridcolor": "white",
            "linecolor": "white",
            "ticks": ""
           }
          },
          "title": {
           "x": 0.05
          },
          "xaxis": {
           "automargin": true,
           "gridcolor": "white",
           "linecolor": "white",
           "ticks": "",
           "title": {
            "standoff": 15
           },
           "zerolinecolor": "white",
           "zerolinewidth": 2
          },
          "yaxis": {
           "automargin": true,
           "gridcolor": "white",
           "linecolor": "white",
           "ticks": "",
           "title": {
            "standoff": 15
           },
           "zerolinecolor": "white",
           "zerolinewidth": 2
          }
         }
        },
        "title": {
         "font": {
          "color": "#4D5663"
         }
        },
        "xaxis": {
         "gridcolor": "#E1E5ED",
         "showgrid": true,
         "tickfont": {
          "color": "#4D5663"
         },
         "title": {
          "font": {
           "color": "#4D5663"
          },
          "text": ""
         },
         "zerolinecolor": "#E1E5ED"
        },
        "yaxis": {
         "gridcolor": "#E1E5ED",
         "showgrid": true,
         "tickfont": {
          "color": "#4D5663"
         },
         "title": {
          "font": {
           "color": "#4D5663"
          },
          "text": ""
         },
         "zerolinecolor": "#E1E5ED"
        }
       }
      },
      "text/html": [
       "<div>                            <div id=\"a750a440-f9af-43de-a080-7a7e88cdaa9c\" class=\"plotly-graph-div\" style=\"height:525px; width:100%;\"></div>            <script type=\"text/javascript\">                require([\"plotly\"], function(Plotly) {                    window.PLOTLYENV=window.PLOTLYENV || {};\n",
       "                    window.PLOTLYENV.BASE_URL='https://plot.ly';                                    if (document.getElementById(\"a750a440-f9af-43de-a080-7a7e88cdaa9c\")) {                    Plotly.newPlot(                        \"a750a440-f9af-43de-a080-7a7e88cdaa9c\",                        [{\"line\":{\"color\":\"rgba(255, 153, 51, 1.0)\",\"dash\":\"solid\",\"shape\":\"linear\",\"width\":1.3},\"marker\":{\"size\":20,\"symbol\":\"circle\"},\"mode\":\"markers\",\"name\":\"B\",\"text\":\"\",\"x\":[0.7206021595231069,0.600148426769176,0.4104359743616993,1.5970755667006848,-1.2936619515577568,-0.8247653726117883,0.8635716441218286,0.9641754730341981,-0.023983744104136718,0.8936011658880695,-0.3997818395932563,-0.6968882043136051,-1.163879408522421,0.24301016267096173,1.5061934436070503,2.2293327935101708,-1.2735706894259167,0.07670212200171866,0.42749763295537124,-0.8362156804531724,0.23760756881529357,0.6125021013936939,0.9474786308756106,0.5792285211320449,-0.022141338115392657,0.1780786293235384,-0.4378983347210052,-1.9641912957964793,0.5884103102817879,1.2261746210124682,0.36692568501522266,0.5338772876220805,-1.0129881243922954,-0.05828206366226157,-0.4542632899292565,-0.9545712927080492,-0.4462063781298266,1.7850698534429827,-1.5714742286027275,-1.700569442248487,-0.7669013707864606,-3.131367504486959,-1.059983984922948,1.4162638414930868,1.6704485316623467,-0.939130190447798,0.8100608368265246,1.4254927278950735,0.28241386798408846,-0.20653442472757128,-1.745147679318256,-1.6430798662212416,1.3845799049888303,-1.378963965645226,-0.519571255210273,1.4442675469554762,-0.5705819989697787,-0.5135575214998415,-0.7725119707973551,0.4520162047149358,-0.7274765115358929,-1.3402720744289112,0.9327244040593339,-0.8271541013442341,-1.2064204344555705,0.3696430003742275,0.23974555131411265,-1.68529161912587,0.5231163706104487,0.6402595816400246,-0.043905994702309624,0.4468550288425965,0.37837924503019776,-0.033244845954011386,-1.1977701838216634,0.39756580016298637,-0.7081412455264934,0.5402103482032428,-1.8552901543432505,1.0089939294346084,1.587105528275671,-0.5601097082171755,0.11665409539915697,-0.5745241401224672,-2.558207307961996,-0.5339083790451622,-1.4864995681419446,-0.2949479595475197,0.6295343657985574,0.42971820599591787,1.5498386531740298,0.5916490519789844,-0.3998257461066869,1.9127966678340154,0.30283673972582165,0.24201125897767198,-1.7144830491064178,0.4238364675698964,0.60177217016106,-0.6508979705447588],\"y\":[0.4790002364284842,-0.5339133712050166,-0.2551232292121737,0.7500620133948723,1.0639226831377517,0.3028647755916625,0.0977690423356316,-0.3951140303210251,-0.9550331925745601,-0.7764745770247691,-1.4300120636784552,0.722590320396416,0.06063841933463821,0.03610652845611828,-0.537856030516011,-0.078808592696729,-0.3114260012747389,-0.8941588607600373,-0.5808384159219051,0.3834337532738288,0.483711206092414,1.6829763180132218,-0.8919742536174792,0.950467512521074,-0.08625549152922969,1.2167158329958416,-0.033911930360870084,-1.9700550067826965,-0.02574803290346344,0.3794547728684391,-1.4103559279651778,1.0208301284403738,-1.6901429429533048,1.5697762867784217,-1.1365048100216353,-0.16786990398521856,-1.3683080519549378,0.6732207688411338,-0.724524608367036,-1.6556190684717973,1.405498473751612,-1.585448471793164,0.39518907167519784,0.15531514996168058,-0.4328193574850774,-0.8375570848807239,2.0230704348373942,-0.17582755292970423,1.9225970664687468,-1.5139377738915847,-0.4490913077935091,1.2021633853196803,-1.1047775425974564,0.7485099120378153,-0.8506817463527888,-0.1508540110465642,-0.4806223905826818,-0.009409878169259062,-0.13773066448041185,0.9187758383578031,0.24586887682641126,-0.4105378015561218,0.7002100378602496,1.0152904608914048,-0.05662237441840279,-1.1519555057371014,0.47741060260304125,-0.9356334286067687,-0.2816607396441667,1.2079854210569332,-0.9374091758648114,0.33622495387200485,0.017240232316663457,0.6281700912130026,-1.001311001407909,-0.01697870692670627,-1.6009597764633763,0.12951776927639422,-0.4318016346568667,0.6446717409546772,-1.765416896232608,-0.6206312391014545,-0.5616885246922951,1.5158834462222572,0.40289717199054675,0.7031019990192451,-0.7247400440690024,-2.2789079087356514,0.9516348236040112,0.5500106106728779,-0.6256799087748532,-1.2447989248999347,-1.5713689300682712,1.6189765467065518,-0.352213379315518,-1.418362779696527,1.0450315791300482,0.15528639631566069,0.4511257837375593,-0.18485970986316355],\"type\":\"scatter\"}],                        {\"legend\":{\"bgcolor\":\"#F5F6F9\",\"font\":{\"color\":\"#4D5663\"}},\"paper_bgcolor\":\"#F5F6F9\",\"plot_bgcolor\":\"#F5F6F9\",\"template\":{\"data\":{\"barpolar\":[{\"marker\":{\"line\":{\"color\":\"#E5ECF6\",\"width\":0.5},\"pattern\":{\"fillmode\":\"overlay\",\"size\":10,\"solidity\":0.2}},\"type\":\"barpolar\"}],\"bar\":[{\"error_x\":{\"color\":\"#2a3f5f\"},\"error_y\":{\"color\":\"#2a3f5f\"},\"marker\":{\"line\":{\"color\":\"#E5ECF6\",\"width\":0.5},\"pattern\":{\"fillmode\":\"overlay\",\"size\":10,\"solidity\":0.2}},\"type\":\"bar\"}],\"carpet\":[{\"aaxis\":{\"endlinecolor\":\"#2a3f5f\",\"gridcolor\":\"white\",\"linecolor\":\"white\",\"minorgridcolor\":\"white\",\"startlinecolor\":\"#2a3f5f\"},\"baxis\":{\"endlinecolor\":\"#2a3f5f\",\"gridcolor\":\"white\",\"linecolor\":\"white\",\"minorgridcolor\":\"white\",\"startlinecolor\":\"#2a3f5f\"},\"type\":\"carpet\"}],\"choropleth\":[{\"colorbar\":{\"outlinewidth\":0,\"ticks\":\"\"},\"type\":\"choropleth\"}],\"contourcarpet\":[{\"colorbar\":{\"outlinewidth\":0,\"ticks\":\"\"},\"type\":\"contourcarpet\"}],\"contour\":[{\"colorbar\":{\"outlinewidth\":0,\"ticks\":\"\"},\"colorscale\":[[0.0,\"#0d0887\"],[0.1111111111111111,\"#46039f\"],[0.2222222222222222,\"#7201a8\"],[0.3333333333333333,\"#9c179e\"],[0.4444444444444444,\"#bd3786\"],[0.5555555555555556,\"#d8576b\"],[0.6666666666666666,\"#ed7953\"],[0.7777777777777778,\"#fb9f3a\"],[0.8888888888888888,\"#fdca26\"],[1.0,\"#f0f921\"]],\"type\":\"contour\"}],\"heatmapgl\":[{\"colorbar\":{\"outlinewidth\":0,\"ticks\":\"\"},\"colorscale\":[[0.0,\"#0d0887\"],[0.1111111111111111,\"#46039f\"],[0.2222222222222222,\"#7201a8\"],[0.3333333333333333,\"#9c179e\"],[0.4444444444444444,\"#bd3786\"],[0.5555555555555556,\"#d8576b\"],[0.6666666666666666,\"#ed7953\"],[0.7777777777777778,\"#fb9f3a\"],[0.8888888888888888,\"#fdca26\"],[1.0,\"#f0f921\"]],\"type\":\"heatmapgl\"}],\"heatmap\":[{\"colorbar\":{\"outlinewidth\":0,\"ticks\":\"\"},\"colorscale\":[[0.0,\"#0d0887\"],[0.1111111111111111,\"#46039f\"],[0.2222222222222222,\"#7201a8\"],[0.3333333333333333,\"#9c179e\"],[0.4444444444444444,\"#bd3786\"],[0.5555555555555556,\"#d8576b\"],[0.6666666666666666,\"#ed7953\"],[0.7777777777777778,\"#fb9f3a\"],[0.8888888888888888,\"#fdca26\"],[1.0,\"#f0f921\"]],\"type\":\"heatmap\"}],\"histogram2dcontour\":[{\"colorbar\":{\"outlinewidth\":0,\"ticks\":\"\"},\"colorscale\":[[0.0,\"#0d0887\"],[0.1111111111111111,\"#46039f\"],[0.2222222222222222,\"#7201a8\"],[0.3333333333333333,\"#9c179e\"],[0.4444444444444444,\"#bd3786\"],[0.5555555555555556,\"#d8576b\"],[0.6666666666666666,\"#ed7953\"],[0.7777777777777778,\"#fb9f3a\"],[0.8888888888888888,\"#fdca26\"],[1.0,\"#f0f921\"]],\"type\":\"histogram2dcontour\"}],\"histogram2d\":[{\"colorbar\":{\"outlinewidth\":0,\"ticks\":\"\"},\"colorscale\":[[0.0,\"#0d0887\"],[0.1111111111111111,\"#46039f\"],[0.2222222222222222,\"#7201a8\"],[0.3333333333333333,\"#9c179e\"],[0.4444444444444444,\"#bd3786\"],[0.5555555555555556,\"#d8576b\"],[0.6666666666666666,\"#ed7953\"],[0.7777777777777778,\"#fb9f3a\"],[0.8888888888888888,\"#fdca26\"],[1.0,\"#f0f921\"]],\"type\":\"histogram2d\"}],\"histogram\":[{\"marker\":{\"pattern\":{\"fillmode\":\"overlay\",\"size\":10,\"solidity\":0.2}},\"type\":\"histogram\"}],\"mesh3d\":[{\"colorbar\":{\"outlinewidth\":0,\"ticks\":\"\"},\"type\":\"mesh3d\"}],\"parcoords\":[{\"line\":{\"colorbar\":{\"outlinewidth\":0,\"ticks\":\"\"}},\"type\":\"parcoords\"}],\"pie\":[{\"automargin\":true,\"type\":\"pie\"}],\"scatter3d\":[{\"line\":{\"colorbar\":{\"outlinewidth\":0,\"ticks\":\"\"}},\"marker\":{\"colorbar\":{\"outlinewidth\":0,\"ticks\":\"\"}},\"type\":\"scatter3d\"}],\"scattercarpet\":[{\"marker\":{\"colorbar\":{\"outlinewidth\":0,\"ticks\":\"\"}},\"type\":\"scattercarpet\"}],\"scattergeo\":[{\"marker\":{\"colorbar\":{\"outlinewidth\":0,\"ticks\":\"\"}},\"type\":\"scattergeo\"}],\"scattergl\":[{\"marker\":{\"colorbar\":{\"outlinewidth\":0,\"ticks\":\"\"}},\"type\":\"scattergl\"}],\"scattermapbox\":[{\"marker\":{\"colorbar\":{\"outlinewidth\":0,\"ticks\":\"\"}},\"type\":\"scattermapbox\"}],\"scatterpolargl\":[{\"marker\":{\"colorbar\":{\"outlinewidth\":0,\"ticks\":\"\"}},\"type\":\"scatterpolargl\"}],\"scatterpolar\":[{\"marker\":{\"colorbar\":{\"outlinewidth\":0,\"ticks\":\"\"}},\"type\":\"scatterpolar\"}],\"scatter\":[{\"marker\":{\"colorbar\":{\"outlinewidth\":0,\"ticks\":\"\"}},\"type\":\"scatter\"}],\"scatterternary\":[{\"marker\":{\"colorbar\":{\"outlinewidth\":0,\"ticks\":\"\"}},\"type\":\"scatterternary\"}],\"surface\":[{\"colorbar\":{\"outlinewidth\":0,\"ticks\":\"\"},\"colorscale\":[[0.0,\"#0d0887\"],[0.1111111111111111,\"#46039f\"],[0.2222222222222222,\"#7201a8\"],[0.3333333333333333,\"#9c179e\"],[0.4444444444444444,\"#bd3786\"],[0.5555555555555556,\"#d8576b\"],[0.6666666666666666,\"#ed7953\"],[0.7777777777777778,\"#fb9f3a\"],[0.8888888888888888,\"#fdca26\"],[1.0,\"#f0f921\"]],\"type\":\"surface\"}],\"table\":[{\"cells\":{\"fill\":{\"color\":\"#EBF0F8\"},\"line\":{\"color\":\"white\"}},\"header\":{\"fill\":{\"color\":\"#C8D4E3\"},\"line\":{\"color\":\"white\"}},\"type\":\"table\"}]},\"layout\":{\"annotationdefaults\":{\"arrowcolor\":\"#2a3f5f\",\"arrowhead\":0,\"arrowwidth\":1},\"autotypenumbers\":\"strict\",\"coloraxis\":{\"colorbar\":{\"outlinewidth\":0,\"ticks\":\"\"}},\"colorscale\":{\"diverging\":[[0,\"#8e0152\"],[0.1,\"#c51b7d\"],[0.2,\"#de77ae\"],[0.3,\"#f1b6da\"],[0.4,\"#fde0ef\"],[0.5,\"#f7f7f7\"],[0.6,\"#e6f5d0\"],[0.7,\"#b8e186\"],[0.8,\"#7fbc41\"],[0.9,\"#4d9221\"],[1,\"#276419\"]],\"sequential\":[[0.0,\"#0d0887\"],[0.1111111111111111,\"#46039f\"],[0.2222222222222222,\"#7201a8\"],[0.3333333333333333,\"#9c179e\"],[0.4444444444444444,\"#bd3786\"],[0.5555555555555556,\"#d8576b\"],[0.6666666666666666,\"#ed7953\"],[0.7777777777777778,\"#fb9f3a\"],[0.8888888888888888,\"#fdca26\"],[1.0,\"#f0f921\"]],\"sequentialminus\":[[0.0,\"#0d0887\"],[0.1111111111111111,\"#46039f\"],[0.2222222222222222,\"#7201a8\"],[0.3333333333333333,\"#9c179e\"],[0.4444444444444444,\"#bd3786\"],[0.5555555555555556,\"#d8576b\"],[0.6666666666666666,\"#ed7953\"],[0.7777777777777778,\"#fb9f3a\"],[0.8888888888888888,\"#fdca26\"],[1.0,\"#f0f921\"]]},\"colorway\":[\"#636efa\",\"#EF553B\",\"#00cc96\",\"#ab63fa\",\"#FFA15A\",\"#19d3f3\",\"#FF6692\",\"#B6E880\",\"#FF97FF\",\"#FECB52\"],\"font\":{\"color\":\"#2a3f5f\"},\"geo\":{\"bgcolor\":\"white\",\"lakecolor\":\"white\",\"landcolor\":\"#E5ECF6\",\"showlakes\":true,\"showland\":true,\"subunitcolor\":\"white\"},\"hoverlabel\":{\"align\":\"left\"},\"hovermode\":\"closest\",\"mapbox\":{\"style\":\"light\"},\"paper_bgcolor\":\"white\",\"plot_bgcolor\":\"#E5ECF6\",\"polar\":{\"angularaxis\":{\"gridcolor\":\"white\",\"linecolor\":\"white\",\"ticks\":\"\"},\"bgcolor\":\"#E5ECF6\",\"radialaxis\":{\"gridcolor\":\"white\",\"linecolor\":\"white\",\"ticks\":\"\"}},\"scene\":{\"xaxis\":{\"backgroundcolor\":\"#E5ECF6\",\"gridcolor\":\"white\",\"gridwidth\":2,\"linecolor\":\"white\",\"showbackground\":true,\"ticks\":\"\",\"zerolinecolor\":\"white\"},\"yaxis\":{\"backgroundcolor\":\"#E5ECF6\",\"gridcolor\":\"white\",\"gridwidth\":2,\"linecolor\":\"white\",\"showbackground\":true,\"ticks\":\"\",\"zerolinecolor\":\"white\"},\"zaxis\":{\"backgroundcolor\":\"#E5ECF6\",\"gridcolor\":\"white\",\"gridwidth\":2,\"linecolor\":\"white\",\"showbackground\":true,\"ticks\":\"\",\"zerolinecolor\":\"white\"}},\"shapedefaults\":{\"line\":{\"color\":\"#2a3f5f\"}},\"ternary\":{\"aaxis\":{\"gridcolor\":\"white\",\"linecolor\":\"white\",\"ticks\":\"\"},\"baxis\":{\"gridcolor\":\"white\",\"linecolor\":\"white\",\"ticks\":\"\"},\"bgcolor\":\"#E5ECF6\",\"caxis\":{\"gridcolor\":\"white\",\"linecolor\":\"white\",\"ticks\":\"\"}},\"title\":{\"x\":0.05},\"xaxis\":{\"automargin\":true,\"gridcolor\":\"white\",\"linecolor\":\"white\",\"ticks\":\"\",\"title\":{\"standoff\":15},\"zerolinecolor\":\"white\",\"zerolinewidth\":2},\"yaxis\":{\"automargin\":true,\"gridcolor\":\"white\",\"linecolor\":\"white\",\"ticks\":\"\",\"title\":{\"standoff\":15},\"zerolinecolor\":\"white\",\"zerolinewidth\":2}}},\"title\":{\"font\":{\"color\":\"#4D5663\"}},\"xaxis\":{\"gridcolor\":\"#E1E5ED\",\"showgrid\":true,\"tickfont\":{\"color\":\"#4D5663\"},\"title\":{\"font\":{\"color\":\"#4D5663\"},\"text\":\"\"},\"zerolinecolor\":\"#E1E5ED\"},\"yaxis\":{\"gridcolor\":\"#E1E5ED\",\"showgrid\":true,\"tickfont\":{\"color\":\"#4D5663\"},\"title\":{\"font\":{\"color\":\"#4D5663\"},\"text\":\"\"},\"zerolinecolor\":\"#E1E5ED\"}},                        {\"showLink\": true, \"linkText\": \"Export to plot.ly\", \"plotlyServerURL\": \"https://plot.ly\", \"responsive\": true}                    ).then(function(){\n",
       "                            \n",
       "var gd = document.getElementById('a750a440-f9af-43de-a080-7a7e88cdaa9c');\n",
       "var x = new MutationObserver(function (mutations, observer) {{\n",
       "        var display = window.getComputedStyle(gd).display;\n",
       "        if (!display || display === 'none') {{\n",
       "            console.log([gd, 'removed!']);\n",
       "            Plotly.purge(gd);\n",
       "            observer.disconnect();\n",
       "        }}\n",
       "}});\n",
       "\n",
       "// Listen for the removal of the full notebook cells\n",
       "var notebookContainer = gd.closest('#notebook-container');\n",
       "if (notebookContainer) {{\n",
       "    x.observe(notebookContainer, {childList: true});\n",
       "}}\n",
       "\n",
       "// Listen for the clearing of the current output cell\n",
       "var outputEl = gd.closest('.output');\n",
       "if (outputEl) {{\n",
       "    x.observe(outputEl, {childList: true});\n",
       "}}\n",
       "\n",
       "                        })                };                });            </script>        </div>"
      ]
     },
     "metadata": {},
     "output_type": "display_data"
    }
   ],
   "source": [
    "df.iplot(kind='scatter',x='A',y='B',mode='markers',size=20)"
   ]
  },
  {
   "cell_type": "code",
   "execution_count": 21,
   "id": "36cc1b39",
   "metadata": {},
   "outputs": [
    {
     "data": {
      "application/vnd.plotly.v1+json": {
       "config": {
        "linkText": "Export to plot.ly",
        "plotlyServerURL": "https://plot.ly",
        "showLink": true
       },
       "data": [
        {
         "marker": {
          "color": "rgba(255, 153, 51, 0.6)",
          "line": {
           "color": "rgba(255, 153, 51, 1.0)",
           "width": 1
          }
         },
         "name": "Values",
         "orientation": "v",
         "text": "",
         "type": "bar",
         "x": [
          "A",
          "B",
          "C"
         ],
         "y": [
          32,
          43,
          50
         ]
        }
       ],
       "layout": {
        "legend": {
         "bgcolor": "#F5F6F9",
         "font": {
          "color": "#4D5663"
         }
        },
        "paper_bgcolor": "#F5F6F9",
        "plot_bgcolor": "#F5F6F9",
        "template": {
         "data": {
          "bar": [
           {
            "error_x": {
             "color": "#2a3f5f"
            },
            "error_y": {
             "color": "#2a3f5f"
            },
            "marker": {
             "line": {
              "color": "#E5ECF6",
              "width": 0.5
             },
             "pattern": {
              "fillmode": "overlay",
              "size": 10,
              "solidity": 0.2
             }
            },
            "type": "bar"
           }
          ],
          "barpolar": [
           {
            "marker": {
             "line": {
              "color": "#E5ECF6",
              "width": 0.5
             },
             "pattern": {
              "fillmode": "overlay",
              "size": 10,
              "solidity": 0.2
             }
            },
            "type": "barpolar"
           }
          ],
          "carpet": [
           {
            "aaxis": {
             "endlinecolor": "#2a3f5f",
             "gridcolor": "white",
             "linecolor": "white",
             "minorgridcolor": "white",
             "startlinecolor": "#2a3f5f"
            },
            "baxis": {
             "endlinecolor": "#2a3f5f",
             "gridcolor": "white",
             "linecolor": "white",
             "minorgridcolor": "white",
             "startlinecolor": "#2a3f5f"
            },
            "type": "carpet"
           }
          ],
          "choropleth": [
           {
            "colorbar": {
             "outlinewidth": 0,
             "ticks": ""
            },
            "type": "choropleth"
           }
          ],
          "contour": [
           {
            "colorbar": {
             "outlinewidth": 0,
             "ticks": ""
            },
            "colorscale": [
             [
              0,
              "#0d0887"
             ],
             [
              0.1111111111111111,
              "#46039f"
             ],
             [
              0.2222222222222222,
              "#7201a8"
             ],
             [
              0.3333333333333333,
              "#9c179e"
             ],
             [
              0.4444444444444444,
              "#bd3786"
             ],
             [
              0.5555555555555556,
              "#d8576b"
             ],
             [
              0.6666666666666666,
              "#ed7953"
             ],
             [
              0.7777777777777778,
              "#fb9f3a"
             ],
             [
              0.8888888888888888,
              "#fdca26"
             ],
             [
              1,
              "#f0f921"
             ]
            ],
            "type": "contour"
           }
          ],
          "contourcarpet": [
           {
            "colorbar": {
             "outlinewidth": 0,
             "ticks": ""
            },
            "type": "contourcarpet"
           }
          ],
          "heatmap": [
           {
            "colorbar": {
             "outlinewidth": 0,
             "ticks": ""
            },
            "colorscale": [
             [
              0,
              "#0d0887"
             ],
             [
              0.1111111111111111,
              "#46039f"
             ],
             [
              0.2222222222222222,
              "#7201a8"
             ],
             [
              0.3333333333333333,
              "#9c179e"
             ],
             [
              0.4444444444444444,
              "#bd3786"
             ],
             [
              0.5555555555555556,
              "#d8576b"
             ],
             [
              0.6666666666666666,
              "#ed7953"
             ],
             [
              0.7777777777777778,
              "#fb9f3a"
             ],
             [
              0.8888888888888888,
              "#fdca26"
             ],
             [
              1,
              "#f0f921"
             ]
            ],
            "type": "heatmap"
           }
          ],
          "heatmapgl": [
           {
            "colorbar": {
             "outlinewidth": 0,
             "ticks": ""
            },
            "colorscale": [
             [
              0,
              "#0d0887"
             ],
             [
              0.1111111111111111,
              "#46039f"
             ],
             [
              0.2222222222222222,
              "#7201a8"
             ],
             [
              0.3333333333333333,
              "#9c179e"
             ],
             [
              0.4444444444444444,
              "#bd3786"
             ],
             [
              0.5555555555555556,
              "#d8576b"
             ],
             [
              0.6666666666666666,
              "#ed7953"
             ],
             [
              0.7777777777777778,
              "#fb9f3a"
             ],
             [
              0.8888888888888888,
              "#fdca26"
             ],
             [
              1,
              "#f0f921"
             ]
            ],
            "type": "heatmapgl"
           }
          ],
          "histogram": [
           {
            "marker": {
             "pattern": {
              "fillmode": "overlay",
              "size": 10,
              "solidity": 0.2
             }
            },
            "type": "histogram"
           }
          ],
          "histogram2d": [
           {
            "colorbar": {
             "outlinewidth": 0,
             "ticks": ""
            },
            "colorscale": [
             [
              0,
              "#0d0887"
             ],
             [
              0.1111111111111111,
              "#46039f"
             ],
             [
              0.2222222222222222,
              "#7201a8"
             ],
             [
              0.3333333333333333,
              "#9c179e"
             ],
             [
              0.4444444444444444,
              "#bd3786"
             ],
             [
              0.5555555555555556,
              "#d8576b"
             ],
             [
              0.6666666666666666,
              "#ed7953"
             ],
             [
              0.7777777777777778,
              "#fb9f3a"
             ],
             [
              0.8888888888888888,
              "#fdca26"
             ],
             [
              1,
              "#f0f921"
             ]
            ],
            "type": "histogram2d"
           }
          ],
          "histogram2dcontour": [
           {
            "colorbar": {
             "outlinewidth": 0,
             "ticks": ""
            },
            "colorscale": [
             [
              0,
              "#0d0887"
             ],
             [
              0.1111111111111111,
              "#46039f"
             ],
             [
              0.2222222222222222,
              "#7201a8"
             ],
             [
              0.3333333333333333,
              "#9c179e"
             ],
             [
              0.4444444444444444,
              "#bd3786"
             ],
             [
              0.5555555555555556,
              "#d8576b"
             ],
             [
              0.6666666666666666,
              "#ed7953"
             ],
             [
              0.7777777777777778,
              "#fb9f3a"
             ],
             [
              0.8888888888888888,
              "#fdca26"
             ],
             [
              1,
              "#f0f921"
             ]
            ],
            "type": "histogram2dcontour"
           }
          ],
          "mesh3d": [
           {
            "colorbar": {
             "outlinewidth": 0,
             "ticks": ""
            },
            "type": "mesh3d"
           }
          ],
          "parcoords": [
           {
            "line": {
             "colorbar": {
              "outlinewidth": 0,
              "ticks": ""
             }
            },
            "type": "parcoords"
           }
          ],
          "pie": [
           {
            "automargin": true,
            "type": "pie"
           }
          ],
          "scatter": [
           {
            "marker": {
             "colorbar": {
              "outlinewidth": 0,
              "ticks": ""
             }
            },
            "type": "scatter"
           }
          ],
          "scatter3d": [
           {
            "line": {
             "colorbar": {
              "outlinewidth": 0,
              "ticks": ""
             }
            },
            "marker": {
             "colorbar": {
              "outlinewidth": 0,
              "ticks": ""
             }
            },
            "type": "scatter3d"
           }
          ],
          "scattercarpet": [
           {
            "marker": {
             "colorbar": {
              "outlinewidth": 0,
              "ticks": ""
             }
            },
            "type": "scattercarpet"
           }
          ],
          "scattergeo": [
           {
            "marker": {
             "colorbar": {
              "outlinewidth": 0,
              "ticks": ""
             }
            },
            "type": "scattergeo"
           }
          ],
          "scattergl": [
           {
            "marker": {
             "colorbar": {
              "outlinewidth": 0,
              "ticks": ""
             }
            },
            "type": "scattergl"
           }
          ],
          "scattermapbox": [
           {
            "marker": {
             "colorbar": {
              "outlinewidth": 0,
              "ticks": ""
             }
            },
            "type": "scattermapbox"
           }
          ],
          "scatterpolar": [
           {
            "marker": {
             "colorbar": {
              "outlinewidth": 0,
              "ticks": ""
             }
            },
            "type": "scatterpolar"
           }
          ],
          "scatterpolargl": [
           {
            "marker": {
             "colorbar": {
              "outlinewidth": 0,
              "ticks": ""
             }
            },
            "type": "scatterpolargl"
           }
          ],
          "scatterternary": [
           {
            "marker": {
             "colorbar": {
              "outlinewidth": 0,
              "ticks": ""
             }
            },
            "type": "scatterternary"
           }
          ],
          "surface": [
           {
            "colorbar": {
             "outlinewidth": 0,
             "ticks": ""
            },
            "colorscale": [
             [
              0,
              "#0d0887"
             ],
             [
              0.1111111111111111,
              "#46039f"
             ],
             [
              0.2222222222222222,
              "#7201a8"
             ],
             [
              0.3333333333333333,
              "#9c179e"
             ],
             [
              0.4444444444444444,
              "#bd3786"
             ],
             [
              0.5555555555555556,
              "#d8576b"
             ],
             [
              0.6666666666666666,
              "#ed7953"
             ],
             [
              0.7777777777777778,
              "#fb9f3a"
             ],
             [
              0.8888888888888888,
              "#fdca26"
             ],
             [
              1,
              "#f0f921"
             ]
            ],
            "type": "surface"
           }
          ],
          "table": [
           {
            "cells": {
             "fill": {
              "color": "#EBF0F8"
             },
             "line": {
              "color": "white"
             }
            },
            "header": {
             "fill": {
              "color": "#C8D4E3"
             },
             "line": {
              "color": "white"
             }
            },
            "type": "table"
           }
          ]
         },
         "layout": {
          "annotationdefaults": {
           "arrowcolor": "#2a3f5f",
           "arrowhead": 0,
           "arrowwidth": 1
          },
          "autotypenumbers": "strict",
          "coloraxis": {
           "colorbar": {
            "outlinewidth": 0,
            "ticks": ""
           }
          },
          "colorscale": {
           "diverging": [
            [
             0,
             "#8e0152"
            ],
            [
             0.1,
             "#c51b7d"
            ],
            [
             0.2,
             "#de77ae"
            ],
            [
             0.3,
             "#f1b6da"
            ],
            [
             0.4,
             "#fde0ef"
            ],
            [
             0.5,
             "#f7f7f7"
            ],
            [
             0.6,
             "#e6f5d0"
            ],
            [
             0.7,
             "#b8e186"
            ],
            [
             0.8,
             "#7fbc41"
            ],
            [
             0.9,
             "#4d9221"
            ],
            [
             1,
             "#276419"
            ]
           ],
           "sequential": [
            [
             0,
             "#0d0887"
            ],
            [
             0.1111111111111111,
             "#46039f"
            ],
            [
             0.2222222222222222,
             "#7201a8"
            ],
            [
             0.3333333333333333,
             "#9c179e"
            ],
            [
             0.4444444444444444,
             "#bd3786"
            ],
            [
             0.5555555555555556,
             "#d8576b"
            ],
            [
             0.6666666666666666,
             "#ed7953"
            ],
            [
             0.7777777777777778,
             "#fb9f3a"
            ],
            [
             0.8888888888888888,
             "#fdca26"
            ],
            [
             1,
             "#f0f921"
            ]
           ],
           "sequentialminus": [
            [
             0,
             "#0d0887"
            ],
            [
             0.1111111111111111,
             "#46039f"
            ],
            [
             0.2222222222222222,
             "#7201a8"
            ],
            [
             0.3333333333333333,
             "#9c179e"
            ],
            [
             0.4444444444444444,
             "#bd3786"
            ],
            [
             0.5555555555555556,
             "#d8576b"
            ],
            [
             0.6666666666666666,
             "#ed7953"
            ],
            [
             0.7777777777777778,
             "#fb9f3a"
            ],
            [
             0.8888888888888888,
             "#fdca26"
            ],
            [
             1,
             "#f0f921"
            ]
           ]
          },
          "colorway": [
           "#636efa",
           "#EF553B",
           "#00cc96",
           "#ab63fa",
           "#FFA15A",
           "#19d3f3",
           "#FF6692",
           "#B6E880",
           "#FF97FF",
           "#FECB52"
          ],
          "font": {
           "color": "#2a3f5f"
          },
          "geo": {
           "bgcolor": "white",
           "lakecolor": "white",
           "landcolor": "#E5ECF6",
           "showlakes": true,
           "showland": true,
           "subunitcolor": "white"
          },
          "hoverlabel": {
           "align": "left"
          },
          "hovermode": "closest",
          "mapbox": {
           "style": "light"
          },
          "paper_bgcolor": "white",
          "plot_bgcolor": "#E5ECF6",
          "polar": {
           "angularaxis": {
            "gridcolor": "white",
            "linecolor": "white",
            "ticks": ""
           },
           "bgcolor": "#E5ECF6",
           "radialaxis": {
            "gridcolor": "white",
            "linecolor": "white",
            "ticks": ""
           }
          },
          "scene": {
           "xaxis": {
            "backgroundcolor": "#E5ECF6",
            "gridcolor": "white",
            "gridwidth": 2,
            "linecolor": "white",
            "showbackground": true,
            "ticks": "",
            "zerolinecolor": "white"
           },
           "yaxis": {
            "backgroundcolor": "#E5ECF6",
            "gridcolor": "white",
            "gridwidth": 2,
            "linecolor": "white",
            "showbackground": true,
            "ticks": "",
            "zerolinecolor": "white"
           },
           "zaxis": {
            "backgroundcolor": "#E5ECF6",
            "gridcolor": "white",
            "gridwidth": 2,
            "linecolor": "white",
            "showbackground": true,
            "ticks": "",
            "zerolinecolor": "white"
           }
          },
          "shapedefaults": {
           "line": {
            "color": "#2a3f5f"
           }
          },
          "ternary": {
           "aaxis": {
            "gridcolor": "white",
            "linecolor": "white",
            "ticks": ""
           },
           "baxis": {
            "gridcolor": "white",
            "linecolor": "white",
            "ticks": ""
           },
           "bgcolor": "#E5ECF6",
           "caxis": {
            "gridcolor": "white",
            "linecolor": "white",
            "ticks": ""
           }
          },
          "title": {
           "x": 0.05
          },
          "xaxis": {
           "automargin": true,
           "gridcolor": "white",
           "linecolor": "white",
           "ticks": "",
           "title": {
            "standoff": 15
           },
           "zerolinecolor": "white",
           "zerolinewidth": 2
          },
          "yaxis": {
           "automargin": true,
           "gridcolor": "white",
           "linecolor": "white",
           "ticks": "",
           "title": {
            "standoff": 15
           },
           "zerolinecolor": "white",
           "zerolinewidth": 2
          }
         }
        },
        "title": {
         "font": {
          "color": "#4D5663"
         }
        },
        "xaxis": {
         "gridcolor": "#E1E5ED",
         "showgrid": true,
         "tickfont": {
          "color": "#4D5663"
         },
         "title": {
          "font": {
           "color": "#4D5663"
          },
          "text": ""
         },
         "zerolinecolor": "#E1E5ED"
        },
        "yaxis": {
         "gridcolor": "#E1E5ED",
         "showgrid": true,
         "tickfont": {
          "color": "#4D5663"
         },
         "title": {
          "font": {
           "color": "#4D5663"
          },
          "text": ""
         },
         "zerolinecolor": "#E1E5ED"
        }
       }
      },
      "text/html": [
       "<div>                            <div id=\"7c722bd1-b38e-457c-b7f4-a984a1a27b1e\" class=\"plotly-graph-div\" style=\"height:525px; width:100%;\"></div>            <script type=\"text/javascript\">                require([\"plotly\"], function(Plotly) {                    window.PLOTLYENV=window.PLOTLYENV || {};\n",
       "                    window.PLOTLYENV.BASE_URL='https://plot.ly';                                    if (document.getElementById(\"7c722bd1-b38e-457c-b7f4-a984a1a27b1e\")) {                    Plotly.newPlot(                        \"7c722bd1-b38e-457c-b7f4-a984a1a27b1e\",                        [{\"marker\":{\"color\":\"rgba(255, 153, 51, 0.6)\",\"line\":{\"color\":\"rgba(255, 153, 51, 1.0)\",\"width\":1}},\"name\":\"Values\",\"orientation\":\"v\",\"text\":\"\",\"x\":[\"A\",\"B\",\"C\"],\"y\":[32,43,50],\"type\":\"bar\"}],                        {\"legend\":{\"bgcolor\":\"#F5F6F9\",\"font\":{\"color\":\"#4D5663\"}},\"paper_bgcolor\":\"#F5F6F9\",\"plot_bgcolor\":\"#F5F6F9\",\"template\":{\"data\":{\"barpolar\":[{\"marker\":{\"line\":{\"color\":\"#E5ECF6\",\"width\":0.5},\"pattern\":{\"fillmode\":\"overlay\",\"size\":10,\"solidity\":0.2}},\"type\":\"barpolar\"}],\"bar\":[{\"error_x\":{\"color\":\"#2a3f5f\"},\"error_y\":{\"color\":\"#2a3f5f\"},\"marker\":{\"line\":{\"color\":\"#E5ECF6\",\"width\":0.5},\"pattern\":{\"fillmode\":\"overlay\",\"size\":10,\"solidity\":0.2}},\"type\":\"bar\"}],\"carpet\":[{\"aaxis\":{\"endlinecolor\":\"#2a3f5f\",\"gridcolor\":\"white\",\"linecolor\":\"white\",\"minorgridcolor\":\"white\",\"startlinecolor\":\"#2a3f5f\"},\"baxis\":{\"endlinecolor\":\"#2a3f5f\",\"gridcolor\":\"white\",\"linecolor\":\"white\",\"minorgridcolor\":\"white\",\"startlinecolor\":\"#2a3f5f\"},\"type\":\"carpet\"}],\"choropleth\":[{\"colorbar\":{\"outlinewidth\":0,\"ticks\":\"\"},\"type\":\"choropleth\"}],\"contourcarpet\":[{\"colorbar\":{\"outlinewidth\":0,\"ticks\":\"\"},\"type\":\"contourcarpet\"}],\"contour\":[{\"colorbar\":{\"outlinewidth\":0,\"ticks\":\"\"},\"colorscale\":[[0.0,\"#0d0887\"],[0.1111111111111111,\"#46039f\"],[0.2222222222222222,\"#7201a8\"],[0.3333333333333333,\"#9c179e\"],[0.4444444444444444,\"#bd3786\"],[0.5555555555555556,\"#d8576b\"],[0.6666666666666666,\"#ed7953\"],[0.7777777777777778,\"#fb9f3a\"],[0.8888888888888888,\"#fdca26\"],[1.0,\"#f0f921\"]],\"type\":\"contour\"}],\"heatmapgl\":[{\"colorbar\":{\"outlinewidth\":0,\"ticks\":\"\"},\"colorscale\":[[0.0,\"#0d0887\"],[0.1111111111111111,\"#46039f\"],[0.2222222222222222,\"#7201a8\"],[0.3333333333333333,\"#9c179e\"],[0.4444444444444444,\"#bd3786\"],[0.5555555555555556,\"#d8576b\"],[0.6666666666666666,\"#ed7953\"],[0.7777777777777778,\"#fb9f3a\"],[0.8888888888888888,\"#fdca26\"],[1.0,\"#f0f921\"]],\"type\":\"heatmapgl\"}],\"heatmap\":[{\"colorbar\":{\"outlinewidth\":0,\"ticks\":\"\"},\"colorscale\":[[0.0,\"#0d0887\"],[0.1111111111111111,\"#46039f\"],[0.2222222222222222,\"#7201a8\"],[0.3333333333333333,\"#9c179e\"],[0.4444444444444444,\"#bd3786\"],[0.5555555555555556,\"#d8576b\"],[0.6666666666666666,\"#ed7953\"],[0.7777777777777778,\"#fb9f3a\"],[0.8888888888888888,\"#fdca26\"],[1.0,\"#f0f921\"]],\"type\":\"heatmap\"}],\"histogram2dcontour\":[{\"colorbar\":{\"outlinewidth\":0,\"ticks\":\"\"},\"colorscale\":[[0.0,\"#0d0887\"],[0.1111111111111111,\"#46039f\"],[0.2222222222222222,\"#7201a8\"],[0.3333333333333333,\"#9c179e\"],[0.4444444444444444,\"#bd3786\"],[0.5555555555555556,\"#d8576b\"],[0.6666666666666666,\"#ed7953\"],[0.7777777777777778,\"#fb9f3a\"],[0.8888888888888888,\"#fdca26\"],[1.0,\"#f0f921\"]],\"type\":\"histogram2dcontour\"}],\"histogram2d\":[{\"colorbar\":{\"outlinewidth\":0,\"ticks\":\"\"},\"colorscale\":[[0.0,\"#0d0887\"],[0.1111111111111111,\"#46039f\"],[0.2222222222222222,\"#7201a8\"],[0.3333333333333333,\"#9c179e\"],[0.4444444444444444,\"#bd3786\"],[0.5555555555555556,\"#d8576b\"],[0.6666666666666666,\"#ed7953\"],[0.7777777777777778,\"#fb9f3a\"],[0.8888888888888888,\"#fdca26\"],[1.0,\"#f0f921\"]],\"type\":\"histogram2d\"}],\"histogram\":[{\"marker\":{\"pattern\":{\"fillmode\":\"overlay\",\"size\":10,\"solidity\":0.2}},\"type\":\"histogram\"}],\"mesh3d\":[{\"colorbar\":{\"outlinewidth\":0,\"ticks\":\"\"},\"type\":\"mesh3d\"}],\"parcoords\":[{\"line\":{\"colorbar\":{\"outlinewidth\":0,\"ticks\":\"\"}},\"type\":\"parcoords\"}],\"pie\":[{\"automargin\":true,\"type\":\"pie\"}],\"scatter3d\":[{\"line\":{\"colorbar\":{\"outlinewidth\":0,\"ticks\":\"\"}},\"marker\":{\"colorbar\":{\"outlinewidth\":0,\"ticks\":\"\"}},\"type\":\"scatter3d\"}],\"scattercarpet\":[{\"marker\":{\"colorbar\":{\"outlinewidth\":0,\"ticks\":\"\"}},\"type\":\"scattercarpet\"}],\"scattergeo\":[{\"marker\":{\"colorbar\":{\"outlinewidth\":0,\"ticks\":\"\"}},\"type\":\"scattergeo\"}],\"scattergl\":[{\"marker\":{\"colorbar\":{\"outlinewidth\":0,\"ticks\":\"\"}},\"type\":\"scattergl\"}],\"scattermapbox\":[{\"marker\":{\"colorbar\":{\"outlinewidth\":0,\"ticks\":\"\"}},\"type\":\"scattermapbox\"}],\"scatterpolargl\":[{\"marker\":{\"colorbar\":{\"outlinewidth\":0,\"ticks\":\"\"}},\"type\":\"scatterpolargl\"}],\"scatterpolar\":[{\"marker\":{\"colorbar\":{\"outlinewidth\":0,\"ticks\":\"\"}},\"type\":\"scatterpolar\"}],\"scatter\":[{\"marker\":{\"colorbar\":{\"outlinewidth\":0,\"ticks\":\"\"}},\"type\":\"scatter\"}],\"scatterternary\":[{\"marker\":{\"colorbar\":{\"outlinewidth\":0,\"ticks\":\"\"}},\"type\":\"scatterternary\"}],\"surface\":[{\"colorbar\":{\"outlinewidth\":0,\"ticks\":\"\"},\"colorscale\":[[0.0,\"#0d0887\"],[0.1111111111111111,\"#46039f\"],[0.2222222222222222,\"#7201a8\"],[0.3333333333333333,\"#9c179e\"],[0.4444444444444444,\"#bd3786\"],[0.5555555555555556,\"#d8576b\"],[0.6666666666666666,\"#ed7953\"],[0.7777777777777778,\"#fb9f3a\"],[0.8888888888888888,\"#fdca26\"],[1.0,\"#f0f921\"]],\"type\":\"surface\"}],\"table\":[{\"cells\":{\"fill\":{\"color\":\"#EBF0F8\"},\"line\":{\"color\":\"white\"}},\"header\":{\"fill\":{\"color\":\"#C8D4E3\"},\"line\":{\"color\":\"white\"}},\"type\":\"table\"}]},\"layout\":{\"annotationdefaults\":{\"arrowcolor\":\"#2a3f5f\",\"arrowhead\":0,\"arrowwidth\":1},\"autotypenumbers\":\"strict\",\"coloraxis\":{\"colorbar\":{\"outlinewidth\":0,\"ticks\":\"\"}},\"colorscale\":{\"diverging\":[[0,\"#8e0152\"],[0.1,\"#c51b7d\"],[0.2,\"#de77ae\"],[0.3,\"#f1b6da\"],[0.4,\"#fde0ef\"],[0.5,\"#f7f7f7\"],[0.6,\"#e6f5d0\"],[0.7,\"#b8e186\"],[0.8,\"#7fbc41\"],[0.9,\"#4d9221\"],[1,\"#276419\"]],\"sequential\":[[0.0,\"#0d0887\"],[0.1111111111111111,\"#46039f\"],[0.2222222222222222,\"#7201a8\"],[0.3333333333333333,\"#9c179e\"],[0.4444444444444444,\"#bd3786\"],[0.5555555555555556,\"#d8576b\"],[0.6666666666666666,\"#ed7953\"],[0.7777777777777778,\"#fb9f3a\"],[0.8888888888888888,\"#fdca26\"],[1.0,\"#f0f921\"]],\"sequentialminus\":[[0.0,\"#0d0887\"],[0.1111111111111111,\"#46039f\"],[0.2222222222222222,\"#7201a8\"],[0.3333333333333333,\"#9c179e\"],[0.4444444444444444,\"#bd3786\"],[0.5555555555555556,\"#d8576b\"],[0.6666666666666666,\"#ed7953\"],[0.7777777777777778,\"#fb9f3a\"],[0.8888888888888888,\"#fdca26\"],[1.0,\"#f0f921\"]]},\"colorway\":[\"#636efa\",\"#EF553B\",\"#00cc96\",\"#ab63fa\",\"#FFA15A\",\"#19d3f3\",\"#FF6692\",\"#B6E880\",\"#FF97FF\",\"#FECB52\"],\"font\":{\"color\":\"#2a3f5f\"},\"geo\":{\"bgcolor\":\"white\",\"lakecolor\":\"white\",\"landcolor\":\"#E5ECF6\",\"showlakes\":true,\"showland\":true,\"subunitcolor\":\"white\"},\"hoverlabel\":{\"align\":\"left\"},\"hovermode\":\"closest\",\"mapbox\":{\"style\":\"light\"},\"paper_bgcolor\":\"white\",\"plot_bgcolor\":\"#E5ECF6\",\"polar\":{\"angularaxis\":{\"gridcolor\":\"white\",\"linecolor\":\"white\",\"ticks\":\"\"},\"bgcolor\":\"#E5ECF6\",\"radialaxis\":{\"gridcolor\":\"white\",\"linecolor\":\"white\",\"ticks\":\"\"}},\"scene\":{\"xaxis\":{\"backgroundcolor\":\"#E5ECF6\",\"gridcolor\":\"white\",\"gridwidth\":2,\"linecolor\":\"white\",\"showbackground\":true,\"ticks\":\"\",\"zerolinecolor\":\"white\"},\"yaxis\":{\"backgroundcolor\":\"#E5ECF6\",\"gridcolor\":\"white\",\"gridwidth\":2,\"linecolor\":\"white\",\"showbackground\":true,\"ticks\":\"\",\"zerolinecolor\":\"white\"},\"zaxis\":{\"backgroundcolor\":\"#E5ECF6\",\"gridcolor\":\"white\",\"gridwidth\":2,\"linecolor\":\"white\",\"showbackground\":true,\"ticks\":\"\",\"zerolinecolor\":\"white\"}},\"shapedefaults\":{\"line\":{\"color\":\"#2a3f5f\"}},\"ternary\":{\"aaxis\":{\"gridcolor\":\"white\",\"linecolor\":\"white\",\"ticks\":\"\"},\"baxis\":{\"gridcolor\":\"white\",\"linecolor\":\"white\",\"ticks\":\"\"},\"bgcolor\":\"#E5ECF6\",\"caxis\":{\"gridcolor\":\"white\",\"linecolor\":\"white\",\"ticks\":\"\"}},\"title\":{\"x\":0.05},\"xaxis\":{\"automargin\":true,\"gridcolor\":\"white\",\"linecolor\":\"white\",\"ticks\":\"\",\"title\":{\"standoff\":15},\"zerolinecolor\":\"white\",\"zerolinewidth\":2},\"yaxis\":{\"automargin\":true,\"gridcolor\":\"white\",\"linecolor\":\"white\",\"ticks\":\"\",\"title\":{\"standoff\":15},\"zerolinecolor\":\"white\",\"zerolinewidth\":2}}},\"title\":{\"font\":{\"color\":\"#4D5663\"}},\"xaxis\":{\"gridcolor\":\"#E1E5ED\",\"showgrid\":true,\"tickfont\":{\"color\":\"#4D5663\"},\"title\":{\"font\":{\"color\":\"#4D5663\"},\"text\":\"\"},\"zerolinecolor\":\"#E1E5ED\"},\"yaxis\":{\"gridcolor\":\"#E1E5ED\",\"showgrid\":true,\"tickfont\":{\"color\":\"#4D5663\"},\"title\":{\"font\":{\"color\":\"#4D5663\"},\"text\":\"\"},\"zerolinecolor\":\"#E1E5ED\"}},                        {\"showLink\": true, \"linkText\": \"Export to plot.ly\", \"plotlyServerURL\": \"https://plot.ly\", \"responsive\": true}                    ).then(function(){\n",
       "                            \n",
       "var gd = document.getElementById('7c722bd1-b38e-457c-b7f4-a984a1a27b1e');\n",
       "var x = new MutationObserver(function (mutations, observer) {{\n",
       "        var display = window.getComputedStyle(gd).display;\n",
       "        if (!display || display === 'none') {{\n",
       "            console.log([gd, 'removed!']);\n",
       "            Plotly.purge(gd);\n",
       "            observer.disconnect();\n",
       "        }}\n",
       "}});\n",
       "\n",
       "// Listen for the removal of the full notebook cells\n",
       "var notebookContainer = gd.closest('#notebook-container');\n",
       "if (notebookContainer) {{\n",
       "    x.observe(notebookContainer, {childList: true});\n",
       "}}\n",
       "\n",
       "// Listen for the clearing of the current output cell\n",
       "var outputEl = gd.closest('.output');\n",
       "if (outputEl) {{\n",
       "    x.observe(outputEl, {childList: true});\n",
       "}}\n",
       "\n",
       "                        })                };                });            </script>        </div>"
      ]
     },
     "metadata": {},
     "output_type": "display_data"
    }
   ],
   "source": [
    "df2.iplot(kind='bar',x='Category',y='Values')"
   ]
  },
  {
   "cell_type": "code",
   "execution_count": 22,
   "id": "f91405b2",
   "metadata": {},
   "outputs": [
    {
     "data": {
      "application/vnd.plotly.v1+json": {
       "config": {
        "linkText": "Export to plot.ly",
        "plotlyServerURL": "https://plot.ly",
        "showLink": true
       },
       "data": [
        {
         "marker": {
          "color": "rgba(255, 153, 51, 0.6)",
          "line": {
           "color": "rgba(255, 153, 51, 1.0)",
           "width": 1
          }
         },
         "name": "A",
         "orientation": "v",
         "text": "",
         "type": "bar",
         "x": [
          0,
          1,
          2,
          3,
          4,
          5,
          6,
          7,
          8,
          9,
          10,
          11,
          12,
          13,
          14,
          15,
          16,
          17,
          18,
          19,
          20,
          21,
          22,
          23,
          24,
          25,
          26,
          27,
          28,
          29,
          30,
          31,
          32,
          33,
          34,
          35,
          36,
          37,
          38,
          39,
          40,
          41,
          42,
          43,
          44,
          45,
          46,
          47,
          48,
          49,
          50,
          51,
          52,
          53,
          54,
          55,
          56,
          57,
          58,
          59,
          60,
          61,
          62,
          63,
          64,
          65,
          66,
          67,
          68,
          69,
          70,
          71,
          72,
          73,
          74,
          75,
          76,
          77,
          78,
          79,
          80,
          81,
          82,
          83,
          84,
          85,
          86,
          87,
          88,
          89,
          90,
          91,
          92,
          93,
          94,
          95,
          96,
          97,
          98,
          99
         ],
         "y": [
          0.7206021595231069,
          0.600148426769176,
          0.4104359743616993,
          1.5970755667006848,
          -1.2936619515577568,
          -0.8247653726117883,
          0.8635716441218286,
          0.9641754730341981,
          -0.023983744104136718,
          0.8936011658880695,
          -0.3997818395932563,
          -0.6968882043136051,
          -1.163879408522421,
          0.24301016267096173,
          1.5061934436070503,
          2.2293327935101708,
          -1.2735706894259167,
          0.07670212200171866,
          0.42749763295537124,
          -0.8362156804531724,
          0.23760756881529357,
          0.6125021013936939,
          0.9474786308756106,
          0.5792285211320449,
          -0.022141338115392657,
          0.1780786293235384,
          -0.4378983347210052,
          -1.9641912957964793,
          0.5884103102817879,
          1.2261746210124682,
          0.36692568501522266,
          0.5338772876220805,
          -1.0129881243922954,
          -0.05828206366226157,
          -0.4542632899292565,
          -0.9545712927080492,
          -0.4462063781298266,
          1.7850698534429827,
          -1.5714742286027275,
          -1.700569442248487,
          -0.7669013707864606,
          -3.131367504486959,
          -1.059983984922948,
          1.4162638414930868,
          1.6704485316623467,
          -0.939130190447798,
          0.8100608368265246,
          1.4254927278950735,
          0.28241386798408846,
          -0.20653442472757128,
          -1.745147679318256,
          -1.6430798662212416,
          1.3845799049888303,
          -1.378963965645226,
          -0.519571255210273,
          1.4442675469554762,
          -0.5705819989697787,
          -0.5135575214998415,
          -0.7725119707973551,
          0.4520162047149358,
          -0.7274765115358929,
          -1.3402720744289112,
          0.9327244040593339,
          -0.8271541013442341,
          -1.2064204344555705,
          0.3696430003742275,
          0.23974555131411265,
          -1.68529161912587,
          0.5231163706104487,
          0.6402595816400246,
          -0.043905994702309624,
          0.4468550288425965,
          0.37837924503019776,
          -0.033244845954011386,
          -1.1977701838216634,
          0.39756580016298637,
          -0.7081412455264934,
          0.5402103482032428,
          -1.8552901543432505,
          1.0089939294346084,
          1.587105528275671,
          -0.5601097082171755,
          0.11665409539915697,
          -0.5745241401224672,
          -2.558207307961996,
          -0.5339083790451622,
          -1.4864995681419446,
          -0.2949479595475197,
          0.6295343657985574,
          0.42971820599591787,
          1.5498386531740298,
          0.5916490519789844,
          -0.3998257461066869,
          1.9127966678340154,
          0.30283673972582165,
          0.24201125897767198,
          -1.7144830491064178,
          0.4238364675698964,
          0.60177217016106,
          -0.6508979705447588
         ]
        },
        {
         "marker": {
          "color": "rgba(55, 128, 191, 0.6)",
          "line": {
           "color": "rgba(55, 128, 191, 1.0)",
           "width": 1
          }
         },
         "name": "B",
         "orientation": "v",
         "text": "",
         "type": "bar",
         "x": [
          0,
          1,
          2,
          3,
          4,
          5,
          6,
          7,
          8,
          9,
          10,
          11,
          12,
          13,
          14,
          15,
          16,
          17,
          18,
          19,
          20,
          21,
          22,
          23,
          24,
          25,
          26,
          27,
          28,
          29,
          30,
          31,
          32,
          33,
          34,
          35,
          36,
          37,
          38,
          39,
          40,
          41,
          42,
          43,
          44,
          45,
          46,
          47,
          48,
          49,
          50,
          51,
          52,
          53,
          54,
          55,
          56,
          57,
          58,
          59,
          60,
          61,
          62,
          63,
          64,
          65,
          66,
          67,
          68,
          69,
          70,
          71,
          72,
          73,
          74,
          75,
          76,
          77,
          78,
          79,
          80,
          81,
          82,
          83,
          84,
          85,
          86,
          87,
          88,
          89,
          90,
          91,
          92,
          93,
          94,
          95,
          96,
          97,
          98,
          99
         ],
         "y": [
          0.4790002364284842,
          -0.5339133712050166,
          -0.2551232292121737,
          0.7500620133948723,
          1.0639226831377517,
          0.3028647755916625,
          0.0977690423356316,
          -0.3951140303210251,
          -0.9550331925745601,
          -0.7764745770247691,
          -1.4300120636784552,
          0.722590320396416,
          0.06063841933463821,
          0.03610652845611828,
          -0.537856030516011,
          -0.078808592696729,
          -0.3114260012747389,
          -0.8941588607600373,
          -0.5808384159219051,
          0.3834337532738288,
          0.483711206092414,
          1.6829763180132218,
          -0.8919742536174792,
          0.950467512521074,
          -0.08625549152922969,
          1.2167158329958416,
          -0.033911930360870084,
          -1.9700550067826965,
          -0.02574803290346344,
          0.3794547728684391,
          -1.4103559279651778,
          1.0208301284403738,
          -1.6901429429533048,
          1.5697762867784217,
          -1.1365048100216353,
          -0.16786990398521856,
          -1.3683080519549378,
          0.6732207688411338,
          -0.724524608367036,
          -1.6556190684717973,
          1.405498473751612,
          -1.585448471793164,
          0.39518907167519784,
          0.15531514996168058,
          -0.4328193574850774,
          -0.8375570848807239,
          2.0230704348373942,
          -0.17582755292970423,
          1.9225970664687468,
          -1.5139377738915847,
          -0.4490913077935091,
          1.2021633853196803,
          -1.1047775425974564,
          0.7485099120378153,
          -0.8506817463527888,
          -0.1508540110465642,
          -0.4806223905826818,
          -0.009409878169259062,
          -0.13773066448041185,
          0.9187758383578031,
          0.24586887682641126,
          -0.4105378015561218,
          0.7002100378602496,
          1.0152904608914048,
          -0.05662237441840279,
          -1.1519555057371014,
          0.47741060260304125,
          -0.9356334286067687,
          -0.2816607396441667,
          1.2079854210569332,
          -0.9374091758648114,
          0.33622495387200485,
          0.017240232316663457,
          0.6281700912130026,
          -1.001311001407909,
          -0.01697870692670627,
          -1.6009597764633763,
          0.12951776927639422,
          -0.4318016346568667,
          0.6446717409546772,
          -1.765416896232608,
          -0.6206312391014545,
          -0.5616885246922951,
          1.5158834462222572,
          0.40289717199054675,
          0.7031019990192451,
          -0.7247400440690024,
          -2.2789079087356514,
          0.9516348236040112,
          0.5500106106728779,
          -0.6256799087748532,
          -1.2447989248999347,
          -1.5713689300682712,
          1.6189765467065518,
          -0.352213379315518,
          -1.418362779696527,
          1.0450315791300482,
          0.15528639631566069,
          0.4511257837375593,
          -0.18485970986316355
         ]
        },
        {
         "marker": {
          "color": "rgba(50, 171, 96, 0.6)",
          "line": {
           "color": "rgba(50, 171, 96, 1.0)",
           "width": 1
          }
         },
         "name": "C",
         "orientation": "v",
         "text": "",
         "type": "bar",
         "x": [
          0,
          1,
          2,
          3,
          4,
          5,
          6,
          7,
          8,
          9,
          10,
          11,
          12,
          13,
          14,
          15,
          16,
          17,
          18,
          19,
          20,
          21,
          22,
          23,
          24,
          25,
          26,
          27,
          28,
          29,
          30,
          31,
          32,
          33,
          34,
          35,
          36,
          37,
          38,
          39,
          40,
          41,
          42,
          43,
          44,
          45,
          46,
          47,
          48,
          49,
          50,
          51,
          52,
          53,
          54,
          55,
          56,
          57,
          58,
          59,
          60,
          61,
          62,
          63,
          64,
          65,
          66,
          67,
          68,
          69,
          70,
          71,
          72,
          73,
          74,
          75,
          76,
          77,
          78,
          79,
          80,
          81,
          82,
          83,
          84,
          85,
          86,
          87,
          88,
          89,
          90,
          91,
          92,
          93,
          94,
          95,
          96,
          97,
          98,
          99
         ],
         "y": [
          -0.1710539717238674,
          0.6761120036186342,
          -0.6364901882466849,
          0.5068375166337368,
          0.8587563554081904,
          0.8815777839520635,
          1.7981957622905946,
          0.23629650342768097,
          -1.2654142235465151,
          0.9985852638112375,
          1.0140967677490105,
          1.9213050225984043,
          1.147118897460104,
          -0.5571080126333299,
          -1.5966228700302354,
          0.7799340936002608,
          -0.9773101083967402,
          1.197839159404519,
          -1.5107967182448119,
          -0.13519320205885943,
          -0.11407554694339425,
          0.0416244963029414,
          -0.11694785669789755,
          0.32555050158578663,
          -0.581746887771692,
          0.7537911994443084,
          -0.5051520940880653,
          -3.1224181613669932,
          0.25322090179614604,
          -1.709347508989651,
          -0.574636669754101,
          0.0307936632530043,
          -1.2285030245784847,
          0.2656927014665348,
          -0.3068950514033596,
          0.13240715579408738,
          0.8374575862869191,
          -1.3021623768791744,
          -1.819165996897542,
          -0.7589988455347925,
          -0.37555023383268366,
          0.17703412808151636,
          0.9212274812957582,
          2.235090436534782,
          0.22806047835346205,
          -0.15965213524816327,
          -1.8462801463145255,
          -0.5847352598471942,
          0.33665541167019086,
          0.7156454581545579,
          0.4518459352615333,
          0.3768602525240975,
          -1.0481059079241228,
          0.9391230146671161,
          -0.81760338429349,
          -1.8081487207564184,
          0.17743167887350544,
          1.039677816301545,
          -0.49954238815551105,
          -1.42924711355474,
          1.3219961035554446,
          -0.9393760389550331,
          0.3283685130185671,
          -0.23167200407406047,
          1.709823808775834,
          0.43803745965810165,
          0.8056695588712278,
          -0.8815625206777283,
          0.8010039094881437,
          0.7753082267979359,
          -0.6605696943285191,
          -0.40442949350905255,
          2.20673145237434,
          2.2480674660485405,
          2.60938032100713,
          0.543699479190823,
          0.1969871874266927,
          -0.15677733024887777,
          0.6339198380731179,
          1.4695236211918865,
          -0.46258878245316276,
          -1.417929581243472,
          -0.6428942336220342,
          -1.8015303901752648,
          -1.0836442298731181,
          0.7834492930937946,
          1.4690474511013203,
          -0.5667873756382681,
          -0.81138244564651,
          0.9312761917561393,
          0.8170173053211249,
          -0.2515329718182992,
          -0.7498444640254841,
          -1.051743373588905,
          0.004355898780761671,
          -0.14234496449937195,
          1.3343658157166423,
          1.1580565675560939,
          -0.6588853733842952,
          0.7278643918332525
         ]
        },
        {
         "marker": {
          "color": "rgba(128, 0, 128, 0.6)",
          "line": {
           "color": "rgba(128, 0, 128, 1.0)",
           "width": 1
          }
         },
         "name": "D",
         "orientation": "v",
         "text": "",
         "type": "bar",
         "x": [
          0,
          1,
          2,
          3,
          4,
          5,
          6,
          7,
          8,
          9,
          10,
          11,
          12,
          13,
          14,
          15,
          16,
          17,
          18,
          19,
          20,
          21,
          22,
          23,
          24,
          25,
          26,
          27,
          28,
          29,
          30,
          31,
          32,
          33,
          34,
          35,
          36,
          37,
          38,
          39,
          40,
          41,
          42,
          43,
          44,
          45,
          46,
          47,
          48,
          49,
          50,
          51,
          52,
          53,
          54,
          55,
          56,
          57,
          58,
          59,
          60,
          61,
          62,
          63,
          64,
          65,
          66,
          67,
          68,
          69,
          70,
          71,
          72,
          73,
          74,
          75,
          76,
          77,
          78,
          79,
          80,
          81,
          82,
          83,
          84,
          85,
          86,
          87,
          88,
          89,
          90,
          91,
          92,
          93,
          94,
          95,
          96,
          97,
          98,
          99
         ],
         "y": [
          -0.7745862644908448,
          0.5042041435436856,
          0.11653223204023365,
          -1.1959229444741741,
          -0.27292696862939264,
          0.9223229138279102,
          -0.0846199316096227,
          0.01953093084833903,
          0.6355269183584646,
          0.6666909985417896,
          0.6043012254606308,
          0.27396348046715746,
          -2.629516675257851,
          0.2797430559701173,
          0.4514205345986516,
          -0.7914312739174943,
          0.19240316995779333,
          1.4023278833167279,
          0.9432499771843861,
          1.100283579418994,
          -2.6576910228587836,
          1.220608012005847,
          0.4463762203629547,
          1.0628130916520049,
          -0.08333665257748994,
          -0.8198554339209732,
          0.08681325176953446,
          0.002710946088567911,
          -0.9134745712232382,
          -1.3781752896942985,
          -0.49077781599685016,
          0.7299785382485134,
          -0.374019643846917,
          0.43339476120969894,
          2.1120018359857964,
          -0.07222056301967658,
          -1.118430611101756,
          0.4993823157143268,
          0.7955688060257385,
          -0.3882653775714211,
          0.8007652045697838,
          -1.643699036934892,
          -1.9886441019258725,
          1.4829454813526062,
          -0.9416601411402572,
          0.15063360347531604,
          0.14947421761858792,
          -0.060953335646296604,
          0.35351471505754173,
          -0.08085370059267592,
          -1.0652731210957525,
          -1.4754535838547946,
          0.6744817451168268,
          -1.8282248056546728,
          0.23187428799008547,
          -1.4106370686259977,
          -0.11648195669724136,
          -0.5618073610721529,
          0.2428333967215472,
          0.5161467385849521,
          0.948845713709916,
          0.07121176051622159,
          -0.2594612478430401,
          0.5682260787378328,
          0.6442418035769039,
          0.16342408166701317,
          0.6225775683828786,
          -1.5409881668264611,
          -0.3367059484787146,
          0.3606308288750878,
          0.24475939866764343,
          1.6498950074974856,
          -1.1609072949372032,
          -1.240376311437029,
          -1.3595294482528577,
          -0.4989867375652803,
          -0.994521889530649,
          0.5238788685754128,
          -0.5126883562085743,
          1.638572633652777,
          1.1704216773919038,
          -0.3892984266145127,
          -1.9701693154051056,
          0.9541009998491473,
          -0.38294091155112997,
          -0.37783741567692064,
          0.007545114995654143,
          1.0102458239343455,
          -0.08041770515079398,
          -0.4099862221534074,
          -0.839011880668791,
          -0.8332599606848795,
          -1.058238678493066,
          -0.8706724320299088,
          -0.5342859606428391,
          -0.9274468507913998,
          0.8428645004405348,
          0.0021456148799246432,
          -0.7677208360543195,
          1.1517078376841599
         ]
        }
       ],
       "layout": {
        "legend": {
         "bgcolor": "#F5F6F9",
         "font": {
          "color": "#4D5663"
         }
        },
        "paper_bgcolor": "#F5F6F9",
        "plot_bgcolor": "#F5F6F9",
        "template": {
         "data": {
          "bar": [
           {
            "error_x": {
             "color": "#2a3f5f"
            },
            "error_y": {
             "color": "#2a3f5f"
            },
            "marker": {
             "line": {
              "color": "#E5ECF6",
              "width": 0.5
             },
             "pattern": {
              "fillmode": "overlay",
              "size": 10,
              "solidity": 0.2
             }
            },
            "type": "bar"
           }
          ],
          "barpolar": [
           {
            "marker": {
             "line": {
              "color": "#E5ECF6",
              "width": 0.5
             },
             "pattern": {
              "fillmode": "overlay",
              "size": 10,
              "solidity": 0.2
             }
            },
            "type": "barpolar"
           }
          ],
          "carpet": [
           {
            "aaxis": {
             "endlinecolor": "#2a3f5f",
             "gridcolor": "white",
             "linecolor": "white",
             "minorgridcolor": "white",
             "startlinecolor": "#2a3f5f"
            },
            "baxis": {
             "endlinecolor": "#2a3f5f",
             "gridcolor": "white",
             "linecolor": "white",
             "minorgridcolor": "white",
             "startlinecolor": "#2a3f5f"
            },
            "type": "carpet"
           }
          ],
          "choropleth": [
           {
            "colorbar": {
             "outlinewidth": 0,
             "ticks": ""
            },
            "type": "choropleth"
           }
          ],
          "contour": [
           {
            "colorbar": {
             "outlinewidth": 0,
             "ticks": ""
            },
            "colorscale": [
             [
              0,
              "#0d0887"
             ],
             [
              0.1111111111111111,
              "#46039f"
             ],
             [
              0.2222222222222222,
              "#7201a8"
             ],
             [
              0.3333333333333333,
              "#9c179e"
             ],
             [
              0.4444444444444444,
              "#bd3786"
             ],
             [
              0.5555555555555556,
              "#d8576b"
             ],
             [
              0.6666666666666666,
              "#ed7953"
             ],
             [
              0.7777777777777778,
              "#fb9f3a"
             ],
             [
              0.8888888888888888,
              "#fdca26"
             ],
             [
              1,
              "#f0f921"
             ]
            ],
            "type": "contour"
           }
          ],
          "contourcarpet": [
           {
            "colorbar": {
             "outlinewidth": 0,
             "ticks": ""
            },
            "type": "contourcarpet"
           }
          ],
          "heatmap": [
           {
            "colorbar": {
             "outlinewidth": 0,
             "ticks": ""
            },
            "colorscale": [
             [
              0,
              "#0d0887"
             ],
             [
              0.1111111111111111,
              "#46039f"
             ],
             [
              0.2222222222222222,
              "#7201a8"
             ],
             [
              0.3333333333333333,
              "#9c179e"
             ],
             [
              0.4444444444444444,
              "#bd3786"
             ],
             [
              0.5555555555555556,
              "#d8576b"
             ],
             [
              0.6666666666666666,
              "#ed7953"
             ],
             [
              0.7777777777777778,
              "#fb9f3a"
             ],
             [
              0.8888888888888888,
              "#fdca26"
             ],
             [
              1,
              "#f0f921"
             ]
            ],
            "type": "heatmap"
           }
          ],
          "heatmapgl": [
           {
            "colorbar": {
             "outlinewidth": 0,
             "ticks": ""
            },
            "colorscale": [
             [
              0,
              "#0d0887"
             ],
             [
              0.1111111111111111,
              "#46039f"
             ],
             [
              0.2222222222222222,
              "#7201a8"
             ],
             [
              0.3333333333333333,
              "#9c179e"
             ],
             [
              0.4444444444444444,
              "#bd3786"
             ],
             [
              0.5555555555555556,
              "#d8576b"
             ],
             [
              0.6666666666666666,
              "#ed7953"
             ],
             [
              0.7777777777777778,
              "#fb9f3a"
             ],
             [
              0.8888888888888888,
              "#fdca26"
             ],
             [
              1,
              "#f0f921"
             ]
            ],
            "type": "heatmapgl"
           }
          ],
          "histogram": [
           {
            "marker": {
             "pattern": {
              "fillmode": "overlay",
              "size": 10,
              "solidity": 0.2
             }
            },
            "type": "histogram"
           }
          ],
          "histogram2d": [
           {
            "colorbar": {
             "outlinewidth": 0,
             "ticks": ""
            },
            "colorscale": [
             [
              0,
              "#0d0887"
             ],
             [
              0.1111111111111111,
              "#46039f"
             ],
             [
              0.2222222222222222,
              "#7201a8"
             ],
             [
              0.3333333333333333,
              "#9c179e"
             ],
             [
              0.4444444444444444,
              "#bd3786"
             ],
             [
              0.5555555555555556,
              "#d8576b"
             ],
             [
              0.6666666666666666,
              "#ed7953"
             ],
             [
              0.7777777777777778,
              "#fb9f3a"
             ],
             [
              0.8888888888888888,
              "#fdca26"
             ],
             [
              1,
              "#f0f921"
             ]
            ],
            "type": "histogram2d"
           }
          ],
          "histogram2dcontour": [
           {
            "colorbar": {
             "outlinewidth": 0,
             "ticks": ""
            },
            "colorscale": [
             [
              0,
              "#0d0887"
             ],
             [
              0.1111111111111111,
              "#46039f"
             ],
             [
              0.2222222222222222,
              "#7201a8"
             ],
             [
              0.3333333333333333,
              "#9c179e"
             ],
             [
              0.4444444444444444,
              "#bd3786"
             ],
             [
              0.5555555555555556,
              "#d8576b"
             ],
             [
              0.6666666666666666,
              "#ed7953"
             ],
             [
              0.7777777777777778,
              "#fb9f3a"
             ],
             [
              0.8888888888888888,
              "#fdca26"
             ],
             [
              1,
              "#f0f921"
             ]
            ],
            "type": "histogram2dcontour"
           }
          ],
          "mesh3d": [
           {
            "colorbar": {
             "outlinewidth": 0,
             "ticks": ""
            },
            "type": "mesh3d"
           }
          ],
          "parcoords": [
           {
            "line": {
             "colorbar": {
              "outlinewidth": 0,
              "ticks": ""
             }
            },
            "type": "parcoords"
           }
          ],
          "pie": [
           {
            "automargin": true,
            "type": "pie"
           }
          ],
          "scatter": [
           {
            "marker": {
             "colorbar": {
              "outlinewidth": 0,
              "ticks": ""
             }
            },
            "type": "scatter"
           }
          ],
          "scatter3d": [
           {
            "line": {
             "colorbar": {
              "outlinewidth": 0,
              "ticks": ""
             }
            },
            "marker": {
             "colorbar": {
              "outlinewidth": 0,
              "ticks": ""
             }
            },
            "type": "scatter3d"
           }
          ],
          "scattercarpet": [
           {
            "marker": {
             "colorbar": {
              "outlinewidth": 0,
              "ticks": ""
             }
            },
            "type": "scattercarpet"
           }
          ],
          "scattergeo": [
           {
            "marker": {
             "colorbar": {
              "outlinewidth": 0,
              "ticks": ""
             }
            },
            "type": "scattergeo"
           }
          ],
          "scattergl": [
           {
            "marker": {
             "colorbar": {
              "outlinewidth": 0,
              "ticks": ""
             }
            },
            "type": "scattergl"
           }
          ],
          "scattermapbox": [
           {
            "marker": {
             "colorbar": {
              "outlinewidth": 0,
              "ticks": ""
             }
            },
            "type": "scattermapbox"
           }
          ],
          "scatterpolar": [
           {
            "marker": {
             "colorbar": {
              "outlinewidth": 0,
              "ticks": ""
             }
            },
            "type": "scatterpolar"
           }
          ],
          "scatterpolargl": [
           {
            "marker": {
             "colorbar": {
              "outlinewidth": 0,
              "ticks": ""
             }
            },
            "type": "scatterpolargl"
           }
          ],
          "scatterternary": [
           {
            "marker": {
             "colorbar": {
              "outlinewidth": 0,
              "ticks": ""
             }
            },
            "type": "scatterternary"
           }
          ],
          "surface": [
           {
            "colorbar": {
             "outlinewidth": 0,
             "ticks": ""
            },
            "colorscale": [
             [
              0,
              "#0d0887"
             ],
             [
              0.1111111111111111,
              "#46039f"
             ],
             [
              0.2222222222222222,
              "#7201a8"
             ],
             [
              0.3333333333333333,
              "#9c179e"
             ],
             [
              0.4444444444444444,
              "#bd3786"
             ],
             [
              0.5555555555555556,
              "#d8576b"
             ],
             [
              0.6666666666666666,
              "#ed7953"
             ],
             [
              0.7777777777777778,
              "#fb9f3a"
             ],
             [
              0.8888888888888888,
              "#fdca26"
             ],
             [
              1,
              "#f0f921"
             ]
            ],
            "type": "surface"
           }
          ],
          "table": [
           {
            "cells": {
             "fill": {
              "color": "#EBF0F8"
             },
             "line": {
              "color": "white"
             }
            },
            "header": {
             "fill": {
              "color": "#C8D4E3"
             },
             "line": {
              "color": "white"
             }
            },
            "type": "table"
           }
          ]
         },
         "layout": {
          "annotationdefaults": {
           "arrowcolor": "#2a3f5f",
           "arrowhead": 0,
           "arrowwidth": 1
          },
          "autotypenumbers": "strict",
          "coloraxis": {
           "colorbar": {
            "outlinewidth": 0,
            "ticks": ""
           }
          },
          "colorscale": {
           "diverging": [
            [
             0,
             "#8e0152"
            ],
            [
             0.1,
             "#c51b7d"
            ],
            [
             0.2,
             "#de77ae"
            ],
            [
             0.3,
             "#f1b6da"
            ],
            [
             0.4,
             "#fde0ef"
            ],
            [
             0.5,
             "#f7f7f7"
            ],
            [
             0.6,
             "#e6f5d0"
            ],
            [
             0.7,
             "#b8e186"
            ],
            [
             0.8,
             "#7fbc41"
            ],
            [
             0.9,
             "#4d9221"
            ],
            [
             1,
             "#276419"
            ]
           ],
           "sequential": [
            [
             0,
             "#0d0887"
            ],
            [
             0.1111111111111111,
             "#46039f"
            ],
            [
             0.2222222222222222,
             "#7201a8"
            ],
            [
             0.3333333333333333,
             "#9c179e"
            ],
            [
             0.4444444444444444,
             "#bd3786"
            ],
            [
             0.5555555555555556,
             "#d8576b"
            ],
            [
             0.6666666666666666,
             "#ed7953"
            ],
            [
             0.7777777777777778,
             "#fb9f3a"
            ],
            [
             0.8888888888888888,
             "#fdca26"
            ],
            [
             1,
             "#f0f921"
            ]
           ],
           "sequentialminus": [
            [
             0,
             "#0d0887"
            ],
            [
             0.1111111111111111,
             "#46039f"
            ],
            [
             0.2222222222222222,
             "#7201a8"
            ],
            [
             0.3333333333333333,
             "#9c179e"
            ],
            [
             0.4444444444444444,
             "#bd3786"
            ],
            [
             0.5555555555555556,
             "#d8576b"
            ],
            [
             0.6666666666666666,
             "#ed7953"
            ],
            [
             0.7777777777777778,
             "#fb9f3a"
            ],
            [
             0.8888888888888888,
             "#fdca26"
            ],
            [
             1,
             "#f0f921"
            ]
           ]
          },
          "colorway": [
           "#636efa",
           "#EF553B",
           "#00cc96",
           "#ab63fa",
           "#FFA15A",
           "#19d3f3",
           "#FF6692",
           "#B6E880",
           "#FF97FF",
           "#FECB52"
          ],
          "font": {
           "color": "#2a3f5f"
          },
          "geo": {
           "bgcolor": "white",
           "lakecolor": "white",
           "landcolor": "#E5ECF6",
           "showlakes": true,
           "showland": true,
           "subunitcolor": "white"
          },
          "hoverlabel": {
           "align": "left"
          },
          "hovermode": "closest",
          "mapbox": {
           "style": "light"
          },
          "paper_bgcolor": "white",
          "plot_bgcolor": "#E5ECF6",
          "polar": {
           "angularaxis": {
            "gridcolor": "white",
            "linecolor": "white",
            "ticks": ""
           },
           "bgcolor": "#E5ECF6",
           "radialaxis": {
            "gridcolor": "white",
            "linecolor": "white",
            "ticks": ""
           }
          },
          "scene": {
           "xaxis": {
            "backgroundcolor": "#E5ECF6",
            "gridcolor": "white",
            "gridwidth": 2,
            "linecolor": "white",
            "showbackground": true,
            "ticks": "",
            "zerolinecolor": "white"
           },
           "yaxis": {
            "backgroundcolor": "#E5ECF6",
            "gridcolor": "white",
            "gridwidth": 2,
            "linecolor": "white",
            "showbackground": true,
            "ticks": "",
            "zerolinecolor": "white"
           },
           "zaxis": {
            "backgroundcolor": "#E5ECF6",
            "gridcolor": "white",
            "gridwidth": 2,
            "linecolor": "white",
            "showbackground": true,
            "ticks": "",
            "zerolinecolor": "white"
           }
          },
          "shapedefaults": {
           "line": {
            "color": "#2a3f5f"
           }
          },
          "ternary": {
           "aaxis": {
            "gridcolor": "white",
            "linecolor": "white",
            "ticks": ""
           },
           "baxis": {
            "gridcolor": "white",
            "linecolor": "white",
            "ticks": ""
           },
           "bgcolor": "#E5ECF6",
           "caxis": {
            "gridcolor": "white",
            "linecolor": "white",
            "ticks": ""
           }
          },
          "title": {
           "x": 0.05
          },
          "xaxis": {
           "automargin": true,
           "gridcolor": "white",
           "linecolor": "white",
           "ticks": "",
           "title": {
            "standoff": 15
           },
           "zerolinecolor": "white",
           "zerolinewidth": 2
          },
          "yaxis": {
           "automargin": true,
           "gridcolor": "white",
           "linecolor": "white",
           "ticks": "",
           "title": {
            "standoff": 15
           },
           "zerolinecolor": "white",
           "zerolinewidth": 2
          }
         }
        },
        "title": {
         "font": {
          "color": "#4D5663"
         }
        },
        "xaxis": {
         "gridcolor": "#E1E5ED",
         "showgrid": true,
         "tickfont": {
          "color": "#4D5663"
         },
         "title": {
          "font": {
           "color": "#4D5663"
          },
          "text": ""
         },
         "zerolinecolor": "#E1E5ED"
        },
        "yaxis": {
         "gridcolor": "#E1E5ED",
         "showgrid": true,
         "tickfont": {
          "color": "#4D5663"
         },
         "title": {
          "font": {
           "color": "#4D5663"
          },
          "text": ""
         },
         "zerolinecolor": "#E1E5ED"
        }
       }
      },
      "text/html": [
       "<div>                            <div id=\"f13e051f-c789-4dfc-bce7-b4198165d936\" class=\"plotly-graph-div\" style=\"height:525px; width:100%;\"></div>            <script type=\"text/javascript\">                require([\"plotly\"], function(Plotly) {                    window.PLOTLYENV=window.PLOTLYENV || {};\n",
       "                    window.PLOTLYENV.BASE_URL='https://plot.ly';                                    if (document.getElementById(\"f13e051f-c789-4dfc-bce7-b4198165d936\")) {                    Plotly.newPlot(                        \"f13e051f-c789-4dfc-bce7-b4198165d936\",                        [{\"marker\":{\"color\":\"rgba(255, 153, 51, 0.6)\",\"line\":{\"color\":\"rgba(255, 153, 51, 1.0)\",\"width\":1}},\"name\":\"A\",\"orientation\":\"v\",\"text\":\"\",\"x\":[0,1,2,3,4,5,6,7,8,9,10,11,12,13,14,15,16,17,18,19,20,21,22,23,24,25,26,27,28,29,30,31,32,33,34,35,36,37,38,39,40,41,42,43,44,45,46,47,48,49,50,51,52,53,54,55,56,57,58,59,60,61,62,63,64,65,66,67,68,69,70,71,72,73,74,75,76,77,78,79,80,81,82,83,84,85,86,87,88,89,90,91,92,93,94,95,96,97,98,99],\"y\":[0.7206021595231069,0.600148426769176,0.4104359743616993,1.5970755667006848,-1.2936619515577568,-0.8247653726117883,0.8635716441218286,0.9641754730341981,-0.023983744104136718,0.8936011658880695,-0.3997818395932563,-0.6968882043136051,-1.163879408522421,0.24301016267096173,1.5061934436070503,2.2293327935101708,-1.2735706894259167,0.07670212200171866,0.42749763295537124,-0.8362156804531724,0.23760756881529357,0.6125021013936939,0.9474786308756106,0.5792285211320449,-0.022141338115392657,0.1780786293235384,-0.4378983347210052,-1.9641912957964793,0.5884103102817879,1.2261746210124682,0.36692568501522266,0.5338772876220805,-1.0129881243922954,-0.05828206366226157,-0.4542632899292565,-0.9545712927080492,-0.4462063781298266,1.7850698534429827,-1.5714742286027275,-1.700569442248487,-0.7669013707864606,-3.131367504486959,-1.059983984922948,1.4162638414930868,1.6704485316623467,-0.939130190447798,0.8100608368265246,1.4254927278950735,0.28241386798408846,-0.20653442472757128,-1.745147679318256,-1.6430798662212416,1.3845799049888303,-1.378963965645226,-0.519571255210273,1.4442675469554762,-0.5705819989697787,-0.5135575214998415,-0.7725119707973551,0.4520162047149358,-0.7274765115358929,-1.3402720744289112,0.9327244040593339,-0.8271541013442341,-1.2064204344555705,0.3696430003742275,0.23974555131411265,-1.68529161912587,0.5231163706104487,0.6402595816400246,-0.043905994702309624,0.4468550288425965,0.37837924503019776,-0.033244845954011386,-1.1977701838216634,0.39756580016298637,-0.7081412455264934,0.5402103482032428,-1.8552901543432505,1.0089939294346084,1.587105528275671,-0.5601097082171755,0.11665409539915697,-0.5745241401224672,-2.558207307961996,-0.5339083790451622,-1.4864995681419446,-0.2949479595475197,0.6295343657985574,0.42971820599591787,1.5498386531740298,0.5916490519789844,-0.3998257461066869,1.9127966678340154,0.30283673972582165,0.24201125897767198,-1.7144830491064178,0.4238364675698964,0.60177217016106,-0.6508979705447588],\"type\":\"bar\"},{\"marker\":{\"color\":\"rgba(55, 128, 191, 0.6)\",\"line\":{\"color\":\"rgba(55, 128, 191, 1.0)\",\"width\":1}},\"name\":\"B\",\"orientation\":\"v\",\"text\":\"\",\"x\":[0,1,2,3,4,5,6,7,8,9,10,11,12,13,14,15,16,17,18,19,20,21,22,23,24,25,26,27,28,29,30,31,32,33,34,35,36,37,38,39,40,41,42,43,44,45,46,47,48,49,50,51,52,53,54,55,56,57,58,59,60,61,62,63,64,65,66,67,68,69,70,71,72,73,74,75,76,77,78,79,80,81,82,83,84,85,86,87,88,89,90,91,92,93,94,95,96,97,98,99],\"y\":[0.4790002364284842,-0.5339133712050166,-0.2551232292121737,0.7500620133948723,1.0639226831377517,0.3028647755916625,0.0977690423356316,-0.3951140303210251,-0.9550331925745601,-0.7764745770247691,-1.4300120636784552,0.722590320396416,0.06063841933463821,0.03610652845611828,-0.537856030516011,-0.078808592696729,-0.3114260012747389,-0.8941588607600373,-0.5808384159219051,0.3834337532738288,0.483711206092414,1.6829763180132218,-0.8919742536174792,0.950467512521074,-0.08625549152922969,1.2167158329958416,-0.033911930360870084,-1.9700550067826965,-0.02574803290346344,0.3794547728684391,-1.4103559279651778,1.0208301284403738,-1.6901429429533048,1.5697762867784217,-1.1365048100216353,-0.16786990398521856,-1.3683080519549378,0.6732207688411338,-0.724524608367036,-1.6556190684717973,1.405498473751612,-1.585448471793164,0.39518907167519784,0.15531514996168058,-0.4328193574850774,-0.8375570848807239,2.0230704348373942,-0.17582755292970423,1.9225970664687468,-1.5139377738915847,-0.4490913077935091,1.2021633853196803,-1.1047775425974564,0.7485099120378153,-0.8506817463527888,-0.1508540110465642,-0.4806223905826818,-0.009409878169259062,-0.13773066448041185,0.9187758383578031,0.24586887682641126,-0.4105378015561218,0.7002100378602496,1.0152904608914048,-0.05662237441840279,-1.1519555057371014,0.47741060260304125,-0.9356334286067687,-0.2816607396441667,1.2079854210569332,-0.9374091758648114,0.33622495387200485,0.017240232316663457,0.6281700912130026,-1.001311001407909,-0.01697870692670627,-1.6009597764633763,0.12951776927639422,-0.4318016346568667,0.6446717409546772,-1.765416896232608,-0.6206312391014545,-0.5616885246922951,1.5158834462222572,0.40289717199054675,0.7031019990192451,-0.7247400440690024,-2.2789079087356514,0.9516348236040112,0.5500106106728779,-0.6256799087748532,-1.2447989248999347,-1.5713689300682712,1.6189765467065518,-0.352213379315518,-1.418362779696527,1.0450315791300482,0.15528639631566069,0.4511257837375593,-0.18485970986316355],\"type\":\"bar\"},{\"marker\":{\"color\":\"rgba(50, 171, 96, 0.6)\",\"line\":{\"color\":\"rgba(50, 171, 96, 1.0)\",\"width\":1}},\"name\":\"C\",\"orientation\":\"v\",\"text\":\"\",\"x\":[0,1,2,3,4,5,6,7,8,9,10,11,12,13,14,15,16,17,18,19,20,21,22,23,24,25,26,27,28,29,30,31,32,33,34,35,36,37,38,39,40,41,42,43,44,45,46,47,48,49,50,51,52,53,54,55,56,57,58,59,60,61,62,63,64,65,66,67,68,69,70,71,72,73,74,75,76,77,78,79,80,81,82,83,84,85,86,87,88,89,90,91,92,93,94,95,96,97,98,99],\"y\":[-0.1710539717238674,0.6761120036186342,-0.6364901882466849,0.5068375166337368,0.8587563554081904,0.8815777839520635,1.7981957622905946,0.23629650342768097,-1.2654142235465151,0.9985852638112375,1.0140967677490105,1.9213050225984043,1.147118897460104,-0.5571080126333299,-1.5966228700302354,0.7799340936002608,-0.9773101083967402,1.197839159404519,-1.5107967182448119,-0.13519320205885943,-0.11407554694339425,0.0416244963029414,-0.11694785669789755,0.32555050158578663,-0.581746887771692,0.7537911994443084,-0.5051520940880653,-3.1224181613669932,0.25322090179614604,-1.709347508989651,-0.574636669754101,0.0307936632530043,-1.2285030245784847,0.2656927014665348,-0.3068950514033596,0.13240715579408738,0.8374575862869191,-1.3021623768791744,-1.819165996897542,-0.7589988455347925,-0.37555023383268366,0.17703412808151636,0.9212274812957582,2.235090436534782,0.22806047835346205,-0.15965213524816327,-1.8462801463145255,-0.5847352598471942,0.33665541167019086,0.7156454581545579,0.4518459352615333,0.3768602525240975,-1.0481059079241228,0.9391230146671161,-0.81760338429349,-1.8081487207564184,0.17743167887350544,1.039677816301545,-0.49954238815551105,-1.42924711355474,1.3219961035554446,-0.9393760389550331,0.3283685130185671,-0.23167200407406047,1.709823808775834,0.43803745965810165,0.8056695588712278,-0.8815625206777283,0.8010039094881437,0.7753082267979359,-0.6605696943285191,-0.40442949350905255,2.20673145237434,2.2480674660485405,2.60938032100713,0.543699479190823,0.1969871874266927,-0.15677733024887777,0.6339198380731179,1.4695236211918865,-0.46258878245316276,-1.417929581243472,-0.6428942336220342,-1.8015303901752648,-1.0836442298731181,0.7834492930937946,1.4690474511013203,-0.5667873756382681,-0.81138244564651,0.9312761917561393,0.8170173053211249,-0.2515329718182992,-0.7498444640254841,-1.051743373588905,0.004355898780761671,-0.14234496449937195,1.3343658157166423,1.1580565675560939,-0.6588853733842952,0.7278643918332525],\"type\":\"bar\"},{\"marker\":{\"color\":\"rgba(128, 0, 128, 0.6)\",\"line\":{\"color\":\"rgba(128, 0, 128, 1.0)\",\"width\":1}},\"name\":\"D\",\"orientation\":\"v\",\"text\":\"\",\"x\":[0,1,2,3,4,5,6,7,8,9,10,11,12,13,14,15,16,17,18,19,20,21,22,23,24,25,26,27,28,29,30,31,32,33,34,35,36,37,38,39,40,41,42,43,44,45,46,47,48,49,50,51,52,53,54,55,56,57,58,59,60,61,62,63,64,65,66,67,68,69,70,71,72,73,74,75,76,77,78,79,80,81,82,83,84,85,86,87,88,89,90,91,92,93,94,95,96,97,98,99],\"y\":[-0.7745862644908448,0.5042041435436856,0.11653223204023365,-1.1959229444741741,-0.27292696862939264,0.9223229138279102,-0.0846199316096227,0.01953093084833903,0.6355269183584646,0.6666909985417896,0.6043012254606308,0.27396348046715746,-2.629516675257851,0.2797430559701173,0.4514205345986516,-0.7914312739174943,0.19240316995779333,1.4023278833167279,0.9432499771843861,1.100283579418994,-2.6576910228587836,1.220608012005847,0.4463762203629547,1.0628130916520049,-0.08333665257748994,-0.8198554339209732,0.08681325176953446,0.002710946088567911,-0.9134745712232382,-1.3781752896942985,-0.49077781599685016,0.7299785382485134,-0.374019643846917,0.43339476120969894,2.1120018359857964,-0.07222056301967658,-1.118430611101756,0.4993823157143268,0.7955688060257385,-0.3882653775714211,0.8007652045697838,-1.643699036934892,-1.9886441019258725,1.4829454813526062,-0.9416601411402572,0.15063360347531604,0.14947421761858792,-0.060953335646296604,0.35351471505754173,-0.08085370059267592,-1.0652731210957525,-1.4754535838547946,0.6744817451168268,-1.8282248056546728,0.23187428799008547,-1.4106370686259977,-0.11648195669724136,-0.5618073610721529,0.2428333967215472,0.5161467385849521,0.948845713709916,0.07121176051622159,-0.2594612478430401,0.5682260787378328,0.6442418035769039,0.16342408166701317,0.6225775683828786,-1.5409881668264611,-0.3367059484787146,0.3606308288750878,0.24475939866764343,1.6498950074974856,-1.1609072949372032,-1.240376311437029,-1.3595294482528577,-0.4989867375652803,-0.994521889530649,0.5238788685754128,-0.5126883562085743,1.638572633652777,1.1704216773919038,-0.3892984266145127,-1.9701693154051056,0.9541009998491473,-0.38294091155112997,-0.37783741567692064,0.007545114995654143,1.0102458239343455,-0.08041770515079398,-0.4099862221534074,-0.839011880668791,-0.8332599606848795,-1.058238678493066,-0.8706724320299088,-0.5342859606428391,-0.9274468507913998,0.8428645004405348,0.0021456148799246432,-0.7677208360543195,1.1517078376841599],\"type\":\"bar\"}],                        {\"legend\":{\"bgcolor\":\"#F5F6F9\",\"font\":{\"color\":\"#4D5663\"}},\"paper_bgcolor\":\"#F5F6F9\",\"plot_bgcolor\":\"#F5F6F9\",\"template\":{\"data\":{\"barpolar\":[{\"marker\":{\"line\":{\"color\":\"#E5ECF6\",\"width\":0.5},\"pattern\":{\"fillmode\":\"overlay\",\"size\":10,\"solidity\":0.2}},\"type\":\"barpolar\"}],\"bar\":[{\"error_x\":{\"color\":\"#2a3f5f\"},\"error_y\":{\"color\":\"#2a3f5f\"},\"marker\":{\"line\":{\"color\":\"#E5ECF6\",\"width\":0.5},\"pattern\":{\"fillmode\":\"overlay\",\"size\":10,\"solidity\":0.2}},\"type\":\"bar\"}],\"carpet\":[{\"aaxis\":{\"endlinecolor\":\"#2a3f5f\",\"gridcolor\":\"white\",\"linecolor\":\"white\",\"minorgridcolor\":\"white\",\"startlinecolor\":\"#2a3f5f\"},\"baxis\":{\"endlinecolor\":\"#2a3f5f\",\"gridcolor\":\"white\",\"linecolor\":\"white\",\"minorgridcolor\":\"white\",\"startlinecolor\":\"#2a3f5f\"},\"type\":\"carpet\"}],\"choropleth\":[{\"colorbar\":{\"outlinewidth\":0,\"ticks\":\"\"},\"type\":\"choropleth\"}],\"contourcarpet\":[{\"colorbar\":{\"outlinewidth\":0,\"ticks\":\"\"},\"type\":\"contourcarpet\"}],\"contour\":[{\"colorbar\":{\"outlinewidth\":0,\"ticks\":\"\"},\"colorscale\":[[0.0,\"#0d0887\"],[0.1111111111111111,\"#46039f\"],[0.2222222222222222,\"#7201a8\"],[0.3333333333333333,\"#9c179e\"],[0.4444444444444444,\"#bd3786\"],[0.5555555555555556,\"#d8576b\"],[0.6666666666666666,\"#ed7953\"],[0.7777777777777778,\"#fb9f3a\"],[0.8888888888888888,\"#fdca26\"],[1.0,\"#f0f921\"]],\"type\":\"contour\"}],\"heatmapgl\":[{\"colorbar\":{\"outlinewidth\":0,\"ticks\":\"\"},\"colorscale\":[[0.0,\"#0d0887\"],[0.1111111111111111,\"#46039f\"],[0.2222222222222222,\"#7201a8\"],[0.3333333333333333,\"#9c179e\"],[0.4444444444444444,\"#bd3786\"],[0.5555555555555556,\"#d8576b\"],[0.6666666666666666,\"#ed7953\"],[0.7777777777777778,\"#fb9f3a\"],[0.8888888888888888,\"#fdca26\"],[1.0,\"#f0f921\"]],\"type\":\"heatmapgl\"}],\"heatmap\":[{\"colorbar\":{\"outlinewidth\":0,\"ticks\":\"\"},\"colorscale\":[[0.0,\"#0d0887\"],[0.1111111111111111,\"#46039f\"],[0.2222222222222222,\"#7201a8\"],[0.3333333333333333,\"#9c179e\"],[0.4444444444444444,\"#bd3786\"],[0.5555555555555556,\"#d8576b\"],[0.6666666666666666,\"#ed7953\"],[0.7777777777777778,\"#fb9f3a\"],[0.8888888888888888,\"#fdca26\"],[1.0,\"#f0f921\"]],\"type\":\"heatmap\"}],\"histogram2dcontour\":[{\"colorbar\":{\"outlinewidth\":0,\"ticks\":\"\"},\"colorscale\":[[0.0,\"#0d0887\"],[0.1111111111111111,\"#46039f\"],[0.2222222222222222,\"#7201a8\"],[0.3333333333333333,\"#9c179e\"],[0.4444444444444444,\"#bd3786\"],[0.5555555555555556,\"#d8576b\"],[0.6666666666666666,\"#ed7953\"],[0.7777777777777778,\"#fb9f3a\"],[0.8888888888888888,\"#fdca26\"],[1.0,\"#f0f921\"]],\"type\":\"histogram2dcontour\"}],\"histogram2d\":[{\"colorbar\":{\"outlinewidth\":0,\"ticks\":\"\"},\"colorscale\":[[0.0,\"#0d0887\"],[0.1111111111111111,\"#46039f\"],[0.2222222222222222,\"#7201a8\"],[0.3333333333333333,\"#9c179e\"],[0.4444444444444444,\"#bd3786\"],[0.5555555555555556,\"#d8576b\"],[0.6666666666666666,\"#ed7953\"],[0.7777777777777778,\"#fb9f3a\"],[0.8888888888888888,\"#fdca26\"],[1.0,\"#f0f921\"]],\"type\":\"histogram2d\"}],\"histogram\":[{\"marker\":{\"pattern\":{\"fillmode\":\"overlay\",\"size\":10,\"solidity\":0.2}},\"type\":\"histogram\"}],\"mesh3d\":[{\"colorbar\":{\"outlinewidth\":0,\"ticks\":\"\"},\"type\":\"mesh3d\"}],\"parcoords\":[{\"line\":{\"colorbar\":{\"outlinewidth\":0,\"ticks\":\"\"}},\"type\":\"parcoords\"}],\"pie\":[{\"automargin\":true,\"type\":\"pie\"}],\"scatter3d\":[{\"line\":{\"colorbar\":{\"outlinewidth\":0,\"ticks\":\"\"}},\"marker\":{\"colorbar\":{\"outlinewidth\":0,\"ticks\":\"\"}},\"type\":\"scatter3d\"}],\"scattercarpet\":[{\"marker\":{\"colorbar\":{\"outlinewidth\":0,\"ticks\":\"\"}},\"type\":\"scattercarpet\"}],\"scattergeo\":[{\"marker\":{\"colorbar\":{\"outlinewidth\":0,\"ticks\":\"\"}},\"type\":\"scattergeo\"}],\"scattergl\":[{\"marker\":{\"colorbar\":{\"outlinewidth\":0,\"ticks\":\"\"}},\"type\":\"scattergl\"}],\"scattermapbox\":[{\"marker\":{\"colorbar\":{\"outlinewidth\":0,\"ticks\":\"\"}},\"type\":\"scattermapbox\"}],\"scatterpolargl\":[{\"marker\":{\"colorbar\":{\"outlinewidth\":0,\"ticks\":\"\"}},\"type\":\"scatterpolargl\"}],\"scatterpolar\":[{\"marker\":{\"colorbar\":{\"outlinewidth\":0,\"ticks\":\"\"}},\"type\":\"scatterpolar\"}],\"scatter\":[{\"marker\":{\"colorbar\":{\"outlinewidth\":0,\"ticks\":\"\"}},\"type\":\"scatter\"}],\"scatterternary\":[{\"marker\":{\"colorbar\":{\"outlinewidth\":0,\"ticks\":\"\"}},\"type\":\"scatterternary\"}],\"surface\":[{\"colorbar\":{\"outlinewidth\":0,\"ticks\":\"\"},\"colorscale\":[[0.0,\"#0d0887\"],[0.1111111111111111,\"#46039f\"],[0.2222222222222222,\"#7201a8\"],[0.3333333333333333,\"#9c179e\"],[0.4444444444444444,\"#bd3786\"],[0.5555555555555556,\"#d8576b\"],[0.6666666666666666,\"#ed7953\"],[0.7777777777777778,\"#fb9f3a\"],[0.8888888888888888,\"#fdca26\"],[1.0,\"#f0f921\"]],\"type\":\"surface\"}],\"table\":[{\"cells\":{\"fill\":{\"color\":\"#EBF0F8\"},\"line\":{\"color\":\"white\"}},\"header\":{\"fill\":{\"color\":\"#C8D4E3\"},\"line\":{\"color\":\"white\"}},\"type\":\"table\"}]},\"layout\":{\"annotationdefaults\":{\"arrowcolor\":\"#2a3f5f\",\"arrowhead\":0,\"arrowwidth\":1},\"autotypenumbers\":\"strict\",\"coloraxis\":{\"colorbar\":{\"outlinewidth\":0,\"ticks\":\"\"}},\"colorscale\":{\"diverging\":[[0,\"#8e0152\"],[0.1,\"#c51b7d\"],[0.2,\"#de77ae\"],[0.3,\"#f1b6da\"],[0.4,\"#fde0ef\"],[0.5,\"#f7f7f7\"],[0.6,\"#e6f5d0\"],[0.7,\"#b8e186\"],[0.8,\"#7fbc41\"],[0.9,\"#4d9221\"],[1,\"#276419\"]],\"sequential\":[[0.0,\"#0d0887\"],[0.1111111111111111,\"#46039f\"],[0.2222222222222222,\"#7201a8\"],[0.3333333333333333,\"#9c179e\"],[0.4444444444444444,\"#bd3786\"],[0.5555555555555556,\"#d8576b\"],[0.6666666666666666,\"#ed7953\"],[0.7777777777777778,\"#fb9f3a\"],[0.8888888888888888,\"#fdca26\"],[1.0,\"#f0f921\"]],\"sequentialminus\":[[0.0,\"#0d0887\"],[0.1111111111111111,\"#46039f\"],[0.2222222222222222,\"#7201a8\"],[0.3333333333333333,\"#9c179e\"],[0.4444444444444444,\"#bd3786\"],[0.5555555555555556,\"#d8576b\"],[0.6666666666666666,\"#ed7953\"],[0.7777777777777778,\"#fb9f3a\"],[0.8888888888888888,\"#fdca26\"],[1.0,\"#f0f921\"]]},\"colorway\":[\"#636efa\",\"#EF553B\",\"#00cc96\",\"#ab63fa\",\"#FFA15A\",\"#19d3f3\",\"#FF6692\",\"#B6E880\",\"#FF97FF\",\"#FECB52\"],\"font\":{\"color\":\"#2a3f5f\"},\"geo\":{\"bgcolor\":\"white\",\"lakecolor\":\"white\",\"landcolor\":\"#E5ECF6\",\"showlakes\":true,\"showland\":true,\"subunitcolor\":\"white\"},\"hoverlabel\":{\"align\":\"left\"},\"hovermode\":\"closest\",\"mapbox\":{\"style\":\"light\"},\"paper_bgcolor\":\"white\",\"plot_bgcolor\":\"#E5ECF6\",\"polar\":{\"angularaxis\":{\"gridcolor\":\"white\",\"linecolor\":\"white\",\"ticks\":\"\"},\"bgcolor\":\"#E5ECF6\",\"radialaxis\":{\"gridcolor\":\"white\",\"linecolor\":\"white\",\"ticks\":\"\"}},\"scene\":{\"xaxis\":{\"backgroundcolor\":\"#E5ECF6\",\"gridcolor\":\"white\",\"gridwidth\":2,\"linecolor\":\"white\",\"showbackground\":true,\"ticks\":\"\",\"zerolinecolor\":\"white\"},\"yaxis\":{\"backgroundcolor\":\"#E5ECF6\",\"gridcolor\":\"white\",\"gridwidth\":2,\"linecolor\":\"white\",\"showbackground\":true,\"ticks\":\"\",\"zerolinecolor\":\"white\"},\"zaxis\":{\"backgroundcolor\":\"#E5ECF6\",\"gridcolor\":\"white\",\"gridwidth\":2,\"linecolor\":\"white\",\"showbackground\":true,\"ticks\":\"\",\"zerolinecolor\":\"white\"}},\"shapedefaults\":{\"line\":{\"color\":\"#2a3f5f\"}},\"ternary\":{\"aaxis\":{\"gridcolor\":\"white\",\"linecolor\":\"white\",\"ticks\":\"\"},\"baxis\":{\"gridcolor\":\"white\",\"linecolor\":\"white\",\"ticks\":\"\"},\"bgcolor\":\"#E5ECF6\",\"caxis\":{\"gridcolor\":\"white\",\"linecolor\":\"white\",\"ticks\":\"\"}},\"title\":{\"x\":0.05},\"xaxis\":{\"automargin\":true,\"gridcolor\":\"white\",\"linecolor\":\"white\",\"ticks\":\"\",\"title\":{\"standoff\":15},\"zerolinecolor\":\"white\",\"zerolinewidth\":2},\"yaxis\":{\"automargin\":true,\"gridcolor\":\"white\",\"linecolor\":\"white\",\"ticks\":\"\",\"title\":{\"standoff\":15},\"zerolinecolor\":\"white\",\"zerolinewidth\":2}}},\"title\":{\"font\":{\"color\":\"#4D5663\"}},\"xaxis\":{\"gridcolor\":\"#E1E5ED\",\"showgrid\":true,\"tickfont\":{\"color\":\"#4D5663\"},\"title\":{\"font\":{\"color\":\"#4D5663\"},\"text\":\"\"},\"zerolinecolor\":\"#E1E5ED\"},\"yaxis\":{\"gridcolor\":\"#E1E5ED\",\"showgrid\":true,\"tickfont\":{\"color\":\"#4D5663\"},\"title\":{\"font\":{\"color\":\"#4D5663\"},\"text\":\"\"},\"zerolinecolor\":\"#E1E5ED\"}},                        {\"showLink\": true, \"linkText\": \"Export to plot.ly\", \"plotlyServerURL\": \"https://plot.ly\", \"responsive\": true}                    ).then(function(){\n",
       "                            \n",
       "var gd = document.getElementById('f13e051f-c789-4dfc-bce7-b4198165d936');\n",
       "var x = new MutationObserver(function (mutations, observer) {{\n",
       "        var display = window.getComputedStyle(gd).display;\n",
       "        if (!display || display === 'none') {{\n",
       "            console.log([gd, 'removed!']);\n",
       "            Plotly.purge(gd);\n",
       "            observer.disconnect();\n",
       "        }}\n",
       "}});\n",
       "\n",
       "// Listen for the removal of the full notebook cells\n",
       "var notebookContainer = gd.closest('#notebook-container');\n",
       "if (notebookContainer) {{\n",
       "    x.observe(notebookContainer, {childList: true});\n",
       "}}\n",
       "\n",
       "// Listen for the clearing of the current output cell\n",
       "var outputEl = gd.closest('.output');\n",
       "if (outputEl) {{\n",
       "    x.observe(outputEl, {childList: true});\n",
       "}}\n",
       "\n",
       "                        })                };                });            </script>        </div>"
      ]
     },
     "metadata": {},
     "output_type": "display_data"
    }
   ],
   "source": [
    " df.iplot(kind='bar')"
   ]
  },
  {
   "cell_type": "code",
   "execution_count": 24,
   "id": "7c579a00",
   "metadata": {},
   "outputs": [
    {
     "data": {
      "application/vnd.plotly.v1+json": {
       "config": {
        "linkText": "Export to plot.ly",
        "plotlyServerURL": "https://plot.ly",
        "showLink": true
       },
       "data": [
        {
         "marker": {
          "color": "rgba(255, 153, 51, 0.6)",
          "line": {
           "color": "rgba(255, 153, 51, 1.0)",
           "width": 1
          }
         },
         "name": "None",
         "orientation": "v",
         "text": "",
         "type": "bar",
         "x": [
          "A",
          "B",
          "C",
          "D"
         ],
         "y": [
          100,
          100,
          100,
          100
         ]
        }
       ],
       "layout": {
        "legend": {
         "bgcolor": "#F5F6F9",
         "font": {
          "color": "#4D5663"
         }
        },
        "paper_bgcolor": "#F5F6F9",
        "plot_bgcolor": "#F5F6F9",
        "template": {
         "data": {
          "bar": [
           {
            "error_x": {
             "color": "#2a3f5f"
            },
            "error_y": {
             "color": "#2a3f5f"
            },
            "marker": {
             "line": {
              "color": "#E5ECF6",
              "width": 0.5
             },
             "pattern": {
              "fillmode": "overlay",
              "size": 10,
              "solidity": 0.2
             }
            },
            "type": "bar"
           }
          ],
          "barpolar": [
           {
            "marker": {
             "line": {
              "color": "#E5ECF6",
              "width": 0.5
             },
             "pattern": {
              "fillmode": "overlay",
              "size": 10,
              "solidity": 0.2
             }
            },
            "type": "barpolar"
           }
          ],
          "carpet": [
           {
            "aaxis": {
             "endlinecolor": "#2a3f5f",
             "gridcolor": "white",
             "linecolor": "white",
             "minorgridcolor": "white",
             "startlinecolor": "#2a3f5f"
            },
            "baxis": {
             "endlinecolor": "#2a3f5f",
             "gridcolor": "white",
             "linecolor": "white",
             "minorgridcolor": "white",
             "startlinecolor": "#2a3f5f"
            },
            "type": "carpet"
           }
          ],
          "choropleth": [
           {
            "colorbar": {
             "outlinewidth": 0,
             "ticks": ""
            },
            "type": "choropleth"
           }
          ],
          "contour": [
           {
            "colorbar": {
             "outlinewidth": 0,
             "ticks": ""
            },
            "colorscale": [
             [
              0,
              "#0d0887"
             ],
             [
              0.1111111111111111,
              "#46039f"
             ],
             [
              0.2222222222222222,
              "#7201a8"
             ],
             [
              0.3333333333333333,
              "#9c179e"
             ],
             [
              0.4444444444444444,
              "#bd3786"
             ],
             [
              0.5555555555555556,
              "#d8576b"
             ],
             [
              0.6666666666666666,
              "#ed7953"
             ],
             [
              0.7777777777777778,
              "#fb9f3a"
             ],
             [
              0.8888888888888888,
              "#fdca26"
             ],
             [
              1,
              "#f0f921"
             ]
            ],
            "type": "contour"
           }
          ],
          "contourcarpet": [
           {
            "colorbar": {
             "outlinewidth": 0,
             "ticks": ""
            },
            "type": "contourcarpet"
           }
          ],
          "heatmap": [
           {
            "colorbar": {
             "outlinewidth": 0,
             "ticks": ""
            },
            "colorscale": [
             [
              0,
              "#0d0887"
             ],
             [
              0.1111111111111111,
              "#46039f"
             ],
             [
              0.2222222222222222,
              "#7201a8"
             ],
             [
              0.3333333333333333,
              "#9c179e"
             ],
             [
              0.4444444444444444,
              "#bd3786"
             ],
             [
              0.5555555555555556,
              "#d8576b"
             ],
             [
              0.6666666666666666,
              "#ed7953"
             ],
             [
              0.7777777777777778,
              "#fb9f3a"
             ],
             [
              0.8888888888888888,
              "#fdca26"
             ],
             [
              1,
              "#f0f921"
             ]
            ],
            "type": "heatmap"
           }
          ],
          "heatmapgl": [
           {
            "colorbar": {
             "outlinewidth": 0,
             "ticks": ""
            },
            "colorscale": [
             [
              0,
              "#0d0887"
             ],
             [
              0.1111111111111111,
              "#46039f"
             ],
             [
              0.2222222222222222,
              "#7201a8"
             ],
             [
              0.3333333333333333,
              "#9c179e"
             ],
             [
              0.4444444444444444,
              "#bd3786"
             ],
             [
              0.5555555555555556,
              "#d8576b"
             ],
             [
              0.6666666666666666,
              "#ed7953"
             ],
             [
              0.7777777777777778,
              "#fb9f3a"
             ],
             [
              0.8888888888888888,
              "#fdca26"
             ],
             [
              1,
              "#f0f921"
             ]
            ],
            "type": "heatmapgl"
           }
          ],
          "histogram": [
           {
            "marker": {
             "pattern": {
              "fillmode": "overlay",
              "size": 10,
              "solidity": 0.2
             }
            },
            "type": "histogram"
           }
          ],
          "histogram2d": [
           {
            "colorbar": {
             "outlinewidth": 0,
             "ticks": ""
            },
            "colorscale": [
             [
              0,
              "#0d0887"
             ],
             [
              0.1111111111111111,
              "#46039f"
             ],
             [
              0.2222222222222222,
              "#7201a8"
             ],
             [
              0.3333333333333333,
              "#9c179e"
             ],
             [
              0.4444444444444444,
              "#bd3786"
             ],
             [
              0.5555555555555556,
              "#d8576b"
             ],
             [
              0.6666666666666666,
              "#ed7953"
             ],
             [
              0.7777777777777778,
              "#fb9f3a"
             ],
             [
              0.8888888888888888,
              "#fdca26"
             ],
             [
              1,
              "#f0f921"
             ]
            ],
            "type": "histogram2d"
           }
          ],
          "histogram2dcontour": [
           {
            "colorbar": {
             "outlinewidth": 0,
             "ticks": ""
            },
            "colorscale": [
             [
              0,
              "#0d0887"
             ],
             [
              0.1111111111111111,
              "#46039f"
             ],
             [
              0.2222222222222222,
              "#7201a8"
             ],
             [
              0.3333333333333333,
              "#9c179e"
             ],
             [
              0.4444444444444444,
              "#bd3786"
             ],
             [
              0.5555555555555556,
              "#d8576b"
             ],
             [
              0.6666666666666666,
              "#ed7953"
             ],
             [
              0.7777777777777778,
              "#fb9f3a"
             ],
             [
              0.8888888888888888,
              "#fdca26"
             ],
             [
              1,
              "#f0f921"
             ]
            ],
            "type": "histogram2dcontour"
           }
          ],
          "mesh3d": [
           {
            "colorbar": {
             "outlinewidth": 0,
             "ticks": ""
            },
            "type": "mesh3d"
           }
          ],
          "parcoords": [
           {
            "line": {
             "colorbar": {
              "outlinewidth": 0,
              "ticks": ""
             }
            },
            "type": "parcoords"
           }
          ],
          "pie": [
           {
            "automargin": true,
            "type": "pie"
           }
          ],
          "scatter": [
           {
            "marker": {
             "colorbar": {
              "outlinewidth": 0,
              "ticks": ""
             }
            },
            "type": "scatter"
           }
          ],
          "scatter3d": [
           {
            "line": {
             "colorbar": {
              "outlinewidth": 0,
              "ticks": ""
             }
            },
            "marker": {
             "colorbar": {
              "outlinewidth": 0,
              "ticks": ""
             }
            },
            "type": "scatter3d"
           }
          ],
          "scattercarpet": [
           {
            "marker": {
             "colorbar": {
              "outlinewidth": 0,
              "ticks": ""
             }
            },
            "type": "scattercarpet"
           }
          ],
          "scattergeo": [
           {
            "marker": {
             "colorbar": {
              "outlinewidth": 0,
              "ticks": ""
             }
            },
            "type": "scattergeo"
           }
          ],
          "scattergl": [
           {
            "marker": {
             "colorbar": {
              "outlinewidth": 0,
              "ticks": ""
             }
            },
            "type": "scattergl"
           }
          ],
          "scattermapbox": [
           {
            "marker": {
             "colorbar": {
              "outlinewidth": 0,
              "ticks": ""
             }
            },
            "type": "scattermapbox"
           }
          ],
          "scatterpolar": [
           {
            "marker": {
             "colorbar": {
              "outlinewidth": 0,
              "ticks": ""
             }
            },
            "type": "scatterpolar"
           }
          ],
          "scatterpolargl": [
           {
            "marker": {
             "colorbar": {
              "outlinewidth": 0,
              "ticks": ""
             }
            },
            "type": "scatterpolargl"
           }
          ],
          "scatterternary": [
           {
            "marker": {
             "colorbar": {
              "outlinewidth": 0,
              "ticks": ""
             }
            },
            "type": "scatterternary"
           }
          ],
          "surface": [
           {
            "colorbar": {
             "outlinewidth": 0,
             "ticks": ""
            },
            "colorscale": [
             [
              0,
              "#0d0887"
             ],
             [
              0.1111111111111111,
              "#46039f"
             ],
             [
              0.2222222222222222,
              "#7201a8"
             ],
             [
              0.3333333333333333,
              "#9c179e"
             ],
             [
              0.4444444444444444,
              "#bd3786"
             ],
             [
              0.5555555555555556,
              "#d8576b"
             ],
             [
              0.6666666666666666,
              "#ed7953"
             ],
             [
              0.7777777777777778,
              "#fb9f3a"
             ],
             [
              0.8888888888888888,
              "#fdca26"
             ],
             [
              1,
              "#f0f921"
             ]
            ],
            "type": "surface"
           }
          ],
          "table": [
           {
            "cells": {
             "fill": {
              "color": "#EBF0F8"
             },
             "line": {
              "color": "white"
             }
            },
            "header": {
             "fill": {
              "color": "#C8D4E3"
             },
             "line": {
              "color": "white"
             }
            },
            "type": "table"
           }
          ]
         },
         "layout": {
          "annotationdefaults": {
           "arrowcolor": "#2a3f5f",
           "arrowhead": 0,
           "arrowwidth": 1
          },
          "autotypenumbers": "strict",
          "coloraxis": {
           "colorbar": {
            "outlinewidth": 0,
            "ticks": ""
           }
          },
          "colorscale": {
           "diverging": [
            [
             0,
             "#8e0152"
            ],
            [
             0.1,
             "#c51b7d"
            ],
            [
             0.2,
             "#de77ae"
            ],
            [
             0.3,
             "#f1b6da"
            ],
            [
             0.4,
             "#fde0ef"
            ],
            [
             0.5,
             "#f7f7f7"
            ],
            [
             0.6,
             "#e6f5d0"
            ],
            [
             0.7,
             "#b8e186"
            ],
            [
             0.8,
             "#7fbc41"
            ],
            [
             0.9,
             "#4d9221"
            ],
            [
             1,
             "#276419"
            ]
           ],
           "sequential": [
            [
             0,
             "#0d0887"
            ],
            [
             0.1111111111111111,
             "#46039f"
            ],
            [
             0.2222222222222222,
             "#7201a8"
            ],
            [
             0.3333333333333333,
             "#9c179e"
            ],
            [
             0.4444444444444444,
             "#bd3786"
            ],
            [
             0.5555555555555556,
             "#d8576b"
            ],
            [
             0.6666666666666666,
             "#ed7953"
            ],
            [
             0.7777777777777778,
             "#fb9f3a"
            ],
            [
             0.8888888888888888,
             "#fdca26"
            ],
            [
             1,
             "#f0f921"
            ]
           ],
           "sequentialminus": [
            [
             0,
             "#0d0887"
            ],
            [
             0.1111111111111111,
             "#46039f"
            ],
            [
             0.2222222222222222,
             "#7201a8"
            ],
            [
             0.3333333333333333,
             "#9c179e"
            ],
            [
             0.4444444444444444,
             "#bd3786"
            ],
            [
             0.5555555555555556,
             "#d8576b"
            ],
            [
             0.6666666666666666,
             "#ed7953"
            ],
            [
             0.7777777777777778,
             "#fb9f3a"
            ],
            [
             0.8888888888888888,
             "#fdca26"
            ],
            [
             1,
             "#f0f921"
            ]
           ]
          },
          "colorway": [
           "#636efa",
           "#EF553B",
           "#00cc96",
           "#ab63fa",
           "#FFA15A",
           "#19d3f3",
           "#FF6692",
           "#B6E880",
           "#FF97FF",
           "#FECB52"
          ],
          "font": {
           "color": "#2a3f5f"
          },
          "geo": {
           "bgcolor": "white",
           "lakecolor": "white",
           "landcolor": "#E5ECF6",
           "showlakes": true,
           "showland": true,
           "subunitcolor": "white"
          },
          "hoverlabel": {
           "align": "left"
          },
          "hovermode": "closest",
          "mapbox": {
           "style": "light"
          },
          "paper_bgcolor": "white",
          "plot_bgcolor": "#E5ECF6",
          "polar": {
           "angularaxis": {
            "gridcolor": "white",
            "linecolor": "white",
            "ticks": ""
           },
           "bgcolor": "#E5ECF6",
           "radialaxis": {
            "gridcolor": "white",
            "linecolor": "white",
            "ticks": ""
           }
          },
          "scene": {
           "xaxis": {
            "backgroundcolor": "#E5ECF6",
            "gridcolor": "white",
            "gridwidth": 2,
            "linecolor": "white",
            "showbackground": true,
            "ticks": "",
            "zerolinecolor": "white"
           },
           "yaxis": {
            "backgroundcolor": "#E5ECF6",
            "gridcolor": "white",
            "gridwidth": 2,
            "linecolor": "white",
            "showbackground": true,
            "ticks": "",
            "zerolinecolor": "white"
           },
           "zaxis": {
            "backgroundcolor": "#E5ECF6",
            "gridcolor": "white",
            "gridwidth": 2,
            "linecolor": "white",
            "showbackground": true,
            "ticks": "",
            "zerolinecolor": "white"
           }
          },
          "shapedefaults": {
           "line": {
            "color": "#2a3f5f"
           }
          },
          "ternary": {
           "aaxis": {
            "gridcolor": "white",
            "linecolor": "white",
            "ticks": ""
           },
           "baxis": {
            "gridcolor": "white",
            "linecolor": "white",
            "ticks": ""
           },
           "bgcolor": "#E5ECF6",
           "caxis": {
            "gridcolor": "white",
            "linecolor": "white",
            "ticks": ""
           }
          },
          "title": {
           "x": 0.05
          },
          "xaxis": {
           "automargin": true,
           "gridcolor": "white",
           "linecolor": "white",
           "ticks": "",
           "title": {
            "standoff": 15
           },
           "zerolinecolor": "white",
           "zerolinewidth": 2
          },
          "yaxis": {
           "automargin": true,
           "gridcolor": "white",
           "linecolor": "white",
           "ticks": "",
           "title": {
            "standoff": 15
           },
           "zerolinecolor": "white",
           "zerolinewidth": 2
          }
         }
        },
        "title": {
         "font": {
          "color": "#4D5663"
         }
        },
        "xaxis": {
         "gridcolor": "#E1E5ED",
         "showgrid": true,
         "tickfont": {
          "color": "#4D5663"
         },
         "title": {
          "font": {
           "color": "#4D5663"
          },
          "text": ""
         },
         "zerolinecolor": "#E1E5ED"
        },
        "yaxis": {
         "gridcolor": "#E1E5ED",
         "showgrid": true,
         "tickfont": {
          "color": "#4D5663"
         },
         "title": {
          "font": {
           "color": "#4D5663"
          },
          "text": ""
         },
         "zerolinecolor": "#E1E5ED"
        }
       }
      },
      "text/html": [
       "<div>                            <div id=\"f46f9597-2e9a-407d-8809-72ce40056dba\" class=\"plotly-graph-div\" style=\"height:525px; width:100%;\"></div>            <script type=\"text/javascript\">                require([\"plotly\"], function(Plotly) {                    window.PLOTLYENV=window.PLOTLYENV || {};\n",
       "                    window.PLOTLYENV.BASE_URL='https://plot.ly';                                    if (document.getElementById(\"f46f9597-2e9a-407d-8809-72ce40056dba\")) {                    Plotly.newPlot(                        \"f46f9597-2e9a-407d-8809-72ce40056dba\",                        [{\"marker\":{\"color\":\"rgba(255, 153, 51, 0.6)\",\"line\":{\"color\":\"rgba(255, 153, 51, 1.0)\",\"width\":1}},\"name\":\"None\",\"orientation\":\"v\",\"text\":\"\",\"x\":[\"A\",\"B\",\"C\",\"D\"],\"y\":[100,100,100,100],\"type\":\"bar\"}],                        {\"legend\":{\"bgcolor\":\"#F5F6F9\",\"font\":{\"color\":\"#4D5663\"}},\"paper_bgcolor\":\"#F5F6F9\",\"plot_bgcolor\":\"#F5F6F9\",\"template\":{\"data\":{\"barpolar\":[{\"marker\":{\"line\":{\"color\":\"#E5ECF6\",\"width\":0.5},\"pattern\":{\"fillmode\":\"overlay\",\"size\":10,\"solidity\":0.2}},\"type\":\"barpolar\"}],\"bar\":[{\"error_x\":{\"color\":\"#2a3f5f\"},\"error_y\":{\"color\":\"#2a3f5f\"},\"marker\":{\"line\":{\"color\":\"#E5ECF6\",\"width\":0.5},\"pattern\":{\"fillmode\":\"overlay\",\"size\":10,\"solidity\":0.2}},\"type\":\"bar\"}],\"carpet\":[{\"aaxis\":{\"endlinecolor\":\"#2a3f5f\",\"gridcolor\":\"white\",\"linecolor\":\"white\",\"minorgridcolor\":\"white\",\"startlinecolor\":\"#2a3f5f\"},\"baxis\":{\"endlinecolor\":\"#2a3f5f\",\"gridcolor\":\"white\",\"linecolor\":\"white\",\"minorgridcolor\":\"white\",\"startlinecolor\":\"#2a3f5f\"},\"type\":\"carpet\"}],\"choropleth\":[{\"colorbar\":{\"outlinewidth\":0,\"ticks\":\"\"},\"type\":\"choropleth\"}],\"contourcarpet\":[{\"colorbar\":{\"outlinewidth\":0,\"ticks\":\"\"},\"type\":\"contourcarpet\"}],\"contour\":[{\"colorbar\":{\"outlinewidth\":0,\"ticks\":\"\"},\"colorscale\":[[0.0,\"#0d0887\"],[0.1111111111111111,\"#46039f\"],[0.2222222222222222,\"#7201a8\"],[0.3333333333333333,\"#9c179e\"],[0.4444444444444444,\"#bd3786\"],[0.5555555555555556,\"#d8576b\"],[0.6666666666666666,\"#ed7953\"],[0.7777777777777778,\"#fb9f3a\"],[0.8888888888888888,\"#fdca26\"],[1.0,\"#f0f921\"]],\"type\":\"contour\"}],\"heatmapgl\":[{\"colorbar\":{\"outlinewidth\":0,\"ticks\":\"\"},\"colorscale\":[[0.0,\"#0d0887\"],[0.1111111111111111,\"#46039f\"],[0.2222222222222222,\"#7201a8\"],[0.3333333333333333,\"#9c179e\"],[0.4444444444444444,\"#bd3786\"],[0.5555555555555556,\"#d8576b\"],[0.6666666666666666,\"#ed7953\"],[0.7777777777777778,\"#fb9f3a\"],[0.8888888888888888,\"#fdca26\"],[1.0,\"#f0f921\"]],\"type\":\"heatmapgl\"}],\"heatmap\":[{\"colorbar\":{\"outlinewidth\":0,\"ticks\":\"\"},\"colorscale\":[[0.0,\"#0d0887\"],[0.1111111111111111,\"#46039f\"],[0.2222222222222222,\"#7201a8\"],[0.3333333333333333,\"#9c179e\"],[0.4444444444444444,\"#bd3786\"],[0.5555555555555556,\"#d8576b\"],[0.6666666666666666,\"#ed7953\"],[0.7777777777777778,\"#fb9f3a\"],[0.8888888888888888,\"#fdca26\"],[1.0,\"#f0f921\"]],\"type\":\"heatmap\"}],\"histogram2dcontour\":[{\"colorbar\":{\"outlinewidth\":0,\"ticks\":\"\"},\"colorscale\":[[0.0,\"#0d0887\"],[0.1111111111111111,\"#46039f\"],[0.2222222222222222,\"#7201a8\"],[0.3333333333333333,\"#9c179e\"],[0.4444444444444444,\"#bd3786\"],[0.5555555555555556,\"#d8576b\"],[0.6666666666666666,\"#ed7953\"],[0.7777777777777778,\"#fb9f3a\"],[0.8888888888888888,\"#fdca26\"],[1.0,\"#f0f921\"]],\"type\":\"histogram2dcontour\"}],\"histogram2d\":[{\"colorbar\":{\"outlinewidth\":0,\"ticks\":\"\"},\"colorscale\":[[0.0,\"#0d0887\"],[0.1111111111111111,\"#46039f\"],[0.2222222222222222,\"#7201a8\"],[0.3333333333333333,\"#9c179e\"],[0.4444444444444444,\"#bd3786\"],[0.5555555555555556,\"#d8576b\"],[0.6666666666666666,\"#ed7953\"],[0.7777777777777778,\"#fb9f3a\"],[0.8888888888888888,\"#fdca26\"],[1.0,\"#f0f921\"]],\"type\":\"histogram2d\"}],\"histogram\":[{\"marker\":{\"pattern\":{\"fillmode\":\"overlay\",\"size\":10,\"solidity\":0.2}},\"type\":\"histogram\"}],\"mesh3d\":[{\"colorbar\":{\"outlinewidth\":0,\"ticks\":\"\"},\"type\":\"mesh3d\"}],\"parcoords\":[{\"line\":{\"colorbar\":{\"outlinewidth\":0,\"ticks\":\"\"}},\"type\":\"parcoords\"}],\"pie\":[{\"automargin\":true,\"type\":\"pie\"}],\"scatter3d\":[{\"line\":{\"colorbar\":{\"outlinewidth\":0,\"ticks\":\"\"}},\"marker\":{\"colorbar\":{\"outlinewidth\":0,\"ticks\":\"\"}},\"type\":\"scatter3d\"}],\"scattercarpet\":[{\"marker\":{\"colorbar\":{\"outlinewidth\":0,\"ticks\":\"\"}},\"type\":\"scattercarpet\"}],\"scattergeo\":[{\"marker\":{\"colorbar\":{\"outlinewidth\":0,\"ticks\":\"\"}},\"type\":\"scattergeo\"}],\"scattergl\":[{\"marker\":{\"colorbar\":{\"outlinewidth\":0,\"ticks\":\"\"}},\"type\":\"scattergl\"}],\"scattermapbox\":[{\"marker\":{\"colorbar\":{\"outlinewidth\":0,\"ticks\":\"\"}},\"type\":\"scattermapbox\"}],\"scatterpolargl\":[{\"marker\":{\"colorbar\":{\"outlinewidth\":0,\"ticks\":\"\"}},\"type\":\"scatterpolargl\"}],\"scatterpolar\":[{\"marker\":{\"colorbar\":{\"outlinewidth\":0,\"ticks\":\"\"}},\"type\":\"scatterpolar\"}],\"scatter\":[{\"marker\":{\"colorbar\":{\"outlinewidth\":0,\"ticks\":\"\"}},\"type\":\"scatter\"}],\"scatterternary\":[{\"marker\":{\"colorbar\":{\"outlinewidth\":0,\"ticks\":\"\"}},\"type\":\"scatterternary\"}],\"surface\":[{\"colorbar\":{\"outlinewidth\":0,\"ticks\":\"\"},\"colorscale\":[[0.0,\"#0d0887\"],[0.1111111111111111,\"#46039f\"],[0.2222222222222222,\"#7201a8\"],[0.3333333333333333,\"#9c179e\"],[0.4444444444444444,\"#bd3786\"],[0.5555555555555556,\"#d8576b\"],[0.6666666666666666,\"#ed7953\"],[0.7777777777777778,\"#fb9f3a\"],[0.8888888888888888,\"#fdca26\"],[1.0,\"#f0f921\"]],\"type\":\"surface\"}],\"table\":[{\"cells\":{\"fill\":{\"color\":\"#EBF0F8\"},\"line\":{\"color\":\"white\"}},\"header\":{\"fill\":{\"color\":\"#C8D4E3\"},\"line\":{\"color\":\"white\"}},\"type\":\"table\"}]},\"layout\":{\"annotationdefaults\":{\"arrowcolor\":\"#2a3f5f\",\"arrowhead\":0,\"arrowwidth\":1},\"autotypenumbers\":\"strict\",\"coloraxis\":{\"colorbar\":{\"outlinewidth\":0,\"ticks\":\"\"}},\"colorscale\":{\"diverging\":[[0,\"#8e0152\"],[0.1,\"#c51b7d\"],[0.2,\"#de77ae\"],[0.3,\"#f1b6da\"],[0.4,\"#fde0ef\"],[0.5,\"#f7f7f7\"],[0.6,\"#e6f5d0\"],[0.7,\"#b8e186\"],[0.8,\"#7fbc41\"],[0.9,\"#4d9221\"],[1,\"#276419\"]],\"sequential\":[[0.0,\"#0d0887\"],[0.1111111111111111,\"#46039f\"],[0.2222222222222222,\"#7201a8\"],[0.3333333333333333,\"#9c179e\"],[0.4444444444444444,\"#bd3786\"],[0.5555555555555556,\"#d8576b\"],[0.6666666666666666,\"#ed7953\"],[0.7777777777777778,\"#fb9f3a\"],[0.8888888888888888,\"#fdca26\"],[1.0,\"#f0f921\"]],\"sequentialminus\":[[0.0,\"#0d0887\"],[0.1111111111111111,\"#46039f\"],[0.2222222222222222,\"#7201a8\"],[0.3333333333333333,\"#9c179e\"],[0.4444444444444444,\"#bd3786\"],[0.5555555555555556,\"#d8576b\"],[0.6666666666666666,\"#ed7953\"],[0.7777777777777778,\"#fb9f3a\"],[0.8888888888888888,\"#fdca26\"],[1.0,\"#f0f921\"]]},\"colorway\":[\"#636efa\",\"#EF553B\",\"#00cc96\",\"#ab63fa\",\"#FFA15A\",\"#19d3f3\",\"#FF6692\",\"#B6E880\",\"#FF97FF\",\"#FECB52\"],\"font\":{\"color\":\"#2a3f5f\"},\"geo\":{\"bgcolor\":\"white\",\"lakecolor\":\"white\",\"landcolor\":\"#E5ECF6\",\"showlakes\":true,\"showland\":true,\"subunitcolor\":\"white\"},\"hoverlabel\":{\"align\":\"left\"},\"hovermode\":\"closest\",\"mapbox\":{\"style\":\"light\"},\"paper_bgcolor\":\"white\",\"plot_bgcolor\":\"#E5ECF6\",\"polar\":{\"angularaxis\":{\"gridcolor\":\"white\",\"linecolor\":\"white\",\"ticks\":\"\"},\"bgcolor\":\"#E5ECF6\",\"radialaxis\":{\"gridcolor\":\"white\",\"linecolor\":\"white\",\"ticks\":\"\"}},\"scene\":{\"xaxis\":{\"backgroundcolor\":\"#E5ECF6\",\"gridcolor\":\"white\",\"gridwidth\":2,\"linecolor\":\"white\",\"showbackground\":true,\"ticks\":\"\",\"zerolinecolor\":\"white\"},\"yaxis\":{\"backgroundcolor\":\"#E5ECF6\",\"gridcolor\":\"white\",\"gridwidth\":2,\"linecolor\":\"white\",\"showbackground\":true,\"ticks\":\"\",\"zerolinecolor\":\"white\"},\"zaxis\":{\"backgroundcolor\":\"#E5ECF6\",\"gridcolor\":\"white\",\"gridwidth\":2,\"linecolor\":\"white\",\"showbackground\":true,\"ticks\":\"\",\"zerolinecolor\":\"white\"}},\"shapedefaults\":{\"line\":{\"color\":\"#2a3f5f\"}},\"ternary\":{\"aaxis\":{\"gridcolor\":\"white\",\"linecolor\":\"white\",\"ticks\":\"\"},\"baxis\":{\"gridcolor\":\"white\",\"linecolor\":\"white\",\"ticks\":\"\"},\"bgcolor\":\"#E5ECF6\",\"caxis\":{\"gridcolor\":\"white\",\"linecolor\":\"white\",\"ticks\":\"\"}},\"title\":{\"x\":0.05},\"xaxis\":{\"automargin\":true,\"gridcolor\":\"white\",\"linecolor\":\"white\",\"ticks\":\"\",\"title\":{\"standoff\":15},\"zerolinecolor\":\"white\",\"zerolinewidth\":2},\"yaxis\":{\"automargin\":true,\"gridcolor\":\"white\",\"linecolor\":\"white\",\"ticks\":\"\",\"title\":{\"standoff\":15},\"zerolinecolor\":\"white\",\"zerolinewidth\":2}}},\"title\":{\"font\":{\"color\":\"#4D5663\"}},\"xaxis\":{\"gridcolor\":\"#E1E5ED\",\"showgrid\":true,\"tickfont\":{\"color\":\"#4D5663\"},\"title\":{\"font\":{\"color\":\"#4D5663\"},\"text\":\"\"},\"zerolinecolor\":\"#E1E5ED\"},\"yaxis\":{\"gridcolor\":\"#E1E5ED\",\"showgrid\":true,\"tickfont\":{\"color\":\"#4D5663\"},\"title\":{\"font\":{\"color\":\"#4D5663\"},\"text\":\"\"},\"zerolinecolor\":\"#E1E5ED\"}},                        {\"showLink\": true, \"linkText\": \"Export to plot.ly\", \"plotlyServerURL\": \"https://plot.ly\", \"responsive\": true}                    ).then(function(){\n",
       "                            \n",
       "var gd = document.getElementById('f46f9597-2e9a-407d-8809-72ce40056dba');\n",
       "var x = new MutationObserver(function (mutations, observer) {{\n",
       "        var display = window.getComputedStyle(gd).display;\n",
       "        if (!display || display === 'none') {{\n",
       "            console.log([gd, 'removed!']);\n",
       "            Plotly.purge(gd);\n",
       "            observer.disconnect();\n",
       "        }}\n",
       "}});\n",
       "\n",
       "// Listen for the removal of the full notebook cells\n",
       "var notebookContainer = gd.closest('#notebook-container');\n",
       "if (notebookContainer) {{\n",
       "    x.observe(notebookContainer, {childList: true});\n",
       "}}\n",
       "\n",
       "// Listen for the clearing of the current output cell\n",
       "var outputEl = gd.closest('.output');\n",
       "if (outputEl) {{\n",
       "    x.observe(outputEl, {childList: true});\n",
       "}}\n",
       "\n",
       "                        })                };                });            </script>        </div>"
      ]
     },
     "metadata": {},
     "output_type": "display_data"
    }
   ],
   "source": [
    " df.count().iplot(kind='bar')"
   ]
  },
  {
   "cell_type": "code",
   "execution_count": 25,
   "id": "c18b9969",
   "metadata": {},
   "outputs": [
    {
     "data": {
      "application/vnd.plotly.v1+json": {
       "config": {
        "linkText": "Export to plot.ly",
        "plotlyServerURL": "https://plot.ly",
        "showLink": true
       },
       "data": [
        {
         "marker": {
          "color": "rgba(255, 153, 51, 0.6)",
          "line": {
           "color": "rgba(255, 153, 51, 1.0)",
           "width": 1
          }
         },
         "name": "None",
         "orientation": "v",
         "text": "",
         "type": "bar",
         "x": [
          "A",
          "B",
          "C",
          "D"
         ],
         "y": [
          -6.442545704812191,
          -10.371126091252906,
          5.095395414764646,
          -9.884277724308319
         ]
        }
       ],
       "layout": {
        "legend": {
         "bgcolor": "#F5F6F9",
         "font": {
          "color": "#4D5663"
         }
        },
        "paper_bgcolor": "#F5F6F9",
        "plot_bgcolor": "#F5F6F9",
        "template": {
         "data": {
          "bar": [
           {
            "error_x": {
             "color": "#2a3f5f"
            },
            "error_y": {
             "color": "#2a3f5f"
            },
            "marker": {
             "line": {
              "color": "#E5ECF6",
              "width": 0.5
             },
             "pattern": {
              "fillmode": "overlay",
              "size": 10,
              "solidity": 0.2
             }
            },
            "type": "bar"
           }
          ],
          "barpolar": [
           {
            "marker": {
             "line": {
              "color": "#E5ECF6",
              "width": 0.5
             },
             "pattern": {
              "fillmode": "overlay",
              "size": 10,
              "solidity": 0.2
             }
            },
            "type": "barpolar"
           }
          ],
          "carpet": [
           {
            "aaxis": {
             "endlinecolor": "#2a3f5f",
             "gridcolor": "white",
             "linecolor": "white",
             "minorgridcolor": "white",
             "startlinecolor": "#2a3f5f"
            },
            "baxis": {
             "endlinecolor": "#2a3f5f",
             "gridcolor": "white",
             "linecolor": "white",
             "minorgridcolor": "white",
             "startlinecolor": "#2a3f5f"
            },
            "type": "carpet"
           }
          ],
          "choropleth": [
           {
            "colorbar": {
             "outlinewidth": 0,
             "ticks": ""
            },
            "type": "choropleth"
           }
          ],
          "contour": [
           {
            "colorbar": {
             "outlinewidth": 0,
             "ticks": ""
            },
            "colorscale": [
             [
              0,
              "#0d0887"
             ],
             [
              0.1111111111111111,
              "#46039f"
             ],
             [
              0.2222222222222222,
              "#7201a8"
             ],
             [
              0.3333333333333333,
              "#9c179e"
             ],
             [
              0.4444444444444444,
              "#bd3786"
             ],
             [
              0.5555555555555556,
              "#d8576b"
             ],
             [
              0.6666666666666666,
              "#ed7953"
             ],
             [
              0.7777777777777778,
              "#fb9f3a"
             ],
             [
              0.8888888888888888,
              "#fdca26"
             ],
             [
              1,
              "#f0f921"
             ]
            ],
            "type": "contour"
           }
          ],
          "contourcarpet": [
           {
            "colorbar": {
             "outlinewidth": 0,
             "ticks": ""
            },
            "type": "contourcarpet"
           }
          ],
          "heatmap": [
           {
            "colorbar": {
             "outlinewidth": 0,
             "ticks": ""
            },
            "colorscale": [
             [
              0,
              "#0d0887"
             ],
             [
              0.1111111111111111,
              "#46039f"
             ],
             [
              0.2222222222222222,
              "#7201a8"
             ],
             [
              0.3333333333333333,
              "#9c179e"
             ],
             [
              0.4444444444444444,
              "#bd3786"
             ],
             [
              0.5555555555555556,
              "#d8576b"
             ],
             [
              0.6666666666666666,
              "#ed7953"
             ],
             [
              0.7777777777777778,
              "#fb9f3a"
             ],
             [
              0.8888888888888888,
              "#fdca26"
             ],
             [
              1,
              "#f0f921"
             ]
            ],
            "type": "heatmap"
           }
          ],
          "heatmapgl": [
           {
            "colorbar": {
             "outlinewidth": 0,
             "ticks": ""
            },
            "colorscale": [
             [
              0,
              "#0d0887"
             ],
             [
              0.1111111111111111,
              "#46039f"
             ],
             [
              0.2222222222222222,
              "#7201a8"
             ],
             [
              0.3333333333333333,
              "#9c179e"
             ],
             [
              0.4444444444444444,
              "#bd3786"
             ],
             [
              0.5555555555555556,
              "#d8576b"
             ],
             [
              0.6666666666666666,
              "#ed7953"
             ],
             [
              0.7777777777777778,
              "#fb9f3a"
             ],
             [
              0.8888888888888888,
              "#fdca26"
             ],
             [
              1,
              "#f0f921"
             ]
            ],
            "type": "heatmapgl"
           }
          ],
          "histogram": [
           {
            "marker": {
             "pattern": {
              "fillmode": "overlay",
              "size": 10,
              "solidity": 0.2
             }
            },
            "type": "histogram"
           }
          ],
          "histogram2d": [
           {
            "colorbar": {
             "outlinewidth": 0,
             "ticks": ""
            },
            "colorscale": [
             [
              0,
              "#0d0887"
             ],
             [
              0.1111111111111111,
              "#46039f"
             ],
             [
              0.2222222222222222,
              "#7201a8"
             ],
             [
              0.3333333333333333,
              "#9c179e"
             ],
             [
              0.4444444444444444,
              "#bd3786"
             ],
             [
              0.5555555555555556,
              "#d8576b"
             ],
             [
              0.6666666666666666,
              "#ed7953"
             ],
             [
              0.7777777777777778,
              "#fb9f3a"
             ],
             [
              0.8888888888888888,
              "#fdca26"
             ],
             [
              1,
              "#f0f921"
             ]
            ],
            "type": "histogram2d"
           }
          ],
          "histogram2dcontour": [
           {
            "colorbar": {
             "outlinewidth": 0,
             "ticks": ""
            },
            "colorscale": [
             [
              0,
              "#0d0887"
             ],
             [
              0.1111111111111111,
              "#46039f"
             ],
             [
              0.2222222222222222,
              "#7201a8"
             ],
             [
              0.3333333333333333,
              "#9c179e"
             ],
             [
              0.4444444444444444,
              "#bd3786"
             ],
             [
              0.5555555555555556,
              "#d8576b"
             ],
             [
              0.6666666666666666,
              "#ed7953"
             ],
             [
              0.7777777777777778,
              "#fb9f3a"
             ],
             [
              0.8888888888888888,
              "#fdca26"
             ],
             [
              1,
              "#f0f921"
             ]
            ],
            "type": "histogram2dcontour"
           }
          ],
          "mesh3d": [
           {
            "colorbar": {
             "outlinewidth": 0,
             "ticks": ""
            },
            "type": "mesh3d"
           }
          ],
          "parcoords": [
           {
            "line": {
             "colorbar": {
              "outlinewidth": 0,
              "ticks": ""
             }
            },
            "type": "parcoords"
           }
          ],
          "pie": [
           {
            "automargin": true,
            "type": "pie"
           }
          ],
          "scatter": [
           {
            "marker": {
             "colorbar": {
              "outlinewidth": 0,
              "ticks": ""
             }
            },
            "type": "scatter"
           }
          ],
          "scatter3d": [
           {
            "line": {
             "colorbar": {
              "outlinewidth": 0,
              "ticks": ""
             }
            },
            "marker": {
             "colorbar": {
              "outlinewidth": 0,
              "ticks": ""
             }
            },
            "type": "scatter3d"
           }
          ],
          "scattercarpet": [
           {
            "marker": {
             "colorbar": {
              "outlinewidth": 0,
              "ticks": ""
             }
            },
            "type": "scattercarpet"
           }
          ],
          "scattergeo": [
           {
            "marker": {
             "colorbar": {
              "outlinewidth": 0,
              "ticks": ""
             }
            },
            "type": "scattergeo"
           }
          ],
          "scattergl": [
           {
            "marker": {
             "colorbar": {
              "outlinewidth": 0,
              "ticks": ""
             }
            },
            "type": "scattergl"
           }
          ],
          "scattermapbox": [
           {
            "marker": {
             "colorbar": {
              "outlinewidth": 0,
              "ticks": ""
             }
            },
            "type": "scattermapbox"
           }
          ],
          "scatterpolar": [
           {
            "marker": {
             "colorbar": {
              "outlinewidth": 0,
              "ticks": ""
             }
            },
            "type": "scatterpolar"
           }
          ],
          "scatterpolargl": [
           {
            "marker": {
             "colorbar": {
              "outlinewidth": 0,
              "ticks": ""
             }
            },
            "type": "scatterpolargl"
           }
          ],
          "scatterternary": [
           {
            "marker": {
             "colorbar": {
              "outlinewidth": 0,
              "ticks": ""
             }
            },
            "type": "scatterternary"
           }
          ],
          "surface": [
           {
            "colorbar": {
             "outlinewidth": 0,
             "ticks": ""
            },
            "colorscale": [
             [
              0,
              "#0d0887"
             ],
             [
              0.1111111111111111,
              "#46039f"
             ],
             [
              0.2222222222222222,
              "#7201a8"
             ],
             [
              0.3333333333333333,
              "#9c179e"
             ],
             [
              0.4444444444444444,
              "#bd3786"
             ],
             [
              0.5555555555555556,
              "#d8576b"
             ],
             [
              0.6666666666666666,
              "#ed7953"
             ],
             [
              0.7777777777777778,
              "#fb9f3a"
             ],
             [
              0.8888888888888888,
              "#fdca26"
             ],
             [
              1,
              "#f0f921"
             ]
            ],
            "type": "surface"
           }
          ],
          "table": [
           {
            "cells": {
             "fill": {
              "color": "#EBF0F8"
             },
             "line": {
              "color": "white"
             }
            },
            "header": {
             "fill": {
              "color": "#C8D4E3"
             },
             "line": {
              "color": "white"
             }
            },
            "type": "table"
           }
          ]
         },
         "layout": {
          "annotationdefaults": {
           "arrowcolor": "#2a3f5f",
           "arrowhead": 0,
           "arrowwidth": 1
          },
          "autotypenumbers": "strict",
          "coloraxis": {
           "colorbar": {
            "outlinewidth": 0,
            "ticks": ""
           }
          },
          "colorscale": {
           "diverging": [
            [
             0,
             "#8e0152"
            ],
            [
             0.1,
             "#c51b7d"
            ],
            [
             0.2,
             "#de77ae"
            ],
            [
             0.3,
             "#f1b6da"
            ],
            [
             0.4,
             "#fde0ef"
            ],
            [
             0.5,
             "#f7f7f7"
            ],
            [
             0.6,
             "#e6f5d0"
            ],
            [
             0.7,
             "#b8e186"
            ],
            [
             0.8,
             "#7fbc41"
            ],
            [
             0.9,
             "#4d9221"
            ],
            [
             1,
             "#276419"
            ]
           ],
           "sequential": [
            [
             0,
             "#0d0887"
            ],
            [
             0.1111111111111111,
             "#46039f"
            ],
            [
             0.2222222222222222,
             "#7201a8"
            ],
            [
             0.3333333333333333,
             "#9c179e"
            ],
            [
             0.4444444444444444,
             "#bd3786"
            ],
            [
             0.5555555555555556,
             "#d8576b"
            ],
            [
             0.6666666666666666,
             "#ed7953"
            ],
            [
             0.7777777777777778,
             "#fb9f3a"
            ],
            [
             0.8888888888888888,
             "#fdca26"
            ],
            [
             1,
             "#f0f921"
            ]
           ],
           "sequentialminus": [
            [
             0,
             "#0d0887"
            ],
            [
             0.1111111111111111,
             "#46039f"
            ],
            [
             0.2222222222222222,
             "#7201a8"
            ],
            [
             0.3333333333333333,
             "#9c179e"
            ],
            [
             0.4444444444444444,
             "#bd3786"
            ],
            [
             0.5555555555555556,
             "#d8576b"
            ],
            [
             0.6666666666666666,
             "#ed7953"
            ],
            [
             0.7777777777777778,
             "#fb9f3a"
            ],
            [
             0.8888888888888888,
             "#fdca26"
            ],
            [
             1,
             "#f0f921"
            ]
           ]
          },
          "colorway": [
           "#636efa",
           "#EF553B",
           "#00cc96",
           "#ab63fa",
           "#FFA15A",
           "#19d3f3",
           "#FF6692",
           "#B6E880",
           "#FF97FF",
           "#FECB52"
          ],
          "font": {
           "color": "#2a3f5f"
          },
          "geo": {
           "bgcolor": "white",
           "lakecolor": "white",
           "landcolor": "#E5ECF6",
           "showlakes": true,
           "showland": true,
           "subunitcolor": "white"
          },
          "hoverlabel": {
           "align": "left"
          },
          "hovermode": "closest",
          "mapbox": {
           "style": "light"
          },
          "paper_bgcolor": "white",
          "plot_bgcolor": "#E5ECF6",
          "polar": {
           "angularaxis": {
            "gridcolor": "white",
            "linecolor": "white",
            "ticks": ""
           },
           "bgcolor": "#E5ECF6",
           "radialaxis": {
            "gridcolor": "white",
            "linecolor": "white",
            "ticks": ""
           }
          },
          "scene": {
           "xaxis": {
            "backgroundcolor": "#E5ECF6",
            "gridcolor": "white",
            "gridwidth": 2,
            "linecolor": "white",
            "showbackground": true,
            "ticks": "",
            "zerolinecolor": "white"
           },
           "yaxis": {
            "backgroundcolor": "#E5ECF6",
            "gridcolor": "white",
            "gridwidth": 2,
            "linecolor": "white",
            "showbackground": true,
            "ticks": "",
            "zerolinecolor": "white"
           },
           "zaxis": {
            "backgroundcolor": "#E5ECF6",
            "gridcolor": "white",
            "gridwidth": 2,
            "linecolor": "white",
            "showbackground": true,
            "ticks": "",
            "zerolinecolor": "white"
           }
          },
          "shapedefaults": {
           "line": {
            "color": "#2a3f5f"
           }
          },
          "ternary": {
           "aaxis": {
            "gridcolor": "white",
            "linecolor": "white",
            "ticks": ""
           },
           "baxis": {
            "gridcolor": "white",
            "linecolor": "white",
            "ticks": ""
           },
           "bgcolor": "#E5ECF6",
           "caxis": {
            "gridcolor": "white",
            "linecolor": "white",
            "ticks": ""
           }
          },
          "title": {
           "x": 0.05
          },
          "xaxis": {
           "automargin": true,
           "gridcolor": "white",
           "linecolor": "white",
           "ticks": "",
           "title": {
            "standoff": 15
           },
           "zerolinecolor": "white",
           "zerolinewidth": 2
          },
          "yaxis": {
           "automargin": true,
           "gridcolor": "white",
           "linecolor": "white",
           "ticks": "",
           "title": {
            "standoff": 15
           },
           "zerolinecolor": "white",
           "zerolinewidth": 2
          }
         }
        },
        "title": {
         "font": {
          "color": "#4D5663"
         }
        },
        "xaxis": {
         "gridcolor": "#E1E5ED",
         "showgrid": true,
         "tickfont": {
          "color": "#4D5663"
         },
         "title": {
          "font": {
           "color": "#4D5663"
          },
          "text": ""
         },
         "zerolinecolor": "#E1E5ED"
        },
        "yaxis": {
         "gridcolor": "#E1E5ED",
         "showgrid": true,
         "tickfont": {
          "color": "#4D5663"
         },
         "title": {
          "font": {
           "color": "#4D5663"
          },
          "text": ""
         },
         "zerolinecolor": "#E1E5ED"
        }
       }
      },
      "text/html": [
       "<div>                            <div id=\"3819146e-60ef-46a1-89ca-499da3c6e3dd\" class=\"plotly-graph-div\" style=\"height:525px; width:100%;\"></div>            <script type=\"text/javascript\">                require([\"plotly\"], function(Plotly) {                    window.PLOTLYENV=window.PLOTLYENV || {};\n",
       "                    window.PLOTLYENV.BASE_URL='https://plot.ly';                                    if (document.getElementById(\"3819146e-60ef-46a1-89ca-499da3c6e3dd\")) {                    Plotly.newPlot(                        \"3819146e-60ef-46a1-89ca-499da3c6e3dd\",                        [{\"marker\":{\"color\":\"rgba(255, 153, 51, 0.6)\",\"line\":{\"color\":\"rgba(255, 153, 51, 1.0)\",\"width\":1}},\"name\":\"None\",\"orientation\":\"v\",\"text\":\"\",\"x\":[\"A\",\"B\",\"C\",\"D\"],\"y\":[-6.442545704812191,-10.371126091252906,5.095395414764646,-9.884277724308319],\"type\":\"bar\"}],                        {\"legend\":{\"bgcolor\":\"#F5F6F9\",\"font\":{\"color\":\"#4D5663\"}},\"paper_bgcolor\":\"#F5F6F9\",\"plot_bgcolor\":\"#F5F6F9\",\"template\":{\"data\":{\"barpolar\":[{\"marker\":{\"line\":{\"color\":\"#E5ECF6\",\"width\":0.5},\"pattern\":{\"fillmode\":\"overlay\",\"size\":10,\"solidity\":0.2}},\"type\":\"barpolar\"}],\"bar\":[{\"error_x\":{\"color\":\"#2a3f5f\"},\"error_y\":{\"color\":\"#2a3f5f\"},\"marker\":{\"line\":{\"color\":\"#E5ECF6\",\"width\":0.5},\"pattern\":{\"fillmode\":\"overlay\",\"size\":10,\"solidity\":0.2}},\"type\":\"bar\"}],\"carpet\":[{\"aaxis\":{\"endlinecolor\":\"#2a3f5f\",\"gridcolor\":\"white\",\"linecolor\":\"white\",\"minorgridcolor\":\"white\",\"startlinecolor\":\"#2a3f5f\"},\"baxis\":{\"endlinecolor\":\"#2a3f5f\",\"gridcolor\":\"white\",\"linecolor\":\"white\",\"minorgridcolor\":\"white\",\"startlinecolor\":\"#2a3f5f\"},\"type\":\"carpet\"}],\"choropleth\":[{\"colorbar\":{\"outlinewidth\":0,\"ticks\":\"\"},\"type\":\"choropleth\"}],\"contourcarpet\":[{\"colorbar\":{\"outlinewidth\":0,\"ticks\":\"\"},\"type\":\"contourcarpet\"}],\"contour\":[{\"colorbar\":{\"outlinewidth\":0,\"ticks\":\"\"},\"colorscale\":[[0.0,\"#0d0887\"],[0.1111111111111111,\"#46039f\"],[0.2222222222222222,\"#7201a8\"],[0.3333333333333333,\"#9c179e\"],[0.4444444444444444,\"#bd3786\"],[0.5555555555555556,\"#d8576b\"],[0.6666666666666666,\"#ed7953\"],[0.7777777777777778,\"#fb9f3a\"],[0.8888888888888888,\"#fdca26\"],[1.0,\"#f0f921\"]],\"type\":\"contour\"}],\"heatmapgl\":[{\"colorbar\":{\"outlinewidth\":0,\"ticks\":\"\"},\"colorscale\":[[0.0,\"#0d0887\"],[0.1111111111111111,\"#46039f\"],[0.2222222222222222,\"#7201a8\"],[0.3333333333333333,\"#9c179e\"],[0.4444444444444444,\"#bd3786\"],[0.5555555555555556,\"#d8576b\"],[0.6666666666666666,\"#ed7953\"],[0.7777777777777778,\"#fb9f3a\"],[0.8888888888888888,\"#fdca26\"],[1.0,\"#f0f921\"]],\"type\":\"heatmapgl\"}],\"heatmap\":[{\"colorbar\":{\"outlinewidth\":0,\"ticks\":\"\"},\"colorscale\":[[0.0,\"#0d0887\"],[0.1111111111111111,\"#46039f\"],[0.2222222222222222,\"#7201a8\"],[0.3333333333333333,\"#9c179e\"],[0.4444444444444444,\"#bd3786\"],[0.5555555555555556,\"#d8576b\"],[0.6666666666666666,\"#ed7953\"],[0.7777777777777778,\"#fb9f3a\"],[0.8888888888888888,\"#fdca26\"],[1.0,\"#f0f921\"]],\"type\":\"heatmap\"}],\"histogram2dcontour\":[{\"colorbar\":{\"outlinewidth\":0,\"ticks\":\"\"},\"colorscale\":[[0.0,\"#0d0887\"],[0.1111111111111111,\"#46039f\"],[0.2222222222222222,\"#7201a8\"],[0.3333333333333333,\"#9c179e\"],[0.4444444444444444,\"#bd3786\"],[0.5555555555555556,\"#d8576b\"],[0.6666666666666666,\"#ed7953\"],[0.7777777777777778,\"#fb9f3a\"],[0.8888888888888888,\"#fdca26\"],[1.0,\"#f0f921\"]],\"type\":\"histogram2dcontour\"}],\"histogram2d\":[{\"colorbar\":{\"outlinewidth\":0,\"ticks\":\"\"},\"colorscale\":[[0.0,\"#0d0887\"],[0.1111111111111111,\"#46039f\"],[0.2222222222222222,\"#7201a8\"],[0.3333333333333333,\"#9c179e\"],[0.4444444444444444,\"#bd3786\"],[0.5555555555555556,\"#d8576b\"],[0.6666666666666666,\"#ed7953\"],[0.7777777777777778,\"#fb9f3a\"],[0.8888888888888888,\"#fdca26\"],[1.0,\"#f0f921\"]],\"type\":\"histogram2d\"}],\"histogram\":[{\"marker\":{\"pattern\":{\"fillmode\":\"overlay\",\"size\":10,\"solidity\":0.2}},\"type\":\"histogram\"}],\"mesh3d\":[{\"colorbar\":{\"outlinewidth\":0,\"ticks\":\"\"},\"type\":\"mesh3d\"}],\"parcoords\":[{\"line\":{\"colorbar\":{\"outlinewidth\":0,\"ticks\":\"\"}},\"type\":\"parcoords\"}],\"pie\":[{\"automargin\":true,\"type\":\"pie\"}],\"scatter3d\":[{\"line\":{\"colorbar\":{\"outlinewidth\":0,\"ticks\":\"\"}},\"marker\":{\"colorbar\":{\"outlinewidth\":0,\"ticks\":\"\"}},\"type\":\"scatter3d\"}],\"scattercarpet\":[{\"marker\":{\"colorbar\":{\"outlinewidth\":0,\"ticks\":\"\"}},\"type\":\"scattercarpet\"}],\"scattergeo\":[{\"marker\":{\"colorbar\":{\"outlinewidth\":0,\"ticks\":\"\"}},\"type\":\"scattergeo\"}],\"scattergl\":[{\"marker\":{\"colorbar\":{\"outlinewidth\":0,\"ticks\":\"\"}},\"type\":\"scattergl\"}],\"scattermapbox\":[{\"marker\":{\"colorbar\":{\"outlinewidth\":0,\"ticks\":\"\"}},\"type\":\"scattermapbox\"}],\"scatterpolargl\":[{\"marker\":{\"colorbar\":{\"outlinewidth\":0,\"ticks\":\"\"}},\"type\":\"scatterpolargl\"}],\"scatterpolar\":[{\"marker\":{\"colorbar\":{\"outlinewidth\":0,\"ticks\":\"\"}},\"type\":\"scatterpolar\"}],\"scatter\":[{\"marker\":{\"colorbar\":{\"outlinewidth\":0,\"ticks\":\"\"}},\"type\":\"scatter\"}],\"scatterternary\":[{\"marker\":{\"colorbar\":{\"outlinewidth\":0,\"ticks\":\"\"}},\"type\":\"scatterternary\"}],\"surface\":[{\"colorbar\":{\"outlinewidth\":0,\"ticks\":\"\"},\"colorscale\":[[0.0,\"#0d0887\"],[0.1111111111111111,\"#46039f\"],[0.2222222222222222,\"#7201a8\"],[0.3333333333333333,\"#9c179e\"],[0.4444444444444444,\"#bd3786\"],[0.5555555555555556,\"#d8576b\"],[0.6666666666666666,\"#ed7953\"],[0.7777777777777778,\"#fb9f3a\"],[0.8888888888888888,\"#fdca26\"],[1.0,\"#f0f921\"]],\"type\":\"surface\"}],\"table\":[{\"cells\":{\"fill\":{\"color\":\"#EBF0F8\"},\"line\":{\"color\":\"white\"}},\"header\":{\"fill\":{\"color\":\"#C8D4E3\"},\"line\":{\"color\":\"white\"}},\"type\":\"table\"}]},\"layout\":{\"annotationdefaults\":{\"arrowcolor\":\"#2a3f5f\",\"arrowhead\":0,\"arrowwidth\":1},\"autotypenumbers\":\"strict\",\"coloraxis\":{\"colorbar\":{\"outlinewidth\":0,\"ticks\":\"\"}},\"colorscale\":{\"diverging\":[[0,\"#8e0152\"],[0.1,\"#c51b7d\"],[0.2,\"#de77ae\"],[0.3,\"#f1b6da\"],[0.4,\"#fde0ef\"],[0.5,\"#f7f7f7\"],[0.6,\"#e6f5d0\"],[0.7,\"#b8e186\"],[0.8,\"#7fbc41\"],[0.9,\"#4d9221\"],[1,\"#276419\"]],\"sequential\":[[0.0,\"#0d0887\"],[0.1111111111111111,\"#46039f\"],[0.2222222222222222,\"#7201a8\"],[0.3333333333333333,\"#9c179e\"],[0.4444444444444444,\"#bd3786\"],[0.5555555555555556,\"#d8576b\"],[0.6666666666666666,\"#ed7953\"],[0.7777777777777778,\"#fb9f3a\"],[0.8888888888888888,\"#fdca26\"],[1.0,\"#f0f921\"]],\"sequentialminus\":[[0.0,\"#0d0887\"],[0.1111111111111111,\"#46039f\"],[0.2222222222222222,\"#7201a8\"],[0.3333333333333333,\"#9c179e\"],[0.4444444444444444,\"#bd3786\"],[0.5555555555555556,\"#d8576b\"],[0.6666666666666666,\"#ed7953\"],[0.7777777777777778,\"#fb9f3a\"],[0.8888888888888888,\"#fdca26\"],[1.0,\"#f0f921\"]]},\"colorway\":[\"#636efa\",\"#EF553B\",\"#00cc96\",\"#ab63fa\",\"#FFA15A\",\"#19d3f3\",\"#FF6692\",\"#B6E880\",\"#FF97FF\",\"#FECB52\"],\"font\":{\"color\":\"#2a3f5f\"},\"geo\":{\"bgcolor\":\"white\",\"lakecolor\":\"white\",\"landcolor\":\"#E5ECF6\",\"showlakes\":true,\"showland\":true,\"subunitcolor\":\"white\"},\"hoverlabel\":{\"align\":\"left\"},\"hovermode\":\"closest\",\"mapbox\":{\"style\":\"light\"},\"paper_bgcolor\":\"white\",\"plot_bgcolor\":\"#E5ECF6\",\"polar\":{\"angularaxis\":{\"gridcolor\":\"white\",\"linecolor\":\"white\",\"ticks\":\"\"},\"bgcolor\":\"#E5ECF6\",\"radialaxis\":{\"gridcolor\":\"white\",\"linecolor\":\"white\",\"ticks\":\"\"}},\"scene\":{\"xaxis\":{\"backgroundcolor\":\"#E5ECF6\",\"gridcolor\":\"white\",\"gridwidth\":2,\"linecolor\":\"white\",\"showbackground\":true,\"ticks\":\"\",\"zerolinecolor\":\"white\"},\"yaxis\":{\"backgroundcolor\":\"#E5ECF6\",\"gridcolor\":\"white\",\"gridwidth\":2,\"linecolor\":\"white\",\"showbackground\":true,\"ticks\":\"\",\"zerolinecolor\":\"white\"},\"zaxis\":{\"backgroundcolor\":\"#E5ECF6\",\"gridcolor\":\"white\",\"gridwidth\":2,\"linecolor\":\"white\",\"showbackground\":true,\"ticks\":\"\",\"zerolinecolor\":\"white\"}},\"shapedefaults\":{\"line\":{\"color\":\"#2a3f5f\"}},\"ternary\":{\"aaxis\":{\"gridcolor\":\"white\",\"linecolor\":\"white\",\"ticks\":\"\"},\"baxis\":{\"gridcolor\":\"white\",\"linecolor\":\"white\",\"ticks\":\"\"},\"bgcolor\":\"#E5ECF6\",\"caxis\":{\"gridcolor\":\"white\",\"linecolor\":\"white\",\"ticks\":\"\"}},\"title\":{\"x\":0.05},\"xaxis\":{\"automargin\":true,\"gridcolor\":\"white\",\"linecolor\":\"white\",\"ticks\":\"\",\"title\":{\"standoff\":15},\"zerolinecolor\":\"white\",\"zerolinewidth\":2},\"yaxis\":{\"automargin\":true,\"gridcolor\":\"white\",\"linecolor\":\"white\",\"ticks\":\"\",\"title\":{\"standoff\":15},\"zerolinecolor\":\"white\",\"zerolinewidth\":2}}},\"title\":{\"font\":{\"color\":\"#4D5663\"}},\"xaxis\":{\"gridcolor\":\"#E1E5ED\",\"showgrid\":true,\"tickfont\":{\"color\":\"#4D5663\"},\"title\":{\"font\":{\"color\":\"#4D5663\"},\"text\":\"\"},\"zerolinecolor\":\"#E1E5ED\"},\"yaxis\":{\"gridcolor\":\"#E1E5ED\",\"showgrid\":true,\"tickfont\":{\"color\":\"#4D5663\"},\"title\":{\"font\":{\"color\":\"#4D5663\"},\"text\":\"\"},\"zerolinecolor\":\"#E1E5ED\"}},                        {\"showLink\": true, \"linkText\": \"Export to plot.ly\", \"plotlyServerURL\": \"https://plot.ly\", \"responsive\": true}                    ).then(function(){\n",
       "                            \n",
       "var gd = document.getElementById('3819146e-60ef-46a1-89ca-499da3c6e3dd');\n",
       "var x = new MutationObserver(function (mutations, observer) {{\n",
       "        var display = window.getComputedStyle(gd).display;\n",
       "        if (!display || display === 'none') {{\n",
       "            console.log([gd, 'removed!']);\n",
       "            Plotly.purge(gd);\n",
       "            observer.disconnect();\n",
       "        }}\n",
       "}});\n",
       "\n",
       "// Listen for the removal of the full notebook cells\n",
       "var notebookContainer = gd.closest('#notebook-container');\n",
       "if (notebookContainer) {{\n",
       "    x.observe(notebookContainer, {childList: true});\n",
       "}}\n",
       "\n",
       "// Listen for the clearing of the current output cell\n",
       "var outputEl = gd.closest('.output');\n",
       "if (outputEl) {{\n",
       "    x.observe(outputEl, {childList: true});\n",
       "}}\n",
       "\n",
       "                        })                };                });            </script>        </div>"
      ]
     },
     "metadata": {},
     "output_type": "display_data"
    }
   ],
   "source": [
    " df.sum().iplot(kind='bar')"
   ]
  },
  {
   "cell_type": "code",
   "execution_count": 27,
   "id": "e1f0d32d",
   "metadata": {},
   "outputs": [
    {
     "data": {
      "application/vnd.plotly.v1+json": {
       "config": {
        "linkText": "Export to plot.ly",
        "plotlyServerURL": "https://plot.ly",
        "showLink": true
       },
       "data": [
        {
         "boxpoints": false,
         "line": {
          "width": 1.3
         },
         "marker": {
          "color": "rgba(255, 153, 51, 1.0)"
         },
         "name": "A",
         "orientation": "v",
         "type": "box",
         "y": [
          0.7206021595231069,
          0.600148426769176,
          0.4104359743616993,
          1.5970755667006848,
          -1.2936619515577568,
          -0.8247653726117883,
          0.8635716441218286,
          0.9641754730341981,
          -0.023983744104136718,
          0.8936011658880695,
          -0.3997818395932563,
          -0.6968882043136051,
          -1.163879408522421,
          0.24301016267096173,
          1.5061934436070503,
          2.2293327935101708,
          -1.2735706894259167,
          0.07670212200171866,
          0.42749763295537124,
          -0.8362156804531724,
          0.23760756881529357,
          0.6125021013936939,
          0.9474786308756106,
          0.5792285211320449,
          -0.022141338115392657,
          0.1780786293235384,
          -0.4378983347210052,
          -1.9641912957964793,
          0.5884103102817879,
          1.2261746210124682,
          0.36692568501522266,
          0.5338772876220805,
          -1.0129881243922954,
          -0.05828206366226157,
          -0.4542632899292565,
          -0.9545712927080492,
          -0.4462063781298266,
          1.7850698534429827,
          -1.5714742286027275,
          -1.700569442248487,
          -0.7669013707864606,
          -3.131367504486959,
          -1.059983984922948,
          1.4162638414930868,
          1.6704485316623467,
          -0.939130190447798,
          0.8100608368265246,
          1.4254927278950735,
          0.28241386798408846,
          -0.20653442472757128,
          -1.745147679318256,
          -1.6430798662212416,
          1.3845799049888303,
          -1.378963965645226,
          -0.519571255210273,
          1.4442675469554762,
          -0.5705819989697787,
          -0.5135575214998415,
          -0.7725119707973551,
          0.4520162047149358,
          -0.7274765115358929,
          -1.3402720744289112,
          0.9327244040593339,
          -0.8271541013442341,
          -1.2064204344555705,
          0.3696430003742275,
          0.23974555131411265,
          -1.68529161912587,
          0.5231163706104487,
          0.6402595816400246,
          -0.043905994702309624,
          0.4468550288425965,
          0.37837924503019776,
          -0.033244845954011386,
          -1.1977701838216634,
          0.39756580016298637,
          -0.7081412455264934,
          0.5402103482032428,
          -1.8552901543432505,
          1.0089939294346084,
          1.587105528275671,
          -0.5601097082171755,
          0.11665409539915697,
          -0.5745241401224672,
          -2.558207307961996,
          -0.5339083790451622,
          -1.4864995681419446,
          -0.2949479595475197,
          0.6295343657985574,
          0.42971820599591787,
          1.5498386531740298,
          0.5916490519789844,
          -0.3998257461066869,
          1.9127966678340154,
          0.30283673972582165,
          0.24201125897767198,
          -1.7144830491064178,
          0.4238364675698964,
          0.60177217016106,
          -0.6508979705447588
         ]
        },
        {
         "boxpoints": false,
         "line": {
          "width": 1.3
         },
         "marker": {
          "color": "rgba(55, 128, 191, 1.0)"
         },
         "name": "B",
         "orientation": "v",
         "type": "box",
         "y": [
          0.4790002364284842,
          -0.5339133712050166,
          -0.2551232292121737,
          0.7500620133948723,
          1.0639226831377517,
          0.3028647755916625,
          0.0977690423356316,
          -0.3951140303210251,
          -0.9550331925745601,
          -0.7764745770247691,
          -1.4300120636784552,
          0.722590320396416,
          0.06063841933463821,
          0.03610652845611828,
          -0.537856030516011,
          -0.078808592696729,
          -0.3114260012747389,
          -0.8941588607600373,
          -0.5808384159219051,
          0.3834337532738288,
          0.483711206092414,
          1.6829763180132218,
          -0.8919742536174792,
          0.950467512521074,
          -0.08625549152922969,
          1.2167158329958416,
          -0.033911930360870084,
          -1.9700550067826965,
          -0.02574803290346344,
          0.3794547728684391,
          -1.4103559279651778,
          1.0208301284403738,
          -1.6901429429533048,
          1.5697762867784217,
          -1.1365048100216353,
          -0.16786990398521856,
          -1.3683080519549378,
          0.6732207688411338,
          -0.724524608367036,
          -1.6556190684717973,
          1.405498473751612,
          -1.585448471793164,
          0.39518907167519784,
          0.15531514996168058,
          -0.4328193574850774,
          -0.8375570848807239,
          2.0230704348373942,
          -0.17582755292970423,
          1.9225970664687468,
          -1.5139377738915847,
          -0.4490913077935091,
          1.2021633853196803,
          -1.1047775425974564,
          0.7485099120378153,
          -0.8506817463527888,
          -0.1508540110465642,
          -0.4806223905826818,
          -0.009409878169259062,
          -0.13773066448041185,
          0.9187758383578031,
          0.24586887682641126,
          -0.4105378015561218,
          0.7002100378602496,
          1.0152904608914048,
          -0.05662237441840279,
          -1.1519555057371014,
          0.47741060260304125,
          -0.9356334286067687,
          -0.2816607396441667,
          1.2079854210569332,
          -0.9374091758648114,
          0.33622495387200485,
          0.017240232316663457,
          0.6281700912130026,
          -1.001311001407909,
          -0.01697870692670627,
          -1.6009597764633763,
          0.12951776927639422,
          -0.4318016346568667,
          0.6446717409546772,
          -1.765416896232608,
          -0.6206312391014545,
          -0.5616885246922951,
          1.5158834462222572,
          0.40289717199054675,
          0.7031019990192451,
          -0.7247400440690024,
          -2.2789079087356514,
          0.9516348236040112,
          0.5500106106728779,
          -0.6256799087748532,
          -1.2447989248999347,
          -1.5713689300682712,
          1.6189765467065518,
          -0.352213379315518,
          -1.418362779696527,
          1.0450315791300482,
          0.15528639631566069,
          0.4511257837375593,
          -0.18485970986316355
         ]
        },
        {
         "boxpoints": false,
         "line": {
          "width": 1.3
         },
         "marker": {
          "color": "rgba(50, 171, 96, 1.0)"
         },
         "name": "C",
         "orientation": "v",
         "type": "box",
         "y": [
          -0.1710539717238674,
          0.6761120036186342,
          -0.6364901882466849,
          0.5068375166337368,
          0.8587563554081904,
          0.8815777839520635,
          1.7981957622905946,
          0.23629650342768097,
          -1.2654142235465151,
          0.9985852638112375,
          1.0140967677490105,
          1.9213050225984043,
          1.147118897460104,
          -0.5571080126333299,
          -1.5966228700302354,
          0.7799340936002608,
          -0.9773101083967402,
          1.197839159404519,
          -1.5107967182448119,
          -0.13519320205885943,
          -0.11407554694339425,
          0.0416244963029414,
          -0.11694785669789755,
          0.32555050158578663,
          -0.581746887771692,
          0.7537911994443084,
          -0.5051520940880653,
          -3.1224181613669932,
          0.25322090179614604,
          -1.709347508989651,
          -0.574636669754101,
          0.0307936632530043,
          -1.2285030245784847,
          0.2656927014665348,
          -0.3068950514033596,
          0.13240715579408738,
          0.8374575862869191,
          -1.3021623768791744,
          -1.819165996897542,
          -0.7589988455347925,
          -0.37555023383268366,
          0.17703412808151636,
          0.9212274812957582,
          2.235090436534782,
          0.22806047835346205,
          -0.15965213524816327,
          -1.8462801463145255,
          -0.5847352598471942,
          0.33665541167019086,
          0.7156454581545579,
          0.4518459352615333,
          0.3768602525240975,
          -1.0481059079241228,
          0.9391230146671161,
          -0.81760338429349,
          -1.8081487207564184,
          0.17743167887350544,
          1.039677816301545,
          -0.49954238815551105,
          -1.42924711355474,
          1.3219961035554446,
          -0.9393760389550331,
          0.3283685130185671,
          -0.23167200407406047,
          1.709823808775834,
          0.43803745965810165,
          0.8056695588712278,
          -0.8815625206777283,
          0.8010039094881437,
          0.7753082267979359,
          -0.6605696943285191,
          -0.40442949350905255,
          2.20673145237434,
          2.2480674660485405,
          2.60938032100713,
          0.543699479190823,
          0.1969871874266927,
          -0.15677733024887777,
          0.6339198380731179,
          1.4695236211918865,
          -0.46258878245316276,
          -1.417929581243472,
          -0.6428942336220342,
          -1.8015303901752648,
          -1.0836442298731181,
          0.7834492930937946,
          1.4690474511013203,
          -0.5667873756382681,
          -0.81138244564651,
          0.9312761917561393,
          0.8170173053211249,
          -0.2515329718182992,
          -0.7498444640254841,
          -1.051743373588905,
          0.004355898780761671,
          -0.14234496449937195,
          1.3343658157166423,
          1.1580565675560939,
          -0.6588853733842952,
          0.7278643918332525
         ]
        },
        {
         "boxpoints": false,
         "line": {
          "width": 1.3
         },
         "marker": {
          "color": "rgba(128, 0, 128, 1.0)"
         },
         "name": "D",
         "orientation": "v",
         "type": "box",
         "y": [
          -0.7745862644908448,
          0.5042041435436856,
          0.11653223204023365,
          -1.1959229444741741,
          -0.27292696862939264,
          0.9223229138279102,
          -0.0846199316096227,
          0.01953093084833903,
          0.6355269183584646,
          0.6666909985417896,
          0.6043012254606308,
          0.27396348046715746,
          -2.629516675257851,
          0.2797430559701173,
          0.4514205345986516,
          -0.7914312739174943,
          0.19240316995779333,
          1.4023278833167279,
          0.9432499771843861,
          1.100283579418994,
          -2.6576910228587836,
          1.220608012005847,
          0.4463762203629547,
          1.0628130916520049,
          -0.08333665257748994,
          -0.8198554339209732,
          0.08681325176953446,
          0.002710946088567911,
          -0.9134745712232382,
          -1.3781752896942985,
          -0.49077781599685016,
          0.7299785382485134,
          -0.374019643846917,
          0.43339476120969894,
          2.1120018359857964,
          -0.07222056301967658,
          -1.118430611101756,
          0.4993823157143268,
          0.7955688060257385,
          -0.3882653775714211,
          0.8007652045697838,
          -1.643699036934892,
          -1.9886441019258725,
          1.4829454813526062,
          -0.9416601411402572,
          0.15063360347531604,
          0.14947421761858792,
          -0.060953335646296604,
          0.35351471505754173,
          -0.08085370059267592,
          -1.0652731210957525,
          -1.4754535838547946,
          0.6744817451168268,
          -1.8282248056546728,
          0.23187428799008547,
          -1.4106370686259977,
          -0.11648195669724136,
          -0.5618073610721529,
          0.2428333967215472,
          0.5161467385849521,
          0.948845713709916,
          0.07121176051622159,
          -0.2594612478430401,
          0.5682260787378328,
          0.6442418035769039,
          0.16342408166701317,
          0.6225775683828786,
          -1.5409881668264611,
          -0.3367059484787146,
          0.3606308288750878,
          0.24475939866764343,
          1.6498950074974856,
          -1.1609072949372032,
          -1.240376311437029,
          -1.3595294482528577,
          -0.4989867375652803,
          -0.994521889530649,
          0.5238788685754128,
          -0.5126883562085743,
          1.638572633652777,
          1.1704216773919038,
          -0.3892984266145127,
          -1.9701693154051056,
          0.9541009998491473,
          -0.38294091155112997,
          -0.37783741567692064,
          0.007545114995654143,
          1.0102458239343455,
          -0.08041770515079398,
          -0.4099862221534074,
          -0.839011880668791,
          -0.8332599606848795,
          -1.058238678493066,
          -0.8706724320299088,
          -0.5342859606428391,
          -0.9274468507913998,
          0.8428645004405348,
          0.0021456148799246432,
          -0.7677208360543195,
          1.1517078376841599
         ]
        }
       ],
       "layout": {
        "legend": {
         "bgcolor": "#F5F6F9",
         "font": {
          "color": "#4D5663"
         }
        },
        "paper_bgcolor": "#F5F6F9",
        "plot_bgcolor": "#F5F6F9",
        "template": {
         "data": {
          "bar": [
           {
            "error_x": {
             "color": "#2a3f5f"
            },
            "error_y": {
             "color": "#2a3f5f"
            },
            "marker": {
             "line": {
              "color": "#E5ECF6",
              "width": 0.5
             },
             "pattern": {
              "fillmode": "overlay",
              "size": 10,
              "solidity": 0.2
             }
            },
            "type": "bar"
           }
          ],
          "barpolar": [
           {
            "marker": {
             "line": {
              "color": "#E5ECF6",
              "width": 0.5
             },
             "pattern": {
              "fillmode": "overlay",
              "size": 10,
              "solidity": 0.2
             }
            },
            "type": "barpolar"
           }
          ],
          "carpet": [
           {
            "aaxis": {
             "endlinecolor": "#2a3f5f",
             "gridcolor": "white",
             "linecolor": "white",
             "minorgridcolor": "white",
             "startlinecolor": "#2a3f5f"
            },
            "baxis": {
             "endlinecolor": "#2a3f5f",
             "gridcolor": "white",
             "linecolor": "white",
             "minorgridcolor": "white",
             "startlinecolor": "#2a3f5f"
            },
            "type": "carpet"
           }
          ],
          "choropleth": [
           {
            "colorbar": {
             "outlinewidth": 0,
             "ticks": ""
            },
            "type": "choropleth"
           }
          ],
          "contour": [
           {
            "colorbar": {
             "outlinewidth": 0,
             "ticks": ""
            },
            "colorscale": [
             [
              0,
              "#0d0887"
             ],
             [
              0.1111111111111111,
              "#46039f"
             ],
             [
              0.2222222222222222,
              "#7201a8"
             ],
             [
              0.3333333333333333,
              "#9c179e"
             ],
             [
              0.4444444444444444,
              "#bd3786"
             ],
             [
              0.5555555555555556,
              "#d8576b"
             ],
             [
              0.6666666666666666,
              "#ed7953"
             ],
             [
              0.7777777777777778,
              "#fb9f3a"
             ],
             [
              0.8888888888888888,
              "#fdca26"
             ],
             [
              1,
              "#f0f921"
             ]
            ],
            "type": "contour"
           }
          ],
          "contourcarpet": [
           {
            "colorbar": {
             "outlinewidth": 0,
             "ticks": ""
            },
            "type": "contourcarpet"
           }
          ],
          "heatmap": [
           {
            "colorbar": {
             "outlinewidth": 0,
             "ticks": ""
            },
            "colorscale": [
             [
              0,
              "#0d0887"
             ],
             [
              0.1111111111111111,
              "#46039f"
             ],
             [
              0.2222222222222222,
              "#7201a8"
             ],
             [
              0.3333333333333333,
              "#9c179e"
             ],
             [
              0.4444444444444444,
              "#bd3786"
             ],
             [
              0.5555555555555556,
              "#d8576b"
             ],
             [
              0.6666666666666666,
              "#ed7953"
             ],
             [
              0.7777777777777778,
              "#fb9f3a"
             ],
             [
              0.8888888888888888,
              "#fdca26"
             ],
             [
              1,
              "#f0f921"
             ]
            ],
            "type": "heatmap"
           }
          ],
          "heatmapgl": [
           {
            "colorbar": {
             "outlinewidth": 0,
             "ticks": ""
            },
            "colorscale": [
             [
              0,
              "#0d0887"
             ],
             [
              0.1111111111111111,
              "#46039f"
             ],
             [
              0.2222222222222222,
              "#7201a8"
             ],
             [
              0.3333333333333333,
              "#9c179e"
             ],
             [
              0.4444444444444444,
              "#bd3786"
             ],
             [
              0.5555555555555556,
              "#d8576b"
             ],
             [
              0.6666666666666666,
              "#ed7953"
             ],
             [
              0.7777777777777778,
              "#fb9f3a"
             ],
             [
              0.8888888888888888,
              "#fdca26"
             ],
             [
              1,
              "#f0f921"
             ]
            ],
            "type": "heatmapgl"
           }
          ],
          "histogram": [
           {
            "marker": {
             "pattern": {
              "fillmode": "overlay",
              "size": 10,
              "solidity": 0.2
             }
            },
            "type": "histogram"
           }
          ],
          "histogram2d": [
           {
            "colorbar": {
             "outlinewidth": 0,
             "ticks": ""
            },
            "colorscale": [
             [
              0,
              "#0d0887"
             ],
             [
              0.1111111111111111,
              "#46039f"
             ],
             [
              0.2222222222222222,
              "#7201a8"
             ],
             [
              0.3333333333333333,
              "#9c179e"
             ],
             [
              0.4444444444444444,
              "#bd3786"
             ],
             [
              0.5555555555555556,
              "#d8576b"
             ],
             [
              0.6666666666666666,
              "#ed7953"
             ],
             [
              0.7777777777777778,
              "#fb9f3a"
             ],
             [
              0.8888888888888888,
              "#fdca26"
             ],
             [
              1,
              "#f0f921"
             ]
            ],
            "type": "histogram2d"
           }
          ],
          "histogram2dcontour": [
           {
            "colorbar": {
             "outlinewidth": 0,
             "ticks": ""
            },
            "colorscale": [
             [
              0,
              "#0d0887"
             ],
             [
              0.1111111111111111,
              "#46039f"
             ],
             [
              0.2222222222222222,
              "#7201a8"
             ],
             [
              0.3333333333333333,
              "#9c179e"
             ],
             [
              0.4444444444444444,
              "#bd3786"
             ],
             [
              0.5555555555555556,
              "#d8576b"
             ],
             [
              0.6666666666666666,
              "#ed7953"
             ],
             [
              0.7777777777777778,
              "#fb9f3a"
             ],
             [
              0.8888888888888888,
              "#fdca26"
             ],
             [
              1,
              "#f0f921"
             ]
            ],
            "type": "histogram2dcontour"
           }
          ],
          "mesh3d": [
           {
            "colorbar": {
             "outlinewidth": 0,
             "ticks": ""
            },
            "type": "mesh3d"
           }
          ],
          "parcoords": [
           {
            "line": {
             "colorbar": {
              "outlinewidth": 0,
              "ticks": ""
             }
            },
            "type": "parcoords"
           }
          ],
          "pie": [
           {
            "automargin": true,
            "type": "pie"
           }
          ],
          "scatter": [
           {
            "marker": {
             "colorbar": {
              "outlinewidth": 0,
              "ticks": ""
             }
            },
            "type": "scatter"
           }
          ],
          "scatter3d": [
           {
            "line": {
             "colorbar": {
              "outlinewidth": 0,
              "ticks": ""
             }
            },
            "marker": {
             "colorbar": {
              "outlinewidth": 0,
              "ticks": ""
             }
            },
            "type": "scatter3d"
           }
          ],
          "scattercarpet": [
           {
            "marker": {
             "colorbar": {
              "outlinewidth": 0,
              "ticks": ""
             }
            },
            "type": "scattercarpet"
           }
          ],
          "scattergeo": [
           {
            "marker": {
             "colorbar": {
              "outlinewidth": 0,
              "ticks": ""
             }
            },
            "type": "scattergeo"
           }
          ],
          "scattergl": [
           {
            "marker": {
             "colorbar": {
              "outlinewidth": 0,
              "ticks": ""
             }
            },
            "type": "scattergl"
           }
          ],
          "scattermapbox": [
           {
            "marker": {
             "colorbar": {
              "outlinewidth": 0,
              "ticks": ""
             }
            },
            "type": "scattermapbox"
           }
          ],
          "scatterpolar": [
           {
            "marker": {
             "colorbar": {
              "outlinewidth": 0,
              "ticks": ""
             }
            },
            "type": "scatterpolar"
           }
          ],
          "scatterpolargl": [
           {
            "marker": {
             "colorbar": {
              "outlinewidth": 0,
              "ticks": ""
             }
            },
            "type": "scatterpolargl"
           }
          ],
          "scatterternary": [
           {
            "marker": {
             "colorbar": {
              "outlinewidth": 0,
              "ticks": ""
             }
            },
            "type": "scatterternary"
           }
          ],
          "surface": [
           {
            "colorbar": {
             "outlinewidth": 0,
             "ticks": ""
            },
            "colorscale": [
             [
              0,
              "#0d0887"
             ],
             [
              0.1111111111111111,
              "#46039f"
             ],
             [
              0.2222222222222222,
              "#7201a8"
             ],
             [
              0.3333333333333333,
              "#9c179e"
             ],
             [
              0.4444444444444444,
              "#bd3786"
             ],
             [
              0.5555555555555556,
              "#d8576b"
             ],
             [
              0.6666666666666666,
              "#ed7953"
             ],
             [
              0.7777777777777778,
              "#fb9f3a"
             ],
             [
              0.8888888888888888,
              "#fdca26"
             ],
             [
              1,
              "#f0f921"
             ]
            ],
            "type": "surface"
           }
          ],
          "table": [
           {
            "cells": {
             "fill": {
              "color": "#EBF0F8"
             },
             "line": {
              "color": "white"
             }
            },
            "header": {
             "fill": {
              "color": "#C8D4E3"
             },
             "line": {
              "color": "white"
             }
            },
            "type": "table"
           }
          ]
         },
         "layout": {
          "annotationdefaults": {
           "arrowcolor": "#2a3f5f",
           "arrowhead": 0,
           "arrowwidth": 1
          },
          "autotypenumbers": "strict",
          "coloraxis": {
           "colorbar": {
            "outlinewidth": 0,
            "ticks": ""
           }
          },
          "colorscale": {
           "diverging": [
            [
             0,
             "#8e0152"
            ],
            [
             0.1,
             "#c51b7d"
            ],
            [
             0.2,
             "#de77ae"
            ],
            [
             0.3,
             "#f1b6da"
            ],
            [
             0.4,
             "#fde0ef"
            ],
            [
             0.5,
             "#f7f7f7"
            ],
            [
             0.6,
             "#e6f5d0"
            ],
            [
             0.7,
             "#b8e186"
            ],
            [
             0.8,
             "#7fbc41"
            ],
            [
             0.9,
             "#4d9221"
            ],
            [
             1,
             "#276419"
            ]
           ],
           "sequential": [
            [
             0,
             "#0d0887"
            ],
            [
             0.1111111111111111,
             "#46039f"
            ],
            [
             0.2222222222222222,
             "#7201a8"
            ],
            [
             0.3333333333333333,
             "#9c179e"
            ],
            [
             0.4444444444444444,
             "#bd3786"
            ],
            [
             0.5555555555555556,
             "#d8576b"
            ],
            [
             0.6666666666666666,
             "#ed7953"
            ],
            [
             0.7777777777777778,
             "#fb9f3a"
            ],
            [
             0.8888888888888888,
             "#fdca26"
            ],
            [
             1,
             "#f0f921"
            ]
           ],
           "sequentialminus": [
            [
             0,
             "#0d0887"
            ],
            [
             0.1111111111111111,
             "#46039f"
            ],
            [
             0.2222222222222222,
             "#7201a8"
            ],
            [
             0.3333333333333333,
             "#9c179e"
            ],
            [
             0.4444444444444444,
             "#bd3786"
            ],
            [
             0.5555555555555556,
             "#d8576b"
            ],
            [
             0.6666666666666666,
             "#ed7953"
            ],
            [
             0.7777777777777778,
             "#fb9f3a"
            ],
            [
             0.8888888888888888,
             "#fdca26"
            ],
            [
             1,
             "#f0f921"
            ]
           ]
          },
          "colorway": [
           "#636efa",
           "#EF553B",
           "#00cc96",
           "#ab63fa",
           "#FFA15A",
           "#19d3f3",
           "#FF6692",
           "#B6E880",
           "#FF97FF",
           "#FECB52"
          ],
          "font": {
           "color": "#2a3f5f"
          },
          "geo": {
           "bgcolor": "white",
           "lakecolor": "white",
           "landcolor": "#E5ECF6",
           "showlakes": true,
           "showland": true,
           "subunitcolor": "white"
          },
          "hoverlabel": {
           "align": "left"
          },
          "hovermode": "closest",
          "mapbox": {
           "style": "light"
          },
          "paper_bgcolor": "white",
          "plot_bgcolor": "#E5ECF6",
          "polar": {
           "angularaxis": {
            "gridcolor": "white",
            "linecolor": "white",
            "ticks": ""
           },
           "bgcolor": "#E5ECF6",
           "radialaxis": {
            "gridcolor": "white",
            "linecolor": "white",
            "ticks": ""
           }
          },
          "scene": {
           "xaxis": {
            "backgroundcolor": "#E5ECF6",
            "gridcolor": "white",
            "gridwidth": 2,
            "linecolor": "white",
            "showbackground": true,
            "ticks": "",
            "zerolinecolor": "white"
           },
           "yaxis": {
            "backgroundcolor": "#E5ECF6",
            "gridcolor": "white",
            "gridwidth": 2,
            "linecolor": "white",
            "showbackground": true,
            "ticks": "",
            "zerolinecolor": "white"
           },
           "zaxis": {
            "backgroundcolor": "#E5ECF6",
            "gridcolor": "white",
            "gridwidth": 2,
            "linecolor": "white",
            "showbackground": true,
            "ticks": "",
            "zerolinecolor": "white"
           }
          },
          "shapedefaults": {
           "line": {
            "color": "#2a3f5f"
           }
          },
          "ternary": {
           "aaxis": {
            "gridcolor": "white",
            "linecolor": "white",
            "ticks": ""
           },
           "baxis": {
            "gridcolor": "white",
            "linecolor": "white",
            "ticks": ""
           },
           "bgcolor": "#E5ECF6",
           "caxis": {
            "gridcolor": "white",
            "linecolor": "white",
            "ticks": ""
           }
          },
          "title": {
           "x": 0.05
          },
          "xaxis": {
           "automargin": true,
           "gridcolor": "white",
           "linecolor": "white",
           "ticks": "",
           "title": {
            "standoff": 15
           },
           "zerolinecolor": "white",
           "zerolinewidth": 2
          },
          "yaxis": {
           "automargin": true,
           "gridcolor": "white",
           "linecolor": "white",
           "ticks": "",
           "title": {
            "standoff": 15
           },
           "zerolinecolor": "white",
           "zerolinewidth": 2
          }
         }
        },
        "title": {
         "font": {
          "color": "#4D5663"
         }
        },
        "xaxis": {
         "gridcolor": "#E1E5ED",
         "showgrid": true,
         "tickfont": {
          "color": "#4D5663"
         },
         "title": {
          "font": {
           "color": "#4D5663"
          },
          "text": ""
         },
         "zerolinecolor": "#E1E5ED"
        },
        "yaxis": {
         "gridcolor": "#E1E5ED",
         "showgrid": true,
         "tickfont": {
          "color": "#4D5663"
         },
         "title": {
          "font": {
           "color": "#4D5663"
          },
          "text": ""
         },
         "zerolinecolor": "#E1E5ED"
        }
       }
      },
      "text/html": [
       "<div>                            <div id=\"70a6e0c0-1549-491e-93ed-5c3d4f58b5b8\" class=\"plotly-graph-div\" style=\"height:525px; width:100%;\"></div>            <script type=\"text/javascript\">                require([\"plotly\"], function(Plotly) {                    window.PLOTLYENV=window.PLOTLYENV || {};\n",
       "                    window.PLOTLYENV.BASE_URL='https://plot.ly';                                    if (document.getElementById(\"70a6e0c0-1549-491e-93ed-5c3d4f58b5b8\")) {                    Plotly.newPlot(                        \"70a6e0c0-1549-491e-93ed-5c3d4f58b5b8\",                        [{\"boxpoints\":false,\"line\":{\"width\":1.3},\"marker\":{\"color\":\"rgba(255, 153, 51, 1.0)\"},\"name\":\"A\",\"orientation\":\"v\",\"y\":[0.7206021595231069,0.600148426769176,0.4104359743616993,1.5970755667006848,-1.2936619515577568,-0.8247653726117883,0.8635716441218286,0.9641754730341981,-0.023983744104136718,0.8936011658880695,-0.3997818395932563,-0.6968882043136051,-1.163879408522421,0.24301016267096173,1.5061934436070503,2.2293327935101708,-1.2735706894259167,0.07670212200171866,0.42749763295537124,-0.8362156804531724,0.23760756881529357,0.6125021013936939,0.9474786308756106,0.5792285211320449,-0.022141338115392657,0.1780786293235384,-0.4378983347210052,-1.9641912957964793,0.5884103102817879,1.2261746210124682,0.36692568501522266,0.5338772876220805,-1.0129881243922954,-0.05828206366226157,-0.4542632899292565,-0.9545712927080492,-0.4462063781298266,1.7850698534429827,-1.5714742286027275,-1.700569442248487,-0.7669013707864606,-3.131367504486959,-1.059983984922948,1.4162638414930868,1.6704485316623467,-0.939130190447798,0.8100608368265246,1.4254927278950735,0.28241386798408846,-0.20653442472757128,-1.745147679318256,-1.6430798662212416,1.3845799049888303,-1.378963965645226,-0.519571255210273,1.4442675469554762,-0.5705819989697787,-0.5135575214998415,-0.7725119707973551,0.4520162047149358,-0.7274765115358929,-1.3402720744289112,0.9327244040593339,-0.8271541013442341,-1.2064204344555705,0.3696430003742275,0.23974555131411265,-1.68529161912587,0.5231163706104487,0.6402595816400246,-0.043905994702309624,0.4468550288425965,0.37837924503019776,-0.033244845954011386,-1.1977701838216634,0.39756580016298637,-0.7081412455264934,0.5402103482032428,-1.8552901543432505,1.0089939294346084,1.587105528275671,-0.5601097082171755,0.11665409539915697,-0.5745241401224672,-2.558207307961996,-0.5339083790451622,-1.4864995681419446,-0.2949479595475197,0.6295343657985574,0.42971820599591787,1.5498386531740298,0.5916490519789844,-0.3998257461066869,1.9127966678340154,0.30283673972582165,0.24201125897767198,-1.7144830491064178,0.4238364675698964,0.60177217016106,-0.6508979705447588],\"type\":\"box\"},{\"boxpoints\":false,\"line\":{\"width\":1.3},\"marker\":{\"color\":\"rgba(55, 128, 191, 1.0)\"},\"name\":\"B\",\"orientation\":\"v\",\"y\":[0.4790002364284842,-0.5339133712050166,-0.2551232292121737,0.7500620133948723,1.0639226831377517,0.3028647755916625,0.0977690423356316,-0.3951140303210251,-0.9550331925745601,-0.7764745770247691,-1.4300120636784552,0.722590320396416,0.06063841933463821,0.03610652845611828,-0.537856030516011,-0.078808592696729,-0.3114260012747389,-0.8941588607600373,-0.5808384159219051,0.3834337532738288,0.483711206092414,1.6829763180132218,-0.8919742536174792,0.950467512521074,-0.08625549152922969,1.2167158329958416,-0.033911930360870084,-1.9700550067826965,-0.02574803290346344,0.3794547728684391,-1.4103559279651778,1.0208301284403738,-1.6901429429533048,1.5697762867784217,-1.1365048100216353,-0.16786990398521856,-1.3683080519549378,0.6732207688411338,-0.724524608367036,-1.6556190684717973,1.405498473751612,-1.585448471793164,0.39518907167519784,0.15531514996168058,-0.4328193574850774,-0.8375570848807239,2.0230704348373942,-0.17582755292970423,1.9225970664687468,-1.5139377738915847,-0.4490913077935091,1.2021633853196803,-1.1047775425974564,0.7485099120378153,-0.8506817463527888,-0.1508540110465642,-0.4806223905826818,-0.009409878169259062,-0.13773066448041185,0.9187758383578031,0.24586887682641126,-0.4105378015561218,0.7002100378602496,1.0152904608914048,-0.05662237441840279,-1.1519555057371014,0.47741060260304125,-0.9356334286067687,-0.2816607396441667,1.2079854210569332,-0.9374091758648114,0.33622495387200485,0.017240232316663457,0.6281700912130026,-1.001311001407909,-0.01697870692670627,-1.6009597764633763,0.12951776927639422,-0.4318016346568667,0.6446717409546772,-1.765416896232608,-0.6206312391014545,-0.5616885246922951,1.5158834462222572,0.40289717199054675,0.7031019990192451,-0.7247400440690024,-2.2789079087356514,0.9516348236040112,0.5500106106728779,-0.6256799087748532,-1.2447989248999347,-1.5713689300682712,1.6189765467065518,-0.352213379315518,-1.418362779696527,1.0450315791300482,0.15528639631566069,0.4511257837375593,-0.18485970986316355],\"type\":\"box\"},{\"boxpoints\":false,\"line\":{\"width\":1.3},\"marker\":{\"color\":\"rgba(50, 171, 96, 1.0)\"},\"name\":\"C\",\"orientation\":\"v\",\"y\":[-0.1710539717238674,0.6761120036186342,-0.6364901882466849,0.5068375166337368,0.8587563554081904,0.8815777839520635,1.7981957622905946,0.23629650342768097,-1.2654142235465151,0.9985852638112375,1.0140967677490105,1.9213050225984043,1.147118897460104,-0.5571080126333299,-1.5966228700302354,0.7799340936002608,-0.9773101083967402,1.197839159404519,-1.5107967182448119,-0.13519320205885943,-0.11407554694339425,0.0416244963029414,-0.11694785669789755,0.32555050158578663,-0.581746887771692,0.7537911994443084,-0.5051520940880653,-3.1224181613669932,0.25322090179614604,-1.709347508989651,-0.574636669754101,0.0307936632530043,-1.2285030245784847,0.2656927014665348,-0.3068950514033596,0.13240715579408738,0.8374575862869191,-1.3021623768791744,-1.819165996897542,-0.7589988455347925,-0.37555023383268366,0.17703412808151636,0.9212274812957582,2.235090436534782,0.22806047835346205,-0.15965213524816327,-1.8462801463145255,-0.5847352598471942,0.33665541167019086,0.7156454581545579,0.4518459352615333,0.3768602525240975,-1.0481059079241228,0.9391230146671161,-0.81760338429349,-1.8081487207564184,0.17743167887350544,1.039677816301545,-0.49954238815551105,-1.42924711355474,1.3219961035554446,-0.9393760389550331,0.3283685130185671,-0.23167200407406047,1.709823808775834,0.43803745965810165,0.8056695588712278,-0.8815625206777283,0.8010039094881437,0.7753082267979359,-0.6605696943285191,-0.40442949350905255,2.20673145237434,2.2480674660485405,2.60938032100713,0.543699479190823,0.1969871874266927,-0.15677733024887777,0.6339198380731179,1.4695236211918865,-0.46258878245316276,-1.417929581243472,-0.6428942336220342,-1.8015303901752648,-1.0836442298731181,0.7834492930937946,1.4690474511013203,-0.5667873756382681,-0.81138244564651,0.9312761917561393,0.8170173053211249,-0.2515329718182992,-0.7498444640254841,-1.051743373588905,0.004355898780761671,-0.14234496449937195,1.3343658157166423,1.1580565675560939,-0.6588853733842952,0.7278643918332525],\"type\":\"box\"},{\"boxpoints\":false,\"line\":{\"width\":1.3},\"marker\":{\"color\":\"rgba(128, 0, 128, 1.0)\"},\"name\":\"D\",\"orientation\":\"v\",\"y\":[-0.7745862644908448,0.5042041435436856,0.11653223204023365,-1.1959229444741741,-0.27292696862939264,0.9223229138279102,-0.0846199316096227,0.01953093084833903,0.6355269183584646,0.6666909985417896,0.6043012254606308,0.27396348046715746,-2.629516675257851,0.2797430559701173,0.4514205345986516,-0.7914312739174943,0.19240316995779333,1.4023278833167279,0.9432499771843861,1.100283579418994,-2.6576910228587836,1.220608012005847,0.4463762203629547,1.0628130916520049,-0.08333665257748994,-0.8198554339209732,0.08681325176953446,0.002710946088567911,-0.9134745712232382,-1.3781752896942985,-0.49077781599685016,0.7299785382485134,-0.374019643846917,0.43339476120969894,2.1120018359857964,-0.07222056301967658,-1.118430611101756,0.4993823157143268,0.7955688060257385,-0.3882653775714211,0.8007652045697838,-1.643699036934892,-1.9886441019258725,1.4829454813526062,-0.9416601411402572,0.15063360347531604,0.14947421761858792,-0.060953335646296604,0.35351471505754173,-0.08085370059267592,-1.0652731210957525,-1.4754535838547946,0.6744817451168268,-1.8282248056546728,0.23187428799008547,-1.4106370686259977,-0.11648195669724136,-0.5618073610721529,0.2428333967215472,0.5161467385849521,0.948845713709916,0.07121176051622159,-0.2594612478430401,0.5682260787378328,0.6442418035769039,0.16342408166701317,0.6225775683828786,-1.5409881668264611,-0.3367059484787146,0.3606308288750878,0.24475939866764343,1.6498950074974856,-1.1609072949372032,-1.240376311437029,-1.3595294482528577,-0.4989867375652803,-0.994521889530649,0.5238788685754128,-0.5126883562085743,1.638572633652777,1.1704216773919038,-0.3892984266145127,-1.9701693154051056,0.9541009998491473,-0.38294091155112997,-0.37783741567692064,0.007545114995654143,1.0102458239343455,-0.08041770515079398,-0.4099862221534074,-0.839011880668791,-0.8332599606848795,-1.058238678493066,-0.8706724320299088,-0.5342859606428391,-0.9274468507913998,0.8428645004405348,0.0021456148799246432,-0.7677208360543195,1.1517078376841599],\"type\":\"box\"}],                        {\"legend\":{\"bgcolor\":\"#F5F6F9\",\"font\":{\"color\":\"#4D5663\"}},\"paper_bgcolor\":\"#F5F6F9\",\"plot_bgcolor\":\"#F5F6F9\",\"template\":{\"data\":{\"barpolar\":[{\"marker\":{\"line\":{\"color\":\"#E5ECF6\",\"width\":0.5},\"pattern\":{\"fillmode\":\"overlay\",\"size\":10,\"solidity\":0.2}},\"type\":\"barpolar\"}],\"bar\":[{\"error_x\":{\"color\":\"#2a3f5f\"},\"error_y\":{\"color\":\"#2a3f5f\"},\"marker\":{\"line\":{\"color\":\"#E5ECF6\",\"width\":0.5},\"pattern\":{\"fillmode\":\"overlay\",\"size\":10,\"solidity\":0.2}},\"type\":\"bar\"}],\"carpet\":[{\"aaxis\":{\"endlinecolor\":\"#2a3f5f\",\"gridcolor\":\"white\",\"linecolor\":\"white\",\"minorgridcolor\":\"white\",\"startlinecolor\":\"#2a3f5f\"},\"baxis\":{\"endlinecolor\":\"#2a3f5f\",\"gridcolor\":\"white\",\"linecolor\":\"white\",\"minorgridcolor\":\"white\",\"startlinecolor\":\"#2a3f5f\"},\"type\":\"carpet\"}],\"choropleth\":[{\"colorbar\":{\"outlinewidth\":0,\"ticks\":\"\"},\"type\":\"choropleth\"}],\"contourcarpet\":[{\"colorbar\":{\"outlinewidth\":0,\"ticks\":\"\"},\"type\":\"contourcarpet\"}],\"contour\":[{\"colorbar\":{\"outlinewidth\":0,\"ticks\":\"\"},\"colorscale\":[[0.0,\"#0d0887\"],[0.1111111111111111,\"#46039f\"],[0.2222222222222222,\"#7201a8\"],[0.3333333333333333,\"#9c179e\"],[0.4444444444444444,\"#bd3786\"],[0.5555555555555556,\"#d8576b\"],[0.6666666666666666,\"#ed7953\"],[0.7777777777777778,\"#fb9f3a\"],[0.8888888888888888,\"#fdca26\"],[1.0,\"#f0f921\"]],\"type\":\"contour\"}],\"heatmapgl\":[{\"colorbar\":{\"outlinewidth\":0,\"ticks\":\"\"},\"colorscale\":[[0.0,\"#0d0887\"],[0.1111111111111111,\"#46039f\"],[0.2222222222222222,\"#7201a8\"],[0.3333333333333333,\"#9c179e\"],[0.4444444444444444,\"#bd3786\"],[0.5555555555555556,\"#d8576b\"],[0.6666666666666666,\"#ed7953\"],[0.7777777777777778,\"#fb9f3a\"],[0.8888888888888888,\"#fdca26\"],[1.0,\"#f0f921\"]],\"type\":\"heatmapgl\"}],\"heatmap\":[{\"colorbar\":{\"outlinewidth\":0,\"ticks\":\"\"},\"colorscale\":[[0.0,\"#0d0887\"],[0.1111111111111111,\"#46039f\"],[0.2222222222222222,\"#7201a8\"],[0.3333333333333333,\"#9c179e\"],[0.4444444444444444,\"#bd3786\"],[0.5555555555555556,\"#d8576b\"],[0.6666666666666666,\"#ed7953\"],[0.7777777777777778,\"#fb9f3a\"],[0.8888888888888888,\"#fdca26\"],[1.0,\"#f0f921\"]],\"type\":\"heatmap\"}],\"histogram2dcontour\":[{\"colorbar\":{\"outlinewidth\":0,\"ticks\":\"\"},\"colorscale\":[[0.0,\"#0d0887\"],[0.1111111111111111,\"#46039f\"],[0.2222222222222222,\"#7201a8\"],[0.3333333333333333,\"#9c179e\"],[0.4444444444444444,\"#bd3786\"],[0.5555555555555556,\"#d8576b\"],[0.6666666666666666,\"#ed7953\"],[0.7777777777777778,\"#fb9f3a\"],[0.8888888888888888,\"#fdca26\"],[1.0,\"#f0f921\"]],\"type\":\"histogram2dcontour\"}],\"histogram2d\":[{\"colorbar\":{\"outlinewidth\":0,\"ticks\":\"\"},\"colorscale\":[[0.0,\"#0d0887\"],[0.1111111111111111,\"#46039f\"],[0.2222222222222222,\"#7201a8\"],[0.3333333333333333,\"#9c179e\"],[0.4444444444444444,\"#bd3786\"],[0.5555555555555556,\"#d8576b\"],[0.6666666666666666,\"#ed7953\"],[0.7777777777777778,\"#fb9f3a\"],[0.8888888888888888,\"#fdca26\"],[1.0,\"#f0f921\"]],\"type\":\"histogram2d\"}],\"histogram\":[{\"marker\":{\"pattern\":{\"fillmode\":\"overlay\",\"size\":10,\"solidity\":0.2}},\"type\":\"histogram\"}],\"mesh3d\":[{\"colorbar\":{\"outlinewidth\":0,\"ticks\":\"\"},\"type\":\"mesh3d\"}],\"parcoords\":[{\"line\":{\"colorbar\":{\"outlinewidth\":0,\"ticks\":\"\"}},\"type\":\"parcoords\"}],\"pie\":[{\"automargin\":true,\"type\":\"pie\"}],\"scatter3d\":[{\"line\":{\"colorbar\":{\"outlinewidth\":0,\"ticks\":\"\"}},\"marker\":{\"colorbar\":{\"outlinewidth\":0,\"ticks\":\"\"}},\"type\":\"scatter3d\"}],\"scattercarpet\":[{\"marker\":{\"colorbar\":{\"outlinewidth\":0,\"ticks\":\"\"}},\"type\":\"scattercarpet\"}],\"scattergeo\":[{\"marker\":{\"colorbar\":{\"outlinewidth\":0,\"ticks\":\"\"}},\"type\":\"scattergeo\"}],\"scattergl\":[{\"marker\":{\"colorbar\":{\"outlinewidth\":0,\"ticks\":\"\"}},\"type\":\"scattergl\"}],\"scattermapbox\":[{\"marker\":{\"colorbar\":{\"outlinewidth\":0,\"ticks\":\"\"}},\"type\":\"scattermapbox\"}],\"scatterpolargl\":[{\"marker\":{\"colorbar\":{\"outlinewidth\":0,\"ticks\":\"\"}},\"type\":\"scatterpolargl\"}],\"scatterpolar\":[{\"marker\":{\"colorbar\":{\"outlinewidth\":0,\"ticks\":\"\"}},\"type\":\"scatterpolar\"}],\"scatter\":[{\"marker\":{\"colorbar\":{\"outlinewidth\":0,\"ticks\":\"\"}},\"type\":\"scatter\"}],\"scatterternary\":[{\"marker\":{\"colorbar\":{\"outlinewidth\":0,\"ticks\":\"\"}},\"type\":\"scatterternary\"}],\"surface\":[{\"colorbar\":{\"outlinewidth\":0,\"ticks\":\"\"},\"colorscale\":[[0.0,\"#0d0887\"],[0.1111111111111111,\"#46039f\"],[0.2222222222222222,\"#7201a8\"],[0.3333333333333333,\"#9c179e\"],[0.4444444444444444,\"#bd3786\"],[0.5555555555555556,\"#d8576b\"],[0.6666666666666666,\"#ed7953\"],[0.7777777777777778,\"#fb9f3a\"],[0.8888888888888888,\"#fdca26\"],[1.0,\"#f0f921\"]],\"type\":\"surface\"}],\"table\":[{\"cells\":{\"fill\":{\"color\":\"#EBF0F8\"},\"line\":{\"color\":\"white\"}},\"header\":{\"fill\":{\"color\":\"#C8D4E3\"},\"line\":{\"color\":\"white\"}},\"type\":\"table\"}]},\"layout\":{\"annotationdefaults\":{\"arrowcolor\":\"#2a3f5f\",\"arrowhead\":0,\"arrowwidth\":1},\"autotypenumbers\":\"strict\",\"coloraxis\":{\"colorbar\":{\"outlinewidth\":0,\"ticks\":\"\"}},\"colorscale\":{\"diverging\":[[0,\"#8e0152\"],[0.1,\"#c51b7d\"],[0.2,\"#de77ae\"],[0.3,\"#f1b6da\"],[0.4,\"#fde0ef\"],[0.5,\"#f7f7f7\"],[0.6,\"#e6f5d0\"],[0.7,\"#b8e186\"],[0.8,\"#7fbc41\"],[0.9,\"#4d9221\"],[1,\"#276419\"]],\"sequential\":[[0.0,\"#0d0887\"],[0.1111111111111111,\"#46039f\"],[0.2222222222222222,\"#7201a8\"],[0.3333333333333333,\"#9c179e\"],[0.4444444444444444,\"#bd3786\"],[0.5555555555555556,\"#d8576b\"],[0.6666666666666666,\"#ed7953\"],[0.7777777777777778,\"#fb9f3a\"],[0.8888888888888888,\"#fdca26\"],[1.0,\"#f0f921\"]],\"sequentialminus\":[[0.0,\"#0d0887\"],[0.1111111111111111,\"#46039f\"],[0.2222222222222222,\"#7201a8\"],[0.3333333333333333,\"#9c179e\"],[0.4444444444444444,\"#bd3786\"],[0.5555555555555556,\"#d8576b\"],[0.6666666666666666,\"#ed7953\"],[0.7777777777777778,\"#fb9f3a\"],[0.8888888888888888,\"#fdca26\"],[1.0,\"#f0f921\"]]},\"colorway\":[\"#636efa\",\"#EF553B\",\"#00cc96\",\"#ab63fa\",\"#FFA15A\",\"#19d3f3\",\"#FF6692\",\"#B6E880\",\"#FF97FF\",\"#FECB52\"],\"font\":{\"color\":\"#2a3f5f\"},\"geo\":{\"bgcolor\":\"white\",\"lakecolor\":\"white\",\"landcolor\":\"#E5ECF6\",\"showlakes\":true,\"showland\":true,\"subunitcolor\":\"white\"},\"hoverlabel\":{\"align\":\"left\"},\"hovermode\":\"closest\",\"mapbox\":{\"style\":\"light\"},\"paper_bgcolor\":\"white\",\"plot_bgcolor\":\"#E5ECF6\",\"polar\":{\"angularaxis\":{\"gridcolor\":\"white\",\"linecolor\":\"white\",\"ticks\":\"\"},\"bgcolor\":\"#E5ECF6\",\"radialaxis\":{\"gridcolor\":\"white\",\"linecolor\":\"white\",\"ticks\":\"\"}},\"scene\":{\"xaxis\":{\"backgroundcolor\":\"#E5ECF6\",\"gridcolor\":\"white\",\"gridwidth\":2,\"linecolor\":\"white\",\"showbackground\":true,\"ticks\":\"\",\"zerolinecolor\":\"white\"},\"yaxis\":{\"backgroundcolor\":\"#E5ECF6\",\"gridcolor\":\"white\",\"gridwidth\":2,\"linecolor\":\"white\",\"showbackground\":true,\"ticks\":\"\",\"zerolinecolor\":\"white\"},\"zaxis\":{\"backgroundcolor\":\"#E5ECF6\",\"gridcolor\":\"white\",\"gridwidth\":2,\"linecolor\":\"white\",\"showbackground\":true,\"ticks\":\"\",\"zerolinecolor\":\"white\"}},\"shapedefaults\":{\"line\":{\"color\":\"#2a3f5f\"}},\"ternary\":{\"aaxis\":{\"gridcolor\":\"white\",\"linecolor\":\"white\",\"ticks\":\"\"},\"baxis\":{\"gridcolor\":\"white\",\"linecolor\":\"white\",\"ticks\":\"\"},\"bgcolor\":\"#E5ECF6\",\"caxis\":{\"gridcolor\":\"white\",\"linecolor\":\"white\",\"ticks\":\"\"}},\"title\":{\"x\":0.05},\"xaxis\":{\"automargin\":true,\"gridcolor\":\"white\",\"linecolor\":\"white\",\"ticks\":\"\",\"title\":{\"standoff\":15},\"zerolinecolor\":\"white\",\"zerolinewidth\":2},\"yaxis\":{\"automargin\":true,\"gridcolor\":\"white\",\"linecolor\":\"white\",\"ticks\":\"\",\"title\":{\"standoff\":15},\"zerolinecolor\":\"white\",\"zerolinewidth\":2}}},\"title\":{\"font\":{\"color\":\"#4D5663\"}},\"xaxis\":{\"gridcolor\":\"#E1E5ED\",\"showgrid\":true,\"tickfont\":{\"color\":\"#4D5663\"},\"title\":{\"font\":{\"color\":\"#4D5663\"},\"text\":\"\"},\"zerolinecolor\":\"#E1E5ED\"},\"yaxis\":{\"gridcolor\":\"#E1E5ED\",\"showgrid\":true,\"tickfont\":{\"color\":\"#4D5663\"},\"title\":{\"font\":{\"color\":\"#4D5663\"},\"text\":\"\"},\"zerolinecolor\":\"#E1E5ED\"}},                        {\"showLink\": true, \"linkText\": \"Export to plot.ly\", \"plotlyServerURL\": \"https://plot.ly\", \"responsive\": true}                    ).then(function(){\n",
       "                            \n",
       "var gd = document.getElementById('70a6e0c0-1549-491e-93ed-5c3d4f58b5b8');\n",
       "var x = new MutationObserver(function (mutations, observer) {{\n",
       "        var display = window.getComputedStyle(gd).display;\n",
       "        if (!display || display === 'none') {{\n",
       "            console.log([gd, 'removed!']);\n",
       "            Plotly.purge(gd);\n",
       "            observer.disconnect();\n",
       "        }}\n",
       "}});\n",
       "\n",
       "// Listen for the removal of the full notebook cells\n",
       "var notebookContainer = gd.closest('#notebook-container');\n",
       "if (notebookContainer) {{\n",
       "    x.observe(notebookContainer, {childList: true});\n",
       "}}\n",
       "\n",
       "// Listen for the clearing of the current output cell\n",
       "var outputEl = gd.closest('.output');\n",
       "if (outputEl) {{\n",
       "    x.observe(outputEl, {childList: true});\n",
       "}}\n",
       "\n",
       "                        })                };                });            </script>        </div>"
      ]
     },
     "metadata": {},
     "output_type": "display_data"
    }
   ],
   "source": [
    "df.iplot(kind='box')"
   ]
  },
  {
   "cell_type": "code",
   "execution_count": 37,
   "id": "ea7f7198",
   "metadata": {},
   "outputs": [],
   "source": [
    "df3 = pd.DataFrame({'x':[1,2,3,4,5],'y':[10,20,30,40,50],'z':[5,4,3,2,1]})"
   ]
  },
  {
   "cell_type": "code",
   "execution_count": 38,
   "id": "4bf04f91",
   "metadata": {},
   "outputs": [
    {
     "data": {
      "application/vnd.plotly.v1+json": {
       "config": {
        "linkText": "Export to plot.ly",
        "plotlyServerURL": "https://plot.ly",
        "showLink": true
       },
       "data": [
        {
         "colorscale": [
          [
           0,
           "rgb(255, 153, 51)"
          ],
          [
           0.1111111111111111,
           "rgb(55, 128, 191)"
          ],
          [
           0.2222222222222222,
           "rgb(50, 171, 96)"
          ],
          [
           0.3333333333333333,
           "rgb(128, 0, 128)"
          ],
          [
           0.4444444444444444,
           "rgb(219, 64, 82)"
          ],
          [
           0.5555555555555556,
           "rgb(0, 128, 128)"
          ],
          [
           0.6666666666666666,
           "rgb(255, 255, 51)"
          ],
          [
           0.7777777777777778,
           "rgb(128, 128, 0)"
          ],
          [
           0.8888888888888888,
           "rgb(251, 128, 114)"
          ],
          [
           1,
           "rgb(128, 177, 211)"
          ]
         ],
         "type": "surface",
         "x": [
          0,
          1,
          2,
          3,
          4
         ],
         "y": [
          "x",
          "y",
          "z"
         ],
         "z": [
          [
           1,
           2,
           3,
           4,
           5
          ],
          [
           10,
           20,
           30,
           40,
           50
          ],
          [
           5,
           4,
           3,
           2,
           1
          ]
         ]
        }
       ],
       "layout": {
        "legend": {
         "bgcolor": "#F5F6F9",
         "font": {
          "color": "#4D5663"
         }
        },
        "paper_bgcolor": "#F5F6F9",
        "plot_bgcolor": "#F5F6F9",
        "template": {
         "data": {
          "bar": [
           {
            "error_x": {
             "color": "#2a3f5f"
            },
            "error_y": {
             "color": "#2a3f5f"
            },
            "marker": {
             "line": {
              "color": "#E5ECF6",
              "width": 0.5
             },
             "pattern": {
              "fillmode": "overlay",
              "size": 10,
              "solidity": 0.2
             }
            },
            "type": "bar"
           }
          ],
          "barpolar": [
           {
            "marker": {
             "line": {
              "color": "#E5ECF6",
              "width": 0.5
             },
             "pattern": {
              "fillmode": "overlay",
              "size": 10,
              "solidity": 0.2
             }
            },
            "type": "barpolar"
           }
          ],
          "carpet": [
           {
            "aaxis": {
             "endlinecolor": "#2a3f5f",
             "gridcolor": "white",
             "linecolor": "white",
             "minorgridcolor": "white",
             "startlinecolor": "#2a3f5f"
            },
            "baxis": {
             "endlinecolor": "#2a3f5f",
             "gridcolor": "white",
             "linecolor": "white",
             "minorgridcolor": "white",
             "startlinecolor": "#2a3f5f"
            },
            "type": "carpet"
           }
          ],
          "choropleth": [
           {
            "colorbar": {
             "outlinewidth": 0,
             "ticks": ""
            },
            "type": "choropleth"
           }
          ],
          "contour": [
           {
            "colorbar": {
             "outlinewidth": 0,
             "ticks": ""
            },
            "colorscale": [
             [
              0,
              "#0d0887"
             ],
             [
              0.1111111111111111,
              "#46039f"
             ],
             [
              0.2222222222222222,
              "#7201a8"
             ],
             [
              0.3333333333333333,
              "#9c179e"
             ],
             [
              0.4444444444444444,
              "#bd3786"
             ],
             [
              0.5555555555555556,
              "#d8576b"
             ],
             [
              0.6666666666666666,
              "#ed7953"
             ],
             [
              0.7777777777777778,
              "#fb9f3a"
             ],
             [
              0.8888888888888888,
              "#fdca26"
             ],
             [
              1,
              "#f0f921"
             ]
            ],
            "type": "contour"
           }
          ],
          "contourcarpet": [
           {
            "colorbar": {
             "outlinewidth": 0,
             "ticks": ""
            },
            "type": "contourcarpet"
           }
          ],
          "heatmap": [
           {
            "colorbar": {
             "outlinewidth": 0,
             "ticks": ""
            },
            "colorscale": [
             [
              0,
              "#0d0887"
             ],
             [
              0.1111111111111111,
              "#46039f"
             ],
             [
              0.2222222222222222,
              "#7201a8"
             ],
             [
              0.3333333333333333,
              "#9c179e"
             ],
             [
              0.4444444444444444,
              "#bd3786"
             ],
             [
              0.5555555555555556,
              "#d8576b"
             ],
             [
              0.6666666666666666,
              "#ed7953"
             ],
             [
              0.7777777777777778,
              "#fb9f3a"
             ],
             [
              0.8888888888888888,
              "#fdca26"
             ],
             [
              1,
              "#f0f921"
             ]
            ],
            "type": "heatmap"
           }
          ],
          "heatmapgl": [
           {
            "colorbar": {
             "outlinewidth": 0,
             "ticks": ""
            },
            "colorscale": [
             [
              0,
              "#0d0887"
             ],
             [
              0.1111111111111111,
              "#46039f"
             ],
             [
              0.2222222222222222,
              "#7201a8"
             ],
             [
              0.3333333333333333,
              "#9c179e"
             ],
             [
              0.4444444444444444,
              "#bd3786"
             ],
             [
              0.5555555555555556,
              "#d8576b"
             ],
             [
              0.6666666666666666,
              "#ed7953"
             ],
             [
              0.7777777777777778,
              "#fb9f3a"
             ],
             [
              0.8888888888888888,
              "#fdca26"
             ],
             [
              1,
              "#f0f921"
             ]
            ],
            "type": "heatmapgl"
           }
          ],
          "histogram": [
           {
            "marker": {
             "pattern": {
              "fillmode": "overlay",
              "size": 10,
              "solidity": 0.2
             }
            },
            "type": "histogram"
           }
          ],
          "histogram2d": [
           {
            "colorbar": {
             "outlinewidth": 0,
             "ticks": ""
            },
            "colorscale": [
             [
              0,
              "#0d0887"
             ],
             [
              0.1111111111111111,
              "#46039f"
             ],
             [
              0.2222222222222222,
              "#7201a8"
             ],
             [
              0.3333333333333333,
              "#9c179e"
             ],
             [
              0.4444444444444444,
              "#bd3786"
             ],
             [
              0.5555555555555556,
              "#d8576b"
             ],
             [
              0.6666666666666666,
              "#ed7953"
             ],
             [
              0.7777777777777778,
              "#fb9f3a"
             ],
             [
              0.8888888888888888,
              "#fdca26"
             ],
             [
              1,
              "#f0f921"
             ]
            ],
            "type": "histogram2d"
           }
          ],
          "histogram2dcontour": [
           {
            "colorbar": {
             "outlinewidth": 0,
             "ticks": ""
            },
            "colorscale": [
             [
              0,
              "#0d0887"
             ],
             [
              0.1111111111111111,
              "#46039f"
             ],
             [
              0.2222222222222222,
              "#7201a8"
             ],
             [
              0.3333333333333333,
              "#9c179e"
             ],
             [
              0.4444444444444444,
              "#bd3786"
             ],
             [
              0.5555555555555556,
              "#d8576b"
             ],
             [
              0.6666666666666666,
              "#ed7953"
             ],
             [
              0.7777777777777778,
              "#fb9f3a"
             ],
             [
              0.8888888888888888,
              "#fdca26"
             ],
             [
              1,
              "#f0f921"
             ]
            ],
            "type": "histogram2dcontour"
           }
          ],
          "mesh3d": [
           {
            "colorbar": {
             "outlinewidth": 0,
             "ticks": ""
            },
            "type": "mesh3d"
           }
          ],
          "parcoords": [
           {
            "line": {
             "colorbar": {
              "outlinewidth": 0,
              "ticks": ""
             }
            },
            "type": "parcoords"
           }
          ],
          "pie": [
           {
            "automargin": true,
            "type": "pie"
           }
          ],
          "scatter": [
           {
            "marker": {
             "colorbar": {
              "outlinewidth": 0,
              "ticks": ""
             }
            },
            "type": "scatter"
           }
          ],
          "scatter3d": [
           {
            "line": {
             "colorbar": {
              "outlinewidth": 0,
              "ticks": ""
             }
            },
            "marker": {
             "colorbar": {
              "outlinewidth": 0,
              "ticks": ""
             }
            },
            "type": "scatter3d"
           }
          ],
          "scattercarpet": [
           {
            "marker": {
             "colorbar": {
              "outlinewidth": 0,
              "ticks": ""
             }
            },
            "type": "scattercarpet"
           }
          ],
          "scattergeo": [
           {
            "marker": {
             "colorbar": {
              "outlinewidth": 0,
              "ticks": ""
             }
            },
            "type": "scattergeo"
           }
          ],
          "scattergl": [
           {
            "marker": {
             "colorbar": {
              "outlinewidth": 0,
              "ticks": ""
             }
            },
            "type": "scattergl"
           }
          ],
          "scattermapbox": [
           {
            "marker": {
             "colorbar": {
              "outlinewidth": 0,
              "ticks": ""
             }
            },
            "type": "scattermapbox"
           }
          ],
          "scatterpolar": [
           {
            "marker": {
             "colorbar": {
              "outlinewidth": 0,
              "ticks": ""
             }
            },
            "type": "scatterpolar"
           }
          ],
          "scatterpolargl": [
           {
            "marker": {
             "colorbar": {
              "outlinewidth": 0,
              "ticks": ""
             }
            },
            "type": "scatterpolargl"
           }
          ],
          "scatterternary": [
           {
            "marker": {
             "colorbar": {
              "outlinewidth": 0,
              "ticks": ""
             }
            },
            "type": "scatterternary"
           }
          ],
          "surface": [
           {
            "colorbar": {
             "outlinewidth": 0,
             "ticks": ""
            },
            "colorscale": [
             [
              0,
              "#0d0887"
             ],
             [
              0.1111111111111111,
              "#46039f"
             ],
             [
              0.2222222222222222,
              "#7201a8"
             ],
             [
              0.3333333333333333,
              "#9c179e"
             ],
             [
              0.4444444444444444,
              "#bd3786"
             ],
             [
              0.5555555555555556,
              "#d8576b"
             ],
             [
              0.6666666666666666,
              "#ed7953"
             ],
             [
              0.7777777777777778,
              "#fb9f3a"
             ],
             [
              0.8888888888888888,
              "#fdca26"
             ],
             [
              1,
              "#f0f921"
             ]
            ],
            "type": "surface"
           }
          ],
          "table": [
           {
            "cells": {
             "fill": {
              "color": "#EBF0F8"
             },
             "line": {
              "color": "white"
             }
            },
            "header": {
             "fill": {
              "color": "#C8D4E3"
             },
             "line": {
              "color": "white"
             }
            },
            "type": "table"
           }
          ]
         },
         "layout": {
          "annotationdefaults": {
           "arrowcolor": "#2a3f5f",
           "arrowhead": 0,
           "arrowwidth": 1
          },
          "autotypenumbers": "strict",
          "coloraxis": {
           "colorbar": {
            "outlinewidth": 0,
            "ticks": ""
           }
          },
          "colorscale": {
           "diverging": [
            [
             0,
             "#8e0152"
            ],
            [
             0.1,
             "#c51b7d"
            ],
            [
             0.2,
             "#de77ae"
            ],
            [
             0.3,
             "#f1b6da"
            ],
            [
             0.4,
             "#fde0ef"
            ],
            [
             0.5,
             "#f7f7f7"
            ],
            [
             0.6,
             "#e6f5d0"
            ],
            [
             0.7,
             "#b8e186"
            ],
            [
             0.8,
             "#7fbc41"
            ],
            [
             0.9,
             "#4d9221"
            ],
            [
             1,
             "#276419"
            ]
           ],
           "sequential": [
            [
             0,
             "#0d0887"
            ],
            [
             0.1111111111111111,
             "#46039f"
            ],
            [
             0.2222222222222222,
             "#7201a8"
            ],
            [
             0.3333333333333333,
             "#9c179e"
            ],
            [
             0.4444444444444444,
             "#bd3786"
            ],
            [
             0.5555555555555556,
             "#d8576b"
            ],
            [
             0.6666666666666666,
             "#ed7953"
            ],
            [
             0.7777777777777778,
             "#fb9f3a"
            ],
            [
             0.8888888888888888,
             "#fdca26"
            ],
            [
             1,
             "#f0f921"
            ]
           ],
           "sequentialminus": [
            [
             0,
             "#0d0887"
            ],
            [
             0.1111111111111111,
             "#46039f"
            ],
            [
             0.2222222222222222,
             "#7201a8"
            ],
            [
             0.3333333333333333,
             "#9c179e"
            ],
            [
             0.4444444444444444,
             "#bd3786"
            ],
            [
             0.5555555555555556,
             "#d8576b"
            ],
            [
             0.6666666666666666,
             "#ed7953"
            ],
            [
             0.7777777777777778,
             "#fb9f3a"
            ],
            [
             0.8888888888888888,
             "#fdca26"
            ],
            [
             1,
             "#f0f921"
            ]
           ]
          },
          "colorway": [
           "#636efa",
           "#EF553B",
           "#00cc96",
           "#ab63fa",
           "#FFA15A",
           "#19d3f3",
           "#FF6692",
           "#B6E880",
           "#FF97FF",
           "#FECB52"
          ],
          "font": {
           "color": "#2a3f5f"
          },
          "geo": {
           "bgcolor": "white",
           "lakecolor": "white",
           "landcolor": "#E5ECF6",
           "showlakes": true,
           "showland": true,
           "subunitcolor": "white"
          },
          "hoverlabel": {
           "align": "left"
          },
          "hovermode": "closest",
          "mapbox": {
           "style": "light"
          },
          "paper_bgcolor": "white",
          "plot_bgcolor": "#E5ECF6",
          "polar": {
           "angularaxis": {
            "gridcolor": "white",
            "linecolor": "white",
            "ticks": ""
           },
           "bgcolor": "#E5ECF6",
           "radialaxis": {
            "gridcolor": "white",
            "linecolor": "white",
            "ticks": ""
           }
          },
          "scene": {
           "xaxis": {
            "backgroundcolor": "#E5ECF6",
            "gridcolor": "white",
            "gridwidth": 2,
            "linecolor": "white",
            "showbackground": true,
            "ticks": "",
            "zerolinecolor": "white"
           },
           "yaxis": {
            "backgroundcolor": "#E5ECF6",
            "gridcolor": "white",
            "gridwidth": 2,
            "linecolor": "white",
            "showbackground": true,
            "ticks": "",
            "zerolinecolor": "white"
           },
           "zaxis": {
            "backgroundcolor": "#E5ECF6",
            "gridcolor": "white",
            "gridwidth": 2,
            "linecolor": "white",
            "showbackground": true,
            "ticks": "",
            "zerolinecolor": "white"
           }
          },
          "shapedefaults": {
           "line": {
            "color": "#2a3f5f"
           }
          },
          "ternary": {
           "aaxis": {
            "gridcolor": "white",
            "linecolor": "white",
            "ticks": ""
           },
           "baxis": {
            "gridcolor": "white",
            "linecolor": "white",
            "ticks": ""
           },
           "bgcolor": "#E5ECF6",
           "caxis": {
            "gridcolor": "white",
            "linecolor": "white",
            "ticks": ""
           }
          },
          "title": {
           "x": 0.05
          },
          "xaxis": {
           "automargin": true,
           "gridcolor": "white",
           "linecolor": "white",
           "ticks": "",
           "title": {
            "standoff": 15
           },
           "zerolinecolor": "white",
           "zerolinewidth": 2
          },
          "yaxis": {
           "automargin": true,
           "gridcolor": "white",
           "linecolor": "white",
           "ticks": "",
           "title": {
            "standoff": 15
           },
           "zerolinecolor": "white",
           "zerolinewidth": 2
          }
         }
        },
        "title": {
         "font": {
          "color": "#4D5663"
         }
        },
        "xaxis": {
         "gridcolor": "#E1E5ED",
         "showgrid": true,
         "tickfont": {
          "color": "#4D5663"
         },
         "title": {
          "font": {
           "color": "#4D5663"
          },
          "text": ""
         },
         "zerolinecolor": "#E1E5ED"
        },
        "yaxis": {
         "gridcolor": "#E1E5ED",
         "showgrid": true,
         "tickfont": {
          "color": "#4D5663"
         },
         "title": {
          "font": {
           "color": "#4D5663"
          },
          "text": ""
         },
         "zerolinecolor": "#E1E5ED"
        }
       }
      },
      "text/html": [
       "<div>                            <div id=\"4351a063-5a10-43e5-b75b-050887045f3c\" class=\"plotly-graph-div\" style=\"height:525px; width:100%;\"></div>            <script type=\"text/javascript\">                require([\"plotly\"], function(Plotly) {                    window.PLOTLYENV=window.PLOTLYENV || {};\n",
       "                    window.PLOTLYENV.BASE_URL='https://plot.ly';                                    if (document.getElementById(\"4351a063-5a10-43e5-b75b-050887045f3c\")) {                    Plotly.newPlot(                        \"4351a063-5a10-43e5-b75b-050887045f3c\",                        [{\"colorscale\":[[0.0,\"rgb(255, 153, 51)\"],[0.1111111111111111,\"rgb(55, 128, 191)\"],[0.2222222222222222,\"rgb(50, 171, 96)\"],[0.3333333333333333,\"rgb(128, 0, 128)\"],[0.4444444444444444,\"rgb(219, 64, 82)\"],[0.5555555555555556,\"rgb(0, 128, 128)\"],[0.6666666666666666,\"rgb(255, 255, 51)\"],[0.7777777777777778,\"rgb(128, 128, 0)\"],[0.8888888888888888,\"rgb(251, 128, 114)\"],[1.0,\"rgb(128, 177, 211)\"]],\"x\":[0,1,2,3,4],\"y\":[\"x\",\"y\",\"z\"],\"z\":[[1,2,3,4,5],[10,20,30,40,50],[5,4,3,2,1]],\"type\":\"surface\"}],                        {\"legend\":{\"bgcolor\":\"#F5F6F9\",\"font\":{\"color\":\"#4D5663\"}},\"paper_bgcolor\":\"#F5F6F9\",\"plot_bgcolor\":\"#F5F6F9\",\"template\":{\"data\":{\"barpolar\":[{\"marker\":{\"line\":{\"color\":\"#E5ECF6\",\"width\":0.5},\"pattern\":{\"fillmode\":\"overlay\",\"size\":10,\"solidity\":0.2}},\"type\":\"barpolar\"}],\"bar\":[{\"error_x\":{\"color\":\"#2a3f5f\"},\"error_y\":{\"color\":\"#2a3f5f\"},\"marker\":{\"line\":{\"color\":\"#E5ECF6\",\"width\":0.5},\"pattern\":{\"fillmode\":\"overlay\",\"size\":10,\"solidity\":0.2}},\"type\":\"bar\"}],\"carpet\":[{\"aaxis\":{\"endlinecolor\":\"#2a3f5f\",\"gridcolor\":\"white\",\"linecolor\":\"white\",\"minorgridcolor\":\"white\",\"startlinecolor\":\"#2a3f5f\"},\"baxis\":{\"endlinecolor\":\"#2a3f5f\",\"gridcolor\":\"white\",\"linecolor\":\"white\",\"minorgridcolor\":\"white\",\"startlinecolor\":\"#2a3f5f\"},\"type\":\"carpet\"}],\"choropleth\":[{\"colorbar\":{\"outlinewidth\":0,\"ticks\":\"\"},\"type\":\"choropleth\"}],\"contourcarpet\":[{\"colorbar\":{\"outlinewidth\":0,\"ticks\":\"\"},\"type\":\"contourcarpet\"}],\"contour\":[{\"colorbar\":{\"outlinewidth\":0,\"ticks\":\"\"},\"colorscale\":[[0.0,\"#0d0887\"],[0.1111111111111111,\"#46039f\"],[0.2222222222222222,\"#7201a8\"],[0.3333333333333333,\"#9c179e\"],[0.4444444444444444,\"#bd3786\"],[0.5555555555555556,\"#d8576b\"],[0.6666666666666666,\"#ed7953\"],[0.7777777777777778,\"#fb9f3a\"],[0.8888888888888888,\"#fdca26\"],[1.0,\"#f0f921\"]],\"type\":\"contour\"}],\"heatmapgl\":[{\"colorbar\":{\"outlinewidth\":0,\"ticks\":\"\"},\"colorscale\":[[0.0,\"#0d0887\"],[0.1111111111111111,\"#46039f\"],[0.2222222222222222,\"#7201a8\"],[0.3333333333333333,\"#9c179e\"],[0.4444444444444444,\"#bd3786\"],[0.5555555555555556,\"#d8576b\"],[0.6666666666666666,\"#ed7953\"],[0.7777777777777778,\"#fb9f3a\"],[0.8888888888888888,\"#fdca26\"],[1.0,\"#f0f921\"]],\"type\":\"heatmapgl\"}],\"heatmap\":[{\"colorbar\":{\"outlinewidth\":0,\"ticks\":\"\"},\"colorscale\":[[0.0,\"#0d0887\"],[0.1111111111111111,\"#46039f\"],[0.2222222222222222,\"#7201a8\"],[0.3333333333333333,\"#9c179e\"],[0.4444444444444444,\"#bd3786\"],[0.5555555555555556,\"#d8576b\"],[0.6666666666666666,\"#ed7953\"],[0.7777777777777778,\"#fb9f3a\"],[0.8888888888888888,\"#fdca26\"],[1.0,\"#f0f921\"]],\"type\":\"heatmap\"}],\"histogram2dcontour\":[{\"colorbar\":{\"outlinewidth\":0,\"ticks\":\"\"},\"colorscale\":[[0.0,\"#0d0887\"],[0.1111111111111111,\"#46039f\"],[0.2222222222222222,\"#7201a8\"],[0.3333333333333333,\"#9c179e\"],[0.4444444444444444,\"#bd3786\"],[0.5555555555555556,\"#d8576b\"],[0.6666666666666666,\"#ed7953\"],[0.7777777777777778,\"#fb9f3a\"],[0.8888888888888888,\"#fdca26\"],[1.0,\"#f0f921\"]],\"type\":\"histogram2dcontour\"}],\"histogram2d\":[{\"colorbar\":{\"outlinewidth\":0,\"ticks\":\"\"},\"colorscale\":[[0.0,\"#0d0887\"],[0.1111111111111111,\"#46039f\"],[0.2222222222222222,\"#7201a8\"],[0.3333333333333333,\"#9c179e\"],[0.4444444444444444,\"#bd3786\"],[0.5555555555555556,\"#d8576b\"],[0.6666666666666666,\"#ed7953\"],[0.7777777777777778,\"#fb9f3a\"],[0.8888888888888888,\"#fdca26\"],[1.0,\"#f0f921\"]],\"type\":\"histogram2d\"}],\"histogram\":[{\"marker\":{\"pattern\":{\"fillmode\":\"overlay\",\"size\":10,\"solidity\":0.2}},\"type\":\"histogram\"}],\"mesh3d\":[{\"colorbar\":{\"outlinewidth\":0,\"ticks\":\"\"},\"type\":\"mesh3d\"}],\"parcoords\":[{\"line\":{\"colorbar\":{\"outlinewidth\":0,\"ticks\":\"\"}},\"type\":\"parcoords\"}],\"pie\":[{\"automargin\":true,\"type\":\"pie\"}],\"scatter3d\":[{\"line\":{\"colorbar\":{\"outlinewidth\":0,\"ticks\":\"\"}},\"marker\":{\"colorbar\":{\"outlinewidth\":0,\"ticks\":\"\"}},\"type\":\"scatter3d\"}],\"scattercarpet\":[{\"marker\":{\"colorbar\":{\"outlinewidth\":0,\"ticks\":\"\"}},\"type\":\"scattercarpet\"}],\"scattergeo\":[{\"marker\":{\"colorbar\":{\"outlinewidth\":0,\"ticks\":\"\"}},\"type\":\"scattergeo\"}],\"scattergl\":[{\"marker\":{\"colorbar\":{\"outlinewidth\":0,\"ticks\":\"\"}},\"type\":\"scattergl\"}],\"scattermapbox\":[{\"marker\":{\"colorbar\":{\"outlinewidth\":0,\"ticks\":\"\"}},\"type\":\"scattermapbox\"}],\"scatterpolargl\":[{\"marker\":{\"colorbar\":{\"outlinewidth\":0,\"ticks\":\"\"}},\"type\":\"scatterpolargl\"}],\"scatterpolar\":[{\"marker\":{\"colorbar\":{\"outlinewidth\":0,\"ticks\":\"\"}},\"type\":\"scatterpolar\"}],\"scatter\":[{\"marker\":{\"colorbar\":{\"outlinewidth\":0,\"ticks\":\"\"}},\"type\":\"scatter\"}],\"scatterternary\":[{\"marker\":{\"colorbar\":{\"outlinewidth\":0,\"ticks\":\"\"}},\"type\":\"scatterternary\"}],\"surface\":[{\"colorbar\":{\"outlinewidth\":0,\"ticks\":\"\"},\"colorscale\":[[0.0,\"#0d0887\"],[0.1111111111111111,\"#46039f\"],[0.2222222222222222,\"#7201a8\"],[0.3333333333333333,\"#9c179e\"],[0.4444444444444444,\"#bd3786\"],[0.5555555555555556,\"#d8576b\"],[0.6666666666666666,\"#ed7953\"],[0.7777777777777778,\"#fb9f3a\"],[0.8888888888888888,\"#fdca26\"],[1.0,\"#f0f921\"]],\"type\":\"surface\"}],\"table\":[{\"cells\":{\"fill\":{\"color\":\"#EBF0F8\"},\"line\":{\"color\":\"white\"}},\"header\":{\"fill\":{\"color\":\"#C8D4E3\"},\"line\":{\"color\":\"white\"}},\"type\":\"table\"}]},\"layout\":{\"annotationdefaults\":{\"arrowcolor\":\"#2a3f5f\",\"arrowhead\":0,\"arrowwidth\":1},\"autotypenumbers\":\"strict\",\"coloraxis\":{\"colorbar\":{\"outlinewidth\":0,\"ticks\":\"\"}},\"colorscale\":{\"diverging\":[[0,\"#8e0152\"],[0.1,\"#c51b7d\"],[0.2,\"#de77ae\"],[0.3,\"#f1b6da\"],[0.4,\"#fde0ef\"],[0.5,\"#f7f7f7\"],[0.6,\"#e6f5d0\"],[0.7,\"#b8e186\"],[0.8,\"#7fbc41\"],[0.9,\"#4d9221\"],[1,\"#276419\"]],\"sequential\":[[0.0,\"#0d0887\"],[0.1111111111111111,\"#46039f\"],[0.2222222222222222,\"#7201a8\"],[0.3333333333333333,\"#9c179e\"],[0.4444444444444444,\"#bd3786\"],[0.5555555555555556,\"#d8576b\"],[0.6666666666666666,\"#ed7953\"],[0.7777777777777778,\"#fb9f3a\"],[0.8888888888888888,\"#fdca26\"],[1.0,\"#f0f921\"]],\"sequentialminus\":[[0.0,\"#0d0887\"],[0.1111111111111111,\"#46039f\"],[0.2222222222222222,\"#7201a8\"],[0.3333333333333333,\"#9c179e\"],[0.4444444444444444,\"#bd3786\"],[0.5555555555555556,\"#d8576b\"],[0.6666666666666666,\"#ed7953\"],[0.7777777777777778,\"#fb9f3a\"],[0.8888888888888888,\"#fdca26\"],[1.0,\"#f0f921\"]]},\"colorway\":[\"#636efa\",\"#EF553B\",\"#00cc96\",\"#ab63fa\",\"#FFA15A\",\"#19d3f3\",\"#FF6692\",\"#B6E880\",\"#FF97FF\",\"#FECB52\"],\"font\":{\"color\":\"#2a3f5f\"},\"geo\":{\"bgcolor\":\"white\",\"lakecolor\":\"white\",\"landcolor\":\"#E5ECF6\",\"showlakes\":true,\"showland\":true,\"subunitcolor\":\"white\"},\"hoverlabel\":{\"align\":\"left\"},\"hovermode\":\"closest\",\"mapbox\":{\"style\":\"light\"},\"paper_bgcolor\":\"white\",\"plot_bgcolor\":\"#E5ECF6\",\"polar\":{\"angularaxis\":{\"gridcolor\":\"white\",\"linecolor\":\"white\",\"ticks\":\"\"},\"bgcolor\":\"#E5ECF6\",\"radialaxis\":{\"gridcolor\":\"white\",\"linecolor\":\"white\",\"ticks\":\"\"}},\"scene\":{\"xaxis\":{\"backgroundcolor\":\"#E5ECF6\",\"gridcolor\":\"white\",\"gridwidth\":2,\"linecolor\":\"white\",\"showbackground\":true,\"ticks\":\"\",\"zerolinecolor\":\"white\"},\"yaxis\":{\"backgroundcolor\":\"#E5ECF6\",\"gridcolor\":\"white\",\"gridwidth\":2,\"linecolor\":\"white\",\"showbackground\":true,\"ticks\":\"\",\"zerolinecolor\":\"white\"},\"zaxis\":{\"backgroundcolor\":\"#E5ECF6\",\"gridcolor\":\"white\",\"gridwidth\":2,\"linecolor\":\"white\",\"showbackground\":true,\"ticks\":\"\",\"zerolinecolor\":\"white\"}},\"shapedefaults\":{\"line\":{\"color\":\"#2a3f5f\"}},\"ternary\":{\"aaxis\":{\"gridcolor\":\"white\",\"linecolor\":\"white\",\"ticks\":\"\"},\"baxis\":{\"gridcolor\":\"white\",\"linecolor\":\"white\",\"ticks\":\"\"},\"bgcolor\":\"#E5ECF6\",\"caxis\":{\"gridcolor\":\"white\",\"linecolor\":\"white\",\"ticks\":\"\"}},\"title\":{\"x\":0.05},\"xaxis\":{\"automargin\":true,\"gridcolor\":\"white\",\"linecolor\":\"white\",\"ticks\":\"\",\"title\":{\"standoff\":15},\"zerolinecolor\":\"white\",\"zerolinewidth\":2},\"yaxis\":{\"automargin\":true,\"gridcolor\":\"white\",\"linecolor\":\"white\",\"ticks\":\"\",\"title\":{\"standoff\":15},\"zerolinecolor\":\"white\",\"zerolinewidth\":2}}},\"title\":{\"font\":{\"color\":\"#4D5663\"}},\"xaxis\":{\"gridcolor\":\"#E1E5ED\",\"showgrid\":true,\"tickfont\":{\"color\":\"#4D5663\"},\"title\":{\"font\":{\"color\":\"#4D5663\"},\"text\":\"\"},\"zerolinecolor\":\"#E1E5ED\"},\"yaxis\":{\"gridcolor\":\"#E1E5ED\",\"showgrid\":true,\"tickfont\":{\"color\":\"#4D5663\"},\"title\":{\"font\":{\"color\":\"#4D5663\"},\"text\":\"\"},\"zerolinecolor\":\"#E1E5ED\"}},                        {\"showLink\": true, \"linkText\": \"Export to plot.ly\", \"plotlyServerURL\": \"https://plot.ly\", \"responsive\": true}                    ).then(function(){\n",
       "                            \n",
       "var gd = document.getElementById('4351a063-5a10-43e5-b75b-050887045f3c');\n",
       "var x = new MutationObserver(function (mutations, observer) {{\n",
       "        var display = window.getComputedStyle(gd).display;\n",
       "        if (!display || display === 'none') {{\n",
       "            console.log([gd, 'removed!']);\n",
       "            Plotly.purge(gd);\n",
       "            observer.disconnect();\n",
       "        }}\n",
       "}});\n",
       "\n",
       "// Listen for the removal of the full notebook cells\n",
       "var notebookContainer = gd.closest('#notebook-container');\n",
       "if (notebookContainer) {{\n",
       "    x.observe(notebookContainer, {childList: true});\n",
       "}}\n",
       "\n",
       "// Listen for the clearing of the current output cell\n",
       "var outputEl = gd.closest('.output');\n",
       "if (outputEl) {{\n",
       "    x.observe(outputEl, {childList: true});\n",
       "}}\n",
       "\n",
       "                        })                };                });            </script>        </div>"
      ]
     },
     "metadata": {},
     "output_type": "display_data"
    }
   ],
   "source": [
    "df3.iplot(kind='surface')"
   ]
  },
  {
   "cell_type": "code",
   "execution_count": 39,
   "id": "1b0e6080",
   "metadata": {},
   "outputs": [
    {
     "data": {
      "application/vnd.plotly.v1+json": {
       "config": {
        "linkText": "Export to plot.ly",
        "plotlyServerURL": "https://plot.ly",
        "showLink": true
       },
       "data": [
        {
         "colorscale": [
          [
           0,
           "rgb(165,0,38)"
          ],
          [
           0.1,
           "rgb(215,48,39)"
          ],
          [
           0.2,
           "rgb(244,109,67)"
          ],
          [
           0.3,
           "rgb(253,174,97)"
          ],
          [
           0.4,
           "rgb(254,224,144)"
          ],
          [
           0.5,
           "rgb(255,255,191)"
          ],
          [
           0.6,
           "rgb(224,243,248)"
          ],
          [
           0.7,
           "rgb(171,217,233)"
          ],
          [
           0.8,
           "rgb(116,173,209)"
          ],
          [
           0.9,
           "rgb(69,117,180)"
          ],
          [
           1,
           "rgb(49,54,149)"
          ]
         ],
         "type": "surface",
         "x": [
          0,
          1,
          2,
          3,
          4
         ],
         "y": [
          "x",
          "y",
          "z"
         ],
         "z": [
          [
           1,
           2,
           3,
           4,
           5
          ],
          [
           10,
           20,
           30,
           40,
           50
          ],
          [
           5,
           4,
           3,
           2,
           1
          ]
         ]
        }
       ],
       "layout": {
        "legend": {
         "bgcolor": "#F5F6F9",
         "font": {
          "color": "#4D5663"
         }
        },
        "paper_bgcolor": "#F5F6F9",
        "plot_bgcolor": "#F5F6F9",
        "template": {
         "data": {
          "bar": [
           {
            "error_x": {
             "color": "#2a3f5f"
            },
            "error_y": {
             "color": "#2a3f5f"
            },
            "marker": {
             "line": {
              "color": "#E5ECF6",
              "width": 0.5
             },
             "pattern": {
              "fillmode": "overlay",
              "size": 10,
              "solidity": 0.2
             }
            },
            "type": "bar"
           }
          ],
          "barpolar": [
           {
            "marker": {
             "line": {
              "color": "#E5ECF6",
              "width": 0.5
             },
             "pattern": {
              "fillmode": "overlay",
              "size": 10,
              "solidity": 0.2
             }
            },
            "type": "barpolar"
           }
          ],
          "carpet": [
           {
            "aaxis": {
             "endlinecolor": "#2a3f5f",
             "gridcolor": "white",
             "linecolor": "white",
             "minorgridcolor": "white",
             "startlinecolor": "#2a3f5f"
            },
            "baxis": {
             "endlinecolor": "#2a3f5f",
             "gridcolor": "white",
             "linecolor": "white",
             "minorgridcolor": "white",
             "startlinecolor": "#2a3f5f"
            },
            "type": "carpet"
           }
          ],
          "choropleth": [
           {
            "colorbar": {
             "outlinewidth": 0,
             "ticks": ""
            },
            "type": "choropleth"
           }
          ],
          "contour": [
           {
            "colorbar": {
             "outlinewidth": 0,
             "ticks": ""
            },
            "colorscale": [
             [
              0,
              "#0d0887"
             ],
             [
              0.1111111111111111,
              "#46039f"
             ],
             [
              0.2222222222222222,
              "#7201a8"
             ],
             [
              0.3333333333333333,
              "#9c179e"
             ],
             [
              0.4444444444444444,
              "#bd3786"
             ],
             [
              0.5555555555555556,
              "#d8576b"
             ],
             [
              0.6666666666666666,
              "#ed7953"
             ],
             [
              0.7777777777777778,
              "#fb9f3a"
             ],
             [
              0.8888888888888888,
              "#fdca26"
             ],
             [
              1,
              "#f0f921"
             ]
            ],
            "type": "contour"
           }
          ],
          "contourcarpet": [
           {
            "colorbar": {
             "outlinewidth": 0,
             "ticks": ""
            },
            "type": "contourcarpet"
           }
          ],
          "heatmap": [
           {
            "colorbar": {
             "outlinewidth": 0,
             "ticks": ""
            },
            "colorscale": [
             [
              0,
              "#0d0887"
             ],
             [
              0.1111111111111111,
              "#46039f"
             ],
             [
              0.2222222222222222,
              "#7201a8"
             ],
             [
              0.3333333333333333,
              "#9c179e"
             ],
             [
              0.4444444444444444,
              "#bd3786"
             ],
             [
              0.5555555555555556,
              "#d8576b"
             ],
             [
              0.6666666666666666,
              "#ed7953"
             ],
             [
              0.7777777777777778,
              "#fb9f3a"
             ],
             [
              0.8888888888888888,
              "#fdca26"
             ],
             [
              1,
              "#f0f921"
             ]
            ],
            "type": "heatmap"
           }
          ],
          "heatmapgl": [
           {
            "colorbar": {
             "outlinewidth": 0,
             "ticks": ""
            },
            "colorscale": [
             [
              0,
              "#0d0887"
             ],
             [
              0.1111111111111111,
              "#46039f"
             ],
             [
              0.2222222222222222,
              "#7201a8"
             ],
             [
              0.3333333333333333,
              "#9c179e"
             ],
             [
              0.4444444444444444,
              "#bd3786"
             ],
             [
              0.5555555555555556,
              "#d8576b"
             ],
             [
              0.6666666666666666,
              "#ed7953"
             ],
             [
              0.7777777777777778,
              "#fb9f3a"
             ],
             [
              0.8888888888888888,
              "#fdca26"
             ],
             [
              1,
              "#f0f921"
             ]
            ],
            "type": "heatmapgl"
           }
          ],
          "histogram": [
           {
            "marker": {
             "pattern": {
              "fillmode": "overlay",
              "size": 10,
              "solidity": 0.2
             }
            },
            "type": "histogram"
           }
          ],
          "histogram2d": [
           {
            "colorbar": {
             "outlinewidth": 0,
             "ticks": ""
            },
            "colorscale": [
             [
              0,
              "#0d0887"
             ],
             [
              0.1111111111111111,
              "#46039f"
             ],
             [
              0.2222222222222222,
              "#7201a8"
             ],
             [
              0.3333333333333333,
              "#9c179e"
             ],
             [
              0.4444444444444444,
              "#bd3786"
             ],
             [
              0.5555555555555556,
              "#d8576b"
             ],
             [
              0.6666666666666666,
              "#ed7953"
             ],
             [
              0.7777777777777778,
              "#fb9f3a"
             ],
             [
              0.8888888888888888,
              "#fdca26"
             ],
             [
              1,
              "#f0f921"
             ]
            ],
            "type": "histogram2d"
           }
          ],
          "histogram2dcontour": [
           {
            "colorbar": {
             "outlinewidth": 0,
             "ticks": ""
            },
            "colorscale": [
             [
              0,
              "#0d0887"
             ],
             [
              0.1111111111111111,
              "#46039f"
             ],
             [
              0.2222222222222222,
              "#7201a8"
             ],
             [
              0.3333333333333333,
              "#9c179e"
             ],
             [
              0.4444444444444444,
              "#bd3786"
             ],
             [
              0.5555555555555556,
              "#d8576b"
             ],
             [
              0.6666666666666666,
              "#ed7953"
             ],
             [
              0.7777777777777778,
              "#fb9f3a"
             ],
             [
              0.8888888888888888,
              "#fdca26"
             ],
             [
              1,
              "#f0f921"
             ]
            ],
            "type": "histogram2dcontour"
           }
          ],
          "mesh3d": [
           {
            "colorbar": {
             "outlinewidth": 0,
             "ticks": ""
            },
            "type": "mesh3d"
           }
          ],
          "parcoords": [
           {
            "line": {
             "colorbar": {
              "outlinewidth": 0,
              "ticks": ""
             }
            },
            "type": "parcoords"
           }
          ],
          "pie": [
           {
            "automargin": true,
            "type": "pie"
           }
          ],
          "scatter": [
           {
            "marker": {
             "colorbar": {
              "outlinewidth": 0,
              "ticks": ""
             }
            },
            "type": "scatter"
           }
          ],
          "scatter3d": [
           {
            "line": {
             "colorbar": {
              "outlinewidth": 0,
              "ticks": ""
             }
            },
            "marker": {
             "colorbar": {
              "outlinewidth": 0,
              "ticks": ""
             }
            },
            "type": "scatter3d"
           }
          ],
          "scattercarpet": [
           {
            "marker": {
             "colorbar": {
              "outlinewidth": 0,
              "ticks": ""
             }
            },
            "type": "scattercarpet"
           }
          ],
          "scattergeo": [
           {
            "marker": {
             "colorbar": {
              "outlinewidth": 0,
              "ticks": ""
             }
            },
            "type": "scattergeo"
           }
          ],
          "scattergl": [
           {
            "marker": {
             "colorbar": {
              "outlinewidth": 0,
              "ticks": ""
             }
            },
            "type": "scattergl"
           }
          ],
          "scattermapbox": [
           {
            "marker": {
             "colorbar": {
              "outlinewidth": 0,
              "ticks": ""
             }
            },
            "type": "scattermapbox"
           }
          ],
          "scatterpolar": [
           {
            "marker": {
             "colorbar": {
              "outlinewidth": 0,
              "ticks": ""
             }
            },
            "type": "scatterpolar"
           }
          ],
          "scatterpolargl": [
           {
            "marker": {
             "colorbar": {
              "outlinewidth": 0,
              "ticks": ""
             }
            },
            "type": "scatterpolargl"
           }
          ],
          "scatterternary": [
           {
            "marker": {
             "colorbar": {
              "outlinewidth": 0,
              "ticks": ""
             }
            },
            "type": "scatterternary"
           }
          ],
          "surface": [
           {
            "colorbar": {
             "outlinewidth": 0,
             "ticks": ""
            },
            "colorscale": [
             [
              0,
              "#0d0887"
             ],
             [
              0.1111111111111111,
              "#46039f"
             ],
             [
              0.2222222222222222,
              "#7201a8"
             ],
             [
              0.3333333333333333,
              "#9c179e"
             ],
             [
              0.4444444444444444,
              "#bd3786"
             ],
             [
              0.5555555555555556,
              "#d8576b"
             ],
             [
              0.6666666666666666,
              "#ed7953"
             ],
             [
              0.7777777777777778,
              "#fb9f3a"
             ],
             [
              0.8888888888888888,
              "#fdca26"
             ],
             [
              1,
              "#f0f921"
             ]
            ],
            "type": "surface"
           }
          ],
          "table": [
           {
            "cells": {
             "fill": {
              "color": "#EBF0F8"
             },
             "line": {
              "color": "white"
             }
            },
            "header": {
             "fill": {
              "color": "#C8D4E3"
             },
             "line": {
              "color": "white"
             }
            },
            "type": "table"
           }
          ]
         },
         "layout": {
          "annotationdefaults": {
           "arrowcolor": "#2a3f5f",
           "arrowhead": 0,
           "arrowwidth": 1
          },
          "autotypenumbers": "strict",
          "coloraxis": {
           "colorbar": {
            "outlinewidth": 0,
            "ticks": ""
           }
          },
          "colorscale": {
           "diverging": [
            [
             0,
             "#8e0152"
            ],
            [
             0.1,
             "#c51b7d"
            ],
            [
             0.2,
             "#de77ae"
            ],
            [
             0.3,
             "#f1b6da"
            ],
            [
             0.4,
             "#fde0ef"
            ],
            [
             0.5,
             "#f7f7f7"
            ],
            [
             0.6,
             "#e6f5d0"
            ],
            [
             0.7,
             "#b8e186"
            ],
            [
             0.8,
             "#7fbc41"
            ],
            [
             0.9,
             "#4d9221"
            ],
            [
             1,
             "#276419"
            ]
           ],
           "sequential": [
            [
             0,
             "#0d0887"
            ],
            [
             0.1111111111111111,
             "#46039f"
            ],
            [
             0.2222222222222222,
             "#7201a8"
            ],
            [
             0.3333333333333333,
             "#9c179e"
            ],
            [
             0.4444444444444444,
             "#bd3786"
            ],
            [
             0.5555555555555556,
             "#d8576b"
            ],
            [
             0.6666666666666666,
             "#ed7953"
            ],
            [
             0.7777777777777778,
             "#fb9f3a"
            ],
            [
             0.8888888888888888,
             "#fdca26"
            ],
            [
             1,
             "#f0f921"
            ]
           ],
           "sequentialminus": [
            [
             0,
             "#0d0887"
            ],
            [
             0.1111111111111111,
             "#46039f"
            ],
            [
             0.2222222222222222,
             "#7201a8"
            ],
            [
             0.3333333333333333,
             "#9c179e"
            ],
            [
             0.4444444444444444,
             "#bd3786"
            ],
            [
             0.5555555555555556,
             "#d8576b"
            ],
            [
             0.6666666666666666,
             "#ed7953"
            ],
            [
             0.7777777777777778,
             "#fb9f3a"
            ],
            [
             0.8888888888888888,
             "#fdca26"
            ],
            [
             1,
             "#f0f921"
            ]
           ]
          },
          "colorway": [
           "#636efa",
           "#EF553B",
           "#00cc96",
           "#ab63fa",
           "#FFA15A",
           "#19d3f3",
           "#FF6692",
           "#B6E880",
           "#FF97FF",
           "#FECB52"
          ],
          "font": {
           "color": "#2a3f5f"
          },
          "geo": {
           "bgcolor": "white",
           "lakecolor": "white",
           "landcolor": "#E5ECF6",
           "showlakes": true,
           "showland": true,
           "subunitcolor": "white"
          },
          "hoverlabel": {
           "align": "left"
          },
          "hovermode": "closest",
          "mapbox": {
           "style": "light"
          },
          "paper_bgcolor": "white",
          "plot_bgcolor": "#E5ECF6",
          "polar": {
           "angularaxis": {
            "gridcolor": "white",
            "linecolor": "white",
            "ticks": ""
           },
           "bgcolor": "#E5ECF6",
           "radialaxis": {
            "gridcolor": "white",
            "linecolor": "white",
            "ticks": ""
           }
          },
          "scene": {
           "xaxis": {
            "backgroundcolor": "#E5ECF6",
            "gridcolor": "white",
            "gridwidth": 2,
            "linecolor": "white",
            "showbackground": true,
            "ticks": "",
            "zerolinecolor": "white"
           },
           "yaxis": {
            "backgroundcolor": "#E5ECF6",
            "gridcolor": "white",
            "gridwidth": 2,
            "linecolor": "white",
            "showbackground": true,
            "ticks": "",
            "zerolinecolor": "white"
           },
           "zaxis": {
            "backgroundcolor": "#E5ECF6",
            "gridcolor": "white",
            "gridwidth": 2,
            "linecolor": "white",
            "showbackground": true,
            "ticks": "",
            "zerolinecolor": "white"
           }
          },
          "shapedefaults": {
           "line": {
            "color": "#2a3f5f"
           }
          },
          "ternary": {
           "aaxis": {
            "gridcolor": "white",
            "linecolor": "white",
            "ticks": ""
           },
           "baxis": {
            "gridcolor": "white",
            "linecolor": "white",
            "ticks": ""
           },
           "bgcolor": "#E5ECF6",
           "caxis": {
            "gridcolor": "white",
            "linecolor": "white",
            "ticks": ""
           }
          },
          "title": {
           "x": 0.05
          },
          "xaxis": {
           "automargin": true,
           "gridcolor": "white",
           "linecolor": "white",
           "ticks": "",
           "title": {
            "standoff": 15
           },
           "zerolinecolor": "white",
           "zerolinewidth": 2
          },
          "yaxis": {
           "automargin": true,
           "gridcolor": "white",
           "linecolor": "white",
           "ticks": "",
           "title": {
            "standoff": 15
           },
           "zerolinecolor": "white",
           "zerolinewidth": 2
          }
         }
        },
        "title": {
         "font": {
          "color": "#4D5663"
         }
        },
        "xaxis": {
         "gridcolor": "#E1E5ED",
         "showgrid": true,
         "tickfont": {
          "color": "#4D5663"
         },
         "title": {
          "font": {
           "color": "#4D5663"
          },
          "text": ""
         },
         "zerolinecolor": "#E1E5ED"
        },
        "yaxis": {
         "gridcolor": "#E1E5ED",
         "showgrid": true,
         "tickfont": {
          "color": "#4D5663"
         },
         "title": {
          "font": {
           "color": "#4D5663"
          },
          "text": ""
         },
         "zerolinecolor": "#E1E5ED"
        }
       }
      },
      "text/html": [
       "<div>                            <div id=\"c8369339-c08f-4995-bb60-42a8b790f96e\" class=\"plotly-graph-div\" style=\"height:525px; width:100%;\"></div>            <script type=\"text/javascript\">                require([\"plotly\"], function(Plotly) {                    window.PLOTLYENV=window.PLOTLYENV || {};\n",
       "                    window.PLOTLYENV.BASE_URL='https://plot.ly';                                    if (document.getElementById(\"c8369339-c08f-4995-bb60-42a8b790f96e\")) {                    Plotly.newPlot(                        \"c8369339-c08f-4995-bb60-42a8b790f96e\",                        [{\"colorscale\":[[0.0,\"rgb(165,0,38)\"],[0.1,\"rgb(215,48,39)\"],[0.2,\"rgb(244,109,67)\"],[0.3,\"rgb(253,174,97)\"],[0.4,\"rgb(254,224,144)\"],[0.5,\"rgb(255,255,191)\"],[0.6,\"rgb(224,243,248)\"],[0.7,\"rgb(171,217,233)\"],[0.8,\"rgb(116,173,209)\"],[0.9,\"rgb(69,117,180)\"],[1.0,\"rgb(49,54,149)\"]],\"x\":[0,1,2,3,4],\"y\":[\"x\",\"y\",\"z\"],\"z\":[[1,2,3,4,5],[10,20,30,40,50],[5,4,3,2,1]],\"type\":\"surface\"}],                        {\"legend\":{\"bgcolor\":\"#F5F6F9\",\"font\":{\"color\":\"#4D5663\"}},\"paper_bgcolor\":\"#F5F6F9\",\"plot_bgcolor\":\"#F5F6F9\",\"template\":{\"data\":{\"barpolar\":[{\"marker\":{\"line\":{\"color\":\"#E5ECF6\",\"width\":0.5},\"pattern\":{\"fillmode\":\"overlay\",\"size\":10,\"solidity\":0.2}},\"type\":\"barpolar\"}],\"bar\":[{\"error_x\":{\"color\":\"#2a3f5f\"},\"error_y\":{\"color\":\"#2a3f5f\"},\"marker\":{\"line\":{\"color\":\"#E5ECF6\",\"width\":0.5},\"pattern\":{\"fillmode\":\"overlay\",\"size\":10,\"solidity\":0.2}},\"type\":\"bar\"}],\"carpet\":[{\"aaxis\":{\"endlinecolor\":\"#2a3f5f\",\"gridcolor\":\"white\",\"linecolor\":\"white\",\"minorgridcolor\":\"white\",\"startlinecolor\":\"#2a3f5f\"},\"baxis\":{\"endlinecolor\":\"#2a3f5f\",\"gridcolor\":\"white\",\"linecolor\":\"white\",\"minorgridcolor\":\"white\",\"startlinecolor\":\"#2a3f5f\"},\"type\":\"carpet\"}],\"choropleth\":[{\"colorbar\":{\"outlinewidth\":0,\"ticks\":\"\"},\"type\":\"choropleth\"}],\"contourcarpet\":[{\"colorbar\":{\"outlinewidth\":0,\"ticks\":\"\"},\"type\":\"contourcarpet\"}],\"contour\":[{\"colorbar\":{\"outlinewidth\":0,\"ticks\":\"\"},\"colorscale\":[[0.0,\"#0d0887\"],[0.1111111111111111,\"#46039f\"],[0.2222222222222222,\"#7201a8\"],[0.3333333333333333,\"#9c179e\"],[0.4444444444444444,\"#bd3786\"],[0.5555555555555556,\"#d8576b\"],[0.6666666666666666,\"#ed7953\"],[0.7777777777777778,\"#fb9f3a\"],[0.8888888888888888,\"#fdca26\"],[1.0,\"#f0f921\"]],\"type\":\"contour\"}],\"heatmapgl\":[{\"colorbar\":{\"outlinewidth\":0,\"ticks\":\"\"},\"colorscale\":[[0.0,\"#0d0887\"],[0.1111111111111111,\"#46039f\"],[0.2222222222222222,\"#7201a8\"],[0.3333333333333333,\"#9c179e\"],[0.4444444444444444,\"#bd3786\"],[0.5555555555555556,\"#d8576b\"],[0.6666666666666666,\"#ed7953\"],[0.7777777777777778,\"#fb9f3a\"],[0.8888888888888888,\"#fdca26\"],[1.0,\"#f0f921\"]],\"type\":\"heatmapgl\"}],\"heatmap\":[{\"colorbar\":{\"outlinewidth\":0,\"ticks\":\"\"},\"colorscale\":[[0.0,\"#0d0887\"],[0.1111111111111111,\"#46039f\"],[0.2222222222222222,\"#7201a8\"],[0.3333333333333333,\"#9c179e\"],[0.4444444444444444,\"#bd3786\"],[0.5555555555555556,\"#d8576b\"],[0.6666666666666666,\"#ed7953\"],[0.7777777777777778,\"#fb9f3a\"],[0.8888888888888888,\"#fdca26\"],[1.0,\"#f0f921\"]],\"type\":\"heatmap\"}],\"histogram2dcontour\":[{\"colorbar\":{\"outlinewidth\":0,\"ticks\":\"\"},\"colorscale\":[[0.0,\"#0d0887\"],[0.1111111111111111,\"#46039f\"],[0.2222222222222222,\"#7201a8\"],[0.3333333333333333,\"#9c179e\"],[0.4444444444444444,\"#bd3786\"],[0.5555555555555556,\"#d8576b\"],[0.6666666666666666,\"#ed7953\"],[0.7777777777777778,\"#fb9f3a\"],[0.8888888888888888,\"#fdca26\"],[1.0,\"#f0f921\"]],\"type\":\"histogram2dcontour\"}],\"histogram2d\":[{\"colorbar\":{\"outlinewidth\":0,\"ticks\":\"\"},\"colorscale\":[[0.0,\"#0d0887\"],[0.1111111111111111,\"#46039f\"],[0.2222222222222222,\"#7201a8\"],[0.3333333333333333,\"#9c179e\"],[0.4444444444444444,\"#bd3786\"],[0.5555555555555556,\"#d8576b\"],[0.6666666666666666,\"#ed7953\"],[0.7777777777777778,\"#fb9f3a\"],[0.8888888888888888,\"#fdca26\"],[1.0,\"#f0f921\"]],\"type\":\"histogram2d\"}],\"histogram\":[{\"marker\":{\"pattern\":{\"fillmode\":\"overlay\",\"size\":10,\"solidity\":0.2}},\"type\":\"histogram\"}],\"mesh3d\":[{\"colorbar\":{\"outlinewidth\":0,\"ticks\":\"\"},\"type\":\"mesh3d\"}],\"parcoords\":[{\"line\":{\"colorbar\":{\"outlinewidth\":0,\"ticks\":\"\"}},\"type\":\"parcoords\"}],\"pie\":[{\"automargin\":true,\"type\":\"pie\"}],\"scatter3d\":[{\"line\":{\"colorbar\":{\"outlinewidth\":0,\"ticks\":\"\"}},\"marker\":{\"colorbar\":{\"outlinewidth\":0,\"ticks\":\"\"}},\"type\":\"scatter3d\"}],\"scattercarpet\":[{\"marker\":{\"colorbar\":{\"outlinewidth\":0,\"ticks\":\"\"}},\"type\":\"scattercarpet\"}],\"scattergeo\":[{\"marker\":{\"colorbar\":{\"outlinewidth\":0,\"ticks\":\"\"}},\"type\":\"scattergeo\"}],\"scattergl\":[{\"marker\":{\"colorbar\":{\"outlinewidth\":0,\"ticks\":\"\"}},\"type\":\"scattergl\"}],\"scattermapbox\":[{\"marker\":{\"colorbar\":{\"outlinewidth\":0,\"ticks\":\"\"}},\"type\":\"scattermapbox\"}],\"scatterpolargl\":[{\"marker\":{\"colorbar\":{\"outlinewidth\":0,\"ticks\":\"\"}},\"type\":\"scatterpolargl\"}],\"scatterpolar\":[{\"marker\":{\"colorbar\":{\"outlinewidth\":0,\"ticks\":\"\"}},\"type\":\"scatterpolar\"}],\"scatter\":[{\"marker\":{\"colorbar\":{\"outlinewidth\":0,\"ticks\":\"\"}},\"type\":\"scatter\"}],\"scatterternary\":[{\"marker\":{\"colorbar\":{\"outlinewidth\":0,\"ticks\":\"\"}},\"type\":\"scatterternary\"}],\"surface\":[{\"colorbar\":{\"outlinewidth\":0,\"ticks\":\"\"},\"colorscale\":[[0.0,\"#0d0887\"],[0.1111111111111111,\"#46039f\"],[0.2222222222222222,\"#7201a8\"],[0.3333333333333333,\"#9c179e\"],[0.4444444444444444,\"#bd3786\"],[0.5555555555555556,\"#d8576b\"],[0.6666666666666666,\"#ed7953\"],[0.7777777777777778,\"#fb9f3a\"],[0.8888888888888888,\"#fdca26\"],[1.0,\"#f0f921\"]],\"type\":\"surface\"}],\"table\":[{\"cells\":{\"fill\":{\"color\":\"#EBF0F8\"},\"line\":{\"color\":\"white\"}},\"header\":{\"fill\":{\"color\":\"#C8D4E3\"},\"line\":{\"color\":\"white\"}},\"type\":\"table\"}]},\"layout\":{\"annotationdefaults\":{\"arrowcolor\":\"#2a3f5f\",\"arrowhead\":0,\"arrowwidth\":1},\"autotypenumbers\":\"strict\",\"coloraxis\":{\"colorbar\":{\"outlinewidth\":0,\"ticks\":\"\"}},\"colorscale\":{\"diverging\":[[0,\"#8e0152\"],[0.1,\"#c51b7d\"],[0.2,\"#de77ae\"],[0.3,\"#f1b6da\"],[0.4,\"#fde0ef\"],[0.5,\"#f7f7f7\"],[0.6,\"#e6f5d0\"],[0.7,\"#b8e186\"],[0.8,\"#7fbc41\"],[0.9,\"#4d9221\"],[1,\"#276419\"]],\"sequential\":[[0.0,\"#0d0887\"],[0.1111111111111111,\"#46039f\"],[0.2222222222222222,\"#7201a8\"],[0.3333333333333333,\"#9c179e\"],[0.4444444444444444,\"#bd3786\"],[0.5555555555555556,\"#d8576b\"],[0.6666666666666666,\"#ed7953\"],[0.7777777777777778,\"#fb9f3a\"],[0.8888888888888888,\"#fdca26\"],[1.0,\"#f0f921\"]],\"sequentialminus\":[[0.0,\"#0d0887\"],[0.1111111111111111,\"#46039f\"],[0.2222222222222222,\"#7201a8\"],[0.3333333333333333,\"#9c179e\"],[0.4444444444444444,\"#bd3786\"],[0.5555555555555556,\"#d8576b\"],[0.6666666666666666,\"#ed7953\"],[0.7777777777777778,\"#fb9f3a\"],[0.8888888888888888,\"#fdca26\"],[1.0,\"#f0f921\"]]},\"colorway\":[\"#636efa\",\"#EF553B\",\"#00cc96\",\"#ab63fa\",\"#FFA15A\",\"#19d3f3\",\"#FF6692\",\"#B6E880\",\"#FF97FF\",\"#FECB52\"],\"font\":{\"color\":\"#2a3f5f\"},\"geo\":{\"bgcolor\":\"white\",\"lakecolor\":\"white\",\"landcolor\":\"#E5ECF6\",\"showlakes\":true,\"showland\":true,\"subunitcolor\":\"white\"},\"hoverlabel\":{\"align\":\"left\"},\"hovermode\":\"closest\",\"mapbox\":{\"style\":\"light\"},\"paper_bgcolor\":\"white\",\"plot_bgcolor\":\"#E5ECF6\",\"polar\":{\"angularaxis\":{\"gridcolor\":\"white\",\"linecolor\":\"white\",\"ticks\":\"\"},\"bgcolor\":\"#E5ECF6\",\"radialaxis\":{\"gridcolor\":\"white\",\"linecolor\":\"white\",\"ticks\":\"\"}},\"scene\":{\"xaxis\":{\"backgroundcolor\":\"#E5ECF6\",\"gridcolor\":\"white\",\"gridwidth\":2,\"linecolor\":\"white\",\"showbackground\":true,\"ticks\":\"\",\"zerolinecolor\":\"white\"},\"yaxis\":{\"backgroundcolor\":\"#E5ECF6\",\"gridcolor\":\"white\",\"gridwidth\":2,\"linecolor\":\"white\",\"showbackground\":true,\"ticks\":\"\",\"zerolinecolor\":\"white\"},\"zaxis\":{\"backgroundcolor\":\"#E5ECF6\",\"gridcolor\":\"white\",\"gridwidth\":2,\"linecolor\":\"white\",\"showbackground\":true,\"ticks\":\"\",\"zerolinecolor\":\"white\"}},\"shapedefaults\":{\"line\":{\"color\":\"#2a3f5f\"}},\"ternary\":{\"aaxis\":{\"gridcolor\":\"white\",\"linecolor\":\"white\",\"ticks\":\"\"},\"baxis\":{\"gridcolor\":\"white\",\"linecolor\":\"white\",\"ticks\":\"\"},\"bgcolor\":\"#E5ECF6\",\"caxis\":{\"gridcolor\":\"white\",\"linecolor\":\"white\",\"ticks\":\"\"}},\"title\":{\"x\":0.05},\"xaxis\":{\"automargin\":true,\"gridcolor\":\"white\",\"linecolor\":\"white\",\"ticks\":\"\",\"title\":{\"standoff\":15},\"zerolinecolor\":\"white\",\"zerolinewidth\":2},\"yaxis\":{\"automargin\":true,\"gridcolor\":\"white\",\"linecolor\":\"white\",\"ticks\":\"\",\"title\":{\"standoff\":15},\"zerolinecolor\":\"white\",\"zerolinewidth\":2}}},\"title\":{\"font\":{\"color\":\"#4D5663\"}},\"xaxis\":{\"gridcolor\":\"#E1E5ED\",\"showgrid\":true,\"tickfont\":{\"color\":\"#4D5663\"},\"title\":{\"font\":{\"color\":\"#4D5663\"},\"text\":\"\"},\"zerolinecolor\":\"#E1E5ED\"},\"yaxis\":{\"gridcolor\":\"#E1E5ED\",\"showgrid\":true,\"tickfont\":{\"color\":\"#4D5663\"},\"title\":{\"font\":{\"color\":\"#4D5663\"},\"text\":\"\"},\"zerolinecolor\":\"#E1E5ED\"}},                        {\"showLink\": true, \"linkText\": \"Export to plot.ly\", \"plotlyServerURL\": \"https://plot.ly\", \"responsive\": true}                    ).then(function(){\n",
       "                            \n",
       "var gd = document.getElementById('c8369339-c08f-4995-bb60-42a8b790f96e');\n",
       "var x = new MutationObserver(function (mutations, observer) {{\n",
       "        var display = window.getComputedStyle(gd).display;\n",
       "        if (!display || display === 'none') {{\n",
       "            console.log([gd, 'removed!']);\n",
       "            Plotly.purge(gd);\n",
       "            observer.disconnect();\n",
       "        }}\n",
       "}});\n",
       "\n",
       "// Listen for the removal of the full notebook cells\n",
       "var notebookContainer = gd.closest('#notebook-container');\n",
       "if (notebookContainer) {{\n",
       "    x.observe(notebookContainer, {childList: true});\n",
       "}}\n",
       "\n",
       "// Listen for the clearing of the current output cell\n",
       "var outputEl = gd.closest('.output');\n",
       "if (outputEl) {{\n",
       "    x.observe(outputEl, {childList: true});\n",
       "}}\n",
       "\n",
       "                        })                };                });            </script>        </div>"
      ]
     },
     "metadata": {},
     "output_type": "display_data"
    }
   ],
   "source": [
    "df3.iplot(kind='surface',colorscale='rdylbu')"
   ]
  },
  {
   "cell_type": "code",
   "execution_count": 40,
   "id": "3e5355c1",
   "metadata": {},
   "outputs": [
    {
     "data": {
      "application/vnd.plotly.v1+json": {
       "config": {
        "linkText": "Export to plot.ly",
        "plotlyServerURL": "https://plot.ly",
        "showLink": true
       },
       "data": [
        {
         "histfunc": "count",
         "histnorm": "",
         "marker": {
          "color": "rgba(255, 153, 51, 1.0)",
          "line": {
           "color": "#4D5663",
           "width": 1.3
          }
         },
         "name": "A",
         "opacity": 0.8,
         "orientation": "v",
         "type": "histogram",
         "x": [
          0.7206021595231069,
          0.600148426769176,
          0.4104359743616993,
          1.5970755667006848,
          -1.2936619515577568,
          -0.8247653726117883,
          0.8635716441218286,
          0.9641754730341981,
          -0.023983744104136718,
          0.8936011658880695,
          -0.3997818395932563,
          -0.6968882043136051,
          -1.163879408522421,
          0.24301016267096173,
          1.5061934436070503,
          2.2293327935101708,
          -1.2735706894259167,
          0.07670212200171866,
          0.42749763295537124,
          -0.8362156804531724,
          0.23760756881529357,
          0.6125021013936939,
          0.9474786308756106,
          0.5792285211320449,
          -0.022141338115392657,
          0.1780786293235384,
          -0.4378983347210052,
          -1.9641912957964793,
          0.5884103102817879,
          1.2261746210124682,
          0.36692568501522266,
          0.5338772876220805,
          -1.0129881243922954,
          -0.05828206366226157,
          -0.4542632899292565,
          -0.9545712927080492,
          -0.4462063781298266,
          1.7850698534429827,
          -1.5714742286027275,
          -1.700569442248487,
          -0.7669013707864606,
          -3.131367504486959,
          -1.059983984922948,
          1.4162638414930868,
          1.6704485316623467,
          -0.939130190447798,
          0.8100608368265246,
          1.4254927278950735,
          0.28241386798408846,
          -0.20653442472757128,
          -1.745147679318256,
          -1.6430798662212416,
          1.3845799049888303,
          -1.378963965645226,
          -0.519571255210273,
          1.4442675469554762,
          -0.5705819989697787,
          -0.5135575214998415,
          -0.7725119707973551,
          0.4520162047149358,
          -0.7274765115358929,
          -1.3402720744289112,
          0.9327244040593339,
          -0.8271541013442341,
          -1.2064204344555705,
          0.3696430003742275,
          0.23974555131411265,
          -1.68529161912587,
          0.5231163706104487,
          0.6402595816400246,
          -0.043905994702309624,
          0.4468550288425965,
          0.37837924503019776,
          -0.033244845954011386,
          -1.1977701838216634,
          0.39756580016298637,
          -0.7081412455264934,
          0.5402103482032428,
          -1.8552901543432505,
          1.0089939294346084,
          1.587105528275671,
          -0.5601097082171755,
          0.11665409539915697,
          -0.5745241401224672,
          -2.558207307961996,
          -0.5339083790451622,
          -1.4864995681419446,
          -0.2949479595475197,
          0.6295343657985574,
          0.42971820599591787,
          1.5498386531740298,
          0.5916490519789844,
          -0.3998257461066869,
          1.9127966678340154,
          0.30283673972582165,
          0.24201125897767198,
          -1.7144830491064178,
          0.4238364675698964,
          0.60177217016106,
          -0.6508979705447588
         ]
        }
       ],
       "layout": {
        "barmode": "overlay",
        "legend": {
         "bgcolor": "#F5F6F9",
         "font": {
          "color": "#4D5663"
         }
        },
        "paper_bgcolor": "#F5F6F9",
        "plot_bgcolor": "#F5F6F9",
        "template": {
         "data": {
          "bar": [
           {
            "error_x": {
             "color": "#2a3f5f"
            },
            "error_y": {
             "color": "#2a3f5f"
            },
            "marker": {
             "line": {
              "color": "#E5ECF6",
              "width": 0.5
             },
             "pattern": {
              "fillmode": "overlay",
              "size": 10,
              "solidity": 0.2
             }
            },
            "type": "bar"
           }
          ],
          "barpolar": [
           {
            "marker": {
             "line": {
              "color": "#E5ECF6",
              "width": 0.5
             },
             "pattern": {
              "fillmode": "overlay",
              "size": 10,
              "solidity": 0.2
             }
            },
            "type": "barpolar"
           }
          ],
          "carpet": [
           {
            "aaxis": {
             "endlinecolor": "#2a3f5f",
             "gridcolor": "white",
             "linecolor": "white",
             "minorgridcolor": "white",
             "startlinecolor": "#2a3f5f"
            },
            "baxis": {
             "endlinecolor": "#2a3f5f",
             "gridcolor": "white",
             "linecolor": "white",
             "minorgridcolor": "white",
             "startlinecolor": "#2a3f5f"
            },
            "type": "carpet"
           }
          ],
          "choropleth": [
           {
            "colorbar": {
             "outlinewidth": 0,
             "ticks": ""
            },
            "type": "choropleth"
           }
          ],
          "contour": [
           {
            "colorbar": {
             "outlinewidth": 0,
             "ticks": ""
            },
            "colorscale": [
             [
              0,
              "#0d0887"
             ],
             [
              0.1111111111111111,
              "#46039f"
             ],
             [
              0.2222222222222222,
              "#7201a8"
             ],
             [
              0.3333333333333333,
              "#9c179e"
             ],
             [
              0.4444444444444444,
              "#bd3786"
             ],
             [
              0.5555555555555556,
              "#d8576b"
             ],
             [
              0.6666666666666666,
              "#ed7953"
             ],
             [
              0.7777777777777778,
              "#fb9f3a"
             ],
             [
              0.8888888888888888,
              "#fdca26"
             ],
             [
              1,
              "#f0f921"
             ]
            ],
            "type": "contour"
           }
          ],
          "contourcarpet": [
           {
            "colorbar": {
             "outlinewidth": 0,
             "ticks": ""
            },
            "type": "contourcarpet"
           }
          ],
          "heatmap": [
           {
            "colorbar": {
             "outlinewidth": 0,
             "ticks": ""
            },
            "colorscale": [
             [
              0,
              "#0d0887"
             ],
             [
              0.1111111111111111,
              "#46039f"
             ],
             [
              0.2222222222222222,
              "#7201a8"
             ],
             [
              0.3333333333333333,
              "#9c179e"
             ],
             [
              0.4444444444444444,
              "#bd3786"
             ],
             [
              0.5555555555555556,
              "#d8576b"
             ],
             [
              0.6666666666666666,
              "#ed7953"
             ],
             [
              0.7777777777777778,
              "#fb9f3a"
             ],
             [
              0.8888888888888888,
              "#fdca26"
             ],
             [
              1,
              "#f0f921"
             ]
            ],
            "type": "heatmap"
           }
          ],
          "heatmapgl": [
           {
            "colorbar": {
             "outlinewidth": 0,
             "ticks": ""
            },
            "colorscale": [
             [
              0,
              "#0d0887"
             ],
             [
              0.1111111111111111,
              "#46039f"
             ],
             [
              0.2222222222222222,
              "#7201a8"
             ],
             [
              0.3333333333333333,
              "#9c179e"
             ],
             [
              0.4444444444444444,
              "#bd3786"
             ],
             [
              0.5555555555555556,
              "#d8576b"
             ],
             [
              0.6666666666666666,
              "#ed7953"
             ],
             [
              0.7777777777777778,
              "#fb9f3a"
             ],
             [
              0.8888888888888888,
              "#fdca26"
             ],
             [
              1,
              "#f0f921"
             ]
            ],
            "type": "heatmapgl"
           }
          ],
          "histogram": [
           {
            "marker": {
             "pattern": {
              "fillmode": "overlay",
              "size": 10,
              "solidity": 0.2
             }
            },
            "type": "histogram"
           }
          ],
          "histogram2d": [
           {
            "colorbar": {
             "outlinewidth": 0,
             "ticks": ""
            },
            "colorscale": [
             [
              0,
              "#0d0887"
             ],
             [
              0.1111111111111111,
              "#46039f"
             ],
             [
              0.2222222222222222,
              "#7201a8"
             ],
             [
              0.3333333333333333,
              "#9c179e"
             ],
             [
              0.4444444444444444,
              "#bd3786"
             ],
             [
              0.5555555555555556,
              "#d8576b"
             ],
             [
              0.6666666666666666,
              "#ed7953"
             ],
             [
              0.7777777777777778,
              "#fb9f3a"
             ],
             [
              0.8888888888888888,
              "#fdca26"
             ],
             [
              1,
              "#f0f921"
             ]
            ],
            "type": "histogram2d"
           }
          ],
          "histogram2dcontour": [
           {
            "colorbar": {
             "outlinewidth": 0,
             "ticks": ""
            },
            "colorscale": [
             [
              0,
              "#0d0887"
             ],
             [
              0.1111111111111111,
              "#46039f"
             ],
             [
              0.2222222222222222,
              "#7201a8"
             ],
             [
              0.3333333333333333,
              "#9c179e"
             ],
             [
              0.4444444444444444,
              "#bd3786"
             ],
             [
              0.5555555555555556,
              "#d8576b"
             ],
             [
              0.6666666666666666,
              "#ed7953"
             ],
             [
              0.7777777777777778,
              "#fb9f3a"
             ],
             [
              0.8888888888888888,
              "#fdca26"
             ],
             [
              1,
              "#f0f921"
             ]
            ],
            "type": "histogram2dcontour"
           }
          ],
          "mesh3d": [
           {
            "colorbar": {
             "outlinewidth": 0,
             "ticks": ""
            },
            "type": "mesh3d"
           }
          ],
          "parcoords": [
           {
            "line": {
             "colorbar": {
              "outlinewidth": 0,
              "ticks": ""
             }
            },
            "type": "parcoords"
           }
          ],
          "pie": [
           {
            "automargin": true,
            "type": "pie"
           }
          ],
          "scatter": [
           {
            "marker": {
             "colorbar": {
              "outlinewidth": 0,
              "ticks": ""
             }
            },
            "type": "scatter"
           }
          ],
          "scatter3d": [
           {
            "line": {
             "colorbar": {
              "outlinewidth": 0,
              "ticks": ""
             }
            },
            "marker": {
             "colorbar": {
              "outlinewidth": 0,
              "ticks": ""
             }
            },
            "type": "scatter3d"
           }
          ],
          "scattercarpet": [
           {
            "marker": {
             "colorbar": {
              "outlinewidth": 0,
              "ticks": ""
             }
            },
            "type": "scattercarpet"
           }
          ],
          "scattergeo": [
           {
            "marker": {
             "colorbar": {
              "outlinewidth": 0,
              "ticks": ""
             }
            },
            "type": "scattergeo"
           }
          ],
          "scattergl": [
           {
            "marker": {
             "colorbar": {
              "outlinewidth": 0,
              "ticks": ""
             }
            },
            "type": "scattergl"
           }
          ],
          "scattermapbox": [
           {
            "marker": {
             "colorbar": {
              "outlinewidth": 0,
              "ticks": ""
             }
            },
            "type": "scattermapbox"
           }
          ],
          "scatterpolar": [
           {
            "marker": {
             "colorbar": {
              "outlinewidth": 0,
              "ticks": ""
             }
            },
            "type": "scatterpolar"
           }
          ],
          "scatterpolargl": [
           {
            "marker": {
             "colorbar": {
              "outlinewidth": 0,
              "ticks": ""
             }
            },
            "type": "scatterpolargl"
           }
          ],
          "scatterternary": [
           {
            "marker": {
             "colorbar": {
              "outlinewidth": 0,
              "ticks": ""
             }
            },
            "type": "scatterternary"
           }
          ],
          "surface": [
           {
            "colorbar": {
             "outlinewidth": 0,
             "ticks": ""
            },
            "colorscale": [
             [
              0,
              "#0d0887"
             ],
             [
              0.1111111111111111,
              "#46039f"
             ],
             [
              0.2222222222222222,
              "#7201a8"
             ],
             [
              0.3333333333333333,
              "#9c179e"
             ],
             [
              0.4444444444444444,
              "#bd3786"
             ],
             [
              0.5555555555555556,
              "#d8576b"
             ],
             [
              0.6666666666666666,
              "#ed7953"
             ],
             [
              0.7777777777777778,
              "#fb9f3a"
             ],
             [
              0.8888888888888888,
              "#fdca26"
             ],
             [
              1,
              "#f0f921"
             ]
            ],
            "type": "surface"
           }
          ],
          "table": [
           {
            "cells": {
             "fill": {
              "color": "#EBF0F8"
             },
             "line": {
              "color": "white"
             }
            },
            "header": {
             "fill": {
              "color": "#C8D4E3"
             },
             "line": {
              "color": "white"
             }
            },
            "type": "table"
           }
          ]
         },
         "layout": {
          "annotationdefaults": {
           "arrowcolor": "#2a3f5f",
           "arrowhead": 0,
           "arrowwidth": 1
          },
          "autotypenumbers": "strict",
          "coloraxis": {
           "colorbar": {
            "outlinewidth": 0,
            "ticks": ""
           }
          },
          "colorscale": {
           "diverging": [
            [
             0,
             "#8e0152"
            ],
            [
             0.1,
             "#c51b7d"
            ],
            [
             0.2,
             "#de77ae"
            ],
            [
             0.3,
             "#f1b6da"
            ],
            [
             0.4,
             "#fde0ef"
            ],
            [
             0.5,
             "#f7f7f7"
            ],
            [
             0.6,
             "#e6f5d0"
            ],
            [
             0.7,
             "#b8e186"
            ],
            [
             0.8,
             "#7fbc41"
            ],
            [
             0.9,
             "#4d9221"
            ],
            [
             1,
             "#276419"
            ]
           ],
           "sequential": [
            [
             0,
             "#0d0887"
            ],
            [
             0.1111111111111111,
             "#46039f"
            ],
            [
             0.2222222222222222,
             "#7201a8"
            ],
            [
             0.3333333333333333,
             "#9c179e"
            ],
            [
             0.4444444444444444,
             "#bd3786"
            ],
            [
             0.5555555555555556,
             "#d8576b"
            ],
            [
             0.6666666666666666,
             "#ed7953"
            ],
            [
             0.7777777777777778,
             "#fb9f3a"
            ],
            [
             0.8888888888888888,
             "#fdca26"
            ],
            [
             1,
             "#f0f921"
            ]
           ],
           "sequentialminus": [
            [
             0,
             "#0d0887"
            ],
            [
             0.1111111111111111,
             "#46039f"
            ],
            [
             0.2222222222222222,
             "#7201a8"
            ],
            [
             0.3333333333333333,
             "#9c179e"
            ],
            [
             0.4444444444444444,
             "#bd3786"
            ],
            [
             0.5555555555555556,
             "#d8576b"
            ],
            [
             0.6666666666666666,
             "#ed7953"
            ],
            [
             0.7777777777777778,
             "#fb9f3a"
            ],
            [
             0.8888888888888888,
             "#fdca26"
            ],
            [
             1,
             "#f0f921"
            ]
           ]
          },
          "colorway": [
           "#636efa",
           "#EF553B",
           "#00cc96",
           "#ab63fa",
           "#FFA15A",
           "#19d3f3",
           "#FF6692",
           "#B6E880",
           "#FF97FF",
           "#FECB52"
          ],
          "font": {
           "color": "#2a3f5f"
          },
          "geo": {
           "bgcolor": "white",
           "lakecolor": "white",
           "landcolor": "#E5ECF6",
           "showlakes": true,
           "showland": true,
           "subunitcolor": "white"
          },
          "hoverlabel": {
           "align": "left"
          },
          "hovermode": "closest",
          "mapbox": {
           "style": "light"
          },
          "paper_bgcolor": "white",
          "plot_bgcolor": "#E5ECF6",
          "polar": {
           "angularaxis": {
            "gridcolor": "white",
            "linecolor": "white",
            "ticks": ""
           },
           "bgcolor": "#E5ECF6",
           "radialaxis": {
            "gridcolor": "white",
            "linecolor": "white",
            "ticks": ""
           }
          },
          "scene": {
           "xaxis": {
            "backgroundcolor": "#E5ECF6",
            "gridcolor": "white",
            "gridwidth": 2,
            "linecolor": "white",
            "showbackground": true,
            "ticks": "",
            "zerolinecolor": "white"
           },
           "yaxis": {
            "backgroundcolor": "#E5ECF6",
            "gridcolor": "white",
            "gridwidth": 2,
            "linecolor": "white",
            "showbackground": true,
            "ticks": "",
            "zerolinecolor": "white"
           },
           "zaxis": {
            "backgroundcolor": "#E5ECF6",
            "gridcolor": "white",
            "gridwidth": 2,
            "linecolor": "white",
            "showbackground": true,
            "ticks": "",
            "zerolinecolor": "white"
           }
          },
          "shapedefaults": {
           "line": {
            "color": "#2a3f5f"
           }
          },
          "ternary": {
           "aaxis": {
            "gridcolor": "white",
            "linecolor": "white",
            "ticks": ""
           },
           "baxis": {
            "gridcolor": "white",
            "linecolor": "white",
            "ticks": ""
           },
           "bgcolor": "#E5ECF6",
           "caxis": {
            "gridcolor": "white",
            "linecolor": "white",
            "ticks": ""
           }
          },
          "title": {
           "x": 0.05
          },
          "xaxis": {
           "automargin": true,
           "gridcolor": "white",
           "linecolor": "white",
           "ticks": "",
           "title": {
            "standoff": 15
           },
           "zerolinecolor": "white",
           "zerolinewidth": 2
          },
          "yaxis": {
           "automargin": true,
           "gridcolor": "white",
           "linecolor": "white",
           "ticks": "",
           "title": {
            "standoff": 15
           },
           "zerolinecolor": "white",
           "zerolinewidth": 2
          }
         }
        },
        "title": {
         "font": {
          "color": "#4D5663"
         }
        },
        "xaxis": {
         "gridcolor": "#E1E5ED",
         "showgrid": true,
         "tickfont": {
          "color": "#4D5663"
         },
         "title": {
          "font": {
           "color": "#4D5663"
          },
          "text": ""
         },
         "zerolinecolor": "#E1E5ED"
        },
        "yaxis": {
         "gridcolor": "#E1E5ED",
         "showgrid": true,
         "tickfont": {
          "color": "#4D5663"
         },
         "title": {
          "font": {
           "color": "#4D5663"
          },
          "text": ""
         },
         "zerolinecolor": "#E1E5ED"
        }
       }
      },
      "text/html": [
       "<div>                            <div id=\"a9ef92cc-18b6-47a6-8aa3-f29e6b0b6c8d\" class=\"plotly-graph-div\" style=\"height:525px; width:100%;\"></div>            <script type=\"text/javascript\">                require([\"plotly\"], function(Plotly) {                    window.PLOTLYENV=window.PLOTLYENV || {};\n",
       "                    window.PLOTLYENV.BASE_URL='https://plot.ly';                                    if (document.getElementById(\"a9ef92cc-18b6-47a6-8aa3-f29e6b0b6c8d\")) {                    Plotly.newPlot(                        \"a9ef92cc-18b6-47a6-8aa3-f29e6b0b6c8d\",                        [{\"histfunc\":\"count\",\"histnorm\":\"\",\"marker\":{\"color\":\"rgba(255, 153, 51, 1.0)\",\"line\":{\"color\":\"#4D5663\",\"width\":1.3}},\"name\":\"A\",\"opacity\":0.8,\"orientation\":\"v\",\"x\":[0.7206021595231069,0.600148426769176,0.4104359743616993,1.5970755667006848,-1.2936619515577568,-0.8247653726117883,0.8635716441218286,0.9641754730341981,-0.023983744104136718,0.8936011658880695,-0.3997818395932563,-0.6968882043136051,-1.163879408522421,0.24301016267096173,1.5061934436070503,2.2293327935101708,-1.2735706894259167,0.07670212200171866,0.42749763295537124,-0.8362156804531724,0.23760756881529357,0.6125021013936939,0.9474786308756106,0.5792285211320449,-0.022141338115392657,0.1780786293235384,-0.4378983347210052,-1.9641912957964793,0.5884103102817879,1.2261746210124682,0.36692568501522266,0.5338772876220805,-1.0129881243922954,-0.05828206366226157,-0.4542632899292565,-0.9545712927080492,-0.4462063781298266,1.7850698534429827,-1.5714742286027275,-1.700569442248487,-0.7669013707864606,-3.131367504486959,-1.059983984922948,1.4162638414930868,1.6704485316623467,-0.939130190447798,0.8100608368265246,1.4254927278950735,0.28241386798408846,-0.20653442472757128,-1.745147679318256,-1.6430798662212416,1.3845799049888303,-1.378963965645226,-0.519571255210273,1.4442675469554762,-0.5705819989697787,-0.5135575214998415,-0.7725119707973551,0.4520162047149358,-0.7274765115358929,-1.3402720744289112,0.9327244040593339,-0.8271541013442341,-1.2064204344555705,0.3696430003742275,0.23974555131411265,-1.68529161912587,0.5231163706104487,0.6402595816400246,-0.043905994702309624,0.4468550288425965,0.37837924503019776,-0.033244845954011386,-1.1977701838216634,0.39756580016298637,-0.7081412455264934,0.5402103482032428,-1.8552901543432505,1.0089939294346084,1.587105528275671,-0.5601097082171755,0.11665409539915697,-0.5745241401224672,-2.558207307961996,-0.5339083790451622,-1.4864995681419446,-0.2949479595475197,0.6295343657985574,0.42971820599591787,1.5498386531740298,0.5916490519789844,-0.3998257461066869,1.9127966678340154,0.30283673972582165,0.24201125897767198,-1.7144830491064178,0.4238364675698964,0.60177217016106,-0.6508979705447588],\"type\":\"histogram\"}],                        {\"barmode\":\"overlay\",\"legend\":{\"bgcolor\":\"#F5F6F9\",\"font\":{\"color\":\"#4D5663\"}},\"paper_bgcolor\":\"#F5F6F9\",\"plot_bgcolor\":\"#F5F6F9\",\"template\":{\"data\":{\"barpolar\":[{\"marker\":{\"line\":{\"color\":\"#E5ECF6\",\"width\":0.5},\"pattern\":{\"fillmode\":\"overlay\",\"size\":10,\"solidity\":0.2}},\"type\":\"barpolar\"}],\"bar\":[{\"error_x\":{\"color\":\"#2a3f5f\"},\"error_y\":{\"color\":\"#2a3f5f\"},\"marker\":{\"line\":{\"color\":\"#E5ECF6\",\"width\":0.5},\"pattern\":{\"fillmode\":\"overlay\",\"size\":10,\"solidity\":0.2}},\"type\":\"bar\"}],\"carpet\":[{\"aaxis\":{\"endlinecolor\":\"#2a3f5f\",\"gridcolor\":\"white\",\"linecolor\":\"white\",\"minorgridcolor\":\"white\",\"startlinecolor\":\"#2a3f5f\"},\"baxis\":{\"endlinecolor\":\"#2a3f5f\",\"gridcolor\":\"white\",\"linecolor\":\"white\",\"minorgridcolor\":\"white\",\"startlinecolor\":\"#2a3f5f\"},\"type\":\"carpet\"}],\"choropleth\":[{\"colorbar\":{\"outlinewidth\":0,\"ticks\":\"\"},\"type\":\"choropleth\"}],\"contourcarpet\":[{\"colorbar\":{\"outlinewidth\":0,\"ticks\":\"\"},\"type\":\"contourcarpet\"}],\"contour\":[{\"colorbar\":{\"outlinewidth\":0,\"ticks\":\"\"},\"colorscale\":[[0.0,\"#0d0887\"],[0.1111111111111111,\"#46039f\"],[0.2222222222222222,\"#7201a8\"],[0.3333333333333333,\"#9c179e\"],[0.4444444444444444,\"#bd3786\"],[0.5555555555555556,\"#d8576b\"],[0.6666666666666666,\"#ed7953\"],[0.7777777777777778,\"#fb9f3a\"],[0.8888888888888888,\"#fdca26\"],[1.0,\"#f0f921\"]],\"type\":\"contour\"}],\"heatmapgl\":[{\"colorbar\":{\"outlinewidth\":0,\"ticks\":\"\"},\"colorscale\":[[0.0,\"#0d0887\"],[0.1111111111111111,\"#46039f\"],[0.2222222222222222,\"#7201a8\"],[0.3333333333333333,\"#9c179e\"],[0.4444444444444444,\"#bd3786\"],[0.5555555555555556,\"#d8576b\"],[0.6666666666666666,\"#ed7953\"],[0.7777777777777778,\"#fb9f3a\"],[0.8888888888888888,\"#fdca26\"],[1.0,\"#f0f921\"]],\"type\":\"heatmapgl\"}],\"heatmap\":[{\"colorbar\":{\"outlinewidth\":0,\"ticks\":\"\"},\"colorscale\":[[0.0,\"#0d0887\"],[0.1111111111111111,\"#46039f\"],[0.2222222222222222,\"#7201a8\"],[0.3333333333333333,\"#9c179e\"],[0.4444444444444444,\"#bd3786\"],[0.5555555555555556,\"#d8576b\"],[0.6666666666666666,\"#ed7953\"],[0.7777777777777778,\"#fb9f3a\"],[0.8888888888888888,\"#fdca26\"],[1.0,\"#f0f921\"]],\"type\":\"heatmap\"}],\"histogram2dcontour\":[{\"colorbar\":{\"outlinewidth\":0,\"ticks\":\"\"},\"colorscale\":[[0.0,\"#0d0887\"],[0.1111111111111111,\"#46039f\"],[0.2222222222222222,\"#7201a8\"],[0.3333333333333333,\"#9c179e\"],[0.4444444444444444,\"#bd3786\"],[0.5555555555555556,\"#d8576b\"],[0.6666666666666666,\"#ed7953\"],[0.7777777777777778,\"#fb9f3a\"],[0.8888888888888888,\"#fdca26\"],[1.0,\"#f0f921\"]],\"type\":\"histogram2dcontour\"}],\"histogram2d\":[{\"colorbar\":{\"outlinewidth\":0,\"ticks\":\"\"},\"colorscale\":[[0.0,\"#0d0887\"],[0.1111111111111111,\"#46039f\"],[0.2222222222222222,\"#7201a8\"],[0.3333333333333333,\"#9c179e\"],[0.4444444444444444,\"#bd3786\"],[0.5555555555555556,\"#d8576b\"],[0.6666666666666666,\"#ed7953\"],[0.7777777777777778,\"#fb9f3a\"],[0.8888888888888888,\"#fdca26\"],[1.0,\"#f0f921\"]],\"type\":\"histogram2d\"}],\"histogram\":[{\"marker\":{\"pattern\":{\"fillmode\":\"overlay\",\"size\":10,\"solidity\":0.2}},\"type\":\"histogram\"}],\"mesh3d\":[{\"colorbar\":{\"outlinewidth\":0,\"ticks\":\"\"},\"type\":\"mesh3d\"}],\"parcoords\":[{\"line\":{\"colorbar\":{\"outlinewidth\":0,\"ticks\":\"\"}},\"type\":\"parcoords\"}],\"pie\":[{\"automargin\":true,\"type\":\"pie\"}],\"scatter3d\":[{\"line\":{\"colorbar\":{\"outlinewidth\":0,\"ticks\":\"\"}},\"marker\":{\"colorbar\":{\"outlinewidth\":0,\"ticks\":\"\"}},\"type\":\"scatter3d\"}],\"scattercarpet\":[{\"marker\":{\"colorbar\":{\"outlinewidth\":0,\"ticks\":\"\"}},\"type\":\"scattercarpet\"}],\"scattergeo\":[{\"marker\":{\"colorbar\":{\"outlinewidth\":0,\"ticks\":\"\"}},\"type\":\"scattergeo\"}],\"scattergl\":[{\"marker\":{\"colorbar\":{\"outlinewidth\":0,\"ticks\":\"\"}},\"type\":\"scattergl\"}],\"scattermapbox\":[{\"marker\":{\"colorbar\":{\"outlinewidth\":0,\"ticks\":\"\"}},\"type\":\"scattermapbox\"}],\"scatterpolargl\":[{\"marker\":{\"colorbar\":{\"outlinewidth\":0,\"ticks\":\"\"}},\"type\":\"scatterpolargl\"}],\"scatterpolar\":[{\"marker\":{\"colorbar\":{\"outlinewidth\":0,\"ticks\":\"\"}},\"type\":\"scatterpolar\"}],\"scatter\":[{\"marker\":{\"colorbar\":{\"outlinewidth\":0,\"ticks\":\"\"}},\"type\":\"scatter\"}],\"scatterternary\":[{\"marker\":{\"colorbar\":{\"outlinewidth\":0,\"ticks\":\"\"}},\"type\":\"scatterternary\"}],\"surface\":[{\"colorbar\":{\"outlinewidth\":0,\"ticks\":\"\"},\"colorscale\":[[0.0,\"#0d0887\"],[0.1111111111111111,\"#46039f\"],[0.2222222222222222,\"#7201a8\"],[0.3333333333333333,\"#9c179e\"],[0.4444444444444444,\"#bd3786\"],[0.5555555555555556,\"#d8576b\"],[0.6666666666666666,\"#ed7953\"],[0.7777777777777778,\"#fb9f3a\"],[0.8888888888888888,\"#fdca26\"],[1.0,\"#f0f921\"]],\"type\":\"surface\"}],\"table\":[{\"cells\":{\"fill\":{\"color\":\"#EBF0F8\"},\"line\":{\"color\":\"white\"}},\"header\":{\"fill\":{\"color\":\"#C8D4E3\"},\"line\":{\"color\":\"white\"}},\"type\":\"table\"}]},\"layout\":{\"annotationdefaults\":{\"arrowcolor\":\"#2a3f5f\",\"arrowhead\":0,\"arrowwidth\":1},\"autotypenumbers\":\"strict\",\"coloraxis\":{\"colorbar\":{\"outlinewidth\":0,\"ticks\":\"\"}},\"colorscale\":{\"diverging\":[[0,\"#8e0152\"],[0.1,\"#c51b7d\"],[0.2,\"#de77ae\"],[0.3,\"#f1b6da\"],[0.4,\"#fde0ef\"],[0.5,\"#f7f7f7\"],[0.6,\"#e6f5d0\"],[0.7,\"#b8e186\"],[0.8,\"#7fbc41\"],[0.9,\"#4d9221\"],[1,\"#276419\"]],\"sequential\":[[0.0,\"#0d0887\"],[0.1111111111111111,\"#46039f\"],[0.2222222222222222,\"#7201a8\"],[0.3333333333333333,\"#9c179e\"],[0.4444444444444444,\"#bd3786\"],[0.5555555555555556,\"#d8576b\"],[0.6666666666666666,\"#ed7953\"],[0.7777777777777778,\"#fb9f3a\"],[0.8888888888888888,\"#fdca26\"],[1.0,\"#f0f921\"]],\"sequentialminus\":[[0.0,\"#0d0887\"],[0.1111111111111111,\"#46039f\"],[0.2222222222222222,\"#7201a8\"],[0.3333333333333333,\"#9c179e\"],[0.4444444444444444,\"#bd3786\"],[0.5555555555555556,\"#d8576b\"],[0.6666666666666666,\"#ed7953\"],[0.7777777777777778,\"#fb9f3a\"],[0.8888888888888888,\"#fdca26\"],[1.0,\"#f0f921\"]]},\"colorway\":[\"#636efa\",\"#EF553B\",\"#00cc96\",\"#ab63fa\",\"#FFA15A\",\"#19d3f3\",\"#FF6692\",\"#B6E880\",\"#FF97FF\",\"#FECB52\"],\"font\":{\"color\":\"#2a3f5f\"},\"geo\":{\"bgcolor\":\"white\",\"lakecolor\":\"white\",\"landcolor\":\"#E5ECF6\",\"showlakes\":true,\"showland\":true,\"subunitcolor\":\"white\"},\"hoverlabel\":{\"align\":\"left\"},\"hovermode\":\"closest\",\"mapbox\":{\"style\":\"light\"},\"paper_bgcolor\":\"white\",\"plot_bgcolor\":\"#E5ECF6\",\"polar\":{\"angularaxis\":{\"gridcolor\":\"white\",\"linecolor\":\"white\",\"ticks\":\"\"},\"bgcolor\":\"#E5ECF6\",\"radialaxis\":{\"gridcolor\":\"white\",\"linecolor\":\"white\",\"ticks\":\"\"}},\"scene\":{\"xaxis\":{\"backgroundcolor\":\"#E5ECF6\",\"gridcolor\":\"white\",\"gridwidth\":2,\"linecolor\":\"white\",\"showbackground\":true,\"ticks\":\"\",\"zerolinecolor\":\"white\"},\"yaxis\":{\"backgroundcolor\":\"#E5ECF6\",\"gridcolor\":\"white\",\"gridwidth\":2,\"linecolor\":\"white\",\"showbackground\":true,\"ticks\":\"\",\"zerolinecolor\":\"white\"},\"zaxis\":{\"backgroundcolor\":\"#E5ECF6\",\"gridcolor\":\"white\",\"gridwidth\":2,\"linecolor\":\"white\",\"showbackground\":true,\"ticks\":\"\",\"zerolinecolor\":\"white\"}},\"shapedefaults\":{\"line\":{\"color\":\"#2a3f5f\"}},\"ternary\":{\"aaxis\":{\"gridcolor\":\"white\",\"linecolor\":\"white\",\"ticks\":\"\"},\"baxis\":{\"gridcolor\":\"white\",\"linecolor\":\"white\",\"ticks\":\"\"},\"bgcolor\":\"#E5ECF6\",\"caxis\":{\"gridcolor\":\"white\",\"linecolor\":\"white\",\"ticks\":\"\"}},\"title\":{\"x\":0.05},\"xaxis\":{\"automargin\":true,\"gridcolor\":\"white\",\"linecolor\":\"white\",\"ticks\":\"\",\"title\":{\"standoff\":15},\"zerolinecolor\":\"white\",\"zerolinewidth\":2},\"yaxis\":{\"automargin\":true,\"gridcolor\":\"white\",\"linecolor\":\"white\",\"ticks\":\"\",\"title\":{\"standoff\":15},\"zerolinecolor\":\"white\",\"zerolinewidth\":2}}},\"title\":{\"font\":{\"color\":\"#4D5663\"}},\"xaxis\":{\"gridcolor\":\"#E1E5ED\",\"showgrid\":true,\"tickfont\":{\"color\":\"#4D5663\"},\"title\":{\"font\":{\"color\":\"#4D5663\"},\"text\":\"\"},\"zerolinecolor\":\"#E1E5ED\"},\"yaxis\":{\"gridcolor\":\"#E1E5ED\",\"showgrid\":true,\"tickfont\":{\"color\":\"#4D5663\"},\"title\":{\"font\":{\"color\":\"#4D5663\"},\"text\":\"\"},\"zerolinecolor\":\"#E1E5ED\"}},                        {\"showLink\": true, \"linkText\": \"Export to plot.ly\", \"plotlyServerURL\": \"https://plot.ly\", \"responsive\": true}                    ).then(function(){\n",
       "                            \n",
       "var gd = document.getElementById('a9ef92cc-18b6-47a6-8aa3-f29e6b0b6c8d');\n",
       "var x = new MutationObserver(function (mutations, observer) {{\n",
       "        var display = window.getComputedStyle(gd).display;\n",
       "        if (!display || display === 'none') {{\n",
       "            console.log([gd, 'removed!']);\n",
       "            Plotly.purge(gd);\n",
       "            observer.disconnect();\n",
       "        }}\n",
       "}});\n",
       "\n",
       "// Listen for the removal of the full notebook cells\n",
       "var notebookContainer = gd.closest('#notebook-container');\n",
       "if (notebookContainer) {{\n",
       "    x.observe(notebookContainer, {childList: true});\n",
       "}}\n",
       "\n",
       "// Listen for the clearing of the current output cell\n",
       "var outputEl = gd.closest('.output');\n",
       "if (outputEl) {{\n",
       "    x.observe(outputEl, {childList: true});\n",
       "}}\n",
       "\n",
       "                        })                };                });            </script>        </div>"
      ]
     },
     "metadata": {},
     "output_type": "display_data"
    }
   ],
   "source": [
    "df['A'].iplot(kind='hist')"
   ]
  },
  {
   "cell_type": "code",
   "execution_count": 41,
   "id": "2fbc5524",
   "metadata": {},
   "outputs": [
    {
     "data": {
      "application/vnd.plotly.v1+json": {
       "config": {
        "linkText": "Export to plot.ly",
        "plotlyServerURL": "https://plot.ly",
        "showLink": true
       },
       "data": [
        {
         "histfunc": "count",
         "histnorm": "",
         "marker": {
          "color": "rgba(255, 153, 51, 1.0)",
          "line": {
           "color": "#4D5663",
           "width": 1.3
          }
         },
         "name": "A",
         "opacity": 0.8,
         "orientation": "v",
         "type": "histogram",
         "x": [
          0.7206021595231069,
          0.600148426769176,
          0.4104359743616993,
          1.5970755667006848,
          -1.2936619515577568,
          -0.8247653726117883,
          0.8635716441218286,
          0.9641754730341981,
          -0.023983744104136718,
          0.8936011658880695,
          -0.3997818395932563,
          -0.6968882043136051,
          -1.163879408522421,
          0.24301016267096173,
          1.5061934436070503,
          2.2293327935101708,
          -1.2735706894259167,
          0.07670212200171866,
          0.42749763295537124,
          -0.8362156804531724,
          0.23760756881529357,
          0.6125021013936939,
          0.9474786308756106,
          0.5792285211320449,
          -0.022141338115392657,
          0.1780786293235384,
          -0.4378983347210052,
          -1.9641912957964793,
          0.5884103102817879,
          1.2261746210124682,
          0.36692568501522266,
          0.5338772876220805,
          -1.0129881243922954,
          -0.05828206366226157,
          -0.4542632899292565,
          -0.9545712927080492,
          -0.4462063781298266,
          1.7850698534429827,
          -1.5714742286027275,
          -1.700569442248487,
          -0.7669013707864606,
          -3.131367504486959,
          -1.059983984922948,
          1.4162638414930868,
          1.6704485316623467,
          -0.939130190447798,
          0.8100608368265246,
          1.4254927278950735,
          0.28241386798408846,
          -0.20653442472757128,
          -1.745147679318256,
          -1.6430798662212416,
          1.3845799049888303,
          -1.378963965645226,
          -0.519571255210273,
          1.4442675469554762,
          -0.5705819989697787,
          -0.5135575214998415,
          -0.7725119707973551,
          0.4520162047149358,
          -0.7274765115358929,
          -1.3402720744289112,
          0.9327244040593339,
          -0.8271541013442341,
          -1.2064204344555705,
          0.3696430003742275,
          0.23974555131411265,
          -1.68529161912587,
          0.5231163706104487,
          0.6402595816400246,
          -0.043905994702309624,
          0.4468550288425965,
          0.37837924503019776,
          -0.033244845954011386,
          -1.1977701838216634,
          0.39756580016298637,
          -0.7081412455264934,
          0.5402103482032428,
          -1.8552901543432505,
          1.0089939294346084,
          1.587105528275671,
          -0.5601097082171755,
          0.11665409539915697,
          -0.5745241401224672,
          -2.558207307961996,
          -0.5339083790451622,
          -1.4864995681419446,
          -0.2949479595475197,
          0.6295343657985574,
          0.42971820599591787,
          1.5498386531740298,
          0.5916490519789844,
          -0.3998257461066869,
          1.9127966678340154,
          0.30283673972582165,
          0.24201125897767198,
          -1.7144830491064178,
          0.4238364675698964,
          0.60177217016106,
          -0.6508979705447588
         ]
        },
        {
         "histfunc": "count",
         "histnorm": "",
         "marker": {
          "color": "rgba(55, 128, 191, 1.0)",
          "line": {
           "color": "#4D5663",
           "width": 1.3
          }
         },
         "name": "B",
         "opacity": 0.8,
         "orientation": "v",
         "type": "histogram",
         "x": [
          0.4790002364284842,
          -0.5339133712050166,
          -0.2551232292121737,
          0.7500620133948723,
          1.0639226831377517,
          0.3028647755916625,
          0.0977690423356316,
          -0.3951140303210251,
          -0.9550331925745601,
          -0.7764745770247691,
          -1.4300120636784552,
          0.722590320396416,
          0.06063841933463821,
          0.03610652845611828,
          -0.537856030516011,
          -0.078808592696729,
          -0.3114260012747389,
          -0.8941588607600373,
          -0.5808384159219051,
          0.3834337532738288,
          0.483711206092414,
          1.6829763180132218,
          -0.8919742536174792,
          0.950467512521074,
          -0.08625549152922969,
          1.2167158329958416,
          -0.033911930360870084,
          -1.9700550067826965,
          -0.02574803290346344,
          0.3794547728684391,
          -1.4103559279651778,
          1.0208301284403738,
          -1.6901429429533048,
          1.5697762867784217,
          -1.1365048100216353,
          -0.16786990398521856,
          -1.3683080519549378,
          0.6732207688411338,
          -0.724524608367036,
          -1.6556190684717973,
          1.405498473751612,
          -1.585448471793164,
          0.39518907167519784,
          0.15531514996168058,
          -0.4328193574850774,
          -0.8375570848807239,
          2.0230704348373942,
          -0.17582755292970423,
          1.9225970664687468,
          -1.5139377738915847,
          -0.4490913077935091,
          1.2021633853196803,
          -1.1047775425974564,
          0.7485099120378153,
          -0.8506817463527888,
          -0.1508540110465642,
          -0.4806223905826818,
          -0.009409878169259062,
          -0.13773066448041185,
          0.9187758383578031,
          0.24586887682641126,
          -0.4105378015561218,
          0.7002100378602496,
          1.0152904608914048,
          -0.05662237441840279,
          -1.1519555057371014,
          0.47741060260304125,
          -0.9356334286067687,
          -0.2816607396441667,
          1.2079854210569332,
          -0.9374091758648114,
          0.33622495387200485,
          0.017240232316663457,
          0.6281700912130026,
          -1.001311001407909,
          -0.01697870692670627,
          -1.6009597764633763,
          0.12951776927639422,
          -0.4318016346568667,
          0.6446717409546772,
          -1.765416896232608,
          -0.6206312391014545,
          -0.5616885246922951,
          1.5158834462222572,
          0.40289717199054675,
          0.7031019990192451,
          -0.7247400440690024,
          -2.2789079087356514,
          0.9516348236040112,
          0.5500106106728779,
          -0.6256799087748532,
          -1.2447989248999347,
          -1.5713689300682712,
          1.6189765467065518,
          -0.352213379315518,
          -1.418362779696527,
          1.0450315791300482,
          0.15528639631566069,
          0.4511257837375593,
          -0.18485970986316355
         ]
        },
        {
         "histfunc": "count",
         "histnorm": "",
         "marker": {
          "color": "rgba(50, 171, 96, 1.0)",
          "line": {
           "color": "#4D5663",
           "width": 1.3
          }
         },
         "name": "C",
         "opacity": 0.8,
         "orientation": "v",
         "type": "histogram",
         "x": [
          -0.1710539717238674,
          0.6761120036186342,
          -0.6364901882466849,
          0.5068375166337368,
          0.8587563554081904,
          0.8815777839520635,
          1.7981957622905946,
          0.23629650342768097,
          -1.2654142235465151,
          0.9985852638112375,
          1.0140967677490105,
          1.9213050225984043,
          1.147118897460104,
          -0.5571080126333299,
          -1.5966228700302354,
          0.7799340936002608,
          -0.9773101083967402,
          1.197839159404519,
          -1.5107967182448119,
          -0.13519320205885943,
          -0.11407554694339425,
          0.0416244963029414,
          -0.11694785669789755,
          0.32555050158578663,
          -0.581746887771692,
          0.7537911994443084,
          -0.5051520940880653,
          -3.1224181613669932,
          0.25322090179614604,
          -1.709347508989651,
          -0.574636669754101,
          0.0307936632530043,
          -1.2285030245784847,
          0.2656927014665348,
          -0.3068950514033596,
          0.13240715579408738,
          0.8374575862869191,
          -1.3021623768791744,
          -1.819165996897542,
          -0.7589988455347925,
          -0.37555023383268366,
          0.17703412808151636,
          0.9212274812957582,
          2.235090436534782,
          0.22806047835346205,
          -0.15965213524816327,
          -1.8462801463145255,
          -0.5847352598471942,
          0.33665541167019086,
          0.7156454581545579,
          0.4518459352615333,
          0.3768602525240975,
          -1.0481059079241228,
          0.9391230146671161,
          -0.81760338429349,
          -1.8081487207564184,
          0.17743167887350544,
          1.039677816301545,
          -0.49954238815551105,
          -1.42924711355474,
          1.3219961035554446,
          -0.9393760389550331,
          0.3283685130185671,
          -0.23167200407406047,
          1.709823808775834,
          0.43803745965810165,
          0.8056695588712278,
          -0.8815625206777283,
          0.8010039094881437,
          0.7753082267979359,
          -0.6605696943285191,
          -0.40442949350905255,
          2.20673145237434,
          2.2480674660485405,
          2.60938032100713,
          0.543699479190823,
          0.1969871874266927,
          -0.15677733024887777,
          0.6339198380731179,
          1.4695236211918865,
          -0.46258878245316276,
          -1.417929581243472,
          -0.6428942336220342,
          -1.8015303901752648,
          -1.0836442298731181,
          0.7834492930937946,
          1.4690474511013203,
          -0.5667873756382681,
          -0.81138244564651,
          0.9312761917561393,
          0.8170173053211249,
          -0.2515329718182992,
          -0.7498444640254841,
          -1.051743373588905,
          0.004355898780761671,
          -0.14234496449937195,
          1.3343658157166423,
          1.1580565675560939,
          -0.6588853733842952,
          0.7278643918332525
         ]
        },
        {
         "histfunc": "count",
         "histnorm": "",
         "marker": {
          "color": "rgba(128, 0, 128, 1.0)",
          "line": {
           "color": "#4D5663",
           "width": 1.3
          }
         },
         "name": "D",
         "opacity": 0.8,
         "orientation": "v",
         "type": "histogram",
         "x": [
          -0.7745862644908448,
          0.5042041435436856,
          0.11653223204023365,
          -1.1959229444741741,
          -0.27292696862939264,
          0.9223229138279102,
          -0.0846199316096227,
          0.01953093084833903,
          0.6355269183584646,
          0.6666909985417896,
          0.6043012254606308,
          0.27396348046715746,
          -2.629516675257851,
          0.2797430559701173,
          0.4514205345986516,
          -0.7914312739174943,
          0.19240316995779333,
          1.4023278833167279,
          0.9432499771843861,
          1.100283579418994,
          -2.6576910228587836,
          1.220608012005847,
          0.4463762203629547,
          1.0628130916520049,
          -0.08333665257748994,
          -0.8198554339209732,
          0.08681325176953446,
          0.002710946088567911,
          -0.9134745712232382,
          -1.3781752896942985,
          -0.49077781599685016,
          0.7299785382485134,
          -0.374019643846917,
          0.43339476120969894,
          2.1120018359857964,
          -0.07222056301967658,
          -1.118430611101756,
          0.4993823157143268,
          0.7955688060257385,
          -0.3882653775714211,
          0.8007652045697838,
          -1.643699036934892,
          -1.9886441019258725,
          1.4829454813526062,
          -0.9416601411402572,
          0.15063360347531604,
          0.14947421761858792,
          -0.060953335646296604,
          0.35351471505754173,
          -0.08085370059267592,
          -1.0652731210957525,
          -1.4754535838547946,
          0.6744817451168268,
          -1.8282248056546728,
          0.23187428799008547,
          -1.4106370686259977,
          -0.11648195669724136,
          -0.5618073610721529,
          0.2428333967215472,
          0.5161467385849521,
          0.948845713709916,
          0.07121176051622159,
          -0.2594612478430401,
          0.5682260787378328,
          0.6442418035769039,
          0.16342408166701317,
          0.6225775683828786,
          -1.5409881668264611,
          -0.3367059484787146,
          0.3606308288750878,
          0.24475939866764343,
          1.6498950074974856,
          -1.1609072949372032,
          -1.240376311437029,
          -1.3595294482528577,
          -0.4989867375652803,
          -0.994521889530649,
          0.5238788685754128,
          -0.5126883562085743,
          1.638572633652777,
          1.1704216773919038,
          -0.3892984266145127,
          -1.9701693154051056,
          0.9541009998491473,
          -0.38294091155112997,
          -0.37783741567692064,
          0.007545114995654143,
          1.0102458239343455,
          -0.08041770515079398,
          -0.4099862221534074,
          -0.839011880668791,
          -0.8332599606848795,
          -1.058238678493066,
          -0.8706724320299088,
          -0.5342859606428391,
          -0.9274468507913998,
          0.8428645004405348,
          0.0021456148799246432,
          -0.7677208360543195,
          1.1517078376841599
         ]
        }
       ],
       "layout": {
        "barmode": "overlay",
        "legend": {
         "bgcolor": "#F5F6F9",
         "font": {
          "color": "#4D5663"
         }
        },
        "paper_bgcolor": "#F5F6F9",
        "plot_bgcolor": "#F5F6F9",
        "template": {
         "data": {
          "bar": [
           {
            "error_x": {
             "color": "#2a3f5f"
            },
            "error_y": {
             "color": "#2a3f5f"
            },
            "marker": {
             "line": {
              "color": "#E5ECF6",
              "width": 0.5
             },
             "pattern": {
              "fillmode": "overlay",
              "size": 10,
              "solidity": 0.2
             }
            },
            "type": "bar"
           }
          ],
          "barpolar": [
           {
            "marker": {
             "line": {
              "color": "#E5ECF6",
              "width": 0.5
             },
             "pattern": {
              "fillmode": "overlay",
              "size": 10,
              "solidity": 0.2
             }
            },
            "type": "barpolar"
           }
          ],
          "carpet": [
           {
            "aaxis": {
             "endlinecolor": "#2a3f5f",
             "gridcolor": "white",
             "linecolor": "white",
             "minorgridcolor": "white",
             "startlinecolor": "#2a3f5f"
            },
            "baxis": {
             "endlinecolor": "#2a3f5f",
             "gridcolor": "white",
             "linecolor": "white",
             "minorgridcolor": "white",
             "startlinecolor": "#2a3f5f"
            },
            "type": "carpet"
           }
          ],
          "choropleth": [
           {
            "colorbar": {
             "outlinewidth": 0,
             "ticks": ""
            },
            "type": "choropleth"
           }
          ],
          "contour": [
           {
            "colorbar": {
             "outlinewidth": 0,
             "ticks": ""
            },
            "colorscale": [
             [
              0,
              "#0d0887"
             ],
             [
              0.1111111111111111,
              "#46039f"
             ],
             [
              0.2222222222222222,
              "#7201a8"
             ],
             [
              0.3333333333333333,
              "#9c179e"
             ],
             [
              0.4444444444444444,
              "#bd3786"
             ],
             [
              0.5555555555555556,
              "#d8576b"
             ],
             [
              0.6666666666666666,
              "#ed7953"
             ],
             [
              0.7777777777777778,
              "#fb9f3a"
             ],
             [
              0.8888888888888888,
              "#fdca26"
             ],
             [
              1,
              "#f0f921"
             ]
            ],
            "type": "contour"
           }
          ],
          "contourcarpet": [
           {
            "colorbar": {
             "outlinewidth": 0,
             "ticks": ""
            },
            "type": "contourcarpet"
           }
          ],
          "heatmap": [
           {
            "colorbar": {
             "outlinewidth": 0,
             "ticks": ""
            },
            "colorscale": [
             [
              0,
              "#0d0887"
             ],
             [
              0.1111111111111111,
              "#46039f"
             ],
             [
              0.2222222222222222,
              "#7201a8"
             ],
             [
              0.3333333333333333,
              "#9c179e"
             ],
             [
              0.4444444444444444,
              "#bd3786"
             ],
             [
              0.5555555555555556,
              "#d8576b"
             ],
             [
              0.6666666666666666,
              "#ed7953"
             ],
             [
              0.7777777777777778,
              "#fb9f3a"
             ],
             [
              0.8888888888888888,
              "#fdca26"
             ],
             [
              1,
              "#f0f921"
             ]
            ],
            "type": "heatmap"
           }
          ],
          "heatmapgl": [
           {
            "colorbar": {
             "outlinewidth": 0,
             "ticks": ""
            },
            "colorscale": [
             [
              0,
              "#0d0887"
             ],
             [
              0.1111111111111111,
              "#46039f"
             ],
             [
              0.2222222222222222,
              "#7201a8"
             ],
             [
              0.3333333333333333,
              "#9c179e"
             ],
             [
              0.4444444444444444,
              "#bd3786"
             ],
             [
              0.5555555555555556,
              "#d8576b"
             ],
             [
              0.6666666666666666,
              "#ed7953"
             ],
             [
              0.7777777777777778,
              "#fb9f3a"
             ],
             [
              0.8888888888888888,
              "#fdca26"
             ],
             [
              1,
              "#f0f921"
             ]
            ],
            "type": "heatmapgl"
           }
          ],
          "histogram": [
           {
            "marker": {
             "pattern": {
              "fillmode": "overlay",
              "size": 10,
              "solidity": 0.2
             }
            },
            "type": "histogram"
           }
          ],
          "histogram2d": [
           {
            "colorbar": {
             "outlinewidth": 0,
             "ticks": ""
            },
            "colorscale": [
             [
              0,
              "#0d0887"
             ],
             [
              0.1111111111111111,
              "#46039f"
             ],
             [
              0.2222222222222222,
              "#7201a8"
             ],
             [
              0.3333333333333333,
              "#9c179e"
             ],
             [
              0.4444444444444444,
              "#bd3786"
             ],
             [
              0.5555555555555556,
              "#d8576b"
             ],
             [
              0.6666666666666666,
              "#ed7953"
             ],
             [
              0.7777777777777778,
              "#fb9f3a"
             ],
             [
              0.8888888888888888,
              "#fdca26"
             ],
             [
              1,
              "#f0f921"
             ]
            ],
            "type": "histogram2d"
           }
          ],
          "histogram2dcontour": [
           {
            "colorbar": {
             "outlinewidth": 0,
             "ticks": ""
            },
            "colorscale": [
             [
              0,
              "#0d0887"
             ],
             [
              0.1111111111111111,
              "#46039f"
             ],
             [
              0.2222222222222222,
              "#7201a8"
             ],
             [
              0.3333333333333333,
              "#9c179e"
             ],
             [
              0.4444444444444444,
              "#bd3786"
             ],
             [
              0.5555555555555556,
              "#d8576b"
             ],
             [
              0.6666666666666666,
              "#ed7953"
             ],
             [
              0.7777777777777778,
              "#fb9f3a"
             ],
             [
              0.8888888888888888,
              "#fdca26"
             ],
             [
              1,
              "#f0f921"
             ]
            ],
            "type": "histogram2dcontour"
           }
          ],
          "mesh3d": [
           {
            "colorbar": {
             "outlinewidth": 0,
             "ticks": ""
            },
            "type": "mesh3d"
           }
          ],
          "parcoords": [
           {
            "line": {
             "colorbar": {
              "outlinewidth": 0,
              "ticks": ""
             }
            },
            "type": "parcoords"
           }
          ],
          "pie": [
           {
            "automargin": true,
            "type": "pie"
           }
          ],
          "scatter": [
           {
            "marker": {
             "colorbar": {
              "outlinewidth": 0,
              "ticks": ""
             }
            },
            "type": "scatter"
           }
          ],
          "scatter3d": [
           {
            "line": {
             "colorbar": {
              "outlinewidth": 0,
              "ticks": ""
             }
            },
            "marker": {
             "colorbar": {
              "outlinewidth": 0,
              "ticks": ""
             }
            },
            "type": "scatter3d"
           }
          ],
          "scattercarpet": [
           {
            "marker": {
             "colorbar": {
              "outlinewidth": 0,
              "ticks": ""
             }
            },
            "type": "scattercarpet"
           }
          ],
          "scattergeo": [
           {
            "marker": {
             "colorbar": {
              "outlinewidth": 0,
              "ticks": ""
             }
            },
            "type": "scattergeo"
           }
          ],
          "scattergl": [
           {
            "marker": {
             "colorbar": {
              "outlinewidth": 0,
              "ticks": ""
             }
            },
            "type": "scattergl"
           }
          ],
          "scattermapbox": [
           {
            "marker": {
             "colorbar": {
              "outlinewidth": 0,
              "ticks": ""
             }
            },
            "type": "scattermapbox"
           }
          ],
          "scatterpolar": [
           {
            "marker": {
             "colorbar": {
              "outlinewidth": 0,
              "ticks": ""
             }
            },
            "type": "scatterpolar"
           }
          ],
          "scatterpolargl": [
           {
            "marker": {
             "colorbar": {
              "outlinewidth": 0,
              "ticks": ""
             }
            },
            "type": "scatterpolargl"
           }
          ],
          "scatterternary": [
           {
            "marker": {
             "colorbar": {
              "outlinewidth": 0,
              "ticks": ""
             }
            },
            "type": "scatterternary"
           }
          ],
          "surface": [
           {
            "colorbar": {
             "outlinewidth": 0,
             "ticks": ""
            },
            "colorscale": [
             [
              0,
              "#0d0887"
             ],
             [
              0.1111111111111111,
              "#46039f"
             ],
             [
              0.2222222222222222,
              "#7201a8"
             ],
             [
              0.3333333333333333,
              "#9c179e"
             ],
             [
              0.4444444444444444,
              "#bd3786"
             ],
             [
              0.5555555555555556,
              "#d8576b"
             ],
             [
              0.6666666666666666,
              "#ed7953"
             ],
             [
              0.7777777777777778,
              "#fb9f3a"
             ],
             [
              0.8888888888888888,
              "#fdca26"
             ],
             [
              1,
              "#f0f921"
             ]
            ],
            "type": "surface"
           }
          ],
          "table": [
           {
            "cells": {
             "fill": {
              "color": "#EBF0F8"
             },
             "line": {
              "color": "white"
             }
            },
            "header": {
             "fill": {
              "color": "#C8D4E3"
             },
             "line": {
              "color": "white"
             }
            },
            "type": "table"
           }
          ]
         },
         "layout": {
          "annotationdefaults": {
           "arrowcolor": "#2a3f5f",
           "arrowhead": 0,
           "arrowwidth": 1
          },
          "autotypenumbers": "strict",
          "coloraxis": {
           "colorbar": {
            "outlinewidth": 0,
            "ticks": ""
           }
          },
          "colorscale": {
           "diverging": [
            [
             0,
             "#8e0152"
            ],
            [
             0.1,
             "#c51b7d"
            ],
            [
             0.2,
             "#de77ae"
            ],
            [
             0.3,
             "#f1b6da"
            ],
            [
             0.4,
             "#fde0ef"
            ],
            [
             0.5,
             "#f7f7f7"
            ],
            [
             0.6,
             "#e6f5d0"
            ],
            [
             0.7,
             "#b8e186"
            ],
            [
             0.8,
             "#7fbc41"
            ],
            [
             0.9,
             "#4d9221"
            ],
            [
             1,
             "#276419"
            ]
           ],
           "sequential": [
            [
             0,
             "#0d0887"
            ],
            [
             0.1111111111111111,
             "#46039f"
            ],
            [
             0.2222222222222222,
             "#7201a8"
            ],
            [
             0.3333333333333333,
             "#9c179e"
            ],
            [
             0.4444444444444444,
             "#bd3786"
            ],
            [
             0.5555555555555556,
             "#d8576b"
            ],
            [
             0.6666666666666666,
             "#ed7953"
            ],
            [
             0.7777777777777778,
             "#fb9f3a"
            ],
            [
             0.8888888888888888,
             "#fdca26"
            ],
            [
             1,
             "#f0f921"
            ]
           ],
           "sequentialminus": [
            [
             0,
             "#0d0887"
            ],
            [
             0.1111111111111111,
             "#46039f"
            ],
            [
             0.2222222222222222,
             "#7201a8"
            ],
            [
             0.3333333333333333,
             "#9c179e"
            ],
            [
             0.4444444444444444,
             "#bd3786"
            ],
            [
             0.5555555555555556,
             "#d8576b"
            ],
            [
             0.6666666666666666,
             "#ed7953"
            ],
            [
             0.7777777777777778,
             "#fb9f3a"
            ],
            [
             0.8888888888888888,
             "#fdca26"
            ],
            [
             1,
             "#f0f921"
            ]
           ]
          },
          "colorway": [
           "#636efa",
           "#EF553B",
           "#00cc96",
           "#ab63fa",
           "#FFA15A",
           "#19d3f3",
           "#FF6692",
           "#B6E880",
           "#FF97FF",
           "#FECB52"
          ],
          "font": {
           "color": "#2a3f5f"
          },
          "geo": {
           "bgcolor": "white",
           "lakecolor": "white",
           "landcolor": "#E5ECF6",
           "showlakes": true,
           "showland": true,
           "subunitcolor": "white"
          },
          "hoverlabel": {
           "align": "left"
          },
          "hovermode": "closest",
          "mapbox": {
           "style": "light"
          },
          "paper_bgcolor": "white",
          "plot_bgcolor": "#E5ECF6",
          "polar": {
           "angularaxis": {
            "gridcolor": "white",
            "linecolor": "white",
            "ticks": ""
           },
           "bgcolor": "#E5ECF6",
           "radialaxis": {
            "gridcolor": "white",
            "linecolor": "white",
            "ticks": ""
           }
          },
          "scene": {
           "xaxis": {
            "backgroundcolor": "#E5ECF6",
            "gridcolor": "white",
            "gridwidth": 2,
            "linecolor": "white",
            "showbackground": true,
            "ticks": "",
            "zerolinecolor": "white"
           },
           "yaxis": {
            "backgroundcolor": "#E5ECF6",
            "gridcolor": "white",
            "gridwidth": 2,
            "linecolor": "white",
            "showbackground": true,
            "ticks": "",
            "zerolinecolor": "white"
           },
           "zaxis": {
            "backgroundcolor": "#E5ECF6",
            "gridcolor": "white",
            "gridwidth": 2,
            "linecolor": "white",
            "showbackground": true,
            "ticks": "",
            "zerolinecolor": "white"
           }
          },
          "shapedefaults": {
           "line": {
            "color": "#2a3f5f"
           }
          },
          "ternary": {
           "aaxis": {
            "gridcolor": "white",
            "linecolor": "white",
            "ticks": ""
           },
           "baxis": {
            "gridcolor": "white",
            "linecolor": "white",
            "ticks": ""
           },
           "bgcolor": "#E5ECF6",
           "caxis": {
            "gridcolor": "white",
            "linecolor": "white",
            "ticks": ""
           }
          },
          "title": {
           "x": 0.05
          },
          "xaxis": {
           "automargin": true,
           "gridcolor": "white",
           "linecolor": "white",
           "ticks": "",
           "title": {
            "standoff": 15
           },
           "zerolinecolor": "white",
           "zerolinewidth": 2
          },
          "yaxis": {
           "automargin": true,
           "gridcolor": "white",
           "linecolor": "white",
           "ticks": "",
           "title": {
            "standoff": 15
           },
           "zerolinecolor": "white",
           "zerolinewidth": 2
          }
         }
        },
        "title": {
         "font": {
          "color": "#4D5663"
         }
        },
        "xaxis": {
         "gridcolor": "#E1E5ED",
         "showgrid": true,
         "tickfont": {
          "color": "#4D5663"
         },
         "title": {
          "font": {
           "color": "#4D5663"
          },
          "text": ""
         },
         "zerolinecolor": "#E1E5ED"
        },
        "yaxis": {
         "gridcolor": "#E1E5ED",
         "showgrid": true,
         "tickfont": {
          "color": "#4D5663"
         },
         "title": {
          "font": {
           "color": "#4D5663"
          },
          "text": ""
         },
         "zerolinecolor": "#E1E5ED"
        }
       }
      },
      "text/html": [
       "<div>                            <div id=\"a4f2244b-fc1d-4b9e-977b-c71fc9d5967b\" class=\"plotly-graph-div\" style=\"height:525px; width:100%;\"></div>            <script type=\"text/javascript\">                require([\"plotly\"], function(Plotly) {                    window.PLOTLYENV=window.PLOTLYENV || {};\n",
       "                    window.PLOTLYENV.BASE_URL='https://plot.ly';                                    if (document.getElementById(\"a4f2244b-fc1d-4b9e-977b-c71fc9d5967b\")) {                    Plotly.newPlot(                        \"a4f2244b-fc1d-4b9e-977b-c71fc9d5967b\",                        [{\"histfunc\":\"count\",\"histnorm\":\"\",\"marker\":{\"color\":\"rgba(255, 153, 51, 1.0)\",\"line\":{\"color\":\"#4D5663\",\"width\":1.3}},\"name\":\"A\",\"opacity\":0.8,\"orientation\":\"v\",\"x\":[0.7206021595231069,0.600148426769176,0.4104359743616993,1.5970755667006848,-1.2936619515577568,-0.8247653726117883,0.8635716441218286,0.9641754730341981,-0.023983744104136718,0.8936011658880695,-0.3997818395932563,-0.6968882043136051,-1.163879408522421,0.24301016267096173,1.5061934436070503,2.2293327935101708,-1.2735706894259167,0.07670212200171866,0.42749763295537124,-0.8362156804531724,0.23760756881529357,0.6125021013936939,0.9474786308756106,0.5792285211320449,-0.022141338115392657,0.1780786293235384,-0.4378983347210052,-1.9641912957964793,0.5884103102817879,1.2261746210124682,0.36692568501522266,0.5338772876220805,-1.0129881243922954,-0.05828206366226157,-0.4542632899292565,-0.9545712927080492,-0.4462063781298266,1.7850698534429827,-1.5714742286027275,-1.700569442248487,-0.7669013707864606,-3.131367504486959,-1.059983984922948,1.4162638414930868,1.6704485316623467,-0.939130190447798,0.8100608368265246,1.4254927278950735,0.28241386798408846,-0.20653442472757128,-1.745147679318256,-1.6430798662212416,1.3845799049888303,-1.378963965645226,-0.519571255210273,1.4442675469554762,-0.5705819989697787,-0.5135575214998415,-0.7725119707973551,0.4520162047149358,-0.7274765115358929,-1.3402720744289112,0.9327244040593339,-0.8271541013442341,-1.2064204344555705,0.3696430003742275,0.23974555131411265,-1.68529161912587,0.5231163706104487,0.6402595816400246,-0.043905994702309624,0.4468550288425965,0.37837924503019776,-0.033244845954011386,-1.1977701838216634,0.39756580016298637,-0.7081412455264934,0.5402103482032428,-1.8552901543432505,1.0089939294346084,1.587105528275671,-0.5601097082171755,0.11665409539915697,-0.5745241401224672,-2.558207307961996,-0.5339083790451622,-1.4864995681419446,-0.2949479595475197,0.6295343657985574,0.42971820599591787,1.5498386531740298,0.5916490519789844,-0.3998257461066869,1.9127966678340154,0.30283673972582165,0.24201125897767198,-1.7144830491064178,0.4238364675698964,0.60177217016106,-0.6508979705447588],\"type\":\"histogram\"},{\"histfunc\":\"count\",\"histnorm\":\"\",\"marker\":{\"color\":\"rgba(55, 128, 191, 1.0)\",\"line\":{\"color\":\"#4D5663\",\"width\":1.3}},\"name\":\"B\",\"opacity\":0.8,\"orientation\":\"v\",\"x\":[0.4790002364284842,-0.5339133712050166,-0.2551232292121737,0.7500620133948723,1.0639226831377517,0.3028647755916625,0.0977690423356316,-0.3951140303210251,-0.9550331925745601,-0.7764745770247691,-1.4300120636784552,0.722590320396416,0.06063841933463821,0.03610652845611828,-0.537856030516011,-0.078808592696729,-0.3114260012747389,-0.8941588607600373,-0.5808384159219051,0.3834337532738288,0.483711206092414,1.6829763180132218,-0.8919742536174792,0.950467512521074,-0.08625549152922969,1.2167158329958416,-0.033911930360870084,-1.9700550067826965,-0.02574803290346344,0.3794547728684391,-1.4103559279651778,1.0208301284403738,-1.6901429429533048,1.5697762867784217,-1.1365048100216353,-0.16786990398521856,-1.3683080519549378,0.6732207688411338,-0.724524608367036,-1.6556190684717973,1.405498473751612,-1.585448471793164,0.39518907167519784,0.15531514996168058,-0.4328193574850774,-0.8375570848807239,2.0230704348373942,-0.17582755292970423,1.9225970664687468,-1.5139377738915847,-0.4490913077935091,1.2021633853196803,-1.1047775425974564,0.7485099120378153,-0.8506817463527888,-0.1508540110465642,-0.4806223905826818,-0.009409878169259062,-0.13773066448041185,0.9187758383578031,0.24586887682641126,-0.4105378015561218,0.7002100378602496,1.0152904608914048,-0.05662237441840279,-1.1519555057371014,0.47741060260304125,-0.9356334286067687,-0.2816607396441667,1.2079854210569332,-0.9374091758648114,0.33622495387200485,0.017240232316663457,0.6281700912130026,-1.001311001407909,-0.01697870692670627,-1.6009597764633763,0.12951776927639422,-0.4318016346568667,0.6446717409546772,-1.765416896232608,-0.6206312391014545,-0.5616885246922951,1.5158834462222572,0.40289717199054675,0.7031019990192451,-0.7247400440690024,-2.2789079087356514,0.9516348236040112,0.5500106106728779,-0.6256799087748532,-1.2447989248999347,-1.5713689300682712,1.6189765467065518,-0.352213379315518,-1.418362779696527,1.0450315791300482,0.15528639631566069,0.4511257837375593,-0.18485970986316355],\"type\":\"histogram\"},{\"histfunc\":\"count\",\"histnorm\":\"\",\"marker\":{\"color\":\"rgba(50, 171, 96, 1.0)\",\"line\":{\"color\":\"#4D5663\",\"width\":1.3}},\"name\":\"C\",\"opacity\":0.8,\"orientation\":\"v\",\"x\":[-0.1710539717238674,0.6761120036186342,-0.6364901882466849,0.5068375166337368,0.8587563554081904,0.8815777839520635,1.7981957622905946,0.23629650342768097,-1.2654142235465151,0.9985852638112375,1.0140967677490105,1.9213050225984043,1.147118897460104,-0.5571080126333299,-1.5966228700302354,0.7799340936002608,-0.9773101083967402,1.197839159404519,-1.5107967182448119,-0.13519320205885943,-0.11407554694339425,0.0416244963029414,-0.11694785669789755,0.32555050158578663,-0.581746887771692,0.7537911994443084,-0.5051520940880653,-3.1224181613669932,0.25322090179614604,-1.709347508989651,-0.574636669754101,0.0307936632530043,-1.2285030245784847,0.2656927014665348,-0.3068950514033596,0.13240715579408738,0.8374575862869191,-1.3021623768791744,-1.819165996897542,-0.7589988455347925,-0.37555023383268366,0.17703412808151636,0.9212274812957582,2.235090436534782,0.22806047835346205,-0.15965213524816327,-1.8462801463145255,-0.5847352598471942,0.33665541167019086,0.7156454581545579,0.4518459352615333,0.3768602525240975,-1.0481059079241228,0.9391230146671161,-0.81760338429349,-1.8081487207564184,0.17743167887350544,1.039677816301545,-0.49954238815551105,-1.42924711355474,1.3219961035554446,-0.9393760389550331,0.3283685130185671,-0.23167200407406047,1.709823808775834,0.43803745965810165,0.8056695588712278,-0.8815625206777283,0.8010039094881437,0.7753082267979359,-0.6605696943285191,-0.40442949350905255,2.20673145237434,2.2480674660485405,2.60938032100713,0.543699479190823,0.1969871874266927,-0.15677733024887777,0.6339198380731179,1.4695236211918865,-0.46258878245316276,-1.417929581243472,-0.6428942336220342,-1.8015303901752648,-1.0836442298731181,0.7834492930937946,1.4690474511013203,-0.5667873756382681,-0.81138244564651,0.9312761917561393,0.8170173053211249,-0.2515329718182992,-0.7498444640254841,-1.051743373588905,0.004355898780761671,-0.14234496449937195,1.3343658157166423,1.1580565675560939,-0.6588853733842952,0.7278643918332525],\"type\":\"histogram\"},{\"histfunc\":\"count\",\"histnorm\":\"\",\"marker\":{\"color\":\"rgba(128, 0, 128, 1.0)\",\"line\":{\"color\":\"#4D5663\",\"width\":1.3}},\"name\":\"D\",\"opacity\":0.8,\"orientation\":\"v\",\"x\":[-0.7745862644908448,0.5042041435436856,0.11653223204023365,-1.1959229444741741,-0.27292696862939264,0.9223229138279102,-0.0846199316096227,0.01953093084833903,0.6355269183584646,0.6666909985417896,0.6043012254606308,0.27396348046715746,-2.629516675257851,0.2797430559701173,0.4514205345986516,-0.7914312739174943,0.19240316995779333,1.4023278833167279,0.9432499771843861,1.100283579418994,-2.6576910228587836,1.220608012005847,0.4463762203629547,1.0628130916520049,-0.08333665257748994,-0.8198554339209732,0.08681325176953446,0.002710946088567911,-0.9134745712232382,-1.3781752896942985,-0.49077781599685016,0.7299785382485134,-0.374019643846917,0.43339476120969894,2.1120018359857964,-0.07222056301967658,-1.118430611101756,0.4993823157143268,0.7955688060257385,-0.3882653775714211,0.8007652045697838,-1.643699036934892,-1.9886441019258725,1.4829454813526062,-0.9416601411402572,0.15063360347531604,0.14947421761858792,-0.060953335646296604,0.35351471505754173,-0.08085370059267592,-1.0652731210957525,-1.4754535838547946,0.6744817451168268,-1.8282248056546728,0.23187428799008547,-1.4106370686259977,-0.11648195669724136,-0.5618073610721529,0.2428333967215472,0.5161467385849521,0.948845713709916,0.07121176051622159,-0.2594612478430401,0.5682260787378328,0.6442418035769039,0.16342408166701317,0.6225775683828786,-1.5409881668264611,-0.3367059484787146,0.3606308288750878,0.24475939866764343,1.6498950074974856,-1.1609072949372032,-1.240376311437029,-1.3595294482528577,-0.4989867375652803,-0.994521889530649,0.5238788685754128,-0.5126883562085743,1.638572633652777,1.1704216773919038,-0.3892984266145127,-1.9701693154051056,0.9541009998491473,-0.38294091155112997,-0.37783741567692064,0.007545114995654143,1.0102458239343455,-0.08041770515079398,-0.4099862221534074,-0.839011880668791,-0.8332599606848795,-1.058238678493066,-0.8706724320299088,-0.5342859606428391,-0.9274468507913998,0.8428645004405348,0.0021456148799246432,-0.7677208360543195,1.1517078376841599],\"type\":\"histogram\"}],                        {\"barmode\":\"overlay\",\"legend\":{\"bgcolor\":\"#F5F6F9\",\"font\":{\"color\":\"#4D5663\"}},\"paper_bgcolor\":\"#F5F6F9\",\"plot_bgcolor\":\"#F5F6F9\",\"template\":{\"data\":{\"barpolar\":[{\"marker\":{\"line\":{\"color\":\"#E5ECF6\",\"width\":0.5},\"pattern\":{\"fillmode\":\"overlay\",\"size\":10,\"solidity\":0.2}},\"type\":\"barpolar\"}],\"bar\":[{\"error_x\":{\"color\":\"#2a3f5f\"},\"error_y\":{\"color\":\"#2a3f5f\"},\"marker\":{\"line\":{\"color\":\"#E5ECF6\",\"width\":0.5},\"pattern\":{\"fillmode\":\"overlay\",\"size\":10,\"solidity\":0.2}},\"type\":\"bar\"}],\"carpet\":[{\"aaxis\":{\"endlinecolor\":\"#2a3f5f\",\"gridcolor\":\"white\",\"linecolor\":\"white\",\"minorgridcolor\":\"white\",\"startlinecolor\":\"#2a3f5f\"},\"baxis\":{\"endlinecolor\":\"#2a3f5f\",\"gridcolor\":\"white\",\"linecolor\":\"white\",\"minorgridcolor\":\"white\",\"startlinecolor\":\"#2a3f5f\"},\"type\":\"carpet\"}],\"choropleth\":[{\"colorbar\":{\"outlinewidth\":0,\"ticks\":\"\"},\"type\":\"choropleth\"}],\"contourcarpet\":[{\"colorbar\":{\"outlinewidth\":0,\"ticks\":\"\"},\"type\":\"contourcarpet\"}],\"contour\":[{\"colorbar\":{\"outlinewidth\":0,\"ticks\":\"\"},\"colorscale\":[[0.0,\"#0d0887\"],[0.1111111111111111,\"#46039f\"],[0.2222222222222222,\"#7201a8\"],[0.3333333333333333,\"#9c179e\"],[0.4444444444444444,\"#bd3786\"],[0.5555555555555556,\"#d8576b\"],[0.6666666666666666,\"#ed7953\"],[0.7777777777777778,\"#fb9f3a\"],[0.8888888888888888,\"#fdca26\"],[1.0,\"#f0f921\"]],\"type\":\"contour\"}],\"heatmapgl\":[{\"colorbar\":{\"outlinewidth\":0,\"ticks\":\"\"},\"colorscale\":[[0.0,\"#0d0887\"],[0.1111111111111111,\"#46039f\"],[0.2222222222222222,\"#7201a8\"],[0.3333333333333333,\"#9c179e\"],[0.4444444444444444,\"#bd3786\"],[0.5555555555555556,\"#d8576b\"],[0.6666666666666666,\"#ed7953\"],[0.7777777777777778,\"#fb9f3a\"],[0.8888888888888888,\"#fdca26\"],[1.0,\"#f0f921\"]],\"type\":\"heatmapgl\"}],\"heatmap\":[{\"colorbar\":{\"outlinewidth\":0,\"ticks\":\"\"},\"colorscale\":[[0.0,\"#0d0887\"],[0.1111111111111111,\"#46039f\"],[0.2222222222222222,\"#7201a8\"],[0.3333333333333333,\"#9c179e\"],[0.4444444444444444,\"#bd3786\"],[0.5555555555555556,\"#d8576b\"],[0.6666666666666666,\"#ed7953\"],[0.7777777777777778,\"#fb9f3a\"],[0.8888888888888888,\"#fdca26\"],[1.0,\"#f0f921\"]],\"type\":\"heatmap\"}],\"histogram2dcontour\":[{\"colorbar\":{\"outlinewidth\":0,\"ticks\":\"\"},\"colorscale\":[[0.0,\"#0d0887\"],[0.1111111111111111,\"#46039f\"],[0.2222222222222222,\"#7201a8\"],[0.3333333333333333,\"#9c179e\"],[0.4444444444444444,\"#bd3786\"],[0.5555555555555556,\"#d8576b\"],[0.6666666666666666,\"#ed7953\"],[0.7777777777777778,\"#fb9f3a\"],[0.8888888888888888,\"#fdca26\"],[1.0,\"#f0f921\"]],\"type\":\"histogram2dcontour\"}],\"histogram2d\":[{\"colorbar\":{\"outlinewidth\":0,\"ticks\":\"\"},\"colorscale\":[[0.0,\"#0d0887\"],[0.1111111111111111,\"#46039f\"],[0.2222222222222222,\"#7201a8\"],[0.3333333333333333,\"#9c179e\"],[0.4444444444444444,\"#bd3786\"],[0.5555555555555556,\"#d8576b\"],[0.6666666666666666,\"#ed7953\"],[0.7777777777777778,\"#fb9f3a\"],[0.8888888888888888,\"#fdca26\"],[1.0,\"#f0f921\"]],\"type\":\"histogram2d\"}],\"histogram\":[{\"marker\":{\"pattern\":{\"fillmode\":\"overlay\",\"size\":10,\"solidity\":0.2}},\"type\":\"histogram\"}],\"mesh3d\":[{\"colorbar\":{\"outlinewidth\":0,\"ticks\":\"\"},\"type\":\"mesh3d\"}],\"parcoords\":[{\"line\":{\"colorbar\":{\"outlinewidth\":0,\"ticks\":\"\"}},\"type\":\"parcoords\"}],\"pie\":[{\"automargin\":true,\"type\":\"pie\"}],\"scatter3d\":[{\"line\":{\"colorbar\":{\"outlinewidth\":0,\"ticks\":\"\"}},\"marker\":{\"colorbar\":{\"outlinewidth\":0,\"ticks\":\"\"}},\"type\":\"scatter3d\"}],\"scattercarpet\":[{\"marker\":{\"colorbar\":{\"outlinewidth\":0,\"ticks\":\"\"}},\"type\":\"scattercarpet\"}],\"scattergeo\":[{\"marker\":{\"colorbar\":{\"outlinewidth\":0,\"ticks\":\"\"}},\"type\":\"scattergeo\"}],\"scattergl\":[{\"marker\":{\"colorbar\":{\"outlinewidth\":0,\"ticks\":\"\"}},\"type\":\"scattergl\"}],\"scattermapbox\":[{\"marker\":{\"colorbar\":{\"outlinewidth\":0,\"ticks\":\"\"}},\"type\":\"scattermapbox\"}],\"scatterpolargl\":[{\"marker\":{\"colorbar\":{\"outlinewidth\":0,\"ticks\":\"\"}},\"type\":\"scatterpolargl\"}],\"scatterpolar\":[{\"marker\":{\"colorbar\":{\"outlinewidth\":0,\"ticks\":\"\"}},\"type\":\"scatterpolar\"}],\"scatter\":[{\"marker\":{\"colorbar\":{\"outlinewidth\":0,\"ticks\":\"\"}},\"type\":\"scatter\"}],\"scatterternary\":[{\"marker\":{\"colorbar\":{\"outlinewidth\":0,\"ticks\":\"\"}},\"type\":\"scatterternary\"}],\"surface\":[{\"colorbar\":{\"outlinewidth\":0,\"ticks\":\"\"},\"colorscale\":[[0.0,\"#0d0887\"],[0.1111111111111111,\"#46039f\"],[0.2222222222222222,\"#7201a8\"],[0.3333333333333333,\"#9c179e\"],[0.4444444444444444,\"#bd3786\"],[0.5555555555555556,\"#d8576b\"],[0.6666666666666666,\"#ed7953\"],[0.7777777777777778,\"#fb9f3a\"],[0.8888888888888888,\"#fdca26\"],[1.0,\"#f0f921\"]],\"type\":\"surface\"}],\"table\":[{\"cells\":{\"fill\":{\"color\":\"#EBF0F8\"},\"line\":{\"color\":\"white\"}},\"header\":{\"fill\":{\"color\":\"#C8D4E3\"},\"line\":{\"color\":\"white\"}},\"type\":\"table\"}]},\"layout\":{\"annotationdefaults\":{\"arrowcolor\":\"#2a3f5f\",\"arrowhead\":0,\"arrowwidth\":1},\"autotypenumbers\":\"strict\",\"coloraxis\":{\"colorbar\":{\"outlinewidth\":0,\"ticks\":\"\"}},\"colorscale\":{\"diverging\":[[0,\"#8e0152\"],[0.1,\"#c51b7d\"],[0.2,\"#de77ae\"],[0.3,\"#f1b6da\"],[0.4,\"#fde0ef\"],[0.5,\"#f7f7f7\"],[0.6,\"#e6f5d0\"],[0.7,\"#b8e186\"],[0.8,\"#7fbc41\"],[0.9,\"#4d9221\"],[1,\"#276419\"]],\"sequential\":[[0.0,\"#0d0887\"],[0.1111111111111111,\"#46039f\"],[0.2222222222222222,\"#7201a8\"],[0.3333333333333333,\"#9c179e\"],[0.4444444444444444,\"#bd3786\"],[0.5555555555555556,\"#d8576b\"],[0.6666666666666666,\"#ed7953\"],[0.7777777777777778,\"#fb9f3a\"],[0.8888888888888888,\"#fdca26\"],[1.0,\"#f0f921\"]],\"sequentialminus\":[[0.0,\"#0d0887\"],[0.1111111111111111,\"#46039f\"],[0.2222222222222222,\"#7201a8\"],[0.3333333333333333,\"#9c179e\"],[0.4444444444444444,\"#bd3786\"],[0.5555555555555556,\"#d8576b\"],[0.6666666666666666,\"#ed7953\"],[0.7777777777777778,\"#fb9f3a\"],[0.8888888888888888,\"#fdca26\"],[1.0,\"#f0f921\"]]},\"colorway\":[\"#636efa\",\"#EF553B\",\"#00cc96\",\"#ab63fa\",\"#FFA15A\",\"#19d3f3\",\"#FF6692\",\"#B6E880\",\"#FF97FF\",\"#FECB52\"],\"font\":{\"color\":\"#2a3f5f\"},\"geo\":{\"bgcolor\":\"white\",\"lakecolor\":\"white\",\"landcolor\":\"#E5ECF6\",\"showlakes\":true,\"showland\":true,\"subunitcolor\":\"white\"},\"hoverlabel\":{\"align\":\"left\"},\"hovermode\":\"closest\",\"mapbox\":{\"style\":\"light\"},\"paper_bgcolor\":\"white\",\"plot_bgcolor\":\"#E5ECF6\",\"polar\":{\"angularaxis\":{\"gridcolor\":\"white\",\"linecolor\":\"white\",\"ticks\":\"\"},\"bgcolor\":\"#E5ECF6\",\"radialaxis\":{\"gridcolor\":\"white\",\"linecolor\":\"white\",\"ticks\":\"\"}},\"scene\":{\"xaxis\":{\"backgroundcolor\":\"#E5ECF6\",\"gridcolor\":\"white\",\"gridwidth\":2,\"linecolor\":\"white\",\"showbackground\":true,\"ticks\":\"\",\"zerolinecolor\":\"white\"},\"yaxis\":{\"backgroundcolor\":\"#E5ECF6\",\"gridcolor\":\"white\",\"gridwidth\":2,\"linecolor\":\"white\",\"showbackground\":true,\"ticks\":\"\",\"zerolinecolor\":\"white\"},\"zaxis\":{\"backgroundcolor\":\"#E5ECF6\",\"gridcolor\":\"white\",\"gridwidth\":2,\"linecolor\":\"white\",\"showbackground\":true,\"ticks\":\"\",\"zerolinecolor\":\"white\"}},\"shapedefaults\":{\"line\":{\"color\":\"#2a3f5f\"}},\"ternary\":{\"aaxis\":{\"gridcolor\":\"white\",\"linecolor\":\"white\",\"ticks\":\"\"},\"baxis\":{\"gridcolor\":\"white\",\"linecolor\":\"white\",\"ticks\":\"\"},\"bgcolor\":\"#E5ECF6\",\"caxis\":{\"gridcolor\":\"white\",\"linecolor\":\"white\",\"ticks\":\"\"}},\"title\":{\"x\":0.05},\"xaxis\":{\"automargin\":true,\"gridcolor\":\"white\",\"linecolor\":\"white\",\"ticks\":\"\",\"title\":{\"standoff\":15},\"zerolinecolor\":\"white\",\"zerolinewidth\":2},\"yaxis\":{\"automargin\":true,\"gridcolor\":\"white\",\"linecolor\":\"white\",\"ticks\":\"\",\"title\":{\"standoff\":15},\"zerolinecolor\":\"white\",\"zerolinewidth\":2}}},\"title\":{\"font\":{\"color\":\"#4D5663\"}},\"xaxis\":{\"gridcolor\":\"#E1E5ED\",\"showgrid\":true,\"tickfont\":{\"color\":\"#4D5663\"},\"title\":{\"font\":{\"color\":\"#4D5663\"},\"text\":\"\"},\"zerolinecolor\":\"#E1E5ED\"},\"yaxis\":{\"gridcolor\":\"#E1E5ED\",\"showgrid\":true,\"tickfont\":{\"color\":\"#4D5663\"},\"title\":{\"font\":{\"color\":\"#4D5663\"},\"text\":\"\"},\"zerolinecolor\":\"#E1E5ED\"}},                        {\"showLink\": true, \"linkText\": \"Export to plot.ly\", \"plotlyServerURL\": \"https://plot.ly\", \"responsive\": true}                    ).then(function(){\n",
       "                            \n",
       "var gd = document.getElementById('a4f2244b-fc1d-4b9e-977b-c71fc9d5967b');\n",
       "var x = new MutationObserver(function (mutations, observer) {{\n",
       "        var display = window.getComputedStyle(gd).display;\n",
       "        if (!display || display === 'none') {{\n",
       "            console.log([gd, 'removed!']);\n",
       "            Plotly.purge(gd);\n",
       "            observer.disconnect();\n",
       "        }}\n",
       "}});\n",
       "\n",
       "// Listen for the removal of the full notebook cells\n",
       "var notebookContainer = gd.closest('#notebook-container');\n",
       "if (notebookContainer) {{\n",
       "    x.observe(notebookContainer, {childList: true});\n",
       "}}\n",
       "\n",
       "// Listen for the clearing of the current output cell\n",
       "var outputEl = gd.closest('.output');\n",
       "if (outputEl) {{\n",
       "    x.observe(outputEl, {childList: true});\n",
       "}}\n",
       "\n",
       "                        })                };                });            </script>        </div>"
      ]
     },
     "metadata": {},
     "output_type": "display_data"
    }
   ],
   "source": [
    "df.iplot(kind='hist')"
   ]
  },
  {
   "cell_type": "code",
   "execution_count": 43,
   "id": "b571b7ff",
   "metadata": {},
   "outputs": [
    {
     "name": "stderr",
     "output_type": "stream",
     "text": [
      "D:\\python\\lib\\site-packages\\cufflinks\\plotlytools.py:849: FutureWarning:\n",
      "\n",
      "The pandas.np module is deprecated and will be removed from pandas in a future version. Import numpy directly instead.\n",
      "\n",
      "D:\\python\\lib\\site-packages\\cufflinks\\plotlytools.py:850: FutureWarning:\n",
      "\n",
      "The pandas.np module is deprecated and will be removed from pandas in a future version. Import numpy directly instead.\n",
      "\n"
     ]
    },
    {
     "data": {
      "application/vnd.plotly.v1+json": {
       "config": {
        "linkText": "Export to plot.ly",
        "plotlyServerURL": "https://plot.ly",
        "showLink": true
       },
       "data": [
        {
         "line": {
          "color": "rgba(255, 153, 51, 1.0)",
          "dash": "solid",
          "shape": "linear",
          "width": 1.3
         },
         "mode": "lines",
         "name": "A",
         "text": "",
         "type": "scatter",
         "x": [
          0,
          1,
          2,
          3,
          4,
          5,
          6,
          7,
          8,
          9,
          10,
          11,
          12,
          13,
          14,
          15,
          16,
          17,
          18,
          19,
          20,
          21,
          22,
          23,
          24,
          25,
          26,
          27,
          28,
          29,
          30,
          31,
          32,
          33,
          34,
          35,
          36,
          37,
          38,
          39,
          40,
          41,
          42,
          43,
          44,
          45,
          46,
          47,
          48,
          49,
          50,
          51,
          52,
          53,
          54,
          55,
          56,
          57,
          58,
          59,
          60,
          61,
          62,
          63,
          64,
          65,
          66,
          67,
          68,
          69,
          70,
          71,
          72,
          73,
          74,
          75,
          76,
          77,
          78,
          79,
          80,
          81,
          82,
          83,
          84,
          85,
          86,
          87,
          88,
          89,
          90,
          91,
          92,
          93,
          94,
          95,
          96,
          97,
          98,
          99
         ],
         "y": [
          0.7206021595231069,
          0.600148426769176,
          0.4104359743616993,
          1.5970755667006848,
          -1.2936619515577568,
          -0.8247653726117883,
          0.8635716441218286,
          0.9641754730341981,
          -0.023983744104136718,
          0.8936011658880695,
          -0.3997818395932563,
          -0.6968882043136051,
          -1.163879408522421,
          0.24301016267096173,
          1.5061934436070503,
          2.2293327935101708,
          -1.2735706894259167,
          0.07670212200171866,
          0.42749763295537124,
          -0.8362156804531724,
          0.23760756881529357,
          0.6125021013936939,
          0.9474786308756106,
          0.5792285211320449,
          -0.022141338115392657,
          0.1780786293235384,
          -0.4378983347210052,
          -1.9641912957964793,
          0.5884103102817879,
          1.2261746210124682,
          0.36692568501522266,
          0.5338772876220805,
          -1.0129881243922954,
          -0.05828206366226157,
          -0.4542632899292565,
          -0.9545712927080492,
          -0.4462063781298266,
          1.7850698534429827,
          -1.5714742286027275,
          -1.700569442248487,
          -0.7669013707864606,
          -3.131367504486959,
          -1.059983984922948,
          1.4162638414930868,
          1.6704485316623467,
          -0.939130190447798,
          0.8100608368265246,
          1.4254927278950735,
          0.28241386798408846,
          -0.20653442472757128,
          -1.745147679318256,
          -1.6430798662212416,
          1.3845799049888303,
          -1.378963965645226,
          -0.519571255210273,
          1.4442675469554762,
          -0.5705819989697787,
          -0.5135575214998415,
          -0.7725119707973551,
          0.4520162047149358,
          -0.7274765115358929,
          -1.3402720744289112,
          0.9327244040593339,
          -0.8271541013442341,
          -1.2064204344555705,
          0.3696430003742275,
          0.23974555131411265,
          -1.68529161912587,
          0.5231163706104487,
          0.6402595816400246,
          -0.043905994702309624,
          0.4468550288425965,
          0.37837924503019776,
          -0.033244845954011386,
          -1.1977701838216634,
          0.39756580016298637,
          -0.7081412455264934,
          0.5402103482032428,
          -1.8552901543432505,
          1.0089939294346084,
          1.587105528275671,
          -0.5601097082171755,
          0.11665409539915697,
          -0.5745241401224672,
          -2.558207307961996,
          -0.5339083790451622,
          -1.4864995681419446,
          -0.2949479595475197,
          0.6295343657985574,
          0.42971820599591787,
          1.5498386531740298,
          0.5916490519789844,
          -0.3998257461066869,
          1.9127966678340154,
          0.30283673972582165,
          0.24201125897767198,
          -1.7144830491064178,
          0.4238364675698964,
          0.60177217016106,
          -0.6508979705447588
         ]
        },
        {
         "line": {
          "color": "rgba(55, 128, 191, 1.0)",
          "dash": "solid",
          "shape": "linear",
          "width": 1.3
         },
         "mode": "lines",
         "name": "B",
         "text": "",
         "type": "scatter",
         "x": [
          0,
          1,
          2,
          3,
          4,
          5,
          6,
          7,
          8,
          9,
          10,
          11,
          12,
          13,
          14,
          15,
          16,
          17,
          18,
          19,
          20,
          21,
          22,
          23,
          24,
          25,
          26,
          27,
          28,
          29,
          30,
          31,
          32,
          33,
          34,
          35,
          36,
          37,
          38,
          39,
          40,
          41,
          42,
          43,
          44,
          45,
          46,
          47,
          48,
          49,
          50,
          51,
          52,
          53,
          54,
          55,
          56,
          57,
          58,
          59,
          60,
          61,
          62,
          63,
          64,
          65,
          66,
          67,
          68,
          69,
          70,
          71,
          72,
          73,
          74,
          75,
          76,
          77,
          78,
          79,
          80,
          81,
          82,
          83,
          84,
          85,
          86,
          87,
          88,
          89,
          90,
          91,
          92,
          93,
          94,
          95,
          96,
          97,
          98,
          99
         ],
         "y": [
          0.4790002364284842,
          -0.5339133712050166,
          -0.2551232292121737,
          0.7500620133948723,
          1.0639226831377517,
          0.3028647755916625,
          0.0977690423356316,
          -0.3951140303210251,
          -0.9550331925745601,
          -0.7764745770247691,
          -1.4300120636784552,
          0.722590320396416,
          0.06063841933463821,
          0.03610652845611828,
          -0.537856030516011,
          -0.078808592696729,
          -0.3114260012747389,
          -0.8941588607600373,
          -0.5808384159219051,
          0.3834337532738288,
          0.483711206092414,
          1.6829763180132218,
          -0.8919742536174792,
          0.950467512521074,
          -0.08625549152922969,
          1.2167158329958416,
          -0.033911930360870084,
          -1.9700550067826965,
          -0.02574803290346344,
          0.3794547728684391,
          -1.4103559279651778,
          1.0208301284403738,
          -1.6901429429533048,
          1.5697762867784217,
          -1.1365048100216353,
          -0.16786990398521856,
          -1.3683080519549378,
          0.6732207688411338,
          -0.724524608367036,
          -1.6556190684717973,
          1.405498473751612,
          -1.585448471793164,
          0.39518907167519784,
          0.15531514996168058,
          -0.4328193574850774,
          -0.8375570848807239,
          2.0230704348373942,
          -0.17582755292970423,
          1.9225970664687468,
          -1.5139377738915847,
          -0.4490913077935091,
          1.2021633853196803,
          -1.1047775425974564,
          0.7485099120378153,
          -0.8506817463527888,
          -0.1508540110465642,
          -0.4806223905826818,
          -0.009409878169259062,
          -0.13773066448041185,
          0.9187758383578031,
          0.24586887682641126,
          -0.4105378015561218,
          0.7002100378602496,
          1.0152904608914048,
          -0.05662237441840279,
          -1.1519555057371014,
          0.47741060260304125,
          -0.9356334286067687,
          -0.2816607396441667,
          1.2079854210569332,
          -0.9374091758648114,
          0.33622495387200485,
          0.017240232316663457,
          0.6281700912130026,
          -1.001311001407909,
          -0.01697870692670627,
          -1.6009597764633763,
          0.12951776927639422,
          -0.4318016346568667,
          0.6446717409546772,
          -1.765416896232608,
          -0.6206312391014545,
          -0.5616885246922951,
          1.5158834462222572,
          0.40289717199054675,
          0.7031019990192451,
          -0.7247400440690024,
          -2.2789079087356514,
          0.9516348236040112,
          0.5500106106728779,
          -0.6256799087748532,
          -1.2447989248999347,
          -1.5713689300682712,
          1.6189765467065518,
          -0.352213379315518,
          -1.418362779696527,
          1.0450315791300482,
          0.15528639631566069,
          0.4511257837375593,
          -0.18485970986316355
         ]
        },
        {
         "connectgaps": false,
         "fill": "tozeroy",
         "line": {
          "color": "green",
          "dash": "solid",
          "shape": "linear",
          "width": 0.5
         },
         "mode": "lines",
         "name": "Spread",
         "showlegend": false,
         "type": "scatter",
         "x": [
          0,
          1,
          2,
          3,
          4,
          5,
          6,
          7,
          8,
          9,
          10,
          11,
          12,
          13,
          14,
          15,
          16,
          17,
          18,
          19,
          20,
          21,
          22,
          23,
          24,
          25,
          26,
          27,
          28,
          29,
          30,
          31,
          32,
          33,
          34,
          35,
          36,
          37,
          38,
          39,
          40,
          41,
          42,
          43,
          44,
          45,
          46,
          47,
          48,
          49,
          50,
          51,
          52,
          53,
          54,
          55,
          56,
          57,
          58,
          59,
          60,
          61,
          62,
          63,
          64,
          65,
          66,
          67,
          68,
          69,
          70,
          71,
          72,
          73,
          74,
          75,
          76,
          77,
          78,
          79,
          80,
          81,
          82,
          83,
          84,
          85,
          86,
          87,
          88,
          89,
          90,
          91,
          92,
          93,
          94,
          95,
          96,
          97,
          98,
          99
         ],
         "xaxis": "x2",
         "y": [
          0.2416019230946227,
          1.1340617979741925,
          0.665559203573873,
          0.8470135533058125,
          "",
          "",
          0.765802601786197,
          1.3592895033552232,
          0.9310494484704234,
          1.6700757429128386,
          1.0302302240851988,
          "",
          "",
          0.20690363421484345,
          2.0440494741230615,
          2.3081413862069,
          "",
          0.9708609827617559,
          1.0083360488772763,
          "",
          "",
          "",
          1.8394528844930897,
          "",
          0.06411415341383703,
          "",
          "",
          0.0058637109862171855,
          0.6141583431852513,
          0.8467198481440291,
          1.7772816129804005,
          "",
          0.6771548185610095,
          "",
          0.6822415200923788,
          "",
          0.9221016738251111,
          1.111849084601849,
          "",
          "",
          "",
          "",
          "",
          1.2609486915314063,
          2.103267889147424,
          "",
          "",
          1.6013202808247777,
          "",
          1.3074033491640134,
          "",
          "",
          2.4893574475862867,
          "",
          0.3311104911425158,
          1.5951215580020404,
          "",
          "",
          "",
          "",
          "",
          "",
          0.23251436619908428,
          "",
          "",
          1.5215985061113289,
          "",
          "",
          0.8047771102546154,
          "",
          0.8935031811625018,
          0.11063007497059163,
          0.3611390127135343,
          "",
          "",
          0.41454450708969265,
          0.8928185309368829,
          0.4106925789268485,
          "",
          0.36432218847993125,
          3.3525224245082788,
          0.06052153088427892,
          0.6783426200914521,
          "",
          "",
          "",
          "",
          1.9839599491881317,
          "",
          "",
          2.1755185619488833,
          1.8364479768789193,
          1.1715431839615842,
          0.2938201211274636,
          0.6550501190413396,
          1.660374038674199,
          "",
          0.2685500712542357,
          0.1506463864235007,
          ""
         ],
         "yaxis": "y2"
        },
        {
         "connectgaps": false,
         "fill": "tozeroy",
         "line": {
          "color": "red",
          "dash": "solid",
          "shape": "linear",
          "width": 0.5
         },
         "mode": "lines",
         "name": "Spread",
         "showlegend": false,
         "type": "scatter",
         "x": [
          0,
          1,
          2,
          3,
          4,
          5,
          6,
          7,
          8,
          9,
          10,
          11,
          12,
          13,
          14,
          15,
          16,
          17,
          18,
          19,
          20,
          21,
          22,
          23,
          24,
          25,
          26,
          27,
          28,
          29,
          30,
          31,
          32,
          33,
          34,
          35,
          36,
          37,
          38,
          39,
          40,
          41,
          42,
          43,
          44,
          45,
          46,
          47,
          48,
          49,
          50,
          51,
          52,
          53,
          54,
          55,
          56,
          57,
          58,
          59,
          60,
          61,
          62,
          63,
          64,
          65,
          66,
          67,
          68,
          69,
          70,
          71,
          72,
          73,
          74,
          75,
          76,
          77,
          78,
          79,
          80,
          81,
          82,
          83,
          84,
          85,
          86,
          87,
          88,
          89,
          90,
          91,
          92,
          93,
          94,
          95,
          96,
          97,
          98,
          99
         ],
         "xaxis": "x2",
         "y": [
          "",
          "",
          "",
          "",
          -2.3575846346955087,
          -1.1276301482034508,
          "",
          "",
          "",
          "",
          "",
          -1.419478524710021,
          -1.2245178278570594,
          "",
          "",
          "",
          -0.9621446881511777,
          "",
          "",
          -1.2196494337270012,
          -0.24610363727712045,
          -1.070474216619528,
          "",
          -0.37123899138902905,
          "",
          -1.0386372036723033,
          -0.4039864043601351,
          "",
          "",
          "",
          "",
          -0.48695284081829326,
          "",
          -1.6280583504406834,
          "",
          -0.7867013887228307,
          "",
          "",
          -0.8469496202356914,
          -0.044950373776689645,
          -2.1723998445380728,
          -1.5459190326937948,
          -1.4551730565981458,
          "",
          "",
          -0.1015731055670741,
          -1.2130095980108697,
          "",
          -1.6401831984846584,
          "",
          -1.296056371524747,
          -2.845243251540922,
          "",
          -2.127473877683041,
          "",
          "",
          -0.08995960838709688,
          -0.5041476433305824,
          -0.6347813063169433,
          -0.46675963364286727,
          -0.9733453883623041,
          -0.9297342728727893,
          "",
          -1.842444562235639,
          -1.1497980600371678,
          "",
          -0.2376650512889286,
          -0.7496581905191013,
          "",
          -0.5677258394169086,
          "",
          "",
          "",
          -0.6614149371670139,
          -0.19645918241375449,
          "",
          "",
          "",
          -1.4234885196863838,
          "",
          "",
          "",
          "",
          -2.0904075863447247,
          -2.9611044799525423,
          -1.2370103780644073,
          -0.7617595240729422,
          "",
          -0.3221004578054538,
          -0.12029240467696006,
          "",
          "",
          "",
          "",
          "",
          "",
          -2.7595146282364658,
          "",
          "",
          -0.46603826068159526
         ],
         "yaxis": "y2"
        }
       ],
       "layout": {
        "hovermode": "x",
        "legend": {
         "bgcolor": "#F5F6F9",
         "font": {
          "color": "#4D5663"
         }
        },
        "paper_bgcolor": "#F5F6F9",
        "plot_bgcolor": "#F5F6F9",
        "template": {
         "data": {
          "bar": [
           {
            "error_x": {
             "color": "#2a3f5f"
            },
            "error_y": {
             "color": "#2a3f5f"
            },
            "marker": {
             "line": {
              "color": "#E5ECF6",
              "width": 0.5
             },
             "pattern": {
              "fillmode": "overlay",
              "size": 10,
              "solidity": 0.2
             }
            },
            "type": "bar"
           }
          ],
          "barpolar": [
           {
            "marker": {
             "line": {
              "color": "#E5ECF6",
              "width": 0.5
             },
             "pattern": {
              "fillmode": "overlay",
              "size": 10,
              "solidity": 0.2
             }
            },
            "type": "barpolar"
           }
          ],
          "carpet": [
           {
            "aaxis": {
             "endlinecolor": "#2a3f5f",
             "gridcolor": "white",
             "linecolor": "white",
             "minorgridcolor": "white",
             "startlinecolor": "#2a3f5f"
            },
            "baxis": {
             "endlinecolor": "#2a3f5f",
             "gridcolor": "white",
             "linecolor": "white",
             "minorgridcolor": "white",
             "startlinecolor": "#2a3f5f"
            },
            "type": "carpet"
           }
          ],
          "choropleth": [
           {
            "colorbar": {
             "outlinewidth": 0,
             "ticks": ""
            },
            "type": "choropleth"
           }
          ],
          "contour": [
           {
            "colorbar": {
             "outlinewidth": 0,
             "ticks": ""
            },
            "colorscale": [
             [
              0,
              "#0d0887"
             ],
             [
              0.1111111111111111,
              "#46039f"
             ],
             [
              0.2222222222222222,
              "#7201a8"
             ],
             [
              0.3333333333333333,
              "#9c179e"
             ],
             [
              0.4444444444444444,
              "#bd3786"
             ],
             [
              0.5555555555555556,
              "#d8576b"
             ],
             [
              0.6666666666666666,
              "#ed7953"
             ],
             [
              0.7777777777777778,
              "#fb9f3a"
             ],
             [
              0.8888888888888888,
              "#fdca26"
             ],
             [
              1,
              "#f0f921"
             ]
            ],
            "type": "contour"
           }
          ],
          "contourcarpet": [
           {
            "colorbar": {
             "outlinewidth": 0,
             "ticks": ""
            },
            "type": "contourcarpet"
           }
          ],
          "heatmap": [
           {
            "colorbar": {
             "outlinewidth": 0,
             "ticks": ""
            },
            "colorscale": [
             [
              0,
              "#0d0887"
             ],
             [
              0.1111111111111111,
              "#46039f"
             ],
             [
              0.2222222222222222,
              "#7201a8"
             ],
             [
              0.3333333333333333,
              "#9c179e"
             ],
             [
              0.4444444444444444,
              "#bd3786"
             ],
             [
              0.5555555555555556,
              "#d8576b"
             ],
             [
              0.6666666666666666,
              "#ed7953"
             ],
             [
              0.7777777777777778,
              "#fb9f3a"
             ],
             [
              0.8888888888888888,
              "#fdca26"
             ],
             [
              1,
              "#f0f921"
             ]
            ],
            "type": "heatmap"
           }
          ],
          "heatmapgl": [
           {
            "colorbar": {
             "outlinewidth": 0,
             "ticks": ""
            },
            "colorscale": [
             [
              0,
              "#0d0887"
             ],
             [
              0.1111111111111111,
              "#46039f"
             ],
             [
              0.2222222222222222,
              "#7201a8"
             ],
             [
              0.3333333333333333,
              "#9c179e"
             ],
             [
              0.4444444444444444,
              "#bd3786"
             ],
             [
              0.5555555555555556,
              "#d8576b"
             ],
             [
              0.6666666666666666,
              "#ed7953"
             ],
             [
              0.7777777777777778,
              "#fb9f3a"
             ],
             [
              0.8888888888888888,
              "#fdca26"
             ],
             [
              1,
              "#f0f921"
             ]
            ],
            "type": "heatmapgl"
           }
          ],
          "histogram": [
           {
            "marker": {
             "pattern": {
              "fillmode": "overlay",
              "size": 10,
              "solidity": 0.2
             }
            },
            "type": "histogram"
           }
          ],
          "histogram2d": [
           {
            "colorbar": {
             "outlinewidth": 0,
             "ticks": ""
            },
            "colorscale": [
             [
              0,
              "#0d0887"
             ],
             [
              0.1111111111111111,
              "#46039f"
             ],
             [
              0.2222222222222222,
              "#7201a8"
             ],
             [
              0.3333333333333333,
              "#9c179e"
             ],
             [
              0.4444444444444444,
              "#bd3786"
             ],
             [
              0.5555555555555556,
              "#d8576b"
             ],
             [
              0.6666666666666666,
              "#ed7953"
             ],
             [
              0.7777777777777778,
              "#fb9f3a"
             ],
             [
              0.8888888888888888,
              "#fdca26"
             ],
             [
              1,
              "#f0f921"
             ]
            ],
            "type": "histogram2d"
           }
          ],
          "histogram2dcontour": [
           {
            "colorbar": {
             "outlinewidth": 0,
             "ticks": ""
            },
            "colorscale": [
             [
              0,
              "#0d0887"
             ],
             [
              0.1111111111111111,
              "#46039f"
             ],
             [
              0.2222222222222222,
              "#7201a8"
             ],
             [
              0.3333333333333333,
              "#9c179e"
             ],
             [
              0.4444444444444444,
              "#bd3786"
             ],
             [
              0.5555555555555556,
              "#d8576b"
             ],
             [
              0.6666666666666666,
              "#ed7953"
             ],
             [
              0.7777777777777778,
              "#fb9f3a"
             ],
             [
              0.8888888888888888,
              "#fdca26"
             ],
             [
              1,
              "#f0f921"
             ]
            ],
            "type": "histogram2dcontour"
           }
          ],
          "mesh3d": [
           {
            "colorbar": {
             "outlinewidth": 0,
             "ticks": ""
            },
            "type": "mesh3d"
           }
          ],
          "parcoords": [
           {
            "line": {
             "colorbar": {
              "outlinewidth": 0,
              "ticks": ""
             }
            },
            "type": "parcoords"
           }
          ],
          "pie": [
           {
            "automargin": true,
            "type": "pie"
           }
          ],
          "scatter": [
           {
            "marker": {
             "colorbar": {
              "outlinewidth": 0,
              "ticks": ""
             }
            },
            "type": "scatter"
           }
          ],
          "scatter3d": [
           {
            "line": {
             "colorbar": {
              "outlinewidth": 0,
              "ticks": ""
             }
            },
            "marker": {
             "colorbar": {
              "outlinewidth": 0,
              "ticks": ""
             }
            },
            "type": "scatter3d"
           }
          ],
          "scattercarpet": [
           {
            "marker": {
             "colorbar": {
              "outlinewidth": 0,
              "ticks": ""
             }
            },
            "type": "scattercarpet"
           }
          ],
          "scattergeo": [
           {
            "marker": {
             "colorbar": {
              "outlinewidth": 0,
              "ticks": ""
             }
            },
            "type": "scattergeo"
           }
          ],
          "scattergl": [
           {
            "marker": {
             "colorbar": {
              "outlinewidth": 0,
              "ticks": ""
             }
            },
            "type": "scattergl"
           }
          ],
          "scattermapbox": [
           {
            "marker": {
             "colorbar": {
              "outlinewidth": 0,
              "ticks": ""
             }
            },
            "type": "scattermapbox"
           }
          ],
          "scatterpolar": [
           {
            "marker": {
             "colorbar": {
              "outlinewidth": 0,
              "ticks": ""
             }
            },
            "type": "scatterpolar"
           }
          ],
          "scatterpolargl": [
           {
            "marker": {
             "colorbar": {
              "outlinewidth": 0,
              "ticks": ""
             }
            },
            "type": "scatterpolargl"
           }
          ],
          "scatterternary": [
           {
            "marker": {
             "colorbar": {
              "outlinewidth": 0,
              "ticks": ""
             }
            },
            "type": "scatterternary"
           }
          ],
          "surface": [
           {
            "colorbar": {
             "outlinewidth": 0,
             "ticks": ""
            },
            "colorscale": [
             [
              0,
              "#0d0887"
             ],
             [
              0.1111111111111111,
              "#46039f"
             ],
             [
              0.2222222222222222,
              "#7201a8"
             ],
             [
              0.3333333333333333,
              "#9c179e"
             ],
             [
              0.4444444444444444,
              "#bd3786"
             ],
             [
              0.5555555555555556,
              "#d8576b"
             ],
             [
              0.6666666666666666,
              "#ed7953"
             ],
             [
              0.7777777777777778,
              "#fb9f3a"
             ],
             [
              0.8888888888888888,
              "#fdca26"
             ],
             [
              1,
              "#f0f921"
             ]
            ],
            "type": "surface"
           }
          ],
          "table": [
           {
            "cells": {
             "fill": {
              "color": "#EBF0F8"
             },
             "line": {
              "color": "white"
             }
            },
            "header": {
             "fill": {
              "color": "#C8D4E3"
             },
             "line": {
              "color": "white"
             }
            },
            "type": "table"
           }
          ]
         },
         "layout": {
          "annotationdefaults": {
           "arrowcolor": "#2a3f5f",
           "arrowhead": 0,
           "arrowwidth": 1
          },
          "autotypenumbers": "strict",
          "coloraxis": {
           "colorbar": {
            "outlinewidth": 0,
            "ticks": ""
           }
          },
          "colorscale": {
           "diverging": [
            [
             0,
             "#8e0152"
            ],
            [
             0.1,
             "#c51b7d"
            ],
            [
             0.2,
             "#de77ae"
            ],
            [
             0.3,
             "#f1b6da"
            ],
            [
             0.4,
             "#fde0ef"
            ],
            [
             0.5,
             "#f7f7f7"
            ],
            [
             0.6,
             "#e6f5d0"
            ],
            [
             0.7,
             "#b8e186"
            ],
            [
             0.8,
             "#7fbc41"
            ],
            [
             0.9,
             "#4d9221"
            ],
            [
             1,
             "#276419"
            ]
           ],
           "sequential": [
            [
             0,
             "#0d0887"
            ],
            [
             0.1111111111111111,
             "#46039f"
            ],
            [
             0.2222222222222222,
             "#7201a8"
            ],
            [
             0.3333333333333333,
             "#9c179e"
            ],
            [
             0.4444444444444444,
             "#bd3786"
            ],
            [
             0.5555555555555556,
             "#d8576b"
            ],
            [
             0.6666666666666666,
             "#ed7953"
            ],
            [
             0.7777777777777778,
             "#fb9f3a"
            ],
            [
             0.8888888888888888,
             "#fdca26"
            ],
            [
             1,
             "#f0f921"
            ]
           ],
           "sequentialminus": [
            [
             0,
             "#0d0887"
            ],
            [
             0.1111111111111111,
             "#46039f"
            ],
            [
             0.2222222222222222,
             "#7201a8"
            ],
            [
             0.3333333333333333,
             "#9c179e"
            ],
            [
             0.4444444444444444,
             "#bd3786"
            ],
            [
             0.5555555555555556,
             "#d8576b"
            ],
            [
             0.6666666666666666,
             "#ed7953"
            ],
            [
             0.7777777777777778,
             "#fb9f3a"
            ],
            [
             0.8888888888888888,
             "#fdca26"
            ],
            [
             1,
             "#f0f921"
            ]
           ]
          },
          "colorway": [
           "#636efa",
           "#EF553B",
           "#00cc96",
           "#ab63fa",
           "#FFA15A",
           "#19d3f3",
           "#FF6692",
           "#B6E880",
           "#FF97FF",
           "#FECB52"
          ],
          "font": {
           "color": "#2a3f5f"
          },
          "geo": {
           "bgcolor": "white",
           "lakecolor": "white",
           "landcolor": "#E5ECF6",
           "showlakes": true,
           "showland": true,
           "subunitcolor": "white"
          },
          "hoverlabel": {
           "align": "left"
          },
          "hovermode": "closest",
          "mapbox": {
           "style": "light"
          },
          "paper_bgcolor": "white",
          "plot_bgcolor": "#E5ECF6",
          "polar": {
           "angularaxis": {
            "gridcolor": "white",
            "linecolor": "white",
            "ticks": ""
           },
           "bgcolor": "#E5ECF6",
           "radialaxis": {
            "gridcolor": "white",
            "linecolor": "white",
            "ticks": ""
           }
          },
          "scene": {
           "xaxis": {
            "backgroundcolor": "#E5ECF6",
            "gridcolor": "white",
            "gridwidth": 2,
            "linecolor": "white",
            "showbackground": true,
            "ticks": "",
            "zerolinecolor": "white"
           },
           "yaxis": {
            "backgroundcolor": "#E5ECF6",
            "gridcolor": "white",
            "gridwidth": 2,
            "linecolor": "white",
            "showbackground": true,
            "ticks": "",
            "zerolinecolor": "white"
           },
           "zaxis": {
            "backgroundcolor": "#E5ECF6",
            "gridcolor": "white",
            "gridwidth": 2,
            "linecolor": "white",
            "showbackground": true,
            "ticks": "",
            "zerolinecolor": "white"
           }
          },
          "shapedefaults": {
           "line": {
            "color": "#2a3f5f"
           }
          },
          "ternary": {
           "aaxis": {
            "gridcolor": "white",
            "linecolor": "white",
            "ticks": ""
           },
           "baxis": {
            "gridcolor": "white",
            "linecolor": "white",
            "ticks": ""
           },
           "bgcolor": "#E5ECF6",
           "caxis": {
            "gridcolor": "white",
            "linecolor": "white",
            "ticks": ""
           }
          },
          "title": {
           "x": 0.05
          },
          "xaxis": {
           "automargin": true,
           "gridcolor": "white",
           "linecolor": "white",
           "ticks": "",
           "title": {
            "standoff": 15
           },
           "zerolinecolor": "white",
           "zerolinewidth": 2
          },
          "yaxis": {
           "automargin": true,
           "gridcolor": "white",
           "linecolor": "white",
           "ticks": "",
           "title": {
            "standoff": 15
           },
           "zerolinecolor": "white",
           "zerolinewidth": 2
          }
         }
        },
        "title": {
         "font": {
          "color": "#4D5663"
         }
        },
        "xaxis": {
         "gridcolor": "#E1E5ED",
         "showgrid": true,
         "tickfont": {
          "color": "#4D5663"
         },
         "title": {
          "font": {
           "color": "#4D5663"
          },
          "text": ""
         },
         "zerolinecolor": "#E1E5ED"
        },
        "xaxis2": {
         "anchor": "y2",
         "gridcolor": "#E1E5ED",
         "showgrid": true,
         "showticklabels": false,
         "tickfont": {
          "color": "#4D5663"
         },
         "title": {
          "font": {
           "color": "#4D5663"
          },
          "text": ""
         },
         "zerolinecolor": "#E1E5ED"
        },
        "yaxis": {
         "domain": [
          0.3,
          1
         ],
         "gridcolor": "#E1E5ED",
         "showgrid": true,
         "tickfont": {
          "color": "#4D5663"
         },
         "title": {
          "font": {
           "color": "#4D5663"
          },
          "text": ""
         },
         "zerolinecolor": "#E1E5ED"
        },
        "yaxis2": {
         "domain": [
          0,
          0.25
         ],
         "gridcolor": "#E1E5ED",
         "showgrid": true,
         "tickfont": {
          "color": "#4D5663"
         },
         "title": {
          "font": {
           "color": "#4D5663"
          },
          "text": "Spread"
         },
         "zerolinecolor": "#E1E5ED"
        }
       }
      },
      "text/html": [
       "<div>                            <div id=\"23bd37ae-7f81-401f-b492-19a19b19f525\" class=\"plotly-graph-div\" style=\"height:525px; width:100%;\"></div>            <script type=\"text/javascript\">                require([\"plotly\"], function(Plotly) {                    window.PLOTLYENV=window.PLOTLYENV || {};\n",
       "                    window.PLOTLYENV.BASE_URL='https://plot.ly';                                    if (document.getElementById(\"23bd37ae-7f81-401f-b492-19a19b19f525\")) {                    Plotly.newPlot(                        \"23bd37ae-7f81-401f-b492-19a19b19f525\",                        [{\"line\":{\"color\":\"rgba(255, 153, 51, 1.0)\",\"dash\":\"solid\",\"shape\":\"linear\",\"width\":1.3},\"mode\":\"lines\",\"name\":\"A\",\"text\":\"\",\"x\":[0,1,2,3,4,5,6,7,8,9,10,11,12,13,14,15,16,17,18,19,20,21,22,23,24,25,26,27,28,29,30,31,32,33,34,35,36,37,38,39,40,41,42,43,44,45,46,47,48,49,50,51,52,53,54,55,56,57,58,59,60,61,62,63,64,65,66,67,68,69,70,71,72,73,74,75,76,77,78,79,80,81,82,83,84,85,86,87,88,89,90,91,92,93,94,95,96,97,98,99],\"y\":[0.7206021595231069,0.600148426769176,0.4104359743616993,1.5970755667006848,-1.2936619515577568,-0.8247653726117883,0.8635716441218286,0.9641754730341981,-0.023983744104136718,0.8936011658880695,-0.3997818395932563,-0.6968882043136051,-1.163879408522421,0.24301016267096173,1.5061934436070503,2.2293327935101708,-1.2735706894259167,0.07670212200171866,0.42749763295537124,-0.8362156804531724,0.23760756881529357,0.6125021013936939,0.9474786308756106,0.5792285211320449,-0.022141338115392657,0.1780786293235384,-0.4378983347210052,-1.9641912957964793,0.5884103102817879,1.2261746210124682,0.36692568501522266,0.5338772876220805,-1.0129881243922954,-0.05828206366226157,-0.4542632899292565,-0.9545712927080492,-0.4462063781298266,1.7850698534429827,-1.5714742286027275,-1.700569442248487,-0.7669013707864606,-3.131367504486959,-1.059983984922948,1.4162638414930868,1.6704485316623467,-0.939130190447798,0.8100608368265246,1.4254927278950735,0.28241386798408846,-0.20653442472757128,-1.745147679318256,-1.6430798662212416,1.3845799049888303,-1.378963965645226,-0.519571255210273,1.4442675469554762,-0.5705819989697787,-0.5135575214998415,-0.7725119707973551,0.4520162047149358,-0.7274765115358929,-1.3402720744289112,0.9327244040593339,-0.8271541013442341,-1.2064204344555705,0.3696430003742275,0.23974555131411265,-1.68529161912587,0.5231163706104487,0.6402595816400246,-0.043905994702309624,0.4468550288425965,0.37837924503019776,-0.033244845954011386,-1.1977701838216634,0.39756580016298637,-0.7081412455264934,0.5402103482032428,-1.8552901543432505,1.0089939294346084,1.587105528275671,-0.5601097082171755,0.11665409539915697,-0.5745241401224672,-2.558207307961996,-0.5339083790451622,-1.4864995681419446,-0.2949479595475197,0.6295343657985574,0.42971820599591787,1.5498386531740298,0.5916490519789844,-0.3998257461066869,1.9127966678340154,0.30283673972582165,0.24201125897767198,-1.7144830491064178,0.4238364675698964,0.60177217016106,-0.6508979705447588],\"type\":\"scatter\"},{\"line\":{\"color\":\"rgba(55, 128, 191, 1.0)\",\"dash\":\"solid\",\"shape\":\"linear\",\"width\":1.3},\"mode\":\"lines\",\"name\":\"B\",\"text\":\"\",\"x\":[0,1,2,3,4,5,6,7,8,9,10,11,12,13,14,15,16,17,18,19,20,21,22,23,24,25,26,27,28,29,30,31,32,33,34,35,36,37,38,39,40,41,42,43,44,45,46,47,48,49,50,51,52,53,54,55,56,57,58,59,60,61,62,63,64,65,66,67,68,69,70,71,72,73,74,75,76,77,78,79,80,81,82,83,84,85,86,87,88,89,90,91,92,93,94,95,96,97,98,99],\"y\":[0.4790002364284842,-0.5339133712050166,-0.2551232292121737,0.7500620133948723,1.0639226831377517,0.3028647755916625,0.0977690423356316,-0.3951140303210251,-0.9550331925745601,-0.7764745770247691,-1.4300120636784552,0.722590320396416,0.06063841933463821,0.03610652845611828,-0.537856030516011,-0.078808592696729,-0.3114260012747389,-0.8941588607600373,-0.5808384159219051,0.3834337532738288,0.483711206092414,1.6829763180132218,-0.8919742536174792,0.950467512521074,-0.08625549152922969,1.2167158329958416,-0.033911930360870084,-1.9700550067826965,-0.02574803290346344,0.3794547728684391,-1.4103559279651778,1.0208301284403738,-1.6901429429533048,1.5697762867784217,-1.1365048100216353,-0.16786990398521856,-1.3683080519549378,0.6732207688411338,-0.724524608367036,-1.6556190684717973,1.405498473751612,-1.585448471793164,0.39518907167519784,0.15531514996168058,-0.4328193574850774,-0.8375570848807239,2.0230704348373942,-0.17582755292970423,1.9225970664687468,-1.5139377738915847,-0.4490913077935091,1.2021633853196803,-1.1047775425974564,0.7485099120378153,-0.8506817463527888,-0.1508540110465642,-0.4806223905826818,-0.009409878169259062,-0.13773066448041185,0.9187758383578031,0.24586887682641126,-0.4105378015561218,0.7002100378602496,1.0152904608914048,-0.05662237441840279,-1.1519555057371014,0.47741060260304125,-0.9356334286067687,-0.2816607396441667,1.2079854210569332,-0.9374091758648114,0.33622495387200485,0.017240232316663457,0.6281700912130026,-1.001311001407909,-0.01697870692670627,-1.6009597764633763,0.12951776927639422,-0.4318016346568667,0.6446717409546772,-1.765416896232608,-0.6206312391014545,-0.5616885246922951,1.5158834462222572,0.40289717199054675,0.7031019990192451,-0.7247400440690024,-2.2789079087356514,0.9516348236040112,0.5500106106728779,-0.6256799087748532,-1.2447989248999347,-1.5713689300682712,1.6189765467065518,-0.352213379315518,-1.418362779696527,1.0450315791300482,0.15528639631566069,0.4511257837375593,-0.18485970986316355],\"type\":\"scatter\"},{\"connectgaps\":false,\"fill\":\"tozeroy\",\"line\":{\"color\":\"green\",\"dash\":\"solid\",\"shape\":\"linear\",\"width\":0.5},\"mode\":\"lines\",\"name\":\"Spread\",\"showlegend\":false,\"x\":[0,1,2,3,4,5,6,7,8,9,10,11,12,13,14,15,16,17,18,19,20,21,22,23,24,25,26,27,28,29,30,31,32,33,34,35,36,37,38,39,40,41,42,43,44,45,46,47,48,49,50,51,52,53,54,55,56,57,58,59,60,61,62,63,64,65,66,67,68,69,70,71,72,73,74,75,76,77,78,79,80,81,82,83,84,85,86,87,88,89,90,91,92,93,94,95,96,97,98,99],\"xaxis\":\"x2\",\"y\":[0.2416019230946227,1.1340617979741925,0.665559203573873,0.8470135533058125,\"\",\"\",0.765802601786197,1.3592895033552232,0.9310494484704234,1.6700757429128386,1.0302302240851988,\"\",\"\",0.20690363421484345,2.0440494741230615,2.3081413862069,\"\",0.9708609827617559,1.0083360488772763,\"\",\"\",\"\",1.8394528844930897,\"\",0.06411415341383703,\"\",\"\",0.0058637109862171855,0.6141583431852513,0.8467198481440291,1.7772816129804005,\"\",0.6771548185610095,\"\",0.6822415200923788,\"\",0.9221016738251111,1.111849084601849,\"\",\"\",\"\",\"\",\"\",1.2609486915314063,2.103267889147424,\"\",\"\",1.6013202808247777,\"\",1.3074033491640134,\"\",\"\",2.4893574475862867,\"\",0.3311104911425158,1.5951215580020404,\"\",\"\",\"\",\"\",\"\",\"\",0.23251436619908428,\"\",\"\",1.5215985061113289,\"\",\"\",0.8047771102546154,\"\",0.8935031811625018,0.11063007497059163,0.3611390127135343,\"\",\"\",0.41454450708969265,0.8928185309368829,0.4106925789268485,\"\",0.36432218847993125,3.3525224245082788,0.06052153088427892,0.6783426200914521,\"\",\"\",\"\",\"\",1.9839599491881317,\"\",\"\",2.1755185619488833,1.8364479768789193,1.1715431839615842,0.2938201211274636,0.6550501190413396,1.660374038674199,\"\",0.2685500712542357,0.1506463864235007,\"\"],\"yaxis\":\"y2\",\"type\":\"scatter\"},{\"connectgaps\":false,\"fill\":\"tozeroy\",\"line\":{\"color\":\"red\",\"dash\":\"solid\",\"shape\":\"linear\",\"width\":0.5},\"mode\":\"lines\",\"name\":\"Spread\",\"showlegend\":false,\"x\":[0,1,2,3,4,5,6,7,8,9,10,11,12,13,14,15,16,17,18,19,20,21,22,23,24,25,26,27,28,29,30,31,32,33,34,35,36,37,38,39,40,41,42,43,44,45,46,47,48,49,50,51,52,53,54,55,56,57,58,59,60,61,62,63,64,65,66,67,68,69,70,71,72,73,74,75,76,77,78,79,80,81,82,83,84,85,86,87,88,89,90,91,92,93,94,95,96,97,98,99],\"xaxis\":\"x2\",\"y\":[\"\",\"\",\"\",\"\",-2.3575846346955087,-1.1276301482034508,\"\",\"\",\"\",\"\",\"\",-1.419478524710021,-1.2245178278570594,\"\",\"\",\"\",-0.9621446881511777,\"\",\"\",-1.2196494337270012,-0.24610363727712045,-1.070474216619528,\"\",-0.37123899138902905,\"\",-1.0386372036723033,-0.4039864043601351,\"\",\"\",\"\",\"\",-0.48695284081829326,\"\",-1.6280583504406834,\"\",-0.7867013887228307,\"\",\"\",-0.8469496202356914,-0.044950373776689645,-2.1723998445380728,-1.5459190326937948,-1.4551730565981458,\"\",\"\",-0.1015731055670741,-1.2130095980108697,\"\",-1.6401831984846584,\"\",-1.296056371524747,-2.845243251540922,\"\",-2.127473877683041,\"\",\"\",-0.08995960838709688,-0.5041476433305824,-0.6347813063169433,-0.46675963364286727,-0.9733453883623041,-0.9297342728727893,\"\",-1.842444562235639,-1.1497980600371678,\"\",-0.2376650512889286,-0.7496581905191013,\"\",-0.5677258394169086,\"\",\"\",\"\",-0.6614149371670139,-0.19645918241375449,\"\",\"\",\"\",-1.4234885196863838,\"\",\"\",\"\",\"\",-2.0904075863447247,-2.9611044799525423,-1.2370103780644073,-0.7617595240729422,\"\",-0.3221004578054538,-0.12029240467696006,\"\",\"\",\"\",\"\",\"\",\"\",-2.7595146282364658,\"\",\"\",-0.46603826068159526],\"yaxis\":\"y2\",\"type\":\"scatter\"}],                        {\"hovermode\":\"x\",\"legend\":{\"bgcolor\":\"#F5F6F9\",\"font\":{\"color\":\"#4D5663\"}},\"paper_bgcolor\":\"#F5F6F9\",\"plot_bgcolor\":\"#F5F6F9\",\"template\":{\"data\":{\"barpolar\":[{\"marker\":{\"line\":{\"color\":\"#E5ECF6\",\"width\":0.5},\"pattern\":{\"fillmode\":\"overlay\",\"size\":10,\"solidity\":0.2}},\"type\":\"barpolar\"}],\"bar\":[{\"error_x\":{\"color\":\"#2a3f5f\"},\"error_y\":{\"color\":\"#2a3f5f\"},\"marker\":{\"line\":{\"color\":\"#E5ECF6\",\"width\":0.5},\"pattern\":{\"fillmode\":\"overlay\",\"size\":10,\"solidity\":0.2}},\"type\":\"bar\"}],\"carpet\":[{\"aaxis\":{\"endlinecolor\":\"#2a3f5f\",\"gridcolor\":\"white\",\"linecolor\":\"white\",\"minorgridcolor\":\"white\",\"startlinecolor\":\"#2a3f5f\"},\"baxis\":{\"endlinecolor\":\"#2a3f5f\",\"gridcolor\":\"white\",\"linecolor\":\"white\",\"minorgridcolor\":\"white\",\"startlinecolor\":\"#2a3f5f\"},\"type\":\"carpet\"}],\"choropleth\":[{\"colorbar\":{\"outlinewidth\":0,\"ticks\":\"\"},\"type\":\"choropleth\"}],\"contourcarpet\":[{\"colorbar\":{\"outlinewidth\":0,\"ticks\":\"\"},\"type\":\"contourcarpet\"}],\"contour\":[{\"colorbar\":{\"outlinewidth\":0,\"ticks\":\"\"},\"colorscale\":[[0.0,\"#0d0887\"],[0.1111111111111111,\"#46039f\"],[0.2222222222222222,\"#7201a8\"],[0.3333333333333333,\"#9c179e\"],[0.4444444444444444,\"#bd3786\"],[0.5555555555555556,\"#d8576b\"],[0.6666666666666666,\"#ed7953\"],[0.7777777777777778,\"#fb9f3a\"],[0.8888888888888888,\"#fdca26\"],[1.0,\"#f0f921\"]],\"type\":\"contour\"}],\"heatmapgl\":[{\"colorbar\":{\"outlinewidth\":0,\"ticks\":\"\"},\"colorscale\":[[0.0,\"#0d0887\"],[0.1111111111111111,\"#46039f\"],[0.2222222222222222,\"#7201a8\"],[0.3333333333333333,\"#9c179e\"],[0.4444444444444444,\"#bd3786\"],[0.5555555555555556,\"#d8576b\"],[0.6666666666666666,\"#ed7953\"],[0.7777777777777778,\"#fb9f3a\"],[0.8888888888888888,\"#fdca26\"],[1.0,\"#f0f921\"]],\"type\":\"heatmapgl\"}],\"heatmap\":[{\"colorbar\":{\"outlinewidth\":0,\"ticks\":\"\"},\"colorscale\":[[0.0,\"#0d0887\"],[0.1111111111111111,\"#46039f\"],[0.2222222222222222,\"#7201a8\"],[0.3333333333333333,\"#9c179e\"],[0.4444444444444444,\"#bd3786\"],[0.5555555555555556,\"#d8576b\"],[0.6666666666666666,\"#ed7953\"],[0.7777777777777778,\"#fb9f3a\"],[0.8888888888888888,\"#fdca26\"],[1.0,\"#f0f921\"]],\"type\":\"heatmap\"}],\"histogram2dcontour\":[{\"colorbar\":{\"outlinewidth\":0,\"ticks\":\"\"},\"colorscale\":[[0.0,\"#0d0887\"],[0.1111111111111111,\"#46039f\"],[0.2222222222222222,\"#7201a8\"],[0.3333333333333333,\"#9c179e\"],[0.4444444444444444,\"#bd3786\"],[0.5555555555555556,\"#d8576b\"],[0.6666666666666666,\"#ed7953\"],[0.7777777777777778,\"#fb9f3a\"],[0.8888888888888888,\"#fdca26\"],[1.0,\"#f0f921\"]],\"type\":\"histogram2dcontour\"}],\"histogram2d\":[{\"colorbar\":{\"outlinewidth\":0,\"ticks\":\"\"},\"colorscale\":[[0.0,\"#0d0887\"],[0.1111111111111111,\"#46039f\"],[0.2222222222222222,\"#7201a8\"],[0.3333333333333333,\"#9c179e\"],[0.4444444444444444,\"#bd3786\"],[0.5555555555555556,\"#d8576b\"],[0.6666666666666666,\"#ed7953\"],[0.7777777777777778,\"#fb9f3a\"],[0.8888888888888888,\"#fdca26\"],[1.0,\"#f0f921\"]],\"type\":\"histogram2d\"}],\"histogram\":[{\"marker\":{\"pattern\":{\"fillmode\":\"overlay\",\"size\":10,\"solidity\":0.2}},\"type\":\"histogram\"}],\"mesh3d\":[{\"colorbar\":{\"outlinewidth\":0,\"ticks\":\"\"},\"type\":\"mesh3d\"}],\"parcoords\":[{\"line\":{\"colorbar\":{\"outlinewidth\":0,\"ticks\":\"\"}},\"type\":\"parcoords\"}],\"pie\":[{\"automargin\":true,\"type\":\"pie\"}],\"scatter3d\":[{\"line\":{\"colorbar\":{\"outlinewidth\":0,\"ticks\":\"\"}},\"marker\":{\"colorbar\":{\"outlinewidth\":0,\"ticks\":\"\"}},\"type\":\"scatter3d\"}],\"scattercarpet\":[{\"marker\":{\"colorbar\":{\"outlinewidth\":0,\"ticks\":\"\"}},\"type\":\"scattercarpet\"}],\"scattergeo\":[{\"marker\":{\"colorbar\":{\"outlinewidth\":0,\"ticks\":\"\"}},\"type\":\"scattergeo\"}],\"scattergl\":[{\"marker\":{\"colorbar\":{\"outlinewidth\":0,\"ticks\":\"\"}},\"type\":\"scattergl\"}],\"scattermapbox\":[{\"marker\":{\"colorbar\":{\"outlinewidth\":0,\"ticks\":\"\"}},\"type\":\"scattermapbox\"}],\"scatterpolargl\":[{\"marker\":{\"colorbar\":{\"outlinewidth\":0,\"ticks\":\"\"}},\"type\":\"scatterpolargl\"}],\"scatterpolar\":[{\"marker\":{\"colorbar\":{\"outlinewidth\":0,\"ticks\":\"\"}},\"type\":\"scatterpolar\"}],\"scatter\":[{\"marker\":{\"colorbar\":{\"outlinewidth\":0,\"ticks\":\"\"}},\"type\":\"scatter\"}],\"scatterternary\":[{\"marker\":{\"colorbar\":{\"outlinewidth\":0,\"ticks\":\"\"}},\"type\":\"scatterternary\"}],\"surface\":[{\"colorbar\":{\"outlinewidth\":0,\"ticks\":\"\"},\"colorscale\":[[0.0,\"#0d0887\"],[0.1111111111111111,\"#46039f\"],[0.2222222222222222,\"#7201a8\"],[0.3333333333333333,\"#9c179e\"],[0.4444444444444444,\"#bd3786\"],[0.5555555555555556,\"#d8576b\"],[0.6666666666666666,\"#ed7953\"],[0.7777777777777778,\"#fb9f3a\"],[0.8888888888888888,\"#fdca26\"],[1.0,\"#f0f921\"]],\"type\":\"surface\"}],\"table\":[{\"cells\":{\"fill\":{\"color\":\"#EBF0F8\"},\"line\":{\"color\":\"white\"}},\"header\":{\"fill\":{\"color\":\"#C8D4E3\"},\"line\":{\"color\":\"white\"}},\"type\":\"table\"}]},\"layout\":{\"annotationdefaults\":{\"arrowcolor\":\"#2a3f5f\",\"arrowhead\":0,\"arrowwidth\":1},\"autotypenumbers\":\"strict\",\"coloraxis\":{\"colorbar\":{\"outlinewidth\":0,\"ticks\":\"\"}},\"colorscale\":{\"diverging\":[[0,\"#8e0152\"],[0.1,\"#c51b7d\"],[0.2,\"#de77ae\"],[0.3,\"#f1b6da\"],[0.4,\"#fde0ef\"],[0.5,\"#f7f7f7\"],[0.6,\"#e6f5d0\"],[0.7,\"#b8e186\"],[0.8,\"#7fbc41\"],[0.9,\"#4d9221\"],[1,\"#276419\"]],\"sequential\":[[0.0,\"#0d0887\"],[0.1111111111111111,\"#46039f\"],[0.2222222222222222,\"#7201a8\"],[0.3333333333333333,\"#9c179e\"],[0.4444444444444444,\"#bd3786\"],[0.5555555555555556,\"#d8576b\"],[0.6666666666666666,\"#ed7953\"],[0.7777777777777778,\"#fb9f3a\"],[0.8888888888888888,\"#fdca26\"],[1.0,\"#f0f921\"]],\"sequentialminus\":[[0.0,\"#0d0887\"],[0.1111111111111111,\"#46039f\"],[0.2222222222222222,\"#7201a8\"],[0.3333333333333333,\"#9c179e\"],[0.4444444444444444,\"#bd3786\"],[0.5555555555555556,\"#d8576b\"],[0.6666666666666666,\"#ed7953\"],[0.7777777777777778,\"#fb9f3a\"],[0.8888888888888888,\"#fdca26\"],[1.0,\"#f0f921\"]]},\"colorway\":[\"#636efa\",\"#EF553B\",\"#00cc96\",\"#ab63fa\",\"#FFA15A\",\"#19d3f3\",\"#FF6692\",\"#B6E880\",\"#FF97FF\",\"#FECB52\"],\"font\":{\"color\":\"#2a3f5f\"},\"geo\":{\"bgcolor\":\"white\",\"lakecolor\":\"white\",\"landcolor\":\"#E5ECF6\",\"showlakes\":true,\"showland\":true,\"subunitcolor\":\"white\"},\"hoverlabel\":{\"align\":\"left\"},\"hovermode\":\"closest\",\"mapbox\":{\"style\":\"light\"},\"paper_bgcolor\":\"white\",\"plot_bgcolor\":\"#E5ECF6\",\"polar\":{\"angularaxis\":{\"gridcolor\":\"white\",\"linecolor\":\"white\",\"ticks\":\"\"},\"bgcolor\":\"#E5ECF6\",\"radialaxis\":{\"gridcolor\":\"white\",\"linecolor\":\"white\",\"ticks\":\"\"}},\"scene\":{\"xaxis\":{\"backgroundcolor\":\"#E5ECF6\",\"gridcolor\":\"white\",\"gridwidth\":2,\"linecolor\":\"white\",\"showbackground\":true,\"ticks\":\"\",\"zerolinecolor\":\"white\"},\"yaxis\":{\"backgroundcolor\":\"#E5ECF6\",\"gridcolor\":\"white\",\"gridwidth\":2,\"linecolor\":\"white\",\"showbackground\":true,\"ticks\":\"\",\"zerolinecolor\":\"white\"},\"zaxis\":{\"backgroundcolor\":\"#E5ECF6\",\"gridcolor\":\"white\",\"gridwidth\":2,\"linecolor\":\"white\",\"showbackground\":true,\"ticks\":\"\",\"zerolinecolor\":\"white\"}},\"shapedefaults\":{\"line\":{\"color\":\"#2a3f5f\"}},\"ternary\":{\"aaxis\":{\"gridcolor\":\"white\",\"linecolor\":\"white\",\"ticks\":\"\"},\"baxis\":{\"gridcolor\":\"white\",\"linecolor\":\"white\",\"ticks\":\"\"},\"bgcolor\":\"#E5ECF6\",\"caxis\":{\"gridcolor\":\"white\",\"linecolor\":\"white\",\"ticks\":\"\"}},\"title\":{\"x\":0.05},\"xaxis\":{\"automargin\":true,\"gridcolor\":\"white\",\"linecolor\":\"white\",\"ticks\":\"\",\"title\":{\"standoff\":15},\"zerolinecolor\":\"white\",\"zerolinewidth\":2},\"yaxis\":{\"automargin\":true,\"gridcolor\":\"white\",\"linecolor\":\"white\",\"ticks\":\"\",\"title\":{\"standoff\":15},\"zerolinecolor\":\"white\",\"zerolinewidth\":2}}},\"title\":{\"font\":{\"color\":\"#4D5663\"}},\"xaxis\":{\"gridcolor\":\"#E1E5ED\",\"showgrid\":true,\"tickfont\":{\"color\":\"#4D5663\"},\"title\":{\"font\":{\"color\":\"#4D5663\"},\"text\":\"\"},\"zerolinecolor\":\"#E1E5ED\"},\"yaxis\":{\"domain\":[0.3,1],\"gridcolor\":\"#E1E5ED\",\"showgrid\":true,\"tickfont\":{\"color\":\"#4D5663\"},\"title\":{\"font\":{\"color\":\"#4D5663\"},\"text\":\"\"},\"zerolinecolor\":\"#E1E5ED\"},\"yaxis2\":{\"domain\":[0,0.25],\"gridcolor\":\"#E1E5ED\",\"showgrid\":true,\"tickfont\":{\"color\":\"#4D5663\"},\"title\":{\"font\":{\"color\":\"#4D5663\"},\"text\":\"Spread\"},\"zerolinecolor\":\"#E1E5ED\"},\"xaxis2\":{\"anchor\":\"y2\",\"gridcolor\":\"#E1E5ED\",\"showgrid\":true,\"showticklabels\":false,\"tickfont\":{\"color\":\"#4D5663\"},\"title\":{\"font\":{\"color\":\"#4D5663\"},\"text\":\"\"},\"zerolinecolor\":\"#E1E5ED\"}},                        {\"showLink\": true, \"linkText\": \"Export to plot.ly\", \"plotlyServerURL\": \"https://plot.ly\", \"responsive\": true}                    ).then(function(){\n",
       "                            \n",
       "var gd = document.getElementById('23bd37ae-7f81-401f-b492-19a19b19f525');\n",
       "var x = new MutationObserver(function (mutations, observer) {{\n",
       "        var display = window.getComputedStyle(gd).display;\n",
       "        if (!display || display === 'none') {{\n",
       "            console.log([gd, 'removed!']);\n",
       "            Plotly.purge(gd);\n",
       "            observer.disconnect();\n",
       "        }}\n",
       "}});\n",
       "\n",
       "// Listen for the removal of the full notebook cells\n",
       "var notebookContainer = gd.closest('#notebook-container');\n",
       "if (notebookContainer) {{\n",
       "    x.observe(notebookContainer, {childList: true});\n",
       "}}\n",
       "\n",
       "// Listen for the clearing of the current output cell\n",
       "var outputEl = gd.closest('.output');\n",
       "if (outputEl) {{\n",
       "    x.observe(outputEl, {childList: true});\n",
       "}}\n",
       "\n",
       "                        })                };                });            </script>        </div>"
      ]
     },
     "metadata": {},
     "output_type": "display_data"
    }
   ],
   "source": [
    "df[['A','B']].iplot(kind='spread') ###very important"
   ]
  },
  {
   "cell_type": "code",
   "execution_count": 47,
   "id": "3273aeb4",
   "metadata": {},
   "outputs": [
    {
     "data": {
      "application/vnd.plotly.v1+json": {
       "config": {
        "linkText": "Export to plot.ly",
        "plotlyServerURL": "https://plot.ly",
        "showLink": true
       },
       "data": [
        {
         "marker": {
          "color": [
           "rgb(255, 153, 51)",
           "rgb(55, 128, 191)",
           "rgb(50, 171, 96)",
           "rgb(128, 0, 128)",
           "rgb(219, 64, 82)",
           "rgb(0, 128, 128)",
           "rgb(255, 255, 51)",
           "rgb(128, 128, 0)",
           "rgb(251, 128, 114)",
           "rgb(128, 177, 211)"
          ],
          "line": {
           "width": 1.3
          },
          "size": [
           63,
           78,
           55,
           75,
           81,
           81,
           97,
           70,
           44,
           83,
           84,
           99,
           86,
           56,
           38,
           80,
           49,
           87,
           40,
           64,
           64,
           67,
           64,
           72,
           56,
           79,
           57,
           12,
           70,
           36,
           56,
           67,
           45,
           71,
           61,
           68,
           81,
           43,
           34,
           53,
           59,
           69,
           82,
           105,
           70,
           63,
           34,
           56,
           72,
           78,
           74,
           73,
           48,
           82,
           52,
           34,
           69,
           84,
           57,
           41,
           89,
           50,
           72,
           62,
           96,
           74,
           80,
           51,
           80,
           80,
           54,
           59,
           104,
           105,
           112,
           75,
           69,
           63,
           77,
           92,
           58,
           41,
           55,
           35,
           47,
           80,
           92,
           56,
           52,
           82,
           80,
           62,
           53,
           48,
           66,
           63,
           89,
           86,
           54,
           79
          ],
          "symbol": "circle"
         },
         "mode": "markers",
         "text": "",
         "type": "scatter",
         "x": [
          0.7206021595231069,
          0.600148426769176,
          0.4104359743616993,
          1.5970755667006848,
          -1.2936619515577568,
          -0.8247653726117883,
          0.8635716441218286,
          0.9641754730341981,
          -0.023983744104136718,
          0.8936011658880695,
          -0.3997818395932563,
          -0.6968882043136051,
          -1.163879408522421,
          0.24301016267096173,
          1.5061934436070503,
          2.2293327935101708,
          -1.2735706894259167,
          0.07670212200171866,
          0.42749763295537124,
          -0.8362156804531724,
          0.23760756881529357,
          0.6125021013936939,
          0.9474786308756106,
          0.5792285211320449,
          -0.022141338115392657,
          0.1780786293235384,
          -0.4378983347210052,
          -1.9641912957964793,
          0.5884103102817879,
          1.2261746210124682,
          0.36692568501522266,
          0.5338772876220805,
          -1.0129881243922954,
          -0.05828206366226157,
          -0.4542632899292565,
          -0.9545712927080492,
          -0.4462063781298266,
          1.7850698534429827,
          -1.5714742286027275,
          -1.700569442248487,
          -0.7669013707864606,
          -3.131367504486959,
          -1.059983984922948,
          1.4162638414930868,
          1.6704485316623467,
          -0.939130190447798,
          0.8100608368265246,
          1.4254927278950735,
          0.28241386798408846,
          -0.20653442472757128,
          -1.745147679318256,
          -1.6430798662212416,
          1.3845799049888303,
          -1.378963965645226,
          -0.519571255210273,
          1.4442675469554762,
          -0.5705819989697787,
          -0.5135575214998415,
          -0.7725119707973551,
          0.4520162047149358,
          -0.7274765115358929,
          -1.3402720744289112,
          0.9327244040593339,
          -0.8271541013442341,
          -1.2064204344555705,
          0.3696430003742275,
          0.23974555131411265,
          -1.68529161912587,
          0.5231163706104487,
          0.6402595816400246,
          -0.043905994702309624,
          0.4468550288425965,
          0.37837924503019776,
          -0.033244845954011386,
          -1.1977701838216634,
          0.39756580016298637,
          -0.7081412455264934,
          0.5402103482032428,
          -1.8552901543432505,
          1.0089939294346084,
          1.587105528275671,
          -0.5601097082171755,
          0.11665409539915697,
          -0.5745241401224672,
          -2.558207307961996,
          -0.5339083790451622,
          -1.4864995681419446,
          -0.2949479595475197,
          0.6295343657985574,
          0.42971820599591787,
          1.5498386531740298,
          0.5916490519789844,
          -0.3998257461066869,
          1.9127966678340154,
          0.30283673972582165,
          0.24201125897767198,
          -1.7144830491064178,
          0.4238364675698964,
          0.60177217016106,
          -0.6508979705447588
         ],
         "y": [
          0.4790002364284842,
          -0.5339133712050166,
          -0.2551232292121737,
          0.7500620133948723,
          1.0639226831377517,
          0.3028647755916625,
          0.0977690423356316,
          -0.3951140303210251,
          -0.9550331925745601,
          -0.7764745770247691,
          -1.4300120636784552,
          0.722590320396416,
          0.06063841933463821,
          0.03610652845611828,
          -0.537856030516011,
          -0.078808592696729,
          -0.3114260012747389,
          -0.8941588607600373,
          -0.5808384159219051,
          0.3834337532738288,
          0.483711206092414,
          1.6829763180132218,
          -0.8919742536174792,
          0.950467512521074,
          -0.08625549152922969,
          1.2167158329958416,
          -0.033911930360870084,
          -1.9700550067826965,
          -0.02574803290346344,
          0.3794547728684391,
          -1.4103559279651778,
          1.0208301284403738,
          -1.6901429429533048,
          1.5697762867784217,
          -1.1365048100216353,
          -0.16786990398521856,
          -1.3683080519549378,
          0.6732207688411338,
          -0.724524608367036,
          -1.6556190684717973,
          1.405498473751612,
          -1.585448471793164,
          0.39518907167519784,
          0.15531514996168058,
          -0.4328193574850774,
          -0.8375570848807239,
          2.0230704348373942,
          -0.17582755292970423,
          1.9225970664687468,
          -1.5139377738915847,
          -0.4490913077935091,
          1.2021633853196803,
          -1.1047775425974564,
          0.7485099120378153,
          -0.8506817463527888,
          -0.1508540110465642,
          -0.4806223905826818,
          -0.009409878169259062,
          -0.13773066448041185,
          0.9187758383578031,
          0.24586887682641126,
          -0.4105378015561218,
          0.7002100378602496,
          1.0152904608914048,
          -0.05662237441840279,
          -1.1519555057371014,
          0.47741060260304125,
          -0.9356334286067687,
          -0.2816607396441667,
          1.2079854210569332,
          -0.9374091758648114,
          0.33622495387200485,
          0.017240232316663457,
          0.6281700912130026,
          -1.001311001407909,
          -0.01697870692670627,
          -1.6009597764633763,
          0.12951776927639422,
          -0.4318016346568667,
          0.6446717409546772,
          -1.765416896232608,
          -0.6206312391014545,
          -0.5616885246922951,
          1.5158834462222572,
          0.40289717199054675,
          0.7031019990192451,
          -0.7247400440690024,
          -2.2789079087356514,
          0.9516348236040112,
          0.5500106106728779,
          -0.6256799087748532,
          -1.2447989248999347,
          -1.5713689300682712,
          1.6189765467065518,
          -0.352213379315518,
          -1.418362779696527,
          1.0450315791300482,
          0.15528639631566069,
          0.4511257837375593,
          -0.18485970986316355
         ]
        }
       ],
       "layout": {
        "legend": {
         "bgcolor": "#F5F6F9",
         "font": {
          "color": "#4D5663"
         }
        },
        "paper_bgcolor": "#F5F6F9",
        "plot_bgcolor": "#F5F6F9",
        "template": {
         "data": {
          "bar": [
           {
            "error_x": {
             "color": "#2a3f5f"
            },
            "error_y": {
             "color": "#2a3f5f"
            },
            "marker": {
             "line": {
              "color": "#E5ECF6",
              "width": 0.5
             },
             "pattern": {
              "fillmode": "overlay",
              "size": 10,
              "solidity": 0.2
             }
            },
            "type": "bar"
           }
          ],
          "barpolar": [
           {
            "marker": {
             "line": {
              "color": "#E5ECF6",
              "width": 0.5
             },
             "pattern": {
              "fillmode": "overlay",
              "size": 10,
              "solidity": 0.2
             }
            },
            "type": "barpolar"
           }
          ],
          "carpet": [
           {
            "aaxis": {
             "endlinecolor": "#2a3f5f",
             "gridcolor": "white",
             "linecolor": "white",
             "minorgridcolor": "white",
             "startlinecolor": "#2a3f5f"
            },
            "baxis": {
             "endlinecolor": "#2a3f5f",
             "gridcolor": "white",
             "linecolor": "white",
             "minorgridcolor": "white",
             "startlinecolor": "#2a3f5f"
            },
            "type": "carpet"
           }
          ],
          "choropleth": [
           {
            "colorbar": {
             "outlinewidth": 0,
             "ticks": ""
            },
            "type": "choropleth"
           }
          ],
          "contour": [
           {
            "colorbar": {
             "outlinewidth": 0,
             "ticks": ""
            },
            "colorscale": [
             [
              0,
              "#0d0887"
             ],
             [
              0.1111111111111111,
              "#46039f"
             ],
             [
              0.2222222222222222,
              "#7201a8"
             ],
             [
              0.3333333333333333,
              "#9c179e"
             ],
             [
              0.4444444444444444,
              "#bd3786"
             ],
             [
              0.5555555555555556,
              "#d8576b"
             ],
             [
              0.6666666666666666,
              "#ed7953"
             ],
             [
              0.7777777777777778,
              "#fb9f3a"
             ],
             [
              0.8888888888888888,
              "#fdca26"
             ],
             [
              1,
              "#f0f921"
             ]
            ],
            "type": "contour"
           }
          ],
          "contourcarpet": [
           {
            "colorbar": {
             "outlinewidth": 0,
             "ticks": ""
            },
            "type": "contourcarpet"
           }
          ],
          "heatmap": [
           {
            "colorbar": {
             "outlinewidth": 0,
             "ticks": ""
            },
            "colorscale": [
             [
              0,
              "#0d0887"
             ],
             [
              0.1111111111111111,
              "#46039f"
             ],
             [
              0.2222222222222222,
              "#7201a8"
             ],
             [
              0.3333333333333333,
              "#9c179e"
             ],
             [
              0.4444444444444444,
              "#bd3786"
             ],
             [
              0.5555555555555556,
              "#d8576b"
             ],
             [
              0.6666666666666666,
              "#ed7953"
             ],
             [
              0.7777777777777778,
              "#fb9f3a"
             ],
             [
              0.8888888888888888,
              "#fdca26"
             ],
             [
              1,
              "#f0f921"
             ]
            ],
            "type": "heatmap"
           }
          ],
          "heatmapgl": [
           {
            "colorbar": {
             "outlinewidth": 0,
             "ticks": ""
            },
            "colorscale": [
             [
              0,
              "#0d0887"
             ],
             [
              0.1111111111111111,
              "#46039f"
             ],
             [
              0.2222222222222222,
              "#7201a8"
             ],
             [
              0.3333333333333333,
              "#9c179e"
             ],
             [
              0.4444444444444444,
              "#bd3786"
             ],
             [
              0.5555555555555556,
              "#d8576b"
             ],
             [
              0.6666666666666666,
              "#ed7953"
             ],
             [
              0.7777777777777778,
              "#fb9f3a"
             ],
             [
              0.8888888888888888,
              "#fdca26"
             ],
             [
              1,
              "#f0f921"
             ]
            ],
            "type": "heatmapgl"
           }
          ],
          "histogram": [
           {
            "marker": {
             "pattern": {
              "fillmode": "overlay",
              "size": 10,
              "solidity": 0.2
             }
            },
            "type": "histogram"
           }
          ],
          "histogram2d": [
           {
            "colorbar": {
             "outlinewidth": 0,
             "ticks": ""
            },
            "colorscale": [
             [
              0,
              "#0d0887"
             ],
             [
              0.1111111111111111,
              "#46039f"
             ],
             [
              0.2222222222222222,
              "#7201a8"
             ],
             [
              0.3333333333333333,
              "#9c179e"
             ],
             [
              0.4444444444444444,
              "#bd3786"
             ],
             [
              0.5555555555555556,
              "#d8576b"
             ],
             [
              0.6666666666666666,
              "#ed7953"
             ],
             [
              0.7777777777777778,
              "#fb9f3a"
             ],
             [
              0.8888888888888888,
              "#fdca26"
             ],
             [
              1,
              "#f0f921"
             ]
            ],
            "type": "histogram2d"
           }
          ],
          "histogram2dcontour": [
           {
            "colorbar": {
             "outlinewidth": 0,
             "ticks": ""
            },
            "colorscale": [
             [
              0,
              "#0d0887"
             ],
             [
              0.1111111111111111,
              "#46039f"
             ],
             [
              0.2222222222222222,
              "#7201a8"
             ],
             [
              0.3333333333333333,
              "#9c179e"
             ],
             [
              0.4444444444444444,
              "#bd3786"
             ],
             [
              0.5555555555555556,
              "#d8576b"
             ],
             [
              0.6666666666666666,
              "#ed7953"
             ],
             [
              0.7777777777777778,
              "#fb9f3a"
             ],
             [
              0.8888888888888888,
              "#fdca26"
             ],
             [
              1,
              "#f0f921"
             ]
            ],
            "type": "histogram2dcontour"
           }
          ],
          "mesh3d": [
           {
            "colorbar": {
             "outlinewidth": 0,
             "ticks": ""
            },
            "type": "mesh3d"
           }
          ],
          "parcoords": [
           {
            "line": {
             "colorbar": {
              "outlinewidth": 0,
              "ticks": ""
             }
            },
            "type": "parcoords"
           }
          ],
          "pie": [
           {
            "automargin": true,
            "type": "pie"
           }
          ],
          "scatter": [
           {
            "marker": {
             "colorbar": {
              "outlinewidth": 0,
              "ticks": ""
             }
            },
            "type": "scatter"
           }
          ],
          "scatter3d": [
           {
            "line": {
             "colorbar": {
              "outlinewidth": 0,
              "ticks": ""
             }
            },
            "marker": {
             "colorbar": {
              "outlinewidth": 0,
              "ticks": ""
             }
            },
            "type": "scatter3d"
           }
          ],
          "scattercarpet": [
           {
            "marker": {
             "colorbar": {
              "outlinewidth": 0,
              "ticks": ""
             }
            },
            "type": "scattercarpet"
           }
          ],
          "scattergeo": [
           {
            "marker": {
             "colorbar": {
              "outlinewidth": 0,
              "ticks": ""
             }
            },
            "type": "scattergeo"
           }
          ],
          "scattergl": [
           {
            "marker": {
             "colorbar": {
              "outlinewidth": 0,
              "ticks": ""
             }
            },
            "type": "scattergl"
           }
          ],
          "scattermapbox": [
           {
            "marker": {
             "colorbar": {
              "outlinewidth": 0,
              "ticks": ""
             }
            },
            "type": "scattermapbox"
           }
          ],
          "scatterpolar": [
           {
            "marker": {
             "colorbar": {
              "outlinewidth": 0,
              "ticks": ""
             }
            },
            "type": "scatterpolar"
           }
          ],
          "scatterpolargl": [
           {
            "marker": {
             "colorbar": {
              "outlinewidth": 0,
              "ticks": ""
             }
            },
            "type": "scatterpolargl"
           }
          ],
          "scatterternary": [
           {
            "marker": {
             "colorbar": {
              "outlinewidth": 0,
              "ticks": ""
             }
            },
            "type": "scatterternary"
           }
          ],
          "surface": [
           {
            "colorbar": {
             "outlinewidth": 0,
             "ticks": ""
            },
            "colorscale": [
             [
              0,
              "#0d0887"
             ],
             [
              0.1111111111111111,
              "#46039f"
             ],
             [
              0.2222222222222222,
              "#7201a8"
             ],
             [
              0.3333333333333333,
              "#9c179e"
             ],
             [
              0.4444444444444444,
              "#bd3786"
             ],
             [
              0.5555555555555556,
              "#d8576b"
             ],
             [
              0.6666666666666666,
              "#ed7953"
             ],
             [
              0.7777777777777778,
              "#fb9f3a"
             ],
             [
              0.8888888888888888,
              "#fdca26"
             ],
             [
              1,
              "#f0f921"
             ]
            ],
            "type": "surface"
           }
          ],
          "table": [
           {
            "cells": {
             "fill": {
              "color": "#EBF0F8"
             },
             "line": {
              "color": "white"
             }
            },
            "header": {
             "fill": {
              "color": "#C8D4E3"
             },
             "line": {
              "color": "white"
             }
            },
            "type": "table"
           }
          ]
         },
         "layout": {
          "annotationdefaults": {
           "arrowcolor": "#2a3f5f",
           "arrowhead": 0,
           "arrowwidth": 1
          },
          "autotypenumbers": "strict",
          "coloraxis": {
           "colorbar": {
            "outlinewidth": 0,
            "ticks": ""
           }
          },
          "colorscale": {
           "diverging": [
            [
             0,
             "#8e0152"
            ],
            [
             0.1,
             "#c51b7d"
            ],
            [
             0.2,
             "#de77ae"
            ],
            [
             0.3,
             "#f1b6da"
            ],
            [
             0.4,
             "#fde0ef"
            ],
            [
             0.5,
             "#f7f7f7"
            ],
            [
             0.6,
             "#e6f5d0"
            ],
            [
             0.7,
             "#b8e186"
            ],
            [
             0.8,
             "#7fbc41"
            ],
            [
             0.9,
             "#4d9221"
            ],
            [
             1,
             "#276419"
            ]
           ],
           "sequential": [
            [
             0,
             "#0d0887"
            ],
            [
             0.1111111111111111,
             "#46039f"
            ],
            [
             0.2222222222222222,
             "#7201a8"
            ],
            [
             0.3333333333333333,
             "#9c179e"
            ],
            [
             0.4444444444444444,
             "#bd3786"
            ],
            [
             0.5555555555555556,
             "#d8576b"
            ],
            [
             0.6666666666666666,
             "#ed7953"
            ],
            [
             0.7777777777777778,
             "#fb9f3a"
            ],
            [
             0.8888888888888888,
             "#fdca26"
            ],
            [
             1,
             "#f0f921"
            ]
           ],
           "sequentialminus": [
            [
             0,
             "#0d0887"
            ],
            [
             0.1111111111111111,
             "#46039f"
            ],
            [
             0.2222222222222222,
             "#7201a8"
            ],
            [
             0.3333333333333333,
             "#9c179e"
            ],
            [
             0.4444444444444444,
             "#bd3786"
            ],
            [
             0.5555555555555556,
             "#d8576b"
            ],
            [
             0.6666666666666666,
             "#ed7953"
            ],
            [
             0.7777777777777778,
             "#fb9f3a"
            ],
            [
             0.8888888888888888,
             "#fdca26"
            ],
            [
             1,
             "#f0f921"
            ]
           ]
          },
          "colorway": [
           "#636efa",
           "#EF553B",
           "#00cc96",
           "#ab63fa",
           "#FFA15A",
           "#19d3f3",
           "#FF6692",
           "#B6E880",
           "#FF97FF",
           "#FECB52"
          ],
          "font": {
           "color": "#2a3f5f"
          },
          "geo": {
           "bgcolor": "white",
           "lakecolor": "white",
           "landcolor": "#E5ECF6",
           "showlakes": true,
           "showland": true,
           "subunitcolor": "white"
          },
          "hoverlabel": {
           "align": "left"
          },
          "hovermode": "closest",
          "mapbox": {
           "style": "light"
          },
          "paper_bgcolor": "white",
          "plot_bgcolor": "#E5ECF6",
          "polar": {
           "angularaxis": {
            "gridcolor": "white",
            "linecolor": "white",
            "ticks": ""
           },
           "bgcolor": "#E5ECF6",
           "radialaxis": {
            "gridcolor": "white",
            "linecolor": "white",
            "ticks": ""
           }
          },
          "scene": {
           "xaxis": {
            "backgroundcolor": "#E5ECF6",
            "gridcolor": "white",
            "gridwidth": 2,
            "linecolor": "white",
            "showbackground": true,
            "ticks": "",
            "zerolinecolor": "white"
           },
           "yaxis": {
            "backgroundcolor": "#E5ECF6",
            "gridcolor": "white",
            "gridwidth": 2,
            "linecolor": "white",
            "showbackground": true,
            "ticks": "",
            "zerolinecolor": "white"
           },
           "zaxis": {
            "backgroundcolor": "#E5ECF6",
            "gridcolor": "white",
            "gridwidth": 2,
            "linecolor": "white",
            "showbackground": true,
            "ticks": "",
            "zerolinecolor": "white"
           }
          },
          "shapedefaults": {
           "line": {
            "color": "#2a3f5f"
           }
          },
          "ternary": {
           "aaxis": {
            "gridcolor": "white",
            "linecolor": "white",
            "ticks": ""
           },
           "baxis": {
            "gridcolor": "white",
            "linecolor": "white",
            "ticks": ""
           },
           "bgcolor": "#E5ECF6",
           "caxis": {
            "gridcolor": "white",
            "linecolor": "white",
            "ticks": ""
           }
          },
          "title": {
           "x": 0.05
          },
          "xaxis": {
           "automargin": true,
           "gridcolor": "white",
           "linecolor": "white",
           "ticks": "",
           "title": {
            "standoff": 15
           },
           "zerolinecolor": "white",
           "zerolinewidth": 2
          },
          "yaxis": {
           "automargin": true,
           "gridcolor": "white",
           "linecolor": "white",
           "ticks": "",
           "title": {
            "standoff": 15
           },
           "zerolinecolor": "white",
           "zerolinewidth": 2
          }
         }
        },
        "title": {
         "font": {
          "color": "#4D5663"
         }
        },
        "xaxis": {
         "gridcolor": "#E1E5ED",
         "showgrid": true,
         "tickfont": {
          "color": "#4D5663"
         },
         "title": {
          "font": {
           "color": "#4D5663"
          },
          "text": ""
         },
         "zerolinecolor": "#E1E5ED"
        },
        "yaxis": {
         "gridcolor": "#E1E5ED",
         "showgrid": true,
         "tickfont": {
          "color": "#4D5663"
         },
         "title": {
          "font": {
           "color": "#4D5663"
          },
          "text": ""
         },
         "zerolinecolor": "#E1E5ED"
        }
       }
      },
      "text/html": [
       "<div>                            <div id=\"aa1b5650-d2b0-4af8-bb91-daf0857407f4\" class=\"plotly-graph-div\" style=\"height:525px; width:100%;\"></div>            <script type=\"text/javascript\">                require([\"plotly\"], function(Plotly) {                    window.PLOTLYENV=window.PLOTLYENV || {};\n",
       "                    window.PLOTLYENV.BASE_URL='https://plot.ly';                                    if (document.getElementById(\"aa1b5650-d2b0-4af8-bb91-daf0857407f4\")) {                    Plotly.newPlot(                        \"aa1b5650-d2b0-4af8-bb91-daf0857407f4\",                        [{\"marker\":{\"color\":[\"rgb(255, 153, 51)\",\"rgb(55, 128, 191)\",\"rgb(50, 171, 96)\",\"rgb(128, 0, 128)\",\"rgb(219, 64, 82)\",\"rgb(0, 128, 128)\",\"rgb(255, 255, 51)\",\"rgb(128, 128, 0)\",\"rgb(251, 128, 114)\",\"rgb(128, 177, 211)\"],\"line\":{\"width\":1.3},\"size\":[63,78,55,75,81,81,97,70,44,83,84,99,86,56,38,80,49,87,40,64,64,67,64,72,56,79,57,12,70,36,56,67,45,71,61,68,81,43,34,53,59,69,82,105,70,63,34,56,72,78,74,73,48,82,52,34,69,84,57,41,89,50,72,62,96,74,80,51,80,80,54,59,104,105,112,75,69,63,77,92,58,41,55,35,47,80,92,56,52,82,80,62,53,48,66,63,89,86,54,79],\"symbol\":\"circle\"},\"mode\":\"markers\",\"text\":\"\",\"x\":[0.7206021595231069,0.600148426769176,0.4104359743616993,1.5970755667006848,-1.2936619515577568,-0.8247653726117883,0.8635716441218286,0.9641754730341981,-0.023983744104136718,0.8936011658880695,-0.3997818395932563,-0.6968882043136051,-1.163879408522421,0.24301016267096173,1.5061934436070503,2.2293327935101708,-1.2735706894259167,0.07670212200171866,0.42749763295537124,-0.8362156804531724,0.23760756881529357,0.6125021013936939,0.9474786308756106,0.5792285211320449,-0.022141338115392657,0.1780786293235384,-0.4378983347210052,-1.9641912957964793,0.5884103102817879,1.2261746210124682,0.36692568501522266,0.5338772876220805,-1.0129881243922954,-0.05828206366226157,-0.4542632899292565,-0.9545712927080492,-0.4462063781298266,1.7850698534429827,-1.5714742286027275,-1.700569442248487,-0.7669013707864606,-3.131367504486959,-1.059983984922948,1.4162638414930868,1.6704485316623467,-0.939130190447798,0.8100608368265246,1.4254927278950735,0.28241386798408846,-0.20653442472757128,-1.745147679318256,-1.6430798662212416,1.3845799049888303,-1.378963965645226,-0.519571255210273,1.4442675469554762,-0.5705819989697787,-0.5135575214998415,-0.7725119707973551,0.4520162047149358,-0.7274765115358929,-1.3402720744289112,0.9327244040593339,-0.8271541013442341,-1.2064204344555705,0.3696430003742275,0.23974555131411265,-1.68529161912587,0.5231163706104487,0.6402595816400246,-0.043905994702309624,0.4468550288425965,0.37837924503019776,-0.033244845954011386,-1.1977701838216634,0.39756580016298637,-0.7081412455264934,0.5402103482032428,-1.8552901543432505,1.0089939294346084,1.587105528275671,-0.5601097082171755,0.11665409539915697,-0.5745241401224672,-2.558207307961996,-0.5339083790451622,-1.4864995681419446,-0.2949479595475197,0.6295343657985574,0.42971820599591787,1.5498386531740298,0.5916490519789844,-0.3998257461066869,1.9127966678340154,0.30283673972582165,0.24201125897767198,-1.7144830491064178,0.4238364675698964,0.60177217016106,-0.6508979705447588],\"y\":[0.4790002364284842,-0.5339133712050166,-0.2551232292121737,0.7500620133948723,1.0639226831377517,0.3028647755916625,0.0977690423356316,-0.3951140303210251,-0.9550331925745601,-0.7764745770247691,-1.4300120636784552,0.722590320396416,0.06063841933463821,0.03610652845611828,-0.537856030516011,-0.078808592696729,-0.3114260012747389,-0.8941588607600373,-0.5808384159219051,0.3834337532738288,0.483711206092414,1.6829763180132218,-0.8919742536174792,0.950467512521074,-0.08625549152922969,1.2167158329958416,-0.033911930360870084,-1.9700550067826965,-0.02574803290346344,0.3794547728684391,-1.4103559279651778,1.0208301284403738,-1.6901429429533048,1.5697762867784217,-1.1365048100216353,-0.16786990398521856,-1.3683080519549378,0.6732207688411338,-0.724524608367036,-1.6556190684717973,1.405498473751612,-1.585448471793164,0.39518907167519784,0.15531514996168058,-0.4328193574850774,-0.8375570848807239,2.0230704348373942,-0.17582755292970423,1.9225970664687468,-1.5139377738915847,-0.4490913077935091,1.2021633853196803,-1.1047775425974564,0.7485099120378153,-0.8506817463527888,-0.1508540110465642,-0.4806223905826818,-0.009409878169259062,-0.13773066448041185,0.9187758383578031,0.24586887682641126,-0.4105378015561218,0.7002100378602496,1.0152904608914048,-0.05662237441840279,-1.1519555057371014,0.47741060260304125,-0.9356334286067687,-0.2816607396441667,1.2079854210569332,-0.9374091758648114,0.33622495387200485,0.017240232316663457,0.6281700912130026,-1.001311001407909,-0.01697870692670627,-1.6009597764633763,0.12951776927639422,-0.4318016346568667,0.6446717409546772,-1.765416896232608,-0.6206312391014545,-0.5616885246922951,1.5158834462222572,0.40289717199054675,0.7031019990192451,-0.7247400440690024,-2.2789079087356514,0.9516348236040112,0.5500106106728779,-0.6256799087748532,-1.2447989248999347,-1.5713689300682712,1.6189765467065518,-0.352213379315518,-1.418362779696527,1.0450315791300482,0.15528639631566069,0.4511257837375593,-0.18485970986316355],\"type\":\"scatter\"}],                        {\"legend\":{\"bgcolor\":\"#F5F6F9\",\"font\":{\"color\":\"#4D5663\"}},\"paper_bgcolor\":\"#F5F6F9\",\"plot_bgcolor\":\"#F5F6F9\",\"template\":{\"data\":{\"barpolar\":[{\"marker\":{\"line\":{\"color\":\"#E5ECF6\",\"width\":0.5},\"pattern\":{\"fillmode\":\"overlay\",\"size\":10,\"solidity\":0.2}},\"type\":\"barpolar\"}],\"bar\":[{\"error_x\":{\"color\":\"#2a3f5f\"},\"error_y\":{\"color\":\"#2a3f5f\"},\"marker\":{\"line\":{\"color\":\"#E5ECF6\",\"width\":0.5},\"pattern\":{\"fillmode\":\"overlay\",\"size\":10,\"solidity\":0.2}},\"type\":\"bar\"}],\"carpet\":[{\"aaxis\":{\"endlinecolor\":\"#2a3f5f\",\"gridcolor\":\"white\",\"linecolor\":\"white\",\"minorgridcolor\":\"white\",\"startlinecolor\":\"#2a3f5f\"},\"baxis\":{\"endlinecolor\":\"#2a3f5f\",\"gridcolor\":\"white\",\"linecolor\":\"white\",\"minorgridcolor\":\"white\",\"startlinecolor\":\"#2a3f5f\"},\"type\":\"carpet\"}],\"choropleth\":[{\"colorbar\":{\"outlinewidth\":0,\"ticks\":\"\"},\"type\":\"choropleth\"}],\"contourcarpet\":[{\"colorbar\":{\"outlinewidth\":0,\"ticks\":\"\"},\"type\":\"contourcarpet\"}],\"contour\":[{\"colorbar\":{\"outlinewidth\":0,\"ticks\":\"\"},\"colorscale\":[[0.0,\"#0d0887\"],[0.1111111111111111,\"#46039f\"],[0.2222222222222222,\"#7201a8\"],[0.3333333333333333,\"#9c179e\"],[0.4444444444444444,\"#bd3786\"],[0.5555555555555556,\"#d8576b\"],[0.6666666666666666,\"#ed7953\"],[0.7777777777777778,\"#fb9f3a\"],[0.8888888888888888,\"#fdca26\"],[1.0,\"#f0f921\"]],\"type\":\"contour\"}],\"heatmapgl\":[{\"colorbar\":{\"outlinewidth\":0,\"ticks\":\"\"},\"colorscale\":[[0.0,\"#0d0887\"],[0.1111111111111111,\"#46039f\"],[0.2222222222222222,\"#7201a8\"],[0.3333333333333333,\"#9c179e\"],[0.4444444444444444,\"#bd3786\"],[0.5555555555555556,\"#d8576b\"],[0.6666666666666666,\"#ed7953\"],[0.7777777777777778,\"#fb9f3a\"],[0.8888888888888888,\"#fdca26\"],[1.0,\"#f0f921\"]],\"type\":\"heatmapgl\"}],\"heatmap\":[{\"colorbar\":{\"outlinewidth\":0,\"ticks\":\"\"},\"colorscale\":[[0.0,\"#0d0887\"],[0.1111111111111111,\"#46039f\"],[0.2222222222222222,\"#7201a8\"],[0.3333333333333333,\"#9c179e\"],[0.4444444444444444,\"#bd3786\"],[0.5555555555555556,\"#d8576b\"],[0.6666666666666666,\"#ed7953\"],[0.7777777777777778,\"#fb9f3a\"],[0.8888888888888888,\"#fdca26\"],[1.0,\"#f0f921\"]],\"type\":\"heatmap\"}],\"histogram2dcontour\":[{\"colorbar\":{\"outlinewidth\":0,\"ticks\":\"\"},\"colorscale\":[[0.0,\"#0d0887\"],[0.1111111111111111,\"#46039f\"],[0.2222222222222222,\"#7201a8\"],[0.3333333333333333,\"#9c179e\"],[0.4444444444444444,\"#bd3786\"],[0.5555555555555556,\"#d8576b\"],[0.6666666666666666,\"#ed7953\"],[0.7777777777777778,\"#fb9f3a\"],[0.8888888888888888,\"#fdca26\"],[1.0,\"#f0f921\"]],\"type\":\"histogram2dcontour\"}],\"histogram2d\":[{\"colorbar\":{\"outlinewidth\":0,\"ticks\":\"\"},\"colorscale\":[[0.0,\"#0d0887\"],[0.1111111111111111,\"#46039f\"],[0.2222222222222222,\"#7201a8\"],[0.3333333333333333,\"#9c179e\"],[0.4444444444444444,\"#bd3786\"],[0.5555555555555556,\"#d8576b\"],[0.6666666666666666,\"#ed7953\"],[0.7777777777777778,\"#fb9f3a\"],[0.8888888888888888,\"#fdca26\"],[1.0,\"#f0f921\"]],\"type\":\"histogram2d\"}],\"histogram\":[{\"marker\":{\"pattern\":{\"fillmode\":\"overlay\",\"size\":10,\"solidity\":0.2}},\"type\":\"histogram\"}],\"mesh3d\":[{\"colorbar\":{\"outlinewidth\":0,\"ticks\":\"\"},\"type\":\"mesh3d\"}],\"parcoords\":[{\"line\":{\"colorbar\":{\"outlinewidth\":0,\"ticks\":\"\"}},\"type\":\"parcoords\"}],\"pie\":[{\"automargin\":true,\"type\":\"pie\"}],\"scatter3d\":[{\"line\":{\"colorbar\":{\"outlinewidth\":0,\"ticks\":\"\"}},\"marker\":{\"colorbar\":{\"outlinewidth\":0,\"ticks\":\"\"}},\"type\":\"scatter3d\"}],\"scattercarpet\":[{\"marker\":{\"colorbar\":{\"outlinewidth\":0,\"ticks\":\"\"}},\"type\":\"scattercarpet\"}],\"scattergeo\":[{\"marker\":{\"colorbar\":{\"outlinewidth\":0,\"ticks\":\"\"}},\"type\":\"scattergeo\"}],\"scattergl\":[{\"marker\":{\"colorbar\":{\"outlinewidth\":0,\"ticks\":\"\"}},\"type\":\"scattergl\"}],\"scattermapbox\":[{\"marker\":{\"colorbar\":{\"outlinewidth\":0,\"ticks\":\"\"}},\"type\":\"scattermapbox\"}],\"scatterpolargl\":[{\"marker\":{\"colorbar\":{\"outlinewidth\":0,\"ticks\":\"\"}},\"type\":\"scatterpolargl\"}],\"scatterpolar\":[{\"marker\":{\"colorbar\":{\"outlinewidth\":0,\"ticks\":\"\"}},\"type\":\"scatterpolar\"}],\"scatter\":[{\"marker\":{\"colorbar\":{\"outlinewidth\":0,\"ticks\":\"\"}},\"type\":\"scatter\"}],\"scatterternary\":[{\"marker\":{\"colorbar\":{\"outlinewidth\":0,\"ticks\":\"\"}},\"type\":\"scatterternary\"}],\"surface\":[{\"colorbar\":{\"outlinewidth\":0,\"ticks\":\"\"},\"colorscale\":[[0.0,\"#0d0887\"],[0.1111111111111111,\"#46039f\"],[0.2222222222222222,\"#7201a8\"],[0.3333333333333333,\"#9c179e\"],[0.4444444444444444,\"#bd3786\"],[0.5555555555555556,\"#d8576b\"],[0.6666666666666666,\"#ed7953\"],[0.7777777777777778,\"#fb9f3a\"],[0.8888888888888888,\"#fdca26\"],[1.0,\"#f0f921\"]],\"type\":\"surface\"}],\"table\":[{\"cells\":{\"fill\":{\"color\":\"#EBF0F8\"},\"line\":{\"color\":\"white\"}},\"header\":{\"fill\":{\"color\":\"#C8D4E3\"},\"line\":{\"color\":\"white\"}},\"type\":\"table\"}]},\"layout\":{\"annotationdefaults\":{\"arrowcolor\":\"#2a3f5f\",\"arrowhead\":0,\"arrowwidth\":1},\"autotypenumbers\":\"strict\",\"coloraxis\":{\"colorbar\":{\"outlinewidth\":0,\"ticks\":\"\"}},\"colorscale\":{\"diverging\":[[0,\"#8e0152\"],[0.1,\"#c51b7d\"],[0.2,\"#de77ae\"],[0.3,\"#f1b6da\"],[0.4,\"#fde0ef\"],[0.5,\"#f7f7f7\"],[0.6,\"#e6f5d0\"],[0.7,\"#b8e186\"],[0.8,\"#7fbc41\"],[0.9,\"#4d9221\"],[1,\"#276419\"]],\"sequential\":[[0.0,\"#0d0887\"],[0.1111111111111111,\"#46039f\"],[0.2222222222222222,\"#7201a8\"],[0.3333333333333333,\"#9c179e\"],[0.4444444444444444,\"#bd3786\"],[0.5555555555555556,\"#d8576b\"],[0.6666666666666666,\"#ed7953\"],[0.7777777777777778,\"#fb9f3a\"],[0.8888888888888888,\"#fdca26\"],[1.0,\"#f0f921\"]],\"sequentialminus\":[[0.0,\"#0d0887\"],[0.1111111111111111,\"#46039f\"],[0.2222222222222222,\"#7201a8\"],[0.3333333333333333,\"#9c179e\"],[0.4444444444444444,\"#bd3786\"],[0.5555555555555556,\"#d8576b\"],[0.6666666666666666,\"#ed7953\"],[0.7777777777777778,\"#fb9f3a\"],[0.8888888888888888,\"#fdca26\"],[1.0,\"#f0f921\"]]},\"colorway\":[\"#636efa\",\"#EF553B\",\"#00cc96\",\"#ab63fa\",\"#FFA15A\",\"#19d3f3\",\"#FF6692\",\"#B6E880\",\"#FF97FF\",\"#FECB52\"],\"font\":{\"color\":\"#2a3f5f\"},\"geo\":{\"bgcolor\":\"white\",\"lakecolor\":\"white\",\"landcolor\":\"#E5ECF6\",\"showlakes\":true,\"showland\":true,\"subunitcolor\":\"white\"},\"hoverlabel\":{\"align\":\"left\"},\"hovermode\":\"closest\",\"mapbox\":{\"style\":\"light\"},\"paper_bgcolor\":\"white\",\"plot_bgcolor\":\"#E5ECF6\",\"polar\":{\"angularaxis\":{\"gridcolor\":\"white\",\"linecolor\":\"white\",\"ticks\":\"\"},\"bgcolor\":\"#E5ECF6\",\"radialaxis\":{\"gridcolor\":\"white\",\"linecolor\":\"white\",\"ticks\":\"\"}},\"scene\":{\"xaxis\":{\"backgroundcolor\":\"#E5ECF6\",\"gridcolor\":\"white\",\"gridwidth\":2,\"linecolor\":\"white\",\"showbackground\":true,\"ticks\":\"\",\"zerolinecolor\":\"white\"},\"yaxis\":{\"backgroundcolor\":\"#E5ECF6\",\"gridcolor\":\"white\",\"gridwidth\":2,\"linecolor\":\"white\",\"showbackground\":true,\"ticks\":\"\",\"zerolinecolor\":\"white\"},\"zaxis\":{\"backgroundcolor\":\"#E5ECF6\",\"gridcolor\":\"white\",\"gridwidth\":2,\"linecolor\":\"white\",\"showbackground\":true,\"ticks\":\"\",\"zerolinecolor\":\"white\"}},\"shapedefaults\":{\"line\":{\"color\":\"#2a3f5f\"}},\"ternary\":{\"aaxis\":{\"gridcolor\":\"white\",\"linecolor\":\"white\",\"ticks\":\"\"},\"baxis\":{\"gridcolor\":\"white\",\"linecolor\":\"white\",\"ticks\":\"\"},\"bgcolor\":\"#E5ECF6\",\"caxis\":{\"gridcolor\":\"white\",\"linecolor\":\"white\",\"ticks\":\"\"}},\"title\":{\"x\":0.05},\"xaxis\":{\"automargin\":true,\"gridcolor\":\"white\",\"linecolor\":\"white\",\"ticks\":\"\",\"title\":{\"standoff\":15},\"zerolinecolor\":\"white\",\"zerolinewidth\":2},\"yaxis\":{\"automargin\":true,\"gridcolor\":\"white\",\"linecolor\":\"white\",\"ticks\":\"\",\"title\":{\"standoff\":15},\"zerolinecolor\":\"white\",\"zerolinewidth\":2}}},\"title\":{\"font\":{\"color\":\"#4D5663\"}},\"xaxis\":{\"gridcolor\":\"#E1E5ED\",\"showgrid\":true,\"tickfont\":{\"color\":\"#4D5663\"},\"title\":{\"font\":{\"color\":\"#4D5663\"},\"text\":\"\"},\"zerolinecolor\":\"#E1E5ED\"},\"yaxis\":{\"gridcolor\":\"#E1E5ED\",\"showgrid\":true,\"tickfont\":{\"color\":\"#4D5663\"},\"title\":{\"font\":{\"color\":\"#4D5663\"},\"text\":\"\"},\"zerolinecolor\":\"#E1E5ED\"}},                        {\"showLink\": true, \"linkText\": \"Export to plot.ly\", \"plotlyServerURL\": \"https://plot.ly\", \"responsive\": true}                    ).then(function(){\n",
       "                            \n",
       "var gd = document.getElementById('aa1b5650-d2b0-4af8-bb91-daf0857407f4');\n",
       "var x = new MutationObserver(function (mutations, observer) {{\n",
       "        var display = window.getComputedStyle(gd).display;\n",
       "        if (!display || display === 'none') {{\n",
       "            console.log([gd, 'removed!']);\n",
       "            Plotly.purge(gd);\n",
       "            observer.disconnect();\n",
       "        }}\n",
       "}});\n",
       "\n",
       "// Listen for the removal of the full notebook cells\n",
       "var notebookContainer = gd.closest('#notebook-container');\n",
       "if (notebookContainer) {{\n",
       "    x.observe(notebookContainer, {childList: true});\n",
       "}}\n",
       "\n",
       "// Listen for the clearing of the current output cell\n",
       "var outputEl = gd.closest('.output');\n",
       "if (outputEl) {{\n",
       "    x.observe(outputEl, {childList: true});\n",
       "}}\n",
       "\n",
       "                        })                };                });            </script>        </div>"
      ]
     },
     "metadata": {},
     "output_type": "display_data"
    }
   ],
   "source": [
    "df.iplot(kind='bubble',x='A',y='B',size='C') #important"
   ]
  },
  {
   "cell_type": "code",
   "execution_count": 48,
   "id": "6a643062",
   "metadata": {},
   "outputs": [
    {
     "data": {
      "application/vnd.plotly.v1+json": {
       "config": {
        "linkText": "Export to plot.ly",
        "plotlyServerURL": "https://plot.ly",
        "showLink": true
       },
       "data": [
        {
         "histfunc": "count",
         "histnorm": "",
         "marker": {
          "color": "rgba(255, 153, 51, 1.0)",
          "line": {
           "color": "#4D5663",
           "width": 1.3
          }
         },
         "name": "A",
         "nbinsx": 10,
         "opacity": 0.8,
         "orientation": "v",
         "type": "histogram",
         "x": [
          0.7206021595231069,
          0.600148426769176,
          0.4104359743616993,
          1.5970755667006848,
          -1.2936619515577568,
          -0.8247653726117883,
          0.8635716441218286,
          0.9641754730341981,
          -0.023983744104136718,
          0.8936011658880695,
          -0.3997818395932563,
          -0.6968882043136051,
          -1.163879408522421,
          0.24301016267096173,
          1.5061934436070503,
          2.2293327935101708,
          -1.2735706894259167,
          0.07670212200171866,
          0.42749763295537124,
          -0.8362156804531724,
          0.23760756881529357,
          0.6125021013936939,
          0.9474786308756106,
          0.5792285211320449,
          -0.022141338115392657,
          0.1780786293235384,
          -0.4378983347210052,
          -1.9641912957964793,
          0.5884103102817879,
          1.2261746210124682,
          0.36692568501522266,
          0.5338772876220805,
          -1.0129881243922954,
          -0.05828206366226157,
          -0.4542632899292565,
          -0.9545712927080492,
          -0.4462063781298266,
          1.7850698534429827,
          -1.5714742286027275,
          -1.700569442248487,
          -0.7669013707864606,
          -3.131367504486959,
          -1.059983984922948,
          1.4162638414930868,
          1.6704485316623467,
          -0.939130190447798,
          0.8100608368265246,
          1.4254927278950735,
          0.28241386798408846,
          -0.20653442472757128,
          -1.745147679318256,
          -1.6430798662212416,
          1.3845799049888303,
          -1.378963965645226,
          -0.519571255210273,
          1.4442675469554762,
          -0.5705819989697787,
          -0.5135575214998415,
          -0.7725119707973551,
          0.4520162047149358,
          -0.7274765115358929,
          -1.3402720744289112,
          0.9327244040593339,
          -0.8271541013442341,
          -1.2064204344555705,
          0.3696430003742275,
          0.23974555131411265,
          -1.68529161912587,
          0.5231163706104487,
          0.6402595816400246,
          -0.043905994702309624,
          0.4468550288425965,
          0.37837924503019776,
          -0.033244845954011386,
          -1.1977701838216634,
          0.39756580016298637,
          -0.7081412455264934,
          0.5402103482032428,
          -1.8552901543432505,
          1.0089939294346084,
          1.587105528275671,
          -0.5601097082171755,
          0.11665409539915697,
          -0.5745241401224672,
          -2.558207307961996,
          -0.5339083790451622,
          -1.4864995681419446,
          -0.2949479595475197,
          0.6295343657985574,
          0.42971820599591787,
          1.5498386531740298,
          0.5916490519789844,
          -0.3998257461066869,
          1.9127966678340154,
          0.30283673972582165,
          0.24201125897767198,
          -1.7144830491064178,
          0.4238364675698964,
          0.60177217016106,
          -0.6508979705447588
         ],
         "xaxis": "x",
         "yaxis": "y"
        },
        {
         "line": {
          "color": "rgba(128, 128, 128, 1.0)",
          "dash": "solid",
          "shape": "linear",
          "width": 1.3
         },
         "marker": {
          "size": 2,
          "symbol": "circle"
         },
         "mode": "markers",
         "name": "A",
         "text": "",
         "type": "scatter",
         "x": [
          0.4790002364284842,
          -0.5339133712050166,
          -0.2551232292121737,
          0.7500620133948723,
          1.0639226831377517,
          0.3028647755916625,
          0.0977690423356316,
          -0.3951140303210251,
          -0.9550331925745601,
          -0.7764745770247691,
          -1.4300120636784552,
          0.722590320396416,
          0.06063841933463821,
          0.03610652845611828,
          -0.537856030516011,
          -0.078808592696729,
          -0.3114260012747389,
          -0.8941588607600373,
          -0.5808384159219051,
          0.3834337532738288,
          0.483711206092414,
          1.6829763180132218,
          -0.8919742536174792,
          0.950467512521074,
          -0.08625549152922969,
          1.2167158329958416,
          -0.033911930360870084,
          -1.9700550067826965,
          -0.02574803290346344,
          0.3794547728684391,
          -1.4103559279651778,
          1.0208301284403738,
          -1.6901429429533048,
          1.5697762867784217,
          -1.1365048100216353,
          -0.16786990398521856,
          -1.3683080519549378,
          0.6732207688411338,
          -0.724524608367036,
          -1.6556190684717973,
          1.405498473751612,
          -1.585448471793164,
          0.39518907167519784,
          0.15531514996168058,
          -0.4328193574850774,
          -0.8375570848807239,
          2.0230704348373942,
          -0.17582755292970423,
          1.9225970664687468,
          -1.5139377738915847,
          -0.4490913077935091,
          1.2021633853196803,
          -1.1047775425974564,
          0.7485099120378153,
          -0.8506817463527888,
          -0.1508540110465642,
          -0.4806223905826818,
          -0.009409878169259062,
          -0.13773066448041185,
          0.9187758383578031,
          0.24586887682641126,
          -0.4105378015561218,
          0.7002100378602496,
          1.0152904608914048,
          -0.05662237441840279,
          -1.1519555057371014,
          0.47741060260304125,
          -0.9356334286067687,
          -0.2816607396441667,
          1.2079854210569332,
          -0.9374091758648114,
          0.33622495387200485,
          0.017240232316663457,
          0.6281700912130026,
          -1.001311001407909,
          -0.01697870692670627,
          -1.6009597764633763,
          0.12951776927639422,
          -0.4318016346568667,
          0.6446717409546772,
          -1.765416896232608,
          -0.6206312391014545,
          -0.5616885246922951,
          1.5158834462222572,
          0.40289717199054675,
          0.7031019990192451,
          -0.7247400440690024,
          -2.2789079087356514,
          0.9516348236040112,
          0.5500106106728779,
          -0.6256799087748532,
          -1.2447989248999347,
          -1.5713689300682712,
          1.6189765467065518,
          -0.352213379315518,
          -1.418362779696527,
          1.0450315791300482,
          0.15528639631566069,
          0.4511257837375593,
          -0.18485970986316355
         ],
         "xaxis": "x2",
         "y": [
          0.7206021595231069,
          0.600148426769176,
          0.4104359743616993,
          1.5970755667006848,
          -1.2936619515577568,
          -0.8247653726117883,
          0.8635716441218286,
          0.9641754730341981,
          -0.023983744104136718,
          0.8936011658880695,
          -0.3997818395932563,
          -0.6968882043136051,
          -1.163879408522421,
          0.24301016267096173,
          1.5061934436070503,
          2.2293327935101708,
          -1.2735706894259167,
          0.07670212200171866,
          0.42749763295537124,
          -0.8362156804531724,
          0.23760756881529357,
          0.6125021013936939,
          0.9474786308756106,
          0.5792285211320449,
          -0.022141338115392657,
          0.1780786293235384,
          -0.4378983347210052,
          -1.9641912957964793,
          0.5884103102817879,
          1.2261746210124682,
          0.36692568501522266,
          0.5338772876220805,
          -1.0129881243922954,
          -0.05828206366226157,
          -0.4542632899292565,
          -0.9545712927080492,
          -0.4462063781298266,
          1.7850698534429827,
          -1.5714742286027275,
          -1.700569442248487,
          -0.7669013707864606,
          -3.131367504486959,
          -1.059983984922948,
          1.4162638414930868,
          1.6704485316623467,
          -0.939130190447798,
          0.8100608368265246,
          1.4254927278950735,
          0.28241386798408846,
          -0.20653442472757128,
          -1.745147679318256,
          -1.6430798662212416,
          1.3845799049888303,
          -1.378963965645226,
          -0.519571255210273,
          1.4442675469554762,
          -0.5705819989697787,
          -0.5135575214998415,
          -0.7725119707973551,
          0.4520162047149358,
          -0.7274765115358929,
          -1.3402720744289112,
          0.9327244040593339,
          -0.8271541013442341,
          -1.2064204344555705,
          0.3696430003742275,
          0.23974555131411265,
          -1.68529161912587,
          0.5231163706104487,
          0.6402595816400246,
          -0.043905994702309624,
          0.4468550288425965,
          0.37837924503019776,
          -0.033244845954011386,
          -1.1977701838216634,
          0.39756580016298637,
          -0.7081412455264934,
          0.5402103482032428,
          -1.8552901543432505,
          1.0089939294346084,
          1.587105528275671,
          -0.5601097082171755,
          0.11665409539915697,
          -0.5745241401224672,
          -2.558207307961996,
          -0.5339083790451622,
          -1.4864995681419446,
          -0.2949479595475197,
          0.6295343657985574,
          0.42971820599591787,
          1.5498386531740298,
          0.5916490519789844,
          -0.3998257461066869,
          1.9127966678340154,
          0.30283673972582165,
          0.24201125897767198,
          -1.7144830491064178,
          0.4238364675698964,
          0.60177217016106,
          -0.6508979705447588
         ],
         "yaxis": "y2"
        },
        {
         "line": {
          "color": "rgba(128, 128, 128, 1.0)",
          "dash": "solid",
          "shape": "linear",
          "width": 1.3
         },
         "marker": {
          "size": 2,
          "symbol": "circle"
         },
         "mode": "markers",
         "name": "A",
         "text": "",
         "type": "scatter",
         "x": [
          -0.1710539717238674,
          0.6761120036186342,
          -0.6364901882466849,
          0.5068375166337368,
          0.8587563554081904,
          0.8815777839520635,
          1.7981957622905946,
          0.23629650342768097,
          -1.2654142235465151,
          0.9985852638112375,
          1.0140967677490105,
          1.9213050225984043,
          1.147118897460104,
          -0.5571080126333299,
          -1.5966228700302354,
          0.7799340936002608,
          -0.9773101083967402,
          1.197839159404519,
          -1.5107967182448119,
          -0.13519320205885943,
          -0.11407554694339425,
          0.0416244963029414,
          -0.11694785669789755,
          0.32555050158578663,
          -0.581746887771692,
          0.7537911994443084,
          -0.5051520940880653,
          -3.1224181613669932,
          0.25322090179614604,
          -1.709347508989651,
          -0.574636669754101,
          0.0307936632530043,
          -1.2285030245784847,
          0.2656927014665348,
          -0.3068950514033596,
          0.13240715579408738,
          0.8374575862869191,
          -1.3021623768791744,
          -1.819165996897542,
          -0.7589988455347925,
          -0.37555023383268366,
          0.17703412808151636,
          0.9212274812957582,
          2.235090436534782,
          0.22806047835346205,
          -0.15965213524816327,
          -1.8462801463145255,
          -0.5847352598471942,
          0.33665541167019086,
          0.7156454581545579,
          0.4518459352615333,
          0.3768602525240975,
          -1.0481059079241228,
          0.9391230146671161,
          -0.81760338429349,
          -1.8081487207564184,
          0.17743167887350544,
          1.039677816301545,
          -0.49954238815551105,
          -1.42924711355474,
          1.3219961035554446,
          -0.9393760389550331,
          0.3283685130185671,
          -0.23167200407406047,
          1.709823808775834,
          0.43803745965810165,
          0.8056695588712278,
          -0.8815625206777283,
          0.8010039094881437,
          0.7753082267979359,
          -0.6605696943285191,
          -0.40442949350905255,
          2.20673145237434,
          2.2480674660485405,
          2.60938032100713,
          0.543699479190823,
          0.1969871874266927,
          -0.15677733024887777,
          0.6339198380731179,
          1.4695236211918865,
          -0.46258878245316276,
          -1.417929581243472,
          -0.6428942336220342,
          -1.8015303901752648,
          -1.0836442298731181,
          0.7834492930937946,
          1.4690474511013203,
          -0.5667873756382681,
          -0.81138244564651,
          0.9312761917561393,
          0.8170173053211249,
          -0.2515329718182992,
          -0.7498444640254841,
          -1.051743373588905,
          0.004355898780761671,
          -0.14234496449937195,
          1.3343658157166423,
          1.1580565675560939,
          -0.6588853733842952,
          0.7278643918332525
         ],
         "xaxis": "x3",
         "y": [
          0.7206021595231069,
          0.600148426769176,
          0.4104359743616993,
          1.5970755667006848,
          -1.2936619515577568,
          -0.8247653726117883,
          0.8635716441218286,
          0.9641754730341981,
          -0.023983744104136718,
          0.8936011658880695,
          -0.3997818395932563,
          -0.6968882043136051,
          -1.163879408522421,
          0.24301016267096173,
          1.5061934436070503,
          2.2293327935101708,
          -1.2735706894259167,
          0.07670212200171866,
          0.42749763295537124,
          -0.8362156804531724,
          0.23760756881529357,
          0.6125021013936939,
          0.9474786308756106,
          0.5792285211320449,
          -0.022141338115392657,
          0.1780786293235384,
          -0.4378983347210052,
          -1.9641912957964793,
          0.5884103102817879,
          1.2261746210124682,
          0.36692568501522266,
          0.5338772876220805,
          -1.0129881243922954,
          -0.05828206366226157,
          -0.4542632899292565,
          -0.9545712927080492,
          -0.4462063781298266,
          1.7850698534429827,
          -1.5714742286027275,
          -1.700569442248487,
          -0.7669013707864606,
          -3.131367504486959,
          -1.059983984922948,
          1.4162638414930868,
          1.6704485316623467,
          -0.939130190447798,
          0.8100608368265246,
          1.4254927278950735,
          0.28241386798408846,
          -0.20653442472757128,
          -1.745147679318256,
          -1.6430798662212416,
          1.3845799049888303,
          -1.378963965645226,
          -0.519571255210273,
          1.4442675469554762,
          -0.5705819989697787,
          -0.5135575214998415,
          -0.7725119707973551,
          0.4520162047149358,
          -0.7274765115358929,
          -1.3402720744289112,
          0.9327244040593339,
          -0.8271541013442341,
          -1.2064204344555705,
          0.3696430003742275,
          0.23974555131411265,
          -1.68529161912587,
          0.5231163706104487,
          0.6402595816400246,
          -0.043905994702309624,
          0.4468550288425965,
          0.37837924503019776,
          -0.033244845954011386,
          -1.1977701838216634,
          0.39756580016298637,
          -0.7081412455264934,
          0.5402103482032428,
          -1.8552901543432505,
          1.0089939294346084,
          1.587105528275671,
          -0.5601097082171755,
          0.11665409539915697,
          -0.5745241401224672,
          -2.558207307961996,
          -0.5339083790451622,
          -1.4864995681419446,
          -0.2949479595475197,
          0.6295343657985574,
          0.42971820599591787,
          1.5498386531740298,
          0.5916490519789844,
          -0.3998257461066869,
          1.9127966678340154,
          0.30283673972582165,
          0.24201125897767198,
          -1.7144830491064178,
          0.4238364675698964,
          0.60177217016106,
          -0.6508979705447588
         ],
         "yaxis": "y3"
        },
        {
         "line": {
          "color": "rgba(128, 128, 128, 1.0)",
          "dash": "solid",
          "shape": "linear",
          "width": 1.3
         },
         "marker": {
          "size": 2,
          "symbol": "circle"
         },
         "mode": "markers",
         "name": "A",
         "text": "",
         "type": "scatter",
         "x": [
          -0.7745862644908448,
          0.5042041435436856,
          0.11653223204023365,
          -1.1959229444741741,
          -0.27292696862939264,
          0.9223229138279102,
          -0.0846199316096227,
          0.01953093084833903,
          0.6355269183584646,
          0.6666909985417896,
          0.6043012254606308,
          0.27396348046715746,
          -2.629516675257851,
          0.2797430559701173,
          0.4514205345986516,
          -0.7914312739174943,
          0.19240316995779333,
          1.4023278833167279,
          0.9432499771843861,
          1.100283579418994,
          -2.6576910228587836,
          1.220608012005847,
          0.4463762203629547,
          1.0628130916520049,
          -0.08333665257748994,
          -0.8198554339209732,
          0.08681325176953446,
          0.002710946088567911,
          -0.9134745712232382,
          -1.3781752896942985,
          -0.49077781599685016,
          0.7299785382485134,
          -0.374019643846917,
          0.43339476120969894,
          2.1120018359857964,
          -0.07222056301967658,
          -1.118430611101756,
          0.4993823157143268,
          0.7955688060257385,
          -0.3882653775714211,
          0.8007652045697838,
          -1.643699036934892,
          -1.9886441019258725,
          1.4829454813526062,
          -0.9416601411402572,
          0.15063360347531604,
          0.14947421761858792,
          -0.060953335646296604,
          0.35351471505754173,
          -0.08085370059267592,
          -1.0652731210957525,
          -1.4754535838547946,
          0.6744817451168268,
          -1.8282248056546728,
          0.23187428799008547,
          -1.4106370686259977,
          -0.11648195669724136,
          -0.5618073610721529,
          0.2428333967215472,
          0.5161467385849521,
          0.948845713709916,
          0.07121176051622159,
          -0.2594612478430401,
          0.5682260787378328,
          0.6442418035769039,
          0.16342408166701317,
          0.6225775683828786,
          -1.5409881668264611,
          -0.3367059484787146,
          0.3606308288750878,
          0.24475939866764343,
          1.6498950074974856,
          -1.1609072949372032,
          -1.240376311437029,
          -1.3595294482528577,
          -0.4989867375652803,
          -0.994521889530649,
          0.5238788685754128,
          -0.5126883562085743,
          1.638572633652777,
          1.1704216773919038,
          -0.3892984266145127,
          -1.9701693154051056,
          0.9541009998491473,
          -0.38294091155112997,
          -0.37783741567692064,
          0.007545114995654143,
          1.0102458239343455,
          -0.08041770515079398,
          -0.4099862221534074,
          -0.839011880668791,
          -0.8332599606848795,
          -1.058238678493066,
          -0.8706724320299088,
          -0.5342859606428391,
          -0.9274468507913998,
          0.8428645004405348,
          0.0021456148799246432,
          -0.7677208360543195,
          1.1517078376841599
         ],
         "xaxis": "x4",
         "y": [
          0.7206021595231069,
          0.600148426769176,
          0.4104359743616993,
          1.5970755667006848,
          -1.2936619515577568,
          -0.8247653726117883,
          0.8635716441218286,
          0.9641754730341981,
          -0.023983744104136718,
          0.8936011658880695,
          -0.3997818395932563,
          -0.6968882043136051,
          -1.163879408522421,
          0.24301016267096173,
          1.5061934436070503,
          2.2293327935101708,
          -1.2735706894259167,
          0.07670212200171866,
          0.42749763295537124,
          -0.8362156804531724,
          0.23760756881529357,
          0.6125021013936939,
          0.9474786308756106,
          0.5792285211320449,
          -0.022141338115392657,
          0.1780786293235384,
          -0.4378983347210052,
          -1.9641912957964793,
          0.5884103102817879,
          1.2261746210124682,
          0.36692568501522266,
          0.5338772876220805,
          -1.0129881243922954,
          -0.05828206366226157,
          -0.4542632899292565,
          -0.9545712927080492,
          -0.4462063781298266,
          1.7850698534429827,
          -1.5714742286027275,
          -1.700569442248487,
          -0.7669013707864606,
          -3.131367504486959,
          -1.059983984922948,
          1.4162638414930868,
          1.6704485316623467,
          -0.939130190447798,
          0.8100608368265246,
          1.4254927278950735,
          0.28241386798408846,
          -0.20653442472757128,
          -1.745147679318256,
          -1.6430798662212416,
          1.3845799049888303,
          -1.378963965645226,
          -0.519571255210273,
          1.4442675469554762,
          -0.5705819989697787,
          -0.5135575214998415,
          -0.7725119707973551,
          0.4520162047149358,
          -0.7274765115358929,
          -1.3402720744289112,
          0.9327244040593339,
          -0.8271541013442341,
          -1.2064204344555705,
          0.3696430003742275,
          0.23974555131411265,
          -1.68529161912587,
          0.5231163706104487,
          0.6402595816400246,
          -0.043905994702309624,
          0.4468550288425965,
          0.37837924503019776,
          -0.033244845954011386,
          -1.1977701838216634,
          0.39756580016298637,
          -0.7081412455264934,
          0.5402103482032428,
          -1.8552901543432505,
          1.0089939294346084,
          1.587105528275671,
          -0.5601097082171755,
          0.11665409539915697,
          -0.5745241401224672,
          -2.558207307961996,
          -0.5339083790451622,
          -1.4864995681419446,
          -0.2949479595475197,
          0.6295343657985574,
          0.42971820599591787,
          1.5498386531740298,
          0.5916490519789844,
          -0.3998257461066869,
          1.9127966678340154,
          0.30283673972582165,
          0.24201125897767198,
          -1.7144830491064178,
          0.4238364675698964,
          0.60177217016106,
          -0.6508979705447588
         ],
         "yaxis": "y4"
        },
        {
         "line": {
          "color": "rgba(128, 128, 128, 1.0)",
          "dash": "solid",
          "shape": "linear",
          "width": 1.3
         },
         "marker": {
          "size": 2,
          "symbol": "circle"
         },
         "mode": "markers",
         "name": "B",
         "text": "",
         "type": "scatter",
         "x": [
          0.7206021595231069,
          0.600148426769176,
          0.4104359743616993,
          1.5970755667006848,
          -1.2936619515577568,
          -0.8247653726117883,
          0.8635716441218286,
          0.9641754730341981,
          -0.023983744104136718,
          0.8936011658880695,
          -0.3997818395932563,
          -0.6968882043136051,
          -1.163879408522421,
          0.24301016267096173,
          1.5061934436070503,
          2.2293327935101708,
          -1.2735706894259167,
          0.07670212200171866,
          0.42749763295537124,
          -0.8362156804531724,
          0.23760756881529357,
          0.6125021013936939,
          0.9474786308756106,
          0.5792285211320449,
          -0.022141338115392657,
          0.1780786293235384,
          -0.4378983347210052,
          -1.9641912957964793,
          0.5884103102817879,
          1.2261746210124682,
          0.36692568501522266,
          0.5338772876220805,
          -1.0129881243922954,
          -0.05828206366226157,
          -0.4542632899292565,
          -0.9545712927080492,
          -0.4462063781298266,
          1.7850698534429827,
          -1.5714742286027275,
          -1.700569442248487,
          -0.7669013707864606,
          -3.131367504486959,
          -1.059983984922948,
          1.4162638414930868,
          1.6704485316623467,
          -0.939130190447798,
          0.8100608368265246,
          1.4254927278950735,
          0.28241386798408846,
          -0.20653442472757128,
          -1.745147679318256,
          -1.6430798662212416,
          1.3845799049888303,
          -1.378963965645226,
          -0.519571255210273,
          1.4442675469554762,
          -0.5705819989697787,
          -0.5135575214998415,
          -0.7725119707973551,
          0.4520162047149358,
          -0.7274765115358929,
          -1.3402720744289112,
          0.9327244040593339,
          -0.8271541013442341,
          -1.2064204344555705,
          0.3696430003742275,
          0.23974555131411265,
          -1.68529161912587,
          0.5231163706104487,
          0.6402595816400246,
          -0.043905994702309624,
          0.4468550288425965,
          0.37837924503019776,
          -0.033244845954011386,
          -1.1977701838216634,
          0.39756580016298637,
          -0.7081412455264934,
          0.5402103482032428,
          -1.8552901543432505,
          1.0089939294346084,
          1.587105528275671,
          -0.5601097082171755,
          0.11665409539915697,
          -0.5745241401224672,
          -2.558207307961996,
          -0.5339083790451622,
          -1.4864995681419446,
          -0.2949479595475197,
          0.6295343657985574,
          0.42971820599591787,
          1.5498386531740298,
          0.5916490519789844,
          -0.3998257461066869,
          1.9127966678340154,
          0.30283673972582165,
          0.24201125897767198,
          -1.7144830491064178,
          0.4238364675698964,
          0.60177217016106,
          -0.6508979705447588
         ],
         "xaxis": "x5",
         "y": [
          0.4790002364284842,
          -0.5339133712050166,
          -0.2551232292121737,
          0.7500620133948723,
          1.0639226831377517,
          0.3028647755916625,
          0.0977690423356316,
          -0.3951140303210251,
          -0.9550331925745601,
          -0.7764745770247691,
          -1.4300120636784552,
          0.722590320396416,
          0.06063841933463821,
          0.03610652845611828,
          -0.537856030516011,
          -0.078808592696729,
          -0.3114260012747389,
          -0.8941588607600373,
          -0.5808384159219051,
          0.3834337532738288,
          0.483711206092414,
          1.6829763180132218,
          -0.8919742536174792,
          0.950467512521074,
          -0.08625549152922969,
          1.2167158329958416,
          -0.033911930360870084,
          -1.9700550067826965,
          -0.02574803290346344,
          0.3794547728684391,
          -1.4103559279651778,
          1.0208301284403738,
          -1.6901429429533048,
          1.5697762867784217,
          -1.1365048100216353,
          -0.16786990398521856,
          -1.3683080519549378,
          0.6732207688411338,
          -0.724524608367036,
          -1.6556190684717973,
          1.405498473751612,
          -1.585448471793164,
          0.39518907167519784,
          0.15531514996168058,
          -0.4328193574850774,
          -0.8375570848807239,
          2.0230704348373942,
          -0.17582755292970423,
          1.9225970664687468,
          -1.5139377738915847,
          -0.4490913077935091,
          1.2021633853196803,
          -1.1047775425974564,
          0.7485099120378153,
          -0.8506817463527888,
          -0.1508540110465642,
          -0.4806223905826818,
          -0.009409878169259062,
          -0.13773066448041185,
          0.9187758383578031,
          0.24586887682641126,
          -0.4105378015561218,
          0.7002100378602496,
          1.0152904608914048,
          -0.05662237441840279,
          -1.1519555057371014,
          0.47741060260304125,
          -0.9356334286067687,
          -0.2816607396441667,
          1.2079854210569332,
          -0.9374091758648114,
          0.33622495387200485,
          0.017240232316663457,
          0.6281700912130026,
          -1.001311001407909,
          -0.01697870692670627,
          -1.6009597764633763,
          0.12951776927639422,
          -0.4318016346568667,
          0.6446717409546772,
          -1.765416896232608,
          -0.6206312391014545,
          -0.5616885246922951,
          1.5158834462222572,
          0.40289717199054675,
          0.7031019990192451,
          -0.7247400440690024,
          -2.2789079087356514,
          0.9516348236040112,
          0.5500106106728779,
          -0.6256799087748532,
          -1.2447989248999347,
          -1.5713689300682712,
          1.6189765467065518,
          -0.352213379315518,
          -1.418362779696527,
          1.0450315791300482,
          0.15528639631566069,
          0.4511257837375593,
          -0.18485970986316355
         ],
         "yaxis": "y5"
        },
        {
         "histfunc": "count",
         "histnorm": "",
         "marker": {
          "color": "rgba(55, 128, 191, 1.0)",
          "line": {
           "color": "#4D5663",
           "width": 1.3
          }
         },
         "name": "B",
         "nbinsx": 10,
         "opacity": 0.8,
         "orientation": "v",
         "type": "histogram",
         "x": [
          0.4790002364284842,
          -0.5339133712050166,
          -0.2551232292121737,
          0.7500620133948723,
          1.0639226831377517,
          0.3028647755916625,
          0.0977690423356316,
          -0.3951140303210251,
          -0.9550331925745601,
          -0.7764745770247691,
          -1.4300120636784552,
          0.722590320396416,
          0.06063841933463821,
          0.03610652845611828,
          -0.537856030516011,
          -0.078808592696729,
          -0.3114260012747389,
          -0.8941588607600373,
          -0.5808384159219051,
          0.3834337532738288,
          0.483711206092414,
          1.6829763180132218,
          -0.8919742536174792,
          0.950467512521074,
          -0.08625549152922969,
          1.2167158329958416,
          -0.033911930360870084,
          -1.9700550067826965,
          -0.02574803290346344,
          0.3794547728684391,
          -1.4103559279651778,
          1.0208301284403738,
          -1.6901429429533048,
          1.5697762867784217,
          -1.1365048100216353,
          -0.16786990398521856,
          -1.3683080519549378,
          0.6732207688411338,
          -0.724524608367036,
          -1.6556190684717973,
          1.405498473751612,
          -1.585448471793164,
          0.39518907167519784,
          0.15531514996168058,
          -0.4328193574850774,
          -0.8375570848807239,
          2.0230704348373942,
          -0.17582755292970423,
          1.9225970664687468,
          -1.5139377738915847,
          -0.4490913077935091,
          1.2021633853196803,
          -1.1047775425974564,
          0.7485099120378153,
          -0.8506817463527888,
          -0.1508540110465642,
          -0.4806223905826818,
          -0.009409878169259062,
          -0.13773066448041185,
          0.9187758383578031,
          0.24586887682641126,
          -0.4105378015561218,
          0.7002100378602496,
          1.0152904608914048,
          -0.05662237441840279,
          -1.1519555057371014,
          0.47741060260304125,
          -0.9356334286067687,
          -0.2816607396441667,
          1.2079854210569332,
          -0.9374091758648114,
          0.33622495387200485,
          0.017240232316663457,
          0.6281700912130026,
          -1.001311001407909,
          -0.01697870692670627,
          -1.6009597764633763,
          0.12951776927639422,
          -0.4318016346568667,
          0.6446717409546772,
          -1.765416896232608,
          -0.6206312391014545,
          -0.5616885246922951,
          1.5158834462222572,
          0.40289717199054675,
          0.7031019990192451,
          -0.7247400440690024,
          -2.2789079087356514,
          0.9516348236040112,
          0.5500106106728779,
          -0.6256799087748532,
          -1.2447989248999347,
          -1.5713689300682712,
          1.6189765467065518,
          -0.352213379315518,
          -1.418362779696527,
          1.0450315791300482,
          0.15528639631566069,
          0.4511257837375593,
          -0.18485970986316355
         ],
         "xaxis": "x6",
         "yaxis": "y6"
        },
        {
         "line": {
          "color": "rgba(128, 128, 128, 1.0)",
          "dash": "solid",
          "shape": "linear",
          "width": 1.3
         },
         "marker": {
          "size": 2,
          "symbol": "circle"
         },
         "mode": "markers",
         "name": "B",
         "text": "",
         "type": "scatter",
         "x": [
          -0.1710539717238674,
          0.6761120036186342,
          -0.6364901882466849,
          0.5068375166337368,
          0.8587563554081904,
          0.8815777839520635,
          1.7981957622905946,
          0.23629650342768097,
          -1.2654142235465151,
          0.9985852638112375,
          1.0140967677490105,
          1.9213050225984043,
          1.147118897460104,
          -0.5571080126333299,
          -1.5966228700302354,
          0.7799340936002608,
          -0.9773101083967402,
          1.197839159404519,
          -1.5107967182448119,
          -0.13519320205885943,
          -0.11407554694339425,
          0.0416244963029414,
          -0.11694785669789755,
          0.32555050158578663,
          -0.581746887771692,
          0.7537911994443084,
          -0.5051520940880653,
          -3.1224181613669932,
          0.25322090179614604,
          -1.709347508989651,
          -0.574636669754101,
          0.0307936632530043,
          -1.2285030245784847,
          0.2656927014665348,
          -0.3068950514033596,
          0.13240715579408738,
          0.8374575862869191,
          -1.3021623768791744,
          -1.819165996897542,
          -0.7589988455347925,
          -0.37555023383268366,
          0.17703412808151636,
          0.9212274812957582,
          2.235090436534782,
          0.22806047835346205,
          -0.15965213524816327,
          -1.8462801463145255,
          -0.5847352598471942,
          0.33665541167019086,
          0.7156454581545579,
          0.4518459352615333,
          0.3768602525240975,
          -1.0481059079241228,
          0.9391230146671161,
          -0.81760338429349,
          -1.8081487207564184,
          0.17743167887350544,
          1.039677816301545,
          -0.49954238815551105,
          -1.42924711355474,
          1.3219961035554446,
          -0.9393760389550331,
          0.3283685130185671,
          -0.23167200407406047,
          1.709823808775834,
          0.43803745965810165,
          0.8056695588712278,
          -0.8815625206777283,
          0.8010039094881437,
          0.7753082267979359,
          -0.6605696943285191,
          -0.40442949350905255,
          2.20673145237434,
          2.2480674660485405,
          2.60938032100713,
          0.543699479190823,
          0.1969871874266927,
          -0.15677733024887777,
          0.6339198380731179,
          1.4695236211918865,
          -0.46258878245316276,
          -1.417929581243472,
          -0.6428942336220342,
          -1.8015303901752648,
          -1.0836442298731181,
          0.7834492930937946,
          1.4690474511013203,
          -0.5667873756382681,
          -0.81138244564651,
          0.9312761917561393,
          0.8170173053211249,
          -0.2515329718182992,
          -0.7498444640254841,
          -1.051743373588905,
          0.004355898780761671,
          -0.14234496449937195,
          1.3343658157166423,
          1.1580565675560939,
          -0.6588853733842952,
          0.7278643918332525
         ],
         "xaxis": "x7",
         "y": [
          0.4790002364284842,
          -0.5339133712050166,
          -0.2551232292121737,
          0.7500620133948723,
          1.0639226831377517,
          0.3028647755916625,
          0.0977690423356316,
          -0.3951140303210251,
          -0.9550331925745601,
          -0.7764745770247691,
          -1.4300120636784552,
          0.722590320396416,
          0.06063841933463821,
          0.03610652845611828,
          -0.537856030516011,
          -0.078808592696729,
          -0.3114260012747389,
          -0.8941588607600373,
          -0.5808384159219051,
          0.3834337532738288,
          0.483711206092414,
          1.6829763180132218,
          -0.8919742536174792,
          0.950467512521074,
          -0.08625549152922969,
          1.2167158329958416,
          -0.033911930360870084,
          -1.9700550067826965,
          -0.02574803290346344,
          0.3794547728684391,
          -1.4103559279651778,
          1.0208301284403738,
          -1.6901429429533048,
          1.5697762867784217,
          -1.1365048100216353,
          -0.16786990398521856,
          -1.3683080519549378,
          0.6732207688411338,
          -0.724524608367036,
          -1.6556190684717973,
          1.405498473751612,
          -1.585448471793164,
          0.39518907167519784,
          0.15531514996168058,
          -0.4328193574850774,
          -0.8375570848807239,
          2.0230704348373942,
          -0.17582755292970423,
          1.9225970664687468,
          -1.5139377738915847,
          -0.4490913077935091,
          1.2021633853196803,
          -1.1047775425974564,
          0.7485099120378153,
          -0.8506817463527888,
          -0.1508540110465642,
          -0.4806223905826818,
          -0.009409878169259062,
          -0.13773066448041185,
          0.9187758383578031,
          0.24586887682641126,
          -0.4105378015561218,
          0.7002100378602496,
          1.0152904608914048,
          -0.05662237441840279,
          -1.1519555057371014,
          0.47741060260304125,
          -0.9356334286067687,
          -0.2816607396441667,
          1.2079854210569332,
          -0.9374091758648114,
          0.33622495387200485,
          0.017240232316663457,
          0.6281700912130026,
          -1.001311001407909,
          -0.01697870692670627,
          -1.6009597764633763,
          0.12951776927639422,
          -0.4318016346568667,
          0.6446717409546772,
          -1.765416896232608,
          -0.6206312391014545,
          -0.5616885246922951,
          1.5158834462222572,
          0.40289717199054675,
          0.7031019990192451,
          -0.7247400440690024,
          -2.2789079087356514,
          0.9516348236040112,
          0.5500106106728779,
          -0.6256799087748532,
          -1.2447989248999347,
          -1.5713689300682712,
          1.6189765467065518,
          -0.352213379315518,
          -1.418362779696527,
          1.0450315791300482,
          0.15528639631566069,
          0.4511257837375593,
          -0.18485970986316355
         ],
         "yaxis": "y7"
        },
        {
         "line": {
          "color": "rgba(128, 128, 128, 1.0)",
          "dash": "solid",
          "shape": "linear",
          "width": 1.3
         },
         "marker": {
          "size": 2,
          "symbol": "circle"
         },
         "mode": "markers",
         "name": "B",
         "text": "",
         "type": "scatter",
         "x": [
          -0.7745862644908448,
          0.5042041435436856,
          0.11653223204023365,
          -1.1959229444741741,
          -0.27292696862939264,
          0.9223229138279102,
          -0.0846199316096227,
          0.01953093084833903,
          0.6355269183584646,
          0.6666909985417896,
          0.6043012254606308,
          0.27396348046715746,
          -2.629516675257851,
          0.2797430559701173,
          0.4514205345986516,
          -0.7914312739174943,
          0.19240316995779333,
          1.4023278833167279,
          0.9432499771843861,
          1.100283579418994,
          -2.6576910228587836,
          1.220608012005847,
          0.4463762203629547,
          1.0628130916520049,
          -0.08333665257748994,
          -0.8198554339209732,
          0.08681325176953446,
          0.002710946088567911,
          -0.9134745712232382,
          -1.3781752896942985,
          -0.49077781599685016,
          0.7299785382485134,
          -0.374019643846917,
          0.43339476120969894,
          2.1120018359857964,
          -0.07222056301967658,
          -1.118430611101756,
          0.4993823157143268,
          0.7955688060257385,
          -0.3882653775714211,
          0.8007652045697838,
          -1.643699036934892,
          -1.9886441019258725,
          1.4829454813526062,
          -0.9416601411402572,
          0.15063360347531604,
          0.14947421761858792,
          -0.060953335646296604,
          0.35351471505754173,
          -0.08085370059267592,
          -1.0652731210957525,
          -1.4754535838547946,
          0.6744817451168268,
          -1.8282248056546728,
          0.23187428799008547,
          -1.4106370686259977,
          -0.11648195669724136,
          -0.5618073610721529,
          0.2428333967215472,
          0.5161467385849521,
          0.948845713709916,
          0.07121176051622159,
          -0.2594612478430401,
          0.5682260787378328,
          0.6442418035769039,
          0.16342408166701317,
          0.6225775683828786,
          -1.5409881668264611,
          -0.3367059484787146,
          0.3606308288750878,
          0.24475939866764343,
          1.6498950074974856,
          -1.1609072949372032,
          -1.240376311437029,
          -1.3595294482528577,
          -0.4989867375652803,
          -0.994521889530649,
          0.5238788685754128,
          -0.5126883562085743,
          1.638572633652777,
          1.1704216773919038,
          -0.3892984266145127,
          -1.9701693154051056,
          0.9541009998491473,
          -0.38294091155112997,
          -0.37783741567692064,
          0.007545114995654143,
          1.0102458239343455,
          -0.08041770515079398,
          -0.4099862221534074,
          -0.839011880668791,
          -0.8332599606848795,
          -1.058238678493066,
          -0.8706724320299088,
          -0.5342859606428391,
          -0.9274468507913998,
          0.8428645004405348,
          0.0021456148799246432,
          -0.7677208360543195,
          1.1517078376841599
         ],
         "xaxis": "x8",
         "y": [
          0.4790002364284842,
          -0.5339133712050166,
          -0.2551232292121737,
          0.7500620133948723,
          1.0639226831377517,
          0.3028647755916625,
          0.0977690423356316,
          -0.3951140303210251,
          -0.9550331925745601,
          -0.7764745770247691,
          -1.4300120636784552,
          0.722590320396416,
          0.06063841933463821,
          0.03610652845611828,
          -0.537856030516011,
          -0.078808592696729,
          -0.3114260012747389,
          -0.8941588607600373,
          -0.5808384159219051,
          0.3834337532738288,
          0.483711206092414,
          1.6829763180132218,
          -0.8919742536174792,
          0.950467512521074,
          -0.08625549152922969,
          1.2167158329958416,
          -0.033911930360870084,
          -1.9700550067826965,
          -0.02574803290346344,
          0.3794547728684391,
          -1.4103559279651778,
          1.0208301284403738,
          -1.6901429429533048,
          1.5697762867784217,
          -1.1365048100216353,
          -0.16786990398521856,
          -1.3683080519549378,
          0.6732207688411338,
          -0.724524608367036,
          -1.6556190684717973,
          1.405498473751612,
          -1.585448471793164,
          0.39518907167519784,
          0.15531514996168058,
          -0.4328193574850774,
          -0.8375570848807239,
          2.0230704348373942,
          -0.17582755292970423,
          1.9225970664687468,
          -1.5139377738915847,
          -0.4490913077935091,
          1.2021633853196803,
          -1.1047775425974564,
          0.7485099120378153,
          -0.8506817463527888,
          -0.1508540110465642,
          -0.4806223905826818,
          -0.009409878169259062,
          -0.13773066448041185,
          0.9187758383578031,
          0.24586887682641126,
          -0.4105378015561218,
          0.7002100378602496,
          1.0152904608914048,
          -0.05662237441840279,
          -1.1519555057371014,
          0.47741060260304125,
          -0.9356334286067687,
          -0.2816607396441667,
          1.2079854210569332,
          -0.9374091758648114,
          0.33622495387200485,
          0.017240232316663457,
          0.6281700912130026,
          -1.001311001407909,
          -0.01697870692670627,
          -1.6009597764633763,
          0.12951776927639422,
          -0.4318016346568667,
          0.6446717409546772,
          -1.765416896232608,
          -0.6206312391014545,
          -0.5616885246922951,
          1.5158834462222572,
          0.40289717199054675,
          0.7031019990192451,
          -0.7247400440690024,
          -2.2789079087356514,
          0.9516348236040112,
          0.5500106106728779,
          -0.6256799087748532,
          -1.2447989248999347,
          -1.5713689300682712,
          1.6189765467065518,
          -0.352213379315518,
          -1.418362779696527,
          1.0450315791300482,
          0.15528639631566069,
          0.4511257837375593,
          -0.18485970986316355
         ],
         "yaxis": "y8"
        },
        {
         "line": {
          "color": "rgba(128, 128, 128, 1.0)",
          "dash": "solid",
          "shape": "linear",
          "width": 1.3
         },
         "marker": {
          "size": 2,
          "symbol": "circle"
         },
         "mode": "markers",
         "name": "C",
         "text": "",
         "type": "scatter",
         "x": [
          0.7206021595231069,
          0.600148426769176,
          0.4104359743616993,
          1.5970755667006848,
          -1.2936619515577568,
          -0.8247653726117883,
          0.8635716441218286,
          0.9641754730341981,
          -0.023983744104136718,
          0.8936011658880695,
          -0.3997818395932563,
          -0.6968882043136051,
          -1.163879408522421,
          0.24301016267096173,
          1.5061934436070503,
          2.2293327935101708,
          -1.2735706894259167,
          0.07670212200171866,
          0.42749763295537124,
          -0.8362156804531724,
          0.23760756881529357,
          0.6125021013936939,
          0.9474786308756106,
          0.5792285211320449,
          -0.022141338115392657,
          0.1780786293235384,
          -0.4378983347210052,
          -1.9641912957964793,
          0.5884103102817879,
          1.2261746210124682,
          0.36692568501522266,
          0.5338772876220805,
          -1.0129881243922954,
          -0.05828206366226157,
          -0.4542632899292565,
          -0.9545712927080492,
          -0.4462063781298266,
          1.7850698534429827,
          -1.5714742286027275,
          -1.700569442248487,
          -0.7669013707864606,
          -3.131367504486959,
          -1.059983984922948,
          1.4162638414930868,
          1.6704485316623467,
          -0.939130190447798,
          0.8100608368265246,
          1.4254927278950735,
          0.28241386798408846,
          -0.20653442472757128,
          -1.745147679318256,
          -1.6430798662212416,
          1.3845799049888303,
          -1.378963965645226,
          -0.519571255210273,
          1.4442675469554762,
          -0.5705819989697787,
          -0.5135575214998415,
          -0.7725119707973551,
          0.4520162047149358,
          -0.7274765115358929,
          -1.3402720744289112,
          0.9327244040593339,
          -0.8271541013442341,
          -1.2064204344555705,
          0.3696430003742275,
          0.23974555131411265,
          -1.68529161912587,
          0.5231163706104487,
          0.6402595816400246,
          -0.043905994702309624,
          0.4468550288425965,
          0.37837924503019776,
          -0.033244845954011386,
          -1.1977701838216634,
          0.39756580016298637,
          -0.7081412455264934,
          0.5402103482032428,
          -1.8552901543432505,
          1.0089939294346084,
          1.587105528275671,
          -0.5601097082171755,
          0.11665409539915697,
          -0.5745241401224672,
          -2.558207307961996,
          -0.5339083790451622,
          -1.4864995681419446,
          -0.2949479595475197,
          0.6295343657985574,
          0.42971820599591787,
          1.5498386531740298,
          0.5916490519789844,
          -0.3998257461066869,
          1.9127966678340154,
          0.30283673972582165,
          0.24201125897767198,
          -1.7144830491064178,
          0.4238364675698964,
          0.60177217016106,
          -0.6508979705447588
         ],
         "xaxis": "x9",
         "y": [
          -0.1710539717238674,
          0.6761120036186342,
          -0.6364901882466849,
          0.5068375166337368,
          0.8587563554081904,
          0.8815777839520635,
          1.7981957622905946,
          0.23629650342768097,
          -1.2654142235465151,
          0.9985852638112375,
          1.0140967677490105,
          1.9213050225984043,
          1.147118897460104,
          -0.5571080126333299,
          -1.5966228700302354,
          0.7799340936002608,
          -0.9773101083967402,
          1.197839159404519,
          -1.5107967182448119,
          -0.13519320205885943,
          -0.11407554694339425,
          0.0416244963029414,
          -0.11694785669789755,
          0.32555050158578663,
          -0.581746887771692,
          0.7537911994443084,
          -0.5051520940880653,
          -3.1224181613669932,
          0.25322090179614604,
          -1.709347508989651,
          -0.574636669754101,
          0.0307936632530043,
          -1.2285030245784847,
          0.2656927014665348,
          -0.3068950514033596,
          0.13240715579408738,
          0.8374575862869191,
          -1.3021623768791744,
          -1.819165996897542,
          -0.7589988455347925,
          -0.37555023383268366,
          0.17703412808151636,
          0.9212274812957582,
          2.235090436534782,
          0.22806047835346205,
          -0.15965213524816327,
          -1.8462801463145255,
          -0.5847352598471942,
          0.33665541167019086,
          0.7156454581545579,
          0.4518459352615333,
          0.3768602525240975,
          -1.0481059079241228,
          0.9391230146671161,
          -0.81760338429349,
          -1.8081487207564184,
          0.17743167887350544,
          1.039677816301545,
          -0.49954238815551105,
          -1.42924711355474,
          1.3219961035554446,
          -0.9393760389550331,
          0.3283685130185671,
          -0.23167200407406047,
          1.709823808775834,
          0.43803745965810165,
          0.8056695588712278,
          -0.8815625206777283,
          0.8010039094881437,
          0.7753082267979359,
          -0.6605696943285191,
          -0.40442949350905255,
          2.20673145237434,
          2.2480674660485405,
          2.60938032100713,
          0.543699479190823,
          0.1969871874266927,
          -0.15677733024887777,
          0.6339198380731179,
          1.4695236211918865,
          -0.46258878245316276,
          -1.417929581243472,
          -0.6428942336220342,
          -1.8015303901752648,
          -1.0836442298731181,
          0.7834492930937946,
          1.4690474511013203,
          -0.5667873756382681,
          -0.81138244564651,
          0.9312761917561393,
          0.8170173053211249,
          -0.2515329718182992,
          -0.7498444640254841,
          -1.051743373588905,
          0.004355898780761671,
          -0.14234496449937195,
          1.3343658157166423,
          1.1580565675560939,
          -0.6588853733842952,
          0.7278643918332525
         ],
         "yaxis": "y9"
        },
        {
         "line": {
          "color": "rgba(128, 128, 128, 1.0)",
          "dash": "solid",
          "shape": "linear",
          "width": 1.3
         },
         "marker": {
          "size": 2,
          "symbol": "circle"
         },
         "mode": "markers",
         "name": "C",
         "text": "",
         "type": "scatter",
         "x": [
          0.4790002364284842,
          -0.5339133712050166,
          -0.2551232292121737,
          0.7500620133948723,
          1.0639226831377517,
          0.3028647755916625,
          0.0977690423356316,
          -0.3951140303210251,
          -0.9550331925745601,
          -0.7764745770247691,
          -1.4300120636784552,
          0.722590320396416,
          0.06063841933463821,
          0.03610652845611828,
          -0.537856030516011,
          -0.078808592696729,
          -0.3114260012747389,
          -0.8941588607600373,
          -0.5808384159219051,
          0.3834337532738288,
          0.483711206092414,
          1.6829763180132218,
          -0.8919742536174792,
          0.950467512521074,
          -0.08625549152922969,
          1.2167158329958416,
          -0.033911930360870084,
          -1.9700550067826965,
          -0.02574803290346344,
          0.3794547728684391,
          -1.4103559279651778,
          1.0208301284403738,
          -1.6901429429533048,
          1.5697762867784217,
          -1.1365048100216353,
          -0.16786990398521856,
          -1.3683080519549378,
          0.6732207688411338,
          -0.724524608367036,
          -1.6556190684717973,
          1.405498473751612,
          -1.585448471793164,
          0.39518907167519784,
          0.15531514996168058,
          -0.4328193574850774,
          -0.8375570848807239,
          2.0230704348373942,
          -0.17582755292970423,
          1.9225970664687468,
          -1.5139377738915847,
          -0.4490913077935091,
          1.2021633853196803,
          -1.1047775425974564,
          0.7485099120378153,
          -0.8506817463527888,
          -0.1508540110465642,
          -0.4806223905826818,
          -0.009409878169259062,
          -0.13773066448041185,
          0.9187758383578031,
          0.24586887682641126,
          -0.4105378015561218,
          0.7002100378602496,
          1.0152904608914048,
          -0.05662237441840279,
          -1.1519555057371014,
          0.47741060260304125,
          -0.9356334286067687,
          -0.2816607396441667,
          1.2079854210569332,
          -0.9374091758648114,
          0.33622495387200485,
          0.017240232316663457,
          0.6281700912130026,
          -1.001311001407909,
          -0.01697870692670627,
          -1.6009597764633763,
          0.12951776927639422,
          -0.4318016346568667,
          0.6446717409546772,
          -1.765416896232608,
          -0.6206312391014545,
          -0.5616885246922951,
          1.5158834462222572,
          0.40289717199054675,
          0.7031019990192451,
          -0.7247400440690024,
          -2.2789079087356514,
          0.9516348236040112,
          0.5500106106728779,
          -0.6256799087748532,
          -1.2447989248999347,
          -1.5713689300682712,
          1.6189765467065518,
          -0.352213379315518,
          -1.418362779696527,
          1.0450315791300482,
          0.15528639631566069,
          0.4511257837375593,
          -0.18485970986316355
         ],
         "xaxis": "x10",
         "y": [
          -0.1710539717238674,
          0.6761120036186342,
          -0.6364901882466849,
          0.5068375166337368,
          0.8587563554081904,
          0.8815777839520635,
          1.7981957622905946,
          0.23629650342768097,
          -1.2654142235465151,
          0.9985852638112375,
          1.0140967677490105,
          1.9213050225984043,
          1.147118897460104,
          -0.5571080126333299,
          -1.5966228700302354,
          0.7799340936002608,
          -0.9773101083967402,
          1.197839159404519,
          -1.5107967182448119,
          -0.13519320205885943,
          -0.11407554694339425,
          0.0416244963029414,
          -0.11694785669789755,
          0.32555050158578663,
          -0.581746887771692,
          0.7537911994443084,
          -0.5051520940880653,
          -3.1224181613669932,
          0.25322090179614604,
          -1.709347508989651,
          -0.574636669754101,
          0.0307936632530043,
          -1.2285030245784847,
          0.2656927014665348,
          -0.3068950514033596,
          0.13240715579408738,
          0.8374575862869191,
          -1.3021623768791744,
          -1.819165996897542,
          -0.7589988455347925,
          -0.37555023383268366,
          0.17703412808151636,
          0.9212274812957582,
          2.235090436534782,
          0.22806047835346205,
          -0.15965213524816327,
          -1.8462801463145255,
          -0.5847352598471942,
          0.33665541167019086,
          0.7156454581545579,
          0.4518459352615333,
          0.3768602525240975,
          -1.0481059079241228,
          0.9391230146671161,
          -0.81760338429349,
          -1.8081487207564184,
          0.17743167887350544,
          1.039677816301545,
          -0.49954238815551105,
          -1.42924711355474,
          1.3219961035554446,
          -0.9393760389550331,
          0.3283685130185671,
          -0.23167200407406047,
          1.709823808775834,
          0.43803745965810165,
          0.8056695588712278,
          -0.8815625206777283,
          0.8010039094881437,
          0.7753082267979359,
          -0.6605696943285191,
          -0.40442949350905255,
          2.20673145237434,
          2.2480674660485405,
          2.60938032100713,
          0.543699479190823,
          0.1969871874266927,
          -0.15677733024887777,
          0.6339198380731179,
          1.4695236211918865,
          -0.46258878245316276,
          -1.417929581243472,
          -0.6428942336220342,
          -1.8015303901752648,
          -1.0836442298731181,
          0.7834492930937946,
          1.4690474511013203,
          -0.5667873756382681,
          -0.81138244564651,
          0.9312761917561393,
          0.8170173053211249,
          -0.2515329718182992,
          -0.7498444640254841,
          -1.051743373588905,
          0.004355898780761671,
          -0.14234496449937195,
          1.3343658157166423,
          1.1580565675560939,
          -0.6588853733842952,
          0.7278643918332525
         ],
         "yaxis": "y10"
        },
        {
         "histfunc": "count",
         "histnorm": "",
         "marker": {
          "color": "rgba(50, 171, 96, 1.0)",
          "line": {
           "color": "#4D5663",
           "width": 1.3
          }
         },
         "name": "C",
         "nbinsx": 10,
         "opacity": 0.8,
         "orientation": "v",
         "type": "histogram",
         "x": [
          -0.1710539717238674,
          0.6761120036186342,
          -0.6364901882466849,
          0.5068375166337368,
          0.8587563554081904,
          0.8815777839520635,
          1.7981957622905946,
          0.23629650342768097,
          -1.2654142235465151,
          0.9985852638112375,
          1.0140967677490105,
          1.9213050225984043,
          1.147118897460104,
          -0.5571080126333299,
          -1.5966228700302354,
          0.7799340936002608,
          -0.9773101083967402,
          1.197839159404519,
          -1.5107967182448119,
          -0.13519320205885943,
          -0.11407554694339425,
          0.0416244963029414,
          -0.11694785669789755,
          0.32555050158578663,
          -0.581746887771692,
          0.7537911994443084,
          -0.5051520940880653,
          -3.1224181613669932,
          0.25322090179614604,
          -1.709347508989651,
          -0.574636669754101,
          0.0307936632530043,
          -1.2285030245784847,
          0.2656927014665348,
          -0.3068950514033596,
          0.13240715579408738,
          0.8374575862869191,
          -1.3021623768791744,
          -1.819165996897542,
          -0.7589988455347925,
          -0.37555023383268366,
          0.17703412808151636,
          0.9212274812957582,
          2.235090436534782,
          0.22806047835346205,
          -0.15965213524816327,
          -1.8462801463145255,
          -0.5847352598471942,
          0.33665541167019086,
          0.7156454581545579,
          0.4518459352615333,
          0.3768602525240975,
          -1.0481059079241228,
          0.9391230146671161,
          -0.81760338429349,
          -1.8081487207564184,
          0.17743167887350544,
          1.039677816301545,
          -0.49954238815551105,
          -1.42924711355474,
          1.3219961035554446,
          -0.9393760389550331,
          0.3283685130185671,
          -0.23167200407406047,
          1.709823808775834,
          0.43803745965810165,
          0.8056695588712278,
          -0.8815625206777283,
          0.8010039094881437,
          0.7753082267979359,
          -0.6605696943285191,
          -0.40442949350905255,
          2.20673145237434,
          2.2480674660485405,
          2.60938032100713,
          0.543699479190823,
          0.1969871874266927,
          -0.15677733024887777,
          0.6339198380731179,
          1.4695236211918865,
          -0.46258878245316276,
          -1.417929581243472,
          -0.6428942336220342,
          -1.8015303901752648,
          -1.0836442298731181,
          0.7834492930937946,
          1.4690474511013203,
          -0.5667873756382681,
          -0.81138244564651,
          0.9312761917561393,
          0.8170173053211249,
          -0.2515329718182992,
          -0.7498444640254841,
          -1.051743373588905,
          0.004355898780761671,
          -0.14234496449937195,
          1.3343658157166423,
          1.1580565675560939,
          -0.6588853733842952,
          0.7278643918332525
         ],
         "xaxis": "x11",
         "yaxis": "y11"
        },
        {
         "line": {
          "color": "rgba(128, 128, 128, 1.0)",
          "dash": "solid",
          "shape": "linear",
          "width": 1.3
         },
         "marker": {
          "size": 2,
          "symbol": "circle"
         },
         "mode": "markers",
         "name": "C",
         "text": "",
         "type": "scatter",
         "x": [
          -0.7745862644908448,
          0.5042041435436856,
          0.11653223204023365,
          -1.1959229444741741,
          -0.27292696862939264,
          0.9223229138279102,
          -0.0846199316096227,
          0.01953093084833903,
          0.6355269183584646,
          0.6666909985417896,
          0.6043012254606308,
          0.27396348046715746,
          -2.629516675257851,
          0.2797430559701173,
          0.4514205345986516,
          -0.7914312739174943,
          0.19240316995779333,
          1.4023278833167279,
          0.9432499771843861,
          1.100283579418994,
          -2.6576910228587836,
          1.220608012005847,
          0.4463762203629547,
          1.0628130916520049,
          -0.08333665257748994,
          -0.8198554339209732,
          0.08681325176953446,
          0.002710946088567911,
          -0.9134745712232382,
          -1.3781752896942985,
          -0.49077781599685016,
          0.7299785382485134,
          -0.374019643846917,
          0.43339476120969894,
          2.1120018359857964,
          -0.07222056301967658,
          -1.118430611101756,
          0.4993823157143268,
          0.7955688060257385,
          -0.3882653775714211,
          0.8007652045697838,
          -1.643699036934892,
          -1.9886441019258725,
          1.4829454813526062,
          -0.9416601411402572,
          0.15063360347531604,
          0.14947421761858792,
          -0.060953335646296604,
          0.35351471505754173,
          -0.08085370059267592,
          -1.0652731210957525,
          -1.4754535838547946,
          0.6744817451168268,
          -1.8282248056546728,
          0.23187428799008547,
          -1.4106370686259977,
          -0.11648195669724136,
          -0.5618073610721529,
          0.2428333967215472,
          0.5161467385849521,
          0.948845713709916,
          0.07121176051622159,
          -0.2594612478430401,
          0.5682260787378328,
          0.6442418035769039,
          0.16342408166701317,
          0.6225775683828786,
          -1.5409881668264611,
          -0.3367059484787146,
          0.3606308288750878,
          0.24475939866764343,
          1.6498950074974856,
          -1.1609072949372032,
          -1.240376311437029,
          -1.3595294482528577,
          -0.4989867375652803,
          -0.994521889530649,
          0.5238788685754128,
          -0.5126883562085743,
          1.638572633652777,
          1.1704216773919038,
          -0.3892984266145127,
          -1.9701693154051056,
          0.9541009998491473,
          -0.38294091155112997,
          -0.37783741567692064,
          0.007545114995654143,
          1.0102458239343455,
          -0.08041770515079398,
          -0.4099862221534074,
          -0.839011880668791,
          -0.8332599606848795,
          -1.058238678493066,
          -0.8706724320299088,
          -0.5342859606428391,
          -0.9274468507913998,
          0.8428645004405348,
          0.0021456148799246432,
          -0.7677208360543195,
          1.1517078376841599
         ],
         "xaxis": "x12",
         "y": [
          -0.1710539717238674,
          0.6761120036186342,
          -0.6364901882466849,
          0.5068375166337368,
          0.8587563554081904,
          0.8815777839520635,
          1.7981957622905946,
          0.23629650342768097,
          -1.2654142235465151,
          0.9985852638112375,
          1.0140967677490105,
          1.9213050225984043,
          1.147118897460104,
          -0.5571080126333299,
          -1.5966228700302354,
          0.7799340936002608,
          -0.9773101083967402,
          1.197839159404519,
          -1.5107967182448119,
          -0.13519320205885943,
          -0.11407554694339425,
          0.0416244963029414,
          -0.11694785669789755,
          0.32555050158578663,
          -0.581746887771692,
          0.7537911994443084,
          -0.5051520940880653,
          -3.1224181613669932,
          0.25322090179614604,
          -1.709347508989651,
          -0.574636669754101,
          0.0307936632530043,
          -1.2285030245784847,
          0.2656927014665348,
          -0.3068950514033596,
          0.13240715579408738,
          0.8374575862869191,
          -1.3021623768791744,
          -1.819165996897542,
          -0.7589988455347925,
          -0.37555023383268366,
          0.17703412808151636,
          0.9212274812957582,
          2.235090436534782,
          0.22806047835346205,
          -0.15965213524816327,
          -1.8462801463145255,
          -0.5847352598471942,
          0.33665541167019086,
          0.7156454581545579,
          0.4518459352615333,
          0.3768602525240975,
          -1.0481059079241228,
          0.9391230146671161,
          -0.81760338429349,
          -1.8081487207564184,
          0.17743167887350544,
          1.039677816301545,
          -0.49954238815551105,
          -1.42924711355474,
          1.3219961035554446,
          -0.9393760389550331,
          0.3283685130185671,
          -0.23167200407406047,
          1.709823808775834,
          0.43803745965810165,
          0.8056695588712278,
          -0.8815625206777283,
          0.8010039094881437,
          0.7753082267979359,
          -0.6605696943285191,
          -0.40442949350905255,
          2.20673145237434,
          2.2480674660485405,
          2.60938032100713,
          0.543699479190823,
          0.1969871874266927,
          -0.15677733024887777,
          0.6339198380731179,
          1.4695236211918865,
          -0.46258878245316276,
          -1.417929581243472,
          -0.6428942336220342,
          -1.8015303901752648,
          -1.0836442298731181,
          0.7834492930937946,
          1.4690474511013203,
          -0.5667873756382681,
          -0.81138244564651,
          0.9312761917561393,
          0.8170173053211249,
          -0.2515329718182992,
          -0.7498444640254841,
          -1.051743373588905,
          0.004355898780761671,
          -0.14234496449937195,
          1.3343658157166423,
          1.1580565675560939,
          -0.6588853733842952,
          0.7278643918332525
         ],
         "yaxis": "y12"
        },
        {
         "line": {
          "color": "rgba(128, 128, 128, 1.0)",
          "dash": "solid",
          "shape": "linear",
          "width": 1.3
         },
         "marker": {
          "size": 2,
          "symbol": "circle"
         },
         "mode": "markers",
         "name": "D",
         "text": "",
         "type": "scatter",
         "x": [
          0.7206021595231069,
          0.600148426769176,
          0.4104359743616993,
          1.5970755667006848,
          -1.2936619515577568,
          -0.8247653726117883,
          0.8635716441218286,
          0.9641754730341981,
          -0.023983744104136718,
          0.8936011658880695,
          -0.3997818395932563,
          -0.6968882043136051,
          -1.163879408522421,
          0.24301016267096173,
          1.5061934436070503,
          2.2293327935101708,
          -1.2735706894259167,
          0.07670212200171866,
          0.42749763295537124,
          -0.8362156804531724,
          0.23760756881529357,
          0.6125021013936939,
          0.9474786308756106,
          0.5792285211320449,
          -0.022141338115392657,
          0.1780786293235384,
          -0.4378983347210052,
          -1.9641912957964793,
          0.5884103102817879,
          1.2261746210124682,
          0.36692568501522266,
          0.5338772876220805,
          -1.0129881243922954,
          -0.05828206366226157,
          -0.4542632899292565,
          -0.9545712927080492,
          -0.4462063781298266,
          1.7850698534429827,
          -1.5714742286027275,
          -1.700569442248487,
          -0.7669013707864606,
          -3.131367504486959,
          -1.059983984922948,
          1.4162638414930868,
          1.6704485316623467,
          -0.939130190447798,
          0.8100608368265246,
          1.4254927278950735,
          0.28241386798408846,
          -0.20653442472757128,
          -1.745147679318256,
          -1.6430798662212416,
          1.3845799049888303,
          -1.378963965645226,
          -0.519571255210273,
          1.4442675469554762,
          -0.5705819989697787,
          -0.5135575214998415,
          -0.7725119707973551,
          0.4520162047149358,
          -0.7274765115358929,
          -1.3402720744289112,
          0.9327244040593339,
          -0.8271541013442341,
          -1.2064204344555705,
          0.3696430003742275,
          0.23974555131411265,
          -1.68529161912587,
          0.5231163706104487,
          0.6402595816400246,
          -0.043905994702309624,
          0.4468550288425965,
          0.37837924503019776,
          -0.033244845954011386,
          -1.1977701838216634,
          0.39756580016298637,
          -0.7081412455264934,
          0.5402103482032428,
          -1.8552901543432505,
          1.0089939294346084,
          1.587105528275671,
          -0.5601097082171755,
          0.11665409539915697,
          -0.5745241401224672,
          -2.558207307961996,
          -0.5339083790451622,
          -1.4864995681419446,
          -0.2949479595475197,
          0.6295343657985574,
          0.42971820599591787,
          1.5498386531740298,
          0.5916490519789844,
          -0.3998257461066869,
          1.9127966678340154,
          0.30283673972582165,
          0.24201125897767198,
          -1.7144830491064178,
          0.4238364675698964,
          0.60177217016106,
          -0.6508979705447588
         ],
         "xaxis": "x13",
         "y": [
          -0.7745862644908448,
          0.5042041435436856,
          0.11653223204023365,
          -1.1959229444741741,
          -0.27292696862939264,
          0.9223229138279102,
          -0.0846199316096227,
          0.01953093084833903,
          0.6355269183584646,
          0.6666909985417896,
          0.6043012254606308,
          0.27396348046715746,
          -2.629516675257851,
          0.2797430559701173,
          0.4514205345986516,
          -0.7914312739174943,
          0.19240316995779333,
          1.4023278833167279,
          0.9432499771843861,
          1.100283579418994,
          -2.6576910228587836,
          1.220608012005847,
          0.4463762203629547,
          1.0628130916520049,
          -0.08333665257748994,
          -0.8198554339209732,
          0.08681325176953446,
          0.002710946088567911,
          -0.9134745712232382,
          -1.3781752896942985,
          -0.49077781599685016,
          0.7299785382485134,
          -0.374019643846917,
          0.43339476120969894,
          2.1120018359857964,
          -0.07222056301967658,
          -1.118430611101756,
          0.4993823157143268,
          0.7955688060257385,
          -0.3882653775714211,
          0.8007652045697838,
          -1.643699036934892,
          -1.9886441019258725,
          1.4829454813526062,
          -0.9416601411402572,
          0.15063360347531604,
          0.14947421761858792,
          -0.060953335646296604,
          0.35351471505754173,
          -0.08085370059267592,
          -1.0652731210957525,
          -1.4754535838547946,
          0.6744817451168268,
          -1.8282248056546728,
          0.23187428799008547,
          -1.4106370686259977,
          -0.11648195669724136,
          -0.5618073610721529,
          0.2428333967215472,
          0.5161467385849521,
          0.948845713709916,
          0.07121176051622159,
          -0.2594612478430401,
          0.5682260787378328,
          0.6442418035769039,
          0.16342408166701317,
          0.6225775683828786,
          -1.5409881668264611,
          -0.3367059484787146,
          0.3606308288750878,
          0.24475939866764343,
          1.6498950074974856,
          -1.1609072949372032,
          -1.240376311437029,
          -1.3595294482528577,
          -0.4989867375652803,
          -0.994521889530649,
          0.5238788685754128,
          -0.5126883562085743,
          1.638572633652777,
          1.1704216773919038,
          -0.3892984266145127,
          -1.9701693154051056,
          0.9541009998491473,
          -0.38294091155112997,
          -0.37783741567692064,
          0.007545114995654143,
          1.0102458239343455,
          -0.08041770515079398,
          -0.4099862221534074,
          -0.839011880668791,
          -0.8332599606848795,
          -1.058238678493066,
          -0.8706724320299088,
          -0.5342859606428391,
          -0.9274468507913998,
          0.8428645004405348,
          0.0021456148799246432,
          -0.7677208360543195,
          1.1517078376841599
         ],
         "yaxis": "y13"
        },
        {
         "line": {
          "color": "rgba(128, 128, 128, 1.0)",
          "dash": "solid",
          "shape": "linear",
          "width": 1.3
         },
         "marker": {
          "size": 2,
          "symbol": "circle"
         },
         "mode": "markers",
         "name": "D",
         "text": "",
         "type": "scatter",
         "x": [
          0.4790002364284842,
          -0.5339133712050166,
          -0.2551232292121737,
          0.7500620133948723,
          1.0639226831377517,
          0.3028647755916625,
          0.0977690423356316,
          -0.3951140303210251,
          -0.9550331925745601,
          -0.7764745770247691,
          -1.4300120636784552,
          0.722590320396416,
          0.06063841933463821,
          0.03610652845611828,
          -0.537856030516011,
          -0.078808592696729,
          -0.3114260012747389,
          -0.8941588607600373,
          -0.5808384159219051,
          0.3834337532738288,
          0.483711206092414,
          1.6829763180132218,
          -0.8919742536174792,
          0.950467512521074,
          -0.08625549152922969,
          1.2167158329958416,
          -0.033911930360870084,
          -1.9700550067826965,
          -0.02574803290346344,
          0.3794547728684391,
          -1.4103559279651778,
          1.0208301284403738,
          -1.6901429429533048,
          1.5697762867784217,
          -1.1365048100216353,
          -0.16786990398521856,
          -1.3683080519549378,
          0.6732207688411338,
          -0.724524608367036,
          -1.6556190684717973,
          1.405498473751612,
          -1.585448471793164,
          0.39518907167519784,
          0.15531514996168058,
          -0.4328193574850774,
          -0.8375570848807239,
          2.0230704348373942,
          -0.17582755292970423,
          1.9225970664687468,
          -1.5139377738915847,
          -0.4490913077935091,
          1.2021633853196803,
          -1.1047775425974564,
          0.7485099120378153,
          -0.8506817463527888,
          -0.1508540110465642,
          -0.4806223905826818,
          -0.009409878169259062,
          -0.13773066448041185,
          0.9187758383578031,
          0.24586887682641126,
          -0.4105378015561218,
          0.7002100378602496,
          1.0152904608914048,
          -0.05662237441840279,
          -1.1519555057371014,
          0.47741060260304125,
          -0.9356334286067687,
          -0.2816607396441667,
          1.2079854210569332,
          -0.9374091758648114,
          0.33622495387200485,
          0.017240232316663457,
          0.6281700912130026,
          -1.001311001407909,
          -0.01697870692670627,
          -1.6009597764633763,
          0.12951776927639422,
          -0.4318016346568667,
          0.6446717409546772,
          -1.765416896232608,
          -0.6206312391014545,
          -0.5616885246922951,
          1.5158834462222572,
          0.40289717199054675,
          0.7031019990192451,
          -0.7247400440690024,
          -2.2789079087356514,
          0.9516348236040112,
          0.5500106106728779,
          -0.6256799087748532,
          -1.2447989248999347,
          -1.5713689300682712,
          1.6189765467065518,
          -0.352213379315518,
          -1.418362779696527,
          1.0450315791300482,
          0.15528639631566069,
          0.4511257837375593,
          -0.18485970986316355
         ],
         "xaxis": "x14",
         "y": [
          -0.7745862644908448,
          0.5042041435436856,
          0.11653223204023365,
          -1.1959229444741741,
          -0.27292696862939264,
          0.9223229138279102,
          -0.0846199316096227,
          0.01953093084833903,
          0.6355269183584646,
          0.6666909985417896,
          0.6043012254606308,
          0.27396348046715746,
          -2.629516675257851,
          0.2797430559701173,
          0.4514205345986516,
          -0.7914312739174943,
          0.19240316995779333,
          1.4023278833167279,
          0.9432499771843861,
          1.100283579418994,
          -2.6576910228587836,
          1.220608012005847,
          0.4463762203629547,
          1.0628130916520049,
          -0.08333665257748994,
          -0.8198554339209732,
          0.08681325176953446,
          0.002710946088567911,
          -0.9134745712232382,
          -1.3781752896942985,
          -0.49077781599685016,
          0.7299785382485134,
          -0.374019643846917,
          0.43339476120969894,
          2.1120018359857964,
          -0.07222056301967658,
          -1.118430611101756,
          0.4993823157143268,
          0.7955688060257385,
          -0.3882653775714211,
          0.8007652045697838,
          -1.643699036934892,
          -1.9886441019258725,
          1.4829454813526062,
          -0.9416601411402572,
          0.15063360347531604,
          0.14947421761858792,
          -0.060953335646296604,
          0.35351471505754173,
          -0.08085370059267592,
          -1.0652731210957525,
          -1.4754535838547946,
          0.6744817451168268,
          -1.8282248056546728,
          0.23187428799008547,
          -1.4106370686259977,
          -0.11648195669724136,
          -0.5618073610721529,
          0.2428333967215472,
          0.5161467385849521,
          0.948845713709916,
          0.07121176051622159,
          -0.2594612478430401,
          0.5682260787378328,
          0.6442418035769039,
          0.16342408166701317,
          0.6225775683828786,
          -1.5409881668264611,
          -0.3367059484787146,
          0.3606308288750878,
          0.24475939866764343,
          1.6498950074974856,
          -1.1609072949372032,
          -1.240376311437029,
          -1.3595294482528577,
          -0.4989867375652803,
          -0.994521889530649,
          0.5238788685754128,
          -0.5126883562085743,
          1.638572633652777,
          1.1704216773919038,
          -0.3892984266145127,
          -1.9701693154051056,
          0.9541009998491473,
          -0.38294091155112997,
          -0.37783741567692064,
          0.007545114995654143,
          1.0102458239343455,
          -0.08041770515079398,
          -0.4099862221534074,
          -0.839011880668791,
          -0.8332599606848795,
          -1.058238678493066,
          -0.8706724320299088,
          -0.5342859606428391,
          -0.9274468507913998,
          0.8428645004405348,
          0.0021456148799246432,
          -0.7677208360543195,
          1.1517078376841599
         ],
         "yaxis": "y14"
        },
        {
         "line": {
          "color": "rgba(128, 128, 128, 1.0)",
          "dash": "solid",
          "shape": "linear",
          "width": 1.3
         },
         "marker": {
          "size": 2,
          "symbol": "circle"
         },
         "mode": "markers",
         "name": "D",
         "text": "",
         "type": "scatter",
         "x": [
          -0.1710539717238674,
          0.6761120036186342,
          -0.6364901882466849,
          0.5068375166337368,
          0.8587563554081904,
          0.8815777839520635,
          1.7981957622905946,
          0.23629650342768097,
          -1.2654142235465151,
          0.9985852638112375,
          1.0140967677490105,
          1.9213050225984043,
          1.147118897460104,
          -0.5571080126333299,
          -1.5966228700302354,
          0.7799340936002608,
          -0.9773101083967402,
          1.197839159404519,
          -1.5107967182448119,
          -0.13519320205885943,
          -0.11407554694339425,
          0.0416244963029414,
          -0.11694785669789755,
          0.32555050158578663,
          -0.581746887771692,
          0.7537911994443084,
          -0.5051520940880653,
          -3.1224181613669932,
          0.25322090179614604,
          -1.709347508989651,
          -0.574636669754101,
          0.0307936632530043,
          -1.2285030245784847,
          0.2656927014665348,
          -0.3068950514033596,
          0.13240715579408738,
          0.8374575862869191,
          -1.3021623768791744,
          -1.819165996897542,
          -0.7589988455347925,
          -0.37555023383268366,
          0.17703412808151636,
          0.9212274812957582,
          2.235090436534782,
          0.22806047835346205,
          -0.15965213524816327,
          -1.8462801463145255,
          -0.5847352598471942,
          0.33665541167019086,
          0.7156454581545579,
          0.4518459352615333,
          0.3768602525240975,
          -1.0481059079241228,
          0.9391230146671161,
          -0.81760338429349,
          -1.8081487207564184,
          0.17743167887350544,
          1.039677816301545,
          -0.49954238815551105,
          -1.42924711355474,
          1.3219961035554446,
          -0.9393760389550331,
          0.3283685130185671,
          -0.23167200407406047,
          1.709823808775834,
          0.43803745965810165,
          0.8056695588712278,
          -0.8815625206777283,
          0.8010039094881437,
          0.7753082267979359,
          -0.6605696943285191,
          -0.40442949350905255,
          2.20673145237434,
          2.2480674660485405,
          2.60938032100713,
          0.543699479190823,
          0.1969871874266927,
          -0.15677733024887777,
          0.6339198380731179,
          1.4695236211918865,
          -0.46258878245316276,
          -1.417929581243472,
          -0.6428942336220342,
          -1.8015303901752648,
          -1.0836442298731181,
          0.7834492930937946,
          1.4690474511013203,
          -0.5667873756382681,
          -0.81138244564651,
          0.9312761917561393,
          0.8170173053211249,
          -0.2515329718182992,
          -0.7498444640254841,
          -1.051743373588905,
          0.004355898780761671,
          -0.14234496449937195,
          1.3343658157166423,
          1.1580565675560939,
          -0.6588853733842952,
          0.7278643918332525
         ],
         "xaxis": "x15",
         "y": [
          -0.7745862644908448,
          0.5042041435436856,
          0.11653223204023365,
          -1.1959229444741741,
          -0.27292696862939264,
          0.9223229138279102,
          -0.0846199316096227,
          0.01953093084833903,
          0.6355269183584646,
          0.6666909985417896,
          0.6043012254606308,
          0.27396348046715746,
          -2.629516675257851,
          0.2797430559701173,
          0.4514205345986516,
          -0.7914312739174943,
          0.19240316995779333,
          1.4023278833167279,
          0.9432499771843861,
          1.100283579418994,
          -2.6576910228587836,
          1.220608012005847,
          0.4463762203629547,
          1.0628130916520049,
          -0.08333665257748994,
          -0.8198554339209732,
          0.08681325176953446,
          0.002710946088567911,
          -0.9134745712232382,
          -1.3781752896942985,
          -0.49077781599685016,
          0.7299785382485134,
          -0.374019643846917,
          0.43339476120969894,
          2.1120018359857964,
          -0.07222056301967658,
          -1.118430611101756,
          0.4993823157143268,
          0.7955688060257385,
          -0.3882653775714211,
          0.8007652045697838,
          -1.643699036934892,
          -1.9886441019258725,
          1.4829454813526062,
          -0.9416601411402572,
          0.15063360347531604,
          0.14947421761858792,
          -0.060953335646296604,
          0.35351471505754173,
          -0.08085370059267592,
          -1.0652731210957525,
          -1.4754535838547946,
          0.6744817451168268,
          -1.8282248056546728,
          0.23187428799008547,
          -1.4106370686259977,
          -0.11648195669724136,
          -0.5618073610721529,
          0.2428333967215472,
          0.5161467385849521,
          0.948845713709916,
          0.07121176051622159,
          -0.2594612478430401,
          0.5682260787378328,
          0.6442418035769039,
          0.16342408166701317,
          0.6225775683828786,
          -1.5409881668264611,
          -0.3367059484787146,
          0.3606308288750878,
          0.24475939866764343,
          1.6498950074974856,
          -1.1609072949372032,
          -1.240376311437029,
          -1.3595294482528577,
          -0.4989867375652803,
          -0.994521889530649,
          0.5238788685754128,
          -0.5126883562085743,
          1.638572633652777,
          1.1704216773919038,
          -0.3892984266145127,
          -1.9701693154051056,
          0.9541009998491473,
          -0.38294091155112997,
          -0.37783741567692064,
          0.007545114995654143,
          1.0102458239343455,
          -0.08041770515079398,
          -0.4099862221534074,
          -0.839011880668791,
          -0.8332599606848795,
          -1.058238678493066,
          -0.8706724320299088,
          -0.5342859606428391,
          -0.9274468507913998,
          0.8428645004405348,
          0.0021456148799246432,
          -0.7677208360543195,
          1.1517078376841599
         ],
         "yaxis": "y15"
        },
        {
         "histfunc": "count",
         "histnorm": "",
         "marker": {
          "color": "rgba(128, 0, 128, 1.0)",
          "line": {
           "color": "#4D5663",
           "width": 1.3
          }
         },
         "name": "D",
         "nbinsx": 10,
         "opacity": 0.8,
         "orientation": "v",
         "type": "histogram",
         "x": [
          -0.7745862644908448,
          0.5042041435436856,
          0.11653223204023365,
          -1.1959229444741741,
          -0.27292696862939264,
          0.9223229138279102,
          -0.0846199316096227,
          0.01953093084833903,
          0.6355269183584646,
          0.6666909985417896,
          0.6043012254606308,
          0.27396348046715746,
          -2.629516675257851,
          0.2797430559701173,
          0.4514205345986516,
          -0.7914312739174943,
          0.19240316995779333,
          1.4023278833167279,
          0.9432499771843861,
          1.100283579418994,
          -2.6576910228587836,
          1.220608012005847,
          0.4463762203629547,
          1.0628130916520049,
          -0.08333665257748994,
          -0.8198554339209732,
          0.08681325176953446,
          0.002710946088567911,
          -0.9134745712232382,
          -1.3781752896942985,
          -0.49077781599685016,
          0.7299785382485134,
          -0.374019643846917,
          0.43339476120969894,
          2.1120018359857964,
          -0.07222056301967658,
          -1.118430611101756,
          0.4993823157143268,
          0.7955688060257385,
          -0.3882653775714211,
          0.8007652045697838,
          -1.643699036934892,
          -1.9886441019258725,
          1.4829454813526062,
          -0.9416601411402572,
          0.15063360347531604,
          0.14947421761858792,
          -0.060953335646296604,
          0.35351471505754173,
          -0.08085370059267592,
          -1.0652731210957525,
          -1.4754535838547946,
          0.6744817451168268,
          -1.8282248056546728,
          0.23187428799008547,
          -1.4106370686259977,
          -0.11648195669724136,
          -0.5618073610721529,
          0.2428333967215472,
          0.5161467385849521,
          0.948845713709916,
          0.07121176051622159,
          -0.2594612478430401,
          0.5682260787378328,
          0.6442418035769039,
          0.16342408166701317,
          0.6225775683828786,
          -1.5409881668264611,
          -0.3367059484787146,
          0.3606308288750878,
          0.24475939866764343,
          1.6498950074974856,
          -1.1609072949372032,
          -1.240376311437029,
          -1.3595294482528577,
          -0.4989867375652803,
          -0.994521889530649,
          0.5238788685754128,
          -0.5126883562085743,
          1.638572633652777,
          1.1704216773919038,
          -0.3892984266145127,
          -1.9701693154051056,
          0.9541009998491473,
          -0.38294091155112997,
          -0.37783741567692064,
          0.007545114995654143,
          1.0102458239343455,
          -0.08041770515079398,
          -0.4099862221534074,
          -0.839011880668791,
          -0.8332599606848795,
          -1.058238678493066,
          -0.8706724320299088,
          -0.5342859606428391,
          -0.9274468507913998,
          0.8428645004405348,
          0.0021456148799246432,
          -0.7677208360543195,
          1.1517078376841599
         ],
         "xaxis": "x16",
         "yaxis": "y16"
        }
       ],
       "layout": {
        "bargap": 0.02,
        "legend": {
         "bgcolor": "#F5F6F9",
         "font": {
          "color": "#4D5663"
         }
        },
        "paper_bgcolor": "#F5F6F9",
        "plot_bgcolor": "#F5F6F9",
        "showlegend": false,
        "template": {
         "data": {
          "bar": [
           {
            "error_x": {
             "color": "#2a3f5f"
            },
            "error_y": {
             "color": "#2a3f5f"
            },
            "marker": {
             "line": {
              "color": "#E5ECF6",
              "width": 0.5
             },
             "pattern": {
              "fillmode": "overlay",
              "size": 10,
              "solidity": 0.2
             }
            },
            "type": "bar"
           }
          ],
          "barpolar": [
           {
            "marker": {
             "line": {
              "color": "#E5ECF6",
              "width": 0.5
             },
             "pattern": {
              "fillmode": "overlay",
              "size": 10,
              "solidity": 0.2
             }
            },
            "type": "barpolar"
           }
          ],
          "carpet": [
           {
            "aaxis": {
             "endlinecolor": "#2a3f5f",
             "gridcolor": "white",
             "linecolor": "white",
             "minorgridcolor": "white",
             "startlinecolor": "#2a3f5f"
            },
            "baxis": {
             "endlinecolor": "#2a3f5f",
             "gridcolor": "white",
             "linecolor": "white",
             "minorgridcolor": "white",
             "startlinecolor": "#2a3f5f"
            },
            "type": "carpet"
           }
          ],
          "choropleth": [
           {
            "colorbar": {
             "outlinewidth": 0,
             "ticks": ""
            },
            "type": "choropleth"
           }
          ],
          "contour": [
           {
            "colorbar": {
             "outlinewidth": 0,
             "ticks": ""
            },
            "colorscale": [
             [
              0,
              "#0d0887"
             ],
             [
              0.1111111111111111,
              "#46039f"
             ],
             [
              0.2222222222222222,
              "#7201a8"
             ],
             [
              0.3333333333333333,
              "#9c179e"
             ],
             [
              0.4444444444444444,
              "#bd3786"
             ],
             [
              0.5555555555555556,
              "#d8576b"
             ],
             [
              0.6666666666666666,
              "#ed7953"
             ],
             [
              0.7777777777777778,
              "#fb9f3a"
             ],
             [
              0.8888888888888888,
              "#fdca26"
             ],
             [
              1,
              "#f0f921"
             ]
            ],
            "type": "contour"
           }
          ],
          "contourcarpet": [
           {
            "colorbar": {
             "outlinewidth": 0,
             "ticks": ""
            },
            "type": "contourcarpet"
           }
          ],
          "heatmap": [
           {
            "colorbar": {
             "outlinewidth": 0,
             "ticks": ""
            },
            "colorscale": [
             [
              0,
              "#0d0887"
             ],
             [
              0.1111111111111111,
              "#46039f"
             ],
             [
              0.2222222222222222,
              "#7201a8"
             ],
             [
              0.3333333333333333,
              "#9c179e"
             ],
             [
              0.4444444444444444,
              "#bd3786"
             ],
             [
              0.5555555555555556,
              "#d8576b"
             ],
             [
              0.6666666666666666,
              "#ed7953"
             ],
             [
              0.7777777777777778,
              "#fb9f3a"
             ],
             [
              0.8888888888888888,
              "#fdca26"
             ],
             [
              1,
              "#f0f921"
             ]
            ],
            "type": "heatmap"
           }
          ],
          "heatmapgl": [
           {
            "colorbar": {
             "outlinewidth": 0,
             "ticks": ""
            },
            "colorscale": [
             [
              0,
              "#0d0887"
             ],
             [
              0.1111111111111111,
              "#46039f"
             ],
             [
              0.2222222222222222,
              "#7201a8"
             ],
             [
              0.3333333333333333,
              "#9c179e"
             ],
             [
              0.4444444444444444,
              "#bd3786"
             ],
             [
              0.5555555555555556,
              "#d8576b"
             ],
             [
              0.6666666666666666,
              "#ed7953"
             ],
             [
              0.7777777777777778,
              "#fb9f3a"
             ],
             [
              0.8888888888888888,
              "#fdca26"
             ],
             [
              1,
              "#f0f921"
             ]
            ],
            "type": "heatmapgl"
           }
          ],
          "histogram": [
           {
            "marker": {
             "pattern": {
              "fillmode": "overlay",
              "size": 10,
              "solidity": 0.2
             }
            },
            "type": "histogram"
           }
          ],
          "histogram2d": [
           {
            "colorbar": {
             "outlinewidth": 0,
             "ticks": ""
            },
            "colorscale": [
             [
              0,
              "#0d0887"
             ],
             [
              0.1111111111111111,
              "#46039f"
             ],
             [
              0.2222222222222222,
              "#7201a8"
             ],
             [
              0.3333333333333333,
              "#9c179e"
             ],
             [
              0.4444444444444444,
              "#bd3786"
             ],
             [
              0.5555555555555556,
              "#d8576b"
             ],
             [
              0.6666666666666666,
              "#ed7953"
             ],
             [
              0.7777777777777778,
              "#fb9f3a"
             ],
             [
              0.8888888888888888,
              "#fdca26"
             ],
             [
              1,
              "#f0f921"
             ]
            ],
            "type": "histogram2d"
           }
          ],
          "histogram2dcontour": [
           {
            "colorbar": {
             "outlinewidth": 0,
             "ticks": ""
            },
            "colorscale": [
             [
              0,
              "#0d0887"
             ],
             [
              0.1111111111111111,
              "#46039f"
             ],
             [
              0.2222222222222222,
              "#7201a8"
             ],
             [
              0.3333333333333333,
              "#9c179e"
             ],
             [
              0.4444444444444444,
              "#bd3786"
             ],
             [
              0.5555555555555556,
              "#d8576b"
             ],
             [
              0.6666666666666666,
              "#ed7953"
             ],
             [
              0.7777777777777778,
              "#fb9f3a"
             ],
             [
              0.8888888888888888,
              "#fdca26"
             ],
             [
              1,
              "#f0f921"
             ]
            ],
            "type": "histogram2dcontour"
           }
          ],
          "mesh3d": [
           {
            "colorbar": {
             "outlinewidth": 0,
             "ticks": ""
            },
            "type": "mesh3d"
           }
          ],
          "parcoords": [
           {
            "line": {
             "colorbar": {
              "outlinewidth": 0,
              "ticks": ""
             }
            },
            "type": "parcoords"
           }
          ],
          "pie": [
           {
            "automargin": true,
            "type": "pie"
           }
          ],
          "scatter": [
           {
            "marker": {
             "colorbar": {
              "outlinewidth": 0,
              "ticks": ""
             }
            },
            "type": "scatter"
           }
          ],
          "scatter3d": [
           {
            "line": {
             "colorbar": {
              "outlinewidth": 0,
              "ticks": ""
             }
            },
            "marker": {
             "colorbar": {
              "outlinewidth": 0,
              "ticks": ""
             }
            },
            "type": "scatter3d"
           }
          ],
          "scattercarpet": [
           {
            "marker": {
             "colorbar": {
              "outlinewidth": 0,
              "ticks": ""
             }
            },
            "type": "scattercarpet"
           }
          ],
          "scattergeo": [
           {
            "marker": {
             "colorbar": {
              "outlinewidth": 0,
              "ticks": ""
             }
            },
            "type": "scattergeo"
           }
          ],
          "scattergl": [
           {
            "marker": {
             "colorbar": {
              "outlinewidth": 0,
              "ticks": ""
             }
            },
            "type": "scattergl"
           }
          ],
          "scattermapbox": [
           {
            "marker": {
             "colorbar": {
              "outlinewidth": 0,
              "ticks": ""
             }
            },
            "type": "scattermapbox"
           }
          ],
          "scatterpolar": [
           {
            "marker": {
             "colorbar": {
              "outlinewidth": 0,
              "ticks": ""
             }
            },
            "type": "scatterpolar"
           }
          ],
          "scatterpolargl": [
           {
            "marker": {
             "colorbar": {
              "outlinewidth": 0,
              "ticks": ""
             }
            },
            "type": "scatterpolargl"
           }
          ],
          "scatterternary": [
           {
            "marker": {
             "colorbar": {
              "outlinewidth": 0,
              "ticks": ""
             }
            },
            "type": "scatterternary"
           }
          ],
          "surface": [
           {
            "colorbar": {
             "outlinewidth": 0,
             "ticks": ""
            },
            "colorscale": [
             [
              0,
              "#0d0887"
             ],
             [
              0.1111111111111111,
              "#46039f"
             ],
             [
              0.2222222222222222,
              "#7201a8"
             ],
             [
              0.3333333333333333,
              "#9c179e"
             ],
             [
              0.4444444444444444,
              "#bd3786"
             ],
             [
              0.5555555555555556,
              "#d8576b"
             ],
             [
              0.6666666666666666,
              "#ed7953"
             ],
             [
              0.7777777777777778,
              "#fb9f3a"
             ],
             [
              0.8888888888888888,
              "#fdca26"
             ],
             [
              1,
              "#f0f921"
             ]
            ],
            "type": "surface"
           }
          ],
          "table": [
           {
            "cells": {
             "fill": {
              "color": "#EBF0F8"
             },
             "line": {
              "color": "white"
             }
            },
            "header": {
             "fill": {
              "color": "#C8D4E3"
             },
             "line": {
              "color": "white"
             }
            },
            "type": "table"
           }
          ]
         },
         "layout": {
          "annotationdefaults": {
           "arrowcolor": "#2a3f5f",
           "arrowhead": 0,
           "arrowwidth": 1
          },
          "autotypenumbers": "strict",
          "coloraxis": {
           "colorbar": {
            "outlinewidth": 0,
            "ticks": ""
           }
          },
          "colorscale": {
           "diverging": [
            [
             0,
             "#8e0152"
            ],
            [
             0.1,
             "#c51b7d"
            ],
            [
             0.2,
             "#de77ae"
            ],
            [
             0.3,
             "#f1b6da"
            ],
            [
             0.4,
             "#fde0ef"
            ],
            [
             0.5,
             "#f7f7f7"
            ],
            [
             0.6,
             "#e6f5d0"
            ],
            [
             0.7,
             "#b8e186"
            ],
            [
             0.8,
             "#7fbc41"
            ],
            [
             0.9,
             "#4d9221"
            ],
            [
             1,
             "#276419"
            ]
           ],
           "sequential": [
            [
             0,
             "#0d0887"
            ],
            [
             0.1111111111111111,
             "#46039f"
            ],
            [
             0.2222222222222222,
             "#7201a8"
            ],
            [
             0.3333333333333333,
             "#9c179e"
            ],
            [
             0.4444444444444444,
             "#bd3786"
            ],
            [
             0.5555555555555556,
             "#d8576b"
            ],
            [
             0.6666666666666666,
             "#ed7953"
            ],
            [
             0.7777777777777778,
             "#fb9f3a"
            ],
            [
             0.8888888888888888,
             "#fdca26"
            ],
            [
             1,
             "#f0f921"
            ]
           ],
           "sequentialminus": [
            [
             0,
             "#0d0887"
            ],
            [
             0.1111111111111111,
             "#46039f"
            ],
            [
             0.2222222222222222,
             "#7201a8"
            ],
            [
             0.3333333333333333,
             "#9c179e"
            ],
            [
             0.4444444444444444,
             "#bd3786"
            ],
            [
             0.5555555555555556,
             "#d8576b"
            ],
            [
             0.6666666666666666,
             "#ed7953"
            ],
            [
             0.7777777777777778,
             "#fb9f3a"
            ],
            [
             0.8888888888888888,
             "#fdca26"
            ],
            [
             1,
             "#f0f921"
            ]
           ]
          },
          "colorway": [
           "#636efa",
           "#EF553B",
           "#00cc96",
           "#ab63fa",
           "#FFA15A",
           "#19d3f3",
           "#FF6692",
           "#B6E880",
           "#FF97FF",
           "#FECB52"
          ],
          "font": {
           "color": "#2a3f5f"
          },
          "geo": {
           "bgcolor": "white",
           "lakecolor": "white",
           "landcolor": "#E5ECF6",
           "showlakes": true,
           "showland": true,
           "subunitcolor": "white"
          },
          "hoverlabel": {
           "align": "left"
          },
          "hovermode": "closest",
          "mapbox": {
           "style": "light"
          },
          "paper_bgcolor": "white",
          "plot_bgcolor": "#E5ECF6",
          "polar": {
           "angularaxis": {
            "gridcolor": "white",
            "linecolor": "white",
            "ticks": ""
           },
           "bgcolor": "#E5ECF6",
           "radialaxis": {
            "gridcolor": "white",
            "linecolor": "white",
            "ticks": ""
           }
          },
          "scene": {
           "xaxis": {
            "backgroundcolor": "#E5ECF6",
            "gridcolor": "white",
            "gridwidth": 2,
            "linecolor": "white",
            "showbackground": true,
            "ticks": "",
            "zerolinecolor": "white"
           },
           "yaxis": {
            "backgroundcolor": "#E5ECF6",
            "gridcolor": "white",
            "gridwidth": 2,
            "linecolor": "white",
            "showbackground": true,
            "ticks": "",
            "zerolinecolor": "white"
           },
           "zaxis": {
            "backgroundcolor": "#E5ECF6",
            "gridcolor": "white",
            "gridwidth": 2,
            "linecolor": "white",
            "showbackground": true,
            "ticks": "",
            "zerolinecolor": "white"
           }
          },
          "shapedefaults": {
           "line": {
            "color": "#2a3f5f"
           }
          },
          "ternary": {
           "aaxis": {
            "gridcolor": "white",
            "linecolor": "white",
            "ticks": ""
           },
           "baxis": {
            "gridcolor": "white",
            "linecolor": "white",
            "ticks": ""
           },
           "bgcolor": "#E5ECF6",
           "caxis": {
            "gridcolor": "white",
            "linecolor": "white",
            "ticks": ""
           }
          },
          "title": {
           "x": 0.05
          },
          "xaxis": {
           "automargin": true,
           "gridcolor": "white",
           "linecolor": "white",
           "ticks": "",
           "title": {
            "standoff": 15
           },
           "zerolinecolor": "white",
           "zerolinewidth": 2
          },
          "yaxis": {
           "automargin": true,
           "gridcolor": "white",
           "linecolor": "white",
           "ticks": "",
           "title": {
            "standoff": 15
           },
           "zerolinecolor": "white",
           "zerolinewidth": 2
          }
         }
        },
        "title": {
         "font": {
          "color": "#4D5663"
         }
        },
        "xaxis": {
         "anchor": "y",
         "domain": [
          0,
          0.2125
         ],
         "gridcolor": "#E1E5ED",
         "showgrid": false,
         "tickfont": {
          "color": "#4D5663"
         },
         "title": {
          "font": {
           "color": "#4D5663"
          },
          "text": ""
         },
         "zerolinecolor": "#E1E5ED"
        },
        "xaxis10": {
         "anchor": "y10",
         "domain": [
          0.2625,
          0.475
         ],
         "gridcolor": "#E1E5ED",
         "showgrid": false,
         "tickfont": {
          "color": "#4D5663"
         },
         "title": {
          "font": {
           "color": "#4D5663"
          },
          "text": ""
         },
         "zerolinecolor": "#E1E5ED"
        },
        "xaxis11": {
         "anchor": "y11",
         "domain": [
          0.525,
          0.7375
         ],
         "gridcolor": "#E1E5ED",
         "showgrid": false,
         "tickfont": {
          "color": "#4D5663"
         },
         "title": {
          "font": {
           "color": "#4D5663"
          },
          "text": ""
         },
         "zerolinecolor": "#E1E5ED"
        },
        "xaxis12": {
         "anchor": "y12",
         "domain": [
          0.7875,
          1
         ],
         "gridcolor": "#E1E5ED",
         "showgrid": false,
         "tickfont": {
          "color": "#4D5663"
         },
         "title": {
          "font": {
           "color": "#4D5663"
          },
          "text": ""
         },
         "zerolinecolor": "#E1E5ED"
        },
        "xaxis13": {
         "anchor": "y13",
         "domain": [
          0,
          0.2125
         ],
         "gridcolor": "#E1E5ED",
         "showgrid": false,
         "tickfont": {
          "color": "#4D5663"
         },
         "title": {
          "font": {
           "color": "#4D5663"
          },
          "text": ""
         },
         "zerolinecolor": "#E1E5ED"
        },
        "xaxis14": {
         "anchor": "y14",
         "domain": [
          0.2625,
          0.475
         ],
         "gridcolor": "#E1E5ED",
         "showgrid": false,
         "tickfont": {
          "color": "#4D5663"
         },
         "title": {
          "font": {
           "color": "#4D5663"
          },
          "text": ""
         },
         "zerolinecolor": "#E1E5ED"
        },
        "xaxis15": {
         "anchor": "y15",
         "domain": [
          0.525,
          0.7375
         ],
         "gridcolor": "#E1E5ED",
         "showgrid": false,
         "tickfont": {
          "color": "#4D5663"
         },
         "title": {
          "font": {
           "color": "#4D5663"
          },
          "text": ""
         },
         "zerolinecolor": "#E1E5ED"
        },
        "xaxis16": {
         "anchor": "y16",
         "domain": [
          0.7875,
          1
         ],
         "gridcolor": "#E1E5ED",
         "showgrid": false,
         "tickfont": {
          "color": "#4D5663"
         },
         "title": {
          "font": {
           "color": "#4D5663"
          },
          "text": ""
         },
         "zerolinecolor": "#E1E5ED"
        },
        "xaxis2": {
         "anchor": "y2",
         "domain": [
          0.2625,
          0.475
         ],
         "gridcolor": "#E1E5ED",
         "showgrid": false,
         "tickfont": {
          "color": "#4D5663"
         },
         "title": {
          "font": {
           "color": "#4D5663"
          },
          "text": ""
         },
         "zerolinecolor": "#E1E5ED"
        },
        "xaxis3": {
         "anchor": "y3",
         "domain": [
          0.525,
          0.7375
         ],
         "gridcolor": "#E1E5ED",
         "showgrid": false,
         "tickfont": {
          "color": "#4D5663"
         },
         "title": {
          "font": {
           "color": "#4D5663"
          },
          "text": ""
         },
         "zerolinecolor": "#E1E5ED"
        },
        "xaxis4": {
         "anchor": "y4",
         "domain": [
          0.7875,
          1
         ],
         "gridcolor": "#E1E5ED",
         "showgrid": false,
         "tickfont": {
          "color": "#4D5663"
         },
         "title": {
          "font": {
           "color": "#4D5663"
          },
          "text": ""
         },
         "zerolinecolor": "#E1E5ED"
        },
        "xaxis5": {
         "anchor": "y5",
         "domain": [
          0,
          0.2125
         ],
         "gridcolor": "#E1E5ED",
         "showgrid": false,
         "tickfont": {
          "color": "#4D5663"
         },
         "title": {
          "font": {
           "color": "#4D5663"
          },
          "text": ""
         },
         "zerolinecolor": "#E1E5ED"
        },
        "xaxis6": {
         "anchor": "y6",
         "domain": [
          0.2625,
          0.475
         ],
         "gridcolor": "#E1E5ED",
         "showgrid": false,
         "tickfont": {
          "color": "#4D5663"
         },
         "title": {
          "font": {
           "color": "#4D5663"
          },
          "text": ""
         },
         "zerolinecolor": "#E1E5ED"
        },
        "xaxis7": {
         "anchor": "y7",
         "domain": [
          0.525,
          0.7375
         ],
         "gridcolor": "#E1E5ED",
         "showgrid": false,
         "tickfont": {
          "color": "#4D5663"
         },
         "title": {
          "font": {
           "color": "#4D5663"
          },
          "text": ""
         },
         "zerolinecolor": "#E1E5ED"
        },
        "xaxis8": {
         "anchor": "y8",
         "domain": [
          0.7875,
          1
         ],
         "gridcolor": "#E1E5ED",
         "showgrid": false,
         "tickfont": {
          "color": "#4D5663"
         },
         "title": {
          "font": {
           "color": "#4D5663"
          },
          "text": ""
         },
         "zerolinecolor": "#E1E5ED"
        },
        "xaxis9": {
         "anchor": "y9",
         "domain": [
          0,
          0.2125
         ],
         "gridcolor": "#E1E5ED",
         "showgrid": false,
         "tickfont": {
          "color": "#4D5663"
         },
         "title": {
          "font": {
           "color": "#4D5663"
          },
          "text": ""
         },
         "zerolinecolor": "#E1E5ED"
        },
        "yaxis": {
         "anchor": "x",
         "domain": [
          0.8025,
          1
         ],
         "gridcolor": "#E1E5ED",
         "showgrid": false,
         "tickfont": {
          "color": "#4D5663"
         },
         "title": {
          "font": {
           "color": "#4D5663"
          },
          "text": ""
         },
         "zerolinecolor": "#E1E5ED"
        },
        "yaxis10": {
         "anchor": "x10",
         "domain": [
          0.2675,
          0.465
         ],
         "gridcolor": "#E1E5ED",
         "showgrid": false,
         "tickfont": {
          "color": "#4D5663"
         },
         "title": {
          "font": {
           "color": "#4D5663"
          },
          "text": ""
         },
         "zerolinecolor": "#E1E5ED"
        },
        "yaxis11": {
         "anchor": "x11",
         "domain": [
          0.2675,
          0.465
         ],
         "gridcolor": "#E1E5ED",
         "showgrid": false,
         "tickfont": {
          "color": "#4D5663"
         },
         "title": {
          "font": {
           "color": "#4D5663"
          },
          "text": ""
         },
         "zerolinecolor": "#E1E5ED"
        },
        "yaxis12": {
         "anchor": "x12",
         "domain": [
          0.2675,
          0.465
         ],
         "gridcolor": "#E1E5ED",
         "showgrid": false,
         "tickfont": {
          "color": "#4D5663"
         },
         "title": {
          "font": {
           "color": "#4D5663"
          },
          "text": ""
         },
         "zerolinecolor": "#E1E5ED"
        },
        "yaxis13": {
         "anchor": "x13",
         "domain": [
          0,
          0.1975
         ],
         "gridcolor": "#E1E5ED",
         "showgrid": false,
         "tickfont": {
          "color": "#4D5663"
         },
         "title": {
          "font": {
           "color": "#4D5663"
          },
          "text": ""
         },
         "zerolinecolor": "#E1E5ED"
        },
        "yaxis14": {
         "anchor": "x14",
         "domain": [
          0,
          0.1975
         ],
         "gridcolor": "#E1E5ED",
         "showgrid": false,
         "tickfont": {
          "color": "#4D5663"
         },
         "title": {
          "font": {
           "color": "#4D5663"
          },
          "text": ""
         },
         "zerolinecolor": "#E1E5ED"
        },
        "yaxis15": {
         "anchor": "x15",
         "domain": [
          0,
          0.1975
         ],
         "gridcolor": "#E1E5ED",
         "showgrid": false,
         "tickfont": {
          "color": "#4D5663"
         },
         "title": {
          "font": {
           "color": "#4D5663"
          },
          "text": ""
         },
         "zerolinecolor": "#E1E5ED"
        },
        "yaxis16": {
         "anchor": "x16",
         "domain": [
          0,
          0.1975
         ],
         "gridcolor": "#E1E5ED",
         "showgrid": false,
         "tickfont": {
          "color": "#4D5663"
         },
         "title": {
          "font": {
           "color": "#4D5663"
          },
          "text": ""
         },
         "zerolinecolor": "#E1E5ED"
        },
        "yaxis2": {
         "anchor": "x2",
         "domain": [
          0.8025,
          1
         ],
         "gridcolor": "#E1E5ED",
         "showgrid": false,
         "tickfont": {
          "color": "#4D5663"
         },
         "title": {
          "font": {
           "color": "#4D5663"
          },
          "text": ""
         },
         "zerolinecolor": "#E1E5ED"
        },
        "yaxis3": {
         "anchor": "x3",
         "domain": [
          0.8025,
          1
         ],
         "gridcolor": "#E1E5ED",
         "showgrid": false,
         "tickfont": {
          "color": "#4D5663"
         },
         "title": {
          "font": {
           "color": "#4D5663"
          },
          "text": ""
         },
         "zerolinecolor": "#E1E5ED"
        },
        "yaxis4": {
         "anchor": "x4",
         "domain": [
          0.8025,
          1
         ],
         "gridcolor": "#E1E5ED",
         "showgrid": false,
         "tickfont": {
          "color": "#4D5663"
         },
         "title": {
          "font": {
           "color": "#4D5663"
          },
          "text": ""
         },
         "zerolinecolor": "#E1E5ED"
        },
        "yaxis5": {
         "anchor": "x5",
         "domain": [
          0.535,
          0.7325
         ],
         "gridcolor": "#E1E5ED",
         "showgrid": false,
         "tickfont": {
          "color": "#4D5663"
         },
         "title": {
          "font": {
           "color": "#4D5663"
          },
          "text": ""
         },
         "zerolinecolor": "#E1E5ED"
        },
        "yaxis6": {
         "anchor": "x6",
         "domain": [
          0.535,
          0.7325
         ],
         "gridcolor": "#E1E5ED",
         "showgrid": false,
         "tickfont": {
          "color": "#4D5663"
         },
         "title": {
          "font": {
           "color": "#4D5663"
          },
          "text": ""
         },
         "zerolinecolor": "#E1E5ED"
        },
        "yaxis7": {
         "anchor": "x7",
         "domain": [
          0.535,
          0.7325
         ],
         "gridcolor": "#E1E5ED",
         "showgrid": false,
         "tickfont": {
          "color": "#4D5663"
         },
         "title": {
          "font": {
           "color": "#4D5663"
          },
          "text": ""
         },
         "zerolinecolor": "#E1E5ED"
        },
        "yaxis8": {
         "anchor": "x8",
         "domain": [
          0.535,
          0.7325
         ],
         "gridcolor": "#E1E5ED",
         "showgrid": false,
         "tickfont": {
          "color": "#4D5663"
         },
         "title": {
          "font": {
           "color": "#4D5663"
          },
          "text": ""
         },
         "zerolinecolor": "#E1E5ED"
        },
        "yaxis9": {
         "anchor": "x9",
         "domain": [
          0.2675,
          0.465
         ],
         "gridcolor": "#E1E5ED",
         "showgrid": false,
         "tickfont": {
          "color": "#4D5663"
         },
         "title": {
          "font": {
           "color": "#4D5663"
          },
          "text": ""
         },
         "zerolinecolor": "#E1E5ED"
        }
       }
      },
      "text/html": [
       "<div>                            <div id=\"6ccb010c-b4d6-408f-a105-af0702afcb1f\" class=\"plotly-graph-div\" style=\"height:525px; width:100%;\"></div>            <script type=\"text/javascript\">                require([\"plotly\"], function(Plotly) {                    window.PLOTLYENV=window.PLOTLYENV || {};\n",
       "                    window.PLOTLYENV.BASE_URL='https://plot.ly';                                    if (document.getElementById(\"6ccb010c-b4d6-408f-a105-af0702afcb1f\")) {                    Plotly.newPlot(                        \"6ccb010c-b4d6-408f-a105-af0702afcb1f\",                        [{\"histfunc\":\"count\",\"histnorm\":\"\",\"marker\":{\"color\":\"rgba(255, 153, 51, 1.0)\",\"line\":{\"color\":\"#4D5663\",\"width\":1.3}},\"name\":\"A\",\"nbinsx\":10,\"opacity\":0.8,\"orientation\":\"v\",\"x\":[0.7206021595231069,0.600148426769176,0.4104359743616993,1.5970755667006848,-1.2936619515577568,-0.8247653726117883,0.8635716441218286,0.9641754730341981,-0.023983744104136718,0.8936011658880695,-0.3997818395932563,-0.6968882043136051,-1.163879408522421,0.24301016267096173,1.5061934436070503,2.2293327935101708,-1.2735706894259167,0.07670212200171866,0.42749763295537124,-0.8362156804531724,0.23760756881529357,0.6125021013936939,0.9474786308756106,0.5792285211320449,-0.022141338115392657,0.1780786293235384,-0.4378983347210052,-1.9641912957964793,0.5884103102817879,1.2261746210124682,0.36692568501522266,0.5338772876220805,-1.0129881243922954,-0.05828206366226157,-0.4542632899292565,-0.9545712927080492,-0.4462063781298266,1.7850698534429827,-1.5714742286027275,-1.700569442248487,-0.7669013707864606,-3.131367504486959,-1.059983984922948,1.4162638414930868,1.6704485316623467,-0.939130190447798,0.8100608368265246,1.4254927278950735,0.28241386798408846,-0.20653442472757128,-1.745147679318256,-1.6430798662212416,1.3845799049888303,-1.378963965645226,-0.519571255210273,1.4442675469554762,-0.5705819989697787,-0.5135575214998415,-0.7725119707973551,0.4520162047149358,-0.7274765115358929,-1.3402720744289112,0.9327244040593339,-0.8271541013442341,-1.2064204344555705,0.3696430003742275,0.23974555131411265,-1.68529161912587,0.5231163706104487,0.6402595816400246,-0.043905994702309624,0.4468550288425965,0.37837924503019776,-0.033244845954011386,-1.1977701838216634,0.39756580016298637,-0.7081412455264934,0.5402103482032428,-1.8552901543432505,1.0089939294346084,1.587105528275671,-0.5601097082171755,0.11665409539915697,-0.5745241401224672,-2.558207307961996,-0.5339083790451622,-1.4864995681419446,-0.2949479595475197,0.6295343657985574,0.42971820599591787,1.5498386531740298,0.5916490519789844,-0.3998257461066869,1.9127966678340154,0.30283673972582165,0.24201125897767198,-1.7144830491064178,0.4238364675698964,0.60177217016106,-0.6508979705447588],\"xaxis\":\"x\",\"yaxis\":\"y\",\"type\":\"histogram\"},{\"line\":{\"color\":\"rgba(128, 128, 128, 1.0)\",\"dash\":\"solid\",\"shape\":\"linear\",\"width\":1.3},\"marker\":{\"size\":2,\"symbol\":\"circle\"},\"mode\":\"markers\",\"name\":\"A\",\"text\":\"\",\"x\":[0.4790002364284842,-0.5339133712050166,-0.2551232292121737,0.7500620133948723,1.0639226831377517,0.3028647755916625,0.0977690423356316,-0.3951140303210251,-0.9550331925745601,-0.7764745770247691,-1.4300120636784552,0.722590320396416,0.06063841933463821,0.03610652845611828,-0.537856030516011,-0.078808592696729,-0.3114260012747389,-0.8941588607600373,-0.5808384159219051,0.3834337532738288,0.483711206092414,1.6829763180132218,-0.8919742536174792,0.950467512521074,-0.08625549152922969,1.2167158329958416,-0.033911930360870084,-1.9700550067826965,-0.02574803290346344,0.3794547728684391,-1.4103559279651778,1.0208301284403738,-1.6901429429533048,1.5697762867784217,-1.1365048100216353,-0.16786990398521856,-1.3683080519549378,0.6732207688411338,-0.724524608367036,-1.6556190684717973,1.405498473751612,-1.585448471793164,0.39518907167519784,0.15531514996168058,-0.4328193574850774,-0.8375570848807239,2.0230704348373942,-0.17582755292970423,1.9225970664687468,-1.5139377738915847,-0.4490913077935091,1.2021633853196803,-1.1047775425974564,0.7485099120378153,-0.8506817463527888,-0.1508540110465642,-0.4806223905826818,-0.009409878169259062,-0.13773066448041185,0.9187758383578031,0.24586887682641126,-0.4105378015561218,0.7002100378602496,1.0152904608914048,-0.05662237441840279,-1.1519555057371014,0.47741060260304125,-0.9356334286067687,-0.2816607396441667,1.2079854210569332,-0.9374091758648114,0.33622495387200485,0.017240232316663457,0.6281700912130026,-1.001311001407909,-0.01697870692670627,-1.6009597764633763,0.12951776927639422,-0.4318016346568667,0.6446717409546772,-1.765416896232608,-0.6206312391014545,-0.5616885246922951,1.5158834462222572,0.40289717199054675,0.7031019990192451,-0.7247400440690024,-2.2789079087356514,0.9516348236040112,0.5500106106728779,-0.6256799087748532,-1.2447989248999347,-1.5713689300682712,1.6189765467065518,-0.352213379315518,-1.418362779696527,1.0450315791300482,0.15528639631566069,0.4511257837375593,-0.18485970986316355],\"xaxis\":\"x2\",\"y\":[0.7206021595231069,0.600148426769176,0.4104359743616993,1.5970755667006848,-1.2936619515577568,-0.8247653726117883,0.8635716441218286,0.9641754730341981,-0.023983744104136718,0.8936011658880695,-0.3997818395932563,-0.6968882043136051,-1.163879408522421,0.24301016267096173,1.5061934436070503,2.2293327935101708,-1.2735706894259167,0.07670212200171866,0.42749763295537124,-0.8362156804531724,0.23760756881529357,0.6125021013936939,0.9474786308756106,0.5792285211320449,-0.022141338115392657,0.1780786293235384,-0.4378983347210052,-1.9641912957964793,0.5884103102817879,1.2261746210124682,0.36692568501522266,0.5338772876220805,-1.0129881243922954,-0.05828206366226157,-0.4542632899292565,-0.9545712927080492,-0.4462063781298266,1.7850698534429827,-1.5714742286027275,-1.700569442248487,-0.7669013707864606,-3.131367504486959,-1.059983984922948,1.4162638414930868,1.6704485316623467,-0.939130190447798,0.8100608368265246,1.4254927278950735,0.28241386798408846,-0.20653442472757128,-1.745147679318256,-1.6430798662212416,1.3845799049888303,-1.378963965645226,-0.519571255210273,1.4442675469554762,-0.5705819989697787,-0.5135575214998415,-0.7725119707973551,0.4520162047149358,-0.7274765115358929,-1.3402720744289112,0.9327244040593339,-0.8271541013442341,-1.2064204344555705,0.3696430003742275,0.23974555131411265,-1.68529161912587,0.5231163706104487,0.6402595816400246,-0.043905994702309624,0.4468550288425965,0.37837924503019776,-0.033244845954011386,-1.1977701838216634,0.39756580016298637,-0.7081412455264934,0.5402103482032428,-1.8552901543432505,1.0089939294346084,1.587105528275671,-0.5601097082171755,0.11665409539915697,-0.5745241401224672,-2.558207307961996,-0.5339083790451622,-1.4864995681419446,-0.2949479595475197,0.6295343657985574,0.42971820599591787,1.5498386531740298,0.5916490519789844,-0.3998257461066869,1.9127966678340154,0.30283673972582165,0.24201125897767198,-1.7144830491064178,0.4238364675698964,0.60177217016106,-0.6508979705447588],\"yaxis\":\"y2\",\"type\":\"scatter\"},{\"line\":{\"color\":\"rgba(128, 128, 128, 1.0)\",\"dash\":\"solid\",\"shape\":\"linear\",\"width\":1.3},\"marker\":{\"size\":2,\"symbol\":\"circle\"},\"mode\":\"markers\",\"name\":\"A\",\"text\":\"\",\"x\":[-0.1710539717238674,0.6761120036186342,-0.6364901882466849,0.5068375166337368,0.8587563554081904,0.8815777839520635,1.7981957622905946,0.23629650342768097,-1.2654142235465151,0.9985852638112375,1.0140967677490105,1.9213050225984043,1.147118897460104,-0.5571080126333299,-1.5966228700302354,0.7799340936002608,-0.9773101083967402,1.197839159404519,-1.5107967182448119,-0.13519320205885943,-0.11407554694339425,0.0416244963029414,-0.11694785669789755,0.32555050158578663,-0.581746887771692,0.7537911994443084,-0.5051520940880653,-3.1224181613669932,0.25322090179614604,-1.709347508989651,-0.574636669754101,0.0307936632530043,-1.2285030245784847,0.2656927014665348,-0.3068950514033596,0.13240715579408738,0.8374575862869191,-1.3021623768791744,-1.819165996897542,-0.7589988455347925,-0.37555023383268366,0.17703412808151636,0.9212274812957582,2.235090436534782,0.22806047835346205,-0.15965213524816327,-1.8462801463145255,-0.5847352598471942,0.33665541167019086,0.7156454581545579,0.4518459352615333,0.3768602525240975,-1.0481059079241228,0.9391230146671161,-0.81760338429349,-1.8081487207564184,0.17743167887350544,1.039677816301545,-0.49954238815551105,-1.42924711355474,1.3219961035554446,-0.9393760389550331,0.3283685130185671,-0.23167200407406047,1.709823808775834,0.43803745965810165,0.8056695588712278,-0.8815625206777283,0.8010039094881437,0.7753082267979359,-0.6605696943285191,-0.40442949350905255,2.20673145237434,2.2480674660485405,2.60938032100713,0.543699479190823,0.1969871874266927,-0.15677733024887777,0.6339198380731179,1.4695236211918865,-0.46258878245316276,-1.417929581243472,-0.6428942336220342,-1.8015303901752648,-1.0836442298731181,0.7834492930937946,1.4690474511013203,-0.5667873756382681,-0.81138244564651,0.9312761917561393,0.8170173053211249,-0.2515329718182992,-0.7498444640254841,-1.051743373588905,0.004355898780761671,-0.14234496449937195,1.3343658157166423,1.1580565675560939,-0.6588853733842952,0.7278643918332525],\"xaxis\":\"x3\",\"y\":[0.7206021595231069,0.600148426769176,0.4104359743616993,1.5970755667006848,-1.2936619515577568,-0.8247653726117883,0.8635716441218286,0.9641754730341981,-0.023983744104136718,0.8936011658880695,-0.3997818395932563,-0.6968882043136051,-1.163879408522421,0.24301016267096173,1.5061934436070503,2.2293327935101708,-1.2735706894259167,0.07670212200171866,0.42749763295537124,-0.8362156804531724,0.23760756881529357,0.6125021013936939,0.9474786308756106,0.5792285211320449,-0.022141338115392657,0.1780786293235384,-0.4378983347210052,-1.9641912957964793,0.5884103102817879,1.2261746210124682,0.36692568501522266,0.5338772876220805,-1.0129881243922954,-0.05828206366226157,-0.4542632899292565,-0.9545712927080492,-0.4462063781298266,1.7850698534429827,-1.5714742286027275,-1.700569442248487,-0.7669013707864606,-3.131367504486959,-1.059983984922948,1.4162638414930868,1.6704485316623467,-0.939130190447798,0.8100608368265246,1.4254927278950735,0.28241386798408846,-0.20653442472757128,-1.745147679318256,-1.6430798662212416,1.3845799049888303,-1.378963965645226,-0.519571255210273,1.4442675469554762,-0.5705819989697787,-0.5135575214998415,-0.7725119707973551,0.4520162047149358,-0.7274765115358929,-1.3402720744289112,0.9327244040593339,-0.8271541013442341,-1.2064204344555705,0.3696430003742275,0.23974555131411265,-1.68529161912587,0.5231163706104487,0.6402595816400246,-0.043905994702309624,0.4468550288425965,0.37837924503019776,-0.033244845954011386,-1.1977701838216634,0.39756580016298637,-0.7081412455264934,0.5402103482032428,-1.8552901543432505,1.0089939294346084,1.587105528275671,-0.5601097082171755,0.11665409539915697,-0.5745241401224672,-2.558207307961996,-0.5339083790451622,-1.4864995681419446,-0.2949479595475197,0.6295343657985574,0.42971820599591787,1.5498386531740298,0.5916490519789844,-0.3998257461066869,1.9127966678340154,0.30283673972582165,0.24201125897767198,-1.7144830491064178,0.4238364675698964,0.60177217016106,-0.6508979705447588],\"yaxis\":\"y3\",\"type\":\"scatter\"},{\"line\":{\"color\":\"rgba(128, 128, 128, 1.0)\",\"dash\":\"solid\",\"shape\":\"linear\",\"width\":1.3},\"marker\":{\"size\":2,\"symbol\":\"circle\"},\"mode\":\"markers\",\"name\":\"A\",\"text\":\"\",\"x\":[-0.7745862644908448,0.5042041435436856,0.11653223204023365,-1.1959229444741741,-0.27292696862939264,0.9223229138279102,-0.0846199316096227,0.01953093084833903,0.6355269183584646,0.6666909985417896,0.6043012254606308,0.27396348046715746,-2.629516675257851,0.2797430559701173,0.4514205345986516,-0.7914312739174943,0.19240316995779333,1.4023278833167279,0.9432499771843861,1.100283579418994,-2.6576910228587836,1.220608012005847,0.4463762203629547,1.0628130916520049,-0.08333665257748994,-0.8198554339209732,0.08681325176953446,0.002710946088567911,-0.9134745712232382,-1.3781752896942985,-0.49077781599685016,0.7299785382485134,-0.374019643846917,0.43339476120969894,2.1120018359857964,-0.07222056301967658,-1.118430611101756,0.4993823157143268,0.7955688060257385,-0.3882653775714211,0.8007652045697838,-1.643699036934892,-1.9886441019258725,1.4829454813526062,-0.9416601411402572,0.15063360347531604,0.14947421761858792,-0.060953335646296604,0.35351471505754173,-0.08085370059267592,-1.0652731210957525,-1.4754535838547946,0.6744817451168268,-1.8282248056546728,0.23187428799008547,-1.4106370686259977,-0.11648195669724136,-0.5618073610721529,0.2428333967215472,0.5161467385849521,0.948845713709916,0.07121176051622159,-0.2594612478430401,0.5682260787378328,0.6442418035769039,0.16342408166701317,0.6225775683828786,-1.5409881668264611,-0.3367059484787146,0.3606308288750878,0.24475939866764343,1.6498950074974856,-1.1609072949372032,-1.240376311437029,-1.3595294482528577,-0.4989867375652803,-0.994521889530649,0.5238788685754128,-0.5126883562085743,1.638572633652777,1.1704216773919038,-0.3892984266145127,-1.9701693154051056,0.9541009998491473,-0.38294091155112997,-0.37783741567692064,0.007545114995654143,1.0102458239343455,-0.08041770515079398,-0.4099862221534074,-0.839011880668791,-0.8332599606848795,-1.058238678493066,-0.8706724320299088,-0.5342859606428391,-0.9274468507913998,0.8428645004405348,0.0021456148799246432,-0.7677208360543195,1.1517078376841599],\"xaxis\":\"x4\",\"y\":[0.7206021595231069,0.600148426769176,0.4104359743616993,1.5970755667006848,-1.2936619515577568,-0.8247653726117883,0.8635716441218286,0.9641754730341981,-0.023983744104136718,0.8936011658880695,-0.3997818395932563,-0.6968882043136051,-1.163879408522421,0.24301016267096173,1.5061934436070503,2.2293327935101708,-1.2735706894259167,0.07670212200171866,0.42749763295537124,-0.8362156804531724,0.23760756881529357,0.6125021013936939,0.9474786308756106,0.5792285211320449,-0.022141338115392657,0.1780786293235384,-0.4378983347210052,-1.9641912957964793,0.5884103102817879,1.2261746210124682,0.36692568501522266,0.5338772876220805,-1.0129881243922954,-0.05828206366226157,-0.4542632899292565,-0.9545712927080492,-0.4462063781298266,1.7850698534429827,-1.5714742286027275,-1.700569442248487,-0.7669013707864606,-3.131367504486959,-1.059983984922948,1.4162638414930868,1.6704485316623467,-0.939130190447798,0.8100608368265246,1.4254927278950735,0.28241386798408846,-0.20653442472757128,-1.745147679318256,-1.6430798662212416,1.3845799049888303,-1.378963965645226,-0.519571255210273,1.4442675469554762,-0.5705819989697787,-0.5135575214998415,-0.7725119707973551,0.4520162047149358,-0.7274765115358929,-1.3402720744289112,0.9327244040593339,-0.8271541013442341,-1.2064204344555705,0.3696430003742275,0.23974555131411265,-1.68529161912587,0.5231163706104487,0.6402595816400246,-0.043905994702309624,0.4468550288425965,0.37837924503019776,-0.033244845954011386,-1.1977701838216634,0.39756580016298637,-0.7081412455264934,0.5402103482032428,-1.8552901543432505,1.0089939294346084,1.587105528275671,-0.5601097082171755,0.11665409539915697,-0.5745241401224672,-2.558207307961996,-0.5339083790451622,-1.4864995681419446,-0.2949479595475197,0.6295343657985574,0.42971820599591787,1.5498386531740298,0.5916490519789844,-0.3998257461066869,1.9127966678340154,0.30283673972582165,0.24201125897767198,-1.7144830491064178,0.4238364675698964,0.60177217016106,-0.6508979705447588],\"yaxis\":\"y4\",\"type\":\"scatter\"},{\"line\":{\"color\":\"rgba(128, 128, 128, 1.0)\",\"dash\":\"solid\",\"shape\":\"linear\",\"width\":1.3},\"marker\":{\"size\":2,\"symbol\":\"circle\"},\"mode\":\"markers\",\"name\":\"B\",\"text\":\"\",\"x\":[0.7206021595231069,0.600148426769176,0.4104359743616993,1.5970755667006848,-1.2936619515577568,-0.8247653726117883,0.8635716441218286,0.9641754730341981,-0.023983744104136718,0.8936011658880695,-0.3997818395932563,-0.6968882043136051,-1.163879408522421,0.24301016267096173,1.5061934436070503,2.2293327935101708,-1.2735706894259167,0.07670212200171866,0.42749763295537124,-0.8362156804531724,0.23760756881529357,0.6125021013936939,0.9474786308756106,0.5792285211320449,-0.022141338115392657,0.1780786293235384,-0.4378983347210052,-1.9641912957964793,0.5884103102817879,1.2261746210124682,0.36692568501522266,0.5338772876220805,-1.0129881243922954,-0.05828206366226157,-0.4542632899292565,-0.9545712927080492,-0.4462063781298266,1.7850698534429827,-1.5714742286027275,-1.700569442248487,-0.7669013707864606,-3.131367504486959,-1.059983984922948,1.4162638414930868,1.6704485316623467,-0.939130190447798,0.8100608368265246,1.4254927278950735,0.28241386798408846,-0.20653442472757128,-1.745147679318256,-1.6430798662212416,1.3845799049888303,-1.378963965645226,-0.519571255210273,1.4442675469554762,-0.5705819989697787,-0.5135575214998415,-0.7725119707973551,0.4520162047149358,-0.7274765115358929,-1.3402720744289112,0.9327244040593339,-0.8271541013442341,-1.2064204344555705,0.3696430003742275,0.23974555131411265,-1.68529161912587,0.5231163706104487,0.6402595816400246,-0.043905994702309624,0.4468550288425965,0.37837924503019776,-0.033244845954011386,-1.1977701838216634,0.39756580016298637,-0.7081412455264934,0.5402103482032428,-1.8552901543432505,1.0089939294346084,1.587105528275671,-0.5601097082171755,0.11665409539915697,-0.5745241401224672,-2.558207307961996,-0.5339083790451622,-1.4864995681419446,-0.2949479595475197,0.6295343657985574,0.42971820599591787,1.5498386531740298,0.5916490519789844,-0.3998257461066869,1.9127966678340154,0.30283673972582165,0.24201125897767198,-1.7144830491064178,0.4238364675698964,0.60177217016106,-0.6508979705447588],\"xaxis\":\"x5\",\"y\":[0.4790002364284842,-0.5339133712050166,-0.2551232292121737,0.7500620133948723,1.0639226831377517,0.3028647755916625,0.0977690423356316,-0.3951140303210251,-0.9550331925745601,-0.7764745770247691,-1.4300120636784552,0.722590320396416,0.06063841933463821,0.03610652845611828,-0.537856030516011,-0.078808592696729,-0.3114260012747389,-0.8941588607600373,-0.5808384159219051,0.3834337532738288,0.483711206092414,1.6829763180132218,-0.8919742536174792,0.950467512521074,-0.08625549152922969,1.2167158329958416,-0.033911930360870084,-1.9700550067826965,-0.02574803290346344,0.3794547728684391,-1.4103559279651778,1.0208301284403738,-1.6901429429533048,1.5697762867784217,-1.1365048100216353,-0.16786990398521856,-1.3683080519549378,0.6732207688411338,-0.724524608367036,-1.6556190684717973,1.405498473751612,-1.585448471793164,0.39518907167519784,0.15531514996168058,-0.4328193574850774,-0.8375570848807239,2.0230704348373942,-0.17582755292970423,1.9225970664687468,-1.5139377738915847,-0.4490913077935091,1.2021633853196803,-1.1047775425974564,0.7485099120378153,-0.8506817463527888,-0.1508540110465642,-0.4806223905826818,-0.009409878169259062,-0.13773066448041185,0.9187758383578031,0.24586887682641126,-0.4105378015561218,0.7002100378602496,1.0152904608914048,-0.05662237441840279,-1.1519555057371014,0.47741060260304125,-0.9356334286067687,-0.2816607396441667,1.2079854210569332,-0.9374091758648114,0.33622495387200485,0.017240232316663457,0.6281700912130026,-1.001311001407909,-0.01697870692670627,-1.6009597764633763,0.12951776927639422,-0.4318016346568667,0.6446717409546772,-1.765416896232608,-0.6206312391014545,-0.5616885246922951,1.5158834462222572,0.40289717199054675,0.7031019990192451,-0.7247400440690024,-2.2789079087356514,0.9516348236040112,0.5500106106728779,-0.6256799087748532,-1.2447989248999347,-1.5713689300682712,1.6189765467065518,-0.352213379315518,-1.418362779696527,1.0450315791300482,0.15528639631566069,0.4511257837375593,-0.18485970986316355],\"yaxis\":\"y5\",\"type\":\"scatter\"},{\"histfunc\":\"count\",\"histnorm\":\"\",\"marker\":{\"color\":\"rgba(55, 128, 191, 1.0)\",\"line\":{\"color\":\"#4D5663\",\"width\":1.3}},\"name\":\"B\",\"nbinsx\":10,\"opacity\":0.8,\"orientation\":\"v\",\"x\":[0.4790002364284842,-0.5339133712050166,-0.2551232292121737,0.7500620133948723,1.0639226831377517,0.3028647755916625,0.0977690423356316,-0.3951140303210251,-0.9550331925745601,-0.7764745770247691,-1.4300120636784552,0.722590320396416,0.06063841933463821,0.03610652845611828,-0.537856030516011,-0.078808592696729,-0.3114260012747389,-0.8941588607600373,-0.5808384159219051,0.3834337532738288,0.483711206092414,1.6829763180132218,-0.8919742536174792,0.950467512521074,-0.08625549152922969,1.2167158329958416,-0.033911930360870084,-1.9700550067826965,-0.02574803290346344,0.3794547728684391,-1.4103559279651778,1.0208301284403738,-1.6901429429533048,1.5697762867784217,-1.1365048100216353,-0.16786990398521856,-1.3683080519549378,0.6732207688411338,-0.724524608367036,-1.6556190684717973,1.405498473751612,-1.585448471793164,0.39518907167519784,0.15531514996168058,-0.4328193574850774,-0.8375570848807239,2.0230704348373942,-0.17582755292970423,1.9225970664687468,-1.5139377738915847,-0.4490913077935091,1.2021633853196803,-1.1047775425974564,0.7485099120378153,-0.8506817463527888,-0.1508540110465642,-0.4806223905826818,-0.009409878169259062,-0.13773066448041185,0.9187758383578031,0.24586887682641126,-0.4105378015561218,0.7002100378602496,1.0152904608914048,-0.05662237441840279,-1.1519555057371014,0.47741060260304125,-0.9356334286067687,-0.2816607396441667,1.2079854210569332,-0.9374091758648114,0.33622495387200485,0.017240232316663457,0.6281700912130026,-1.001311001407909,-0.01697870692670627,-1.6009597764633763,0.12951776927639422,-0.4318016346568667,0.6446717409546772,-1.765416896232608,-0.6206312391014545,-0.5616885246922951,1.5158834462222572,0.40289717199054675,0.7031019990192451,-0.7247400440690024,-2.2789079087356514,0.9516348236040112,0.5500106106728779,-0.6256799087748532,-1.2447989248999347,-1.5713689300682712,1.6189765467065518,-0.352213379315518,-1.418362779696527,1.0450315791300482,0.15528639631566069,0.4511257837375593,-0.18485970986316355],\"xaxis\":\"x6\",\"yaxis\":\"y6\",\"type\":\"histogram\"},{\"line\":{\"color\":\"rgba(128, 128, 128, 1.0)\",\"dash\":\"solid\",\"shape\":\"linear\",\"width\":1.3},\"marker\":{\"size\":2,\"symbol\":\"circle\"},\"mode\":\"markers\",\"name\":\"B\",\"text\":\"\",\"x\":[-0.1710539717238674,0.6761120036186342,-0.6364901882466849,0.5068375166337368,0.8587563554081904,0.8815777839520635,1.7981957622905946,0.23629650342768097,-1.2654142235465151,0.9985852638112375,1.0140967677490105,1.9213050225984043,1.147118897460104,-0.5571080126333299,-1.5966228700302354,0.7799340936002608,-0.9773101083967402,1.197839159404519,-1.5107967182448119,-0.13519320205885943,-0.11407554694339425,0.0416244963029414,-0.11694785669789755,0.32555050158578663,-0.581746887771692,0.7537911994443084,-0.5051520940880653,-3.1224181613669932,0.25322090179614604,-1.709347508989651,-0.574636669754101,0.0307936632530043,-1.2285030245784847,0.2656927014665348,-0.3068950514033596,0.13240715579408738,0.8374575862869191,-1.3021623768791744,-1.819165996897542,-0.7589988455347925,-0.37555023383268366,0.17703412808151636,0.9212274812957582,2.235090436534782,0.22806047835346205,-0.15965213524816327,-1.8462801463145255,-0.5847352598471942,0.33665541167019086,0.7156454581545579,0.4518459352615333,0.3768602525240975,-1.0481059079241228,0.9391230146671161,-0.81760338429349,-1.8081487207564184,0.17743167887350544,1.039677816301545,-0.49954238815551105,-1.42924711355474,1.3219961035554446,-0.9393760389550331,0.3283685130185671,-0.23167200407406047,1.709823808775834,0.43803745965810165,0.8056695588712278,-0.8815625206777283,0.8010039094881437,0.7753082267979359,-0.6605696943285191,-0.40442949350905255,2.20673145237434,2.2480674660485405,2.60938032100713,0.543699479190823,0.1969871874266927,-0.15677733024887777,0.6339198380731179,1.4695236211918865,-0.46258878245316276,-1.417929581243472,-0.6428942336220342,-1.8015303901752648,-1.0836442298731181,0.7834492930937946,1.4690474511013203,-0.5667873756382681,-0.81138244564651,0.9312761917561393,0.8170173053211249,-0.2515329718182992,-0.7498444640254841,-1.051743373588905,0.004355898780761671,-0.14234496449937195,1.3343658157166423,1.1580565675560939,-0.6588853733842952,0.7278643918332525],\"xaxis\":\"x7\",\"y\":[0.4790002364284842,-0.5339133712050166,-0.2551232292121737,0.7500620133948723,1.0639226831377517,0.3028647755916625,0.0977690423356316,-0.3951140303210251,-0.9550331925745601,-0.7764745770247691,-1.4300120636784552,0.722590320396416,0.06063841933463821,0.03610652845611828,-0.537856030516011,-0.078808592696729,-0.3114260012747389,-0.8941588607600373,-0.5808384159219051,0.3834337532738288,0.483711206092414,1.6829763180132218,-0.8919742536174792,0.950467512521074,-0.08625549152922969,1.2167158329958416,-0.033911930360870084,-1.9700550067826965,-0.02574803290346344,0.3794547728684391,-1.4103559279651778,1.0208301284403738,-1.6901429429533048,1.5697762867784217,-1.1365048100216353,-0.16786990398521856,-1.3683080519549378,0.6732207688411338,-0.724524608367036,-1.6556190684717973,1.405498473751612,-1.585448471793164,0.39518907167519784,0.15531514996168058,-0.4328193574850774,-0.8375570848807239,2.0230704348373942,-0.17582755292970423,1.9225970664687468,-1.5139377738915847,-0.4490913077935091,1.2021633853196803,-1.1047775425974564,0.7485099120378153,-0.8506817463527888,-0.1508540110465642,-0.4806223905826818,-0.009409878169259062,-0.13773066448041185,0.9187758383578031,0.24586887682641126,-0.4105378015561218,0.7002100378602496,1.0152904608914048,-0.05662237441840279,-1.1519555057371014,0.47741060260304125,-0.9356334286067687,-0.2816607396441667,1.2079854210569332,-0.9374091758648114,0.33622495387200485,0.017240232316663457,0.6281700912130026,-1.001311001407909,-0.01697870692670627,-1.6009597764633763,0.12951776927639422,-0.4318016346568667,0.6446717409546772,-1.765416896232608,-0.6206312391014545,-0.5616885246922951,1.5158834462222572,0.40289717199054675,0.7031019990192451,-0.7247400440690024,-2.2789079087356514,0.9516348236040112,0.5500106106728779,-0.6256799087748532,-1.2447989248999347,-1.5713689300682712,1.6189765467065518,-0.352213379315518,-1.418362779696527,1.0450315791300482,0.15528639631566069,0.4511257837375593,-0.18485970986316355],\"yaxis\":\"y7\",\"type\":\"scatter\"},{\"line\":{\"color\":\"rgba(128, 128, 128, 1.0)\",\"dash\":\"solid\",\"shape\":\"linear\",\"width\":1.3},\"marker\":{\"size\":2,\"symbol\":\"circle\"},\"mode\":\"markers\",\"name\":\"B\",\"text\":\"\",\"x\":[-0.7745862644908448,0.5042041435436856,0.11653223204023365,-1.1959229444741741,-0.27292696862939264,0.9223229138279102,-0.0846199316096227,0.01953093084833903,0.6355269183584646,0.6666909985417896,0.6043012254606308,0.27396348046715746,-2.629516675257851,0.2797430559701173,0.4514205345986516,-0.7914312739174943,0.19240316995779333,1.4023278833167279,0.9432499771843861,1.100283579418994,-2.6576910228587836,1.220608012005847,0.4463762203629547,1.0628130916520049,-0.08333665257748994,-0.8198554339209732,0.08681325176953446,0.002710946088567911,-0.9134745712232382,-1.3781752896942985,-0.49077781599685016,0.7299785382485134,-0.374019643846917,0.43339476120969894,2.1120018359857964,-0.07222056301967658,-1.118430611101756,0.4993823157143268,0.7955688060257385,-0.3882653775714211,0.8007652045697838,-1.643699036934892,-1.9886441019258725,1.4829454813526062,-0.9416601411402572,0.15063360347531604,0.14947421761858792,-0.060953335646296604,0.35351471505754173,-0.08085370059267592,-1.0652731210957525,-1.4754535838547946,0.6744817451168268,-1.8282248056546728,0.23187428799008547,-1.4106370686259977,-0.11648195669724136,-0.5618073610721529,0.2428333967215472,0.5161467385849521,0.948845713709916,0.07121176051622159,-0.2594612478430401,0.5682260787378328,0.6442418035769039,0.16342408166701317,0.6225775683828786,-1.5409881668264611,-0.3367059484787146,0.3606308288750878,0.24475939866764343,1.6498950074974856,-1.1609072949372032,-1.240376311437029,-1.3595294482528577,-0.4989867375652803,-0.994521889530649,0.5238788685754128,-0.5126883562085743,1.638572633652777,1.1704216773919038,-0.3892984266145127,-1.9701693154051056,0.9541009998491473,-0.38294091155112997,-0.37783741567692064,0.007545114995654143,1.0102458239343455,-0.08041770515079398,-0.4099862221534074,-0.839011880668791,-0.8332599606848795,-1.058238678493066,-0.8706724320299088,-0.5342859606428391,-0.9274468507913998,0.8428645004405348,0.0021456148799246432,-0.7677208360543195,1.1517078376841599],\"xaxis\":\"x8\",\"y\":[0.4790002364284842,-0.5339133712050166,-0.2551232292121737,0.7500620133948723,1.0639226831377517,0.3028647755916625,0.0977690423356316,-0.3951140303210251,-0.9550331925745601,-0.7764745770247691,-1.4300120636784552,0.722590320396416,0.06063841933463821,0.03610652845611828,-0.537856030516011,-0.078808592696729,-0.3114260012747389,-0.8941588607600373,-0.5808384159219051,0.3834337532738288,0.483711206092414,1.6829763180132218,-0.8919742536174792,0.950467512521074,-0.08625549152922969,1.2167158329958416,-0.033911930360870084,-1.9700550067826965,-0.02574803290346344,0.3794547728684391,-1.4103559279651778,1.0208301284403738,-1.6901429429533048,1.5697762867784217,-1.1365048100216353,-0.16786990398521856,-1.3683080519549378,0.6732207688411338,-0.724524608367036,-1.6556190684717973,1.405498473751612,-1.585448471793164,0.39518907167519784,0.15531514996168058,-0.4328193574850774,-0.8375570848807239,2.0230704348373942,-0.17582755292970423,1.9225970664687468,-1.5139377738915847,-0.4490913077935091,1.2021633853196803,-1.1047775425974564,0.7485099120378153,-0.8506817463527888,-0.1508540110465642,-0.4806223905826818,-0.009409878169259062,-0.13773066448041185,0.9187758383578031,0.24586887682641126,-0.4105378015561218,0.7002100378602496,1.0152904608914048,-0.05662237441840279,-1.1519555057371014,0.47741060260304125,-0.9356334286067687,-0.2816607396441667,1.2079854210569332,-0.9374091758648114,0.33622495387200485,0.017240232316663457,0.6281700912130026,-1.001311001407909,-0.01697870692670627,-1.6009597764633763,0.12951776927639422,-0.4318016346568667,0.6446717409546772,-1.765416896232608,-0.6206312391014545,-0.5616885246922951,1.5158834462222572,0.40289717199054675,0.7031019990192451,-0.7247400440690024,-2.2789079087356514,0.9516348236040112,0.5500106106728779,-0.6256799087748532,-1.2447989248999347,-1.5713689300682712,1.6189765467065518,-0.352213379315518,-1.418362779696527,1.0450315791300482,0.15528639631566069,0.4511257837375593,-0.18485970986316355],\"yaxis\":\"y8\",\"type\":\"scatter\"},{\"line\":{\"color\":\"rgba(128, 128, 128, 1.0)\",\"dash\":\"solid\",\"shape\":\"linear\",\"width\":1.3},\"marker\":{\"size\":2,\"symbol\":\"circle\"},\"mode\":\"markers\",\"name\":\"C\",\"text\":\"\",\"x\":[0.7206021595231069,0.600148426769176,0.4104359743616993,1.5970755667006848,-1.2936619515577568,-0.8247653726117883,0.8635716441218286,0.9641754730341981,-0.023983744104136718,0.8936011658880695,-0.3997818395932563,-0.6968882043136051,-1.163879408522421,0.24301016267096173,1.5061934436070503,2.2293327935101708,-1.2735706894259167,0.07670212200171866,0.42749763295537124,-0.8362156804531724,0.23760756881529357,0.6125021013936939,0.9474786308756106,0.5792285211320449,-0.022141338115392657,0.1780786293235384,-0.4378983347210052,-1.9641912957964793,0.5884103102817879,1.2261746210124682,0.36692568501522266,0.5338772876220805,-1.0129881243922954,-0.05828206366226157,-0.4542632899292565,-0.9545712927080492,-0.4462063781298266,1.7850698534429827,-1.5714742286027275,-1.700569442248487,-0.7669013707864606,-3.131367504486959,-1.059983984922948,1.4162638414930868,1.6704485316623467,-0.939130190447798,0.8100608368265246,1.4254927278950735,0.28241386798408846,-0.20653442472757128,-1.745147679318256,-1.6430798662212416,1.3845799049888303,-1.378963965645226,-0.519571255210273,1.4442675469554762,-0.5705819989697787,-0.5135575214998415,-0.7725119707973551,0.4520162047149358,-0.7274765115358929,-1.3402720744289112,0.9327244040593339,-0.8271541013442341,-1.2064204344555705,0.3696430003742275,0.23974555131411265,-1.68529161912587,0.5231163706104487,0.6402595816400246,-0.043905994702309624,0.4468550288425965,0.37837924503019776,-0.033244845954011386,-1.1977701838216634,0.39756580016298637,-0.7081412455264934,0.5402103482032428,-1.8552901543432505,1.0089939294346084,1.587105528275671,-0.5601097082171755,0.11665409539915697,-0.5745241401224672,-2.558207307961996,-0.5339083790451622,-1.4864995681419446,-0.2949479595475197,0.6295343657985574,0.42971820599591787,1.5498386531740298,0.5916490519789844,-0.3998257461066869,1.9127966678340154,0.30283673972582165,0.24201125897767198,-1.7144830491064178,0.4238364675698964,0.60177217016106,-0.6508979705447588],\"xaxis\":\"x9\",\"y\":[-0.1710539717238674,0.6761120036186342,-0.6364901882466849,0.5068375166337368,0.8587563554081904,0.8815777839520635,1.7981957622905946,0.23629650342768097,-1.2654142235465151,0.9985852638112375,1.0140967677490105,1.9213050225984043,1.147118897460104,-0.5571080126333299,-1.5966228700302354,0.7799340936002608,-0.9773101083967402,1.197839159404519,-1.5107967182448119,-0.13519320205885943,-0.11407554694339425,0.0416244963029414,-0.11694785669789755,0.32555050158578663,-0.581746887771692,0.7537911994443084,-0.5051520940880653,-3.1224181613669932,0.25322090179614604,-1.709347508989651,-0.574636669754101,0.0307936632530043,-1.2285030245784847,0.2656927014665348,-0.3068950514033596,0.13240715579408738,0.8374575862869191,-1.3021623768791744,-1.819165996897542,-0.7589988455347925,-0.37555023383268366,0.17703412808151636,0.9212274812957582,2.235090436534782,0.22806047835346205,-0.15965213524816327,-1.8462801463145255,-0.5847352598471942,0.33665541167019086,0.7156454581545579,0.4518459352615333,0.3768602525240975,-1.0481059079241228,0.9391230146671161,-0.81760338429349,-1.8081487207564184,0.17743167887350544,1.039677816301545,-0.49954238815551105,-1.42924711355474,1.3219961035554446,-0.9393760389550331,0.3283685130185671,-0.23167200407406047,1.709823808775834,0.43803745965810165,0.8056695588712278,-0.8815625206777283,0.8010039094881437,0.7753082267979359,-0.6605696943285191,-0.40442949350905255,2.20673145237434,2.2480674660485405,2.60938032100713,0.543699479190823,0.1969871874266927,-0.15677733024887777,0.6339198380731179,1.4695236211918865,-0.46258878245316276,-1.417929581243472,-0.6428942336220342,-1.8015303901752648,-1.0836442298731181,0.7834492930937946,1.4690474511013203,-0.5667873756382681,-0.81138244564651,0.9312761917561393,0.8170173053211249,-0.2515329718182992,-0.7498444640254841,-1.051743373588905,0.004355898780761671,-0.14234496449937195,1.3343658157166423,1.1580565675560939,-0.6588853733842952,0.7278643918332525],\"yaxis\":\"y9\",\"type\":\"scatter\"},{\"line\":{\"color\":\"rgba(128, 128, 128, 1.0)\",\"dash\":\"solid\",\"shape\":\"linear\",\"width\":1.3},\"marker\":{\"size\":2,\"symbol\":\"circle\"},\"mode\":\"markers\",\"name\":\"C\",\"text\":\"\",\"x\":[0.4790002364284842,-0.5339133712050166,-0.2551232292121737,0.7500620133948723,1.0639226831377517,0.3028647755916625,0.0977690423356316,-0.3951140303210251,-0.9550331925745601,-0.7764745770247691,-1.4300120636784552,0.722590320396416,0.06063841933463821,0.03610652845611828,-0.537856030516011,-0.078808592696729,-0.3114260012747389,-0.8941588607600373,-0.5808384159219051,0.3834337532738288,0.483711206092414,1.6829763180132218,-0.8919742536174792,0.950467512521074,-0.08625549152922969,1.2167158329958416,-0.033911930360870084,-1.9700550067826965,-0.02574803290346344,0.3794547728684391,-1.4103559279651778,1.0208301284403738,-1.6901429429533048,1.5697762867784217,-1.1365048100216353,-0.16786990398521856,-1.3683080519549378,0.6732207688411338,-0.724524608367036,-1.6556190684717973,1.405498473751612,-1.585448471793164,0.39518907167519784,0.15531514996168058,-0.4328193574850774,-0.8375570848807239,2.0230704348373942,-0.17582755292970423,1.9225970664687468,-1.5139377738915847,-0.4490913077935091,1.2021633853196803,-1.1047775425974564,0.7485099120378153,-0.8506817463527888,-0.1508540110465642,-0.4806223905826818,-0.009409878169259062,-0.13773066448041185,0.9187758383578031,0.24586887682641126,-0.4105378015561218,0.7002100378602496,1.0152904608914048,-0.05662237441840279,-1.1519555057371014,0.47741060260304125,-0.9356334286067687,-0.2816607396441667,1.2079854210569332,-0.9374091758648114,0.33622495387200485,0.017240232316663457,0.6281700912130026,-1.001311001407909,-0.01697870692670627,-1.6009597764633763,0.12951776927639422,-0.4318016346568667,0.6446717409546772,-1.765416896232608,-0.6206312391014545,-0.5616885246922951,1.5158834462222572,0.40289717199054675,0.7031019990192451,-0.7247400440690024,-2.2789079087356514,0.9516348236040112,0.5500106106728779,-0.6256799087748532,-1.2447989248999347,-1.5713689300682712,1.6189765467065518,-0.352213379315518,-1.418362779696527,1.0450315791300482,0.15528639631566069,0.4511257837375593,-0.18485970986316355],\"xaxis\":\"x10\",\"y\":[-0.1710539717238674,0.6761120036186342,-0.6364901882466849,0.5068375166337368,0.8587563554081904,0.8815777839520635,1.7981957622905946,0.23629650342768097,-1.2654142235465151,0.9985852638112375,1.0140967677490105,1.9213050225984043,1.147118897460104,-0.5571080126333299,-1.5966228700302354,0.7799340936002608,-0.9773101083967402,1.197839159404519,-1.5107967182448119,-0.13519320205885943,-0.11407554694339425,0.0416244963029414,-0.11694785669789755,0.32555050158578663,-0.581746887771692,0.7537911994443084,-0.5051520940880653,-3.1224181613669932,0.25322090179614604,-1.709347508989651,-0.574636669754101,0.0307936632530043,-1.2285030245784847,0.2656927014665348,-0.3068950514033596,0.13240715579408738,0.8374575862869191,-1.3021623768791744,-1.819165996897542,-0.7589988455347925,-0.37555023383268366,0.17703412808151636,0.9212274812957582,2.235090436534782,0.22806047835346205,-0.15965213524816327,-1.8462801463145255,-0.5847352598471942,0.33665541167019086,0.7156454581545579,0.4518459352615333,0.3768602525240975,-1.0481059079241228,0.9391230146671161,-0.81760338429349,-1.8081487207564184,0.17743167887350544,1.039677816301545,-0.49954238815551105,-1.42924711355474,1.3219961035554446,-0.9393760389550331,0.3283685130185671,-0.23167200407406047,1.709823808775834,0.43803745965810165,0.8056695588712278,-0.8815625206777283,0.8010039094881437,0.7753082267979359,-0.6605696943285191,-0.40442949350905255,2.20673145237434,2.2480674660485405,2.60938032100713,0.543699479190823,0.1969871874266927,-0.15677733024887777,0.6339198380731179,1.4695236211918865,-0.46258878245316276,-1.417929581243472,-0.6428942336220342,-1.8015303901752648,-1.0836442298731181,0.7834492930937946,1.4690474511013203,-0.5667873756382681,-0.81138244564651,0.9312761917561393,0.8170173053211249,-0.2515329718182992,-0.7498444640254841,-1.051743373588905,0.004355898780761671,-0.14234496449937195,1.3343658157166423,1.1580565675560939,-0.6588853733842952,0.7278643918332525],\"yaxis\":\"y10\",\"type\":\"scatter\"},{\"histfunc\":\"count\",\"histnorm\":\"\",\"marker\":{\"color\":\"rgba(50, 171, 96, 1.0)\",\"line\":{\"color\":\"#4D5663\",\"width\":1.3}},\"name\":\"C\",\"nbinsx\":10,\"opacity\":0.8,\"orientation\":\"v\",\"x\":[-0.1710539717238674,0.6761120036186342,-0.6364901882466849,0.5068375166337368,0.8587563554081904,0.8815777839520635,1.7981957622905946,0.23629650342768097,-1.2654142235465151,0.9985852638112375,1.0140967677490105,1.9213050225984043,1.147118897460104,-0.5571080126333299,-1.5966228700302354,0.7799340936002608,-0.9773101083967402,1.197839159404519,-1.5107967182448119,-0.13519320205885943,-0.11407554694339425,0.0416244963029414,-0.11694785669789755,0.32555050158578663,-0.581746887771692,0.7537911994443084,-0.5051520940880653,-3.1224181613669932,0.25322090179614604,-1.709347508989651,-0.574636669754101,0.0307936632530043,-1.2285030245784847,0.2656927014665348,-0.3068950514033596,0.13240715579408738,0.8374575862869191,-1.3021623768791744,-1.819165996897542,-0.7589988455347925,-0.37555023383268366,0.17703412808151636,0.9212274812957582,2.235090436534782,0.22806047835346205,-0.15965213524816327,-1.8462801463145255,-0.5847352598471942,0.33665541167019086,0.7156454581545579,0.4518459352615333,0.3768602525240975,-1.0481059079241228,0.9391230146671161,-0.81760338429349,-1.8081487207564184,0.17743167887350544,1.039677816301545,-0.49954238815551105,-1.42924711355474,1.3219961035554446,-0.9393760389550331,0.3283685130185671,-0.23167200407406047,1.709823808775834,0.43803745965810165,0.8056695588712278,-0.8815625206777283,0.8010039094881437,0.7753082267979359,-0.6605696943285191,-0.40442949350905255,2.20673145237434,2.2480674660485405,2.60938032100713,0.543699479190823,0.1969871874266927,-0.15677733024887777,0.6339198380731179,1.4695236211918865,-0.46258878245316276,-1.417929581243472,-0.6428942336220342,-1.8015303901752648,-1.0836442298731181,0.7834492930937946,1.4690474511013203,-0.5667873756382681,-0.81138244564651,0.9312761917561393,0.8170173053211249,-0.2515329718182992,-0.7498444640254841,-1.051743373588905,0.004355898780761671,-0.14234496449937195,1.3343658157166423,1.1580565675560939,-0.6588853733842952,0.7278643918332525],\"xaxis\":\"x11\",\"yaxis\":\"y11\",\"type\":\"histogram\"},{\"line\":{\"color\":\"rgba(128, 128, 128, 1.0)\",\"dash\":\"solid\",\"shape\":\"linear\",\"width\":1.3},\"marker\":{\"size\":2,\"symbol\":\"circle\"},\"mode\":\"markers\",\"name\":\"C\",\"text\":\"\",\"x\":[-0.7745862644908448,0.5042041435436856,0.11653223204023365,-1.1959229444741741,-0.27292696862939264,0.9223229138279102,-0.0846199316096227,0.01953093084833903,0.6355269183584646,0.6666909985417896,0.6043012254606308,0.27396348046715746,-2.629516675257851,0.2797430559701173,0.4514205345986516,-0.7914312739174943,0.19240316995779333,1.4023278833167279,0.9432499771843861,1.100283579418994,-2.6576910228587836,1.220608012005847,0.4463762203629547,1.0628130916520049,-0.08333665257748994,-0.8198554339209732,0.08681325176953446,0.002710946088567911,-0.9134745712232382,-1.3781752896942985,-0.49077781599685016,0.7299785382485134,-0.374019643846917,0.43339476120969894,2.1120018359857964,-0.07222056301967658,-1.118430611101756,0.4993823157143268,0.7955688060257385,-0.3882653775714211,0.8007652045697838,-1.643699036934892,-1.9886441019258725,1.4829454813526062,-0.9416601411402572,0.15063360347531604,0.14947421761858792,-0.060953335646296604,0.35351471505754173,-0.08085370059267592,-1.0652731210957525,-1.4754535838547946,0.6744817451168268,-1.8282248056546728,0.23187428799008547,-1.4106370686259977,-0.11648195669724136,-0.5618073610721529,0.2428333967215472,0.5161467385849521,0.948845713709916,0.07121176051622159,-0.2594612478430401,0.5682260787378328,0.6442418035769039,0.16342408166701317,0.6225775683828786,-1.5409881668264611,-0.3367059484787146,0.3606308288750878,0.24475939866764343,1.6498950074974856,-1.1609072949372032,-1.240376311437029,-1.3595294482528577,-0.4989867375652803,-0.994521889530649,0.5238788685754128,-0.5126883562085743,1.638572633652777,1.1704216773919038,-0.3892984266145127,-1.9701693154051056,0.9541009998491473,-0.38294091155112997,-0.37783741567692064,0.007545114995654143,1.0102458239343455,-0.08041770515079398,-0.4099862221534074,-0.839011880668791,-0.8332599606848795,-1.058238678493066,-0.8706724320299088,-0.5342859606428391,-0.9274468507913998,0.8428645004405348,0.0021456148799246432,-0.7677208360543195,1.1517078376841599],\"xaxis\":\"x12\",\"y\":[-0.1710539717238674,0.6761120036186342,-0.6364901882466849,0.5068375166337368,0.8587563554081904,0.8815777839520635,1.7981957622905946,0.23629650342768097,-1.2654142235465151,0.9985852638112375,1.0140967677490105,1.9213050225984043,1.147118897460104,-0.5571080126333299,-1.5966228700302354,0.7799340936002608,-0.9773101083967402,1.197839159404519,-1.5107967182448119,-0.13519320205885943,-0.11407554694339425,0.0416244963029414,-0.11694785669789755,0.32555050158578663,-0.581746887771692,0.7537911994443084,-0.5051520940880653,-3.1224181613669932,0.25322090179614604,-1.709347508989651,-0.574636669754101,0.0307936632530043,-1.2285030245784847,0.2656927014665348,-0.3068950514033596,0.13240715579408738,0.8374575862869191,-1.3021623768791744,-1.819165996897542,-0.7589988455347925,-0.37555023383268366,0.17703412808151636,0.9212274812957582,2.235090436534782,0.22806047835346205,-0.15965213524816327,-1.8462801463145255,-0.5847352598471942,0.33665541167019086,0.7156454581545579,0.4518459352615333,0.3768602525240975,-1.0481059079241228,0.9391230146671161,-0.81760338429349,-1.8081487207564184,0.17743167887350544,1.039677816301545,-0.49954238815551105,-1.42924711355474,1.3219961035554446,-0.9393760389550331,0.3283685130185671,-0.23167200407406047,1.709823808775834,0.43803745965810165,0.8056695588712278,-0.8815625206777283,0.8010039094881437,0.7753082267979359,-0.6605696943285191,-0.40442949350905255,2.20673145237434,2.2480674660485405,2.60938032100713,0.543699479190823,0.1969871874266927,-0.15677733024887777,0.6339198380731179,1.4695236211918865,-0.46258878245316276,-1.417929581243472,-0.6428942336220342,-1.8015303901752648,-1.0836442298731181,0.7834492930937946,1.4690474511013203,-0.5667873756382681,-0.81138244564651,0.9312761917561393,0.8170173053211249,-0.2515329718182992,-0.7498444640254841,-1.051743373588905,0.004355898780761671,-0.14234496449937195,1.3343658157166423,1.1580565675560939,-0.6588853733842952,0.7278643918332525],\"yaxis\":\"y12\",\"type\":\"scatter\"},{\"line\":{\"color\":\"rgba(128, 128, 128, 1.0)\",\"dash\":\"solid\",\"shape\":\"linear\",\"width\":1.3},\"marker\":{\"size\":2,\"symbol\":\"circle\"},\"mode\":\"markers\",\"name\":\"D\",\"text\":\"\",\"x\":[0.7206021595231069,0.600148426769176,0.4104359743616993,1.5970755667006848,-1.2936619515577568,-0.8247653726117883,0.8635716441218286,0.9641754730341981,-0.023983744104136718,0.8936011658880695,-0.3997818395932563,-0.6968882043136051,-1.163879408522421,0.24301016267096173,1.5061934436070503,2.2293327935101708,-1.2735706894259167,0.07670212200171866,0.42749763295537124,-0.8362156804531724,0.23760756881529357,0.6125021013936939,0.9474786308756106,0.5792285211320449,-0.022141338115392657,0.1780786293235384,-0.4378983347210052,-1.9641912957964793,0.5884103102817879,1.2261746210124682,0.36692568501522266,0.5338772876220805,-1.0129881243922954,-0.05828206366226157,-0.4542632899292565,-0.9545712927080492,-0.4462063781298266,1.7850698534429827,-1.5714742286027275,-1.700569442248487,-0.7669013707864606,-3.131367504486959,-1.059983984922948,1.4162638414930868,1.6704485316623467,-0.939130190447798,0.8100608368265246,1.4254927278950735,0.28241386798408846,-0.20653442472757128,-1.745147679318256,-1.6430798662212416,1.3845799049888303,-1.378963965645226,-0.519571255210273,1.4442675469554762,-0.5705819989697787,-0.5135575214998415,-0.7725119707973551,0.4520162047149358,-0.7274765115358929,-1.3402720744289112,0.9327244040593339,-0.8271541013442341,-1.2064204344555705,0.3696430003742275,0.23974555131411265,-1.68529161912587,0.5231163706104487,0.6402595816400246,-0.043905994702309624,0.4468550288425965,0.37837924503019776,-0.033244845954011386,-1.1977701838216634,0.39756580016298637,-0.7081412455264934,0.5402103482032428,-1.8552901543432505,1.0089939294346084,1.587105528275671,-0.5601097082171755,0.11665409539915697,-0.5745241401224672,-2.558207307961996,-0.5339083790451622,-1.4864995681419446,-0.2949479595475197,0.6295343657985574,0.42971820599591787,1.5498386531740298,0.5916490519789844,-0.3998257461066869,1.9127966678340154,0.30283673972582165,0.24201125897767198,-1.7144830491064178,0.4238364675698964,0.60177217016106,-0.6508979705447588],\"xaxis\":\"x13\",\"y\":[-0.7745862644908448,0.5042041435436856,0.11653223204023365,-1.1959229444741741,-0.27292696862939264,0.9223229138279102,-0.0846199316096227,0.01953093084833903,0.6355269183584646,0.6666909985417896,0.6043012254606308,0.27396348046715746,-2.629516675257851,0.2797430559701173,0.4514205345986516,-0.7914312739174943,0.19240316995779333,1.4023278833167279,0.9432499771843861,1.100283579418994,-2.6576910228587836,1.220608012005847,0.4463762203629547,1.0628130916520049,-0.08333665257748994,-0.8198554339209732,0.08681325176953446,0.002710946088567911,-0.9134745712232382,-1.3781752896942985,-0.49077781599685016,0.7299785382485134,-0.374019643846917,0.43339476120969894,2.1120018359857964,-0.07222056301967658,-1.118430611101756,0.4993823157143268,0.7955688060257385,-0.3882653775714211,0.8007652045697838,-1.643699036934892,-1.9886441019258725,1.4829454813526062,-0.9416601411402572,0.15063360347531604,0.14947421761858792,-0.060953335646296604,0.35351471505754173,-0.08085370059267592,-1.0652731210957525,-1.4754535838547946,0.6744817451168268,-1.8282248056546728,0.23187428799008547,-1.4106370686259977,-0.11648195669724136,-0.5618073610721529,0.2428333967215472,0.5161467385849521,0.948845713709916,0.07121176051622159,-0.2594612478430401,0.5682260787378328,0.6442418035769039,0.16342408166701317,0.6225775683828786,-1.5409881668264611,-0.3367059484787146,0.3606308288750878,0.24475939866764343,1.6498950074974856,-1.1609072949372032,-1.240376311437029,-1.3595294482528577,-0.4989867375652803,-0.994521889530649,0.5238788685754128,-0.5126883562085743,1.638572633652777,1.1704216773919038,-0.3892984266145127,-1.9701693154051056,0.9541009998491473,-0.38294091155112997,-0.37783741567692064,0.007545114995654143,1.0102458239343455,-0.08041770515079398,-0.4099862221534074,-0.839011880668791,-0.8332599606848795,-1.058238678493066,-0.8706724320299088,-0.5342859606428391,-0.9274468507913998,0.8428645004405348,0.0021456148799246432,-0.7677208360543195,1.1517078376841599],\"yaxis\":\"y13\",\"type\":\"scatter\"},{\"line\":{\"color\":\"rgba(128, 128, 128, 1.0)\",\"dash\":\"solid\",\"shape\":\"linear\",\"width\":1.3},\"marker\":{\"size\":2,\"symbol\":\"circle\"},\"mode\":\"markers\",\"name\":\"D\",\"text\":\"\",\"x\":[0.4790002364284842,-0.5339133712050166,-0.2551232292121737,0.7500620133948723,1.0639226831377517,0.3028647755916625,0.0977690423356316,-0.3951140303210251,-0.9550331925745601,-0.7764745770247691,-1.4300120636784552,0.722590320396416,0.06063841933463821,0.03610652845611828,-0.537856030516011,-0.078808592696729,-0.3114260012747389,-0.8941588607600373,-0.5808384159219051,0.3834337532738288,0.483711206092414,1.6829763180132218,-0.8919742536174792,0.950467512521074,-0.08625549152922969,1.2167158329958416,-0.033911930360870084,-1.9700550067826965,-0.02574803290346344,0.3794547728684391,-1.4103559279651778,1.0208301284403738,-1.6901429429533048,1.5697762867784217,-1.1365048100216353,-0.16786990398521856,-1.3683080519549378,0.6732207688411338,-0.724524608367036,-1.6556190684717973,1.405498473751612,-1.585448471793164,0.39518907167519784,0.15531514996168058,-0.4328193574850774,-0.8375570848807239,2.0230704348373942,-0.17582755292970423,1.9225970664687468,-1.5139377738915847,-0.4490913077935091,1.2021633853196803,-1.1047775425974564,0.7485099120378153,-0.8506817463527888,-0.1508540110465642,-0.4806223905826818,-0.009409878169259062,-0.13773066448041185,0.9187758383578031,0.24586887682641126,-0.4105378015561218,0.7002100378602496,1.0152904608914048,-0.05662237441840279,-1.1519555057371014,0.47741060260304125,-0.9356334286067687,-0.2816607396441667,1.2079854210569332,-0.9374091758648114,0.33622495387200485,0.017240232316663457,0.6281700912130026,-1.001311001407909,-0.01697870692670627,-1.6009597764633763,0.12951776927639422,-0.4318016346568667,0.6446717409546772,-1.765416896232608,-0.6206312391014545,-0.5616885246922951,1.5158834462222572,0.40289717199054675,0.7031019990192451,-0.7247400440690024,-2.2789079087356514,0.9516348236040112,0.5500106106728779,-0.6256799087748532,-1.2447989248999347,-1.5713689300682712,1.6189765467065518,-0.352213379315518,-1.418362779696527,1.0450315791300482,0.15528639631566069,0.4511257837375593,-0.18485970986316355],\"xaxis\":\"x14\",\"y\":[-0.7745862644908448,0.5042041435436856,0.11653223204023365,-1.1959229444741741,-0.27292696862939264,0.9223229138279102,-0.0846199316096227,0.01953093084833903,0.6355269183584646,0.6666909985417896,0.6043012254606308,0.27396348046715746,-2.629516675257851,0.2797430559701173,0.4514205345986516,-0.7914312739174943,0.19240316995779333,1.4023278833167279,0.9432499771843861,1.100283579418994,-2.6576910228587836,1.220608012005847,0.4463762203629547,1.0628130916520049,-0.08333665257748994,-0.8198554339209732,0.08681325176953446,0.002710946088567911,-0.9134745712232382,-1.3781752896942985,-0.49077781599685016,0.7299785382485134,-0.374019643846917,0.43339476120969894,2.1120018359857964,-0.07222056301967658,-1.118430611101756,0.4993823157143268,0.7955688060257385,-0.3882653775714211,0.8007652045697838,-1.643699036934892,-1.9886441019258725,1.4829454813526062,-0.9416601411402572,0.15063360347531604,0.14947421761858792,-0.060953335646296604,0.35351471505754173,-0.08085370059267592,-1.0652731210957525,-1.4754535838547946,0.6744817451168268,-1.8282248056546728,0.23187428799008547,-1.4106370686259977,-0.11648195669724136,-0.5618073610721529,0.2428333967215472,0.5161467385849521,0.948845713709916,0.07121176051622159,-0.2594612478430401,0.5682260787378328,0.6442418035769039,0.16342408166701317,0.6225775683828786,-1.5409881668264611,-0.3367059484787146,0.3606308288750878,0.24475939866764343,1.6498950074974856,-1.1609072949372032,-1.240376311437029,-1.3595294482528577,-0.4989867375652803,-0.994521889530649,0.5238788685754128,-0.5126883562085743,1.638572633652777,1.1704216773919038,-0.3892984266145127,-1.9701693154051056,0.9541009998491473,-0.38294091155112997,-0.37783741567692064,0.007545114995654143,1.0102458239343455,-0.08041770515079398,-0.4099862221534074,-0.839011880668791,-0.8332599606848795,-1.058238678493066,-0.8706724320299088,-0.5342859606428391,-0.9274468507913998,0.8428645004405348,0.0021456148799246432,-0.7677208360543195,1.1517078376841599],\"yaxis\":\"y14\",\"type\":\"scatter\"},{\"line\":{\"color\":\"rgba(128, 128, 128, 1.0)\",\"dash\":\"solid\",\"shape\":\"linear\",\"width\":1.3},\"marker\":{\"size\":2,\"symbol\":\"circle\"},\"mode\":\"markers\",\"name\":\"D\",\"text\":\"\",\"x\":[-0.1710539717238674,0.6761120036186342,-0.6364901882466849,0.5068375166337368,0.8587563554081904,0.8815777839520635,1.7981957622905946,0.23629650342768097,-1.2654142235465151,0.9985852638112375,1.0140967677490105,1.9213050225984043,1.147118897460104,-0.5571080126333299,-1.5966228700302354,0.7799340936002608,-0.9773101083967402,1.197839159404519,-1.5107967182448119,-0.13519320205885943,-0.11407554694339425,0.0416244963029414,-0.11694785669789755,0.32555050158578663,-0.581746887771692,0.7537911994443084,-0.5051520940880653,-3.1224181613669932,0.25322090179614604,-1.709347508989651,-0.574636669754101,0.0307936632530043,-1.2285030245784847,0.2656927014665348,-0.3068950514033596,0.13240715579408738,0.8374575862869191,-1.3021623768791744,-1.819165996897542,-0.7589988455347925,-0.37555023383268366,0.17703412808151636,0.9212274812957582,2.235090436534782,0.22806047835346205,-0.15965213524816327,-1.8462801463145255,-0.5847352598471942,0.33665541167019086,0.7156454581545579,0.4518459352615333,0.3768602525240975,-1.0481059079241228,0.9391230146671161,-0.81760338429349,-1.8081487207564184,0.17743167887350544,1.039677816301545,-0.49954238815551105,-1.42924711355474,1.3219961035554446,-0.9393760389550331,0.3283685130185671,-0.23167200407406047,1.709823808775834,0.43803745965810165,0.8056695588712278,-0.8815625206777283,0.8010039094881437,0.7753082267979359,-0.6605696943285191,-0.40442949350905255,2.20673145237434,2.2480674660485405,2.60938032100713,0.543699479190823,0.1969871874266927,-0.15677733024887777,0.6339198380731179,1.4695236211918865,-0.46258878245316276,-1.417929581243472,-0.6428942336220342,-1.8015303901752648,-1.0836442298731181,0.7834492930937946,1.4690474511013203,-0.5667873756382681,-0.81138244564651,0.9312761917561393,0.8170173053211249,-0.2515329718182992,-0.7498444640254841,-1.051743373588905,0.004355898780761671,-0.14234496449937195,1.3343658157166423,1.1580565675560939,-0.6588853733842952,0.7278643918332525],\"xaxis\":\"x15\",\"y\":[-0.7745862644908448,0.5042041435436856,0.11653223204023365,-1.1959229444741741,-0.27292696862939264,0.9223229138279102,-0.0846199316096227,0.01953093084833903,0.6355269183584646,0.6666909985417896,0.6043012254606308,0.27396348046715746,-2.629516675257851,0.2797430559701173,0.4514205345986516,-0.7914312739174943,0.19240316995779333,1.4023278833167279,0.9432499771843861,1.100283579418994,-2.6576910228587836,1.220608012005847,0.4463762203629547,1.0628130916520049,-0.08333665257748994,-0.8198554339209732,0.08681325176953446,0.002710946088567911,-0.9134745712232382,-1.3781752896942985,-0.49077781599685016,0.7299785382485134,-0.374019643846917,0.43339476120969894,2.1120018359857964,-0.07222056301967658,-1.118430611101756,0.4993823157143268,0.7955688060257385,-0.3882653775714211,0.8007652045697838,-1.643699036934892,-1.9886441019258725,1.4829454813526062,-0.9416601411402572,0.15063360347531604,0.14947421761858792,-0.060953335646296604,0.35351471505754173,-0.08085370059267592,-1.0652731210957525,-1.4754535838547946,0.6744817451168268,-1.8282248056546728,0.23187428799008547,-1.4106370686259977,-0.11648195669724136,-0.5618073610721529,0.2428333967215472,0.5161467385849521,0.948845713709916,0.07121176051622159,-0.2594612478430401,0.5682260787378328,0.6442418035769039,0.16342408166701317,0.6225775683828786,-1.5409881668264611,-0.3367059484787146,0.3606308288750878,0.24475939866764343,1.6498950074974856,-1.1609072949372032,-1.240376311437029,-1.3595294482528577,-0.4989867375652803,-0.994521889530649,0.5238788685754128,-0.5126883562085743,1.638572633652777,1.1704216773919038,-0.3892984266145127,-1.9701693154051056,0.9541009998491473,-0.38294091155112997,-0.37783741567692064,0.007545114995654143,1.0102458239343455,-0.08041770515079398,-0.4099862221534074,-0.839011880668791,-0.8332599606848795,-1.058238678493066,-0.8706724320299088,-0.5342859606428391,-0.9274468507913998,0.8428645004405348,0.0021456148799246432,-0.7677208360543195,1.1517078376841599],\"yaxis\":\"y15\",\"type\":\"scatter\"},{\"histfunc\":\"count\",\"histnorm\":\"\",\"marker\":{\"color\":\"rgba(128, 0, 128, 1.0)\",\"line\":{\"color\":\"#4D5663\",\"width\":1.3}},\"name\":\"D\",\"nbinsx\":10,\"opacity\":0.8,\"orientation\":\"v\",\"x\":[-0.7745862644908448,0.5042041435436856,0.11653223204023365,-1.1959229444741741,-0.27292696862939264,0.9223229138279102,-0.0846199316096227,0.01953093084833903,0.6355269183584646,0.6666909985417896,0.6043012254606308,0.27396348046715746,-2.629516675257851,0.2797430559701173,0.4514205345986516,-0.7914312739174943,0.19240316995779333,1.4023278833167279,0.9432499771843861,1.100283579418994,-2.6576910228587836,1.220608012005847,0.4463762203629547,1.0628130916520049,-0.08333665257748994,-0.8198554339209732,0.08681325176953446,0.002710946088567911,-0.9134745712232382,-1.3781752896942985,-0.49077781599685016,0.7299785382485134,-0.374019643846917,0.43339476120969894,2.1120018359857964,-0.07222056301967658,-1.118430611101756,0.4993823157143268,0.7955688060257385,-0.3882653775714211,0.8007652045697838,-1.643699036934892,-1.9886441019258725,1.4829454813526062,-0.9416601411402572,0.15063360347531604,0.14947421761858792,-0.060953335646296604,0.35351471505754173,-0.08085370059267592,-1.0652731210957525,-1.4754535838547946,0.6744817451168268,-1.8282248056546728,0.23187428799008547,-1.4106370686259977,-0.11648195669724136,-0.5618073610721529,0.2428333967215472,0.5161467385849521,0.948845713709916,0.07121176051622159,-0.2594612478430401,0.5682260787378328,0.6442418035769039,0.16342408166701317,0.6225775683828786,-1.5409881668264611,-0.3367059484787146,0.3606308288750878,0.24475939866764343,1.6498950074974856,-1.1609072949372032,-1.240376311437029,-1.3595294482528577,-0.4989867375652803,-0.994521889530649,0.5238788685754128,-0.5126883562085743,1.638572633652777,1.1704216773919038,-0.3892984266145127,-1.9701693154051056,0.9541009998491473,-0.38294091155112997,-0.37783741567692064,0.007545114995654143,1.0102458239343455,-0.08041770515079398,-0.4099862221534074,-0.839011880668791,-0.8332599606848795,-1.058238678493066,-0.8706724320299088,-0.5342859606428391,-0.9274468507913998,0.8428645004405348,0.0021456148799246432,-0.7677208360543195,1.1517078376841599],\"xaxis\":\"x16\",\"yaxis\":\"y16\",\"type\":\"histogram\"}],                        {\"bargap\":0.02,\"legend\":{\"bgcolor\":\"#F5F6F9\",\"font\":{\"color\":\"#4D5663\"}},\"paper_bgcolor\":\"#F5F6F9\",\"plot_bgcolor\":\"#F5F6F9\",\"showlegend\":false,\"template\":{\"data\":{\"barpolar\":[{\"marker\":{\"line\":{\"color\":\"#E5ECF6\",\"width\":0.5},\"pattern\":{\"fillmode\":\"overlay\",\"size\":10,\"solidity\":0.2}},\"type\":\"barpolar\"}],\"bar\":[{\"error_x\":{\"color\":\"#2a3f5f\"},\"error_y\":{\"color\":\"#2a3f5f\"},\"marker\":{\"line\":{\"color\":\"#E5ECF6\",\"width\":0.5},\"pattern\":{\"fillmode\":\"overlay\",\"size\":10,\"solidity\":0.2}},\"type\":\"bar\"}],\"carpet\":[{\"aaxis\":{\"endlinecolor\":\"#2a3f5f\",\"gridcolor\":\"white\",\"linecolor\":\"white\",\"minorgridcolor\":\"white\",\"startlinecolor\":\"#2a3f5f\"},\"baxis\":{\"endlinecolor\":\"#2a3f5f\",\"gridcolor\":\"white\",\"linecolor\":\"white\",\"minorgridcolor\":\"white\",\"startlinecolor\":\"#2a3f5f\"},\"type\":\"carpet\"}],\"choropleth\":[{\"colorbar\":{\"outlinewidth\":0,\"ticks\":\"\"},\"type\":\"choropleth\"}],\"contourcarpet\":[{\"colorbar\":{\"outlinewidth\":0,\"ticks\":\"\"},\"type\":\"contourcarpet\"}],\"contour\":[{\"colorbar\":{\"outlinewidth\":0,\"ticks\":\"\"},\"colorscale\":[[0.0,\"#0d0887\"],[0.1111111111111111,\"#46039f\"],[0.2222222222222222,\"#7201a8\"],[0.3333333333333333,\"#9c179e\"],[0.4444444444444444,\"#bd3786\"],[0.5555555555555556,\"#d8576b\"],[0.6666666666666666,\"#ed7953\"],[0.7777777777777778,\"#fb9f3a\"],[0.8888888888888888,\"#fdca26\"],[1.0,\"#f0f921\"]],\"type\":\"contour\"}],\"heatmapgl\":[{\"colorbar\":{\"outlinewidth\":0,\"ticks\":\"\"},\"colorscale\":[[0.0,\"#0d0887\"],[0.1111111111111111,\"#46039f\"],[0.2222222222222222,\"#7201a8\"],[0.3333333333333333,\"#9c179e\"],[0.4444444444444444,\"#bd3786\"],[0.5555555555555556,\"#d8576b\"],[0.6666666666666666,\"#ed7953\"],[0.7777777777777778,\"#fb9f3a\"],[0.8888888888888888,\"#fdca26\"],[1.0,\"#f0f921\"]],\"type\":\"heatmapgl\"}],\"heatmap\":[{\"colorbar\":{\"outlinewidth\":0,\"ticks\":\"\"},\"colorscale\":[[0.0,\"#0d0887\"],[0.1111111111111111,\"#46039f\"],[0.2222222222222222,\"#7201a8\"],[0.3333333333333333,\"#9c179e\"],[0.4444444444444444,\"#bd3786\"],[0.5555555555555556,\"#d8576b\"],[0.6666666666666666,\"#ed7953\"],[0.7777777777777778,\"#fb9f3a\"],[0.8888888888888888,\"#fdca26\"],[1.0,\"#f0f921\"]],\"type\":\"heatmap\"}],\"histogram2dcontour\":[{\"colorbar\":{\"outlinewidth\":0,\"ticks\":\"\"},\"colorscale\":[[0.0,\"#0d0887\"],[0.1111111111111111,\"#46039f\"],[0.2222222222222222,\"#7201a8\"],[0.3333333333333333,\"#9c179e\"],[0.4444444444444444,\"#bd3786\"],[0.5555555555555556,\"#d8576b\"],[0.6666666666666666,\"#ed7953\"],[0.7777777777777778,\"#fb9f3a\"],[0.8888888888888888,\"#fdca26\"],[1.0,\"#f0f921\"]],\"type\":\"histogram2dcontour\"}],\"histogram2d\":[{\"colorbar\":{\"outlinewidth\":0,\"ticks\":\"\"},\"colorscale\":[[0.0,\"#0d0887\"],[0.1111111111111111,\"#46039f\"],[0.2222222222222222,\"#7201a8\"],[0.3333333333333333,\"#9c179e\"],[0.4444444444444444,\"#bd3786\"],[0.5555555555555556,\"#d8576b\"],[0.6666666666666666,\"#ed7953\"],[0.7777777777777778,\"#fb9f3a\"],[0.8888888888888888,\"#fdca26\"],[1.0,\"#f0f921\"]],\"type\":\"histogram2d\"}],\"histogram\":[{\"marker\":{\"pattern\":{\"fillmode\":\"overlay\",\"size\":10,\"solidity\":0.2}},\"type\":\"histogram\"}],\"mesh3d\":[{\"colorbar\":{\"outlinewidth\":0,\"ticks\":\"\"},\"type\":\"mesh3d\"}],\"parcoords\":[{\"line\":{\"colorbar\":{\"outlinewidth\":0,\"ticks\":\"\"}},\"type\":\"parcoords\"}],\"pie\":[{\"automargin\":true,\"type\":\"pie\"}],\"scatter3d\":[{\"line\":{\"colorbar\":{\"outlinewidth\":0,\"ticks\":\"\"}},\"marker\":{\"colorbar\":{\"outlinewidth\":0,\"ticks\":\"\"}},\"type\":\"scatter3d\"}],\"scattercarpet\":[{\"marker\":{\"colorbar\":{\"outlinewidth\":0,\"ticks\":\"\"}},\"type\":\"scattercarpet\"}],\"scattergeo\":[{\"marker\":{\"colorbar\":{\"outlinewidth\":0,\"ticks\":\"\"}},\"type\":\"scattergeo\"}],\"scattergl\":[{\"marker\":{\"colorbar\":{\"outlinewidth\":0,\"ticks\":\"\"}},\"type\":\"scattergl\"}],\"scattermapbox\":[{\"marker\":{\"colorbar\":{\"outlinewidth\":0,\"ticks\":\"\"}},\"type\":\"scattermapbox\"}],\"scatterpolargl\":[{\"marker\":{\"colorbar\":{\"outlinewidth\":0,\"ticks\":\"\"}},\"type\":\"scatterpolargl\"}],\"scatterpolar\":[{\"marker\":{\"colorbar\":{\"outlinewidth\":0,\"ticks\":\"\"}},\"type\":\"scatterpolar\"}],\"scatter\":[{\"marker\":{\"colorbar\":{\"outlinewidth\":0,\"ticks\":\"\"}},\"type\":\"scatter\"}],\"scatterternary\":[{\"marker\":{\"colorbar\":{\"outlinewidth\":0,\"ticks\":\"\"}},\"type\":\"scatterternary\"}],\"surface\":[{\"colorbar\":{\"outlinewidth\":0,\"ticks\":\"\"},\"colorscale\":[[0.0,\"#0d0887\"],[0.1111111111111111,\"#46039f\"],[0.2222222222222222,\"#7201a8\"],[0.3333333333333333,\"#9c179e\"],[0.4444444444444444,\"#bd3786\"],[0.5555555555555556,\"#d8576b\"],[0.6666666666666666,\"#ed7953\"],[0.7777777777777778,\"#fb9f3a\"],[0.8888888888888888,\"#fdca26\"],[1.0,\"#f0f921\"]],\"type\":\"surface\"}],\"table\":[{\"cells\":{\"fill\":{\"color\":\"#EBF0F8\"},\"line\":{\"color\":\"white\"}},\"header\":{\"fill\":{\"color\":\"#C8D4E3\"},\"line\":{\"color\":\"white\"}},\"type\":\"table\"}]},\"layout\":{\"annotationdefaults\":{\"arrowcolor\":\"#2a3f5f\",\"arrowhead\":0,\"arrowwidth\":1},\"autotypenumbers\":\"strict\",\"coloraxis\":{\"colorbar\":{\"outlinewidth\":0,\"ticks\":\"\"}},\"colorscale\":{\"diverging\":[[0,\"#8e0152\"],[0.1,\"#c51b7d\"],[0.2,\"#de77ae\"],[0.3,\"#f1b6da\"],[0.4,\"#fde0ef\"],[0.5,\"#f7f7f7\"],[0.6,\"#e6f5d0\"],[0.7,\"#b8e186\"],[0.8,\"#7fbc41\"],[0.9,\"#4d9221\"],[1,\"#276419\"]],\"sequential\":[[0.0,\"#0d0887\"],[0.1111111111111111,\"#46039f\"],[0.2222222222222222,\"#7201a8\"],[0.3333333333333333,\"#9c179e\"],[0.4444444444444444,\"#bd3786\"],[0.5555555555555556,\"#d8576b\"],[0.6666666666666666,\"#ed7953\"],[0.7777777777777778,\"#fb9f3a\"],[0.8888888888888888,\"#fdca26\"],[1.0,\"#f0f921\"]],\"sequentialminus\":[[0.0,\"#0d0887\"],[0.1111111111111111,\"#46039f\"],[0.2222222222222222,\"#7201a8\"],[0.3333333333333333,\"#9c179e\"],[0.4444444444444444,\"#bd3786\"],[0.5555555555555556,\"#d8576b\"],[0.6666666666666666,\"#ed7953\"],[0.7777777777777778,\"#fb9f3a\"],[0.8888888888888888,\"#fdca26\"],[1.0,\"#f0f921\"]]},\"colorway\":[\"#636efa\",\"#EF553B\",\"#00cc96\",\"#ab63fa\",\"#FFA15A\",\"#19d3f3\",\"#FF6692\",\"#B6E880\",\"#FF97FF\",\"#FECB52\"],\"font\":{\"color\":\"#2a3f5f\"},\"geo\":{\"bgcolor\":\"white\",\"lakecolor\":\"white\",\"landcolor\":\"#E5ECF6\",\"showlakes\":true,\"showland\":true,\"subunitcolor\":\"white\"},\"hoverlabel\":{\"align\":\"left\"},\"hovermode\":\"closest\",\"mapbox\":{\"style\":\"light\"},\"paper_bgcolor\":\"white\",\"plot_bgcolor\":\"#E5ECF6\",\"polar\":{\"angularaxis\":{\"gridcolor\":\"white\",\"linecolor\":\"white\",\"ticks\":\"\"},\"bgcolor\":\"#E5ECF6\",\"radialaxis\":{\"gridcolor\":\"white\",\"linecolor\":\"white\",\"ticks\":\"\"}},\"scene\":{\"xaxis\":{\"backgroundcolor\":\"#E5ECF6\",\"gridcolor\":\"white\",\"gridwidth\":2,\"linecolor\":\"white\",\"showbackground\":true,\"ticks\":\"\",\"zerolinecolor\":\"white\"},\"yaxis\":{\"backgroundcolor\":\"#E5ECF6\",\"gridcolor\":\"white\",\"gridwidth\":2,\"linecolor\":\"white\",\"showbackground\":true,\"ticks\":\"\",\"zerolinecolor\":\"white\"},\"zaxis\":{\"backgroundcolor\":\"#E5ECF6\",\"gridcolor\":\"white\",\"gridwidth\":2,\"linecolor\":\"white\",\"showbackground\":true,\"ticks\":\"\",\"zerolinecolor\":\"white\"}},\"shapedefaults\":{\"line\":{\"color\":\"#2a3f5f\"}},\"ternary\":{\"aaxis\":{\"gridcolor\":\"white\",\"linecolor\":\"white\",\"ticks\":\"\"},\"baxis\":{\"gridcolor\":\"white\",\"linecolor\":\"white\",\"ticks\":\"\"},\"bgcolor\":\"#E5ECF6\",\"caxis\":{\"gridcolor\":\"white\",\"linecolor\":\"white\",\"ticks\":\"\"}},\"title\":{\"x\":0.05},\"xaxis\":{\"automargin\":true,\"gridcolor\":\"white\",\"linecolor\":\"white\",\"ticks\":\"\",\"title\":{\"standoff\":15},\"zerolinecolor\":\"white\",\"zerolinewidth\":2},\"yaxis\":{\"automargin\":true,\"gridcolor\":\"white\",\"linecolor\":\"white\",\"ticks\":\"\",\"title\":{\"standoff\":15},\"zerolinecolor\":\"white\",\"zerolinewidth\":2}}},\"title\":{\"font\":{\"color\":\"#4D5663\"}},\"xaxis\":{\"anchor\":\"y\",\"domain\":[0.0,0.2125],\"gridcolor\":\"#E1E5ED\",\"showgrid\":false,\"tickfont\":{\"color\":\"#4D5663\"},\"title\":{\"font\":{\"color\":\"#4D5663\"},\"text\":\"\"},\"zerolinecolor\":\"#E1E5ED\"},\"yaxis\":{\"anchor\":\"x\",\"domain\":[0.8025,1.0],\"gridcolor\":\"#E1E5ED\",\"showgrid\":false,\"tickfont\":{\"color\":\"#4D5663\"},\"title\":{\"font\":{\"color\":\"#4D5663\"},\"text\":\"\"},\"zerolinecolor\":\"#E1E5ED\"},\"xaxis2\":{\"anchor\":\"y2\",\"domain\":[0.2625,0.475],\"gridcolor\":\"#E1E5ED\",\"showgrid\":false,\"tickfont\":{\"color\":\"#4D5663\"},\"title\":{\"font\":{\"color\":\"#4D5663\"},\"text\":\"\"},\"zerolinecolor\":\"#E1E5ED\"},\"yaxis2\":{\"anchor\":\"x2\",\"domain\":[0.8025,1.0],\"gridcolor\":\"#E1E5ED\",\"showgrid\":false,\"tickfont\":{\"color\":\"#4D5663\"},\"title\":{\"font\":{\"color\":\"#4D5663\"},\"text\":\"\"},\"zerolinecolor\":\"#E1E5ED\"},\"xaxis3\":{\"anchor\":\"y3\",\"domain\":[0.525,0.7375],\"gridcolor\":\"#E1E5ED\",\"showgrid\":false,\"tickfont\":{\"color\":\"#4D5663\"},\"title\":{\"font\":{\"color\":\"#4D5663\"},\"text\":\"\"},\"zerolinecolor\":\"#E1E5ED\"},\"yaxis3\":{\"anchor\":\"x3\",\"domain\":[0.8025,1.0],\"gridcolor\":\"#E1E5ED\",\"showgrid\":false,\"tickfont\":{\"color\":\"#4D5663\"},\"title\":{\"font\":{\"color\":\"#4D5663\"},\"text\":\"\"},\"zerolinecolor\":\"#E1E5ED\"},\"xaxis4\":{\"anchor\":\"y4\",\"domain\":[0.7875,1.0],\"gridcolor\":\"#E1E5ED\",\"showgrid\":false,\"tickfont\":{\"color\":\"#4D5663\"},\"title\":{\"font\":{\"color\":\"#4D5663\"},\"text\":\"\"},\"zerolinecolor\":\"#E1E5ED\"},\"yaxis4\":{\"anchor\":\"x4\",\"domain\":[0.8025,1.0],\"gridcolor\":\"#E1E5ED\",\"showgrid\":false,\"tickfont\":{\"color\":\"#4D5663\"},\"title\":{\"font\":{\"color\":\"#4D5663\"},\"text\":\"\"},\"zerolinecolor\":\"#E1E5ED\"},\"xaxis5\":{\"anchor\":\"y5\",\"domain\":[0.0,0.2125],\"gridcolor\":\"#E1E5ED\",\"showgrid\":false,\"tickfont\":{\"color\":\"#4D5663\"},\"title\":{\"font\":{\"color\":\"#4D5663\"},\"text\":\"\"},\"zerolinecolor\":\"#E1E5ED\"},\"yaxis5\":{\"anchor\":\"x5\",\"domain\":[0.535,0.7325],\"gridcolor\":\"#E1E5ED\",\"showgrid\":false,\"tickfont\":{\"color\":\"#4D5663\"},\"title\":{\"font\":{\"color\":\"#4D5663\"},\"text\":\"\"},\"zerolinecolor\":\"#E1E5ED\"},\"xaxis6\":{\"anchor\":\"y6\",\"domain\":[0.2625,0.475],\"gridcolor\":\"#E1E5ED\",\"showgrid\":false,\"tickfont\":{\"color\":\"#4D5663\"},\"title\":{\"font\":{\"color\":\"#4D5663\"},\"text\":\"\"},\"zerolinecolor\":\"#E1E5ED\"},\"yaxis6\":{\"anchor\":\"x6\",\"domain\":[0.535,0.7325],\"gridcolor\":\"#E1E5ED\",\"showgrid\":false,\"tickfont\":{\"color\":\"#4D5663\"},\"title\":{\"font\":{\"color\":\"#4D5663\"},\"text\":\"\"},\"zerolinecolor\":\"#E1E5ED\"},\"xaxis7\":{\"anchor\":\"y7\",\"domain\":[0.525,0.7375],\"gridcolor\":\"#E1E5ED\",\"showgrid\":false,\"tickfont\":{\"color\":\"#4D5663\"},\"title\":{\"font\":{\"color\":\"#4D5663\"},\"text\":\"\"},\"zerolinecolor\":\"#E1E5ED\"},\"yaxis7\":{\"anchor\":\"x7\",\"domain\":[0.535,0.7325],\"gridcolor\":\"#E1E5ED\",\"showgrid\":false,\"tickfont\":{\"color\":\"#4D5663\"},\"title\":{\"font\":{\"color\":\"#4D5663\"},\"text\":\"\"},\"zerolinecolor\":\"#E1E5ED\"},\"xaxis8\":{\"anchor\":\"y8\",\"domain\":[0.7875,1.0],\"gridcolor\":\"#E1E5ED\",\"showgrid\":false,\"tickfont\":{\"color\":\"#4D5663\"},\"title\":{\"font\":{\"color\":\"#4D5663\"},\"text\":\"\"},\"zerolinecolor\":\"#E1E5ED\"},\"yaxis8\":{\"anchor\":\"x8\",\"domain\":[0.535,0.7325],\"gridcolor\":\"#E1E5ED\",\"showgrid\":false,\"tickfont\":{\"color\":\"#4D5663\"},\"title\":{\"font\":{\"color\":\"#4D5663\"},\"text\":\"\"},\"zerolinecolor\":\"#E1E5ED\"},\"xaxis9\":{\"anchor\":\"y9\",\"domain\":[0.0,0.2125],\"gridcolor\":\"#E1E5ED\",\"showgrid\":false,\"tickfont\":{\"color\":\"#4D5663\"},\"title\":{\"font\":{\"color\":\"#4D5663\"},\"text\":\"\"},\"zerolinecolor\":\"#E1E5ED\"},\"yaxis9\":{\"anchor\":\"x9\",\"domain\":[0.2675,0.465],\"gridcolor\":\"#E1E5ED\",\"showgrid\":false,\"tickfont\":{\"color\":\"#4D5663\"},\"title\":{\"font\":{\"color\":\"#4D5663\"},\"text\":\"\"},\"zerolinecolor\":\"#E1E5ED\"},\"xaxis10\":{\"anchor\":\"y10\",\"domain\":[0.2625,0.475],\"gridcolor\":\"#E1E5ED\",\"showgrid\":false,\"tickfont\":{\"color\":\"#4D5663\"},\"title\":{\"font\":{\"color\":\"#4D5663\"},\"text\":\"\"},\"zerolinecolor\":\"#E1E5ED\"},\"yaxis10\":{\"anchor\":\"x10\",\"domain\":[0.2675,0.465],\"gridcolor\":\"#E1E5ED\",\"showgrid\":false,\"tickfont\":{\"color\":\"#4D5663\"},\"title\":{\"font\":{\"color\":\"#4D5663\"},\"text\":\"\"},\"zerolinecolor\":\"#E1E5ED\"},\"xaxis11\":{\"anchor\":\"y11\",\"domain\":[0.525,0.7375],\"gridcolor\":\"#E1E5ED\",\"showgrid\":false,\"tickfont\":{\"color\":\"#4D5663\"},\"title\":{\"font\":{\"color\":\"#4D5663\"},\"text\":\"\"},\"zerolinecolor\":\"#E1E5ED\"},\"yaxis11\":{\"anchor\":\"x11\",\"domain\":[0.2675,0.465],\"gridcolor\":\"#E1E5ED\",\"showgrid\":false,\"tickfont\":{\"color\":\"#4D5663\"},\"title\":{\"font\":{\"color\":\"#4D5663\"},\"text\":\"\"},\"zerolinecolor\":\"#E1E5ED\"},\"xaxis12\":{\"anchor\":\"y12\",\"domain\":[0.7875,1.0],\"gridcolor\":\"#E1E5ED\",\"showgrid\":false,\"tickfont\":{\"color\":\"#4D5663\"},\"title\":{\"font\":{\"color\":\"#4D5663\"},\"text\":\"\"},\"zerolinecolor\":\"#E1E5ED\"},\"yaxis12\":{\"anchor\":\"x12\",\"domain\":[0.2675,0.465],\"gridcolor\":\"#E1E5ED\",\"showgrid\":false,\"tickfont\":{\"color\":\"#4D5663\"},\"title\":{\"font\":{\"color\":\"#4D5663\"},\"text\":\"\"},\"zerolinecolor\":\"#E1E5ED\"},\"xaxis13\":{\"anchor\":\"y13\",\"domain\":[0.0,0.2125],\"gridcolor\":\"#E1E5ED\",\"showgrid\":false,\"tickfont\":{\"color\":\"#4D5663\"},\"title\":{\"font\":{\"color\":\"#4D5663\"},\"text\":\"\"},\"zerolinecolor\":\"#E1E5ED\"},\"yaxis13\":{\"anchor\":\"x13\",\"domain\":[0.0,0.1975],\"gridcolor\":\"#E1E5ED\",\"showgrid\":false,\"tickfont\":{\"color\":\"#4D5663\"},\"title\":{\"font\":{\"color\":\"#4D5663\"},\"text\":\"\"},\"zerolinecolor\":\"#E1E5ED\"},\"xaxis14\":{\"anchor\":\"y14\",\"domain\":[0.2625,0.475],\"gridcolor\":\"#E1E5ED\",\"showgrid\":false,\"tickfont\":{\"color\":\"#4D5663\"},\"title\":{\"font\":{\"color\":\"#4D5663\"},\"text\":\"\"},\"zerolinecolor\":\"#E1E5ED\"},\"yaxis14\":{\"anchor\":\"x14\",\"domain\":[0.0,0.1975],\"gridcolor\":\"#E1E5ED\",\"showgrid\":false,\"tickfont\":{\"color\":\"#4D5663\"},\"title\":{\"font\":{\"color\":\"#4D5663\"},\"text\":\"\"},\"zerolinecolor\":\"#E1E5ED\"},\"xaxis15\":{\"anchor\":\"y15\",\"domain\":[0.525,0.7375],\"gridcolor\":\"#E1E5ED\",\"showgrid\":false,\"tickfont\":{\"color\":\"#4D5663\"},\"title\":{\"font\":{\"color\":\"#4D5663\"},\"text\":\"\"},\"zerolinecolor\":\"#E1E5ED\"},\"yaxis15\":{\"anchor\":\"x15\",\"domain\":[0.0,0.1975],\"gridcolor\":\"#E1E5ED\",\"showgrid\":false,\"tickfont\":{\"color\":\"#4D5663\"},\"title\":{\"font\":{\"color\":\"#4D5663\"},\"text\":\"\"},\"zerolinecolor\":\"#E1E5ED\"},\"xaxis16\":{\"anchor\":\"y16\",\"domain\":[0.7875,1.0],\"gridcolor\":\"#E1E5ED\",\"showgrid\":false,\"tickfont\":{\"color\":\"#4D5663\"},\"title\":{\"font\":{\"color\":\"#4D5663\"},\"text\":\"\"},\"zerolinecolor\":\"#E1E5ED\"},\"yaxis16\":{\"anchor\":\"x16\",\"domain\":[0.0,0.1975],\"gridcolor\":\"#E1E5ED\",\"showgrid\":false,\"tickfont\":{\"color\":\"#4D5663\"},\"title\":{\"font\":{\"color\":\"#4D5663\"},\"text\":\"\"},\"zerolinecolor\":\"#E1E5ED\"}},                        {\"showLink\": true, \"linkText\": \"Export to plot.ly\", \"plotlyServerURL\": \"https://plot.ly\", \"responsive\": true}                    ).then(function(){\n",
       "                            \n",
       "var gd = document.getElementById('6ccb010c-b4d6-408f-a105-af0702afcb1f');\n",
       "var x = new MutationObserver(function (mutations, observer) {{\n",
       "        var display = window.getComputedStyle(gd).display;\n",
       "        if (!display || display === 'none') {{\n",
       "            console.log([gd, 'removed!']);\n",
       "            Plotly.purge(gd);\n",
       "            observer.disconnect();\n",
       "        }}\n",
       "}});\n",
       "\n",
       "// Listen for the removal of the full notebook cells\n",
       "var notebookContainer = gd.closest('#notebook-container');\n",
       "if (notebookContainer) {{\n",
       "    x.observe(notebookContainer, {childList: true});\n",
       "}}\n",
       "\n",
       "// Listen for the clearing of the current output cell\n",
       "var outputEl = gd.closest('.output');\n",
       "if (outputEl) {{\n",
       "    x.observe(outputEl, {childList: true});\n",
       "}}\n",
       "\n",
       "                        })                };                });            </script>        </div>"
      ]
     },
     "metadata": {},
     "output_type": "display_data"
    }
   ],
   "source": [
    "df.scatter_matrix()"
   ]
  },
  {
   "cell_type": "code",
   "execution_count": null,
   "id": "04b9e9b2",
   "metadata": {},
   "outputs": [],
   "source": []
  }
 ],
 "metadata": {
  "kernelspec": {
   "display_name": "Python 3 (ipykernel)",
   "language": "python",
   "name": "python3"
  },
  "language_info": {
   "codemirror_mode": {
    "name": "ipython",
    "version": 3
   },
   "file_extension": ".py",
   "mimetype": "text/x-python",
   "name": "python",
   "nbconvert_exporter": "python",
   "pygments_lexer": "ipython3",
   "version": "3.10.1"
  }
 },
 "nbformat": 4,
 "nbformat_minor": 5
}
