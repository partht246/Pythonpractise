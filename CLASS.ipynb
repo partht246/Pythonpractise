{
 "cells": [
  {
   "cell_type": "code",
   "execution_count": 22,
   "id": "f077f040",
   "metadata": {},
   "outputs": [
    {
     "ename": "IndentationError",
     "evalue": "expected an indented block after function definition on line 5 (3693241610.py, line 5)",
     "output_type": "error",
     "traceback": [
      "\u001b[1;36m  Input \u001b[1;32mIn [22]\u001b[1;36m\u001b[0m\n\u001b[1;33m    def drawcircle(self): # this do not seem to work\u001b[0m\n\u001b[1;37m                                                    ^\u001b[0m\n\u001b[1;31mIndentationError\u001b[0m\u001b[1;31m:\u001b[0m expected an indented block after function definition on line 5\n"
     ]
    }
   ],
   "source": [
    "class circle(object):\n",
    "    def __init__(self,radius,color):\n",
    "        self.radius= radius\n",
    "        self.color = color\n",
    "    def drawcircle(self): # this do not seem to work"
   ]
  },
  {
   "cell_type": "code",
   "execution_count": 20,
   "id": "4b30ebaa",
   "metadata": {},
   "outputs": [
    {
     "ename": "IndentationError",
     "evalue": "expected an indented block after function definition on line 1 (3834862169.py, line 1)",
     "output_type": "error",
     "traceback": [
      "\u001b[1;36m  Input \u001b[1;32mIn [20]\u001b[1;36m\u001b[0m\n\u001b[1;33m    def drawcircle(self):\u001b[0m\n\u001b[1;37m                         ^\u001b[0m\n\u001b[1;31mIndentationError\u001b[0m\u001b[1;31m:\u001b[0m expected an indented block after function definition on line 1\n"
     ]
    }
   ],
   "source": []
  },
  {
   "cell_type": "code",
   "execution_count": 11,
   "id": "f475a63b",
   "metadata": {},
   "outputs": [],
   "source": [
    "Redcircle = circle(10,'red')"
   ]
  },
  {
   "cell_type": "code",
   "execution_count": 12,
   "id": "1888923d",
   "metadata": {},
   "outputs": [
    {
     "data": {
      "text/plain": [
       "10"
      ]
     },
     "execution_count": 12,
     "metadata": {},
     "output_type": "execute_result"
    }
   ],
   "source": [
    "Redcircle.radius"
   ]
  },
  {
   "cell_type": "code",
   "execution_count": 13,
   "id": "693a6fe9",
   "metadata": {},
   "outputs": [
    {
     "data": {
      "text/plain": [
       "'red'"
      ]
     },
     "execution_count": 13,
     "metadata": {},
     "output_type": "execute_result"
    }
   ],
   "source": [
    "Redcircle.color"
   ]
  },
  {
   "cell_type": "code",
   "execution_count": 17,
   "id": "586b8d2b",
   "metadata": {},
   "outputs": [
    {
     "ename": "AttributeError",
     "evalue": "'circle' object has no attribute 'drawcircle'",
     "output_type": "error",
     "traceback": [
      "\u001b[1;31m---------------------------------------------------------------------------\u001b[0m",
      "\u001b[1;31mAttributeError\u001b[0m                            Traceback (most recent call last)",
      "Input \u001b[1;32mIn [17]\u001b[0m, in \u001b[0;36m<module>\u001b[1;34m\u001b[0m\n\u001b[1;32m----> 1\u001b[0m \u001b[43mRedcircle\u001b[49m\u001b[38;5;241;43m.\u001b[39;49m\u001b[43mdrawcircle\u001b[49m\n",
      "\u001b[1;31mAttributeError\u001b[0m: 'circle' object has no attribute 'drawcircle'"
     ]
    }
   ],
   "source": [
    "Redcircle.drawcircle"
   ]
  },
  {
   "cell_type": "code",
   "execution_count": null,
   "id": "80234860",
   "metadata": {},
   "outputs": [],
   "source": []
  }
 ],
 "metadata": {
  "kernelspec": {
   "display_name": "Python 3 (ipykernel)",
   "language": "python",
   "name": "python3"
  },
  "language_info": {
   "codemirror_mode": {
    "name": "ipython",
    "version": 3
   },
   "file_extension": ".py",
   "mimetype": "text/x-python",
   "name": "python",
   "nbconvert_exporter": "python",
   "pygments_lexer": "ipython3",
   "version": "3.10.1"
  }
 },
 "nbformat": 4,
 "nbformat_minor": 5
}
